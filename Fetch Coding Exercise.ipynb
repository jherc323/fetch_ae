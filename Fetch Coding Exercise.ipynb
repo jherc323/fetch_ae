{
 "cells": [
  {
   "cell_type": "markdown",
   "metadata": {
    "application/vnd.databricks.v1+cell": {
     "cellMetadata": {},
     "inputWidgets": {},
     "nuid": "4f33297b-6601-4fe5-a1b4-ad2bd155c138",
     "showTitle": false,
     "tableResultSettingsMap": {},
     "title": ""
    }
   },
   "source": [
    "#### Reading files and writing to delta tables"
   ]
  },
  {
   "cell_type": "code",
   "execution_count": 0,
   "metadata": {
    "application/vnd.databricks.v1+cell": {
     "cellMetadata": {
      "byteLimit": 2048000,
      "rowLimit": 10000
     },
     "inputWidgets": {},
     "nuid": "21428dcc-8683-42d4-a4cd-af908bff357c",
     "showTitle": false,
     "tableResultSettingsMap": {},
     "title": ""
    }
   },
   "outputs": [],
   "source": [
    "from pyspark.sql.functions import *"
   ]
  },
  {
   "cell_type": "code",
   "execution_count": 0,
   "metadata": {
    "application/vnd.databricks.v1+cell": {
     "cellMetadata": {
      "byteLimit": 2048000,
      "rowLimit": 10000
     },
     "inputWidgets": {},
     "nuid": "eaf12c43-36bc-47d5-b275-918cbc3aec97",
     "showTitle": false,
     "tableResultSettingsMap": {},
     "title": ""
    }
   },
   "outputs": [],
   "source": [
    "# Reading Files\n",
    "receiptsDF = spark.read.json(\"/Volumes/workspace/fetch/json_files/receipts.json\")\n",
    "usersDF = spark.read.json(\"/Volumes/workspace/fetch/json_files/users.json\")\n",
    "brandsDF = spark.read.json(\"/Volumes/workspace/fetch/json_files/brands.json\")\n",
    "\n",
    "# Creating dictionary of dataframes\n",
    "jsonDFs = {'receipts': receiptsDF, 'users': usersDF, 'brands': brandsDF}\n",
    "\n",
    "# Writing results to table\n",
    "for file in jsonDFs:\n",
    "  jsonDFs[file].write.format(\"delta\").saveAsTable(f\"fetch.{file}_raw\")"
   ]
  },
  {
   "cell_type": "markdown",
   "metadata": {
    "application/vnd.databricks.v1+cell": {
     "cellMetadata": {},
     "inputWidgets": {},
     "nuid": "ddce1c7f-e5fc-49a4-b35a-5180ca12e322",
     "showTitle": false,
     "tableResultSettingsMap": {},
     "title": ""
    }
   },
   "source": [
    "#### Cleaning Users\n",
    "* Following commands clean the users raw table and perform data quality checks against the data"
   ]
  },
  {
   "cell_type": "code",
   "execution_count": 0,
   "metadata": {
    "application/vnd.databricks.v1+cell": {
     "cellMetadata": {
      "byteLimit": 2048000,
      "implicitDf": true,
      "rowLimit": 10000
     },
     "inputWidgets": {},
     "nuid": "9d66372e-d7a3-43c8-bf0e-4dd386659df5",
     "showTitle": false,
     "tableResultSettingsMap": {},
     "title": ""
    }
   },
   "outputs": [],
   "source": [
    "# Applying some light transformations and writing results\n",
    "df = (spark.table(\"fetch.users_raw\")\n",
    "             .withColumn('_id', col(\"_id.$oid\"))\n",
    "             .withColumn('createdDate', col(\"createdDate.$date\"))\n",
    "             .withColumn('lastLogin', col(\"lastLogin.$date\"))\n",
    "             .selectExpr(\n",
    "                \"_id\",\n",
    "                \"cast(active as boolean) as active\",\n",
    "                \"cast(from_unixtime(createdDate/1000) as timestamp) as createdDate\",\n",
    "                \"cast(from_unixtime(lastLogin/1000) as timestamp) as lastLogin\",\n",
    "                \"role\",\n",
    "                \"signUpSource\",\n",
    "                \"state\")\n",
    "             .distinct()\n",
    "             )\n",
    "\n",
    "df.write.format(\"delta\").mode('overwrite').saveAsTable(f\"fetch.users_processed\")"
   ]
  },
  {
   "cell_type": "code",
   "execution_count": 0,
   "metadata": {
    "application/vnd.databricks.v1+cell": {
     "cellMetadata": {
      "byteLimit": 2048000,
      "implicitDf": true,
      "rowLimit": 10000
     },
     "inputWidgets": {},
     "nuid": "d99c32fe-cefd-465e-b9a1-0bdadd0b6adf",
     "showTitle": false,
     "tableResultSettingsMap": {},
     "title": ""
    }
   },
   "outputs": [
    {
     "output_type": "display_data",
     "data": {
      "text/html": [
       "<style scoped>\n",
       "  .table-result-container {\n",
       "    max-height: 300px;\n",
       "    overflow: auto;\n",
       "  }\n",
       "  table, th, td {\n",
       "    border: 1px solid black;\n",
       "    border-collapse: collapse;\n",
       "  }\n",
       "  th, td {\n",
       "    padding: 5px;\n",
       "  }\n",
       "  th {\n",
       "    text-align: left;\n",
       "  }\n",
       "</style><div class='table-result-container'><table class='table-result'><thead style='background-color: white'><tr><th>_id</th><th>active</th><th>createdDate</th><th>lastLogin</th></tr></thead><tbody><tr><td>600a03e17d983a124e9adb0f</td><td>true</td><td>2021-01-21T22:44:49.000Z</td><td>null</td></tr><tr><td>6006f786fb296c7f688530f8</td><td>true</td><td>2021-01-19T15:15:18.000Z</td><td>null</td></tr><tr><td>6000b75bbe5fc96dfee1d4d3</td><td>true</td><td>2021-01-14T21:27:55.000Z</td><td>null</td></tr><tr><td>600f19914329897eac238fef</td><td>true</td><td>2021-01-25T19:18:41.000Z</td><td>null</td></tr><tr><td>60025fe0e257124ec6b99a87</td><td>true</td><td>2021-01-16T03:39:13.000Z</td><td>null</td></tr><tr><td>60186237c8b50e11d8454d5f</td><td>true</td><td>2021-02-01T20:19:03.000Z</td><td>null</td></tr><tr><td>6008d447b6310511daa4f281</td><td>true</td><td>2021-01-21T01:09:27.000Z</td><td>null</td></tr><tr><td>600f20c15edb787dce060911</td><td>true</td><td>2021-01-25T19:49:21.000Z</td><td>null</td></tr><tr><td>60145ff384231211ce796d51</td><td>true</td><td>2021-01-29T19:20:19.000Z</td><td>null</td></tr><tr><td>6002541ae257124ec6b99a3a</td><td>true</td><td>2021-01-16T02:48:58.000Z</td><td>null</td></tr><tr><td>6009e60450b3311194385009</td><td>true</td><td>2021-01-21T20:37:25.000Z</td><td>null</td></tr><tr><td>6004a5d3fb296c4ef805e256</td><td>true</td><td>2021-01-17T21:02:11.000Z</td><td>null</td></tr><tr><td>6008896c633aab121bb8e11d</td><td>true</td><td>2021-01-20T19:50:04.000Z</td><td>null</td></tr><tr><td>6002475cfb296c121a81b98d</td><td>true</td><td>2021-01-16T01:54:36.000Z</td><td>null</td></tr><tr><td>60037005e257124ec6b99ec2</td><td>true</td><td>2021-01-16T23:00:21.000Z</td><td>null</td></tr><tr><td>600495c3fb296c4ef805e1fc</td><td>true</td><td>2021-01-17T19:53:39.000Z</td><td>null</td></tr><tr><td>600498c4e257124ec6b9a331</td><td>true</td><td>2021-01-17T20:06:29.000Z</td><td>null</td></tr><tr><td>60037329e257124ec6b99eeb</td><td>true</td><td>2021-01-16T23:13:45.000Z</td><td>null</td></tr><tr><td>60099c1450b33111fd61f702</td><td>true</td><td>2021-01-21T15:21:56.000Z</td><td>null</td></tr><tr><td>60049cdce257124ec6b9a353</td><td>true</td><td>2021-01-17T20:23:56.000Z</td><td>null</td></tr><tr><td>600258dafb296c4ef805d9b7</td><td>true</td><td>2021-01-16T03:09:14.000Z</td><td>null</td></tr><tr><td>5e27526d0bdb6a138c32b556</td><td>true</td><td>2020-01-21T19:35:09.000Z</td><td>null</td></tr><tr><td>5ffe115404929101d0aaebb2</td><td>true</td><td>2021-01-12T21:15:00.000Z</td><td>null</td></tr><tr><td>60037a94fb296c4ef805ddbe</td><td>true</td><td>2021-01-16T23:45:25.000Z</td><td>null</td></tr><tr><td>60024f24e257124ec6b99a13</td><td>true</td><td>2021-01-16T02:27:49.000Z</td><td>null</td></tr><tr><td>6004a965e257124ec6b9a39f</td><td>true</td><td>2021-01-17T21:17:25.000Z</td><td>null</td></tr><tr><td>60147d2ac8b50e11d8453f53</td><td>true</td><td>2021-01-29T21:24:58.000Z</td><td>null</td></tr><tr><td>6008e9cdb6310511daa4f2e4</td><td>true</td><td>2021-01-21T02:41:17.000Z</td><td>null</td></tr><tr><td>60023de5fb296c121a81b955</td><td>true</td><td>2021-01-16T01:14:13.000Z</td><td>null</td></tr><tr><td>600b477e7d983a124e9ae061</td><td>true</td><td>2021-01-22T21:45:34.000Z</td><td>null</td></tr><tr><td>600eea525edb7811cde6c81c</td><td>true</td><td>2021-01-25T15:57:07.000Z</td><td>null</td></tr><tr><td>6008f02fb6310511daa4f314</td><td>true</td><td>2021-01-21T03:08:31.000Z</td><td>null</td></tr><tr><td>5ff616a68f142f11dd189163</td><td>true</td><td>2021-01-06T19:59:34.000Z</td><td>null</td></tr><tr><td>600992d17d983a11f63d11ad</td><td>true</td><td>2021-01-21T14:42:25.000Z</td><td>null</td></tr><tr><td>60183e6c9a1b091205b61b49</td><td>true</td><td>2021-02-01T17:46:20.000Z</td><td>null</td></tr><tr><td>600f00d05edb787dce05fb84</td><td>true</td><td>2021-01-25T17:33:04.000Z</td><td>null</td></tr><tr><td>60025c65fb296c4ef805d9e6</td><td>true</td><td>2021-01-16T03:24:21.000Z</td><td>null</td></tr><tr><td>60217fa799409b11fcf899fe</td><td>true</td><td>2021-02-08T18:15:03.000Z</td><td>null</td></tr><tr><td>5fb0a078be5fc9775c1f3945</td><td>true</td><td>2020-11-15T03:28:56.000Z</td><td>null</td></tr><tr><td>600f35015edb782098e2ac1b</td><td>true</td><td>2021-01-25T21:15:46.000Z</td><td>null</td></tr></tbody></table></div>"
      ]
     },
     "metadata": {
      "application/vnd.databricks.v1+output": {
       "addedWidgets": {},
       "aggData": [],
       "aggError": "",
       "aggOverflow": false,
       "aggSchema": [],
       "aggSeriesLimitReached": false,
       "aggType": "",
       "arguments": {},
       "columnCustomDisplayInfos": {},
       "data": [
        [
         "600a03e17d983a124e9adb0f",
         true,
         "2021-01-21T22:44:49.000Z",
         null
        ],
        [
         "6006f786fb296c7f688530f8",
         true,
         "2021-01-19T15:15:18.000Z",
         null
        ],
        [
         "6000b75bbe5fc96dfee1d4d3",
         true,
         "2021-01-14T21:27:55.000Z",
         null
        ],
        [
         "600f19914329897eac238fef",
         true,
         "2021-01-25T19:18:41.000Z",
         null
        ],
        [
         "60025fe0e257124ec6b99a87",
         true,
         "2021-01-16T03:39:13.000Z",
         null
        ],
        [
         "60186237c8b50e11d8454d5f",
         true,
         "2021-02-01T20:19:03.000Z",
         null
        ],
        [
         "6008d447b6310511daa4f281",
         true,
         "2021-01-21T01:09:27.000Z",
         null
        ],
        [
         "600f20c15edb787dce060911",
         true,
         "2021-01-25T19:49:21.000Z",
         null
        ],
        [
         "60145ff384231211ce796d51",
         true,
         "2021-01-29T19:20:19.000Z",
         null
        ],
        [
         "6002541ae257124ec6b99a3a",
         true,
         "2021-01-16T02:48:58.000Z",
         null
        ],
        [
         "6009e60450b3311194385009",
         true,
         "2021-01-21T20:37:25.000Z",
         null
        ],
        [
         "6004a5d3fb296c4ef805e256",
         true,
         "2021-01-17T21:02:11.000Z",
         null
        ],
        [
         "6008896c633aab121bb8e11d",
         true,
         "2021-01-20T19:50:04.000Z",
         null
        ],
        [
         "6002475cfb296c121a81b98d",
         true,
         "2021-01-16T01:54:36.000Z",
         null
        ],
        [
         "60037005e257124ec6b99ec2",
         true,
         "2021-01-16T23:00:21.000Z",
         null
        ],
        [
         "600495c3fb296c4ef805e1fc",
         true,
         "2021-01-17T19:53:39.000Z",
         null
        ],
        [
         "600498c4e257124ec6b9a331",
         true,
         "2021-01-17T20:06:29.000Z",
         null
        ],
        [
         "60037329e257124ec6b99eeb",
         true,
         "2021-01-16T23:13:45.000Z",
         null
        ],
        [
         "60099c1450b33111fd61f702",
         true,
         "2021-01-21T15:21:56.000Z",
         null
        ],
        [
         "60049cdce257124ec6b9a353",
         true,
         "2021-01-17T20:23:56.000Z",
         null
        ],
        [
         "600258dafb296c4ef805d9b7",
         true,
         "2021-01-16T03:09:14.000Z",
         null
        ],
        [
         "5e27526d0bdb6a138c32b556",
         true,
         "2020-01-21T19:35:09.000Z",
         null
        ],
        [
         "5ffe115404929101d0aaebb2",
         true,
         "2021-01-12T21:15:00.000Z",
         null
        ],
        [
         "60037a94fb296c4ef805ddbe",
         true,
         "2021-01-16T23:45:25.000Z",
         null
        ],
        [
         "60024f24e257124ec6b99a13",
         true,
         "2021-01-16T02:27:49.000Z",
         null
        ],
        [
         "6004a965e257124ec6b9a39f",
         true,
         "2021-01-17T21:17:25.000Z",
         null
        ],
        [
         "60147d2ac8b50e11d8453f53",
         true,
         "2021-01-29T21:24:58.000Z",
         null
        ],
        [
         "6008e9cdb6310511daa4f2e4",
         true,
         "2021-01-21T02:41:17.000Z",
         null
        ],
        [
         "60023de5fb296c121a81b955",
         true,
         "2021-01-16T01:14:13.000Z",
         null
        ],
        [
         "600b477e7d983a124e9ae061",
         true,
         "2021-01-22T21:45:34.000Z",
         null
        ],
        [
         "600eea525edb7811cde6c81c",
         true,
         "2021-01-25T15:57:07.000Z",
         null
        ],
        [
         "6008f02fb6310511daa4f314",
         true,
         "2021-01-21T03:08:31.000Z",
         null
        ],
        [
         "5ff616a68f142f11dd189163",
         true,
         "2021-01-06T19:59:34.000Z",
         null
        ],
        [
         "600992d17d983a11f63d11ad",
         true,
         "2021-01-21T14:42:25.000Z",
         null
        ],
        [
         "60183e6c9a1b091205b61b49",
         true,
         "2021-02-01T17:46:20.000Z",
         null
        ],
        [
         "600f00d05edb787dce05fb84",
         true,
         "2021-01-25T17:33:04.000Z",
         null
        ],
        [
         "60025c65fb296c4ef805d9e6",
         true,
         "2021-01-16T03:24:21.000Z",
         null
        ],
        [
         "60217fa799409b11fcf899fe",
         true,
         "2021-02-08T18:15:03.000Z",
         null
        ],
        [
         "5fb0a078be5fc9775c1f3945",
         true,
         "2020-11-15T03:28:56.000Z",
         null
        ],
        [
         "600f35015edb782098e2ac1b",
         true,
         "2021-01-25T21:15:46.000Z",
         null
        ]
       ],
       "datasetInfos": [
        {
         "name": "_sqldf",
         "schema": {
          "fields": [
           {
            "metadata": {},
            "name": "_id",
            "nullable": true,
            "type": "string"
           },
           {
            "metadata": {},
            "name": "active",
            "nullable": true,
            "type": "boolean"
           },
           {
            "metadata": {},
            "name": "createdDate",
            "nullable": true,
            "type": "timestamp"
           },
           {
            "metadata": {},
            "name": "lastLogin",
            "nullable": true,
            "type": "timestamp"
           }
          ],
          "type": "struct"
         },
         "tableIdentifier": null,
         "typeStr": "pyspark.sql.connect.dataframe.DataFrame"
        }
       ],
       "dbfsResultPath": null,
       "isJsonSchema": true,
       "metadata": {
        "createTempViewForImplicitDf": true,
        "dataframeName": "_sqldf",
        "executionCount": 209
       },
       "overflow": false,
       "plotOptions": {
        "customPlotOptions": {},
        "displayType": "table",
        "pivotAggregation": null,
        "pivotColumns": null,
        "xColumns": null,
        "yColumns": null
       },
       "removedWidgets": [],
       "schema": [
        {
         "metadata": "{}",
         "name": "_id",
         "type": "\"string\""
        },
        {
         "metadata": "{}",
         "name": "active",
         "type": "\"boolean\""
        },
        {
         "metadata": "{}",
         "name": "createdDate",
         "type": "\"timestamp\""
        },
        {
         "metadata": "{}",
         "name": "lastLogin",
         "type": "\"timestamp\""
        }
       ],
       "type": "table"
      }
     },
     "output_type": "display_data"
    }
   ],
   "source": [
    "%sql\n",
    "-- Examining active but never login users\n",
    "-- 40 users appear to be inappropriately tagged as active although they never had a single login\n",
    "-- Potential recommendations: \n",
    "-- 1. Have system set lastLogin to createdDate and active flag to false upon initial creation (similar to _id 6008622ebe5fc9247bab4eb9 and records in the below query)\n",
    "-- 2. Have system set active to false if no LastLogin has been recorded yet\n",
    "select  \n",
    "  _id,\n",
    "  active,\n",
    "  createdDate,\n",
    "  lastLogin\n",
    "from fetch.users_processed\n",
    "where lastLogin is null \n",
    "and active is true"
   ]
  },
  {
   "cell_type": "code",
   "execution_count": 0,
   "metadata": {
    "application/vnd.databricks.v1+cell": {
     "cellMetadata": {
      "byteLimit": 2048000,
      "implicitDf": true,
      "rowLimit": 10000
     },
     "inputWidgets": {},
     "nuid": "c21d048d-c3a2-4041-83db-b4a5971d7fe0",
     "showTitle": false,
     "tableResultSettingsMap": {},
     "title": ""
    }
   },
   "outputs": [
    {
     "output_type": "display_data",
     "data": {
      "text/html": [
       "<style scoped>\n",
       "  .table-result-container {\n",
       "    max-height: 300px;\n",
       "    overflow: auto;\n",
       "  }\n",
       "  table, th, td {\n",
       "    border: 1px solid black;\n",
       "    border-collapse: collapse;\n",
       "  }\n",
       "  th, td {\n",
       "    padding: 5px;\n",
       "  }\n",
       "  th {\n",
       "    text-align: left;\n",
       "  }\n",
       "</style><div class='table-result-container'><table class='table-result'><thead style='background-color: white'><tr><th>_id</th><th>active</th><th>createdDate</th><th>lastLogin</th><th>role</th><th>signUpSource</th><th>state</th></tr></thead><tbody><tr><td>5ff8c241b3348b11c93379fc</td><td>true</td><td>2021-01-08T20:36:17.000Z</td><td>2021-01-08T20:36:17.000Z</td><td>consumer</td><td>Email</td><td>WI</td></tr><tr><td>5ff7268eeb7c7d12096da2a9</td><td>true</td><td>2021-01-07T15:19:42.000Z</td><td>2021-01-07T15:19:42.000Z</td><td>consumer</td><td>Email</td><td>WI</td></tr><tr><td>602558adb5459313e1e9b7ce</td><td>true</td><td>2021-02-11T16:17:49.000Z</td><td>2021-02-11T16:17:49.000Z</td><td>consumer</td><td>Email</td><td>WI</td></tr><tr><td>6008622ebe5fc9247bab4eb9</td><td>false</td><td>2021-01-20T17:02:38.000Z</td><td>2021-01-20T17:02:38.000Z</td><td>consumer</td><td>Email</td><td>WI</td></tr><tr><td>601ac1da591789121574dc07</td><td>true</td><td>2021-02-03T15:31:38.000Z</td><td>2021-02-03T15:31:38.000Z</td><td>consumer</td><td>Email</td><td>WI</td></tr><tr><td>60132b8b73c60b3ca7f3baee</td><td>true</td><td>2021-01-28T21:24:27.000Z</td><td>2021-01-28T21:24:27.000Z</td><td>consumer</td><td>Email</td><td>WI</td></tr><tr><td>60118c0fa4b74c18d3a8c151</td><td>true</td><td>2021-01-27T15:51:43.000Z</td><td>2021-01-27T15:51:43.000Z</td><td>consumer</td><td>Email</td><td>WI</td></tr><tr><td>6025388fb54593795bf69234</td><td>true</td><td>2021-02-11T14:00:47.000Z</td><td>2021-02-11T14:00:47.000Z</td><td>consumer</td><td>Email</td><td>WI</td></tr><tr><td>60147001c8b50e11d8453c36</td><td>true</td><td>2021-01-29T20:28:49.000Z</td><td>2021-01-29T20:28:49.000Z</td><td>consumer</td><td>Email</td><td>WI</td></tr><tr><td>60229990b57b8a12187fe9e0</td><td>true</td><td>2021-02-09T14:17:52.000Z</td><td>2021-02-09T14:17:52.000Z</td><td>consumer</td><td>Email</td><td>WI</td></tr><tr><td>601890a99a1b091205b61ced</td><td>true</td><td>2021-02-01T23:37:13.000Z</td><td>2021-02-01T23:37:13.000Z</td><td>consumer</td><td>Email</td><td>WI</td></tr><tr><td>60074883325c8a1794622a12</td><td>true</td><td>2021-01-19T21:00:51.000Z</td><td>2021-01-19T21:00:51.000Z</td><td>consumer</td><td>Email</td><td>WI</td></tr><tr><td>5ff793dd04929111f6e90c69</td><td>true</td><td>2021-01-07T23:06:05.000Z</td><td>2021-01-07T23:06:05.000Z</td><td>consumer</td><td>Email</td><td>WI</td></tr><tr><td>5ffca30604929111f6e92525</td><td>true</td><td>2021-01-11T19:12:06.000Z</td><td>2021-01-11T19:12:06.000Z</td><td>consumer</td><td>Email</td><td>WI</td></tr><tr><td>5ff1e1e8cfcf6c399c274ad9</td><td>true</td><td>2021-01-03T15:25:28.000Z</td><td>2021-01-03T15:25:28.000Z</td><td>consumer</td><td>Email</td><td>WI</td></tr><tr><td>60268c7aefa6011bb1510786</td><td>true</td><td>2021-02-12T14:11:06.000Z</td><td>2021-02-12T14:11:06.000Z</td><td>consumer</td><td>Email</td><td>WI</td></tr><tr><td>5ff726a0eb7c7d12096da2db</td><td>true</td><td>2021-01-07T15:20:00.000Z</td><td>2021-01-07T15:20:00.000Z</td><td>consumer</td><td>Email</td><td>WI</td></tr><tr><td>5ff873ddb3348b11c9337733</td><td>true</td><td>2021-01-08T15:01:49.000Z</td><td>2021-01-08T15:01:49.000Z</td><td>consumer</td><td>Email</td><td>WI</td></tr><tr><td>5ffc8ff9b3348b11c9338896</td><td>true</td><td>2021-01-11T17:50:49.000Z</td><td>2021-01-11T17:50:49.000Z</td><td>consumer</td><td>Email</td><td>WI</td></tr><tr><td>5ff36d83135e7011bcb864d6</td><td>true</td><td>2021-01-04T19:33:23.000Z</td><td>2021-01-04T19:33:23.000Z</td><td>consumer</td><td>Email</td><td>WI</td></tr><tr><td>5ff79464b3348b11c933738b</td><td>true</td><td>2021-01-07T23:08:20.000Z</td><td>2021-01-07T23:08:20.000Z</td><td>consumer</td><td>Email</td><td>WI</td></tr><tr><td>60189c859a1b091205b61de1</td><td>true</td><td>2021-02-02T00:27:49.000Z</td><td>2021-02-02T00:27:49.000Z</td><td>consumer</td><td>Email</td><td>WI</td></tr><tr><td>600056d6bd4dff11dda90a3f</td><td>true</td><td>2021-01-14T14:36:06.000Z</td><td>2021-01-14T14:36:06.000Z</td><td>consumer</td><td>Email</td><td>WI</td></tr><tr><td>5ff1e1e4cfcf6c399c274ac3</td><td>true</td><td>2021-01-03T15:25:24.000Z</td><td>2021-01-03T15:25:24.000Z</td><td>consumer</td><td>Email</td><td>WI</td></tr><tr><td>60088d84633aab121bb8e4a6</td><td>true</td><td>2021-01-20T20:07:32.000Z</td><td>2021-01-20T20:07:32.000Z</td><td>consumer</td><td>Email</td><td>WI</td></tr><tr><td>601465a884231211ce796db3</td><td>true</td><td>2021-01-29T19:44:40.000Z</td><td>2021-01-29T19:44:40.000Z</td><td>consumer</td><td>Email</td><td>WI</td></tr><tr><td>5ff7401ceb7c7d31ca8a46e0</td><td>true</td><td>2021-01-07T17:08:44.000Z</td><td>2021-01-07T17:08:44.000Z</td><td>consumer</td><td>Email</td><td>WI</td></tr><tr><td>5ff1e1b4cfcf6c399c274a54</td><td>true</td><td>2021-01-03T15:24:36.000Z</td><td>2021-01-03T15:24:36.000Z</td><td>consumer</td><td>Email</td><td>WI</td></tr><tr><td>601c2c6a29c30a1227ad93bd</td><td>true</td><td>2021-02-04T17:18:34.000Z</td><td>2021-02-04T17:18:34.000Z</td><td>consumer</td><td>Email</td><td>WI</td></tr><tr><td>5ff4ce3ac1e2d0121a9b2fb3</td><td>true</td><td>2021-01-05T20:38:18.000Z</td><td>2021-01-05T20:38:18.000Z</td><td>consumer</td><td>Email</td><td>WI</td></tr><tr><td>5fff0f9804929101d0ab0697</td><td>true</td><td>2021-01-13T15:19:52.000Z</td><td>2021-01-13T15:19:52.000Z</td><td>consumer</td><td>Email</td><td>WI</td></tr><tr><td>5fff26bab3348b03eb45bb22</td><td>true</td><td>2021-01-13T16:58:34.000Z</td><td>2021-01-13T16:58:34.000Z</td><td>consumer</td><td>Email</td><td>WI</td></tr><tr><td>60182f4ac8b50e11d8454946</td><td>true</td><td>2021-02-01T16:41:46.000Z</td><td>2021-02-01T16:41:46.000Z</td><td>consumer</td><td>Email</td><td>WI</td></tr><tr><td>6009885c50b33111fd61eee9</td><td>true</td><td>2021-01-21T13:57:48.000Z</td><td>2021-01-21T13:57:48.000Z</td><td>consumer</td><td>Email</td><td>WI</td></tr><tr><td>5ff4ce91c1e2d0121a9b3057</td><td>true</td><td>2021-01-05T20:39:45.000Z</td><td>2021-01-05T20:39:45.000Z</td><td>consumer</td><td>Email</td><td>WI</td></tr><tr><td>601465c567804a1228b20f89</td><td>true</td><td>2021-01-29T19:45:09.000Z</td><td>2021-01-29T19:45:09.000Z</td><td>consumer</td><td>Email</td><td>WI</td></tr><tr><td>602176c9b57b8a12187fe77e</td><td>true</td><td>2021-02-08T17:37:13.000Z</td><td>2021-02-08T17:37:13.000Z</td><td>consumer</td><td>Email</td><td>WI</td></tr><tr><td>60132b85a4b74c3cbc516295</td><td>true</td><td>2021-01-28T21:24:21.000Z</td><td>2021-01-28T21:24:21.000Z</td><td>consumer</td><td>Email</td><td>WI</td></tr><tr><td>6008897ab6310511daa4ebdc</td><td>true</td><td>2021-01-20T19:50:18.000Z</td><td>2021-01-20T19:50:18.000Z</td><td>consumer</td><td>Email</td><td>WI</td></tr><tr><td>6014558467804a1228b20cf0</td><td>true</td><td>2021-01-29T18:35:48.000Z</td><td>2021-01-29T18:35:48.000Z</td><td>consumer</td><td>Email</td><td>WI</td></tr><tr><td>600988557d983a11f63d08ef</td><td>true</td><td>2021-01-21T13:57:41.000Z</td><td>2021-01-21T13:57:41.000Z</td><td>consumer</td><td>Email</td><td>WI</td></tr><tr><td>5ff7268c8f142f11dd189579</td><td>true</td><td>2021-01-07T15:19:40.000Z</td><td>2021-01-07T15:19:40.000Z</td><td>consumer</td><td>Email</td><td>WI</td></tr><tr><td>5ff8c330b3348b11c9337a04</td><td>true</td><td>2021-01-08T20:40:16.000Z</td><td>2021-01-08T20:40:16.000Z</td><td>consumer</td><td>Email</td><td>WI</td></tr><tr><td>602558b1efa60114d20e5dc7</td><td>true</td><td>2021-02-11T16:17:53.000Z</td><td>2021-02-11T16:17:53.000Z</td><td>consumer</td><td>Email</td><td>WI</td></tr><tr><td>601465a584231211ce796da5</td><td>true</td><td>2021-01-29T19:44:37.000Z</td><td>2021-01-29T19:44:37.000Z</td><td>consumer</td><td>Email</td><td>WI</td></tr><tr><td>5ff873ef04929111f6e910f0</td><td>true</td><td>2021-01-08T15:02:07.000Z</td><td>2021-01-08T15:02:07.000Z</td><td>consumer</td><td>Email</td><td>WI</td></tr><tr><td>60005704bd4dff11dda90a9d</td><td>true</td><td>2021-01-14T14:36:52.000Z</td><td>2021-01-14T14:36:52.000Z</td><td>consumer</td><td>Email</td><td>WI</td></tr><tr><td>5ff7949eb3348b11c93373d2</td><td>true</td><td>2021-01-07T23:09:18.000Z</td><td>2021-01-07T23:09:18.000Z</td><td>consumer</td><td>Email</td><td>WI</td></tr><tr><td>5fff26bfb3348b03eb45bb32</td><td>true</td><td>2021-01-13T16:58:39.000Z</td><td>2021-01-13T16:58:39.000Z</td><td>consumer</td><td>Email</td><td>WI</td></tr><tr><td>5ff3711e62fde912123a620e</td><td>true</td><td>2021-01-04T19:48:46.000Z</td><td>2021-01-04T19:48:46.000Z</td><td>consumer</td><td>Email</td><td>WI</td></tr><tr><td>5ff8da7db3348b11c9337b6a</td><td>true</td><td>2021-01-08T22:19:41.000Z</td><td>2021-01-08T22:19:41.000Z</td><td>consumer</td><td>Email</td><td>WI</td></tr><tr><td>6000d4bae2571211db395b9f</td><td>true</td><td>2021-01-14T23:33:14.000Z</td><td>2021-01-14T23:33:14.000Z</td><td>consumer</td><td>Email</td><td>WI</td></tr><tr><td>6000d4abe2571211db395b5c</td><td>true</td><td>2021-01-14T23:32:59.000Z</td><td>2021-01-14T23:32:59.000Z</td><td>consumer</td><td>Email</td><td>WI</td></tr><tr><td>5ffc9001b3348b11c93388b6</td><td>true</td><td>2021-01-11T17:50:57.000Z</td><td>2021-01-11T17:50:57.000Z</td><td>consumer</td><td>Email</td><td>WI</td></tr><tr><td>5ffcb4bc04929111f6e92608</td><td>true</td><td>2021-01-11T20:27:40.000Z</td><td>2021-01-11T20:27:40.000Z</td><td>consumer</td><td>Email</td><td>WI</td></tr><tr><td>60189c88c8b50e11d8454f2f</td><td>true</td><td>2021-02-02T00:27:52.000Z</td><td>2021-02-02T00:27:52.000Z</td><td>consumer</td><td>Email</td><td>WI</td></tr><tr><td>5ff8a11db3348b11c93378aa</td><td>true</td><td>2021-01-08T18:14:53.000Z</td><td>2021-01-08T18:14:53.000Z</td><td>consumer</td><td>Email</td><td>WI</td></tr><tr><td>6014558767804a1228b20d00</td><td>true</td><td>2021-01-29T18:35:51.000Z</td><td>2021-01-29T18:35:51.000Z</td><td>consumer</td><td>Email</td><td>WI</td></tr><tr><td>5ff73bea8f142f3276c3e84a</td><td>true</td><td>2021-01-07T16:50:50.000Z</td><td>2021-01-07T16:50:50.000Z</td><td>consumer</td><td>Email</td><td>WI</td></tr><tr><td>6010be65a4b74c120bd19edc</td><td>true</td><td>2021-01-27T01:14:13.000Z</td><td>2021-01-27T01:14:13.000Z</td><td>consumer</td><td>Email</td><td>WI</td></tr><tr><td>601431c173c60b3ca7f3bf63</td><td>true</td><td>2021-01-29T16:03:13.000Z</td><td>2021-01-29T16:03:13.000Z</td><td>consumer</td><td>Email</td><td>WI</td></tr><tr><td>5fff26f2b3348b03eb45bbb9</td><td>true</td><td>2021-01-13T16:59:30.000Z</td><td>2021-01-13T16:59:30.000Z</td><td>consumer</td><td>Email</td><td>WI</td></tr><tr><td>5ff5d1d08f142f11dd18884c</td><td>true</td><td>2021-01-06T15:05:52.000Z</td><td>2021-01-06T15:05:52.000Z</td><td>consumer</td><td>Email</td><td>WI</td></tr><tr><td>602538adb54593795bf692ac</td><td>true</td><td>2021-02-11T14:01:17.000Z</td><td>2021-02-11T14:01:17.000Z</td><td>consumer</td><td>Email</td><td>WI</td></tr><tr><td>5ffc9d9f04929111f6e92456</td><td>true</td><td>2021-01-11T18:49:03.000Z</td><td>2021-01-11T18:49:03.000Z</td><td>consumer</td><td>Email</td><td>WI</td></tr><tr><td>60145a5584231211ce796cac</td><td>true</td><td>2021-01-29T18:56:21.000Z</td><td>2021-01-29T18:56:21.000Z</td><td>consumer</td><td>Email</td><td>WI</td></tr><tr><td>601c68d229c30a1227ada484</td><td>true</td><td>2021-02-04T21:36:18.000Z</td><td>2021-02-04T21:36:18.000Z</td><td>consumer</td><td>Email</td><td>WI</td></tr><tr><td>5ff4ce34c3d63511e2a484ba</td><td>true</td><td>2021-01-05T20:38:12.000Z</td><td>2021-01-05T20:38:12.000Z</td><td>consumer</td><td>Email</td><td>WI</td></tr><tr><td>60189c94c8b50e11d8454f6b</td><td>true</td><td>2021-02-02T00:28:04.000Z</td><td>2021-02-02T00:28:04.000Z</td><td>consumer</td><td>Email</td><td>WI</td></tr><tr><td>600746fd6e64691717e8cfb5</td><td>true</td><td>2021-01-19T20:54:21.000Z</td><td>2021-01-19T20:54:21.000Z</td><td>consumer</td><td>Email</td><td>WI</td></tr><tr><td>5ff473e7c1e2d0121a9b2697</td><td>true</td><td>2021-01-05T14:12:55.000Z</td><td>2021-01-05T14:12:55.000Z</td><td>consumer</td><td>Email</td><td>WI</td></tr><tr><td>5ff8da7eb3348b11c9337b72</td><td>true</td><td>2021-01-08T22:19:42.000Z</td><td>2021-01-08T22:19:42.000Z</td><td>consumer</td><td>Email</td><td>WI</td></tr><tr><td>5ff8d634b3348b11c9337aa4</td><td>true</td><td>2021-01-08T22:01:24.000Z</td><td>2021-01-08T22:01:24.000Z</td><td>consumer</td><td>Email</td><td>WI</td></tr><tr><td>600fb1ec73c60b1204902af4</td><td>true</td><td>2021-01-26T06:08:44.000Z</td><td>2021-01-26T06:08:44.000Z</td><td>consumer</td><td>Email</td><td>WI</td></tr><tr><td>5ff1e1f1cfcf6c399c274b0b</td><td>true</td><td>2021-01-03T15:25:37.000Z</td><td>2021-01-03T15:25:37.000Z</td><td>consumer</td><td>Email</td><td>WI</td></tr><tr><td>60088a46b6310511daa4ec97</td><td>true</td><td>2021-01-20T19:53:42.000Z</td><td>2021-01-20T19:53:42.000Z</td><td>consumer</td><td>Email</td><td>WI</td></tr><tr><td>5ff5d1a38f142f11dd1886ba</td><td>true</td><td>2021-01-06T15:05:07.000Z</td><td>2021-01-06T15:05:07.000Z</td><td>consumer</td><td>Email</td><td>WI</td></tr><tr><td>5ff4ce3dc3d63511e2a484dc</td><td>true</td><td>2021-01-05T20:38:21.000Z</td><td>2021-01-05T20:38:21.000Z</td><td>consumer</td><td>Email</td><td>WI</td></tr><tr><td>5ff1e1b7cfcf6c399c274a5a</td><td>true</td><td>2021-01-03T15:24:39.000Z</td><td>2021-01-03T15:24:39.000Z</td><td>consumer</td><td>Email</td><td>WI</td></tr><tr><td>6010be6173c60b12049040d7</td><td>true</td><td>2021-01-27T01:14:09.000Z</td><td>2021-01-27T01:14:09.000Z</td><td>consumer</td><td>Email</td><td>WI</td></tr><tr><td>60074246325c8a12289e22a0</td><td>true</td><td>2021-01-19T20:34:15.000Z</td><td>2021-01-19T20:34:15.000Z</td><td>consumer</td><td>Email</td><td>WI</td></tr><tr><td>602176a3b57b8a12187fe717</td><td>true</td><td>2021-02-08T17:36:35.000Z</td><td>2021-02-08T17:36:35.000Z</td><td>consumer</td><td>Email</td><td>WI</td></tr><tr><td>5ff1e1eacfcf6c399c274ae6</td><td>true</td><td>2021-01-03T15:25:30.000Z</td><td>2021-01-03T15:25:30.000Z</td><td>consumer</td><td>Email</td><td>WI</td></tr></tbody></table></div>"
      ]
     },
     "metadata": {
      "application/vnd.databricks.v1+output": {
       "addedWidgets": {},
       "aggData": [],
       "aggError": "",
       "aggOverflow": false,
       "aggSchema": [],
       "aggSeriesLimitReached": false,
       "aggType": "",
       "arguments": {},
       "columnCustomDisplayInfos": {},
       "data": [
        [
         "5ff8c241b3348b11c93379fc",
         true,
         "2021-01-08T20:36:17.000Z",
         "2021-01-08T20:36:17.000Z",
         "consumer",
         "Email",
         "WI"
        ],
        [
         "5ff7268eeb7c7d12096da2a9",
         true,
         "2021-01-07T15:19:42.000Z",
         "2021-01-07T15:19:42.000Z",
         "consumer",
         "Email",
         "WI"
        ],
        [
         "602558adb5459313e1e9b7ce",
         true,
         "2021-02-11T16:17:49.000Z",
         "2021-02-11T16:17:49.000Z",
         "consumer",
         "Email",
         "WI"
        ],
        [
         "6008622ebe5fc9247bab4eb9",
         false,
         "2021-01-20T17:02:38.000Z",
         "2021-01-20T17:02:38.000Z",
         "consumer",
         "Email",
         "WI"
        ],
        [
         "601ac1da591789121574dc07",
         true,
         "2021-02-03T15:31:38.000Z",
         "2021-02-03T15:31:38.000Z",
         "consumer",
         "Email",
         "WI"
        ],
        [
         "60132b8b73c60b3ca7f3baee",
         true,
         "2021-01-28T21:24:27.000Z",
         "2021-01-28T21:24:27.000Z",
         "consumer",
         "Email",
         "WI"
        ],
        [
         "60118c0fa4b74c18d3a8c151",
         true,
         "2021-01-27T15:51:43.000Z",
         "2021-01-27T15:51:43.000Z",
         "consumer",
         "Email",
         "WI"
        ],
        [
         "6025388fb54593795bf69234",
         true,
         "2021-02-11T14:00:47.000Z",
         "2021-02-11T14:00:47.000Z",
         "consumer",
         "Email",
         "WI"
        ],
        [
         "60147001c8b50e11d8453c36",
         true,
         "2021-01-29T20:28:49.000Z",
         "2021-01-29T20:28:49.000Z",
         "consumer",
         "Email",
         "WI"
        ],
        [
         "60229990b57b8a12187fe9e0",
         true,
         "2021-02-09T14:17:52.000Z",
         "2021-02-09T14:17:52.000Z",
         "consumer",
         "Email",
         "WI"
        ],
        [
         "601890a99a1b091205b61ced",
         true,
         "2021-02-01T23:37:13.000Z",
         "2021-02-01T23:37:13.000Z",
         "consumer",
         "Email",
         "WI"
        ],
        [
         "60074883325c8a1794622a12",
         true,
         "2021-01-19T21:00:51.000Z",
         "2021-01-19T21:00:51.000Z",
         "consumer",
         "Email",
         "WI"
        ],
        [
         "5ff793dd04929111f6e90c69",
         true,
         "2021-01-07T23:06:05.000Z",
         "2021-01-07T23:06:05.000Z",
         "consumer",
         "Email",
         "WI"
        ],
        [
         "5ffca30604929111f6e92525",
         true,
         "2021-01-11T19:12:06.000Z",
         "2021-01-11T19:12:06.000Z",
         "consumer",
         "Email",
         "WI"
        ],
        [
         "5ff1e1e8cfcf6c399c274ad9",
         true,
         "2021-01-03T15:25:28.000Z",
         "2021-01-03T15:25:28.000Z",
         "consumer",
         "Email",
         "WI"
        ],
        [
         "60268c7aefa6011bb1510786",
         true,
         "2021-02-12T14:11:06.000Z",
         "2021-02-12T14:11:06.000Z",
         "consumer",
         "Email",
         "WI"
        ],
        [
         "5ff726a0eb7c7d12096da2db",
         true,
         "2021-01-07T15:20:00.000Z",
         "2021-01-07T15:20:00.000Z",
         "consumer",
         "Email",
         "WI"
        ],
        [
         "5ff873ddb3348b11c9337733",
         true,
         "2021-01-08T15:01:49.000Z",
         "2021-01-08T15:01:49.000Z",
         "consumer",
         "Email",
         "WI"
        ],
        [
         "5ffc8ff9b3348b11c9338896",
         true,
         "2021-01-11T17:50:49.000Z",
         "2021-01-11T17:50:49.000Z",
         "consumer",
         "Email",
         "WI"
        ],
        [
         "5ff36d83135e7011bcb864d6",
         true,
         "2021-01-04T19:33:23.000Z",
         "2021-01-04T19:33:23.000Z",
         "consumer",
         "Email",
         "WI"
        ],
        [
         "5ff79464b3348b11c933738b",
         true,
         "2021-01-07T23:08:20.000Z",
         "2021-01-07T23:08:20.000Z",
         "consumer",
         "Email",
         "WI"
        ],
        [
         "60189c859a1b091205b61de1",
         true,
         "2021-02-02T00:27:49.000Z",
         "2021-02-02T00:27:49.000Z",
         "consumer",
         "Email",
         "WI"
        ],
        [
         "600056d6bd4dff11dda90a3f",
         true,
         "2021-01-14T14:36:06.000Z",
         "2021-01-14T14:36:06.000Z",
         "consumer",
         "Email",
         "WI"
        ],
        [
         "5ff1e1e4cfcf6c399c274ac3",
         true,
         "2021-01-03T15:25:24.000Z",
         "2021-01-03T15:25:24.000Z",
         "consumer",
         "Email",
         "WI"
        ],
        [
         "60088d84633aab121bb8e4a6",
         true,
         "2021-01-20T20:07:32.000Z",
         "2021-01-20T20:07:32.000Z",
         "consumer",
         "Email",
         "WI"
        ],
        [
         "601465a884231211ce796db3",
         true,
         "2021-01-29T19:44:40.000Z",
         "2021-01-29T19:44:40.000Z",
         "consumer",
         "Email",
         "WI"
        ],
        [
         "5ff7401ceb7c7d31ca8a46e0",
         true,
         "2021-01-07T17:08:44.000Z",
         "2021-01-07T17:08:44.000Z",
         "consumer",
         "Email",
         "WI"
        ],
        [
         "5ff1e1b4cfcf6c399c274a54",
         true,
         "2021-01-03T15:24:36.000Z",
         "2021-01-03T15:24:36.000Z",
         "consumer",
         "Email",
         "WI"
        ],
        [
         "601c2c6a29c30a1227ad93bd",
         true,
         "2021-02-04T17:18:34.000Z",
         "2021-02-04T17:18:34.000Z",
         "consumer",
         "Email",
         "WI"
        ],
        [
         "5ff4ce3ac1e2d0121a9b2fb3",
         true,
         "2021-01-05T20:38:18.000Z",
         "2021-01-05T20:38:18.000Z",
         "consumer",
         "Email",
         "WI"
        ],
        [
         "5fff0f9804929101d0ab0697",
         true,
         "2021-01-13T15:19:52.000Z",
         "2021-01-13T15:19:52.000Z",
         "consumer",
         "Email",
         "WI"
        ],
        [
         "5fff26bab3348b03eb45bb22",
         true,
         "2021-01-13T16:58:34.000Z",
         "2021-01-13T16:58:34.000Z",
         "consumer",
         "Email",
         "WI"
        ],
        [
         "60182f4ac8b50e11d8454946",
         true,
         "2021-02-01T16:41:46.000Z",
         "2021-02-01T16:41:46.000Z",
         "consumer",
         "Email",
         "WI"
        ],
        [
         "6009885c50b33111fd61eee9",
         true,
         "2021-01-21T13:57:48.000Z",
         "2021-01-21T13:57:48.000Z",
         "consumer",
         "Email",
         "WI"
        ],
        [
         "5ff4ce91c1e2d0121a9b3057",
         true,
         "2021-01-05T20:39:45.000Z",
         "2021-01-05T20:39:45.000Z",
         "consumer",
         "Email",
         "WI"
        ],
        [
         "601465c567804a1228b20f89",
         true,
         "2021-01-29T19:45:09.000Z",
         "2021-01-29T19:45:09.000Z",
         "consumer",
         "Email",
         "WI"
        ],
        [
         "602176c9b57b8a12187fe77e",
         true,
         "2021-02-08T17:37:13.000Z",
         "2021-02-08T17:37:13.000Z",
         "consumer",
         "Email",
         "WI"
        ],
        [
         "60132b85a4b74c3cbc516295",
         true,
         "2021-01-28T21:24:21.000Z",
         "2021-01-28T21:24:21.000Z",
         "consumer",
         "Email",
         "WI"
        ],
        [
         "6008897ab6310511daa4ebdc",
         true,
         "2021-01-20T19:50:18.000Z",
         "2021-01-20T19:50:18.000Z",
         "consumer",
         "Email",
         "WI"
        ],
        [
         "6014558467804a1228b20cf0",
         true,
         "2021-01-29T18:35:48.000Z",
         "2021-01-29T18:35:48.000Z",
         "consumer",
         "Email",
         "WI"
        ],
        [
         "600988557d983a11f63d08ef",
         true,
         "2021-01-21T13:57:41.000Z",
         "2021-01-21T13:57:41.000Z",
         "consumer",
         "Email",
         "WI"
        ],
        [
         "5ff7268c8f142f11dd189579",
         true,
         "2021-01-07T15:19:40.000Z",
         "2021-01-07T15:19:40.000Z",
         "consumer",
         "Email",
         "WI"
        ],
        [
         "5ff8c330b3348b11c9337a04",
         true,
         "2021-01-08T20:40:16.000Z",
         "2021-01-08T20:40:16.000Z",
         "consumer",
         "Email",
         "WI"
        ],
        [
         "602558b1efa60114d20e5dc7",
         true,
         "2021-02-11T16:17:53.000Z",
         "2021-02-11T16:17:53.000Z",
         "consumer",
         "Email",
         "WI"
        ],
        [
         "601465a584231211ce796da5",
         true,
         "2021-01-29T19:44:37.000Z",
         "2021-01-29T19:44:37.000Z",
         "consumer",
         "Email",
         "WI"
        ],
        [
         "5ff873ef04929111f6e910f0",
         true,
         "2021-01-08T15:02:07.000Z",
         "2021-01-08T15:02:07.000Z",
         "consumer",
         "Email",
         "WI"
        ],
        [
         "60005704bd4dff11dda90a9d",
         true,
         "2021-01-14T14:36:52.000Z",
         "2021-01-14T14:36:52.000Z",
         "consumer",
         "Email",
         "WI"
        ],
        [
         "5ff7949eb3348b11c93373d2",
         true,
         "2021-01-07T23:09:18.000Z",
         "2021-01-07T23:09:18.000Z",
         "consumer",
         "Email",
         "WI"
        ],
        [
         "5fff26bfb3348b03eb45bb32",
         true,
         "2021-01-13T16:58:39.000Z",
         "2021-01-13T16:58:39.000Z",
         "consumer",
         "Email",
         "WI"
        ],
        [
         "5ff3711e62fde912123a620e",
         true,
         "2021-01-04T19:48:46.000Z",
         "2021-01-04T19:48:46.000Z",
         "consumer",
         "Email",
         "WI"
        ],
        [
         "5ff8da7db3348b11c9337b6a",
         true,
         "2021-01-08T22:19:41.000Z",
         "2021-01-08T22:19:41.000Z",
         "consumer",
         "Email",
         "WI"
        ],
        [
         "6000d4bae2571211db395b9f",
         true,
         "2021-01-14T23:33:14.000Z",
         "2021-01-14T23:33:14.000Z",
         "consumer",
         "Email",
         "WI"
        ],
        [
         "6000d4abe2571211db395b5c",
         true,
         "2021-01-14T23:32:59.000Z",
         "2021-01-14T23:32:59.000Z",
         "consumer",
         "Email",
         "WI"
        ],
        [
         "5ffc9001b3348b11c93388b6",
         true,
         "2021-01-11T17:50:57.000Z",
         "2021-01-11T17:50:57.000Z",
         "consumer",
         "Email",
         "WI"
        ],
        [
         "5ffcb4bc04929111f6e92608",
         true,
         "2021-01-11T20:27:40.000Z",
         "2021-01-11T20:27:40.000Z",
         "consumer",
         "Email",
         "WI"
        ],
        [
         "60189c88c8b50e11d8454f2f",
         true,
         "2021-02-02T00:27:52.000Z",
         "2021-02-02T00:27:52.000Z",
         "consumer",
         "Email",
         "WI"
        ],
        [
         "5ff8a11db3348b11c93378aa",
         true,
         "2021-01-08T18:14:53.000Z",
         "2021-01-08T18:14:53.000Z",
         "consumer",
         "Email",
         "WI"
        ],
        [
         "6014558767804a1228b20d00",
         true,
         "2021-01-29T18:35:51.000Z",
         "2021-01-29T18:35:51.000Z",
         "consumer",
         "Email",
         "WI"
        ],
        [
         "5ff73bea8f142f3276c3e84a",
         true,
         "2021-01-07T16:50:50.000Z",
         "2021-01-07T16:50:50.000Z",
         "consumer",
         "Email",
         "WI"
        ],
        [
         "6010be65a4b74c120bd19edc",
         true,
         "2021-01-27T01:14:13.000Z",
         "2021-01-27T01:14:13.000Z",
         "consumer",
         "Email",
         "WI"
        ],
        [
         "601431c173c60b3ca7f3bf63",
         true,
         "2021-01-29T16:03:13.000Z",
         "2021-01-29T16:03:13.000Z",
         "consumer",
         "Email",
         "WI"
        ],
        [
         "5fff26f2b3348b03eb45bbb9",
         true,
         "2021-01-13T16:59:30.000Z",
         "2021-01-13T16:59:30.000Z",
         "consumer",
         "Email",
         "WI"
        ],
        [
         "5ff5d1d08f142f11dd18884c",
         true,
         "2021-01-06T15:05:52.000Z",
         "2021-01-06T15:05:52.000Z",
         "consumer",
         "Email",
         "WI"
        ],
        [
         "602538adb54593795bf692ac",
         true,
         "2021-02-11T14:01:17.000Z",
         "2021-02-11T14:01:17.000Z",
         "consumer",
         "Email",
         "WI"
        ],
        [
         "5ffc9d9f04929111f6e92456",
         true,
         "2021-01-11T18:49:03.000Z",
         "2021-01-11T18:49:03.000Z",
         "consumer",
         "Email",
         "WI"
        ],
        [
         "60145a5584231211ce796cac",
         true,
         "2021-01-29T18:56:21.000Z",
         "2021-01-29T18:56:21.000Z",
         "consumer",
         "Email",
         "WI"
        ],
        [
         "601c68d229c30a1227ada484",
         true,
         "2021-02-04T21:36:18.000Z",
         "2021-02-04T21:36:18.000Z",
         "consumer",
         "Email",
         "WI"
        ],
        [
         "5ff4ce34c3d63511e2a484ba",
         true,
         "2021-01-05T20:38:12.000Z",
         "2021-01-05T20:38:12.000Z",
         "consumer",
         "Email",
         "WI"
        ],
        [
         "60189c94c8b50e11d8454f6b",
         true,
         "2021-02-02T00:28:04.000Z",
         "2021-02-02T00:28:04.000Z",
         "consumer",
         "Email",
         "WI"
        ],
        [
         "600746fd6e64691717e8cfb5",
         true,
         "2021-01-19T20:54:21.000Z",
         "2021-01-19T20:54:21.000Z",
         "consumer",
         "Email",
         "WI"
        ],
        [
         "5ff473e7c1e2d0121a9b2697",
         true,
         "2021-01-05T14:12:55.000Z",
         "2021-01-05T14:12:55.000Z",
         "consumer",
         "Email",
         "WI"
        ],
        [
         "5ff8da7eb3348b11c9337b72",
         true,
         "2021-01-08T22:19:42.000Z",
         "2021-01-08T22:19:42.000Z",
         "consumer",
         "Email",
         "WI"
        ],
        [
         "5ff8d634b3348b11c9337aa4",
         true,
         "2021-01-08T22:01:24.000Z",
         "2021-01-08T22:01:24.000Z",
         "consumer",
         "Email",
         "WI"
        ],
        [
         "600fb1ec73c60b1204902af4",
         true,
         "2021-01-26T06:08:44.000Z",
         "2021-01-26T06:08:44.000Z",
         "consumer",
         "Email",
         "WI"
        ],
        [
         "5ff1e1f1cfcf6c399c274b0b",
         true,
         "2021-01-03T15:25:37.000Z",
         "2021-01-03T15:25:37.000Z",
         "consumer",
         "Email",
         "WI"
        ],
        [
         "60088a46b6310511daa4ec97",
         true,
         "2021-01-20T19:53:42.000Z",
         "2021-01-20T19:53:42.000Z",
         "consumer",
         "Email",
         "WI"
        ],
        [
         "5ff5d1a38f142f11dd1886ba",
         true,
         "2021-01-06T15:05:07.000Z",
         "2021-01-06T15:05:07.000Z",
         "consumer",
         "Email",
         "WI"
        ],
        [
         "5ff4ce3dc3d63511e2a484dc",
         true,
         "2021-01-05T20:38:21.000Z",
         "2021-01-05T20:38:21.000Z",
         "consumer",
         "Email",
         "WI"
        ],
        [
         "5ff1e1b7cfcf6c399c274a5a",
         true,
         "2021-01-03T15:24:39.000Z",
         "2021-01-03T15:24:39.000Z",
         "consumer",
         "Email",
         "WI"
        ],
        [
         "6010be6173c60b12049040d7",
         true,
         "2021-01-27T01:14:09.000Z",
         "2021-01-27T01:14:09.000Z",
         "consumer",
         "Email",
         "WI"
        ],
        [
         "60074246325c8a12289e22a0",
         true,
         "2021-01-19T20:34:15.000Z",
         "2021-01-19T20:34:15.000Z",
         "consumer",
         "Email",
         "WI"
        ],
        [
         "602176a3b57b8a12187fe717",
         true,
         "2021-02-08T17:36:35.000Z",
         "2021-02-08T17:36:35.000Z",
         "consumer",
         "Email",
         "WI"
        ],
        [
         "5ff1e1eacfcf6c399c274ae6",
         true,
         "2021-01-03T15:25:30.000Z",
         "2021-01-03T15:25:30.000Z",
         "consumer",
         "Email",
         "WI"
        ]
       ],
       "datasetInfos": [
        {
         "name": "_sqldf",
         "schema": {
          "fields": [
           {
            "metadata": {},
            "name": "_id",
            "nullable": true,
            "type": "string"
           },
           {
            "metadata": {},
            "name": "active",
            "nullable": true,
            "type": "boolean"
           },
           {
            "metadata": {},
            "name": "createdDate",
            "nullable": true,
            "type": "timestamp"
           },
           {
            "metadata": {},
            "name": "lastLogin",
            "nullable": true,
            "type": "timestamp"
           },
           {
            "metadata": {},
            "name": "role",
            "nullable": true,
            "type": "string"
           },
           {
            "metadata": {},
            "name": "signUpSource",
            "nullable": true,
            "type": "string"
           },
           {
            "metadata": {},
            "name": "state",
            "nullable": true,
            "type": "string"
           }
          ],
          "type": "struct"
         },
         "tableIdentifier": null,
         "typeStr": "pyspark.sql.connect.dataframe.DataFrame"
        }
       ],
       "dbfsResultPath": null,
       "isJsonSchema": true,
       "metadata": {
        "createTempViewForImplicitDf": true,
        "dataframeName": "_sqldf",
        "executionCount": 210
       },
       "overflow": false,
       "plotOptions": {
        "customPlotOptions": {},
        "displayType": "table",
        "pivotAggregation": null,
        "pivotColumns": null,
        "xColumns": null,
        "yColumns": null
       },
       "removedWidgets": [],
       "schema": [
        {
         "metadata": "{}",
         "name": "_id",
         "type": "\"string\""
        },
        {
         "metadata": "{}",
         "name": "active",
         "type": "\"boolean\""
        },
        {
         "metadata": "{}",
         "name": "createdDate",
         "type": "\"timestamp\""
        },
        {
         "metadata": "{}",
         "name": "lastLogin",
         "type": "\"timestamp\""
        },
        {
         "metadata": "{}",
         "name": "role",
         "type": "\"string\""
        },
        {
         "metadata": "{}",
         "name": "signUpSource",
         "type": "\"string\""
        },
        {
         "metadata": "{}",
         "name": "state",
         "type": "\"string\""
        }
       ],
       "type": "table"
      }
     },
     "output_type": "display_data"
    }
   ],
   "source": [
    "%sql\n",
    "-- Displaying the records that seemingly had lastLogin set to createdDate (39% of the population)\n",
    "-- This is an indication that the system has sporadic issues when creating a user record and setting the lastLogin to createdDate upon creation\n",
    "select \n",
    "  *\n",
    "from fetch.users_processed\n",
    "where createdDate = lastLogin"
   ]
  },
  {
   "cell_type": "code",
   "execution_count": 0,
   "metadata": {
    "application/vnd.databricks.v1+cell": {
     "cellMetadata": {
      "byteLimit": 2048000,
      "implicitDf": true,
      "rowLimit": 10000
     },
     "inputWidgets": {},
     "nuid": "90f20cdb-d9f6-4dec-834a-9405dd15101e",
     "showTitle": false,
     "tableResultSettingsMap": {},
     "title": ""
    }
   },
   "outputs": [
    {
     "output_type": "display_data",
     "data": {
      "text/html": [
       "<style scoped>\n",
       "  .table-result-container {\n",
       "    max-height: 300px;\n",
       "    overflow: auto;\n",
       "  }\n",
       "  table, th, td {\n",
       "    border: 1px solid black;\n",
       "    border-collapse: collapse;\n",
       "  }\n",
       "  th, td {\n",
       "    padding: 5px;\n",
       "  }\n",
       "  th {\n",
       "    text-align: left;\n",
       "  }\n",
       "</style><div class='table-result-container'><table class='table-result'><thead style='background-color: white'><tr><th>signUpSourceNulls</th><th>signUpNullsPercentage</th><th>stateNulls</th><th>stateNullsPercentage</th></tr></thead><tbody><tr><td>3</td><td>0.38</td><td>3</td><td>0.38</td></tr></tbody></table></div>"
      ]
     },
     "metadata": {
      "application/vnd.databricks.v1+output": {
       "addedWidgets": {},
       "aggData": [],
       "aggError": "",
       "aggOverflow": false,
       "aggSchema": [],
       "aggSeriesLimitReached": false,
       "aggType": "",
       "arguments": {},
       "columnCustomDisplayInfos": {},
       "data": [
        [
         3,
         0.38,
         3,
         0.38
        ]
       ],
       "datasetInfos": [
        {
         "name": "_sqldf",
         "schema": {
          "fields": [
           {
            "metadata": {},
            "name": "signUpSourceNulls",
            "nullable": true,
            "type": "long"
           },
           {
            "metadata": {},
            "name": "signUpNullsPercentage",
            "nullable": true,
            "type": "double"
           },
           {
            "metadata": {},
            "name": "stateNulls",
            "nullable": true,
            "type": "long"
           },
           {
            "metadata": {},
            "name": "stateNullsPercentage",
            "nullable": true,
            "type": "double"
           }
          ],
          "type": "struct"
         },
         "tableIdentifier": null,
         "typeStr": "pyspark.sql.connect.dataframe.DataFrame"
        }
       ],
       "dbfsResultPath": null,
       "isJsonSchema": true,
       "metadata": {
        "createTempViewForImplicitDf": true,
        "dataframeName": "_sqldf",
        "executionCount": 205
       },
       "overflow": false,
       "plotOptions": {
        "customPlotOptions": {},
        "displayType": "table",
        "pivotAggregation": null,
        "pivotColumns": null,
        "xColumns": null,
        "yColumns": null
       },
       "removedWidgets": [],
       "schema": [
        {
         "metadata": "{}",
         "name": "signUpSourceNulls",
         "type": "\"long\""
        },
        {
         "metadata": "{}",
         "name": "signUpNullsPercentage",
         "type": "\"double\""
        },
        {
         "metadata": "{}",
         "name": "stateNulls",
         "type": "\"long\""
        },
        {
         "metadata": "{}",
         "name": "stateNullsPercentage",
         "type": "\"double\""
        }
       ],
       "type": "table"
      }
     },
     "output_type": "display_data"
    }
   ],
   "source": [
    "%sql\n",
    "-- Examining fetch-staff users\n",
    "-- Data quality issues: \n",
    "-- 1. Out of 8 staff, 38% of them are missing a singUpSource\n",
    "-- 2. Out of 8 staff, 38% of them are missing a value for state\n",
    "select  \n",
    "  sum(case when signUpSource is null then 1 else 0 end) as signUpSourceNulls,\n",
    "  round(sum(case when signUpSource is null then 1 else 0 end)/count(*), 2)  as signUpNullsPercentage,\n",
    "  sum(case when state is null then 1 else 0 end) as stateNulls,\n",
    "  round(sum(case when state is null then 1 else 0 end)/count(*), 2) as stateNullsPercentage\n",
    "from fetch.users_processed\n",
    "where role = 'fetch-staff'\n"
   ]
  },
  {
   "cell_type": "code",
   "execution_count": 0,
   "metadata": {
    "application/vnd.databricks.v1+cell": {
     "cellMetadata": {
      "byteLimit": 2048000,
      "implicitDf": true,
      "rowLimit": 10000
     },
     "inputWidgets": {},
     "nuid": "6e0c86d2-b219-4901-bedb-5725633f1903",
     "showTitle": false,
     "tableResultSettingsMap": {},
     "title": ""
    }
   },
   "outputs": [
    {
     "output_type": "display_data",
     "data": {
      "text/html": [
       "<style scoped>\n",
       "  .table-result-container {\n",
       "    max-height: 300px;\n",
       "    overflow: auto;\n",
       "  }\n",
       "  table, th, td {\n",
       "    border: 1px solid black;\n",
       "    border-collapse: collapse;\n",
       "  }\n",
       "  th, td {\n",
       "    padding: 5px;\n",
       "  }\n",
       "  th {\n",
       "    text-align: left;\n",
       "  }\n",
       "</style><div class='table-result-container'><table class='table-result'><thead style='background-color: white'><tr><th>id_nulls_percentage</th><th>active_nulls_percentage</th><th>createdDate_nulls_percentage</th><th>lastLogin_nulls_percentage</th><th>role_nulls_percentage</th><th>signUpSource_nulls_percentage</th><th>state_nulls_percentage</th></tr></thead><tbody><tr><td>0.0</td><td>0.0</td><td>0.0</td><td>0.19</td><td>0.0</td><td>0.02</td><td>0.03</td></tr></tbody></table></div>"
      ]
     },
     "metadata": {
      "application/vnd.databricks.v1+output": {
       "addedWidgets": {},
       "aggData": [],
       "aggError": "",
       "aggOverflow": false,
       "aggSchema": [],
       "aggSeriesLimitReached": false,
       "aggType": "",
       "arguments": {},
       "columnCustomDisplayInfos": {},
       "data": [
        [
         0.0,
         0.0,
         0.0,
         0.19,
         0.0,
         0.02,
         0.03
        ]
       ],
       "datasetInfos": [
        {
         "name": "_sqldf",
         "schema": {
          "fields": [
           {
            "metadata": {},
            "name": "id_nulls_percentage",
            "nullable": true,
            "type": "double"
           },
           {
            "metadata": {},
            "name": "active_nulls_percentage",
            "nullable": true,
            "type": "double"
           },
           {
            "metadata": {},
            "name": "createdDate_nulls_percentage",
            "nullable": true,
            "type": "double"
           },
           {
            "metadata": {},
            "name": "lastLogin_nulls_percentage",
            "nullable": true,
            "type": "double"
           },
           {
            "metadata": {},
            "name": "role_nulls_percentage",
            "nullable": true,
            "type": "double"
           },
           {
            "metadata": {},
            "name": "signUpSource_nulls_percentage",
            "nullable": true,
            "type": "double"
           },
           {
            "metadata": {},
            "name": "state_nulls_percentage",
            "nullable": true,
            "type": "double"
           }
          ],
          "type": "struct"
         },
         "tableIdentifier": null,
         "typeStr": "pyspark.sql.connect.dataframe.DataFrame"
        }
       ],
       "dbfsResultPath": null,
       "isJsonSchema": true,
       "metadata": {
        "createTempViewForImplicitDf": true,
        "dataframeName": "_sqldf",
        "executionCount": 42
       },
       "overflow": false,
       "plotOptions": {
        "customPlotOptions": {},
        "displayType": "table",
        "pivotAggregation": null,
        "pivotColumns": null,
        "xColumns": null,
        "yColumns": null
       },
       "removedWidgets": [],
       "schema": [
        {
         "metadata": "{}",
         "name": "id_nulls_percentage",
         "type": "\"double\""
        },
        {
         "metadata": "{}",
         "name": "active_nulls_percentage",
         "type": "\"double\""
        },
        {
         "metadata": "{}",
         "name": "createdDate_nulls_percentage",
         "type": "\"double\""
        },
        {
         "metadata": "{}",
         "name": "lastLogin_nulls_percentage",
         "type": "\"double\""
        },
        {
         "metadata": "{}",
         "name": "role_nulls_percentage",
         "type": "\"double\""
        },
        {
         "metadata": "{}",
         "name": "signUpSource_nulls_percentage",
         "type": "\"double\""
        },
        {
         "metadata": "{}",
         "name": "state_nulls_percentage",
         "type": "\"double\""
        }
       ],
       "type": "table"
      }
     },
     "output_type": "display_data"
    }
   ],
   "source": [
    "%sql\n",
    "-- Query to display data quality issues for each column\n",
    "-- Only the lastLogin, SignUpSource, and state columns have issues\n",
    "select \n",
    "  round(sum(case when _id is null then 1 else 0 end)/ count(*), 2) as id_nulls_percentage,\n",
    "  round(sum(case when active is null then 1 else 0 end)/ count(*), 2) as active_nulls_percentage,\n",
    "  round(sum(case when createdDate is null then 1 else 0 end)/ count(*), 2) as createdDate_nulls_percentage,\n",
    "  round(sum(case when lastLogin is null then 1 else 0 end)/ count(*), 2) as lastLogin_nulls_percentage,\n",
    "  round(sum(case when role is null then 1 else 0 end)/ count(*), 2) as role_nulls_percentage,\n",
    "  round(sum(case when signUpSource is null then 1 else 0 end)/ count(*), 2) as signUpSource_nulls_percentage,\n",
    "  round(sum(case when state is null then 1 else 0 end)/ count(*), 2) as state_nulls_percentage\n",
    "from fetch.users_processed  "
   ]
  },
  {
   "cell_type": "markdown",
   "metadata": {
    "application/vnd.databricks.v1+cell": {
     "cellMetadata": {},
     "inputWidgets": {},
     "nuid": "ec8b118a-81d7-4a19-9164-549f1ee53633",
     "showTitle": false,
     "tableResultSettingsMap": {},
     "title": ""
    }
   },
   "source": [
    "#### Cleaning Brands\n",
    "* Following commands clean the brands raw table and perform data quality checks against the data"
   ]
  },
  {
   "cell_type": "code",
   "execution_count": 0,
   "metadata": {
    "application/vnd.databricks.v1+cell": {
     "cellMetadata": {
      "byteLimit": 2048000,
      "rowLimit": 10000
     },
     "inputWidgets": {},
     "nuid": "180d4f02-4dfe-4d32-9730-1499dc419770",
     "showTitle": false,
     "tableResultSettingsMap": {},
     "title": ""
    }
   },
   "outputs": [],
   "source": [
    "# Accessing elements from structs and creating a temp view for further processing\n",
    "df = (spark.table(\"fetch.brands_raw\")\n",
    "             .withColumn('_id', col(\"_id.$oid\"))\n",
    "             .withColumn('cpg_id', col(\"cpg.$id.$oid\"))\n",
    "             .withColumn('cpg_reference', col(\"cpg.$ref\"))\n",
    "             .selectExpr(\n",
    "                \"_id\",\n",
    "                \"barcode\",\n",
    "                \"brandCode\",\n",
    "                \"category\",\n",
    "                \"categoryCode\",\n",
    "                \"cpg_id\",\n",
    "                \"cpg_reference\",\n",
    "                \"name\",\n",
    "                \"topBrand\")\n",
    "             .distinct()\n",
    "             )\n",
    "\n",
    "df.createOrReplaceTempView(\"temp_brands\")"
   ]
  },
  {
   "cell_type": "code",
   "execution_count": 0,
   "metadata": {
    "application/vnd.databricks.v1+cell": {
     "cellMetadata": {
      "byteLimit": 2048000,
      "implicitDf": true,
      "rowLimit": 10000
     },
     "inputWidgets": {},
     "nuid": "8242794c-a8c3-4be6-8b24-6273bfd766fb",
     "showTitle": false,
     "tableResultSettingsMap": {},
     "title": ""
    }
   },
   "outputs": [
    {
     "output_type": "display_data",
     "data": {
      "text/html": [
       "<style scoped>\n",
       "  .table-result-container {\n",
       "    max-height: 300px;\n",
       "    overflow: auto;\n",
       "  }\n",
       "  table, th, td {\n",
       "    border: 1px solid black;\n",
       "    border-collapse: collapse;\n",
       "  }\n",
       "  th, td {\n",
       "    padding: 5px;\n",
       "  }\n",
       "  th {\n",
       "    text-align: left;\n",
       "  }\n",
       "</style><div class='table-result-container'><table class='table-result'><thead style='background-color: white'><tr><th>brandcode_equals_name</th><th>brandcode_equals_name_percentage</th></tr></thead><tbody><tr><td>389</td><td>81.0</td></tr></tbody></table></div>"
      ]
     },
     "metadata": {
      "application/vnd.databricks.v1+output": {
       "addedWidgets": {},
       "aggData": [],
       "aggError": "",
       "aggOverflow": false,
       "aggSchema": [],
       "aggSeriesLimitReached": false,
       "aggType": "",
       "arguments": {},
       "columnCustomDisplayInfos": {},
       "data": [
        [
         389,
         81.0
        ]
       ],
       "datasetInfos": [
        {
         "name": "_sqldf",
         "schema": {
          "fields": [
           {
            "metadata": {},
            "name": "brandcode_equals_name",
            "nullable": true,
            "type": "long"
           },
           {
            "metadata": {},
            "name": "brandcode_equals_name_percentage",
            "nullable": true,
            "type": "double"
           }
          ],
          "type": "struct"
         },
         "tableIdentifier": null,
         "typeStr": "pyspark.sql.connect.dataframe.DataFrame"
        }
       ],
       "dbfsResultPath": null,
       "isJsonSchema": true,
       "metadata": {
        "createTempViewForImplicitDf": true,
        "dataframeName": "_sqldf",
        "executionCount": 308
       },
       "overflow": false,
       "plotOptions": {
        "customPlotOptions": {},
        "displayType": "table",
        "pivotAggregation": null,
        "pivotColumns": null,
        "xColumns": null,
        "yColumns": null
       },
       "removedWidgets": [],
       "schema": [
        {
         "metadata": "{}",
         "name": "brandcode_equals_name",
         "type": "\"long\""
        },
        {
         "metadata": "{}",
         "name": "brandcode_equals_name_percentage",
         "type": "\"double\""
        }
       ],
       "type": "table"
      }
     },
     "output_type": "display_data"
    }
   ],
   "source": [
    "%sql\n",
    "-- Brandcode and Name appear to be the same minus the fact that brandcode is generally uppercased and name is typically just capitalized\n",
    "-- Exploring the possiblity of backfilling the brandcode with name in the case of nulls\n",
    "with cleaned_strings as (\n",
    "  select \n",
    "    lower(regexp_replace(brandcode, '[^a-zA-Z0-9]', '')) AS cleaned_brandcode,\n",
    "    lower(regexp_replace(name, '[^a-zA-Z0-9]', '')) AS cleaned_name\n",
    "  from temp_brands\n",
    "  where brandcode is not null -- Removing nulls\n",
    "  and length(brandcode) > 0 -- Removing blanks\n",
    "  and try_cast(brandCode as DOUBLE) is  null -- Removing Numeric \n",
    "  and lower(brandcode) not like \"%test%\" -- Removing test records\n",
    ")\n",
    "\n",
    "-- 81% of the records match the pattern so we can try to improve data quality by backfilling the brandcode with name\n",
    "select \n",
    "  sum(case when lower(cleaned_brandcode) = lower(cleaned_name) then 1 else 0 end) as brandcode_equals_name,\n",
    "  round(sum(case when lower(cleaned_brandcode) = lower(cleaned_name) then 1 else 0 end)/count(*),2) * 100 as brandcode_equals_name_percentage\n",
    "from cleaned_strings"
   ]
  },
  {
   "cell_type": "code",
   "execution_count": 0,
   "metadata": {
    "application/vnd.databricks.v1+cell": {
     "cellMetadata": {
      "byteLimit": 2048000,
      "implicitDf": true,
      "rowLimit": 10000
     },
     "inputWidgets": {},
     "nuid": "d397afc2-b969-4b0c-8e1c-c913a7796e56",
     "showTitle": false,
     "tableResultSettingsMap": {},
     "title": ""
    }
   },
   "outputs": [
    {
     "output_type": "display_data",
     "data": {
      "text/html": [
       "<style scoped>\n",
       "  .table-result-container {\n",
       "    max-height: 300px;\n",
       "    overflow: auto;\n",
       "  }\n",
       "  table, th, td {\n",
       "    border: 1px solid black;\n",
       "    border-collapse: collapse;\n",
       "  }\n",
       "  th, td {\n",
       "    padding: 5px;\n",
       "  }\n",
       "  th {\n",
       "    text-align: left;\n",
       "  }\n",
       "</style><div class='table-result-container'><table class='table-result'><thead style='background-color: white'><tr><th>match_count</th><th>match_percentage</th></tr></thead><tbody><tr><td>14</td><td>100.0</td></tr></tbody></table></div>"
      ]
     },
     "metadata": {
      "application/vnd.databricks.v1+output": {
       "addedWidgets": {},
       "aggData": [],
       "aggError": "",
       "aggOverflow": false,
       "aggSchema": [],
       "aggSeriesLimitReached": false,
       "aggType": "",
       "arguments": {},
       "columnCustomDisplayInfos": {},
       "data": [
        [
         14,
         100.0
        ]
       ],
       "datasetInfos": [
        {
         "name": "_sqldf",
         "schema": {
          "fields": [
           {
            "metadata": {},
            "name": "match_count",
            "nullable": true,
            "type": "long"
           },
           {
            "metadata": {},
            "name": "match_percentage",
            "nullable": true,
            "type": "double"
           }
          ],
          "type": "struct"
         },
         "tableIdentifier": null,
         "typeStr": "pyspark.sql.connect.dataframe.DataFrame"
        }
       ],
       "dbfsResultPath": null,
       "isJsonSchema": true,
       "metadata": {
        "createTempViewForImplicitDf": true,
        "dataframeName": "_sqldf",
        "executionCount": 497
       },
       "overflow": false,
       "plotOptions": {
        "customPlotOptions": {},
        "displayType": "table",
        "pivotAggregation": null,
        "pivotColumns": null,
        "xColumns": null,
        "yColumns": null
       },
       "removedWidgets": [],
       "schema": [
        {
         "metadata": "{}",
         "name": "match_count",
         "type": "\"long\""
        },
        {
         "metadata": "{}",
         "name": "match_percentage",
         "type": "\"double\""
        }
       ],
       "type": "table"
      }
     },
     "output_type": "display_data"
    }
   ],
   "source": [
    "%sql\n",
    "-- Investigating categoryCode nulls and if it could potentially be backfilled with category with some adjustments\n",
    "-- Transforming categoryCode sligthly and checking the match rate between the adjusted value and the category field\n",
    "-- Query shows that the two fields matched 100% with 1 case condition needed for Health and Wellness\n",
    "with categories as (\n",
    "select distinct\n",
    "  category,\n",
    "  categoryCode as rawCategoryCode,\n",
    "  case \n",
    "  when categoryCode like \"HEALTHY%\" then \"Health & Wellness\"\n",
    "  when categoryCode not like \"HEALTHY%\" then initcap((regexp_replace(replace(categoryCode, '_', ' '), '\\\\bAND\\\\b', '&')))\n",
    "  end as newCategoryCode\n",
    "from temp_brands\n",
    "where categoryCode is not null)\n",
    "\n",
    "select \n",
    "  sum(case when newCategoryCode = category then 1 else 0 end) as match_count,\n",
    "  round(sum(case when newCategoryCode = category then 1 else 0 end)/count(*),2) * 100  as match_percentage\n",
    "from categories"
   ]
  },
  {
   "cell_type": "code",
   "execution_count": 0,
   "metadata": {
    "application/vnd.databricks.v1+cell": {
     "cellMetadata": {
      "byteLimit": 2048000,
      "implicitDf": true,
      "rowLimit": 10000
     },
     "inputWidgets": {},
     "nuid": "4c6d24ff-c4ec-4653-8e72-fe70f7ecea28",
     "showTitle": false,
     "tableResultSettingsMap": {},
     "title": ""
    }
   },
   "outputs": [
    {
     "output_type": "display_data",
     "data": {
      "text/html": [
       "<style scoped>\n",
       "  .table-result-container {\n",
       "    max-height: 300px;\n",
       "    overflow: auto;\n",
       "  }\n",
       "  table, th, td {\n",
       "    border: 1px solid black;\n",
       "    border-collapse: collapse;\n",
       "  }\n",
       "  th, td {\n",
       "    padding: 5px;\n",
       "  }\n",
       "  th {\n",
       "    text-align: left;\n",
       "  }\n",
       "</style><div class='table-result-container'><table class='table-result'><thead style='background-color: white'><tr><th>num_affected_rows</th><th>num_inserted_rows</th></tr></thead><tbody></tbody></table></div>"
      ]
     },
     "metadata": {
      "application/vnd.databricks.v1+output": {
       "addedWidgets": {},
       "aggData": [],
       "aggError": "",
       "aggOverflow": false,
       "aggSchema": [],
       "aggSeriesLimitReached": false,
       "aggType": "",
       "arguments": {},
       "columnCustomDisplayInfos": {},
       "data": [],
       "datasetInfos": [
        {
         "name": "_sqldf",
         "schema": {
          "fields": [
           {
            "metadata": {},
            "name": "num_affected_rows",
            "nullable": true,
            "type": "long"
           },
           {
            "metadata": {},
            "name": "num_inserted_rows",
            "nullable": true,
            "type": "long"
           }
          ],
          "type": "struct"
         },
         "tableIdentifier": null,
         "typeStr": "pyspark.sql.connect.dataframe.DataFrame"
        }
       ],
       "dbfsResultPath": null,
       "isJsonSchema": true,
       "metadata": {
        "createTempViewForImplicitDf": true,
        "dataframeName": "_sqldf",
        "executionCount": 221
       },
       "overflow": false,
       "plotOptions": {
        "customPlotOptions": {},
        "displayType": "table",
        "pivotAggregation": null,
        "pivotColumns": null,
        "xColumns": null,
        "yColumns": null
       },
       "removedWidgets": [],
       "schema": [
        {
         "metadata": "{}",
         "name": "num_affected_rows",
         "type": "\"long\""
        },
        {
         "metadata": "{}",
         "name": "num_inserted_rows",
         "type": "\"long\""
        }
       ],
       "type": "table"
      }
     },
     "output_type": "display_data"
    }
   ],
   "source": [
    "%sql\n",
    "-- Creating table using temp view and cte\n",
    "Create Or Replace Table fetch.brands_processed as\n",
    "with cleaned as (\n",
    "select\n",
    "  _id,\n",
    "  barcode,\n",
    "  case \n",
    "  when brandcode is null or length(brandcode) = 0 or try_cast(brandCode as DOUBLE) is not null then upper(name)\n",
    "  else brandcode end as brandCode,\n",
    "  category,\n",
    "  case \n",
    "  when category like \"Health%\" then \"HEALTH_AND_WELLNESS\"\n",
    "  when category not like \"Health%\" then upper((regexp_replace(replace(category, ' ', '_'), '\\\\b&\\\\b', 'AND')))\n",
    "  end as categoryCode,\n",
    "  cpg_id as cpgID,\n",
    "  cpg_reference as cpgReference,\n",
    "  initcap(name) as name,\n",
    "  topBrand\n",
    "from temp_brands)\n",
    "\n",
    "-- Removing test records for now\n",
    "select \n",
    "  *\n",
    "from cleaned\n",
    "where lower(brandCode) not like \"%test%\""
   ]
  },
  {
   "cell_type": "code",
   "execution_count": 0,
   "metadata": {
    "application/vnd.databricks.v1+cell": {
     "cellMetadata": {
      "byteLimit": 2048000,
      "implicitDf": true,
      "rowLimit": 10000
     },
     "inputWidgets": {},
     "nuid": "91ff719e-4e1f-44d7-af88-0d317499f198",
     "showTitle": false,
     "tableResultSettingsMap": {},
     "title": ""
    }
   },
   "outputs": [
    {
     "output_type": "display_data",
     "data": {
      "text/html": [
       "<style scoped>\n",
       "  .table-result-container {\n",
       "    max-height: 300px;\n",
       "    overflow: auto;\n",
       "  }\n",
       "  table, th, td {\n",
       "    border: 1px solid black;\n",
       "    border-collapse: collapse;\n",
       "  }\n",
       "  th, td {\n",
       "    padding: 5px;\n",
       "  }\n",
       "  th {\n",
       "    text-align: left;\n",
       "  }\n",
       "</style><div class='table-result-container'><table class='table-result'><thead style='background-color: white'><tr><th>id_nulls_percentage</th><th>barcode_nulls_percentage</th><th>brandCode_nulls_percentage</th><th>category_nulls_percentage</th><th>categoryCode_nulls_percentage</th><th>cpgID_nulls_percentage</th><th>cpgReference_nulls_percentage</th><th>name_nulls_percentage</th><th>topBrand_nulls_percentage</th></tr></thead><tbody><tr><td>0.0</td><td>0.0</td><td>0.0</td><td>0.21</td><td>0.21</td><td>0.0</td><td>0.0</td><td>0.0</td><td>0.55</td></tr></tbody></table></div>"
      ]
     },
     "metadata": {
      "application/vnd.databricks.v1+output": {
       "addedWidgets": {},
       "aggData": [],
       "aggError": "",
       "aggOverflow": false,
       "aggSchema": [],
       "aggSeriesLimitReached": false,
       "aggType": "",
       "arguments": {},
       "columnCustomDisplayInfos": {},
       "data": [
        [
         0.0,
         0.0,
         0.0,
         0.21,
         0.21,
         0.0,
         0.0,
         0.0,
         0.55
        ]
       ],
       "datasetInfos": [
        {
         "name": "_sqldf",
         "schema": {
          "fields": [
           {
            "metadata": {},
            "name": "id_nulls_percentage",
            "nullable": true,
            "type": "double"
           },
           {
            "metadata": {},
            "name": "barcode_nulls_percentage",
            "nullable": true,
            "type": "double"
           },
           {
            "metadata": {},
            "name": "brandCode_nulls_percentage",
            "nullable": true,
            "type": "double"
           },
           {
            "metadata": {},
            "name": "category_nulls_percentage",
            "nullable": true,
            "type": "double"
           },
           {
            "metadata": {},
            "name": "categoryCode_nulls_percentage",
            "nullable": true,
            "type": "double"
           },
           {
            "metadata": {},
            "name": "cpgID_nulls_percentage",
            "nullable": true,
            "type": "double"
           },
           {
            "metadata": {},
            "name": "cpgReference_nulls_percentage",
            "nullable": true,
            "type": "double"
           },
           {
            "metadata": {},
            "name": "name_nulls_percentage",
            "nullable": true,
            "type": "double"
           },
           {
            "metadata": {},
            "name": "topBrand_nulls_percentage",
            "nullable": true,
            "type": "double"
           }
          ],
          "type": "struct"
         },
         "tableIdentifier": null,
         "typeStr": "pyspark.sql.connect.dataframe.DataFrame"
        }
       ],
       "dbfsResultPath": null,
       "isJsonSchema": true,
       "metadata": {
        "createTempViewForImplicitDf": true,
        "dataframeName": "_sqldf",
        "executionCount": 227
       },
       "overflow": false,
       "plotOptions": {
        "customPlotOptions": {},
        "displayType": "table",
        "pivotAggregation": null,
        "pivotColumns": null,
        "xColumns": null,
        "yColumns": null
       },
       "removedWidgets": [],
       "schema": [
        {
         "metadata": "{}",
         "name": "id_nulls_percentage",
         "type": "\"double\""
        },
        {
         "metadata": "{}",
         "name": "barcode_nulls_percentage",
         "type": "\"double\""
        },
        {
         "metadata": "{}",
         "name": "brandCode_nulls_percentage",
         "type": "\"double\""
        },
        {
         "metadata": "{}",
         "name": "category_nulls_percentage",
         "type": "\"double\""
        },
        {
         "metadata": "{}",
         "name": "categoryCode_nulls_percentage",
         "type": "\"double\""
        },
        {
         "metadata": "{}",
         "name": "cpgID_nulls_percentage",
         "type": "\"double\""
        },
        {
         "metadata": "{}",
         "name": "cpgReference_nulls_percentage",
         "type": "\"double\""
        },
        {
         "metadata": "{}",
         "name": "name_nulls_percentage",
         "type": "\"double\""
        },
        {
         "metadata": "{}",
         "name": "topBrand_nulls_percentage",
         "type": "\"double\""
        }
       ],
       "type": "table"
      }
     },
     "output_type": "display_data"
    }
   ],
   "source": [
    "%sql\n",
    "-- Query to display data quality issues for each column\n",
    "-- More than half the brands are missing a value for the topBrand field. Potentially recommend removal of this field or update this field based on query with reciepts\n",
    "select \n",
    "  round(sum(case when _id is null then 1 else 0 end)/ count(*), 2) as id_nulls_percentage,\n",
    "  round(sum(case when barcode is null then 1 else 0 end)/ count(*), 2) as barcode_nulls_percentage,\n",
    "  round(sum(case when brandCode is null then 1 else 0 end)/ count(*), 2) as brandCode_nulls_percentage,\n",
    "  round(sum(case when category is null then 1 else 0 end)/ count(*), 2) as category_nulls_percentage,\n",
    "  round(sum(case when categoryCode is null then 1 else 0 end)/ count(*), 2) as categoryCode_nulls_percentage,\n",
    "  round(sum(case when cpgID is null then 1 else 0 end)/ count(*), 2) as cpgID_nulls_percentage,\n",
    "  round(sum(case when cpgReference is null then 1 else 0 end)/ count(*), 2) as cpgReference_nulls_percentage,\n",
    "  round(sum(case when name is null then 1 else 0 end)/ count(*), 2) as name_nulls_percentage,\n",
    "  round(sum(case when topBrand is null then 1 else 0 end)/ count(*), 2) as topBrand_nulls_percentage\n",
    "from fetch.brands_processed  "
   ]
  },
  {
   "cell_type": "code",
   "execution_count": 0,
   "metadata": {
    "application/vnd.databricks.v1+cell": {
     "cellMetadata": {
      "byteLimit": 2048000,
      "implicitDf": true,
      "rowLimit": 10000
     },
     "inputWidgets": {},
     "nuid": "73d77182-8ac6-4386-a102-7664f5a210d1",
     "showTitle": false,
     "tableResultSettingsMap": {},
     "title": ""
    }
   },
   "outputs": [
    {
     "output_type": "display_data",
     "data": {
      "text/html": [
       "<style scoped>\n",
       "  .table-result-container {\n",
       "    max-height: 300px;\n",
       "    overflow: auto;\n",
       "  }\n",
       "  table, th, td {\n",
       "    border: 1px solid black;\n",
       "    border-collapse: collapse;\n",
       "  }\n",
       "  th, td {\n",
       "    padding: 5px;\n",
       "  }\n",
       "  th {\n",
       "    text-align: left;\n",
       "  }\n",
       "</style><div class='table-result-container'><table class='table-result'><thead style='background-color: white'><tr><th>cpgReference</th><th>category_nulls_percentage</th><th>categoryCode_nulls_percentage</th></tr></thead><tbody><tr><td>Cpgs</td><td>0.9251700680272109</td><td>0.9251700680272109</td></tr><tr><td>Cogs</td><td>0.03231292517006803</td><td>0.03231292517006803</td></tr></tbody></table></div>"
      ]
     },
     "metadata": {
      "application/vnd.databricks.v1+output": {
       "addedWidgets": {},
       "aggData": [],
       "aggError": "",
       "aggOverflow": false,
       "aggSchema": [],
       "aggSeriesLimitReached": false,
       "aggType": "",
       "arguments": {},
       "columnCustomDisplayInfos": {},
       "data": [
        [
         "Cpgs",
         0.9251700680272109,
         0.9251700680272109
        ],
        [
         "Cogs",
         0.03231292517006803,
         0.03231292517006803
        ]
       ],
       "datasetInfos": [
        {
         "name": "_sqldf",
         "schema": {
          "fields": [
           {
            "metadata": {},
            "name": "cpgReference",
            "nullable": true,
            "type": "string"
           },
           {
            "metadata": {},
            "name": "category_nulls_percentage",
            "nullable": true,
            "type": "double"
           },
           {
            "metadata": {},
            "name": "categoryCode_nulls_percentage",
            "nullable": true,
            "type": "double"
           }
          ],
          "type": "struct"
         },
         "tableIdentifier": null,
         "typeStr": "pyspark.sql.connect.dataframe.DataFrame"
        }
       ],
       "dbfsResultPath": null,
       "isJsonSchema": true,
       "metadata": {
        "createTempViewForImplicitDf": true,
        "dataframeName": "_sqldf",
        "executionCount": 233
       },
       "overflow": false,
       "plotOptions": {
        "customPlotOptions": {},
        "displayType": "table",
        "pivotAggregation": null,
        "pivotColumns": null,
        "xColumns": null,
        "yColumns": null
       },
       "removedWidgets": [],
       "schema": [
        {
         "metadata": "{}",
         "name": "cpgReference",
         "type": "\"string\""
        },
        {
         "metadata": "{}",
         "name": "category_nulls_percentage",
         "type": "\"double\""
        },
        {
         "metadata": "{}",
         "name": "categoryCode_nulls_percentage",
         "type": "\"double\""
        }
       ],
       "type": "table"
      }
     },
     "output_type": "display_data"
    }
   ],
   "source": [
    "%sql\n",
    "-- There appears to be a loose correlation between the cpgReference and the nulls in the category and categoryCode fields.\n",
    "-- Potentially further research on why certain records are being tagged with Cpgs and others with Cogs\n",
    "select\n",
    "  cpgReference,\n",
    "  sum(case when category is null then 1 else 0 end)/count(*) as category_nulls_percentage,\n",
    "  sum(case when categoryCode is null then 1 else 0 end)/count(*) as categoryCode_nulls_percentage\n",
    "from fetch.brands_processed\n",
    "group by \n",
    "  1"
   ]
  },
  {
   "cell_type": "code",
   "execution_count": 0,
   "metadata": {
    "application/vnd.databricks.v1+cell": {
     "cellMetadata": {
      "byteLimit": 2048000,
      "implicitDf": true,
      "rowLimit": 10000
     },
     "inputWidgets": {},
     "nuid": "589594f1-65ec-4c13-8a7b-4d0085bf8d1d",
     "showTitle": false,
     "tableResultSettingsMap": {},
     "title": ""
    }
   },
   "outputs": [
    {
     "output_type": "display_data",
     "data": {
      "text/html": [
       "<style scoped>\n",
       "  .table-result-container {\n",
       "    max-height: 300px;\n",
       "    overflow: auto;\n",
       "  }\n",
       "  table, th, td {\n",
       "    border: 1px solid black;\n",
       "    border-collapse: collapse;\n",
       "  }\n",
       "  th, td {\n",
       "    padding: 5px;\n",
       "  }\n",
       "  th {\n",
       "    text-align: left;\n",
       "  }\n",
       "</style><div class='table-result-container'><table class='table-result'><thead style='background-color: white'><tr><th>first_part_of_id</th><th>_id</th><th>barcode</th><th>brandCode</th><th>category</th><th>categoryCode</th><th>cpg_id</th><th>cpg_reference</th><th>name</th><th>topBrand</th></tr></thead><tbody><tr><td>5d658f</td><td>5d658fca6d5f3b23d1bc7912</td><td>511111405184</td><td>DO IT YOURSELF</td><td>null</td><td>null</td><td>53e10d6368abd3c7065097cc</td><td>Cogs</td><td>Do It Yourself</td><td>null</td></tr><tr><td>5d658f</td><td>5d658fd1a3a018514994f431</td><td>511111905196</td><td>BETTER HOMES AND GARDENS SPECIAL EDITION MAGAZINE - FOOD </td><td>null</td><td>null</td><td>53e10d6368abd3c7065097cc</td><td>Cogs</td><td>Better Homes And Gardens Special Edition Magazine - Food </td><td>null</td></tr><tr><td>5d658f</td><td>5d658fc0a3a018514994f430</td><td>511111205173</td><td>ALLRECIPES SPECIAL EDITION MAGAZINE</td><td>null</td><td>null</td><td>53e10d6368abd3c7065097cc</td><td>Cogs</td><td>Allrecipes Special Edition Magazine</td><td>null</td></tr><tr><td>5d658f</td><td>5d658fde6d5f3b23d1bc7913</td><td>511111505204</td><td>BETTY CROCKER SPECIAL EDITION MAGAZINE</td><td>null</td><td>null</td><td>53e10d6368abd3c7065097cc</td><td>Cogs</td><td>Betty Crocker Special Edition Magazine</td><td>null</td></tr><tr><td>5d658f</td><td>5d658ffa6d5f3b23d1bc7914</td><td>511111205227</td><td>DIABETIC LIVING MAGAZINE</td><td>null</td><td>null</td><td>53e10d6368abd3c7065097cc</td><td>Cogs</td><td>Diabetic Living Magazine</td><td>null</td></tr><tr><td>5d658f</td><td>5d658ff3a3a018514994f432</td><td>511111005216</td><td>COOKING LIGHT MAGAZINE</td><td>Magazines</td><td>MAGAZINES</td><td>53e10d6368abd3c7065097cc</td><td>Cogs</td><td>Cooking Light Magazine</td><td>null</td></tr></tbody></table></div>"
      ]
     },
     "metadata": {
      "application/vnd.databricks.v1+output": {
       "addedWidgets": {},
       "aggData": [],
       "aggError": "",
       "aggOverflow": false,
       "aggSchema": [],
       "aggSeriesLimitReached": false,
       "aggType": "",
       "arguments": {},
       "columnCustomDisplayInfos": {},
       "data": [
        [
         "5d658f",
         "5d658fca6d5f3b23d1bc7912",
         "511111405184",
         "DO IT YOURSELF",
         null,
         null,
         "53e10d6368abd3c7065097cc",
         "Cogs",
         "Do It Yourself",
         null
        ],
        [
         "5d658f",
         "5d658fd1a3a018514994f431",
         "511111905196",
         "BETTER HOMES AND GARDENS SPECIAL EDITION MAGAZINE - FOOD ",
         null,
         null,
         "53e10d6368abd3c7065097cc",
         "Cogs",
         "Better Homes And Gardens Special Edition Magazine - Food ",
         null
        ],
        [
         "5d658f",
         "5d658fc0a3a018514994f430",
         "511111205173",
         "ALLRECIPES SPECIAL EDITION MAGAZINE",
         null,
         null,
         "53e10d6368abd3c7065097cc",
         "Cogs",
         "Allrecipes Special Edition Magazine",
         null
        ],
        [
         "5d658f",
         "5d658fde6d5f3b23d1bc7913",
         "511111505204",
         "BETTY CROCKER SPECIAL EDITION MAGAZINE",
         null,
         null,
         "53e10d6368abd3c7065097cc",
         "Cogs",
         "Betty Crocker Special Edition Magazine",
         null
        ],
        [
         "5d658f",
         "5d658ffa6d5f3b23d1bc7914",
         "511111205227",
         "DIABETIC LIVING MAGAZINE",
         null,
         null,
         "53e10d6368abd3c7065097cc",
         "Cogs",
         "Diabetic Living Magazine",
         null
        ],
        [
         "5d658f",
         "5d658ff3a3a018514994f432",
         "511111005216",
         "COOKING LIGHT MAGAZINE",
         "Magazines",
         "MAGAZINES",
         "53e10d6368abd3c7065097cc",
         "Cogs",
         "Cooking Light Magazine",
         null
        ]
       ],
       "datasetInfos": [
        {
         "name": "_sqldf",
         "schema": {
          "fields": [
           {
            "metadata": {},
            "name": "first_part_of_id",
            "nullable": true,
            "type": "string"
           },
           {
            "metadata": {},
            "name": "_id",
            "nullable": true,
            "type": "string"
           },
           {
            "metadata": {},
            "name": "barcode",
            "nullable": true,
            "type": "string"
           },
           {
            "metadata": {},
            "name": "brandCode",
            "nullable": true,
            "type": "string"
           },
           {
            "metadata": {},
            "name": "category",
            "nullable": true,
            "type": "string"
           },
           {
            "metadata": {},
            "name": "categoryCode",
            "nullable": true,
            "type": "string"
           },
           {
            "metadata": {},
            "name": "cpg_id",
            "nullable": true,
            "type": "string"
           },
           {
            "metadata": {},
            "name": "cpg_reference",
            "nullable": true,
            "type": "string"
           },
           {
            "metadata": {},
            "name": "name",
            "nullable": true,
            "type": "string"
           },
           {
            "metadata": {},
            "name": "topBrand",
            "nullable": true,
            "type": "boolean"
           }
          ],
          "type": "struct"
         },
         "tableIdentifier": null,
         "typeStr": "pyspark.sql.connect.dataframe.DataFrame"
        }
       ],
       "dbfsResultPath": null,
       "isJsonSchema": true,
       "metadata": {
        "createTempViewForImplicitDf": true,
        "dataframeName": "_sqldf",
        "executionCount": 767
       },
       "overflow": false,
       "plotOptions": {
        "customPlotOptions": {},
        "displayType": "table",
        "pivotAggregation": null,
        "pivotColumns": null,
        "xColumns": null,
        "yColumns": null
       },
       "removedWidgets": [],
       "schema": [
        {
         "metadata": "{}",
         "name": "first_part_of_id",
         "type": "\"string\""
        },
        {
         "metadata": "{}",
         "name": "_id",
         "type": "\"string\""
        },
        {
         "metadata": "{}",
         "name": "barcode",
         "type": "\"string\""
        },
        {
         "metadata": "{}",
         "name": "brandCode",
         "type": "\"string\""
        },
        {
         "metadata": "{}",
         "name": "category",
         "type": "\"string\""
        },
        {
         "metadata": "{}",
         "name": "categoryCode",
         "type": "\"string\""
        },
        {
         "metadata": "{}",
         "name": "cpg_id",
         "type": "\"string\""
        },
        {
         "metadata": "{}",
         "name": "cpg_reference",
         "type": "\"string\""
        },
        {
         "metadata": "{}",
         "name": "name",
         "type": "\"string\""
        },
        {
         "metadata": "{}",
         "name": "topBrand",
         "type": "\"boolean\""
        }
       ],
       "type": "table"
      }
     },
     "output_type": "display_data"
    }
   ],
   "source": [
    "%sql\n",
    "-- There appears to be some correlation between the first 6 characters in the id_ fields for some records that dont have a category or category code\n",
    "-- This appears to work in some instances but not a fullproof method to fill the category and category code fields\n",
    "select distinct \n",
    "  left(_id, 6) as first_part_of_id,\n",
    "  *\n",
    "from fetch.brands_processed\n",
    "where _id = '53e10d6368abd3c7065097cc' or left(_id, 6) = '5d658f'\n",
    "order by \n",
    "  category asc"
   ]
  },
  {
   "cell_type": "markdown",
   "metadata": {
    "application/vnd.databricks.v1+cell": {
     "cellMetadata": {},
     "inputWidgets": {},
     "nuid": "f547dbba-9ce2-456a-90bb-0f12f32e3c22",
     "showTitle": false,
     "tableResultSettingsMap": {},
     "title": ""
    }
   },
   "source": [
    "#### Cleaning Receipts\n",
    "* Following commands clean the receipts raw table and perform data quality checks against the data"
   ]
  },
  {
   "cell_type": "code",
   "execution_count": 0,
   "metadata": {
    "application/vnd.databricks.v1+cell": {
     "cellMetadata": {
      "byteLimit": 2048000,
      "rowLimit": 10000
     },
     "inputWidgets": {},
     "nuid": "3a434aa7-a38d-4eaf-8c63-97537655804e",
     "showTitle": false,
     "tableResultSettingsMap": {},
     "title": ""
    }
   },
   "outputs": [],
   "source": [
    "# Applying some light transforms and creating a temporary view\n",
    "# createDate and dateScanned are always the same so could consider dropping one\n",
    "df = (spark.table(\"fetch.receipts_raw\")\n",
    "             .withColumn('_id', col(\"_id.$oid\"))\n",
    "             .withColumn('createDate', col(\"createDate.$date\"))\n",
    "             .withColumn('dateScanned', col(\"dateScanned.$date\"))\n",
    "             .withColumn('finishedDate', col(\"finishedDate.$date\"))\n",
    "             .withColumn('modifyDate', col(\"modifyDate.$date\"))\n",
    "             .withColumn('pointsAwardedDate', col(\"pointsAwardedDate.$date\"))\n",
    "             .withColumn('purchaseDate', col(\"purchaseDate.$date\"))\n",
    "             .selectExpr(\n",
    "                \"_id\",\n",
    "                \"from_unixtime(createDate/1000) as createDate\",\n",
    "                \"from_unixtime(dateScanned/1000) as dateScanned\",\n",
    "                \"from_unixtime(finishedDate/1000) as finishedDate\",\n",
    "                \"from_unixtime(modifyDate/1000) as modifyDate\",\n",
    "                \"from_unixtime(purchaseDate/1000) as purchaseDate\",\n",
    "                \"from_unixtime(pointsAwardedDate/1000) as pointsAwardedDate\",\n",
    "                \"pointsEarned\",\n",
    "                \"bonusPointsEarned\",\n",
    "                \"bonusPointsEarnedReason\",\n",
    "                \"purchasedItemCount\",\n",
    "                \"rewardsReceiptItemList\",\n",
    "                \"rewardsReceiptStatus\",\n",
    "                \"totalSpent\",\n",
    "                \"userId\")\n",
    "             .distinct()\n",
    "             )\n",
    "\n",
    "df.createOrReplaceTempView(\"temp_receipts\")"
   ]
  },
  {
   "cell_type": "code",
   "execution_count": 0,
   "metadata": {
    "application/vnd.databricks.v1+cell": {
     "cellMetadata": {
      "byteLimit": 2048000,
      "implicitDf": true,
      "rowLimit": 10000
     },
     "inputWidgets": {},
     "nuid": "91aa16d2-f386-437e-a2d4-ade89c7bd463",
     "showTitle": false,
     "tableResultSettingsMap": {},
     "title": ""
    }
   },
   "outputs": [
    {
     "output_type": "display_data",
     "data": {
      "text/html": [
       "<style scoped>\n",
       "  .table-result-container {\n",
       "    max-height: 300px;\n",
       "    overflow: auto;\n",
       "  }\n",
       "  table, th, td {\n",
       "    border: 1px solid black;\n",
       "    border-collapse: collapse;\n",
       "  }\n",
       "  th, td {\n",
       "    padding: 5px;\n",
       "  }\n",
       "  th {\n",
       "    text-align: left;\n",
       "  }\n",
       "</style><div class='table-result-container'><table class='table-result'><thead style='background-color: white'><tr><th>bonusPointsEarnedReason</th><th>bonusPointsEarnedReason</th></tr></thead><tbody><tr><td>null</td><td>null</td></tr><tr><td>Receipt number 1 completed, bonus point schedule DEFAULT (5cefdcacf3693e0b50e83a36)</td><td>Receipt Number 1 Completed, Bonus Point Schedule </td></tr><tr><td>COMPLETE_NONPARTNER_RECEIPT</td><td>Complete Nonpartner Receipt</td></tr><tr><td>Receipt number 5 completed, bonus point schedule DEFAULT (5cefdcacf3693e0b50e83a36)</td><td>Receipt Number 5 Completed, Bonus Point Schedule </td></tr><tr><td>COMPLETE_PARTNER_RECEIPT</td><td>Complete Partner Receipt</td></tr><tr><td>Receipt number 6 completed, bonus point schedule DEFAULT (5cefdcacf3693e0b50e83a36)</td><td>Receipt Number 6 Completed, Bonus Point Schedule </td></tr><tr><td>Receipt number 3 completed, bonus point schedule DEFAULT (5cefdcacf3693e0b50e83a36)</td><td>Receipt Number 3 Completed, Bonus Point Schedule </td></tr><tr><td>All-receipts receipt bonus</td><td>All-receipts Receipt Bonus</td></tr><tr><td>Receipt number 4 completed, bonus point schedule DEFAULT (5cefdcacf3693e0b50e83a36)</td><td>Receipt Number 4 Completed, Bonus Point Schedule </td></tr><tr><td>Receipt number 2 completed, bonus point schedule DEFAULT (5cefdcacf3693e0b50e83a36)</td><td>Receipt Number 2 Completed, Bonus Point Schedule </td></tr></tbody></table></div>"
      ]
     },
     "metadata": {
      "application/vnd.databricks.v1+output": {
       "addedWidgets": {},
       "aggData": [],
       "aggError": "",
       "aggOverflow": false,
       "aggSchema": [],
       "aggSeriesLimitReached": false,
       "aggType": "",
       "arguments": {},
       "columnCustomDisplayInfos": {},
       "data": [
        [
         null,
         null
        ],
        [
         "Receipt number 1 completed, bonus point schedule DEFAULT (5cefdcacf3693e0b50e83a36)",
         "Receipt Number 1 Completed, Bonus Point Schedule "
        ],
        [
         "COMPLETE_NONPARTNER_RECEIPT",
         "Complete Nonpartner Receipt"
        ],
        [
         "Receipt number 5 completed, bonus point schedule DEFAULT (5cefdcacf3693e0b50e83a36)",
         "Receipt Number 5 Completed, Bonus Point Schedule "
        ],
        [
         "COMPLETE_PARTNER_RECEIPT",
         "Complete Partner Receipt"
        ],
        [
         "Receipt number 6 completed, bonus point schedule DEFAULT (5cefdcacf3693e0b50e83a36)",
         "Receipt Number 6 Completed, Bonus Point Schedule "
        ],
        [
         "Receipt number 3 completed, bonus point schedule DEFAULT (5cefdcacf3693e0b50e83a36)",
         "Receipt Number 3 Completed, Bonus Point Schedule "
        ],
        [
         "All-receipts receipt bonus",
         "All-receipts Receipt Bonus"
        ],
        [
         "Receipt number 4 completed, bonus point schedule DEFAULT (5cefdcacf3693e0b50e83a36)",
         "Receipt Number 4 Completed, Bonus Point Schedule "
        ],
        [
         "Receipt number 2 completed, bonus point schedule DEFAULT (5cefdcacf3693e0b50e83a36)",
         "Receipt Number 2 Completed, Bonus Point Schedule "
        ]
       ],
       "datasetInfos": [
        {
         "name": "_sqldf",
         "schema": {
          "fields": [
           {
            "metadata": {},
            "name": "bonusPointsEarnedReason",
            "nullable": true,
            "type": "string"
           },
           {
            "metadata": {},
            "name": "bonusPointsEarnedReason",
            "nullable": true,
            "type": "string"
           }
          ],
          "type": "struct"
         },
         "tableIdentifier": null,
         "typeStr": "pyspark.sql.connect.dataframe.DataFrame"
        }
       ],
       "dbfsResultPath": null,
       "isJsonSchema": true,
       "metadata": {
        "createTempViewForImplicitDf": true,
        "dataframeName": "_sqldf",
        "executionCount": 59
       },
       "overflow": false,
       "plotOptions": {
        "customPlotOptions": {},
        "displayType": "table",
        "pivotAggregation": null,
        "pivotColumns": null,
        "xColumns": null,
        "yColumns": null
       },
       "removedWidgets": [],
       "schema": [
        {
         "metadata": "{}",
         "name": "bonusPointsEarnedReason",
         "type": "\"string\""
        },
        {
         "metadata": "{}",
         "name": "bonusPointsEarnedReason",
         "type": "\"string\""
        }
       ],
       "type": "table"
      }
     },
     "output_type": "display_data"
    }
   ],
   "source": [
    "%sql\n",
    "-- Checking the distinct values of bonusPointsEarnedReason\n",
    "-- Writing some code to standardize the case and remove some added strings (DEFAULT (5cefdcacf3693e0b50e83a36))\n",
    "select distinct \n",
    "  bonusPointsEarnedReason,\n",
    "  case\n",
    "    when bonusPointsEarnedReason like \"%(5cefdcacf3693e0b50e83a36)\" then initcap(replace(bonusPointsEarnedReason, \"DEFAULT (5cefdcacf3693e0b50e83a36)\", \"\"))\n",
    "    when bonusPointsEarnedReason like \"%\\\\_%\" then initcap(replace(bonusPointsEarnedReason, \"_\", \" \"))\n",
    "    else initcap(bonusPointsEarnedReason)\n",
    "  end as bonusPointsEarnedReason\n",
    "from temp_receipts\n"
   ]
  },
  {
   "cell_type": "code",
   "execution_count": 0,
   "metadata": {
    "application/vnd.databricks.v1+cell": {
     "cellMetadata": {
      "byteLimit": 2048000,
      "implicitDf": true,
      "rowLimit": 10000
     },
     "inputWidgets": {},
     "nuid": "e15a70c9-e08f-422f-b09f-6fdff48a8a4b",
     "showTitle": false,
     "tableResultSettingsMap": {},
     "title": ""
    }
   },
   "outputs": [
    {
     "output_type": "display_data",
     "data": {
      "text/html": [
       "<style scoped>\n",
       "  .table-result-container {\n",
       "    max-height: 300px;\n",
       "    overflow: auto;\n",
       "  }\n",
       "  table, th, td {\n",
       "    border: 1px solid black;\n",
       "    border-collapse: collapse;\n",
       "  }\n",
       "  th, td {\n",
       "    padding: 5px;\n",
       "  }\n",
       "  th {\n",
       "    text-align: left;\n",
       "  }\n",
       "</style><div class='table-result-container'><table class='table-result'><thead style='background-color: white'><tr><th>pointsEarned_raw</th><th>newPointsEarned</th></tr></thead><tbody><tr><td>986.5</td><td>986.50</td></tr><tr><td>9850.0</td><td>9850.00</td></tr><tr><td>9449.8</td><td>9449.80</td></tr><tr><td>940.0</td><td>940.00</td></tr><tr><td>94.6</td><td>94.60</td></tr><tr><td>934.4</td><td>934.40</td></tr><tr><td>922.1</td><td>922.10</td></tr><tr><td>9200.0</td><td>9200.00</td></tr><tr><td>91.2</td><td>91.20</td></tr><tr><td>8950.0</td><td>8950.00</td></tr><tr><td>8850.0</td><td>8850.00</td></tr><tr><td>885.0</td><td>885.00</td></tr><tr><td>879.1</td><td>879.10</td></tr><tr><td>877.7</td><td>877.70</td></tr><tr><td>8700.0</td><td>8700.00</td></tr><tr><td>855.7</td><td>855.70</td></tr><tr><td>850.0</td><td>850.00</td></tr><tr><td>841.2</td><td>841.20</td></tr><tr><td>840.0</td><td>840.00</td></tr><tr><td>837.4</td><td>837.40</td></tr><tr><td>825.0</td><td>825.00</td></tr><tr><td>810.0</td><td>810.00</td></tr><tr><td>800.0</td><td>800.00</td></tr><tr><td>793.1</td><td>793.10</td></tr><tr><td>789.2</td><td>789.20</td></tr><tr><td>780.0</td><td>780.00</td></tr><tr><td>760.0</td><td>760.00</td></tr><tr><td>755.0</td><td>755.00</td></tr><tr><td>750.0</td><td>750.00</td></tr><tr><td>7137.2</td><td>7137.20</td></tr><tr><td>682.4</td><td>682.40</td></tr><tr><td>673.0</td><td>673.00</td></tr><tr><td>650.0</td><td>650.00</td></tr><tr><td>640.7</td><td>640.70</td></tr><tr><td>6257.3</td><td>6257.30</td></tr><tr><td>605.7</td><td>605.70</td></tr><tr><td>600.0</td><td>600.00</td></tr><tr><td>5850.0</td><td>5850.00</td></tr><tr><td>583.4</td><td>583.40</td></tr><tr><td>5750.0</td><td>5750.00</td></tr><tr><td>574.4</td><td>574.40</td></tr><tr><td>55.0</td><td>55.00</td></tr><tr><td>523.6</td><td>523.60</td></tr><tr><td>500.0</td><td>500.00</td></tr><tr><td>50.9</td><td>50.90</td></tr><tr><td>50.6</td><td>50.60</td></tr><tr><td>50.0</td><td>50.00</td></tr><tr><td>5.0</td><td>5.00</td></tr><tr><td>5</td><td>5.00</td></tr><tr><td>4944.7</td><td>4944.70</td></tr><tr><td>487.7</td><td>487.70</td></tr><tr><td>4850.0</td><td>4850.00</td></tr><tr><td>4480.5</td><td>4480.50</td></tr><tr><td>405.9</td><td>405.90</td></tr><tr><td>405.7</td><td>405.70</td></tr><tr><td>4005.0</td><td>4005.00</td></tr><tr><td>400.0</td><td>400.00</td></tr><tr><td>389.2</td><td>389.20</td></tr><tr><td>3750.0</td><td>3750.00</td></tr><tr><td>375.0</td><td>375.00</td></tr><tr><td>3659.4</td><td>3659.40</td></tr><tr><td>355.0</td><td>355.00</td></tr><tr><td>3500.0</td><td>3500.00</td></tr><tr><td>350.6</td><td>350.60</td></tr><tr><td>350.0</td><td>350.00</td></tr><tr><td>35.0</td><td>35.00</td></tr><tr><td>3379.9</td><td>3379.90</td></tr><tr><td>3250.0</td><td>3250.00</td></tr><tr><td>323.6</td><td>323.60</td></tr><tr><td>305.0</td><td>305.00</td></tr><tr><td>300.0</td><td>300.00</td></tr><tr><td>295.0</td><td>295.00</td></tr><tr><td>275.0</td><td>275.00</td></tr><tr><td>2685.8</td><td>2685.80</td></tr><tr><td>250.0</td><td>250.00</td></tr><tr><td>25.0</td><td>25.00</td></tr><tr><td>2497.7</td><td>2497.70</td></tr><tr><td>2416.7</td><td>2416.70</td></tr><tr><td>237.8</td><td>237.80</td></tr><tr><td>2300.0</td><td>2300.00</td></tr><tr><td>225.0</td><td>225.00</td></tr><tr><td>2143.3</td><td>2143.30</td></tr><tr><td>210.0</td><td>210.00</td></tr><tr><td>209.9</td><td>209.90</td></tr><tr><td>209.8</td><td>209.80</td></tr><tr><td>209.5</td><td>209.50</td></tr><tr><td>2055.5</td><td>2055.50</td></tr><tr><td>2005.0</td><td>2005.00</td></tr><tr><td>200.0</td><td>200.00</td></tr><tr><td>1999.6</td><td>1999.60</td></tr><tr><td>189.2</td><td>189.20</td></tr><tr><td>1850.0</td><td>1850.00</td></tr><tr><td>185.0</td><td>185.00</td></tr><tr><td>1806.4</td><td>1806.40</td></tr><tr><td>1800.0</td><td>1800.00</td></tr><tr><td>1750.0</td><td>1750.00</td></tr><tr><td>173.6</td><td>173.60</td></tr><tr><td>1729.5</td><td>1729.50</td></tr><tr><td>1708.0</td><td>1708.00</td></tr><tr><td>1658.3</td><td>1658.30</td></tr><tr><td>160.0</td><td>160.00</td></tr><tr><td>1550.0</td><td>1550.00</td></tr><tr><td>1541.8</td><td>1541.80</td></tr><tr><td>1516.9</td><td>1516.90</td></tr><tr><td>150.0</td><td>150.00</td></tr><tr><td>1499.5</td><td>1499.50</td></tr><tr><td>1476.2</td><td>1476.20</td></tr><tr><td>1447.0</td><td>1447.00</td></tr><tr><td>125.0</td><td>125.00</td></tr><tr><td>1205.0</td><td>1205.00</td></tr><tr><td>1178.7</td><td>1178.70</td></tr><tr><td>1135.1</td><td>1135.10</td></tr><tr><td>1077.5</td><td>1077.50</td></tr><tr><td>1049.8</td><td>1049.80</td></tr><tr><td>1044.3</td><td>1044.30</td></tr><tr><td>10199.8</td><td>10199.80</td></tr><tr><td>1005.0</td><td>1005.00</td></tr><tr><td>1000.0</td><td>1000.00</td></tr><tr><td>100.0</td><td>100.00</td></tr><tr><td>0.0</td><td>0.00</td></tr><tr><td>null</td><td>null</td></tr></tbody></table></div>"
      ]
     },
     "metadata": {
      "application/vnd.databricks.v1+output": {
       "addedWidgets": {},
       "aggData": [],
       "aggError": "",
       "aggOverflow": false,
       "aggSchema": [],
       "aggSeriesLimitReached": false,
       "aggType": "",
       "arguments": {},
       "columnCustomDisplayInfos": {},
       "data": [
        [
         "986.5",
         "986.50"
        ],
        [
         "9850.0",
         "9850.00"
        ],
        [
         "9449.8",
         "9449.80"
        ],
        [
         "940.0",
         "940.00"
        ],
        [
         "94.6",
         "94.60"
        ],
        [
         "934.4",
         "934.40"
        ],
        [
         "922.1",
         "922.10"
        ],
        [
         "9200.0",
         "9200.00"
        ],
        [
         "91.2",
         "91.20"
        ],
        [
         "8950.0",
         "8950.00"
        ],
        [
         "8850.0",
         "8850.00"
        ],
        [
         "885.0",
         "885.00"
        ],
        [
         "879.1",
         "879.10"
        ],
        [
         "877.7",
         "877.70"
        ],
        [
         "8700.0",
         "8700.00"
        ],
        [
         "855.7",
         "855.70"
        ],
        [
         "850.0",
         "850.00"
        ],
        [
         "841.2",
         "841.20"
        ],
        [
         "840.0",
         "840.00"
        ],
        [
         "837.4",
         "837.40"
        ],
        [
         "825.0",
         "825.00"
        ],
        [
         "810.0",
         "810.00"
        ],
        [
         "800.0",
         "800.00"
        ],
        [
         "793.1",
         "793.10"
        ],
        [
         "789.2",
         "789.20"
        ],
        [
         "780.0",
         "780.00"
        ],
        [
         "760.0",
         "760.00"
        ],
        [
         "755.0",
         "755.00"
        ],
        [
         "750.0",
         "750.00"
        ],
        [
         "7137.2",
         "7137.20"
        ],
        [
         "682.4",
         "682.40"
        ],
        [
         "673.0",
         "673.00"
        ],
        [
         "650.0",
         "650.00"
        ],
        [
         "640.7",
         "640.70"
        ],
        [
         "6257.3",
         "6257.30"
        ],
        [
         "605.7",
         "605.70"
        ],
        [
         "600.0",
         "600.00"
        ],
        [
         "5850.0",
         "5850.00"
        ],
        [
         "583.4",
         "583.40"
        ],
        [
         "5750.0",
         "5750.00"
        ],
        [
         "574.4",
         "574.40"
        ],
        [
         "55.0",
         "55.00"
        ],
        [
         "523.6",
         "523.60"
        ],
        [
         "500.0",
         "500.00"
        ],
        [
         "50.9",
         "50.90"
        ],
        [
         "50.6",
         "50.60"
        ],
        [
         "50.0",
         "50.00"
        ],
        [
         "5.0",
         "5.00"
        ],
        [
         "5",
         "5.00"
        ],
        [
         "4944.7",
         "4944.70"
        ],
        [
         "487.7",
         "487.70"
        ],
        [
         "4850.0",
         "4850.00"
        ],
        [
         "4480.5",
         "4480.50"
        ],
        [
         "405.9",
         "405.90"
        ],
        [
         "405.7",
         "405.70"
        ],
        [
         "4005.0",
         "4005.00"
        ],
        [
         "400.0",
         "400.00"
        ],
        [
         "389.2",
         "389.20"
        ],
        [
         "3750.0",
         "3750.00"
        ],
        [
         "375.0",
         "375.00"
        ],
        [
         "3659.4",
         "3659.40"
        ],
        [
         "355.0",
         "355.00"
        ],
        [
         "3500.0",
         "3500.00"
        ],
        [
         "350.6",
         "350.60"
        ],
        [
         "350.0",
         "350.00"
        ],
        [
         "35.0",
         "35.00"
        ],
        [
         "3379.9",
         "3379.90"
        ],
        [
         "3250.0",
         "3250.00"
        ],
        [
         "323.6",
         "323.60"
        ],
        [
         "305.0",
         "305.00"
        ],
        [
         "300.0",
         "300.00"
        ],
        [
         "295.0",
         "295.00"
        ],
        [
         "275.0",
         "275.00"
        ],
        [
         "2685.8",
         "2685.80"
        ],
        [
         "250.0",
         "250.00"
        ],
        [
         "25.0",
         "25.00"
        ],
        [
         "2497.7",
         "2497.70"
        ],
        [
         "2416.7",
         "2416.70"
        ],
        [
         "237.8",
         "237.80"
        ],
        [
         "2300.0",
         "2300.00"
        ],
        [
         "225.0",
         "225.00"
        ],
        [
         "2143.3",
         "2143.30"
        ],
        [
         "210.0",
         "210.00"
        ],
        [
         "209.9",
         "209.90"
        ],
        [
         "209.8",
         "209.80"
        ],
        [
         "209.5",
         "209.50"
        ],
        [
         "2055.5",
         "2055.50"
        ],
        [
         "2005.0",
         "2005.00"
        ],
        [
         "200.0",
         "200.00"
        ],
        [
         "1999.6",
         "1999.60"
        ],
        [
         "189.2",
         "189.20"
        ],
        [
         "1850.0",
         "1850.00"
        ],
        [
         "185.0",
         "185.00"
        ],
        [
         "1806.4",
         "1806.40"
        ],
        [
         "1800.0",
         "1800.00"
        ],
        [
         "1750.0",
         "1750.00"
        ],
        [
         "173.6",
         "173.60"
        ],
        [
         "1729.5",
         "1729.50"
        ],
        [
         "1708.0",
         "1708.00"
        ],
        [
         "1658.3",
         "1658.30"
        ],
        [
         "160.0",
         "160.00"
        ],
        [
         "1550.0",
         "1550.00"
        ],
        [
         "1541.8",
         "1541.80"
        ],
        [
         "1516.9",
         "1516.90"
        ],
        [
         "150.0",
         "150.00"
        ],
        [
         "1499.5",
         "1499.50"
        ],
        [
         "1476.2",
         "1476.20"
        ],
        [
         "1447.0",
         "1447.00"
        ],
        [
         "125.0",
         "125.00"
        ],
        [
         "1205.0",
         "1205.00"
        ],
        [
         "1178.7",
         "1178.70"
        ],
        [
         "1135.1",
         "1135.10"
        ],
        [
         "1077.5",
         "1077.50"
        ],
        [
         "1049.8",
         "1049.80"
        ],
        [
         "1044.3",
         "1044.30"
        ],
        [
         "10199.8",
         "10199.80"
        ],
        [
         "1005.0",
         "1005.00"
        ],
        [
         "1000.0",
         "1000.00"
        ],
        [
         "100.0",
         "100.00"
        ],
        [
         "0.0",
         "0.00"
        ],
        [
         null,
         null
        ]
       ],
       "datasetInfos": [
        {
         "name": "_sqldf",
         "schema": {
          "fields": [
           {
            "metadata": {},
            "name": "pointsEarned_raw",
            "nullable": true,
            "type": "string"
           },
           {
            "metadata": {},
            "name": "newPointsEarned",
            "nullable": true,
            "type": "decimal(32,2)"
           }
          ],
          "type": "struct"
         },
         "tableIdentifier": null,
         "typeStr": "pyspark.sql.connect.dataframe.DataFrame"
        }
       ],
       "dbfsResultPath": null,
       "isJsonSchema": true,
       "metadata": {
        "createTempViewForImplicitDf": true,
        "dataframeName": "_sqldf",
        "executionCount": 242
       },
       "overflow": false,
       "plotOptions": {
        "customPlotOptions": {},
        "displayType": "table",
        "pivotAggregation": null,
        "pivotColumns": null,
        "xColumns": null,
        "yColumns": null
       },
       "removedWidgets": [],
       "schema": [
        {
         "metadata": "{}",
         "name": "pointsEarned_raw",
         "type": "\"string\""
        },
        {
         "metadata": "{}",
         "name": "newPointsEarned",
         "type": "\"decimal(32,2)\""
        }
       ],
       "type": "table"
      }
     },
     "output_type": "display_data"
    }
   ],
   "source": [
    "%sql\n",
    "-- Noticed potential inconsistencies in type for the pointsEarned column\n",
    "select distinct\n",
    "  pointsEarned as pointsEarned_raw,\n",
    "  cast(pointsEarned as decimal(32,2)) as newPointsEarned\n",
    "from fetch.receipts_raw\n",
    "order by \n",
    "  1 desc"
   ]
  },
  {
   "cell_type": "code",
   "execution_count": 0,
   "metadata": {
    "application/vnd.databricks.v1+cell": {
     "cellMetadata": {
      "byteLimit": 2048000,
      "implicitDf": true,
      "rowLimit": 10000
     },
     "inputWidgets": {},
     "nuid": "475e16af-d7dc-4604-a32e-92dba05165b0",
     "showTitle": false,
     "tableResultSettingsMap": {},
     "title": ""
    }
   },
   "outputs": [
    {
     "output_type": "display_data",
     "data": {
      "text/html": [
       "<style scoped>\n",
       "  .table-result-container {\n",
       "    max-height: 300px;\n",
       "    overflow: auto;\n",
       "  }\n",
       "  table, th, td {\n",
       "    border: 1px solid black;\n",
       "    border-collapse: collapse;\n",
       "  }\n",
       "  th, td {\n",
       "    padding: 5px;\n",
       "  }\n",
       "  th {\n",
       "    text-align: left;\n",
       "  }\n",
       "</style><div class='table-result-container'><table class='table-result'><thead style='background-color: white'><tr><th>num_affected_rows</th><th>num_inserted_rows</th></tr></thead><tbody></tbody></table></div>"
      ]
     },
     "metadata": {
      "application/vnd.databricks.v1+output": {
       "addedWidgets": {},
       "aggData": [],
       "aggError": "",
       "aggOverflow": false,
       "aggSchema": [],
       "aggSeriesLimitReached": false,
       "aggType": "",
       "arguments": {},
       "columnCustomDisplayInfos": {},
       "data": [],
       "datasetInfos": [
        {
         "name": "_sqldf",
         "schema": {
          "fields": [
           {
            "metadata": {},
            "name": "num_affected_rows",
            "nullable": true,
            "type": "long"
           },
           {
            "metadata": {},
            "name": "num_inserted_rows",
            "nullable": true,
            "type": "long"
           }
          ],
          "type": "struct"
         },
         "tableIdentifier": null,
         "typeStr": "pyspark.sql.connect.dataframe.DataFrame"
        }
       ],
       "dbfsResultPath": null,
       "isJsonSchema": true,
       "metadata": {
        "createTempViewForImplicitDf": true,
        "dataframeName": "_sqldf",
        "executionCount": 189
       },
       "overflow": false,
       "plotOptions": {
        "customPlotOptions": {},
        "displayType": "table",
        "pivotAggregation": null,
        "pivotColumns": null,
        "xColumns": null,
        "yColumns": null
       },
       "removedWidgets": [],
       "schema": [
        {
         "metadata": "{}",
         "name": "num_affected_rows",
         "type": "\"long\""
        },
        {
         "metadata": "{}",
         "name": "num_inserted_rows",
         "type": "\"long\""
        }
       ],
       "type": "table"
      }
     },
     "output_type": "display_data"
    }
   ],
   "source": [
    "%sql\n",
    "-- Applying light transformations and creating a new table\n",
    "-- Casting fields to ensure consistency with eachother\n",
    "-- Cleaning formatting and values in the bonusPointsEarnedReason\n",
    "Create or replace table fetch.receipts_processed as\n",
    "select \n",
    "  _id,\n",
    "  cast(createDate as timestamp) as createDate,\n",
    "  cast(dateScanned as timestamp) as scannedDate,\n",
    "  cast(finishedDate as timestamp) as finishedDate,\n",
    "  cast(modifyDate as timestamp) as modifyDate,\n",
    "  cast(purchaseDate as timestamp) as purchaseDate,\n",
    "  cast(pointsAwardedDate as timestamp) as pointsAwardedDate,\n",
    "  cast(pointsEarned as decimal(32,2)) as pointsEarned,\n",
    "  cast(bonusPointsEarned as decimal(32,2)) as bonusPointsEarned,\n",
    "  case\n",
    "    when bonusPointsEarnedReason like \"%(5cefdcacf3693e0b50e83a36)\" then initcap(replace(bonusPointsEarnedReason, \"DEFAULT (5cefdcacf3693e0b50e83a36)\", \"\"))\n",
    "    when bonusPointsEarnedReason like \"%\\\\_%\" then initcap(replace(bonusPointsEarnedReason, \"_\", \" \"))\n",
    "    else initcap(bonusPointsEarnedReason)\n",
    "  end as bonusPointsEarnedReason,\n",
    "  rewardsReceiptStatus,\n",
    "  cast(purchasedItemCount as Integer) as purchasedItemCount,\n",
    "  cast(totalSpent as decimal(32,2)) as totalSpent,\n",
    "  userId\n",
    "from temp_receipts"
   ]
  },
  {
   "cell_type": "code",
   "execution_count": 0,
   "metadata": {
    "application/vnd.databricks.v1+cell": {
     "cellMetadata": {
      "byteLimit": 2048000,
      "implicitDf": true,
      "rowLimit": 10000
     },
     "inputWidgets": {},
     "nuid": "30d424f0-22a5-46c2-a8de-3c33aee1981b",
     "showTitle": false,
     "tableResultSettingsMap": {},
     "title": ""
    }
   },
   "outputs": [
    {
     "output_type": "display_data",
     "data": {
      "text/html": [
       "<style scoped>\n",
       "  .table-result-container {\n",
       "    max-height: 300px;\n",
       "    overflow: auto;\n",
       "  }\n",
       "  table, th, td {\n",
       "    border: 1px solid black;\n",
       "    border-collapse: collapse;\n",
       "  }\n",
       "  th, td {\n",
       "    padding: 5px;\n",
       "  }\n",
       "  th {\n",
       "    text-align: left;\n",
       "  }\n",
       "</style><div class='table-result-container'><table class='table-result'><thead style='background-color: white'><tr><th>id_nulls_percentage</th><th>createDate_nulls_percentage</th><th>scannedDate_nulls_percentage</th><th>finishedDate_nulls_percentage</th><th>modifyDate_nulls_percentage</th><th>purchaseDate_nulls_percentage</th><th>pointsAwardedDate_nulls_percentage</th><th>pointsEarned_nulls_percentage</th><th>bonusPointsEarned_nulls_percentage</th><th>bonusPointsEarnedReason_nulls_percentage</th><th>rewardsReceiptStatus_nulls_percentage</th><th>purchasedItemCount_nulls_percentage</th><th>totalSpent_nulls_percentage</th><th>userId_nulls_percentage</th></tr></thead><tbody><tr><td>0.0</td><td>0.0</td><td>0.0</td><td>0.49</td><td>0.0</td><td>0.4</td><td>0.52</td><td>0.46</td><td>0.51</td><td>0.51</td><td>0.0</td><td>0.43</td><td>0.39</td><td>0.0</td></tr></tbody></table></div>"
      ]
     },
     "metadata": {
      "application/vnd.databricks.v1+output": {
       "addedWidgets": {},
       "aggData": [],
       "aggError": "",
       "aggOverflow": false,
       "aggSchema": [],
       "aggSeriesLimitReached": false,
       "aggType": "",
       "arguments": {},
       "columnCustomDisplayInfos": {},
       "data": [
        [
         0.0,
         0.0,
         0.0,
         0.49,
         0.0,
         0.4,
         0.52,
         0.46,
         0.51,
         0.51,
         0.0,
         0.43,
         0.39,
         0.0
        ]
       ],
       "datasetInfos": [
        {
         "name": "_sqldf",
         "schema": {
          "fields": [
           {
            "metadata": {},
            "name": "id_nulls_percentage",
            "nullable": true,
            "type": "double"
           },
           {
            "metadata": {},
            "name": "createDate_nulls_percentage",
            "nullable": true,
            "type": "double"
           },
           {
            "metadata": {},
            "name": "scannedDate_nulls_percentage",
            "nullable": true,
            "type": "double"
           },
           {
            "metadata": {},
            "name": "finishedDate_nulls_percentage",
            "nullable": true,
            "type": "double"
           },
           {
            "metadata": {},
            "name": "modifyDate_nulls_percentage",
            "nullable": true,
            "type": "double"
           },
           {
            "metadata": {},
            "name": "purchaseDate_nulls_percentage",
            "nullable": true,
            "type": "double"
           },
           {
            "metadata": {},
            "name": "pointsAwardedDate_nulls_percentage",
            "nullable": true,
            "type": "double"
           },
           {
            "metadata": {},
            "name": "pointsEarned_nulls_percentage",
            "nullable": true,
            "type": "double"
           },
           {
            "metadata": {},
            "name": "bonusPointsEarned_nulls_percentage",
            "nullable": true,
            "type": "double"
           },
           {
            "metadata": {},
            "name": "bonusPointsEarnedReason_nulls_percentage",
            "nullable": true,
            "type": "double"
           },
           {
            "metadata": {},
            "name": "rewardsReceiptStatus_nulls_percentage",
            "nullable": true,
            "type": "double"
           },
           {
            "metadata": {},
            "name": "purchasedItemCount_nulls_percentage",
            "nullable": true,
            "type": "double"
           },
           {
            "metadata": {},
            "name": "totalSpent_nulls_percentage",
            "nullable": true,
            "type": "double"
           },
           {
            "metadata": {},
            "name": "userId_nulls_percentage",
            "nullable": true,
            "type": "double"
           }
          ],
          "type": "struct"
         },
         "tableIdentifier": null,
         "typeStr": "pyspark.sql.connect.dataframe.DataFrame"
        }
       ],
       "dbfsResultPath": null,
       "isJsonSchema": true,
       "metadata": {
        "createTempViewForImplicitDf": true,
        "dataframeName": "_sqldf",
        "executionCount": 248
       },
       "overflow": false,
       "plotOptions": {
        "customPlotOptions": {},
        "displayType": "table",
        "pivotAggregation": null,
        "pivotColumns": null,
        "xColumns": null,
        "yColumns": null
       },
       "removedWidgets": [],
       "schema": [
        {
         "metadata": "{}",
         "name": "id_nulls_percentage",
         "type": "\"double\""
        },
        {
         "metadata": "{}",
         "name": "createDate_nulls_percentage",
         "type": "\"double\""
        },
        {
         "metadata": "{}",
         "name": "scannedDate_nulls_percentage",
         "type": "\"double\""
        },
        {
         "metadata": "{}",
         "name": "finishedDate_nulls_percentage",
         "type": "\"double\""
        },
        {
         "metadata": "{}",
         "name": "modifyDate_nulls_percentage",
         "type": "\"double\""
        },
        {
         "metadata": "{}",
         "name": "purchaseDate_nulls_percentage",
         "type": "\"double\""
        },
        {
         "metadata": "{}",
         "name": "pointsAwardedDate_nulls_percentage",
         "type": "\"double\""
        },
        {
         "metadata": "{}",
         "name": "pointsEarned_nulls_percentage",
         "type": "\"double\""
        },
        {
         "metadata": "{}",
         "name": "bonusPointsEarned_nulls_percentage",
         "type": "\"double\""
        },
        {
         "metadata": "{}",
         "name": "bonusPointsEarnedReason_nulls_percentage",
         "type": "\"double\""
        },
        {
         "metadata": "{}",
         "name": "rewardsReceiptStatus_nulls_percentage",
         "type": "\"double\""
        },
        {
         "metadata": "{}",
         "name": "purchasedItemCount_nulls_percentage",
         "type": "\"double\""
        },
        {
         "metadata": "{}",
         "name": "totalSpent_nulls_percentage",
         "type": "\"double\""
        },
        {
         "metadata": "{}",
         "name": "userId_nulls_percentage",
         "type": "\"double\""
        }
       ],
       "type": "table"
      }
     },
     "output_type": "display_data"
    }
   ],
   "source": [
    "%sql\n",
    "-- Query to display data quality issues for each column\n",
    "-- PointsAwardedDate is null more than 50% of the time but the pointsEarned field is only null 46% of the time\n",
    "select \n",
    "  round(sum(case when _id is null then 1 else 0 end)/ count(*), 2) as id_nulls_percentage,\n",
    "  round(sum(case when createDate is null then 1 else 0 end)/ count(*), 2) as createDate_nulls_percentage,\n",
    "  round(sum(case when scannedDate is null then 1 else 0 end)/ count(*), 2) as scannedDate_nulls_percentage,\n",
    "  round(sum(case when finishedDate is null then 1 else 0 end)/ count(*), 2) as finishedDate_nulls_percentage,\n",
    "  round(sum(case when modifyDate is null then 1 else 0 end)/ count(*), 2) as modifyDate_nulls_percentage,\n",
    "  round(sum(case when purchaseDate is null then 1 else 0 end)/ count(*), 2) as purchaseDate_nulls_percentage,\n",
    "  round(sum(case when pointsAwardedDate is null then 1 else 0 end)/ count(*), 2) as pointsAwardedDate_nulls_percentage,\n",
    "  round(sum(case when pointsEarned is null then 1 else 0 end)/ count(*), 2) as pointsEarned_nulls_percentage,\n",
    "  round(sum(case when bonusPointsEarned is null then 1 else 0 end)/ count(*), 2) as bonusPointsEarned_nulls_percentage,\n",
    "  round(sum(case when bonusPointsEarnedReason is null then 1 else 0 end)/ count(*), 2) as bonusPointsEarnedReason_nulls_percentage,\n",
    "  round(sum(case when rewardsReceiptStatus is null then 1 else 0 end)/ count(*), 2) as rewardsReceiptStatus_nulls_percentage,\n",
    "  round(sum(case when purchasedItemCount is null then 1 else 0 end)/ count(*), 2) as purchasedItemCount_nulls_percentage,\n",
    "  round(sum(case when totalSpent is null then 1 else 0 end)/ count(*), 2) as totalSpent_nulls_percentage,\n",
    "  round(sum(case when userId is null then 1 else 0 end)/ count(*), 2) as userId_nulls_percentage\n",
    "from fetch.receipts_processed  "
   ]
  },
  {
   "cell_type": "code",
   "execution_count": 0,
   "metadata": {
    "application/vnd.databricks.v1+cell": {
     "cellMetadata": {
      "byteLimit": 2048000,
      "implicitDf": true,
      "rowLimit": 10000
     },
     "inputWidgets": {},
     "nuid": "1094d1b9-d1ca-47b2-ba7c-c3b763f4bdd3",
     "showTitle": false,
     "tableResultSettingsMap": {},
     "title": ""
    }
   },
   "outputs": [
    {
     "output_type": "display_data",
     "data": {
      "text/html": [
       "<style scoped>\n",
       "  .table-result-container {\n",
       "    max-height: 300px;\n",
       "    overflow: auto;\n",
       "  }\n",
       "  table, th, td {\n",
       "    border: 1px solid black;\n",
       "    border-collapse: collapse;\n",
       "  }\n",
       "  th, td {\n",
       "    padding: 5px;\n",
       "  }\n",
       "  th {\n",
       "    text-align: left;\n",
       "  }\n",
       "</style><div class='table-result-container'><table class='table-result'><thead style='background-color: white'><tr><th>_id</th><th>createDate</th><th>scannedDate</th><th>finishedDate</th><th>modifyDate</th><th>purchaseDate</th><th>pointsAwardedDate</th><th>pointsEarned</th><th>bonusPointsEarned</th><th>bonusPointsEarnedReason</th><th>rewardsReceiptStatus</th><th>purchasedItemCount</th><th>totalSpent</th><th>userId</th></tr></thead><tbody><tr><td>6025c21e0a7214d8e90002ad</td><td>2021-02-11T23:47:42.000Z</td><td>2021-02-11T23:47:42.000Z</td><td>null</td><td>2021-02-11T23:47:42.000Z</td><td>null</td><td>null</td><td>null</td><td>null</td><td>null</td><td>SUBMITTED</td><td>null</td><td>null</td><td>5fc961c3b8cfca11a077dd33</td></tr><tr><td>601e911a0a720f053c000070</td><td>2021-02-06T12:52:42.000Z</td><td>2021-02-06T12:52:42.000Z</td><td>null</td><td>2021-02-06T12:52:42.000Z</td><td>null</td><td>null</td><td>null</td><td>null</td><td>null</td><td>SUBMITTED</td><td>null</td><td>null</td><td>5fc961c3b8cfca11a077dd33</td></tr><tr><td>603afc0e0a720fde10000243</td><td>2021-02-28T02:12:30.000Z</td><td>2021-02-28T02:12:30.000Z</td><td>null</td><td>2021-02-28T02:12:31.000Z</td><td>2020-08-17T00:00:00.000Z</td><td>null</td><td>25.00</td><td>25.00</td><td>Complete Nonpartner Receipt</td><td>REJECTED</td><td>2</td><td>34.96</td><td>5fc961c3b8cfca11a077dd33</td></tr><tr><td>60263d290a7214d8e90002e3</td><td>2021-02-12T08:32:41.000Z</td><td>2021-02-12T08:32:41.000Z</td><td>null</td><td>2021-02-12T08:32:41.000Z</td><td>null</td><td>null</td><td>null</td><td>null</td><td>null</td><td>SUBMITTED</td><td>null</td><td>null</td><td>5fc961c3b8cfca11a077dd33</td></tr><tr><td>603c6adf0a720fde1000039a</td><td>2021-03-01T04:17:35.000Z</td><td>2021-03-01T04:17:35.000Z</td><td>null</td><td>2021-03-01T04:17:35.000Z</td><td>null</td><td>null</td><td>null</td><td>null</td><td>null</td><td>SUBMITTED</td><td>null</td><td>null</td><td>5fc961c3b8cfca11a077dd33</td></tr><tr><td>601d7b8e0a720f0554000079</td><td>2021-02-05T17:08:30.000Z</td><td>2021-02-05T17:08:30.000Z</td><td>2021-02-05T17:08:30.000Z</td><td>2021-02-05T17:08:30.000Z</td><td>2021-02-05T00:00:00.000Z</td><td>null</td><td>null</td><td>null</td><td>null</td><td>PENDING</td><td>null</td><td>28.57</td><td>59c124bae4b0299e55b0f330</td></tr><tr><td>603c7c6c0a7217c72c0003b3</td><td>2021-03-01T05:32:28.000Z</td><td>2021-03-01T05:32:28.000Z</td><td>null</td><td>2021-03-01T05:32:29.000Z</td><td>2020-08-17T00:00:00.000Z</td><td>null</td><td>25.00</td><td>25.00</td><td>Complete Nonpartner Receipt</td><td>REJECTED</td><td>2</td><td>34.96</td><td>5fc961c3b8cfca11a077dd33</td></tr><tr><td>5ff1e1b60a7214ada100055c</td><td>2021-01-03T15:24:38.000Z</td><td>2021-01-03T15:24:38.000Z</td><td>null</td><td>2021-01-03T15:24:38.000Z</td><td>2021-02-03T15:24:38.000Z</td><td>null</td><td>8850.00</td><td>150.00</td><td>Receipt Number 5 Completed, Bonus Point Schedule </td><td>FLAGGED</td><td>10</td><td>290.00</td><td>5ff1e194b6a9d73a3a9f1052</td></tr><tr><td>5ff873f10a720f052300064f</td><td>2021-01-08T15:02:09.000Z</td><td>2021-01-08T15:02:09.000Z</td><td>null</td><td>2021-01-08T15:02:10.000Z</td><td>2021-02-08T15:02:10.000Z</td><td>null</td><td>9200.00</td><td>500.00</td><td>Receipt Number 2 Completed, Bonus Point Schedule </td><td>FLAGGED</td><td>10</td><td>290.00</td><td>5ff873d1b3348b11c9337716</td></tr><tr><td>603943720a7217c72c0000ed</td><td>2021-02-26T18:52:34.000Z</td><td>2021-02-26T18:52:34.000Z</td><td>null</td><td>2021-02-26T18:52:34.000Z</td><td>null</td><td>null</td><td>null</td><td>null</td><td>null</td><td>SUBMITTED</td><td>null</td><td>null</td><td>5fc961c3b8cfca11a077dd33</td></tr><tr><td>60265f250a720f05a80002ba</td><td>2021-02-12T10:57:41.000Z</td><td>2021-02-12T10:57:41.000Z</td><td>null</td><td>2021-02-12T10:57:41.000Z</td><td>null</td><td>null</td><td>null</td><td>null</td><td>null</td><td>SUBMITTED</td><td>null</td><td>null</td><td>5fc961c3b8cfca11a077dd33</td></tr><tr><td>603a86df0a720fde100001e3</td><td>2021-02-27T17:52:31.000Z</td><td>2021-02-27T17:52:31.000Z</td><td>null</td><td>2021-02-27T17:52:32.000Z</td><td>2020-08-17T00:00:00.000Z</td><td>null</td><td>25.00</td><td>25.00</td><td>Complete Nonpartner Receipt</td><td>REJECTED</td><td>2</td><td>34.96</td><td>5fc961c3b8cfca11a077dd33</td></tr><tr><td>601c702e0a7214ad280002e8</td><td>2021-02-04T22:07:42.000Z</td><td>2021-02-04T22:07:42.000Z</td><td>null</td><td>2021-02-04T22:07:42.000Z</td><td>null</td><td>null</td><td>null</td><td>null</td><td>null</td><td>SUBMITTED</td><td>null</td><td>null</td><td>5fc961c3b8cfca11a077dd33</td></tr><tr><td>603a221b0a7217c72c0001c1</td><td>2021-02-27T10:42:35.000Z</td><td>2021-02-27T10:42:35.000Z</td><td>null</td><td>2021-02-27T10:42:35.000Z</td><td>null</td><td>null</td><td>null</td><td>null</td><td>null</td><td>SUBMITTED</td><td>null</td><td>null</td><td>5fc961c3b8cfca11a077dd33</td></tr><tr><td>6018b1920a720f05f400006e</td><td>2021-02-02T01:57:38.000Z</td><td>2021-02-02T01:57:38.000Z</td><td>null</td><td>2021-02-02T01:57:38.000Z</td><td>null</td><td>null</td><td>null</td><td>null</td><td>null</td><td>SUBMITTED</td><td>null</td><td>null</td><td>5fc961c3b8cfca11a077dd33</td></tr><tr><td>6039f3340a720fde1000016f</td><td>2021-02-27T07:22:28.000Z</td><td>2021-02-27T07:22:28.000Z</td><td>null</td><td>2021-02-27T07:22:28.000Z</td><td>2020-08-17T00:00:00.000Z</td><td>null</td><td>25.00</td><td>25.00</td><td>Complete Nonpartner Receipt</td><td>REJECTED</td><td>2</td><td>34.96</td><td>5fc961c3b8cfca11a077dd33</td></tr><tr><td>601e3b8f0a720f053c000043</td><td>2021-02-06T06:47:43.000Z</td><td>2021-02-06T06:47:43.000Z</td><td>null</td><td>2021-02-06T06:47:43.000Z</td><td>null</td><td>null</td><td>null</td><td>null</td><td>null</td><td>SUBMITTED</td><td>null</td><td>null</td><td>5fc961c3b8cfca11a077dd33</td></tr><tr><td>6005ee0e0a7214ad4c000089</td><td>2021-01-18T20:22:36.000Z</td><td>2021-01-18T20:22:36.000Z</td><td>null</td><td>2021-01-18T20:23:09.000Z</td><td>2021-01-17T00:00:00.000Z</td><td>null</td><td>800.00</td><td>750.00</td><td>Receipt Number 1 Completed, Bonus Point Schedule </td><td>FLAGGED</td><td>2</td><td>10.00</td><td>5fb0a078be5fc9775c1f3945</td></tr><tr><td>603d59e70a7217c72c00045f</td><td>2021-03-01T21:17:27.000Z</td><td>2021-03-01T21:17:27.000Z</td><td>null</td><td>2021-03-01T21:17:28.000Z</td><td>2020-08-17T00:00:00.000Z</td><td>null</td><td>25.00</td><td>25.00</td><td>Complete Nonpartner Receipt</td><td>REJECTED</td><td>2</td><td>34.96</td><td>5fc961c3b8cfca11a077dd33</td></tr><tr><td>603b7bcf0a7217c72c0002ec</td><td>2021-02-28T11:17:35.000Z</td><td>2021-02-28T11:17:35.000Z</td><td>null</td><td>2021-02-28T11:17:35.000Z</td><td>null</td><td>null</td><td>null</td><td>null</td><td>null</td><td>SUBMITTED</td><td>null</td><td>null</td><td>5fc961c3b8cfca11a077dd33</td></tr><tr><td>601f1b660a720f053c0000c6</td><td>2021-02-06T22:42:46.000Z</td><td>2021-02-06T22:42:46.000Z</td><td>null</td><td>2021-02-06T22:42:46.000Z</td><td>null</td><td>null</td><td>null</td><td>null</td><td>null</td><td>SUBMITTED</td><td>null</td><td>null</td><td>5fc961c3b8cfca11a077dd33</td></tr><tr><td>602017570a720f053c000132</td><td>2021-02-07T16:37:43.000Z</td><td>2021-02-07T16:37:43.000Z</td><td>null</td><td>2021-02-07T16:37:43.000Z</td><td>null</td><td>null</td><td>null</td><td>null</td><td>null</td><td>SUBMITTED</td><td>null</td><td>null</td><td>5fc961c3b8cfca11a077dd33</td></tr><tr><td>603b37d80a7217c72c0002b3</td><td>2021-02-28T06:27:36.000Z</td><td>2021-02-28T06:27:36.000Z</td><td>null</td><td>2021-02-28T06:27:36.000Z</td><td>null</td><td>null</td><td>null</td><td>null</td><td>null</td><td>SUBMITTED</td><td>null</td><td>null</td><td>5fc961c3b8cfca11a077dd33</td></tr><tr><td>603989c30a720fde10000111</td><td>2021-02-26T23:52:35.000Z</td><td>2021-02-26T23:52:35.000Z</td><td>null</td><td>2021-02-26T23:52:35.000Z</td><td>null</td><td>null</td><td>null</td><td>null</td><td>null</td><td>SUBMITTED</td><td>null</td><td>null</td><td>5fc961c3b8cfca11a077dd33</td></tr><tr><td>6025f0fe0a720f05a800028f</td><td>2021-02-12T03:07:42.000Z</td><td>2021-02-12T03:07:42.000Z</td><td>null</td><td>2021-02-12T03:07:42.000Z</td><td>null</td><td>null</td><td>null</td><td>null</td><td>null</td><td>SUBMITTED</td><td>null</td><td>null</td><td>5fc961c3b8cfca11a077dd33</td></tr><tr><td>60025eb70a720f05f300008e</td><td>2021-01-16T03:34:15.000Z</td><td>2021-01-16T03:34:15.000Z</td><td>null</td><td>2021-01-16T03:34:15.000Z</td><td>null</td><td>null</td><td>null</td><td>null</td><td>null</td><td>SUBMITTED</td><td>null</td><td>null</td><td>60025c65fb296c4ef805d9e6</td></tr><tr><td>601487f80a720f05f800018d</td><td>2021-01-29T22:11:04.000Z</td><td>2021-01-29T22:11:04.000Z</td><td>null</td><td>2021-01-29T22:11:04.000Z</td><td>null</td><td>null</td><td>null</td><td>null</td><td>null</td><td>SUBMITTED</td><td>null</td><td>null</td><td>5fc961c3b8cfca11a077dd33</td></tr><tr><td>601ed9c40a7214ad25000078</td><td>2021-02-06T18:02:44.000Z</td><td>2021-02-06T18:02:44.000Z</td><td>null</td><td>2021-02-06T18:02:44.000Z</td><td>null</td><td>null</td><td>null</td><td>null</td><td>null</td><td>SUBMITTED</td><td>null</td><td>null</td><td>5fc961c3b8cfca11a077dd33</td></tr><tr><td>6038a5400a720fde10000088</td><td>2021-02-26T07:37:35.000Z</td><td>2021-02-26T07:37:35.000Z</td><td>null</td><td>2021-02-26T07:37:35.000Z</td><td>null</td><td>null</td><td>null</td><td>null</td><td>null</td><td>SUBMITTED</td><td>null</td><td>null</td><td>5fc961c3b8cfca11a077dd33</td></tr><tr><td>601747780a7214ad5000023b</td><td>2021-02-01T00:12:40.000Z</td><td>2021-02-01T00:12:40.000Z</td><td>null</td><td>2021-02-01T00:12:40.000Z</td><td>null</td><td>null</td><td>null</td><td>null</td><td>null</td><td>SUBMITTED</td><td>null</td><td>null</td><td>5fc961c3b8cfca11a077dd33</td></tr><tr><td>6015637b0a7214ad50000175</td><td>2021-01-30T13:47:39.000Z</td><td>2021-01-30T13:47:39.000Z</td><td>null</td><td>2021-01-30T13:47:39.000Z</td><td>null</td><td>null</td><td>null</td><td>null</td><td>null</td><td>SUBMITTED</td><td>null</td><td>null</td><td>5fc961c3b8cfca11a077dd33</td></tr><tr><td>6020cbce0a7214ad25000140</td><td>2021-02-08T05:27:42.000Z</td><td>2021-02-08T05:27:42.000Z</td><td>null</td><td>2021-02-08T05:27:42.000Z</td><td>null</td><td>null</td><td>null</td><td>null</td><td>null</td><td>SUBMITTED</td><td>null</td><td>null</td><td>5fc961c3b8cfca11a077dd33</td></tr><tr><td>60132b890a7214ad50000013</td><td>2021-01-28T21:24:25.000Z</td><td>2021-01-28T21:24:25.000Z</td><td>null</td><td>2021-01-28T21:24:25.000Z</td><td>null</td><td>null</td><td>null</td><td>null</td><td>null</td><td>FLAGGED</td><td>0</td><td>0.00</td><td>60132b8873c60b3ca7f3bae8</td></tr><tr><td>601b730f0a7214ad28000243</td><td>2021-02-04T04:07:43.000Z</td><td>2021-02-04T04:07:43.000Z</td><td>null</td><td>2021-02-04T04:07:43.000Z</td><td>null</td><td>null</td><td>null</td><td>null</td><td>null</td><td>SUBMITTED</td><td>null</td><td>null</td><td>5fc961c3b8cfca11a077dd33</td></tr><tr><td>60145a540a720f05f8000116</td><td>2021-01-29T18:56:20.000Z</td><td>2021-01-29T18:56:20.000Z</td><td>null</td><td>2021-01-29T18:56:20.000Z</td><td>null</td><td>null</td><td>null</td><td>null</td><td>null</td><td>FLAGGED</td><td>0</td><td>0.00</td><td>60145a5467804a1228b20ded</td></tr><tr><td>601ffa0a0a7214ad250000f2</td><td>2021-02-07T14:32:42.000Z</td><td>2021-02-07T14:32:42.000Z</td><td>null</td><td>2021-02-07T14:32:42.000Z</td><td>null</td><td>null</td><td>null</td><td>null</td><td>null</td><td>SUBMITTED</td><td>null</td><td>null</td><td>5fc961c3b8cfca11a077dd33</td></tr><tr><td>601d7d2c0a720f05540007fa</td><td>2021-02-05T17:15:24.000Z</td><td>2021-02-05T17:15:24.000Z</td><td>2021-02-05T17:15:24.000Z</td><td>2021-02-05T17:15:24.000Z</td><td>2021-02-05T00:00:00.000Z</td><td>null</td><td>null</td><td>null</td><td>null</td><td>PENDING</td><td>null</td><td>28.57</td><td>59c124bae4b0299e55b0f330</td></tr><tr><td>5ffe1cbe0a7214ad28002843</td><td>2021-01-12T22:03:42.000Z</td><td>2021-01-12T22:03:42.000Z</td><td>2021-01-12T22:03:42.000Z</td><td>2021-01-12T22:03:42.000Z</td><td>2021-01-12T00:00:00.000Z</td><td>null</td><td>null</td><td>null</td><td>null</td><td>PENDING</td><td>null</td><td>28.57</td><td>59c124bae4b0299e55b0f330</td></tr><tr><td>601eb8f30a720f053c000099</td><td>2021-02-06T15:42:42.000Z</td><td>2021-02-06T15:42:42.000Z</td><td>null</td><td>2021-02-06T15:42:42.000Z</td><td>null</td><td>null</td><td>null</td><td>null</td><td>null</td><td>SUBMITTED</td><td>null</td><td>null</td><td>5fc961c3b8cfca11a077dd33</td></tr><tr><td>601697af0a720f05f8000263</td><td>2021-01-31T11:42:39.000Z</td><td>2021-01-31T11:42:39.000Z</td><td>null</td><td>2021-01-31T11:42:39.000Z</td><td>null</td><td>null</td><td>null</td><td>null</td><td>null</td><td>SUBMITTED</td><td>null</td><td>null</td><td>5fc961c3b8cfca11a077dd33</td></tr><tr><td>601890c70a7214ad28000028</td><td>2021-02-01T23:37:43.000Z</td><td>2021-02-01T23:37:43.000Z</td><td>null</td><td>2021-02-01T23:37:43.000Z</td><td>2021-01-31T23:37:43.000Z</td><td>null</td><td>25.00</td><td>25.00</td><td>Complete Nonpartner Receipt</td><td>FLAGGED</td><td>1</td><td>1.00</td><td>601890689a1b091205b61c87</td></tr><tr><td>6015d8ab0a720f05f8000218</td><td>2021-01-30T22:07:39.000Z</td><td>2021-01-30T22:07:39.000Z</td><td>null</td><td>2021-01-30T22:07:39.000Z</td><td>null</td><td>null</td><td>null</td><td>null</td><td>null</td><td>SUBMITTED</td><td>null</td><td>null</td><td>5fc961c3b8cfca11a077dd33</td></tr><tr><td>6022e8000a720f05a80000ef</td><td>2021-02-09T19:52:32.000Z</td><td>2021-02-09T19:52:32.000Z</td><td>null</td><td>2021-02-09T19:52:32.000Z</td><td>null</td><td>null</td><td>null</td><td>null</td><td>null</td><td>SUBMITTED</td><td>null</td><td>null</td><td>5fc961c3b8cfca11a077dd33</td></tr><tr><td>601af5aa0a720f05f4000214</td><td>2021-02-03T19:12:42.000Z</td><td>2021-02-03T19:12:42.000Z</td><td>null</td><td>2021-02-03T19:12:42.000Z</td><td>null</td><td>null</td><td>null</td><td>null</td><td>null</td><td>SUBMITTED</td><td>null</td><td>null</td><td>5fc961c3b8cfca11a077dd33</td></tr><tr><td>5ff1e1d40a7214ada1000562</td><td>2021-01-03T15:25:08.000Z</td><td>2021-01-03T15:25:08.000Z</td><td>null</td><td>2021-01-03T15:25:08.000Z</td><td>2017-10-30T00:00:00.000Z</td><td>null</td><td>null</td><td>null</td><td>null</td><td>REJECTED</td><td>3</td><td>3.00</td><td>5ff1e194b6a9d73a3a9f1052</td></tr><tr><td>603900a60a720fde100000b1</td><td>2021-02-26T14:07:34.000Z</td><td>2021-02-26T14:07:34.000Z</td><td>null</td><td>2021-02-26T14:07:34.000Z</td><td>null</td><td>null</td><td>null</td><td>null</td><td>null</td><td>SUBMITTED</td><td>null</td><td>null</td><td>5fc961c3b8cfca11a077dd33</td></tr><tr><td>6018369f0a7214ad500002f1</td><td>2021-02-01T17:13:03.000Z</td><td>2021-02-01T17:13:03.000Z</td><td>null</td><td>2021-02-01T17:13:04.000Z</td><td>2021-01-31T17:13:03.000Z</td><td>null</td><td>150.00</td><td>150.00</td><td>Receipt Number 5 Completed, Bonus Point Schedule </td><td>FLAGGED</td><td>1</td><td>1.00</td><td>601836829a1b091205b6194d</td></tr><tr><td>601c11410a720f05f400028e</td><td>2021-02-04T15:22:41.000Z</td><td>2021-02-04T15:22:41.000Z</td><td>null</td><td>2021-02-04T15:22:41.000Z</td><td>null</td><td>null</td><td>null</td><td>null</td><td>null</td><td>SUBMITTED</td><td>null</td><td>null</td><td>5fc961c3b8cfca11a077dd33</td></tr><tr><td>6025fde20a720f05a8000294</td><td>2021-02-12T04:02:42.000Z</td><td>2021-02-12T04:02:42.000Z</td><td>null</td><td>2021-02-12T04:02:42.000Z</td><td>null</td><td>null</td><td>null</td><td>null</td><td>null</td><td>SUBMITTED</td><td>null</td><td>null</td><td>5fc961c3b8cfca11a077dd33</td></tr><tr><td>60395d3c0a7217c72c0000f9</td><td>2021-02-26T20:42:36.000Z</td><td>2021-02-26T20:42:36.000Z</td><td>null</td><td>2021-02-26T20:42:36.000Z</td><td>null</td><td>null</td><td>null</td><td>null</td><td>null</td><td>SUBMITTED</td><td>null</td><td>null</td><td>5fc961c3b8cfca11a077dd33</td></tr><tr><td>60392d2d0a720fde100000c1</td><td>2021-02-26T17:17:33.000Z</td><td>2021-02-26T17:17:33.000Z</td><td>null</td><td>2021-02-26T17:17:33.000Z</td><td>null</td><td>null</td><td>null</td><td>null</td><td>null</td><td>SUBMITTED</td><td>null</td><td>null</td><td>5fc961c3b8cfca11a077dd33</td></tr><tr><td>601d7cd30a720f0554000663</td><td>2021-02-05T17:13:55.000Z</td><td>2021-02-05T17:13:55.000Z</td><td>2021-02-05T17:13:55.000Z</td><td>2021-02-05T17:13:55.000Z</td><td>2021-02-05T00:00:00.000Z</td><td>null</td><td>null</td><td>null</td><td>null</td><td>PENDING</td><td>null</td><td>28.57</td><td>59c124bae4b0299e55b0f330</td></tr><tr><td>601561230a7214ad50000173</td><td>2021-01-30T13:37:39.000Z</td><td>2021-01-30T13:37:39.000Z</td><td>null</td><td>2021-01-30T13:37:39.000Z</td><td>null</td><td>null</td><td>null</td><td>null</td><td>null</td><td>SUBMITTED</td><td>null</td><td>null</td><td>5fc961c3b8cfca11a077dd33</td></tr><tr><td>60150cc40a720f05f80001c3</td><td>2021-01-30T07:37:40.000Z</td><td>2021-01-30T07:37:40.000Z</td><td>null</td><td>2021-01-30T07:37:40.000Z</td><td>null</td><td>null</td><td>null</td><td>null</td><td>null</td><td>SUBMITTED</td><td>null</td><td>null</td><td>5fc961c3b8cfca11a077dd33</td></tr><tr><td>603b1a8c0a720fde1000025d</td><td>2021-02-28T04:22:36.000Z</td><td>2021-02-28T04:22:36.000Z</td><td>null</td><td>2021-02-28T04:22:36.000Z</td><td>null</td><td>null</td><td>null</td><td>null</td><td>null</td><td>SUBMITTED</td><td>null</td><td>null</td><td>5fc961c3b8cfca11a077dd33</td></tr><tr><td>601b32150a7214ad28000220</td><td>2021-02-03T23:30:29.000Z</td><td>2021-02-03T23:30:29.000Z</td><td>null</td><td>2021-02-03T23:30:29.000Z</td><td>null</td><td>null</td><td>null</td><td>null</td><td>null</td><td>SUBMITTED</td><td>null</td><td>null</td><td>5a43c08fe4b014fd6b6a0612</td></tr><tr><td>6020eb730a720f053c000197</td><td>2021-02-08T07:42:43.000Z</td><td>2021-02-08T07:42:43.000Z</td><td>null</td><td>2021-02-08T07:42:43.000Z</td><td>null</td><td>null</td><td>null</td><td>null</td><td>null</td><td>SUBMITTED</td><td>null</td><td>null</td><td>5fc961c3b8cfca11a077dd33</td></tr><tr><td>601d7ca40a720f055400058b</td><td>2021-02-05T17:13:08.000Z</td><td>2021-02-05T17:13:08.000Z</td><td>2021-02-05T17:13:08.000Z</td><td>2021-02-05T17:13:08.000Z</td><td>2021-02-05T00:00:00.000Z</td><td>null</td><td>null</td><td>null</td><td>null</td><td>PENDING</td><td>null</td><td>28.57</td><td>59c124bae4b0299e55b0f330</td></tr><tr><td>6016df2c0a720f05f8000288</td><td>2021-01-31T16:47:40.000Z</td><td>2021-01-31T16:47:40.000Z</td><td>null</td><td>2021-01-31T16:47:40.000Z</td><td>null</td><td>null</td><td>null</td><td>null</td><td>null</td><td>SUBMITTED</td><td>null</td><td>null</td><td>5fc961c3b8cfca11a077dd33</td></tr><tr><td>601b0bf00a720f05f400021b</td><td>2021-02-03T20:47:44.000Z</td><td>2021-02-03T20:47:44.000Z</td><td>null</td><td>2021-02-03T20:47:44.000Z</td><td>null</td><td>null</td><td>null</td><td>null</td><td>null</td><td>SUBMITTED</td><td>null</td><td>null</td><td>5fc961c3b8cfca11a077dd33</td></tr><tr><td>602561fd0a7214d8e9000273</td><td>2021-02-11T16:57:33.000Z</td><td>2021-02-11T16:57:33.000Z</td><td>null</td><td>2021-02-11T16:57:33.000Z</td><td>null</td><td>null</td><td>null</td><td>null</td><td>null</td><td>SUBMITTED</td><td>null</td><td>null</td><td>5fc961c3b8cfca11a077dd33</td></tr><tr><td>601fda670a720f053c00011a</td><td>2021-02-07T12:17:43.000Z</td><td>2021-02-07T12:17:43.000Z</td><td>null</td><td>2021-02-07T12:17:43.000Z</td><td>null</td><td>null</td><td>null</td><td>null</td><td>null</td><td>SUBMITTED</td><td>null</td><td>null</td><td>5fc961c3b8cfca11a077dd33</td></tr><tr><td>601c2d630a7214ad280002a7</td><td>2021-02-04T17:22:43.000Z</td><td>2021-02-04T17:22:43.000Z</td><td>null</td><td>2021-02-04T17:22:43.000Z</td><td>null</td><td>null</td><td>null</td><td>null</td><td>null</td><td>SUBMITTED</td><td>null</td><td>null</td><td>5fc961c3b8cfca11a077dd33</td></tr><tr><td>602380580a7214d8e900014a</td><td>2021-02-10T06:42:32.000Z</td><td>2021-02-10T06:42:32.000Z</td><td>null</td><td>2021-02-10T06:42:32.000Z</td><td>null</td><td>null</td><td>null</td><td>null</td><td>null</td><td>SUBMITTED</td><td>null</td><td>null</td><td>5fc961c3b8cfca11a077dd33</td></tr><tr><td>6020e46b0a720f053c000194</td><td>2021-02-08T07:12:43.000Z</td><td>2021-02-08T07:12:43.000Z</td><td>null</td><td>2021-02-08T07:12:43.000Z</td><td>null</td><td>null</td><td>null</td><td>null</td><td>null</td><td>SUBMITTED</td><td>null</td><td>null</td><td>5fc961c3b8cfca11a077dd33</td></tr><tr><td>6021d63a0a7214d8e9000058</td><td>2021-02-09T00:24:26.000Z</td><td>2021-02-09T00:24:26.000Z</td><td>null</td><td>2021-02-09T00:24:26.000Z</td><td>null</td><td>null</td><td>null</td><td>null</td><td>null</td><td>SUBMITTED</td><td>null</td><td>null</td><td>5fc961c3b8cfca11a077dd33</td></tr><tr><td>603a16620a7217c72c0001b8</td><td>2021-02-27T09:52:34.000Z</td><td>2021-02-27T09:52:34.000Z</td><td>null</td><td>2021-02-27T09:52:34.000Z</td><td>null</td><td>null</td><td>null</td><td>null</td><td>null</td><td>SUBMITTED</td><td>null</td><td>null</td><td>5fc961c3b8cfca11a077dd33</td></tr><tr><td>603bf0fe0a7217c72c00034f</td><td>2021-02-28T19:37:34.000Z</td><td>2021-02-28T19:37:34.000Z</td><td>null</td><td>2021-02-28T19:37:34.000Z</td><td>null</td><td>null</td><td>null</td><td>null</td><td>null</td><td>SUBMITTED</td><td>null</td><td>null</td><td>5fc961c3b8cfca11a077dd33</td></tr><tr><td>6016560f0a7214ad500001dd</td><td>2021-01-31T07:02:39.000Z</td><td>2021-01-31T07:02:39.000Z</td><td>null</td><td>2021-01-31T07:02:39.000Z</td><td>null</td><td>null</td><td>null</td><td>null</td><td>null</td><td>SUBMITTED</td><td>null</td><td>null</td><td>5fc961c3b8cfca11a077dd33</td></tr><tr><td>6015268a0a7214ad50000155</td><td>2021-01-30T09:27:38.000Z</td><td>2021-01-30T09:27:38.000Z</td><td>null</td><td>2021-01-30T09:27:38.000Z</td><td>null</td><td>null</td><td>null</td><td>null</td><td>null</td><td>SUBMITTED</td><td>null</td><td>null</td><td>5fc961c3b8cfca11a077dd33</td></tr><tr><td>601a74c20a720f05f40001c8</td><td>2021-02-03T10:02:42.000Z</td><td>2021-02-03T10:02:42.000Z</td><td>null</td><td>2021-02-03T10:02:42.000Z</td><td>null</td><td>null</td><td>null</td><td>null</td><td>null</td><td>SUBMITTED</td><td>null</td><td>null</td><td>5fc961c3b8cfca11a077dd33</td></tr><tr><td>603c4fea0a7217c72c000389</td><td>2021-03-01T02:22:34.000Z</td><td>2021-03-01T02:22:34.000Z</td><td>null</td><td>2021-03-01T02:22:34.000Z</td><td>null</td><td>null</td><td>null</td><td>null</td><td>null</td><td>SUBMITTED</td><td>null</td><td>null</td><td>5fc961c3b8cfca11a077dd33</td></tr><tr><td>603c3d240a720fde10000373</td><td>2021-03-01T01:02:28.000Z</td><td>2021-03-01T01:02:28.000Z</td><td>null</td><td>2021-03-01T01:02:29.000Z</td><td>2020-08-17T00:00:00.000Z</td><td>null</td><td>25.00</td><td>25.00</td><td>Complete Nonpartner Receipt</td><td>REJECTED</td><td>2</td><td>34.96</td><td>5fc961c3b8cfca11a077dd33</td></tr><tr><td>6020e0e50a720f053c000193</td><td>2021-02-08T06:57:41.000Z</td><td>2021-02-08T06:57:41.000Z</td><td>null</td><td>2021-02-08T06:57:41.000Z</td><td>null</td><td>null</td><td>null</td><td>null</td><td>null</td><td>SUBMITTED</td><td>null</td><td>null</td><td>5fc961c3b8cfca11a077dd33</td></tr><tr><td>601adab60a720f05f4000207</td><td>2021-02-03T17:17:42.000Z</td><td>2021-02-03T17:17:42.000Z</td><td>null</td><td>2021-02-03T17:17:42.000Z</td><td>null</td><td>null</td><td>null</td><td>null</td><td>null</td><td>SUBMITTED</td><td>null</td><td>null</td><td>5fc961c3b8cfca11a077dd33</td></tr><tr><td>60386aa50a7217c72c000091</td><td>2021-02-26T03:27:33.000Z</td><td>2021-02-26T03:27:33.000Z</td><td>null</td><td>2021-02-26T03:27:33.000Z</td><td>null</td><td>null</td><td>null</td><td>null</td><td>null</td><td>SUBMITTED</td><td>null</td><td>null</td><td>5fc961c3b8cfca11a077dd33</td></tr><tr><td>602667590a7214d8e90002f3</td><td>2021-02-12T11:32:41.000Z</td><td>2021-02-12T11:32:41.000Z</td><td>null</td><td>2021-02-12T11:32:41.000Z</td><td>null</td><td>null</td><td>null</td><td>null</td><td>null</td><td>SUBMITTED</td><td>null</td><td>null</td><td>5fc961c3b8cfca11a077dd33</td></tr><tr><td>6016e0570a720f05f8000289</td><td>2021-01-31T16:52:39.000Z</td><td>2021-01-31T16:52:39.000Z</td><td>null</td><td>2021-01-31T16:52:39.000Z</td><td>null</td><td>null</td><td>null</td><td>null</td><td>null</td><td>SUBMITTED</td><td>null</td><td>null</td><td>5fc961c3b8cfca11a077dd33</td></tr><tr><td>601d7cf90a720f055400070e</td><td>2021-02-05T17:14:33.000Z</td><td>2021-02-05T17:14:33.000Z</td><td>2021-02-05T17:14:33.000Z</td><td>2021-02-05T17:14:33.000Z</td><td>2021-02-05T00:00:00.000Z</td><td>null</td><td>null</td><td>null</td><td>null</td><td>PENDING</td><td>null</td><td>28.57</td><td>59c124bae4b0299e55b0f330</td></tr><tr><td>603c88240a7217c72c0003b8</td><td>2021-03-01T06:22:28.000Z</td><td>2021-03-01T06:22:28.000Z</td><td>null</td><td>2021-03-01T06:22:29.000Z</td><td>2020-08-17T00:00:00.000Z</td><td>null</td><td>25.00</td><td>25.00</td><td>Complete Nonpartner Receipt</td><td>REJECTED</td><td>2</td><td>34.96</td><td>5fc961c3b8cfca11a077dd33</td></tr><tr><td>602252050a7214d8e90000ae</td><td>2021-02-09T09:12:37.000Z</td><td>2021-02-09T09:12:37.000Z</td><td>null</td><td>2021-02-09T09:12:37.000Z</td><td>null</td><td>null</td><td>null</td><td>null</td><td>null</td><td>SUBMITTED</td><td>null</td><td>null</td><td>5fc961c3b8cfca11a077dd33</td></tr><tr><td>602581a10a720f05a8000262</td><td>2021-02-11T19:12:33.000Z</td><td>2021-02-11T19:12:33.000Z</td><td>null</td><td>2021-02-11T19:12:33.000Z</td><td>null</td><td>null</td><td>null</td><td>null</td><td>null</td><td>SUBMITTED</td><td>null</td><td>null</td><td>5fc961c3b8cfca11a077dd33</td></tr><tr><td>6022c1580a7214d8e90000ff</td><td>2021-02-09T17:07:36.000Z</td><td>2021-02-09T17:07:36.000Z</td><td>null</td><td>2021-02-09T17:07:36.000Z</td><td>null</td><td>null</td><td>null</td><td>null</td><td>null</td><td>SUBMITTED</td><td>null</td><td>null</td><td>5fc961c3b8cfca11a077dd33</td></tr><tr><td>6017ab130a720f05f80002e0</td><td>2021-02-01T07:17:39.000Z</td><td>2021-02-01T07:17:39.000Z</td><td>null</td><td>2021-02-01T07:17:39.000Z</td><td>null</td><td>null</td><td>null</td><td>null</td><td>null</td><td>SUBMITTED</td><td>null</td><td>null</td><td>5fc961c3b8cfca11a077dd33</td></tr><tr><td>601c40230a720f05f40002b5</td><td>2021-02-04T18:42:43.000Z</td><td>2021-02-04T18:42:43.000Z</td><td>null</td><td>2021-02-04T18:42:43.000Z</td><td>null</td><td>null</td><td>null</td><td>null</td><td>null</td><td>SUBMITTED</td><td>null</td><td>null</td><td>5fc961c3b8cfca11a077dd33</td></tr><tr><td>5ffce8250a7214ad4e0034de</td><td>2021-01-12T00:07:00.000Z</td><td>2021-01-12T00:07:00.000Z</td><td>null</td><td>2021-01-12T00:07:00.000Z</td><td>null</td><td>null</td><td>null</td><td>null</td><td>null</td><td>SUBMITTED</td><td>null</td><td>null</td><td>59c124bae4b0299e55b0f330</td></tr><tr><td>6017ff730a720f05f8000301</td><td>2021-02-01T13:17:39.000Z</td><td>2021-02-01T13:17:39.000Z</td><td>null</td><td>2021-02-01T13:17:39.000Z</td><td>null</td><td>null</td><td>null</td><td>null</td><td>null</td><td>SUBMITTED</td><td>null</td><td>null</td><td>5fc961c3b8cfca11a077dd33</td></tr><tr><td>60233c5f0a720f05a8000119</td><td>2021-02-10T01:52:31.000Z</td><td>2021-02-10T01:52:31.000Z</td><td>null</td><td>2021-02-10T01:52:31.000Z</td><td>null</td><td>null</td><td>null</td><td>null</td><td>null</td><td>SUBMITTED</td><td>null</td><td>null</td><td>5fc961c3b8cfca11a077dd33</td></tr><tr><td>601830a70a7214ad500002d3</td><td>2021-02-01T16:47:35.000Z</td><td>2021-02-01T16:47:35.000Z</td><td>null</td><td>2021-02-01T16:47:35.000Z</td><td>2017-10-30T00:00:00.000Z</td><td>null</td><td>null</td><td>null</td><td>null</td><td>REJECTED</td><td>3</td><td>3.00</td><td>60183090c8b50e11d84549c0</td></tr><tr><td>5ffcef5a0a720f0515004f1a</td><td>2021-01-12T00:37:46.000Z</td><td>2021-01-12T00:37:46.000Z</td><td>2021-01-12T00:37:46.000Z</td><td>2021-01-12T00:37:46.000Z</td><td>2021-01-12T00:00:00.000Z</td><td>null</td><td>null</td><td>null</td><td>null</td><td>PENDING</td><td>null</td><td>28.57</td><td>59c124bae4b0299e55b0f330</td></tr><tr><td>6023d0080a720f05a8000155</td><td>2021-02-10T12:22:32.000Z</td><td>2021-02-10T12:22:32.000Z</td><td>null</td><td>2021-02-10T12:22:32.000Z</td><td>null</td><td>null</td><td>null</td><td>null</td><td>null</td><td>SUBMITTED</td><td>null</td><td>null</td><td>5fc961c3b8cfca11a077dd33</td></tr><tr><td>5ff8da7d0a720f05c500001c</td><td>2021-01-08T22:19:41.000Z</td><td>2021-01-08T22:19:41.000Z</td><td>null</td><td>2021-01-08T22:19:41.000Z</td><td>null</td><td>null</td><td>null</td><td>null</td><td>null</td><td>FLAGGED</td><td>0</td><td>0.00</td><td>5ff8da7db3348b11c9337b6a</td></tr><tr><td>5ffc9d9c0a7214adca00004b</td><td>2021-01-11T18:49:00.000Z</td><td>2021-01-11T18:49:00.000Z</td><td>null</td><td>2021-01-11T18:49:05.000Z</td><td>2021-01-11T00:00:00.000Z</td><td>null</td><td>5.00</td><td>5.00</td><td>All-receipts Receipt Bonus</td><td>REJECTED</td><td>1</td><td>10.00</td><td>5ffc9d9cb3348b11c933893f</td></tr><tr><td>6038dd7c0a7217c72c0000c0</td><td>2021-02-26T11:37:32.000Z</td><td>2021-02-26T11:37:32.000Z</td><td>null</td><td>2021-02-26T11:37:32.000Z</td><td>null</td><td>null</td><td>null</td><td>null</td><td>null</td><td>SUBMITTED</td><td>null</td><td>null</td><td>5fc961c3b8cfca11a077dd33</td></tr><tr><td>601efe190a720f053c0000b8</td><td>2021-02-06T20:37:45.000Z</td><td>2021-02-06T20:37:45.000Z</td><td>null</td><td>2021-02-06T20:37:45.000Z</td><td>null</td><td>null</td><td>null</td><td>null</td><td>null</td><td>SUBMITTED</td><td>null</td><td>null</td><td>5fc961c3b8cfca11a077dd33</td></tr><tr><td>603b9a3f0a720fde100002d3</td><td>2021-02-28T13:27:27.000Z</td><td>2021-02-28T13:27:27.000Z</td><td>null</td><td>2021-02-28T13:27:28.000Z</td><td>2020-08-17T00:00:00.000Z</td><td>null</td><td>25.00</td><td>25.00</td><td>Complete Nonpartner Receipt</td><td>REJECTED</td><td>2</td><td>34.96</td><td>5fc961c3b8cfca11a077dd33</td></tr><tr><td>603c8cdf0a7217c72c0003bb</td><td>2021-03-01T06:42:39.000Z</td><td>2021-03-01T06:42:39.000Z</td><td>null</td><td>2021-03-01T06:42:39.000Z</td><td>null</td><td>null</td><td>null</td><td>null</td><td>null</td><td>SUBMITTED</td><td>null</td><td>null</td><td>5fc961c3b8cfca11a077dd33</td></tr><tr><td>601e63660a720f053c000055</td><td>2021-02-06T09:37:42.000Z</td><td>2021-02-06T09:37:42.000Z</td><td>null</td><td>2021-02-06T09:37:42.000Z</td><td>null</td><td>null</td><td>null</td><td>null</td><td>null</td><td>SUBMITTED</td><td>null</td><td>null</td><td>5fc961c3b8cfca11a077dd33</td></tr><tr><td>601fe3c80a7214ad250000e6</td><td>2021-02-07T12:57:44.000Z</td><td>2021-02-07T12:57:44.000Z</td><td>null</td><td>2021-02-07T12:57:44.000Z</td><td>null</td><td>null</td><td>null</td><td>null</td><td>null</td><td>SUBMITTED</td><td>null</td><td>null</td><td>5fc961c3b8cfca11a077dd33</td></tr><tr><td>603cf2ce0a7217c72c000413</td><td>2021-03-01T13:57:34.000Z</td><td>2021-03-01T13:57:34.000Z</td><td>null</td><td>2021-03-01T13:57:34.000Z</td><td>null</td><td>null</td><td>null</td><td>null</td><td>null</td><td>SUBMITTED</td><td>null</td><td>null</td><td>5fc961c3b8cfca11a077dd33</td></tr><tr><td>60217b960a720f05a8000012</td><td>2021-02-08T17:57:42.000Z</td><td>2021-02-08T17:57:42.000Z</td><td>null</td><td>2021-02-08T17:57:42.000Z</td><td>null</td><td>null</td><td>null</td><td>null</td><td>null</td><td>SUBMITTED</td><td>null</td><td>null</td><td>5fc961c3b8cfca11a077dd33</td></tr><tr><td>603a398a0a7217c72c0001da</td><td>2021-02-27T12:22:34.000Z</td><td>2021-02-27T12:22:34.000Z</td><td>null</td><td>2021-02-27T12:22:34.000Z</td><td>null</td><td>null</td><td>null</td><td>null</td><td>null</td><td>SUBMITTED</td><td>null</td><td>null</td><td>5fc961c3b8cfca11a077dd33</td></tr><tr><td>5ffcb4900a720f0515000002</td><td>2021-01-11T20:26:56.000Z</td><td>2021-01-11T20:26:56.000Z</td><td>null</td><td>2021-01-11T20:26:57.000Z</td><td>2021-02-11T20:26:56.000Z</td><td>null</td><td>8950.00</td><td>250.00</td><td>Receipt Number 3 Completed, Bonus Point Schedule </td><td>FLAGGED</td><td>10</td><td>290.00</td><td>5ffcb47d04929111f6e9256c</td></tr><tr><td>601a25110a7214ad28000188</td><td>2021-02-03T04:22:41.000Z</td><td>2021-02-03T04:22:41.000Z</td><td>null</td><td>2021-02-03T04:22:41.000Z</td><td>null</td><td>null</td><td>null</td><td>null</td><td>null</td><td>SUBMITTED</td><td>null</td><td>null</td><td>5fc961c3b8cfca11a077dd33</td></tr><tr><td>601c5d700a7214ad280002bc</td><td>2021-02-04T20:47:44.000Z</td><td>2021-02-04T20:47:44.000Z</td><td>null</td><td>2021-02-04T20:47:44.000Z</td><td>null</td><td>null</td><td>null</td><td>null</td><td>null</td><td>SUBMITTED</td><td>null</td><td>null</td><td>5fc961c3b8cfca11a077dd33</td></tr><tr><td>601e96f60a7214ad2500005c</td><td>2021-02-06T13:17:42.000Z</td><td>2021-02-06T13:17:42.000Z</td><td>null</td><td>2021-02-06T13:17:42.000Z</td><td>null</td><td>null</td><td>null</td><td>null</td><td>null</td><td>SUBMITTED</td><td>null</td><td>null</td><td>5fc961c3b8cfca11a077dd33</td></tr><tr><td>6022d8c90a720f05a80000e7</td><td>2021-02-09T18:47:37.000Z</td><td>2021-02-09T18:47:37.000Z</td><td>null</td><td>2021-02-09T18:47:37.000Z</td><td>null</td><td>null</td><td>null</td><td>null</td><td>null</td><td>SUBMITTED</td><td>null</td><td>null</td><td>5fc961c3b8cfca11a077dd33</td></tr><tr><td>6014e99b0a7214ad50000137</td><td>2021-01-30T05:07:39.000Z</td><td>2021-01-30T05:07:39.000Z</td><td>null</td><td>2021-01-30T05:07:39.000Z</td><td>null</td><td>null</td><td>null</td><td>null</td><td>null</td><td>SUBMITTED</td><td>null</td><td>null</td><td>5fc961c3b8cfca11a077dd33</td></tr><tr><td>60245dd50a720f05a80001b2</td><td>2021-02-10T22:27:33.000Z</td><td>2021-02-10T22:27:33.000Z</td><td>null</td><td>2021-02-10T22:27:33.000Z</td><td>null</td><td>null</td><td>null</td><td>null</td><td>null</td><td>SUBMITTED</td><td>null</td><td>null</td><td>5fc961c3b8cfca11a077dd33</td></tr><tr><td>60217f1b0a720f05a8000016</td><td>2021-02-08T18:12:43.000Z</td><td>2021-02-08T18:12:43.000Z</td><td>null</td><td>2021-02-08T18:12:43.000Z</td><td>null</td><td>null</td><td>null</td><td>null</td><td>null</td><td>SUBMITTED</td><td>null</td><td>null</td><td>5fc961c3b8cfca11a077dd33</td></tr><tr><td>601d7b770a720f0554000016</td><td>2021-02-05T17:08:07.000Z</td><td>2021-02-05T17:08:07.000Z</td><td>2021-02-05T17:08:07.000Z</td><td>2021-02-05T17:08:07.000Z</td><td>2021-02-05T00:00:00.000Z</td><td>null</td><td>null</td><td>null</td><td>null</td><td>PENDING</td><td>null</td><td>28.57</td><td>59c124bae4b0299e55b0f330</td></tr><tr><td>602331d70a720f05a8000113</td><td>2021-02-10T01:07:34.000Z</td><td>2021-02-10T01:07:34.000Z</td><td>null</td><td>2021-02-10T01:07:34.000Z</td><td>null</td><td>null</td><td>null</td><td>null</td><td>null</td><td>SUBMITTED</td><td>null</td><td>null</td><td>5fc961c3b8cfca11a077dd33</td></tr><tr><td>60169a070a720f05f8000264</td><td>2021-01-31T11:52:39.000Z</td><td>2021-01-31T11:52:39.000Z</td><td>null</td><td>2021-01-31T11:52:39.000Z</td><td>null</td><td>null</td><td>null</td><td>null</td><td>null</td><td>SUBMITTED</td><td>null</td><td>null</td><td>5fc961c3b8cfca11a077dd33</td></tr><tr><td>600205f60a7214ad4c00007b</td><td>2021-01-15T21:15:32.000Z</td><td>2021-01-15T21:15:32.000Z</td><td>null</td><td>2021-01-15T21:15:32.000Z</td><td>null</td><td>null</td><td>null</td><td>null</td><td>null</td><td>SUBMITTED</td><td>null</td><td>null</td><td>6000b75bbe5fc96dfee1d4d3</td></tr><tr><td>601bbbb50a720f05f400026a</td><td>2021-02-04T09:17:41.000Z</td><td>2021-02-04T09:17:41.000Z</td><td>null</td><td>2021-02-04T09:17:41.000Z</td><td>null</td><td>null</td><td>null</td><td>null</td><td>null</td><td>SUBMITTED</td><td>null</td><td>null</td><td>5fc961c3b8cfca11a077dd33</td></tr><tr><td>601f7f010a7214ad250000be</td><td>2021-02-07T05:47:45.000Z</td><td>2021-02-07T05:47:45.000Z</td><td>null</td><td>2021-02-07T05:47:45.000Z</td><td>null</td><td>null</td><td>null</td><td>null</td><td>null</td><td>SUBMITTED</td><td>null</td><td>null</td><td>5fc961c3b8cfca11a077dd33</td></tr><tr><td>5fff26f10a7214ad4c000018</td><td>2021-01-13T16:59:29.000Z</td><td>2021-01-13T16:59:29.000Z</td><td>null</td><td>2021-01-13T16:59:29.000Z</td><td>2021-02-13T16:59:29.000Z</td><td>null</td><td>8700.00</td><td>null</td><td>null</td><td>FLAGGED</td><td>10</td><td>290.00</td><td>5fff2698b3348b03eb45bb10</td></tr><tr><td>60243bdb0a720f05a80001a2</td><td>2021-02-10T20:02:35.000Z</td><td>2021-02-10T20:02:35.000Z</td><td>null</td><td>2021-02-10T20:02:35.000Z</td><td>null</td><td>null</td><td>null</td><td>null</td><td>null</td><td>SUBMITTED</td><td>null</td><td>null</td><td>5fc961c3b8cfca11a077dd33</td></tr><tr><td>601ae6710a720f05f400020c</td><td>2021-02-03T18:07:44.000Z</td><td>2021-02-03T18:07:44.000Z</td><td>null</td><td>2021-02-03T18:07:44.000Z</td><td>null</td><td>null</td><td>null</td><td>null</td><td>null</td><td>SUBMITTED</td><td>null</td><td>null</td><td>5fc961c3b8cfca11a077dd33</td></tr><tr><td>601f31a60a720f053c0000d0</td><td>2021-02-07T00:17:42.000Z</td><td>2021-02-07T00:17:42.000Z</td><td>null</td><td>2021-02-07T00:17:42.000Z</td><td>null</td><td>null</td><td>null</td><td>null</td><td>null</td><td>SUBMITTED</td><td>null</td><td>null</td><td>5fc961c3b8cfca11a077dd33</td></tr><tr><td>6000accd0a7214ad4c00004b</td><td>2021-01-14T20:42:51.000Z</td><td>2021-01-14T20:42:51.000Z</td><td>null</td><td>2021-01-14T20:42:51.000Z</td><td>null</td><td>null</td><td>null</td><td>null</td><td>null</td><td>SUBMITTED</td><td>null</td><td>null</td><td>5a43c08fe4b014fd6b6a0612</td></tr><tr><td>6015d9d80a720f05f8000219</td><td>2021-01-30T22:12:40.000Z</td><td>2021-01-30T22:12:40.000Z</td><td>null</td><td>2021-01-30T22:12:40.000Z</td><td>null</td><td>null</td><td>null</td><td>null</td><td>null</td><td>SUBMITTED</td><td>null</td><td>null</td><td>5fc961c3b8cfca11a077dd33</td></tr><tr><td>602483540a7214d8e90001ea</td><td>2021-02-11T01:07:32.000Z</td><td>2021-02-11T01:07:32.000Z</td><td>null</td><td>2021-02-11T01:07:32.000Z</td><td>null</td><td>null</td><td>null</td><td>null</td><td>null</td><td>SUBMITTED</td><td>null</td><td>null</td><td>5fc961c3b8cfca11a077dd33</td></tr><tr><td>6018b92a0a7214ad2800005e</td><td>2021-02-02T02:30:02.000Z</td><td>2021-02-02T02:30:02.000Z</td><td>null</td><td>2021-02-02T02:30:02.000Z</td><td>null</td><td>null</td><td>null</td><td>null</td><td>null</td><td>SUBMITTED</td><td>null</td><td>null</td><td>60186237c8b50e11d8454d5f</td></tr><tr><td>603c4a0e0a720fde10000380</td><td>2021-03-01T01:57:34.000Z</td><td>2021-03-01T01:57:34.000Z</td><td>null</td><td>2021-03-01T01:57:34.000Z</td><td>null</td><td>null</td><td>null</td><td>null</td><td>null</td><td>SUBMITTED</td><td>null</td><td>null</td><td>5fc961c3b8cfca11a077dd33</td></tr><tr><td>602198e50a720f05a8000027</td><td>2021-02-08T20:02:45.000Z</td><td>2021-02-08T20:02:45.000Z</td><td>null</td><td>2021-02-08T20:02:45.000Z</td><td>null</td><td>null</td><td>null</td><td>null</td><td>null</td><td>SUBMITTED</td><td>null</td><td>null</td><td>5fc961c3b8cfca11a077dd33</td></tr><tr><td>6020a2cd0a720f053c000175</td><td>2021-02-08T02:32:45.000Z</td><td>2021-02-08T02:32:45.000Z</td><td>null</td><td>2021-02-08T02:32:45.000Z</td><td>null</td><td>null</td><td>null</td><td>null</td><td>null</td><td>SUBMITTED</td><td>null</td><td>null</td><td>5fc961c3b8cfca11a077dd33</td></tr><tr><td>6023bfa00a7214d8e9000168</td><td>2021-02-10T11:12:32.000Z</td><td>2021-02-10T11:12:32.000Z</td><td>null</td><td>2021-02-10T11:12:32.000Z</td><td>null</td><td>null</td><td>null</td><td>null</td><td>null</td><td>SUBMITTED</td><td>null</td><td>null</td><td>5fc961c3b8cfca11a077dd33</td></tr><tr><td>603b77170a7217c72c0002e6</td><td>2021-02-28T10:57:27.000Z</td><td>2021-02-28T10:57:27.000Z</td><td>null</td><td>2021-02-28T10:57:28.000Z</td><td>2020-08-17T00:00:00.000Z</td><td>null</td><td>25.00</td><td>25.00</td><td>Complete Nonpartner Receipt</td><td>REJECTED</td><td>2</td><td>34.96</td><td>5fc961c3b8cfca11a077dd33</td></tr><tr><td>602460300a7214d8e90001d6</td><td>2021-02-10T22:37:36.000Z</td><td>2021-02-10T22:37:36.000Z</td><td>null</td><td>2021-02-10T22:37:36.000Z</td><td>null</td><td>null</td><td>null</td><td>null</td><td>null</td><td>SUBMITTED</td><td>null</td><td>null</td><td>5fc961c3b8cfca11a077dd33</td></tr><tr><td>60201adc0a7214ad250000ff</td><td>2021-02-07T16:52:44.000Z</td><td>2021-02-07T16:52:44.000Z</td><td>null</td><td>2021-02-07T16:52:44.000Z</td><td>null</td><td>null</td><td>null</td><td>null</td><td>null</td><td>SUBMITTED</td><td>null</td><td>null</td><td>5fc961c3b8cfca11a077dd33</td></tr><tr><td>602515cf0a7214d8e9000231</td><td>2021-02-11T11:32:31.000Z</td><td>2021-02-11T11:32:31.000Z</td><td>null</td><td>2021-02-11T11:32:31.000Z</td><td>null</td><td>null</td><td>null</td><td>null</td><td>null</td><td>SUBMITTED</td><td>null</td><td>null</td><td>5fc961c3b8cfca11a077dd33</td></tr><tr><td>601542ab0a720f05f80001d5</td><td>2021-01-30T11:27:39.000Z</td><td>2021-01-30T11:27:39.000Z</td><td>null</td><td>2021-01-30T11:27:39.000Z</td><td>null</td><td>null</td><td>null</td><td>null</td><td>null</td><td>SUBMITTED</td><td>null</td><td>null</td><td>5fc961c3b8cfca11a077dd33</td></tr><tr><td>6021efe50a7214d8e9000081</td><td>2021-02-09T02:13:57.000Z</td><td>2021-02-09T02:13:57.000Z</td><td>null</td><td>2021-02-09T02:13:57.000Z</td><td>null</td><td>null</td><td>null</td><td>null</td><td>null</td><td>SUBMITTED</td><td>null</td><td>null</td><td>5fc961c3b8cfca11a077dd33</td></tr><tr><td>603a70a10a720fde100001d9</td><td>2021-02-27T16:17:37.000Z</td><td>2021-02-27T16:17:37.000Z</td><td>null</td><td>2021-02-27T16:17:37.000Z</td><td>null</td><td>null</td><td>null</td><td>null</td><td>null</td><td>SUBMITTED</td><td>null</td><td>null</td><td>5fc961c3b8cfca11a077dd33</td></tr><tr><td>60223a950a7214d8e90000a2</td><td>2021-02-09T07:32:37.000Z</td><td>2021-02-09T07:32:37.000Z</td><td>null</td><td>2021-02-09T07:32:37.000Z</td><td>null</td><td>null</td><td>null</td><td>null</td><td>null</td><td>SUBMITTED</td><td>null</td><td>null</td><td>5fc961c3b8cfca11a077dd33</td></tr><tr><td>6010be460a7214ada2000066</td><td>2021-01-27T01:13:42.000Z</td><td>2021-01-27T01:13:42.000Z</td><td>null</td><td>2021-01-27T01:13:53.000Z</td><td>2017-10-30T00:00:00.000Z</td><td>null</td><td>null</td><td>null</td><td>null</td><td>REJECTED</td><td>3</td><td>3.00</td><td>6010bddaa4b74c120bd19dfb</td></tr><tr><td>5ff73be90a720f052300060a</td><td>2021-01-07T16:50:49.000Z</td><td>2021-01-07T16:50:49.000Z</td><td>null</td><td>2021-01-07T16:50:49.000Z</td><td>null</td><td>null</td><td>null</td><td>null</td><td>null</td><td>FLAGGED</td><td>0</td><td>0.00</td><td>5ff73be9eb7c7d31ca8a45bc</td></tr><tr><td>6017419a0a7214ad50000239</td><td>2021-01-31T23:47:38.000Z</td><td>2021-01-31T23:47:38.000Z</td><td>null</td><td>2021-01-31T23:47:38.000Z</td><td>null</td><td>null</td><td>null</td><td>null</td><td>null</td><td>SUBMITTED</td><td>null</td><td>null</td><td>5fc961c3b8cfca11a077dd33</td></tr><tr><td>6021d8cf0a7214d8e900005c</td><td>2021-02-09T00:35:27.000Z</td><td>2021-02-09T00:35:27.000Z</td><td>null</td><td>2021-02-09T00:35:27.000Z</td><td>null</td><td>null</td><td>null</td><td>null</td><td>null</td><td>SUBMITTED</td><td>null</td><td>null</td><td>5fc961c3b8cfca11a077dd33</td></tr><tr><td>6023e2c90a7214d8e9000175</td><td>2021-02-10T13:42:33.000Z</td><td>2021-02-10T13:42:33.000Z</td><td>null</td><td>2021-02-10T13:42:33.000Z</td><td>null</td><td>null</td><td>null</td><td>null</td><td>null</td><td>SUBMITTED</td><td>null</td><td>null</td><td>5fc961c3b8cfca11a077dd33</td></tr><tr><td>60161ca50a7214ad500001be</td><td>2021-01-31T02:57:41.000Z</td><td>2021-01-31T02:57:41.000Z</td><td>null</td><td>2021-01-31T02:57:41.000Z</td><td>null</td><td>null</td><td>null</td><td>null</td><td>null</td><td>SUBMITTED</td><td>null</td><td>null</td><td>5fc961c3b8cfca11a077dd33</td></tr><tr><td>6024f17d0a720f05a80001ee</td><td>2021-02-11T08:57:32.000Z</td><td>2021-02-11T08:57:32.000Z</td><td>null</td><td>2021-02-11T08:57:32.000Z</td><td>null</td><td>null</td><td>null</td><td>null</td><td>null</td><td>SUBMITTED</td><td>null</td><td>null</td><td>5fc961c3b8cfca11a077dd33</td></tr><tr><td>5ff4a4ca0a7214ada10005d0</td><td>2021-01-05T17:41:30.000Z</td><td>2021-01-05T17:41:30.000Z</td><td>null</td><td>2021-01-05T17:41:32.000Z</td><td>2020-09-13T00:00:00.000Z</td><td>null</td><td>750.00</td><td>750.00</td><td>Receipt Number 1 Completed, Bonus Point Schedule </td><td>REJECTED</td><td>2</td><td>34.96</td><td>5fbc35711d967d1222cbfefc</td></tr><tr><td>6023216c0a720f05a800010a</td><td>2021-02-09T23:57:32.000Z</td><td>2021-02-09T23:57:32.000Z</td><td>null</td><td>2021-02-09T23:57:32.000Z</td><td>null</td><td>null</td><td>null</td><td>null</td><td>null</td><td>SUBMITTED</td><td>null</td><td>null</td><td>5fc961c3b8cfca11a077dd33</td></tr><tr><td>6018b93c0a7214ad28000061</td><td>2021-02-02T02:30:20.000Z</td><td>2021-02-02T02:30:20.000Z</td><td>null</td><td>2021-02-02T02:30:20.000Z</td><td>null</td><td>null</td><td>null</td><td>null</td><td>null</td><td>SUBMITTED</td><td>null</td><td>null</td><td>60186237c8b50e11d8454d5f</td></tr><tr><td>60024fa00a7214ad4c00007f</td><td>2021-01-16T02:29:52.000Z</td><td>2021-01-16T02:29:52.000Z</td><td>null</td><td>2021-01-16T02:29:52.000Z</td><td>null</td><td>null</td><td>null</td><td>null</td><td>null</td><td>SUBMITTED</td><td>null</td><td>null</td><td>60024f24e257124ec6b99a13</td></tr><tr><td>602531f00a7214d8e900023e</td><td>2021-02-11T13:32:32.000Z</td><td>2021-02-11T13:32:32.000Z</td><td>null</td><td>2021-02-11T13:32:32.000Z</td><td>null</td><td>null</td><td>null</td><td>null</td><td>null</td><td>SUBMITTED</td><td>null</td><td>null</td><td>5fc961c3b8cfca11a077dd33</td></tr><tr><td>6014cfd30a7214ad5000012b</td><td>2021-01-30T03:17:39.000Z</td><td>2021-01-30T03:17:39.000Z</td><td>null</td><td>2021-01-30T03:17:39.000Z</td><td>null</td><td>null</td><td>null</td><td>null</td><td>null</td><td>SUBMITTED</td><td>null</td><td>null</td><td>5fc961c3b8cfca11a077dd33</td></tr><tr><td>6008ea160a720f05fa000126</td><td>2021-01-21T02:42:30.000Z</td><td>2021-01-21T02:42:30.000Z</td><td>null</td><td>2021-01-21T02:42:30.000Z</td><td>null</td><td>null</td><td>null</td><td>null</td><td>null</td><td>SUBMITTED</td><td>null</td><td>null</td><td>6008e9cdb6310511daa4f2e4</td></tr><tr><td>6039be770a720fde10000143</td><td>2021-02-27T03:37:27.000Z</td><td>2021-02-27T03:37:27.000Z</td><td>null</td><td>2021-02-27T03:37:28.000Z</td><td>2020-08-17T00:00:00.000Z</td><td>null</td><td>25.00</td><td>25.00</td><td>Complete Nonpartner Receipt</td><td>REJECTED</td><td>2</td><td>34.96</td><td>5fc961c3b8cfca11a077dd33</td></tr><tr><td>60182f390a7214ad500002b8</td><td>2021-02-01T16:41:29.000Z</td><td>2021-02-01T16:41:29.000Z</td><td>null</td><td>2021-02-01T16:41:30.000Z</td><td>null</td><td>null</td><td>null</td><td>null</td><td>null</td><td>REJECTED</td><td>0</td><td>0.00</td><td>60182f1dc8b50e11d84548c4</td></tr><tr><td>6015d0780a720f05f8000214</td><td>2021-01-30T21:32:40.000Z</td><td>2021-01-30T21:32:40.000Z</td><td>null</td><td>2021-01-30T21:32:40.000Z</td><td>null</td><td>null</td><td>null</td><td>null</td><td>null</td><td>SUBMITTED</td><td>null</td><td>null</td><td>5fc961c3b8cfca11a077dd33</td></tr><tr><td>6017e6d70a7214ad5000027f</td><td>2021-02-01T11:32:39.000Z</td><td>2021-02-01T11:32:39.000Z</td><td>null</td><td>2021-02-01T11:32:39.000Z</td><td>null</td><td>null</td><td>null</td><td>null</td><td>null</td><td>SUBMITTED</td><td>null</td><td>null</td><td>5fc961c3b8cfca11a077dd33</td></tr><tr><td>6009f9000a7214ada2000005</td><td>2021-01-21T21:58:24.000Z</td><td>2021-01-21T21:58:24.000Z</td><td>null</td><td>2021-01-21T21:58:24.000Z</td><td>null</td><td>null</td><td>null</td><td>null</td><td>null</td><td>SUBMITTED</td><td>null</td><td>null</td><td>6009f6927d983a124e9adaad</td></tr><tr><td>601f81560a720f053c0000f1</td><td>2021-02-07T05:57:42.000Z</td><td>2021-02-07T05:57:42.000Z</td><td>null</td><td>2021-02-07T05:57:42.000Z</td><td>null</td><td>null</td><td>null</td><td>null</td><td>null</td><td>SUBMITTED</td><td>null</td><td>null</td><td>5fc961c3b8cfca11a077dd33</td></tr><tr><td>6020776d0a7214ad25000120</td><td>2021-02-07T23:27:41.000Z</td><td>2021-02-07T23:27:41.000Z</td><td>null</td><td>2021-02-07T23:27:41.000Z</td><td>null</td><td>null</td><td>null</td><td>null</td><td>null</td><td>SUBMITTED</td><td>null</td><td>null</td><td>5fc961c3b8cfca11a077dd33</td></tr><tr><td>601e173d0a720f053c000032</td><td>2021-02-06T04:12:45.000Z</td><td>2021-02-06T04:12:45.000Z</td><td>null</td><td>2021-02-06T04:12:45.000Z</td><td>null</td><td>null</td><td>null</td><td>null</td><td>null</td><td>SUBMITTED</td><td>null</td><td>null</td><td>5fc961c3b8cfca11a077dd33</td></tr><tr><td>603a85b70a720fde100001e2</td><td>2021-02-27T17:47:35.000Z</td><td>2021-02-27T17:47:35.000Z</td><td>null</td><td>2021-02-27T17:47:35.000Z</td><td>null</td><td>null</td><td>null</td><td>null</td><td>null</td><td>SUBMITTED</td><td>null</td><td>null</td><td>5fc961c3b8cfca11a077dd33</td></tr><tr><td>601d77180a720f053c00000f</td><td>2021-02-05T16:49:28.000Z</td><td>2021-02-05T16:49:28.000Z</td><td>2021-02-05T16:49:29.000Z</td><td>2021-02-05T16:49:28.000Z</td><td>2021-02-05T00:00:00.000Z</td><td>null</td><td>null</td><td>null</td><td>null</td><td>PENDING</td><td>null</td><td>28.57</td><td>59c124bae4b0299e55b0f330</td></tr><tr><td>601711900a720f05f800029f</td><td>2021-01-31T20:22:40.000Z</td><td>2021-01-31T20:22:40.000Z</td><td>null</td><td>2021-01-31T20:22:40.000Z</td><td>null</td><td>null</td><td>null</td><td>null</td><td>null</td><td>SUBMITTED</td><td>null</td><td>null</td><td>5fc961c3b8cfca11a077dd33</td></tr><tr><td>601af3530a720f05f4000212</td><td>2021-02-03T19:02:43.000Z</td><td>2021-02-03T19:02:43.000Z</td><td>null</td><td>2021-02-03T19:02:43.000Z</td><td>null</td><td>null</td><td>null</td><td>null</td><td>null</td><td>SUBMITTED</td><td>null</td><td>null</td><td>5fc961c3b8cfca11a077dd33</td></tr><tr><td>603a466f0a720fde100001ae</td><td>2021-02-27T13:17:35.000Z</td><td>2021-02-27T13:17:35.000Z</td><td>null</td><td>2021-02-27T13:17:35.000Z</td><td>null</td><td>null</td><td>null</td><td>null</td><td>null</td><td>SUBMITTED</td><td>null</td><td>null</td><td>5fc961c3b8cfca11a077dd33</td></tr><tr><td>601d7c7f0a7214ad590004f2</td><td>2021-02-05T17:12:31.000Z</td><td>2021-02-05T17:12:31.000Z</td><td>2021-02-05T17:12:31.000Z</td><td>2021-02-05T17:12:31.000Z</td><td>2021-02-05T00:00:00.000Z</td><td>null</td><td>null</td><td>null</td><td>null</td><td>PENDING</td><td>null</td><td>28.57</td><td>59c124bae4b0299e55b0f330</td></tr><tr><td>601e58da0a720f053c000050</td><td>2021-02-06T08:52:42.000Z</td><td>2021-02-06T08:52:42.000Z</td><td>null</td><td>2021-02-06T08:52:42.000Z</td><td>null</td><td>null</td><td>null</td><td>null</td><td>null</td><td>SUBMITTED</td><td>null</td><td>null</td><td>5fc961c3b8cfca11a077dd33</td></tr><tr><td>601c5fc90a7214ad280002be</td><td>2021-02-04T20:57:45.000Z</td><td>2021-02-04T20:57:45.000Z</td><td>null</td><td>2021-02-04T20:57:45.000Z</td><td>null</td><td>null</td><td>null</td><td>null</td><td>null</td><td>SUBMITTED</td><td>null</td><td>null</td><td>5fc961c3b8cfca11a077dd33</td></tr><tr><td>60392f870a7217c72c0000e7</td><td>2021-02-26T17:27:35.000Z</td><td>2021-02-26T17:27:35.000Z</td><td>null</td><td>2021-02-26T17:27:35.000Z</td><td>null</td><td>null</td><td>null</td><td>null</td><td>null</td><td>SUBMITTED</td><td>null</td><td>null</td><td>5fc961c3b8cfca11a077dd33</td></tr><tr><td>6000d4aa0a720f05f3000072</td><td>2021-01-14T23:32:58.000Z</td><td>2021-01-14T23:32:58.000Z</td><td>null</td><td>2021-01-14T23:32:58.000Z</td><td>null</td><td>null</td><td>null</td><td>null</td><td>null</td><td>FLAGGED</td><td>0</td><td>0.00</td><td>6000d4aafb296c121a81b27e</td></tr><tr><td>6005b60f0a720f05f3000096</td><td>2021-01-18T16:23:41.000Z</td><td>2021-01-18T16:23:41.000Z</td><td>null</td><td>2021-01-18T16:23:41.000Z</td><td>null</td><td>null</td><td>null</td><td>null</td><td>null</td><td>SUBMITTED</td><td>null</td><td>null</td><td>5a43c08fe4b014fd6b6a0612</td></tr><tr><td>5ffcb4b80a7214ad4e00000d</td><td>2021-01-11T20:27:36.000Z</td><td>2021-01-11T20:27:36.000Z</td><td>null</td><td>2021-01-11T20:27:41.000Z</td><td>2021-01-11T00:00:00.000Z</td><td>null</td><td>5.00</td><td>5.00</td><td>All-receipts Receipt Bonus</td><td>REJECTED</td><td>1</td><td>10.00</td><td>5ffcb4b8b3348b11c9338ae1</td></tr><tr><td>6038e4840a720fde100000a6</td><td>2021-02-26T12:07:32.000Z</td><td>2021-02-26T12:07:32.000Z</td><td>null</td><td>2021-02-26T12:07:32.000Z</td><td>null</td><td>null</td><td>null</td><td>null</td><td>null</td><td>SUBMITTED</td><td>null</td><td>null</td><td>5fc961c3b8cfca11a077dd33</td></tr><tr><td>601f4dc50a7214ad250000a9</td><td>2021-02-07T02:17:41.000Z</td><td>2021-02-07T02:17:41.000Z</td><td>null</td><td>2021-02-07T02:17:41.000Z</td><td>null</td><td>null</td><td>null</td><td>null</td><td>null</td><td>SUBMITTED</td><td>null</td><td>null</td><td>5fc961c3b8cfca11a077dd33</td></tr><tr><td>5ffce8150a7214ad4e0030a3</td><td>2021-01-12T00:06:44.000Z</td><td>2021-01-12T00:06:44.000Z</td><td>null</td><td>2021-01-12T00:06:44.000Z</td><td>null</td><td>null</td><td>null</td><td>null</td><td>null</td><td>SUBMITTED</td><td>null</td><td>null</td><td>59c124bae4b0299e55b0f330</td></tr><tr><td>5ff4ce3c0a720f05230005c4</td><td>2021-01-05T20:38:20.000Z</td><td>2021-01-05T20:38:20.000Z</td><td>null</td><td>2021-01-05T20:38:20.000Z</td><td>null</td><td>null</td><td>null</td><td>null</td><td>null</td><td>FLAGGED</td><td>0</td><td>0.00</td><td>5ff4ce3cc1e2d0121a9b2fba</td></tr><tr><td>601be7120a720f05f400027a</td><td>2021-02-04T12:22:42.000Z</td><td>2021-02-04T12:22:42.000Z</td><td>null</td><td>2021-02-04T12:22:42.000Z</td><td>null</td><td>null</td><td>null</td><td>null</td><td>null</td><td>SUBMITTED</td><td>null</td><td>null</td><td>5fc961c3b8cfca11a077dd33</td></tr><tr><td>6026dc8a0a7214d8e9000343</td><td>2021-02-12T19:52:42.000Z</td><td>2021-02-12T19:52:42.000Z</td><td>null</td><td>2021-02-12T19:52:42.000Z</td><td>null</td><td>null</td><td>null</td><td>null</td><td>null</td><td>SUBMITTED</td><td>null</td><td>null</td><td>5fc961c3b8cfca11a077dd33</td></tr><tr><td>601b85cc0a7214ad2800024b</td><td>2021-02-04T05:27:40.000Z</td><td>2021-02-04T05:27:40.000Z</td><td>null</td><td>2021-02-04T05:27:40.000Z</td><td>null</td><td>null</td><td>null</td><td>null</td><td>null</td><td>SUBMITTED</td><td>null</td><td>null</td><td>5fc961c3b8cfca11a077dd33</td></tr><tr><td>600247cd0a7214ad4c00007e</td><td>2021-01-16T01:56:29.000Z</td><td>2021-01-16T01:56:29.000Z</td><td>null</td><td>2021-01-16T01:56:29.000Z</td><td>null</td><td>null</td><td>null</td><td>null</td><td>null</td><td>SUBMITTED</td><td>null</td><td>null</td><td>6002475cfb296c121a81b98d</td></tr><tr><td>601e84360a720f053c000069</td><td>2021-02-06T11:57:42.000Z</td><td>2021-02-06T11:57:42.000Z</td><td>null</td><td>2021-02-06T11:57:42.000Z</td><td>null</td><td>null</td><td>null</td><td>null</td><td>null</td><td>SUBMITTED</td><td>null</td><td>null</td><td>5fc961c3b8cfca11a077dd33</td></tr><tr><td>603d28b60a720fde10000445</td><td>2021-03-01T17:47:34.000Z</td><td>2021-03-01T17:47:34.000Z</td><td>null</td><td>2021-03-01T17:47:34.000Z</td><td>null</td><td>null</td><td>null</td><td>null</td><td>null</td><td>SUBMITTED</td><td>null</td><td>null</td><td>5fc961c3b8cfca11a077dd33</td></tr><tr><td>6025cf030a7214d8e90002b2</td><td>2021-02-12T00:42:43.000Z</td><td>2021-02-12T00:42:43.000Z</td><td>null</td><td>2021-02-12T00:42:43.000Z</td><td>null</td><td>null</td><td>null</td><td>null</td><td>null</td><td>SUBMITTED</td><td>null</td><td>null</td><td>5fc961c3b8cfca11a077dd33</td></tr><tr><td>6021f05f0a720f05a8000062</td><td>2021-02-09T02:15:59.000Z</td><td>2021-02-09T02:15:59.000Z</td><td>null</td><td>2021-02-09T02:15:59.000Z</td><td>null</td><td>null</td><td>null</td><td>null</td><td>null</td><td>SUBMITTED</td><td>null</td><td>null</td><td>5fc961c3b8cfca11a077dd33</td></tr><tr><td>5ffc8cc20a720f05c5000026</td><td>2021-01-11T07:37:06.000Z</td><td>2021-01-11T07:37:06.000Z</td><td>2021-01-11T12:38:01.000Z</td><td>2021-01-11T12:38:01.000Z</td><td>2021-01-10T14:00:00.000Z</td><td>null</td><td>0.00</td><td>null</td><td>null</td><td>FINISHED</td><td>1</td><td>3.09</td><td>5ffc8cc104929111f6e922a3</td></tr><tr><td>60179e2e0a7214ad50000260</td><td>2021-02-01T06:22:38.000Z</td><td>2021-02-01T06:22:38.000Z</td><td>null</td><td>2021-02-01T06:22:38.000Z</td><td>null</td><td>null</td><td>null</td><td>null</td><td>null</td><td>SUBMITTED</td><td>null</td><td>null</td><td>5fc961c3b8cfca11a077dd33</td></tr><tr><td>6023ee820a720f05a8000163</td><td>2021-02-10T14:32:34.000Z</td><td>2021-02-10T14:32:34.000Z</td><td>null</td><td>2021-02-10T14:32:34.000Z</td><td>null</td><td>null</td><td>null</td><td>null</td><td>null</td><td>SUBMITTED</td><td>null</td><td>null</td><td>5fc961c3b8cfca11a077dd33</td></tr><tr><td>601f36570a7214ad2500009d</td><td>2021-02-07T00:37:43.000Z</td><td>2021-02-07T00:37:43.000Z</td><td>null</td><td>2021-02-07T00:37:43.000Z</td><td>null</td><td>null</td><td>null</td><td>null</td><td>null</td><td>SUBMITTED</td><td>null</td><td>null</td><td>5fc961c3b8cfca11a077dd33</td></tr><tr><td>601d7d540a720f05540008a6</td><td>2021-02-05T17:16:04.000Z</td><td>2021-02-05T17:16:04.000Z</td><td>2021-02-05T17:16:04.000Z</td><td>2021-02-05T17:16:04.000Z</td><td>2021-02-05T00:00:00.000Z</td><td>null</td><td>null</td><td>null</td><td>null</td><td>PENDING</td><td>null</td><td>28.57</td><td>59c124bae4b0299e55b0f330</td></tr><tr><td>603c9e6e0a720fde100003c7</td><td>2021-03-01T07:57:34.000Z</td><td>2021-03-01T07:57:34.000Z</td><td>null</td><td>2021-03-01T07:57:34.000Z</td><td>null</td><td>null</td><td>null</td><td>null</td><td>null</td><td>SUBMITTED</td><td>null</td><td>null</td><td>5fc961c3b8cfca11a077dd33</td></tr><tr><td>6000d4b50a720f05f3000078</td><td>2021-01-14T23:33:09.000Z</td><td>2021-01-14T23:33:09.000Z</td><td>null</td><td>2021-01-14T23:33:14.000Z</td><td>2021-01-14T00:00:00.000Z</td><td>null</td><td>5.00</td><td>5.00</td><td>All-receipts Receipt Bonus</td><td>REJECTED</td><td>1</td><td>10.00</td><td>6000d4b5fb296c121a81b2bd</td></tr><tr><td>6038f2950a7217c72c0000ca</td><td>2021-02-26T13:07:33.000Z</td><td>2021-02-26T13:07:33.000Z</td><td>null</td><td>2021-02-26T13:07:33.000Z</td><td>null</td><td>null</td><td>null</td><td>null</td><td>null</td><td>SUBMITTED</td><td>null</td><td>null</td><td>5fc961c3b8cfca11a077dd33</td></tr><tr><td>6025dabc0a720f05a8000283</td><td>2021-02-12T01:32:44.000Z</td><td>2021-02-12T01:32:44.000Z</td><td>null</td><td>2021-02-12T01:32:44.000Z</td><td>null</td><td>null</td><td>null</td><td>null</td><td>null</td><td>SUBMITTED</td><td>null</td><td>null</td><td>5fc961c3b8cfca11a077dd33</td></tr><tr><td>601b43010a7214ad2800022c</td><td>2021-02-04T00:42:41.000Z</td><td>2021-02-04T00:42:41.000Z</td><td>null</td><td>2021-02-04T00:42:41.000Z</td><td>null</td><td>null</td><td>null</td><td>null</td><td>null</td><td>SUBMITTED</td><td>null</td><td>null</td><td>5fc961c3b8cfca11a077dd33</td></tr><tr><td>6026963b0a7214d8e900031a</td><td>2021-02-12T14:52:43.000Z</td><td>2021-02-12T14:52:43.000Z</td><td>null</td><td>2021-02-12T14:52:43.000Z</td><td>null</td><td>null</td><td>null</td><td>null</td><td>null</td><td>SUBMITTED</td><td>null</td><td>null</td><td>5fc961c3b8cfca11a077dd33</td></tr><tr><td>6038e1020a720fde100000a4</td><td>2021-02-26T11:52:34.000Z</td><td>2021-02-26T11:52:34.000Z</td><td>null</td><td>2021-02-26T11:52:34.000Z</td><td>null</td><td>null</td><td>null</td><td>null</td><td>null</td><td>SUBMITTED</td><td>null</td><td>null</td><td>5fc961c3b8cfca11a077dd33</td></tr><tr><td>602573920a720f05a800025d</td><td>2021-02-11T18:12:34.000Z</td><td>2021-02-11T18:12:34.000Z</td><td>null</td><td>2021-02-11T18:12:34.000Z</td><td>null</td><td>null</td><td>null</td><td>null</td><td>null</td><td>SUBMITTED</td><td>null</td><td>null</td><td>5fc961c3b8cfca11a077dd33</td></tr><tr><td>6021c56a0a720f05a8000036</td><td>2021-02-08T23:12:42.000Z</td><td>2021-02-08T23:12:42.000Z</td><td>null</td><td>2021-02-08T23:12:42.000Z</td><td>null</td><td>null</td><td>null</td><td>null</td><td>null</td><td>SUBMITTED</td><td>null</td><td>null</td><td>5fc961c3b8cfca11a077dd33</td></tr><tr><td>601ea1830a720f053c000079</td><td>2021-02-06T14:02:43.000Z</td><td>2021-02-06T14:02:43.000Z</td><td>null</td><td>2021-02-06T14:02:43.000Z</td><td>null</td><td>null</td><td>null</td><td>null</td><td>null</td><td>SUBMITTED</td><td>null</td><td>null</td><td>5fc961c3b8cfca11a077dd33</td></tr><tr><td>601bc2bd0a7214ad28000262</td><td>2021-02-04T09:47:41.000Z</td><td>2021-02-04T09:47:41.000Z</td><td>null</td><td>2021-02-04T09:47:41.000Z</td><td>null</td><td>null</td><td>null</td><td>null</td><td>null</td><td>SUBMITTED</td><td>null</td><td>null</td><td>5fc961c3b8cfca11a077dd33</td></tr><tr><td>603b2c1a0a7217c72c0002a9</td><td>2021-02-28T05:37:30.000Z</td><td>2021-02-28T05:37:30.000Z</td><td>null</td><td>2021-02-28T05:37:30.000Z</td><td>2020-08-17T00:00:00.000Z</td><td>null</td><td>25.00</td><td>25.00</td><td>Complete Nonpartner Receipt</td><td>REJECTED</td><td>2</td><td>34.96</td><td>5fc961c3b8cfca11a077dd33</td></tr><tr><td>6021ed890a720f05a8000060</td><td>2021-02-09T02:03:53.000Z</td><td>2021-02-09T02:03:53.000Z</td><td>null</td><td>2021-02-09T02:03:53.000Z</td><td>null</td><td>null</td><td>null</td><td>null</td><td>null</td><td>SUBMITTED</td><td>null</td><td>null</td><td>5fc961c3b8cfca11a077dd33</td></tr><tr><td>601431e40a7214ad50000041</td><td>2021-01-29T16:03:48.000Z</td><td>2021-01-29T16:03:48.000Z</td><td>2021-01-29T16:03:48.000Z</td><td>2021-01-29T16:03:48.000Z</td><td>2021-01-29T00:00:00.000Z</td><td>null</td><td>null</td><td>null</td><td>null</td><td>PENDING</td><td>null</td><td>2.23</td><td>6014319173c60b3ca7f3bf01</td></tr><tr><td>6014f5520a720f05f80001ba</td><td>2021-01-30T05:57:38.000Z</td><td>2021-01-30T05:57:38.000Z</td><td>null</td><td>2021-01-30T05:57:38.000Z</td><td>null</td><td>null</td><td>null</td><td>null</td><td>null</td><td>SUBMITTED</td><td>null</td><td>null</td><td>5fc961c3b8cfca11a077dd33</td></tr><tr><td>6000d4d30a720f05f3000081</td><td>2021-01-14T23:33:39.000Z</td><td>2021-01-14T23:33:39.000Z</td><td>null</td><td>2021-01-14T23:33:39.000Z</td><td>2017-10-30T00:00:00.000Z</td><td>null</td><td>null</td><td>null</td><td>null</td><td>REJECTED</td><td>3</td><td>3.00</td><td>6000d46cfb296c121a81b20c</td></tr><tr><td>603b45e90a7217c72c0002c2</td><td>2021-02-28T07:27:37.000Z</td><td>2021-02-28T07:27:37.000Z</td><td>null</td><td>2021-02-28T07:27:37.000Z</td><td>null</td><td>null</td><td>null</td><td>null</td><td>null</td><td>SUBMITTED</td><td>null</td><td>null</td><td>5fc961c3b8cfca11a077dd33</td></tr><tr><td>601bd1fa0a7214ad2800026c</td><td>2021-02-04T10:52:42.000Z</td><td>2021-02-04T10:52:42.000Z</td><td>null</td><td>2021-02-04T10:52:42.000Z</td><td>null</td><td>null</td><td>null</td><td>null</td><td>null</td><td>SUBMITTED</td><td>null</td><td>null</td><td>5fc961c3b8cfca11a077dd33</td></tr><tr><td>603bd1570a7217c72c000337</td><td>2021-02-28T17:22:31.000Z</td><td>2021-02-28T17:22:31.000Z</td><td>null</td><td>2021-02-28T17:22:31.000Z</td><td>2020-08-17T00:00:00.000Z</td><td>null</td><td>25.00</td><td>25.00</td><td>Complete Nonpartner Receipt</td><td>REJECTED</td><td>2</td><td>34.96</td><td>5fc961c3b8cfca11a077dd33</td></tr><tr><td>601510460a7214ad5000014a</td><td>2021-01-30T07:52:38.000Z</td><td>2021-01-30T07:52:38.000Z</td><td>null</td><td>2021-01-30T07:52:38.000Z</td><td>null</td><td>null</td><td>null</td><td>null</td><td>null</td><td>SUBMITTED</td><td>null</td><td>null</td><td>5fc961c3b8cfca11a077dd33</td></tr><tr><td>5ffcef570a720f0515004e91</td><td>2021-01-12T00:37:43.000Z</td><td>2021-01-12T00:37:43.000Z</td><td>2021-01-12T00:37:43.000Z</td><td>2021-01-12T00:37:43.000Z</td><td>2021-01-12T00:00:00.000Z</td><td>null</td><td>null</td><td>null</td><td>null</td><td>PENDING</td><td>null</td><td>28.57</td><td>59c124bae4b0299e55b0f330</td></tr><tr><td>5ffe1d030a720f05ac002c9e</td><td>2021-01-12T22:04:51.000Z</td><td>2021-01-12T22:04:51.000Z</td><td>2021-01-12T22:04:51.000Z</td><td>2021-01-12T22:04:51.000Z</td><td>2021-01-12T00:00:00.000Z</td><td>null</td><td>null</td><td>null</td><td>null</td><td>PENDING</td><td>null</td><td>28.57</td><td>59c124bae4b0299e55b0f330</td></tr><tr><td>6005f5450a720f05f3000097</td><td>2021-01-18T20:53:23.000Z</td><td>2021-01-18T20:53:23.000Z</td><td>null</td><td>2021-01-18T20:53:23.000Z</td><td>null</td><td>null</td><td>null</td><td>null</td><td>null</td><td>SUBMITTED</td><td>null</td><td>null</td><td>5a43c08fe4b014fd6b6a0612</td></tr><tr><td>601a2e730a720f05f40001a9</td><td>2021-02-03T05:02:43.000Z</td><td>2021-02-03T05:02:43.000Z</td><td>null</td><td>2021-02-03T05:02:43.000Z</td><td>null</td><td>null</td><td>null</td><td>null</td><td>null</td><td>SUBMITTED</td><td>null</td><td>null</td><td>5fc961c3b8cfca11a077dd33</td></tr><tr><td>603bf4830a720fde10000320</td><td>2021-02-28T19:52:35.000Z</td><td>2021-02-28T19:52:35.000Z</td><td>null</td><td>2021-02-28T19:52:35.000Z</td><td>null</td><td>null</td><td>null</td><td>null</td><td>null</td><td>SUBMITTED</td><td>null</td><td>null</td><td>5fc961c3b8cfca11a077dd33</td></tr><tr><td>6017707d0a720f05f80002c7</td><td>2021-02-01T03:07:41.000Z</td><td>2021-02-01T03:07:41.000Z</td><td>null</td><td>2021-02-01T03:07:41.000Z</td><td>null</td><td>null</td><td>null</td><td>null</td><td>null</td><td>SUBMITTED</td><td>null</td><td>null</td><td>5fc961c3b8cfca11a077dd33</td></tr><tr><td>603905540a720fde100000b3</td><td>2021-02-26T14:27:32.000Z</td><td>2021-02-26T14:27:32.000Z</td><td>null</td><td>2021-02-26T14:27:32.000Z</td><td>null</td><td>null</td><td>null</td><td>null</td><td>null</td><td>SUBMITTED</td><td>null</td><td>null</td><td>5fc961c3b8cfca11a077dd33</td></tr><tr><td>60189c7b0a7214ad2800002e</td><td>2021-02-02T00:27:39.000Z</td><td>2021-02-02T00:27:39.000Z</td><td>null</td><td>2021-02-02T00:27:39.000Z</td><td>null</td><td>null</td><td>null</td><td>null</td><td>null</td><td>SUBMITTED</td><td>null</td><td>null</td><td>5fc961c3b8cfca11a077dd33</td></tr><tr><td>601ed3e80a720f053c0000a5</td><td>2021-02-06T17:37:44.000Z</td><td>2021-02-06T17:37:44.000Z</td><td>null</td><td>2021-02-06T17:37:44.000Z</td><td>null</td><td>null</td><td>null</td><td>null</td><td>null</td><td>SUBMITTED</td><td>null</td><td>null</td><td>5fc961c3b8cfca11a077dd33</td></tr><tr><td>60394dff0a720fde100000d1</td><td>2021-02-26T19:37:35.000Z</td><td>2021-02-26T19:37:35.000Z</td><td>null</td><td>2021-02-26T19:37:35.000Z</td><td>null</td><td>null</td><td>null</td><td>null</td><td>null</td><td>SUBMITTED</td><td>null</td><td>null</td><td>5fc961c3b8cfca11a077dd33</td></tr><tr><td>601e22f20a720f053c000039</td><td>2021-02-06T05:02:42.000Z</td><td>2021-02-06T05:02:42.000Z</td><td>null</td><td>2021-02-06T05:02:42.000Z</td><td>null</td><td>null</td><td>null</td><td>null</td><td>null</td><td>SUBMITTED</td><td>null</td><td>null</td><td>5fc961c3b8cfca11a077dd33</td></tr><tr><td>603abdf60a7217c72c00024d</td><td>2021-02-27T21:47:34.000Z</td><td>2021-02-27T21:47:34.000Z</td><td>null</td><td>2021-02-27T21:47:34.000Z</td><td>null</td><td>null</td><td>null</td><td>null</td><td>null</td><td>SUBMITTED</td><td>null</td><td>null</td><td>5fc961c3b8cfca11a077dd33</td></tr><tr><td>60155a1b0a7214ad50000170</td><td>2021-01-30T13:07:39.000Z</td><td>2021-01-30T13:07:39.000Z</td><td>null</td><td>2021-01-30T13:07:39.000Z</td><td>null</td><td>null</td><td>null</td><td>null</td><td>null</td><td>SUBMITTED</td><td>null</td><td>null</td><td>5fc961c3b8cfca11a077dd33</td></tr><tr><td>602057ce0a720f053c000151</td><td>2021-02-07T21:12:46.000Z</td><td>2021-02-07T21:12:46.000Z</td><td>null</td><td>2021-02-07T21:12:46.000Z</td><td>null</td><td>null</td><td>null</td><td>null</td><td>null</td><td>SUBMITTED</td><td>null</td><td>null</td><td>5fc961c3b8cfca11a077dd33</td></tr><tr><td>601d7c280a7214ad5900035c</td><td>2021-02-05T17:11:04.000Z</td><td>2021-02-05T17:11:04.000Z</td><td>2021-02-05T17:11:04.000Z</td><td>2021-02-05T17:11:04.000Z</td><td>2021-02-05T00:00:00.000Z</td><td>null</td><td>null</td><td>null</td><td>null</td><td>PENDING</td><td>null</td><td>28.57</td><td>59c124bae4b0299e55b0f330</td></tr><tr><td>6016780d0a720f05f8000255</td><td>2021-01-31T09:27:41.000Z</td><td>2021-01-31T09:27:41.000Z</td><td>null</td><td>2021-01-31T09:27:41.000Z</td><td>null</td><td>null</td><td>null</td><td>null</td><td>null</td><td>SUBMITTED</td><td>null</td><td>null</td><td>5fc961c3b8cfca11a077dd33</td></tr><tr><td>60171af00a7214ad50000229</td><td>2021-01-31T21:02:40.000Z</td><td>2021-01-31T21:02:40.000Z</td><td>null</td><td>2021-01-31T21:02:40.000Z</td><td>null</td><td>null</td><td>null</td><td>null</td><td>null</td><td>SUBMITTED</td><td>null</td><td>null</td><td>5fc961c3b8cfca11a077dd33</td></tr><tr><td>6026b71f0a720f05a80002f0</td><td>2021-02-12T17:13:03.000Z</td><td>2021-02-12T17:13:03.000Z</td><td>null</td><td>2021-02-12T17:13:03.000Z</td><td>null</td><td>null</td><td>null</td><td>null</td><td>null</td><td>SUBMITTED</td><td>null</td><td>null</td><td>5fc961c3b8cfca11a077dd33</td></tr><tr><td>6026fc2f0a720f05a8000311</td><td>2021-02-12T22:07:43.000Z</td><td>2021-02-12T22:07:43.000Z</td><td>null</td><td>2021-02-12T22:07:43.000Z</td><td>null</td><td>null</td><td>null</td><td>null</td><td>null</td><td>SUBMITTED</td><td>null</td><td>null</td><td>5fc961c3b8cfca11a077dd33</td></tr><tr><td>6024b5b70a720f05a80001d6</td><td>2021-02-11T04:42:31.000Z</td><td>2021-02-11T04:42:31.000Z</td><td>null</td><td>2021-02-11T04:42:31.000Z</td><td>null</td><td>null</td><td>null</td><td>null</td><td>null</td><td>SUBMITTED</td><td>null</td><td>null</td><td>5fc961c3b8cfca11a077dd33</td></tr><tr><td>60202b430a7214ad25000103</td><td>2021-02-07T18:02:43.000Z</td><td>2021-02-07T18:02:43.000Z</td><td>null</td><td>2021-02-07T18:02:43.000Z</td><td>null</td><td>null</td><td>null</td><td>null</td><td>null</td><td>SUBMITTED</td><td>null</td><td>null</td><td>5fc961c3b8cfca11a077dd33</td></tr><tr><td>6022752b0a7214d8e90000be</td><td>2021-02-09T11:42:35.000Z</td><td>2021-02-09T11:42:35.000Z</td><td>null</td><td>2021-02-09T11:42:35.000Z</td><td>null</td><td>null</td><td>null</td><td>null</td><td>null</td><td>SUBMITTED</td><td>null</td><td>null</td><td>5fc961c3b8cfca11a077dd33</td></tr><tr><td>602279db0a720f05a800009b</td><td>2021-02-09T12:02:35.000Z</td><td>2021-02-09T12:02:35.000Z</td><td>null</td><td>2021-02-09T12:02:35.000Z</td><td>null</td><td>null</td><td>null</td><td>null</td><td>null</td><td>SUBMITTED</td><td>null</td><td>null</td><td>5fc961c3b8cfca11a077dd33</td></tr><tr><td>6018a7070a7214ad28000055</td><td>2021-02-02T01:12:38.000Z</td><td>2021-02-02T01:12:38.000Z</td><td>null</td><td>2021-02-02T01:12:38.000Z</td><td>null</td><td>null</td><td>null</td><td>null</td><td>null</td><td>SUBMITTED</td><td>null</td><td>null</td><td>5fc961c3b8cfca11a077dd33</td></tr><tr><td>602438550a720f05a8000192</td><td>2021-02-10T19:47:32.000Z</td><td>2021-02-10T19:47:32.000Z</td><td>null</td><td>2021-02-10T19:47:32.000Z</td><td>null</td><td>null</td><td>null</td><td>null</td><td>null</td><td>SUBMITTED</td><td>null</td><td>null</td><td>5fc961c3b8cfca11a077dd33</td></tr><tr><td>5ff8da570a720f05c5000015</td><td>2021-01-08T22:19:03.000Z</td><td>2021-01-08T22:19:03.000Z</td><td>null</td><td>2021-01-08T22:19:04.000Z</td><td>null</td><td>null</td><td>null</td><td>null</td><td>null</td><td>REJECTED</td><td>0</td><td>0.00</td><td>5ff8da28b3348b11c9337ac6</td></tr><tr><td>603a698f0a720fde100001d1</td><td>2021-02-27T15:47:27.000Z</td><td>2021-02-27T15:47:27.000Z</td><td>null</td><td>2021-02-27T15:47:28.000Z</td><td>2020-08-17T00:00:00.000Z</td><td>null</td><td>25.00</td><td>25.00</td><td>Complete Nonpartner Receipt</td><td>REJECTED</td><td>2</td><td>34.96</td><td>5fc961c3b8cfca11a077dd33</td></tr><tr><td>601f9c4a0a7214ad250000c8</td><td>2021-02-07T07:52:42.000Z</td><td>2021-02-07T07:52:42.000Z</td><td>null</td><td>2021-02-07T07:52:42.000Z</td><td>null</td><td>null</td><td>null</td><td>null</td><td>null</td><td>SUBMITTED</td><td>null</td><td>null</td><td>5fc961c3b8cfca11a077dd33</td></tr><tr><td>603997d20a720fde10000124</td><td>2021-02-27T00:52:34.000Z</td><td>2021-02-27T00:52:34.000Z</td><td>null</td><td>2021-02-27T00:52:34.000Z</td><td>null</td><td>null</td><td>null</td><td>null</td><td>null</td><td>SUBMITTED</td><td>null</td><td>null</td><td>5fc961c3b8cfca11a077dd33</td></tr><tr><td>60189ffe0a720f05f4000066</td><td>2021-02-02T00:42:38.000Z</td><td>2021-02-02T00:42:38.000Z</td><td>null</td><td>2021-02-02T00:42:38.000Z</td><td>null</td><td>null</td><td>null</td><td>null</td><td>null</td><td>SUBMITTED</td><td>null</td><td>null</td><td>5fc961c3b8cfca11a077dd33</td></tr><tr><td>5ffe17e20a720f05ac0000e7</td><td>2021-01-12T21:42:58.000Z</td><td>2021-01-12T21:42:58.000Z</td><td>null</td><td>2021-01-13T16:00:54.000Z</td><td>2021-01-12T00:00:00.000Z</td><td>null</td><td>750.00</td><td>750.00</td><td>Receipt Number 1 Completed, Bonus Point Schedule </td><td>REJECTED</td><td>1</td><td>2.29</td><td>5ffe115404929101d0aaebb2</td></tr><tr><td>6020f0220a7214ad25000150</td><td>2021-02-08T08:02:42.000Z</td><td>2021-02-08T08:02:42.000Z</td><td>null</td><td>2021-02-08T08:02:42.000Z</td><td>null</td><td>null</td><td>null</td><td>null</td><td>null</td><td>SUBMITTED</td><td>null</td><td>null</td><td>5fc961c3b8cfca11a077dd33</td></tr><tr><td>601d7c1e0a720f055400031a</td><td>2021-02-05T17:10:54.000Z</td><td>2021-02-05T17:10:54.000Z</td><td>2021-02-05T17:10:54.000Z</td><td>2021-02-05T17:10:54.000Z</td><td>2021-02-05T00:00:00.000Z</td><td>null</td><td>null</td><td>null</td><td>null</td><td>PENDING</td><td>null</td><td>28.57</td><td>59c124bae4b0299e55b0f330</td></tr><tr><td>6022b6cb0a7214d8e90000f8</td><td>2021-02-09T16:22:35.000Z</td><td>2021-02-09T16:22:35.000Z</td><td>null</td><td>2021-02-09T16:22:35.000Z</td><td>null</td><td>null</td><td>null</td><td>null</td><td>null</td><td>SUBMITTED</td><td>null</td><td>null</td><td>5fc961c3b8cfca11a077dd33</td></tr><tr><td>602585240a720f05a8000263</td><td>2021-02-11T19:27:32.000Z</td><td>2021-02-11T19:27:32.000Z</td><td>null</td><td>2021-02-11T19:27:32.000Z</td><td>null</td><td>null</td><td>null</td><td>null</td><td>null</td><td>SUBMITTED</td><td>null</td><td>null</td><td>5fc961c3b8cfca11a077dd33</td></tr><tr><td>6018b89c0a7214ad2800005d</td><td>2021-02-02T02:27:40.000Z</td><td>2021-02-02T02:27:40.000Z</td><td>null</td><td>2021-02-02T02:27:40.000Z</td><td>null</td><td>null</td><td>null</td><td>null</td><td>null</td><td>SUBMITTED</td><td>null</td><td>null</td><td>5fc961c3b8cfca11a077dd33</td></tr><tr><td>6009fd790a720f0535000006</td><td>2021-01-21T22:17:29.000Z</td><td>2021-01-21T22:17:29.000Z</td><td>null</td><td>2021-01-21T22:17:29.000Z</td><td>null</td><td>null</td><td>null</td><td>null</td><td>null</td><td>SUBMITTED</td><td>null</td><td>null</td><td>6009fd1550b33111943850b1</td></tr><tr><td>603a2a470a720fde10000197</td><td>2021-02-27T11:17:27.000Z</td><td>2021-02-27T11:17:27.000Z</td><td>null</td><td>2021-02-27T11:17:28.000Z</td><td>2020-08-17T00:00:00.000Z</td><td>null</td><td>25.00</td><td>25.00</td><td>Complete Nonpartner Receipt</td><td>REJECTED</td><td>2</td><td>34.96</td><td>5fc961c3b8cfca11a077dd33</td></tr><tr><td>5ffe1dc20a7214ad28003180</td><td>2021-01-12T22:08:02.000Z</td><td>2021-01-12T22:08:02.000Z</td><td>2021-01-12T22:08:03.000Z</td><td>2021-01-12T22:08:02.000Z</td><td>2021-01-12T00:00:00.000Z</td><td>null</td><td>null</td><td>null</td><td>null</td><td>PENDING</td><td>null</td><td>28.57</td><td>59c124bae4b0299e55b0f330</td></tr><tr><td>5ffe19d90a7214ad28000e62</td><td>2021-01-12T21:51:21.000Z</td><td>2021-01-12T21:51:21.000Z</td><td>2021-01-12T21:51:21.000Z</td><td>2021-01-12T21:51:21.000Z</td><td>2021-01-12T00:00:00.000Z</td><td>null</td><td>null</td><td>null</td><td>null</td><td>PENDING</td><td>null</td><td>28.57</td><td>59c124bae4b0299e55b0f330</td></tr><tr><td>6014aa550a720f05f800019b</td><td>2021-01-30T00:37:41.000Z</td><td>2021-01-30T00:37:41.000Z</td><td>null</td><td>2021-01-30T00:37:41.000Z</td><td>null</td><td>null</td><td>null</td><td>null</td><td>null</td><td>SUBMITTED</td><td>null</td><td>null</td><td>5fc961c3b8cfca11a077dd33</td></tr><tr><td>602644300a720f05a80002af</td><td>2021-02-12T09:02:40.000Z</td><td>2021-02-12T09:02:40.000Z</td><td>null</td><td>2021-02-12T09:02:40.000Z</td><td>null</td><td>null</td><td>null</td><td>null</td><td>null</td><td>SUBMITTED</td><td>null</td><td>null</td><td>5fc961c3b8cfca11a077dd33</td></tr><tr><td>603cbbb50a720fde100003e3</td><td>2021-03-01T10:02:29.000Z</td><td>2021-03-01T10:02:29.000Z</td><td>null</td><td>2021-03-01T10:02:30.000Z</td><td>2020-08-17T00:00:00.000Z</td><td>null</td><td>25.00</td><td>25.00</td><td>Complete Nonpartner Receipt</td><td>REJECTED</td><td>2</td><td>34.96</td><td>5fc961c3b8cfca11a077dd33</td></tr><tr><td>601f190c0a720f053c0000c4</td><td>2021-02-06T22:32:44.000Z</td><td>2021-02-06T22:32:44.000Z</td><td>null</td><td>2021-02-06T22:32:44.000Z</td><td>null</td><td>null</td><td>null</td><td>null</td><td>null</td><td>SUBMITTED</td><td>null</td><td>null</td><td>5fc961c3b8cfca11a077dd33</td></tr><tr><td>60214de60a720f057300000b</td><td>2021-02-08T14:42:46.000Z</td><td>2021-02-08T14:42:46.000Z</td><td>null</td><td>2021-02-08T14:42:46.000Z</td><td>null</td><td>null</td><td>null</td><td>null</td><td>null</td><td>SUBMITTED</td><td>null</td><td>null</td><td>5fc961c3b8cfca11a077dd33</td></tr><tr><td>600f24970a720f053500002f</td><td>2021-01-25T20:05:43.000Z</td><td>2021-01-25T20:05:43.000Z</td><td>null</td><td>2021-01-25T20:25:25.000Z</td><td>2021-01-25T00:00:00.000Z</td><td>null</td><td>null</td><td>null</td><td>null</td><td>FLAGGED</td><td>599</td><td>4368.80</td><td>600f20c15edb787dce060911</td></tr><tr><td>6017082f0a720f05f800029b</td><td>2021-01-31T19:42:39.000Z</td><td>2021-01-31T19:42:39.000Z</td><td>null</td><td>2021-01-31T19:42:39.000Z</td><td>null</td><td>null</td><td>null</td><td>null</td><td>null</td><td>SUBMITTED</td><td>null</td><td>null</td><td>5fc961c3b8cfca11a077dd33</td></tr><tr><td>6025fcb40a7214d8e90002c3</td><td>2021-02-12T03:57:40.000Z</td><td>2021-02-12T03:57:40.000Z</td><td>null</td><td>2021-02-12T03:57:40.000Z</td><td>null</td><td>null</td><td>null</td><td>null</td><td>null</td><td>SUBMITTED</td><td>null</td><td>null</td><td>5fc961c3b8cfca11a077dd33</td></tr><tr><td>601f39db0a720f053c0000d5</td><td>2021-02-07T00:52:43.000Z</td><td>2021-02-07T00:52:43.000Z</td><td>null</td><td>2021-02-07T00:52:43.000Z</td><td>null</td><td>null</td><td>null</td><td>null</td><td>null</td><td>SUBMITTED</td><td>null</td><td>null</td><td>5fc961c3b8cfca11a077dd33</td></tr><tr><td>6021ec5f0a720f05a800005d</td><td>2021-02-09T01:58:55.000Z</td><td>2021-02-09T01:58:55.000Z</td><td>null</td><td>2021-02-09T01:58:55.000Z</td><td>null</td><td>null</td><td>null</td><td>null</td><td>null</td><td>SUBMITTED</td><td>null</td><td>null</td><td>5fc961c3b8cfca11a077dd33</td></tr><tr><td>603cc2bc0a720fde100003e9</td><td>2021-03-01T10:32:28.000Z</td><td>2021-03-01T10:32:28.000Z</td><td>null</td><td>2021-03-01T10:32:29.000Z</td><td>2020-08-17T00:00:00.000Z</td><td>null</td><td>25.00</td><td>25.00</td><td>Complete Nonpartner Receipt</td><td>REJECTED</td><td>2</td><td>34.96</td><td>5fc961c3b8cfca11a077dd33</td></tr><tr><td>5ffe23d70a7214ad280068f6</td><td>2021-01-12T22:33:59.000Z</td><td>2021-01-12T22:33:59.000Z</td><td>2021-01-12T22:33:59.000Z</td><td>2021-01-12T22:33:59.000Z</td><td>2021-01-12T00:00:00.000Z</td><td>null</td><td>null</td><td>null</td><td>null</td><td>PENDING</td><td>null</td><td>28.57</td><td>59c124bae4b0299e55b0f330</td></tr><tr><td>602566ae0a7214d8e900027b</td><td>2021-02-11T17:17:33.000Z</td><td>2021-02-11T17:17:33.000Z</td><td>null</td><td>2021-02-11T17:17:33.000Z</td><td>null</td><td>null</td><td>null</td><td>null</td><td>null</td><td>SUBMITTED</td><td>null</td><td>null</td><td>5fc961c3b8cfca11a077dd33</td></tr><tr><td>601e787e0a7214ad25000051</td><td>2021-02-06T11:07:42.000Z</td><td>2021-02-06T11:07:42.000Z</td><td>null</td><td>2021-02-06T11:07:42.000Z</td><td>null</td><td>null</td><td>null</td><td>null</td><td>null</td><td>SUBMITTED</td><td>null</td><td>null</td><td>5fc961c3b8cfca11a077dd33</td></tr><tr><td>60395c0e0a720fde100000d7</td><td>2021-02-26T20:37:34.000Z</td><td>2021-02-26T20:37:34.000Z</td><td>null</td><td>2021-02-26T20:37:34.000Z</td><td>null</td><td>null</td><td>null</td><td>null</td><td>null</td><td>SUBMITTED</td><td>null</td><td>null</td><td>5fc961c3b8cfca11a077dd33</td></tr><tr><td>601a48390a720f05f40001b6</td><td>2021-02-03T06:52:41.000Z</td><td>2021-02-03T06:52:41.000Z</td><td>null</td><td>2021-02-03T06:52:41.000Z</td><td>null</td><td>null</td><td>null</td><td>null</td><td>null</td><td>SUBMITTED</td><td>null</td><td>null</td><td>5fc961c3b8cfca11a077dd33</td></tr><tr><td>601d7bb60a7214ad59000141</td><td>2021-02-05T17:09:10.000Z</td><td>2021-02-05T17:09:10.000Z</td><td>2021-02-05T17:09:10.000Z</td><td>2021-02-05T17:09:10.000Z</td><td>2021-02-05T00:00:00.000Z</td><td>null</td><td>null</td><td>null</td><td>null</td><td>PENDING</td><td>null</td><td>28.57</td><td>59c124bae4b0299e55b0f330</td></tr><tr><td>6025495f0a720f05a8000231</td><td>2021-02-11T15:12:31.000Z</td><td>2021-02-11T15:12:31.000Z</td><td>null</td><td>2021-02-11T15:12:31.000Z</td><td>null</td><td>null</td><td>null</td><td>null</td><td>null</td><td>SUBMITTED</td><td>null</td><td>null</td><td>5fc961c3b8cfca11a077dd33</td></tr><tr><td>601d7c480a720f05540003e0</td><td>2021-02-05T17:11:36.000Z</td><td>2021-02-05T17:11:36.000Z</td><td>2021-02-05T17:11:36.000Z</td><td>2021-02-05T17:11:36.000Z</td><td>2021-02-05T00:00:00.000Z</td><td>null</td><td>null</td><td>null</td><td>null</td><td>PENDING</td><td>null</td><td>28.57</td><td>59c124bae4b0299e55b0f330</td></tr><tr><td>60264b390a720f05a80002b0</td><td>2021-02-12T09:32:41.000Z</td><td>2021-02-12T09:32:41.000Z</td><td>null</td><td>2021-02-12T09:32:41.000Z</td><td>null</td><td>null</td><td>null</td><td>null</td><td>null</td><td>SUBMITTED</td><td>null</td><td>null</td><td>5fc961c3b8cfca11a077dd33</td></tr><tr><td>5ffce88b0a7214ad4e004b22</td><td>2021-01-12T00:08:42.000Z</td><td>2021-01-12T00:08:42.000Z</td><td>null</td><td>2021-01-12T00:08:42.000Z</td><td>null</td><td>null</td><td>null</td><td>null</td><td>null</td><td>SUBMITTED</td><td>null</td><td>null</td><td>59c124bae4b0299e55b0f330</td></tr><tr><td>6021ed3c0a720f05a800005f</td><td>2021-02-09T02:02:36.000Z</td><td>2021-02-09T02:02:36.000Z</td><td>null</td><td>2021-02-09T02:02:36.000Z</td><td>null</td><td>null</td><td>null</td><td>null</td><td>null</td><td>SUBMITTED</td><td>null</td><td>null</td><td>5fc961c3b8cfca11a077dd33</td></tr><tr><td>601d7cd50a7214ad5900069f</td><td>2021-02-05T17:13:57.000Z</td><td>2021-02-05T17:13:57.000Z</td><td>2021-02-05T17:13:57.000Z</td><td>2021-02-05T17:13:57.000Z</td><td>2021-02-05T00:00:00.000Z</td><td>null</td><td>null</td><td>null</td><td>null</td><td>PENDING</td><td>null</td><td>28.57</td><td>59c124bae4b0299e55b0f330</td></tr><tr><td>6017037e0a7214ad5000021f</td><td>2021-01-31T19:22:38.000Z</td><td>2021-01-31T19:22:38.000Z</td><td>null</td><td>2021-01-31T19:22:38.000Z</td><td>null</td><td>null</td><td>null</td><td>null</td><td>null</td><td>SUBMITTED</td><td>null</td><td>null</td><td>5fc961c3b8cfca11a077dd33</td></tr><tr><td>60216d880a7214d8e9000004</td><td>2021-02-08T16:57:44.000Z</td><td>2021-02-08T16:57:44.000Z</td><td>null</td><td>2021-02-08T16:57:44.000Z</td><td>null</td><td>null</td><td>null</td><td>null</td><td>null</td><td>SUBMITTED</td><td>null</td><td>null</td><td>5fc961c3b8cfca11a077dd33</td></tr><tr><td>601d7bb60a720f055400013a</td><td>2021-02-05T17:09:10.000Z</td><td>2021-02-05T17:09:10.000Z</td><td>2021-02-05T17:09:10.000Z</td><td>2021-02-05T17:09:10.000Z</td><td>2021-02-05T00:00:00.000Z</td><td>null</td><td>null</td><td>null</td><td>null</td><td>PENDING</td><td>null</td><td>28.57</td><td>59c124bae4b0299e55b0f330</td></tr><tr><td>60118be80a7214ada2000075</td><td>2021-01-27T15:51:04.000Z</td><td>2021-01-27T15:51:04.000Z</td><td>null</td><td>2021-01-27T15:51:05.000Z</td><td>2021-01-26T15:51:04.000Z</td><td>null</td><td>250.00</td><td>250.00</td><td>Receipt Number 3 Completed, Bonus Point Schedule </td><td>FLAGGED</td><td>1</td><td>1.00</td><td>60118bcfa4b74c18d3a8c0d7</td></tr><tr><td>60250b440a720f05a80001f5</td><td>2021-02-11T10:47:32.000Z</td><td>2021-02-11T10:47:32.000Z</td><td>null</td><td>2021-02-11T10:47:32.000Z</td><td>null</td><td>null</td><td>null</td><td>null</td><td>null</td><td>SUBMITTED</td><td>null</td><td>null</td><td>5fc961c3b8cfca11a077dd33</td></tr><tr><td>60245f020a7214d8e90001d5</td><td>2021-02-10T22:32:34.000Z</td><td>2021-02-10T22:32:34.000Z</td><td>null</td><td>2021-02-10T22:32:34.000Z</td><td>null</td><td>null</td><td>null</td><td>null</td><td>null</td><td>SUBMITTED</td><td>null</td><td>null</td><td>5fc961c3b8cfca11a077dd33</td></tr><tr><td>601af6d90a720f05f4000215</td><td>2021-02-03T19:17:45.000Z</td><td>2021-02-03T19:17:45.000Z</td><td>null</td><td>2021-02-03T19:17:45.000Z</td><td>null</td><td>null</td><td>null</td><td>null</td><td>null</td><td>SUBMITTED</td><td>null</td><td>null</td><td>5fc961c3b8cfca11a077dd33</td></tr><tr><td>601620270a7214ad500001c1</td><td>2021-01-31T03:12:39.000Z</td><td>2021-01-31T03:12:39.000Z</td><td>null</td><td>2021-01-31T03:12:39.000Z</td><td>null</td><td>null</td><td>null</td><td>null</td><td>null</td><td>SUBMITTED</td><td>null</td><td>null</td><td>5fc961c3b8cfca11a077dd33</td></tr><tr><td>5ffc8cb40a720f05c5000025</td><td>2021-01-11T07:36:52.000Z</td><td>2021-01-11T07:36:52.000Z</td><td>2021-01-11T12:36:56.000Z</td><td>2021-01-11T12:36:56.000Z</td><td>2021-01-10T14:00:00.000Z</td><td>null</td><td>0.00</td><td>null</td><td>null</td><td>FINISHED</td><td>1</td><td>3.09</td><td>5ffc8cb304929111f6e9229d</td></tr><tr><td>5ffcefb00a720f0515005e8d</td><td>2021-01-12T00:39:12.000Z</td><td>2021-01-12T00:39:12.000Z</td><td>null</td><td>2021-01-12T00:39:12.000Z</td><td>null</td><td>null</td><td>null</td><td>null</td><td>null</td><td>SUBMITTED</td><td>null</td><td>null</td><td>59c124bae4b0299e55b0f330</td></tr><tr><td>601fdb920a7214ad250000e2</td><td>2021-02-07T12:22:42.000Z</td><td>2021-02-07T12:22:42.000Z</td><td>null</td><td>2021-02-07T12:22:42.000Z</td><td>null</td><td>null</td><td>null</td><td>null</td><td>null</td><td>SUBMITTED</td><td>null</td><td>null</td><td>5fc961c3b8cfca11a077dd33</td></tr><tr><td>603978600a7217c72c00010b</td><td>2021-02-26T22:38:24.000Z</td><td>2021-02-26T22:38:24.000Z</td><td>null</td><td>2021-02-26T22:38:37.000Z</td><td>2021-02-09T00:00:00.000Z</td><td>null</td><td>25.00</td><td>25.00</td><td>Complete Nonpartner Receipt</td><td>REJECTED</td><td>2</td><td>25.58</td><td>5fc961c3b8cfca11a077dd33</td></tr><tr><td>6022f4e60a7214d8e9000112</td><td>2021-02-09T20:47:34.000Z</td><td>2021-02-09T20:47:34.000Z</td><td>null</td><td>2021-02-09T20:47:34.000Z</td><td>null</td><td>null</td><td>null</td><td>null</td><td>null</td><td>SUBMITTED</td><td>null</td><td>null</td><td>5fc961c3b8cfca11a077dd33</td></tr><tr><td>601d7c500a720f0554000409</td><td>2021-02-05T17:11:44.000Z</td><td>2021-02-05T17:11:44.000Z</td><td>2021-02-05T17:11:44.000Z</td><td>2021-02-05T17:11:44.000Z</td><td>2021-02-05T00:00:00.000Z</td><td>null</td><td>null</td><td>null</td><td>null</td><td>PENDING</td><td>null</td><td>28.57</td><td>59c124bae4b0299e55b0f330</td></tr><tr><td>6016366a0a720f05f800023a</td><td>2021-01-31T04:47:38.000Z</td><td>2021-01-31T04:47:38.000Z</td><td>null</td><td>2021-01-31T04:47:38.000Z</td><td>null</td><td>null</td><td>null</td><td>null</td><td>null</td><td>SUBMITTED</td><td>null</td><td>null</td><td>5fc961c3b8cfca11a077dd33</td></tr><tr><td>601617f20a720f05f8000232</td><td>2021-01-31T02:37:38.000Z</td><td>2021-01-31T02:37:38.000Z</td><td>null</td><td>2021-01-31T02:37:38.000Z</td><td>null</td><td>null</td><td>null</td><td>null</td><td>null</td><td>SUBMITTED</td><td>null</td><td>null</td><td>5fc961c3b8cfca11a077dd33</td></tr><tr><td>603b4f3f0a7217c72c0002c9</td><td>2021-02-28T08:07:27.000Z</td><td>2021-02-28T08:07:27.000Z</td><td>null</td><td>2021-02-28T08:07:28.000Z</td><td>2020-08-17T00:00:00.000Z</td><td>null</td><td>25.00</td><td>25.00</td><td>Complete Nonpartner Receipt</td><td>REJECTED</td><td>2</td><td>34.96</td><td>5fc961c3b8cfca11a077dd33</td></tr><tr><td>5ffe22a20a720f05ac0061d7</td><td>2021-01-12T22:28:50.000Z</td><td>2021-01-12T22:28:50.000Z</td><td>2021-01-12T22:28:50.000Z</td><td>2021-01-12T22:28:50.000Z</td><td>2021-01-12T00:00:00.000Z</td><td>null</td><td>null</td><td>null</td><td>null</td><td>PENDING</td><td>null</td><td>28.57</td><td>59c124bae4b0299e55b0f330</td></tr><tr><td>601b48df0a720f05f4000238</td><td>2021-02-04T01:07:43.000Z</td><td>2021-02-04T01:07:43.000Z</td><td>null</td><td>2021-02-04T01:07:43.000Z</td><td>null</td><td>null</td><td>null</td><td>null</td><td>null</td><td>SUBMITTED</td><td>null</td><td>null</td><td>5fc961c3b8cfca11a077dd33</td></tr><tr><td>5ff774200a7214ada1000638</td><td>2021-01-07T20:50:40.000Z</td><td>2021-01-07T20:50:40.000Z</td><td>2021-01-07T20:50:40.000Z</td><td>2021-01-07T20:50:40.000Z</td><td>2021-01-07T00:00:00.000Z</td><td>null</td><td>0.00</td><td>null</td><td>null</td><td>FINISHED</td><td>2</td><td>6.18</td><td>5ff7741e04929111f6e90902</td></tr><tr><td>603af1800a7217c72c00027b</td><td>2021-02-28T01:27:28.000Z</td><td>2021-02-28T01:27:28.000Z</td><td>null</td><td>2021-02-28T01:27:29.000Z</td><td>2020-08-17T00:00:00.000Z</td><td>null</td><td>25.00</td><td>25.00</td><td>Complete Nonpartner Receipt</td><td>REJECTED</td><td>2</td><td>34.96</td><td>5fc961c3b8cfca11a077dd33</td></tr><tr><td>601c27870a720f05f400029e</td><td>2021-02-04T16:57:43.000Z</td><td>2021-02-04T16:57:43.000Z</td><td>null</td><td>2021-02-04T16:57:43.000Z</td><td>null</td><td>null</td><td>null</td><td>null</td><td>null</td><td>SUBMITTED</td><td>null</td><td>null</td><td>5fc961c3b8cfca11a077dd33</td></tr><tr><td>601795fa0a7214ad5000025b</td><td>2021-02-01T05:47:38.000Z</td><td>2021-02-01T05:47:38.000Z</td><td>null</td><td>2021-02-01T05:47:38.000Z</td><td>null</td><td>null</td><td>null</td><td>null</td><td>null</td><td>SUBMITTED</td><td>null</td><td>null</td><td>5fc961c3b8cfca11a077dd33</td></tr><tr><td>602116ce0a7214ad2500015e</td><td>2021-02-08T10:47:42.000Z</td><td>2021-02-08T10:47:42.000Z</td><td>null</td><td>2021-02-08T10:47:42.000Z</td><td>null</td><td>null</td><td>null</td><td>null</td><td>null</td><td>SUBMITTED</td><td>null</td><td>null</td><td>5fc961c3b8cfca11a077dd33</td></tr><tr><td>602623610a720f05a80002a2</td><td>2021-02-12T06:42:41.000Z</td><td>2021-02-12T06:42:41.000Z</td><td>null</td><td>2021-02-12T06:42:41.000Z</td><td>null</td><td>null</td><td>null</td><td>null</td><td>null</td><td>SUBMITTED</td><td>null</td><td>null</td><td>5fc961c3b8cfca11a077dd33</td></tr><tr><td>601f38af0a720f053c0000d4</td><td>2021-02-07T00:47:43.000Z</td><td>2021-02-07T00:47:43.000Z</td><td>null</td><td>2021-02-07T00:47:43.000Z</td><td>null</td><td>null</td><td>null</td><td>null</td><td>null</td><td>SUBMITTED</td><td>null</td><td>null</td><td>5fc961c3b8cfca11a077dd33</td></tr><tr><td>60204ae80a7214ad25000111</td><td>2021-02-07T20:17:44.000Z</td><td>2021-02-07T20:17:44.000Z</td><td>null</td><td>2021-02-07T20:17:44.000Z</td><td>null</td><td>null</td><td>null</td><td>null</td><td>null</td><td>SUBMITTED</td><td>null</td><td>null</td><td>5fc961c3b8cfca11a077dd33</td></tr><tr><td>603adfeb0a7217c72c000265</td><td>2021-02-28T00:12:27.000Z</td><td>2021-02-28T00:12:27.000Z</td><td>null</td><td>2021-02-28T00:12:28.000Z</td><td>2020-08-17T00:00:00.000Z</td><td>null</td><td>25.00</td><td>25.00</td><td>Complete Nonpartner Receipt</td><td>REJECTED</td><td>2</td><td>34.96</td><td>5fc961c3b8cfca11a077dd33</td></tr><tr><td>6024397f0a720f05a8000199</td><td>2021-02-10T19:52:31.000Z</td><td>2021-02-10T19:52:31.000Z</td><td>null</td><td>2021-02-10T19:52:31.000Z</td><td>null</td><td>null</td><td>null</td><td>null</td><td>null</td><td>SUBMITTED</td><td>null</td><td>null</td><td>5fc961c3b8cfca11a077dd33</td></tr><tr><td>601f09d10a720f053c0000bd</td><td>2021-02-06T21:27:45.000Z</td><td>2021-02-06T21:27:45.000Z</td><td>null</td><td>2021-02-06T21:27:45.000Z</td><td>null</td><td>null</td><td>null</td><td>null</td><td>null</td><td>SUBMITTED</td><td>null</td><td>null</td><td>5fc961c3b8cfca11a077dd33</td></tr><tr><td>601602db0a7214ad500001b3</td><td>2021-01-31T01:07:39.000Z</td><td>2021-01-31T01:07:39.000Z</td><td>null</td><td>2021-01-31T01:07:39.000Z</td><td>null</td><td>null</td><td>null</td><td>null</td><td>null</td><td>SUBMITTED</td><td>null</td><td>null</td><td>5fc961c3b8cfca11a077dd33</td></tr><tr><td>6020ac2a0a720f053c000177</td><td>2021-02-08T03:12:42.000Z</td><td>2021-02-08T03:12:42.000Z</td><td>null</td><td>2021-02-08T03:12:42.000Z</td><td>null</td><td>null</td><td>null</td><td>null</td><td>null</td><td>SUBMITTED</td><td>null</td><td>null</td><td>5fc961c3b8cfca11a077dd33</td></tr><tr><td>6021d37b0a720f05a800003c</td><td>2021-02-09T00:12:43.000Z</td><td>2021-02-09T00:12:43.000Z</td><td>null</td><td>2021-02-09T00:12:43.000Z</td><td>null</td><td>null</td><td>null</td><td>null</td><td>null</td><td>SUBMITTED</td><td>null</td><td>null</td><td>5fc961c3b8cfca11a077dd33</td></tr><tr><td>60258c2b0a7214d8e900028f</td><td>2021-02-11T19:57:31.000Z</td><td>2021-02-11T19:57:31.000Z</td><td>null</td><td>2021-02-11T19:57:31.000Z</td><td>null</td><td>null</td><td>null</td><td>null</td><td>null</td><td>SUBMITTED</td><td>null</td><td>null</td><td>5fc961c3b8cfca11a077dd33</td></tr><tr><td>603a72f60a7217c72c000206</td><td>2021-02-27T16:27:34.000Z</td><td>2021-02-27T16:27:34.000Z</td><td>null</td><td>2021-02-27T16:27:34.000Z</td><td>null</td><td>null</td><td>null</td><td>null</td><td>null</td><td>SUBMITTED</td><td>null</td><td>null</td><td>5fc961c3b8cfca11a077dd33</td></tr><tr><td>601f98c60a720f053c0000fe</td><td>2021-02-07T07:37:42.000Z</td><td>2021-02-07T07:37:42.000Z</td><td>null</td><td>2021-02-07T07:37:42.000Z</td><td>null</td><td>null</td><td>null</td><td>null</td><td>null</td><td>SUBMITTED</td><td>null</td><td>null</td><td>5fc961c3b8cfca11a077dd33</td></tr><tr><td>601d7c300a7214ad59000384</td><td>2021-02-05T17:11:12.000Z</td><td>2021-02-05T17:11:12.000Z</td><td>2021-02-05T17:11:12.000Z</td><td>2021-02-05T17:11:12.000Z</td><td>2021-02-05T00:00:00.000Z</td><td>null</td><td>null</td><td>null</td><td>null</td><td>PENDING</td><td>null</td><td>28.57</td><td>59c124bae4b0299e55b0f330</td></tr><tr><td>6018af3b0a7214ad28000059</td><td>2021-02-02T01:47:39.000Z</td><td>2021-02-02T01:47:39.000Z</td><td>null</td><td>2021-02-02T01:47:39.000Z</td><td>null</td><td>null</td><td>null</td><td>null</td><td>null</td><td>SUBMITTED</td><td>null</td><td>null</td><td>5fc961c3b8cfca11a077dd33</td></tr><tr><td>6018bd4b0a720f05f4000074</td><td>2021-02-02T02:47:39.000Z</td><td>2021-02-02T02:47:39.000Z</td><td>null</td><td>2021-02-02T02:47:39.000Z</td><td>null</td><td>null</td><td>null</td><td>null</td><td>null</td><td>SUBMITTED</td><td>null</td><td>null</td><td>5fc961c3b8cfca11a077dd33</td></tr><tr><td>60391f210a7217c72c0000de</td><td>2021-02-26T16:17:37.000Z</td><td>2021-02-26T16:17:37.000Z</td><td>null</td><td>2021-02-26T16:17:37.000Z</td><td>null</td><td>null</td><td>null</td><td>null</td><td>null</td><td>SUBMITTED</td><td>null</td><td>null</td><td>5fc961c3b8cfca11a077dd33</td></tr><tr><td>602213e70a720f05a8000071</td><td>2021-02-09T04:47:35.000Z</td><td>2021-02-09T04:47:35.000Z</td><td>null</td><td>2021-02-09T04:47:35.000Z</td><td>null</td><td>null</td><td>null</td><td>null</td><td>null</td><td>SUBMITTED</td><td>null</td><td>null</td><td>5fc961c3b8cfca11a077dd33</td></tr><tr><td>601729000a720f05f80002a8</td><td>2021-01-31T22:02:40.000Z</td><td>2021-01-31T22:02:40.000Z</td><td>null</td><td>2021-01-31T22:02:40.000Z</td><td>null</td><td>null</td><td>null</td><td>null</td><td>null</td><td>SUBMITTED</td><td>null</td><td>null</td><td>5fc961c3b8cfca11a077dd33</td></tr><tr><td>60048e120a720f05f3000092</td><td>2021-01-17T19:20:50.000Z</td><td>2021-01-17T19:20:50.000Z</td><td>null</td><td>2021-01-17T19:20:50.000Z</td><td>null</td><td>null</td><td>null</td><td>null</td><td>null</td><td>SUBMITTED</td><td>null</td><td>null</td><td>5fa32b4d898c7a11a6bcebce</td></tr><tr><td>5ffce7a70a720f05150016b0</td><td>2021-01-12T00:04:55.000Z</td><td>2021-01-12T00:04:55.000Z</td><td>null</td><td>2021-01-12T00:04:55.000Z</td><td>null</td><td>null</td><td>null</td><td>null</td><td>null</td><td>SUBMITTED</td><td>null</td><td>null</td><td>59c124bae4b0299e55b0f330</td></tr><tr><td>601aba020a7214ad280001d1</td><td>2021-02-03T14:58:10.000Z</td><td>2021-02-03T14:58:10.000Z</td><td>null</td><td>2021-02-03T14:58:10.000Z</td><td>null</td><td>null</td><td>null</td><td>null</td><td>null</td><td>SUBMITTED</td><td>null</td><td>null</td><td>5fc961c3b8cfca11a077dd33</td></tr><tr><td>6025263b0a720f05a80001ff</td><td>2021-02-11T12:42:35.000Z</td><td>2021-02-11T12:42:35.000Z</td><td>null</td><td>2021-02-11T12:42:35.000Z</td><td>null</td><td>null</td><td>null</td><td>null</td><td>null</td><td>SUBMITTED</td><td>null</td><td>null</td><td>5fc961c3b8cfca11a077dd33</td></tr><tr><td>60267a190a7214d8e90002fa</td><td>2021-02-12T12:52:41.000Z</td><td>2021-02-12T12:52:41.000Z</td><td>null</td><td>2021-02-12T12:52:41.000Z</td><td>null</td><td>null</td><td>null</td><td>null</td><td>null</td><td>SUBMITTED</td><td>null</td><td>null</td><td>5fc961c3b8cfca11a077dd33</td></tr><tr><td>601ddca40a7214ad25000019</td><td>2021-02-06T00:02:44.000Z</td><td>2021-02-06T00:02:44.000Z</td><td>null</td><td>2021-02-06T00:02:44.000Z</td><td>null</td><td>null</td><td>null</td><td>null</td><td>null</td><td>SUBMITTED</td><td>null</td><td>null</td><td>5fc961c3b8cfca11a077dd33</td></tr><tr><td>601eae650a720f053c000093</td><td>2021-02-06T14:57:41.000Z</td><td>2021-02-06T14:57:41.000Z</td><td>null</td><td>2021-02-06T14:57:41.000Z</td><td>null</td><td>null</td><td>null</td><td>null</td><td>null</td><td>SUBMITTED</td><td>null</td><td>null</td><td>5fc961c3b8cfca11a077dd33</td></tr><tr><td>601d7ba00a720f05540000d2</td><td>2021-02-05T17:08:48.000Z</td><td>2021-02-05T17:08:48.000Z</td><td>2021-02-05T17:08:48.000Z</td><td>2021-02-05T17:08:48.000Z</td><td>2021-02-05T00:00:00.000Z</td><td>null</td><td>null</td><td>null</td><td>null</td><td>PENDING</td><td>null</td><td>28.57</td><td>59c124bae4b0299e55b0f330</td></tr><tr><td>6015970b0a7214ad50000189</td><td>2021-01-30T17:27:39.000Z</td><td>2021-01-30T17:27:39.000Z</td><td>null</td><td>2021-01-30T17:27:39.000Z</td><td>null</td><td>null</td><td>null</td><td>null</td><td>null</td><td>SUBMITTED</td><td>null</td><td>null</td><td>5fc961c3b8cfca11a077dd33</td></tr><tr><td>602160a30a720f05c0000001</td><td>2021-02-08T16:02:43.000Z</td><td>2021-02-08T16:02:43.000Z</td><td>2021-02-08T16:02:51.000Z</td><td>2021-02-08T16:02:43.000Z</td><td>null</td><td>null</td><td>null</td><td>null</td><td>null</td><td>PENDING</td><td>null</td><td>null</td><td>54ca99a9e4b0b11b4f7d6dc5</td></tr><tr><td>6023a2530a720f05a8000144</td><td>2021-02-10T09:07:31.000Z</td><td>2021-02-10T09:07:31.000Z</td><td>null</td><td>2021-02-10T09:07:31.000Z</td><td>null</td><td>null</td><td>null</td><td>null</td><td>null</td><td>SUBMITTED</td><td>null</td><td>null</td><td>5fc961c3b8cfca11a077dd33</td></tr><tr><td>603af1870a720fde1000023c</td><td>2021-02-28T01:27:35.000Z</td><td>2021-02-28T01:27:35.000Z</td><td>null</td><td>2021-02-28T01:27:35.000Z</td><td>null</td><td>null</td><td>null</td><td>null</td><td>null</td><td>SUBMITTED</td><td>null</td><td>null</td><td>5fc961c3b8cfca11a077dd33</td></tr><tr><td>5ffe1c520a7214ad2800245c</td><td>2021-01-12T22:01:54.000Z</td><td>2021-01-12T22:01:54.000Z</td><td>2021-01-12T22:01:54.000Z</td><td>2021-01-12T22:01:54.000Z</td><td>2021-01-12T00:00:00.000Z</td><td>null</td><td>null</td><td>null</td><td>null</td><td>PENDING</td><td>null</td><td>28.57</td><td>59c124bae4b0299e55b0f330</td></tr><tr><td>60088aff0a7214ad890000da</td><td>2021-01-20T19:56:47.000Z</td><td>2021-01-20T19:56:47.000Z</td><td>null</td><td>2021-01-20T19:56:52.000Z</td><td>2021-01-20T00:00:00.000Z</td><td>null</td><td>5.00</td><td>5.00</td><td>All-receipts Receipt Bonus</td><td>REJECTED</td><td>1</td><td>10.00</td><td>60088aff633aab121bb8e33d</td></tr><tr><td>601af2280a7214ad28000209</td><td>2021-02-03T18:57:44.000Z</td><td>2021-02-03T18:57:44.000Z</td><td>null</td><td>2021-02-03T18:57:44.000Z</td><td>null</td><td>null</td><td>null</td><td>null</td><td>null</td><td>SUBMITTED</td><td>null</td><td>null</td><td>5fc961c3b8cfca11a077dd33</td></tr><tr><td>5ffce8250a720f0515003510</td><td>2021-01-12T00:07:01.000Z</td><td>2021-01-12T00:07:01.000Z</td><td>null</td><td>2021-01-12T00:07:01.000Z</td><td>null</td><td>null</td><td>null</td><td>null</td><td>null</td><td>SUBMITTED</td><td>null</td><td>null</td><td>59c124bae4b0299e55b0f330</td></tr><tr><td>601a59ce0a7214ad2800019b</td><td>2021-02-03T08:07:42.000Z</td><td>2021-02-03T08:07:42.000Z</td><td>null</td><td>2021-02-03T08:07:42.000Z</td><td>null</td><td>null</td><td>null</td><td>null</td><td>null</td><td>SUBMITTED</td><td>null</td><td>null</td><td>5fc961c3b8cfca11a077dd33</td></tr><tr><td>5ff1e1f10a720f052300057a</td><td>2021-01-03T15:25:37.000Z</td><td>2021-01-03T15:25:37.000Z</td><td>null</td><td>2021-01-03T15:25:42.000Z</td><td>2021-01-03T00:00:00.000Z</td><td>null</td><td>5.00</td><td>5.00</td><td>All-receipts Receipt Bonus</td><td>REJECTED</td><td>1</td><td>10.00</td><td>5ff1e1f1cfcf6c399c274b0b</td></tr><tr><td>5ffc9dc60a7214adca00005a</td><td>2021-01-11T18:49:42.000Z</td><td>2021-01-11T18:49:42.000Z</td><td>null</td><td>2021-01-11T18:49:43.000Z</td><td>2017-10-30T00:00:00.000Z</td><td>null</td><td>null</td><td>null</td><td>null</td><td>REJECTED</td><td>3</td><td>3.00</td><td>5ffc9d87b3348b11c9338920</td></tr><tr><td>5ff1e1e90a7214ada1000569</td><td>2021-01-03T15:25:29.000Z</td><td>2021-01-03T15:25:29.000Z</td><td>null</td><td>2021-01-03T15:25:29.000Z</td><td>null</td><td>null</td><td>null</td><td>null</td><td>null</td><td>FLAGGED</td><td>0</td><td>0.00</td><td>5ff1e1e9b6a9d73a3a9f10f6</td></tr><tr><td>603d40250a720fde10000459</td><td>2021-03-01T19:27:33.000Z</td><td>2021-03-01T19:27:33.000Z</td><td>null</td><td>2021-03-01T19:27:34.000Z</td><td>2020-08-17T00:00:00.000Z</td><td>null</td><td>25.00</td><td>25.00</td><td>Complete Nonpartner Receipt</td><td>REJECTED</td><td>2</td><td>34.96</td><td>5fc961c3b8cfca11a077dd33</td></tr><tr><td>601fee520a720f053c000120</td><td>2021-02-07T13:42:42.000Z</td><td>2021-02-07T13:42:42.000Z</td><td>null</td><td>2021-02-07T13:42:42.000Z</td><td>null</td><td>null</td><td>null</td><td>null</td><td>null</td><td>SUBMITTED</td><td>null</td><td>null</td><td>5fc961c3b8cfca11a077dd33</td></tr><tr><td>6024f7570a7214d8e900021f</td><td>2021-02-11T09:22:31.000Z</td><td>2021-02-11T09:22:31.000Z</td><td>null</td><td>2021-02-11T09:22:31.000Z</td><td>null</td><td>null</td><td>null</td><td>null</td><td>null</td><td>SUBMITTED</td><td>null</td><td>null</td><td>5fc961c3b8cfca11a077dd33</td></tr><tr><td>601a23e60a7214ad28000187</td><td>2021-02-03T04:17:42.000Z</td><td>2021-02-03T04:17:42.000Z</td><td>null</td><td>2021-02-03T04:17:42.000Z</td><td>null</td><td>null</td><td>null</td><td>null</td><td>null</td><td>SUBMITTED</td><td>null</td><td>null</td><td>5fc961c3b8cfca11a077dd33</td></tr><tr><td>60025f550a7214ad4c000084</td><td>2021-01-16T03:36:53.000Z</td><td>2021-01-16T03:36:53.000Z</td><td>null</td><td>2021-01-16T03:36:53.000Z</td><td>null</td><td>null</td><td>null</td><td>null</td><td>null</td><td>SUBMITTED</td><td>null</td><td>null</td><td>60025c65fb296c4ef805d9e6</td></tr><tr><td>60189cb60a720f05f4000061</td><td>2021-02-02T00:28:38.000Z</td><td>2021-02-02T00:28:38.000Z</td><td>null</td><td>2021-02-02T00:28:38.000Z</td><td>null</td><td>null</td><td>null</td><td>null</td><td>null</td><td>SUBMITTED</td><td>null</td><td>null</td><td>60189c74c8b50e11d8454eff</td></tr><tr><td>601ab7900a720f05f40001ec</td><td>2021-02-03T14:47:44.000Z</td><td>2021-02-03T14:47:44.000Z</td><td>null</td><td>2021-02-03T14:47:44.000Z</td><td>null</td><td>null</td><td>null</td><td>null</td><td>null</td><td>SUBMITTED</td><td>null</td><td>null</td><td>5fc961c3b8cfca11a077dd33</td></tr><tr><td>601f46bf0a7214ad250000a4</td><td>2021-02-07T01:47:43.000Z</td><td>2021-02-07T01:47:43.000Z</td><td>null</td><td>2021-02-07T01:47:43.000Z</td><td>null</td><td>null</td><td>null</td><td>null</td><td>null</td><td>SUBMITTED</td><td>null</td><td>null</td><td>5fc961c3b8cfca11a077dd33</td></tr><tr><td>6015048f0a720f05f80001bf</td><td>2021-01-30T07:02:39.000Z</td><td>2021-01-30T07:02:39.000Z</td><td>null</td><td>2021-01-30T07:02:39.000Z</td><td>null</td><td>null</td><td>null</td><td>null</td><td>null</td><td>SUBMITTED</td><td>null</td><td>null</td><td>5fc961c3b8cfca11a077dd33</td></tr><tr><td>603996a70a7217c72c000145</td><td>2021-02-27T00:47:35.000Z</td><td>2021-02-27T00:47:35.000Z</td><td>null</td><td>2021-02-27T00:47:35.000Z</td><td>null</td><td>null</td><td>null</td><td>null</td><td>null</td><td>SUBMITTED</td><td>null</td><td>null</td><td>5fc961c3b8cfca11a077dd33</td></tr><tr><td>602315b50a720f05a8000104</td><td>2021-02-09T23:07:33.000Z</td><td>2021-02-09T23:07:33.000Z</td><td>null</td><td>2021-02-09T23:07:33.000Z</td><td>null</td><td>null</td><td>null</td><td>null</td><td>null</td><td>SUBMITTED</td><td>null</td><td>null</td><td>5fc961c3b8cfca11a077dd33</td></tr><tr><td>603c0ac20a7217c72c00035c</td><td>2021-02-28T21:27:30.000Z</td><td>2021-02-28T21:27:30.000Z</td><td>null</td><td>2021-02-28T21:27:31.000Z</td><td>2020-08-17T00:00:00.000Z</td><td>null</td><td>25.00</td><td>25.00</td><td>Complete Nonpartner Receipt</td><td>REJECTED</td><td>2</td><td>34.96</td><td>5fc961c3b8cfca11a077dd33</td></tr><tr><td>601c265a0a720f05f400029d</td><td>2021-02-04T16:52:42.000Z</td><td>2021-02-04T16:52:42.000Z</td><td>null</td><td>2021-02-04T16:52:42.000Z</td><td>null</td><td>null</td><td>null</td><td>null</td><td>null</td><td>SUBMITTED</td><td>null</td><td>null</td><td>5fc961c3b8cfca11a077dd33</td></tr><tr><td>602367ba0a720f05a800012e</td><td>2021-02-10T04:57:30.000Z</td><td>2021-02-10T04:57:30.000Z</td><td>null</td><td>2021-02-10T04:57:30.000Z</td><td>null</td><td>null</td><td>null</td><td>null</td><td>null</td><td>SUBMITTED</td><td>null</td><td>null</td><td>5fc961c3b8cfca11a077dd33</td></tr><tr><td>601d77170a720f053c00000a</td><td>2021-02-05T16:49:27.000Z</td><td>2021-02-05T16:49:27.000Z</td><td>2021-02-05T16:49:27.000Z</td><td>2021-02-05T16:49:27.000Z</td><td>2021-02-05T00:00:00.000Z</td><td>null</td><td>null</td><td>null</td><td>null</td><td>PENDING</td><td>null</td><td>28.57</td><td>59c124bae4b0299e55b0f330</td></tr><tr><td>601d83930a7214ad59000932</td><td>2021-02-05T17:42:42.000Z</td><td>2021-02-05T17:42:42.000Z</td><td>null</td><td>2021-02-05T17:42:42.000Z</td><td>null</td><td>null</td><td>null</td><td>null</td><td>null</td><td>SUBMITTED</td><td>null</td><td>null</td><td>5fc961c3b8cfca11a077dd33</td></tr><tr><td>60145a510a7214ad50000086</td><td>2021-01-29T18:56:17.000Z</td><td>2021-01-29T18:56:17.000Z</td><td>null</td><td>2021-01-29T18:56:22.000Z</td><td>2021-01-29T00:00:00.000Z</td><td>null</td><td>5.00</td><td>5.00</td><td>All-receipts Receipt Bonus</td><td>REJECTED</td><td>1</td><td>10.00</td><td>60145a5167804a1228b20ddd</td></tr><tr><td>601c090e0a7214ad28000282</td><td>2021-02-04T14:47:41.000Z</td><td>2021-02-04T14:47:41.000Z</td><td>null</td><td>2021-02-04T14:47:41.000Z</td><td>null</td><td>null</td><td>null</td><td>null</td><td>null</td><td>SUBMITTED</td><td>null</td><td>null</td><td>5fc961c3b8cfca11a077dd33</td></tr><tr><td>6014d3560a720f05f80001ad</td><td>2021-01-30T03:32:38.000Z</td><td>2021-01-30T03:32:38.000Z</td><td>null</td><td>2021-01-30T03:32:38.000Z</td><td>null</td><td>null</td><td>null</td><td>null</td><td>null</td><td>SUBMITTED</td><td>null</td><td>null</td><td>5fc961c3b8cfca11a077dd33</td></tr><tr><td>603cc0630a720fde100003e6</td><td>2021-03-01T10:22:27.000Z</td><td>2021-03-01T10:22:27.000Z</td><td>null</td><td>2021-03-01T10:22:28.000Z</td><td>2020-08-17T00:00:00.000Z</td><td>null</td><td>25.00</td><td>25.00</td><td>Complete Nonpartner Receipt</td><td>REJECTED</td><td>2</td><td>34.96</td><td>5fc961c3b8cfca11a077dd33</td></tr><tr><td>60157c190a720f05f80001eb</td><td>2021-01-30T15:32:41.000Z</td><td>2021-01-30T15:32:41.000Z</td><td>null</td><td>2021-01-30T15:32:41.000Z</td><td>null</td><td>null</td><td>null</td><td>null</td><td>null</td><td>SUBMITTED</td><td>null</td><td>null</td><td>5fc961c3b8cfca11a077dd33</td></tr><tr><td>6021804a0a720f05a8000019</td><td>2021-02-08T18:17:46.000Z</td><td>2021-02-08T18:17:46.000Z</td><td>null</td><td>2021-02-08T18:17:46.000Z</td><td>null</td><td>null</td><td>null</td><td>null</td><td>null</td><td>SUBMITTED</td><td>null</td><td>null</td><td>5fc961c3b8cfca11a077dd33</td></tr><tr><td>6000c74b0a7214ad4c000060</td><td>2021-01-14T22:35:53.000Z</td><td>2021-01-14T22:35:53.000Z</td><td>null</td><td>2021-01-14T22:35:53.000Z</td><td>null</td><td>null</td><td>null</td><td>null</td><td>null</td><td>SUBMITTED</td><td>null</td><td>null</td><td>5a43c08fe4b014fd6b6a0612</td></tr><tr><td>603babdb0a720fde100002e1</td><td>2021-02-28T14:42:35.000Z</td><td>2021-02-28T14:42:35.000Z</td><td>null</td><td>2021-02-28T14:42:35.000Z</td><td>null</td><td>null</td><td>null</td><td>null</td><td>null</td><td>SUBMITTED</td><td>null</td><td>null</td><td>5fc961c3b8cfca11a077dd33</td></tr><tr><td>6015a06b0a7214ad5000018d</td><td>2021-01-30T18:07:39.000Z</td><td>2021-01-30T18:07:39.000Z</td><td>null</td><td>2021-01-30T18:07:39.000Z</td><td>null</td><td>null</td><td>null</td><td>null</td><td>null</td><td>SUBMITTED</td><td>null</td><td>null</td><td>5fc961c3b8cfca11a077dd33</td></tr><tr><td>6038cabd0a720fde1000009c</td><td>2021-02-26T10:17:33.000Z</td><td>2021-02-26T10:17:33.000Z</td><td>null</td><td>2021-02-26T10:17:33.000Z</td><td>null</td><td>null</td><td>null</td><td>null</td><td>null</td><td>SUBMITTED</td><td>null</td><td>null</td><td>5fc961c3b8cfca11a077dd33</td></tr><tr><td>601d7b840a720f055400004e</td><td>2021-02-05T17:08:20.000Z</td><td>2021-02-05T17:08:20.000Z</td><td>2021-02-05T17:08:20.000Z</td><td>2021-02-05T17:08:20.000Z</td><td>2021-02-05T00:00:00.000Z</td><td>null</td><td>null</td><td>null</td><td>null</td><td>PENDING</td><td>null</td><td>28.57</td><td>59c124bae4b0299e55b0f330</td></tr><tr><td>601687480a720f05f800025b</td><td>2021-01-31T10:32:40.000Z</td><td>2021-01-31T10:32:40.000Z</td><td>null</td><td>2021-01-31T10:32:40.000Z</td><td>null</td><td>null</td><td>null</td><td>null</td><td>null</td><td>SUBMITTED</td><td>null</td><td>null</td><td>5fc961c3b8cfca11a077dd33</td></tr><tr><td>603d760e0a720fde1000048e</td><td>2021-03-01T23:17:34.000Z</td><td>2021-03-01T23:17:34.000Z</td><td>null</td><td>2021-03-01T23:17:34.000Z</td><td>null</td><td>null</td><td>null</td><td>null</td><td>null</td><td>SUBMITTED</td><td>null</td><td>null</td><td>5fc961c3b8cfca11a077dd33</td></tr><tr><td>5ff475820a7214ada10005cf</td><td>2021-01-05T14:19:46.000Z</td><td>2021-01-05T14:19:46.000Z</td><td>null</td><td>2021-01-05T14:19:46.000Z</td><td>null</td><td>null</td><td>null</td><td>null</td><td>null</td><td>SUBMITTED</td><td>null</td><td>null</td><td>5a43c08fe4b014fd6b6a0612</td></tr><tr><td>60173a940a7214ad50000235</td><td>2021-01-31T23:17:40.000Z</td><td>2021-01-31T23:17:40.000Z</td><td>null</td><td>2021-01-31T23:17:40.000Z</td><td>null</td><td>null</td><td>null</td><td>null</td><td>null</td><td>SUBMITTED</td><td>null</td><td>null</td><td>5fc961c3b8cfca11a077dd33</td></tr><tr><td>603bcdd00a7217c72c000335</td><td>2021-02-28T17:07:28.000Z</td><td>2021-02-28T17:07:28.000Z</td><td>null</td><td>2021-02-28T17:07:29.000Z</td><td>2020-08-17T00:00:00.000Z</td><td>null</td><td>25.00</td><td>25.00</td><td>Complete Nonpartner Receipt</td><td>REJECTED</td><td>2</td><td>34.96</td><td>5fc961c3b8cfca11a077dd33</td></tr><tr><td>5ffce8570a7214ad4e003e6f</td><td>2021-01-12T00:07:51.000Z</td><td>2021-01-12T00:07:51.000Z</td><td>null</td><td>2021-01-12T00:07:51.000Z</td><td>null</td><td>null</td><td>null</td><td>null</td><td>null</td><td>SUBMITTED</td><td>null</td><td>null</td><td>59c124bae4b0299e55b0f330</td></tr><tr><td>603b18350a7217c72c00029e</td><td>2021-02-28T04:12:37.000Z</td><td>2021-02-28T04:12:37.000Z</td><td>null</td><td>2021-02-28T04:12:37.000Z</td><td>null</td><td>null</td><td>null</td><td>null</td><td>null</td><td>SUBMITTED</td><td>null</td><td>null</td><td>5fc961c3b8cfca11a077dd33</td></tr><tr><td>6020c84a0a720f053c000187</td><td>2021-02-08T05:12:42.000Z</td><td>2021-02-08T05:12:42.000Z</td><td>null</td><td>2021-02-08T05:12:42.000Z</td><td>null</td><td>null</td><td>null</td><td>null</td><td>null</td><td>SUBMITTED</td><td>null</td><td>null</td><td>5fc961c3b8cfca11a077dd33</td></tr><tr><td>6018682c0a720f05f4000011</td><td>2021-02-01T20:44:28.000Z</td><td>2021-02-01T20:44:28.000Z</td><td>null</td><td>2021-02-01T20:44:28.000Z</td><td>null</td><td>null</td><td>null</td><td>null</td><td>null</td><td>SUBMITTED</td><td>null</td><td>null</td><td>60186237c8b50e11d8454d5f</td></tr><tr><td>6039d4bc0a7217c72c000184</td><td>2021-02-27T05:12:28.000Z</td><td>2021-02-27T05:12:28.000Z</td><td>null</td><td>2021-02-27T05:12:29.000Z</td><td>2020-08-17T00:00:00.000Z</td><td>null</td><td>25.00</td><td>25.00</td><td>Complete Nonpartner Receipt</td><td>REJECTED</td><td>2</td><td>34.96</td><td>5fc961c3b8cfca11a077dd33</td></tr><tr><td>6016acc60a720f05f800026e</td><td>2021-01-31T13:12:38.000Z</td><td>2021-01-31T13:12:38.000Z</td><td>null</td><td>2021-01-31T13:12:38.000Z</td><td>null</td><td>null</td><td>null</td><td>null</td><td>null</td><td>SUBMITTED</td><td>null</td><td>null</td><td>5fc961c3b8cfca11a077dd33</td></tr><tr><td>601443600a7214ad50000060</td><td>2021-01-29T17:18:24.000Z</td><td>2021-01-29T17:18:24.000Z</td><td>null</td><td>2021-01-29T17:18:29.000Z</td><td>2021-01-29T00:00:00.000Z</td><td>null</td><td>5.00</td><td>5.00</td><td>All-receipts Receipt Bonus</td><td>REJECTED</td><td>1</td><td>10.00</td><td>6014436084231211ce793ced</td></tr><tr><td>603cba880a7217c72c0003e0</td><td>2021-03-01T09:57:28.000Z</td><td>2021-03-01T09:57:28.000Z</td><td>null</td><td>2021-03-01T09:57:29.000Z</td><td>2020-08-17T00:00:00.000Z</td><td>null</td><td>25.00</td><td>25.00</td><td>Complete Nonpartner Receipt</td><td>REJECTED</td><td>2</td><td>34.96</td><td>5fc961c3b8cfca11a077dd33</td></tr><tr><td>601c28b30a720f05f400029f</td><td>2021-02-04T17:02:43.000Z</td><td>2021-02-04T17:02:43.000Z</td><td>null</td><td>2021-02-04T17:02:43.000Z</td><td>null</td><td>null</td><td>null</td><td>null</td><td>null</td><td>SUBMITTED</td><td>null</td><td>null</td><td>5fc961c3b8cfca11a077dd33</td></tr><tr><td>601d7c000a7214ad590002a1</td><td>2021-02-05T17:10:24.000Z</td><td>2021-02-05T17:10:24.000Z</td><td>2021-02-05T17:10:24.000Z</td><td>2021-02-05T17:10:24.000Z</td><td>2021-02-05T00:00:00.000Z</td><td>null</td><td>null</td><td>null</td><td>null</td><td>PENDING</td><td>null</td><td>28.57</td><td>59c124bae4b0299e55b0f330</td></tr><tr><td>60251e050a720f05a80001fc</td><td>2021-02-11T12:07:33.000Z</td><td>2021-02-11T12:07:33.000Z</td><td>null</td><td>2021-02-11T12:07:33.000Z</td><td>null</td><td>null</td><td>null</td><td>null</td><td>null</td><td>SUBMITTED</td><td>null</td><td>null</td><td>5fc961c3b8cfca11a077dd33</td></tr><tr><td>600887970a7214ad8900007c</td><td>2021-01-20T19:42:15.000Z</td><td>2021-01-20T19:42:15.000Z</td><td>null</td><td>2021-01-20T19:42:15.000Z</td><td>null</td><td>null</td><td>null</td><td>null</td><td>null</td><td>SUBMITTED</td><td>null</td><td>null</td><td>6008873eb6310511daa4e8eb</td></tr><tr><td>6020e91a0a720f053c000196</td><td>2021-02-08T07:32:42.000Z</td><td>2021-02-08T07:32:42.000Z</td><td>null</td><td>2021-02-08T07:32:42.000Z</td><td>null</td><td>null</td><td>null</td><td>null</td><td>null</td><td>SUBMITTED</td><td>null</td><td>null</td><td>5fc961c3b8cfca11a077dd33</td></tr><tr><td>601c80940a720f05f40002d9</td><td>2021-02-04T23:17:40.000Z</td><td>2021-02-04T23:17:40.000Z</td><td>null</td><td>2021-02-04T23:17:40.000Z</td><td>null</td><td>null</td><td>null</td><td>null</td><td>null</td><td>SUBMITTED</td><td>null</td><td>null</td><td>5fc961c3b8cfca11a077dd33</td></tr><tr><td>603add9a0a7217c72c000263</td><td>2021-02-28T00:02:34.000Z</td><td>2021-02-28T00:02:34.000Z</td><td>null</td><td>2021-02-28T00:02:34.000Z</td><td>null</td><td>null</td><td>null</td><td>null</td><td>null</td><td>SUBMITTED</td><td>null</td><td>null</td><td>5fc961c3b8cfca11a077dd33</td></tr><tr><td>601b2c090a7214ad2800021a</td><td>2021-02-03T17:04:40.000Z</td><td>2021-02-03T17:04:40.000Z</td><td>null</td><td>2021-02-03T17:04:40.000Z</td><td>null</td><td>null</td><td>null</td><td>null</td><td>null</td><td>SUBMITTED</td><td>null</td><td>null</td><td>542ace60e4b0b3d724922499</td></tr><tr><td>602145ae0a720f0573000007</td><td>2021-02-08T14:07:42.000Z</td><td>2021-02-08T14:07:42.000Z</td><td>null</td><td>2021-02-08T14:07:42.000Z</td><td>null</td><td>null</td><td>null</td><td>null</td><td>null</td><td>SUBMITTED</td><td>null</td><td>null</td><td>5fc961c3b8cfca11a077dd33</td></tr><tr><td>603862720a720fde1000006b</td><td>2021-02-26T02:52:34.000Z</td><td>2021-02-26T02:52:34.000Z</td><td>null</td><td>2021-02-26T02:52:34.000Z</td><td>null</td><td>null</td><td>null</td><td>null</td><td>null</td><td>SUBMITTED</td><td>null</td><td>null</td><td>5fc961c3b8cfca11a077dd33</td></tr><tr><td>60205b510a7214ad25000117</td><td>2021-02-07T21:27:45.000Z</td><td>2021-02-07T21:27:45.000Z</td><td>null</td><td>2021-02-07T21:27:45.000Z</td><td>null</td><td>null</td><td>null</td><td>null</td><td>null</td><td>SUBMITTED</td><td>null</td><td>null</td><td>5fc961c3b8cfca11a077dd33</td></tr><tr><td>603ca44a0a720fde100003d0</td><td>2021-03-01T08:22:34.000Z</td><td>2021-03-01T08:22:34.000Z</td><td>null</td><td>2021-03-01T08:22:34.000Z</td><td>null</td><td>null</td><td>null</td><td>null</td><td>null</td><td>SUBMITTED</td><td>null</td><td>null</td><td>5fc961c3b8cfca11a077dd33</td></tr><tr><td>6025b2e10a7214d8e90002a3</td><td>2021-02-11T22:42:41.000Z</td><td>2021-02-11T22:42:41.000Z</td><td>null</td><td>2021-02-11T22:42:41.000Z</td><td>null</td><td>null</td><td>null</td><td>null</td><td>null</td><td>SUBMITTED</td><td>null</td><td>null</td><td>5fc961c3b8cfca11a077dd33</td></tr><tr><td>6021ca1c0a720f05a8000039</td><td>2021-02-08T23:32:44.000Z</td><td>2021-02-08T23:32:44.000Z</td><td>null</td><td>2021-02-08T23:32:44.000Z</td><td>null</td><td>null</td><td>null</td><td>null</td><td>null</td><td>SUBMITTED</td><td>null</td><td>null</td><td>5fc961c3b8cfca11a077dd33</td></tr><tr><td>602671e50a720f05a80002c4</td><td>2021-02-12T12:17:41.000Z</td><td>2021-02-12T12:17:41.000Z</td><td>null</td><td>2021-02-12T12:17:41.000Z</td><td>null</td><td>null</td><td>null</td><td>null</td><td>null</td><td>SUBMITTED</td><td>null</td><td>null</td><td>5fc961c3b8cfca11a077dd33</td></tr><tr><td>601581f40a7214ad50000181</td><td>2021-01-30T15:57:40.000Z</td><td>2021-01-30T15:57:40.000Z</td><td>null</td><td>2021-01-30T15:57:40.000Z</td><td>null</td><td>null</td><td>null</td><td>null</td><td>null</td><td>SUBMITTED</td><td>null</td><td>null</td><td>5fc961c3b8cfca11a077dd33</td></tr><tr><td>603a001e0a7217c72c0001a0</td><td>2021-02-27T08:17:34.000Z</td><td>2021-02-27T08:17:34.000Z</td><td>null</td><td>2021-02-27T08:17:34.000Z</td><td>null</td><td>null</td><td>null</td><td>null</td><td>null</td><td>SUBMITTED</td><td>null</td><td>null</td><td>5fc961c3b8cfca11a077dd33</td></tr><tr><td>5ffe1b630a7214ad28001c79</td><td>2021-01-12T21:57:55.000Z</td><td>2021-01-12T21:57:55.000Z</td><td>2021-01-12T21:57:55.000Z</td><td>2021-01-12T21:57:55.000Z</td><td>2021-01-12T00:00:00.000Z</td><td>null</td><td>null</td><td>null</td><td>null</td><td>PENDING</td><td>null</td><td>28.57</td><td>59c124bae4b0299e55b0f330</td></tr><tr><td>601721f90a720f05f80002a6</td><td>2021-01-31T21:32:41.000Z</td><td>2021-01-31T21:32:41.000Z</td><td>null</td><td>2021-01-31T21:32:41.000Z</td><td>null</td><td>null</td><td>null</td><td>null</td><td>null</td><td>SUBMITTED</td><td>null</td><td>null</td><td>5fc961c3b8cfca11a077dd33</td></tr><tr><td>601d7d230a720f05540007ce</td><td>2021-02-05T17:15:15.000Z</td><td>2021-02-05T17:15:15.000Z</td><td>2021-02-05T17:15:15.000Z</td><td>2021-02-05T17:15:15.000Z</td><td>2021-02-05T00:00:00.000Z</td><td>null</td><td>null</td><td>null</td><td>null</td><td>PENDING</td><td>null</td><td>28.57</td><td>59c124bae4b0299e55b0f330</td></tr><tr><td>60244d6e0a7214d8e90001c9</td><td>2021-02-10T21:17:34.000Z</td><td>2021-02-10T21:17:34.000Z</td><td>null</td><td>2021-02-10T21:17:34.000Z</td><td>null</td><td>null</td><td>null</td><td>null</td><td>null</td><td>SUBMITTED</td><td>null</td><td>null</td><td>5fc961c3b8cfca11a077dd33</td></tr><tr><td>603a54770a720fde100001bd</td><td>2021-02-27T14:17:27.000Z</td><td>2021-02-27T14:17:27.000Z</td><td>null</td><td>2021-02-27T14:17:28.000Z</td><td>2020-08-17T00:00:00.000Z</td><td>null</td><td>25.00</td><td>25.00</td><td>Complete Nonpartner Receipt</td><td>REJECTED</td><td>2</td><td>34.96</td><td>5fc961c3b8cfca11a077dd33</td></tr><tr><td>6018a95f0a7214ad28000056</td><td>2021-02-02T01:22:39.000Z</td><td>2021-02-02T01:22:39.000Z</td><td>null</td><td>2021-02-02T01:22:39.000Z</td><td>null</td><td>null</td><td>null</td><td>null</td><td>null</td><td>SUBMITTED</td><td>null</td><td>null</td><td>5fc961c3b8cfca11a077dd33</td></tr><tr><td>6001bb110a720f05f3000085</td><td>2021-01-15T15:56:01.000Z</td><td>2021-01-15T15:56:01.000Z</td><td>null</td><td>2021-01-15T15:56:01.000Z</td><td>null</td><td>null</td><td>null</td><td>null</td><td>null</td><td>SUBMITTED</td><td>null</td><td>null</td><td>6000b75bbe5fc96dfee1d4d3</td></tr><tr><td>603b7e260a720fde100002b8</td><td>2021-02-28T11:27:34.000Z</td><td>2021-02-28T11:27:34.000Z</td><td>null</td><td>2021-02-28T11:27:34.000Z</td><td>null</td><td>null</td><td>null</td><td>null</td><td>null</td><td>SUBMITTED</td><td>null</td><td>null</td><td>5fc961c3b8cfca11a077dd33</td></tr><tr><td>603877bb0a720fde10000074</td><td>2021-02-26T04:23:23.000Z</td><td>2021-02-26T04:23:23.000Z</td><td>null</td><td>2021-02-26T04:23:23.000Z</td><td>null</td><td>null</td><td>null</td><td>null</td><td>null</td><td>SUBMITTED</td><td>null</td><td>null</td><td>5fc961c3b8cfca11a077dd33</td></tr><tr><td>601e35b40a7214ad2500003c</td><td>2021-02-06T06:22:44.000Z</td><td>2021-02-06T06:22:44.000Z</td><td>null</td><td>2021-02-06T06:22:44.000Z</td><td>null</td><td>null</td><td>null</td><td>null</td><td>null</td><td>SUBMITTED</td><td>null</td><td>null</td><td>5fc961c3b8cfca11a077dd33</td></tr><tr><td>6022b0ef0a7214d8e90000f3</td><td>2021-02-09T15:57:35.000Z</td><td>2021-02-09T15:57:35.000Z</td><td>null</td><td>2021-02-09T15:57:35.000Z</td><td>null</td><td>null</td><td>null</td><td>null</td><td>null</td><td>SUBMITTED</td><td>null</td><td>null</td><td>5fc961c3b8cfca11a077dd33</td></tr><tr><td>60267d9d0a7214d8e90002fb</td><td>2021-02-12T13:07:41.000Z</td><td>2021-02-12T13:07:41.000Z</td><td>null</td><td>2021-02-12T13:07:41.000Z</td><td>null</td><td>null</td><td>null</td><td>null</td><td>null</td><td>SUBMITTED</td><td>null</td><td>null</td><td>5fc961c3b8cfca11a077dd33</td></tr><tr><td>5ff794600a7214ada1000647</td><td>2021-01-07T05:08:16.000Z</td><td>2021-01-07T05:08:16.000Z</td><td>null</td><td>2021-01-07T17:08:17.000Z</td><td>null</td><td>null</td><td>null</td><td>null</td><td>null</td><td>FLAGGED</td><td>0</td><td>0.00</td><td>5ff7946004929111f6e90ceb</td></tr><tr><td>6014a4760a7214ad50000116</td><td>2021-01-30T00:12:38.000Z</td><td>2021-01-30T00:12:38.000Z</td><td>null</td><td>2021-01-30T00:12:38.000Z</td><td>null</td><td>null</td><td>null</td><td>null</td><td>null</td><td>SUBMITTED</td><td>null</td><td>null</td><td>5fc961c3b8cfca11a077dd33</td></tr><tr><td>6008878f0a7214ad8900007b</td><td>2021-01-20T19:42:07.000Z</td><td>2021-01-20T19:42:07.000Z</td><td>null</td><td>2021-01-20T19:42:13.000Z</td><td>2017-10-30T00:00:00.000Z</td><td>null</td><td>null</td><td>null</td><td>null</td><td>REJECTED</td><td>3</td><td>3.00</td><td>6008873eb6310511daa4e8eb</td></tr><tr><td>601e14e30a7214ad2500002e</td><td>2021-02-06T04:02:43.000Z</td><td>2021-02-06T04:02:43.000Z</td><td>null</td><td>2021-02-06T04:02:43.000Z</td><td>null</td><td>null</td><td>null</td><td>null</td><td>null</td><td>SUBMITTED</td><td>null</td><td>null</td><td>5fc961c3b8cfca11a077dd33</td></tr><tr><td>6016dba70a720f05f8000285</td><td>2021-01-31T16:32:39.000Z</td><td>2021-01-31T16:32:39.000Z</td><td>null</td><td>2021-01-31T16:32:39.000Z</td><td>null</td><td>null</td><td>null</td><td>null</td><td>null</td><td>SUBMITTED</td><td>null</td><td>null</td><td>5fc961c3b8cfca11a077dd33</td></tr><tr><td>6018abb90a720f05f400006d</td><td>2021-02-02T01:32:41.000Z</td><td>2021-02-02T01:32:41.000Z</td><td>null</td><td>2021-02-02T01:32:41.000Z</td><td>null</td><td>null</td><td>null</td><td>null</td><td>null</td><td>SUBMITTED</td><td>null</td><td>null</td><td>5fc961c3b8cfca11a077dd33</td></tr><tr><td>5ffce7db0a720f051500236e</td><td>2021-01-12T00:05:47.000Z</td><td>2021-01-12T00:05:47.000Z</td><td>2021-01-12T00:05:49.000Z</td><td>2021-01-12T00:05:47.000Z</td><td>2021-01-12T00:00:00.000Z</td><td>null</td><td>null</td><td>null</td><td>null</td><td>PENDING</td><td>null</td><td>28.57</td><td>59c124bae4b0299e55b0f330</td></tr><tr><td>601f90920a720f053c0000f9</td><td>2021-02-07T07:02:42.000Z</td><td>2021-02-07T07:02:42.000Z</td><td>null</td><td>2021-02-07T07:02:42.000Z</td><td>null</td><td>null</td><td>null</td><td>null</td><td>null</td><td>SUBMITTED</td><td>null</td><td>null</td><td>5fc961c3b8cfca11a077dd33</td></tr><tr><td>603a479d0a7217c72c0001e7</td><td>2021-02-27T13:22:37.000Z</td><td>2021-02-27T13:22:37.000Z</td><td>null</td><td>2021-02-27T13:22:37.000Z</td><td>null</td><td>null</td><td>null</td><td>null</td><td>null</td><td>SUBMITTED</td><td>null</td><td>null</td><td>5fc961c3b8cfca11a077dd33</td></tr><tr><td>603a90430a7217c72c000226</td><td>2021-02-27T18:32:35.000Z</td><td>2021-02-27T18:32:35.000Z</td><td>null</td><td>2021-02-27T18:32:35.000Z</td><td>null</td><td>null</td><td>null</td><td>null</td><td>null</td><td>SUBMITTED</td><td>null</td><td>null</td><td>5fc961c3b8cfca11a077dd33</td></tr><tr><td>603aa55a0a7217c72c000233</td><td>2021-02-27T20:02:34.000Z</td><td>2021-02-27T20:02:34.000Z</td><td>null</td><td>2021-02-27T20:02:34.000Z</td><td>null</td><td>null</td><td>null</td><td>null</td><td>null</td><td>SUBMITTED</td><td>null</td><td>null</td><td>5fc961c3b8cfca11a077dd33</td></tr><tr><td>600082b40a720f05f3000058</td><td>2021-01-14T17:43:16.000Z</td><td>2021-01-14T17:43:16.000Z</td><td>null</td><td>2021-01-14T17:46:31.000Z</td><td>2021-01-14T00:00:00.000Z</td><td>null</td><td>null</td><td>null</td><td>null</td><td>REJECTED</td><td>4</td><td>4.00</td><td>5e56d38507a0df22a15dfc85</td></tr><tr><td>601a6c8d0a720f05f40001c4</td><td>2021-02-03T09:27:41.000Z</td><td>2021-02-03T09:27:41.000Z</td><td>null</td><td>2021-02-03T09:27:41.000Z</td><td>null</td><td>null</td><td>null</td><td>null</td><td>null</td><td>SUBMITTED</td><td>null</td><td>null</td><td>5fc961c3b8cfca11a077dd33</td></tr><tr><td>603c65060a720fde10000395</td><td>2021-03-01T03:52:38.000Z</td><td>2021-03-01T03:52:38.000Z</td><td>null</td><td>2021-03-01T03:52:38.000Z</td><td>null</td><td>null</td><td>null</td><td>null</td><td>null</td><td>SUBMITTED</td><td>null</td><td>null</td><td>5fc961c3b8cfca11a077dd33</td></tr><tr><td>601d75dd0a720f05a9000004</td><td>2021-02-05T16:44:13.000Z</td><td>2021-02-05T16:44:13.000Z</td><td>2021-02-05T16:44:13.000Z</td><td>2021-02-05T16:44:13.000Z</td><td>2021-02-05T00:00:00.000Z</td><td>null</td><td>null</td><td>null</td><td>null</td><td>PENDING</td><td>null</td><td>28.57</td><td>59c124bae4b0299e55b0f330</td></tr><tr><td>60175dba0a720f05f80002bf</td><td>2021-02-01T01:47:38.000Z</td><td>2021-02-01T01:47:38.000Z</td><td>null</td><td>2021-02-01T01:47:38.000Z</td><td>null</td><td>null</td><td>null</td><td>null</td><td>null</td><td>SUBMITTED</td><td>null</td><td>null</td><td>5fc961c3b8cfca11a077dd33</td></tr><tr><td>601b32160a7214ad28000221</td><td>2021-02-03T23:30:30.000Z</td><td>2021-02-03T23:30:30.000Z</td><td>null</td><td>2021-02-03T23:30:31.000Z</td><td>2019-01-03T00:00:00.000Z</td><td>null</td><td>null</td><td>null</td><td>null</td><td>REJECTED</td><td>0</td><td>0.00</td><td>5a43c08fe4b014fd6b6a0612</td></tr><tr><td>5ffce8000a7214ad4e002b57</td><td>2021-01-12T00:06:22.000Z</td><td>2021-01-12T00:06:22.000Z</td><td>null</td><td>2021-01-12T00:06:22.000Z</td><td>null</td><td>null</td><td>null</td><td>null</td><td>null</td><td>SUBMITTED</td><td>null</td><td>null</td><td>59c124bae4b0299e55b0f330</td></tr><tr><td>601455820a720f05f80000fb</td><td>2021-01-29T18:35:46.000Z</td><td>2021-01-29T18:35:46.000Z</td><td>null</td><td>2021-01-29T18:35:52.000Z</td><td>2021-01-29T00:00:00.000Z</td><td>null</td><td>5.00</td><td>5.00</td><td>All-receipts Receipt Bonus</td><td>REJECTED</td><td>1</td><td>10.00</td><td>6014558284231211ce796b88</td></tr><tr><td>60219c670a720f05a8000028</td><td>2021-02-08T20:17:43.000Z</td><td>2021-02-08T20:17:43.000Z</td><td>null</td><td>2021-02-08T20:17:43.000Z</td><td>null</td><td>null</td><td>null</td><td>null</td><td>null</td><td>SUBMITTED</td><td>null</td><td>null</td><td>5fc961c3b8cfca11a077dd33</td></tr><tr><td>6039fa430a720fde10000174</td><td>2021-02-27T07:52:35.000Z</td><td>2021-02-27T07:52:35.000Z</td><td>null</td><td>2021-02-27T07:52:35.000Z</td><td>null</td><td>null</td><td>null</td><td>null</td><td>null</td><td>SUBMITTED</td><td>null</td><td>null</td><td>5fc961c3b8cfca11a077dd33</td></tr><tr><td>5ff8c8880a7214adca000008</td><td>2021-01-08T21:03:04.000Z</td><td>2021-01-08T21:03:04.000Z</td><td>2021-01-08T21:03:05.000Z</td><td>2021-01-08T21:03:05.000Z</td><td>2021-01-08T00:00:00.000Z</td><td>null</td><td>0.00</td><td>null</td><td>null</td><td>FINISHED</td><td>2</td><td>6.18</td><td>5ff8c88604929111f6e913b7</td></tr><tr><td>603a81090a720fde100001e0</td><td>2021-02-27T17:27:37.000Z</td><td>2021-02-27T17:27:37.000Z</td><td>null</td><td>2021-02-27T17:27:37.000Z</td><td>null</td><td>null</td><td>null</td><td>null</td><td>null</td><td>SUBMITTED</td><td>null</td><td>null</td><td>5fc961c3b8cfca11a077dd33</td></tr><tr><td>603cd4570a7217c72c0003f5</td><td>2021-03-01T11:47:35.000Z</td><td>2021-03-01T11:47:35.000Z</td><td>null</td><td>2021-03-01T11:47:35.000Z</td><td>null</td><td>null</td><td>null</td><td>null</td><td>null</td><td>SUBMITTED</td><td>null</td><td>null</td><td>5fc961c3b8cfca11a077dd33</td></tr><tr><td>6015f2730a720f05f8000224</td><td>2021-01-30T23:57:39.000Z</td><td>2021-01-30T23:57:39.000Z</td><td>null</td><td>2021-01-30T23:57:39.000Z</td><td>null</td><td>null</td><td>null</td><td>null</td><td>null</td><td>SUBMITTED</td><td>null</td><td>null</td><td>5fc961c3b8cfca11a077dd33</td></tr><tr><td>60189c920a7214ad2800003a</td><td>2021-02-02T00:28:02.000Z</td><td>2021-02-02T00:28:02.000Z</td><td>null</td><td>2021-02-02T00:28:03.000Z</td><td>null</td><td>null</td><td>null</td><td>null</td><td>null</td><td>FLAGGED</td><td>0</td><td>0.00</td><td>60189c92c8b50e11d8454f5d</td></tr><tr><td>6015a2c30a7214ad5000018e</td><td>2021-01-30T18:17:39.000Z</td><td>2021-01-30T18:17:39.000Z</td><td>null</td><td>2021-01-30T18:17:39.000Z</td><td>null</td><td>null</td><td>null</td><td>null</td><td>null</td><td>SUBMITTED</td><td>null</td><td>null</td><td>5fc961c3b8cfca11a077dd33</td></tr><tr><td>601e0b830a720f053c00002e</td><td>2021-02-06T03:22:43.000Z</td><td>2021-02-06T03:22:43.000Z</td><td>null</td><td>2021-02-06T03:22:43.000Z</td><td>null</td><td>null</td><td>null</td><td>null</td><td>null</td><td>SUBMITTED</td><td>null</td><td>null</td><td>5fc961c3b8cfca11a077dd33</td></tr><tr><td>602345c20a7214d8e9000130</td><td>2021-02-10T02:32:34.000Z</td><td>2021-02-10T02:32:34.000Z</td><td>null</td><td>2021-02-10T02:32:34.000Z</td><td>null</td><td>null</td><td>null</td><td>null</td><td>null</td><td>SUBMITTED</td><td>null</td><td>null</td><td>5fc961c3b8cfca11a077dd33</td></tr><tr><td>601fcd820a7214ad250000db</td><td>2021-02-07T11:22:42.000Z</td><td>2021-02-07T11:22:42.000Z</td><td>null</td><td>2021-02-07T11:22:42.000Z</td><td>null</td><td>null</td><td>null</td><td>null</td><td>null</td><td>SUBMITTED</td><td>null</td><td>null</td><td>5fc961c3b8cfca11a077dd33</td></tr><tr><td>603cadab0a720fde100003d6</td><td>2021-03-01T09:02:35.000Z</td><td>2021-03-01T09:02:35.000Z</td><td>null</td><td>2021-03-01T09:02:35.000Z</td><td>null</td><td>null</td><td>null</td><td>null</td><td>null</td><td>SUBMITTED</td><td>null</td><td>null</td><td>5fc961c3b8cfca11a077dd33</td></tr><tr><td>6018ace50a7214ad28000057</td><td>2021-02-02T01:37:41.000Z</td><td>2021-02-02T01:37:41.000Z</td><td>null</td><td>2021-02-02T01:37:41.000Z</td><td>null</td><td>null</td><td>null</td><td>null</td><td>null</td><td>SUBMITTED</td><td>null</td><td>null</td><td>5fc961c3b8cfca11a077dd33</td></tr><tr><td>603d0b710a720fde1000042a</td><td>2021-03-01T15:42:41.000Z</td><td>2021-03-01T15:42:41.000Z</td><td>null</td><td>2021-03-01T15:42:41.000Z</td><td>null</td><td>null</td><td>null</td><td>null</td><td>null</td><td>SUBMITTED</td><td>null</td><td>null</td><td>5fc961c3b8cfca11a077dd33</td></tr><tr><td>601a93390a720f05f40001d5</td><td>2021-02-03T12:12:41.000Z</td><td>2021-02-03T12:12:41.000Z</td><td>null</td><td>2021-02-03T12:12:41.000Z</td><td>null</td><td>null</td><td>null</td><td>null</td><td>null</td><td>SUBMITTED</td><td>null</td><td>null</td><td>5fc961c3b8cfca11a077dd33</td></tr><tr><td>601f58540a7214ad250000ad</td><td>2021-02-07T03:02:44.000Z</td><td>2021-02-07T03:02:44.000Z</td><td>null</td><td>2021-02-07T03:02:44.000Z</td><td>null</td><td>null</td><td>null</td><td>null</td><td>null</td><td>SUBMITTED</td><td>null</td><td>null</td><td>5fc961c3b8cfca11a077dd33</td></tr><tr><td>601675b30a720f05f8000254</td><td>2021-01-31T09:17:39.000Z</td><td>2021-01-31T09:17:39.000Z</td><td>null</td><td>2021-01-31T09:17:39.000Z</td><td>null</td><td>null</td><td>null</td><td>null</td><td>null</td><td>SUBMITTED</td><td>null</td><td>null</td><td>5fc961c3b8cfca11a077dd33</td></tr><tr><td>601d7d340a7214ad5900086c</td><td>2021-02-05T17:15:32.000Z</td><td>2021-02-05T17:15:32.000Z</td><td>2021-02-05T17:15:32.000Z</td><td>2021-02-05T17:15:32.000Z</td><td>2021-02-05T00:00:00.000Z</td><td>null</td><td>null</td><td>null</td><td>null</td><td>PENDING</td><td>null</td><td>28.57</td><td>59c124bae4b0299e55b0f330</td></tr><tr><td>601e9a7b0a720f053c000074</td><td>2021-02-06T13:32:43.000Z</td><td>2021-02-06T13:32:43.000Z</td><td>null</td><td>2021-02-06T13:32:43.000Z</td><td>null</td><td>null</td><td>null</td><td>null</td><td>null</td><td>SUBMITTED</td><td>null</td><td>null</td><td>5fc961c3b8cfca11a077dd33</td></tr><tr><td>60231cbd0a720f05a8000108</td><td>2021-02-09T23:37:33.000Z</td><td>2021-02-09T23:37:33.000Z</td><td>null</td><td>2021-02-09T23:37:33.000Z</td><td>null</td><td>null</td><td>null</td><td>null</td><td>null</td><td>SUBMITTED</td><td>null</td><td>null</td><td>5fc961c3b8cfca11a077dd33</td></tr><tr><td>602393180a720f05a800013d</td><td>2021-02-10T08:02:32.000Z</td><td>2021-02-10T08:02:32.000Z</td><td>null</td><td>2021-02-10T08:02:32.000Z</td><td>null</td><td>null</td><td>null</td><td>null</td><td>null</td><td>SUBMITTED</td><td>null</td><td>null</td><td>5fc961c3b8cfca11a077dd33</td></tr><tr><td>603a327b0a7217c72c0001d1</td><td>2021-02-27T11:52:27.000Z</td><td>2021-02-27T11:52:27.000Z</td><td>null</td><td>2021-02-27T11:52:28.000Z</td><td>2020-08-17T00:00:00.000Z</td><td>null</td><td>25.00</td><td>25.00</td><td>Complete Nonpartner Receipt</td><td>REJECTED</td><td>2</td><td>34.96</td><td>5fc961c3b8cfca11a077dd33</td></tr><tr><td>6014dde60a7214ad50000132</td><td>2021-01-30T04:17:42.000Z</td><td>2021-01-30T04:17:42.000Z</td><td>null</td><td>2021-01-30T04:17:42.000Z</td><td>null</td><td>null</td><td>null</td><td>null</td><td>null</td><td>SUBMITTED</td><td>null</td><td>null</td><td>5fc961c3b8cfca11a077dd33</td></tr><tr><td>601bbf390a7214ad28000260</td><td>2021-02-04T09:32:41.000Z</td><td>2021-02-04T09:32:41.000Z</td><td>null</td><td>2021-02-04T09:32:41.000Z</td><td>null</td><td>null</td><td>null</td><td>null</td><td>null</td><td>SUBMITTED</td><td>null</td><td>null</td><td>5fc961c3b8cfca11a077dd33</td></tr><tr><td>601f8be40a7214ad250000c2</td><td>2021-02-07T06:42:44.000Z</td><td>2021-02-07T06:42:44.000Z</td><td>null</td><td>2021-02-07T06:42:44.000Z</td><td>null</td><td>null</td><td>null</td><td>null</td><td>null</td><td>SUBMITTED</td><td>null</td><td>null</td><td>5fc961c3b8cfca11a077dd33</td></tr><tr><td>6022d9f60a720f05a80000e8</td><td>2021-02-09T18:52:38.000Z</td><td>2021-02-09T18:52:38.000Z</td><td>null</td><td>2021-02-09T18:52:38.000Z</td><td>null</td><td>null</td><td>null</td><td>null</td><td>null</td><td>SUBMITTED</td><td>null</td><td>null</td><td>5fc961c3b8cfca11a077dd33</td></tr><tr><td>601e7d2e0a720f053c000067</td><td>2021-02-06T11:27:42.000Z</td><td>2021-02-06T11:27:42.000Z</td><td>null</td><td>2021-02-06T11:27:42.000Z</td><td>null</td><td>null</td><td>null</td><td>null</td><td>null</td><td>SUBMITTED</td><td>null</td><td>null</td><td>5fc961c3b8cfca11a077dd33</td></tr><tr><td>6015ca9c0a7214ad5000019c</td><td>2021-01-30T21:07:40.000Z</td><td>2021-01-30T21:07:40.000Z</td><td>null</td><td>2021-01-30T21:07:40.000Z</td><td>null</td><td>null</td><td>null</td><td>null</td><td>null</td><td>SUBMITTED</td><td>null</td><td>null</td><td>5fc961c3b8cfca11a077dd33</td></tr><tr><td>6022c2820a720f05a80000dd</td><td>2021-02-09T17:12:34.000Z</td><td>2021-02-09T17:12:34.000Z</td><td>null</td><td>2021-02-09T17:12:34.000Z</td><td>null</td><td>null</td><td>null</td><td>null</td><td>null</td><td>SUBMITTED</td><td>null</td><td>null</td><td>5fc961c3b8cfca11a077dd33</td></tr><tr><td>601e71780a7214ad2500004f</td><td>2021-02-06T10:37:44.000Z</td><td>2021-02-06T10:37:44.000Z</td><td>null</td><td>2021-02-06T10:37:44.000Z</td><td>null</td><td>null</td><td>null</td><td>null</td><td>null</td><td>SUBMITTED</td><td>null</td><td>null</td><td>5fc961c3b8cfca11a077dd33</td></tr><tr><td>602427ec0a720f05a8000180</td><td>2021-02-10T18:37:32.000Z</td><td>2021-02-10T18:37:32.000Z</td><td>null</td><td>2021-02-10T18:37:32.000Z</td><td>null</td><td>null</td><td>null</td><td>null</td><td>null</td><td>SUBMITTED</td><td>null</td><td>null</td><td>5fc961c3b8cfca11a077dd33</td></tr><tr><td>603882140a7217c72c00009c</td><td>2021-02-26T05:07:32.000Z</td><td>2021-02-26T05:07:32.000Z</td><td>null</td><td>2021-02-26T05:07:32.000Z</td><td>null</td><td>null</td><td>null</td><td>null</td><td>null</td><td>SUBMITTED</td><td>null</td><td>null</td><td>5fc961c3b8cfca11a077dd33</td></tr><tr><td>601551e70a7214ad5000016c</td><td>2021-01-30T12:32:39.000Z</td><td>2021-01-30T12:32:39.000Z</td><td>null</td><td>2021-01-30T12:32:39.000Z</td><td>null</td><td>null</td><td>null</td><td>null</td><td>null</td><td>SUBMITTED</td><td>null</td><td>null</td><td>5fc961c3b8cfca11a077dd33</td></tr><tr><td>60170bb30a720f05f800029d</td><td>2021-01-31T19:57:39.000Z</td><td>2021-01-31T19:57:39.000Z</td><td>null</td><td>2021-01-31T19:57:39.000Z</td><td>null</td><td>null</td><td>null</td><td>null</td><td>null</td><td>SUBMITTED</td><td>null</td><td>null</td><td>5fc961c3b8cfca11a077dd33</td></tr><tr><td>603d5d6c0a7217c72c000463</td><td>2021-03-01T21:32:28.000Z</td><td>2021-03-01T21:32:28.000Z</td><td>null</td><td>2021-03-01T21:32:29.000Z</td><td>2020-08-17T00:00:00.000Z</td><td>null</td><td>25.00</td><td>25.00</td><td>Complete Nonpartner Receipt</td><td>REJECTED</td><td>2</td><td>34.96</td><td>5fc961c3b8cfca11a077dd33</td></tr><tr><td>603a097e0a720fde10000180</td><td>2021-02-27T08:57:34.000Z</td><td>2021-02-27T08:57:34.000Z</td><td>null</td><td>2021-02-27T08:57:34.000Z</td><td>null</td><td>null</td><td>null</td><td>null</td><td>null</td><td>SUBMITTED</td><td>null</td><td>null</td><td>5fc961c3b8cfca11a077dd33</td></tr><tr><td>603c25b30a720fde1000035b</td><td>2021-02-28T23:22:27.000Z</td><td>2021-02-28T23:22:27.000Z</td><td>null</td><td>2021-02-28T23:22:28.000Z</td><td>2020-08-17T00:00:00.000Z</td><td>null</td><td>25.00</td><td>25.00</td><td>Complete Nonpartner Receipt</td><td>REJECTED</td><td>2</td><td>34.96</td><td>5fc961c3b8cfca11a077dd33</td></tr><tr><td>6016bad70a7214ad50000205</td><td>2021-01-31T14:12:39.000Z</td><td>2021-01-31T14:12:39.000Z</td><td>null</td><td>2021-01-31T14:12:39.000Z</td><td>null</td><td>null</td><td>null</td><td>null</td><td>null</td><td>SUBMITTED</td><td>null</td><td>null</td><td>5fc961c3b8cfca11a077dd33</td></tr><tr><td>603cac7d0a7217c72c0003d7</td><td>2021-03-01T08:57:33.000Z</td><td>2021-03-01T08:57:33.000Z</td><td>null</td><td>2021-03-01T08:57:33.000Z</td><td>null</td><td>null</td><td>null</td><td>null</td><td>null</td><td>SUBMITTED</td><td>null</td><td>null</td><td>5fc961c3b8cfca11a077dd33</td></tr><tr><td>603995740a720fde10000120</td><td>2021-02-27T00:42:28.000Z</td><td>2021-02-27T00:42:28.000Z</td><td>null</td><td>2021-02-27T00:42:29.000Z</td><td>2020-08-17T00:00:00.000Z</td><td>null</td><td>25.00</td><td>25.00</td><td>Complete Nonpartner Receipt</td><td>REJECTED</td><td>2</td><td>34.96</td><td>5fc961c3b8cfca11a077dd33</td></tr><tr><td>600496350a7214ad4c000087</td><td>2021-01-17T19:55:33.000Z</td><td>2021-01-17T19:55:33.000Z</td><td>null</td><td>2021-01-17T19:55:33.000Z</td><td>null</td><td>null</td><td>null</td><td>null</td><td>null</td><td>SUBMITTED</td><td>null</td><td>null</td><td>600495c3fb296c4ef805e1fc</td></tr><tr><td>6039f7e30a7217c72c00019a</td><td>2021-02-27T07:42:27.000Z</td><td>2021-02-27T07:42:27.000Z</td><td>null</td><td>2021-02-27T07:42:28.000Z</td><td>2020-08-17T00:00:00.000Z</td><td>null</td><td>25.00</td><td>25.00</td><td>Complete Nonpartner Receipt</td><td>REJECTED</td><td>2</td><td>34.96</td><td>5fc961c3b8cfca11a077dd33</td></tr><tr><td>602202540a720f05a800006a</td><td>2021-02-09T03:32:36.000Z</td><td>2021-02-09T03:32:36.000Z</td><td>null</td><td>2021-02-09T03:32:36.000Z</td><td>null</td><td>null</td><td>null</td><td>null</td><td>null</td><td>SUBMITTED</td><td>null</td><td>null</td><td>5fc961c3b8cfca11a077dd33</td></tr><tr><td>603cd57d0a7217c72c0003f6</td><td>2021-03-01T11:52:29.000Z</td><td>2021-03-01T11:52:29.000Z</td><td>null</td><td>2021-03-01T11:52:30.000Z</td><td>2020-08-17T00:00:00.000Z</td><td>null</td><td>25.00</td><td>25.00</td><td>Complete Nonpartner Receipt</td><td>REJECTED</td><td>2</td><td>34.96</td><td>5fc961c3b8cfca11a077dd33</td></tr><tr><td>5ffe23560a720f05ac006874</td><td>2021-01-12T22:31:50.000Z</td><td>2021-01-12T22:31:50.000Z</td><td>2021-01-12T22:31:50.000Z</td><td>2021-01-12T22:31:50.000Z</td><td>2021-01-12T00:00:00.000Z</td><td>null</td><td>null</td><td>null</td><td>null</td><td>PENDING</td><td>null</td><td>28.57</td><td>59c124bae4b0299e55b0f330</td></tr><tr><td>601d7b730a720f0554000006</td><td>2021-02-05T17:08:03.000Z</td><td>2021-02-05T17:08:03.000Z</td><td>2021-02-05T17:08:03.000Z</td><td>2021-02-05T17:08:03.000Z</td><td>2021-02-05T00:00:00.000Z</td><td>null</td><td>null</td><td>null</td><td>null</td><td>PENDING</td><td>null</td><td>28.57</td><td>59c124bae4b0299e55b0f330</td></tr><tr><td>601ad7310a720f05f4000206</td><td>2021-02-03T17:02:41.000Z</td><td>2021-02-03T17:02:41.000Z</td><td>null</td><td>2021-02-03T17:02:41.000Z</td><td>null</td><td>null</td><td>null</td><td>null</td><td>null</td><td>SUBMITTED</td><td>null</td><td>null</td><td>5fc961c3b8cfca11a077dd33</td></tr><tr><td>6026ef4b0a7214d8e9000349</td><td>2021-02-12T21:12:43.000Z</td><td>2021-02-12T21:12:43.000Z</td><td>null</td><td>2021-02-12T21:12:43.000Z</td><td>null</td><td>null</td><td>null</td><td>null</td><td>null</td><td>SUBMITTED</td><td>null</td><td>null</td><td>5fc961c3b8cfca11a077dd33</td></tr><tr><td>601fb3ba0a720f053c000109</td><td>2021-02-07T09:32:42.000Z</td><td>2021-02-07T09:32:42.000Z</td><td>null</td><td>2021-02-07T09:32:42.000Z</td><td>null</td><td>null</td><td>null</td><td>null</td><td>null</td><td>SUBMITTED</td><td>null</td><td>null</td><td>5fc961c3b8cfca11a077dd33</td></tr><tr><td>603bf8070a7217c72c000354</td><td>2021-02-28T20:07:35.000Z</td><td>2021-02-28T20:07:35.000Z</td><td>null</td><td>2021-02-28T20:07:35.000Z</td><td>null</td><td>null</td><td>null</td><td>null</td><td>null</td><td>SUBMITTED</td><td>null</td><td>null</td><td>5fc961c3b8cfca11a077dd33</td></tr><tr><td>601d7c180a720f05540002fd</td><td>2021-02-05T17:10:48.000Z</td><td>2021-02-05T17:10:48.000Z</td><td>2021-02-05T17:10:48.000Z</td><td>2021-02-05T17:10:48.000Z</td><td>2021-02-05T00:00:00.000Z</td><td>null</td><td>null</td><td>null</td><td>null</td><td>PENDING</td><td>null</td><td>28.57</td><td>59c124bae4b0299e55b0f330</td></tr><tr><td>603ac2a60a720fde10000217</td><td>2021-02-27T22:07:34.000Z</td><td>2021-02-27T22:07:34.000Z</td><td>null</td><td>2021-02-27T22:07:34.000Z</td><td>null</td><td>null</td><td>null</td><td>null</td><td>null</td><td>SUBMITTED</td><td>null</td><td>null</td><td>5fc961c3b8cfca11a077dd33</td></tr><tr><td>603d30e60a7217c72c00043f</td><td>2021-03-01T18:22:30.000Z</td><td>2021-03-01T18:22:30.000Z</td><td>null</td><td>2021-03-01T18:22:31.000Z</td><td>2020-08-17T00:00:00.000Z</td><td>null</td><td>25.00</td><td>25.00</td><td>Complete Nonpartner Receipt</td><td>REJECTED</td><td>2</td><td>34.96</td><td>5fc961c3b8cfca11a077dd33</td></tr><tr><td>6026f0780a720f05a800030c</td><td>2021-02-12T21:17:44.000Z</td><td>2021-02-12T21:17:44.000Z</td><td>null</td><td>2021-02-12T21:17:44.000Z</td><td>null</td><td>null</td><td>null</td><td>null</td><td>null</td><td>SUBMITTED</td><td>null</td><td>null</td><td>5fc961c3b8cfca11a077dd33</td></tr><tr><td>60390eb50a720fde100000b7</td><td>2021-02-26T15:07:33.000Z</td><td>2021-02-26T15:07:33.000Z</td><td>null</td><td>2021-02-26T15:07:33.000Z</td><td>null</td><td>null</td><td>null</td><td>null</td><td>null</td><td>SUBMITTED</td><td>null</td><td>null</td><td>5fc961c3b8cfca11a077dd33</td></tr><tr><td>600056ea0a720f05f300004b</td><td>2021-01-14T14:36:26.000Z</td><td>2021-01-14T14:36:26.000Z</td><td>null</td><td>2021-01-14T14:36:26.000Z</td><td>2021-01-13T14:36:26.000Z</td><td>null</td><td>25.00</td><td>25.00</td><td>Complete Nonpartner Receipt</td><td>FLAGGED</td><td>1</td><td>1.00</td><td>600056a3f7e5b011fce897b0</td></tr><tr><td>6015010b0a7214ad50000143</td><td>2021-01-30T06:47:39.000Z</td><td>2021-01-30T06:47:39.000Z</td><td>null</td><td>2021-01-30T06:47:39.000Z</td><td>null</td><td>null</td><td>null</td><td>null</td><td>null</td><td>SUBMITTED</td><td>null</td><td>null</td><td>5fc961c3b8cfca11a077dd33</td></tr><tr><td>6026c3f00a7214d8e9000337</td><td>2021-02-12T18:07:44.000Z</td><td>2021-02-12T18:07:44.000Z</td><td>null</td><td>2021-02-12T18:07:44.000Z</td><td>null</td><td>null</td><td>null</td><td>null</td><td>null</td><td>SUBMITTED</td><td>null</td><td>null</td><td>5fc961c3b8cfca11a077dd33</td></tr><tr><td>602175ba0a7214d8e9000007</td><td>2021-02-08T17:32:42.000Z</td><td>2021-02-08T17:32:42.000Z</td><td>null</td><td>2021-02-08T17:32:42.000Z</td><td>null</td><td>null</td><td>null</td><td>null</td><td>null</td><td>SUBMITTED</td><td>null</td><td>null</td><td>5fc961c3b8cfca11a077dd33</td></tr><tr><td>6026329d0a720f05a80002a7</td><td>2021-02-12T07:47:41.000Z</td><td>2021-02-12T07:47:41.000Z</td><td>null</td><td>2021-02-12T07:47:41.000Z</td><td>null</td><td>null</td><td>null</td><td>null</td><td>null</td><td>SUBMITTED</td><td>null</td><td>null</td><td>5fc961c3b8cfca11a077dd33</td></tr><tr><td>60189cb40a720f05f4000060</td><td>2021-02-02T00:28:36.000Z</td><td>2021-02-02T00:28:36.000Z</td><td>null</td><td>2021-02-02T00:28:37.000Z</td><td>2017-10-30T00:00:00.000Z</td><td>null</td><td>null</td><td>null</td><td>null</td><td>REJECTED</td><td>3</td><td>3.00</td><td>60189c74c8b50e11d8454eff</td></tr><tr><td>603983e20a7217c72c000138</td><td>2021-02-26T23:27:30.000Z</td><td>2021-02-26T23:27:30.000Z</td><td>null</td><td>2021-02-26T23:27:30.000Z</td><td>2020-08-17T00:00:00.000Z</td><td>null</td><td>25.00</td><td>25.00</td><td>Complete Nonpartner Receipt</td><td>REJECTED</td><td>2</td><td>34.96</td><td>5fc961c3b8cfca11a077dd33</td></tr><tr><td>6008f3270a720f05fa00012a</td><td>2021-01-21T03:21:11.000Z</td><td>2021-01-21T03:21:11.000Z</td><td>null</td><td>2021-01-21T03:21:54.000Z</td><td>null</td><td>null</td><td>null</td><td>null</td><td>null</td><td>FLAGGED</td><td>1</td><td>0.16</td><td>6008f02fb6310511daa4f314</td></tr><tr><td>6000d4bc0a7214ad4c000070</td><td>2021-01-14T23:33:16.000Z</td><td>2021-01-14T23:33:16.000Z</td><td>null</td><td>2021-01-14T23:33:17.000Z</td><td>2021-02-14T23:33:17.000Z</td><td>null</td><td>8700.00</td><td>null</td><td>null</td><td>FLAGGED</td><td>10</td><td>290.00</td><td>6000d46cfb296c121a81b20c</td></tr><tr><td>6018643e0a7214ad28000002</td><td>2021-02-01T20:27:42.000Z</td><td>2021-02-01T20:27:42.000Z</td><td>null</td><td>2021-02-01T20:27:42.000Z</td><td>null</td><td>null</td><td>null</td><td>null</td><td>null</td><td>SUBMITTED</td><td>null</td><td>null</td><td>5fc961c3b8cfca11a077dd33</td></tr><tr><td>601f35290a7214ad2500009c</td><td>2021-02-07T00:32:41.000Z</td><td>2021-02-07T00:32:41.000Z</td><td>null</td><td>2021-02-07T00:32:41.000Z</td><td>null</td><td>null</td><td>null</td><td>null</td><td>null</td><td>SUBMITTED</td><td>null</td><td>null</td><td>5fc961c3b8cfca11a077dd33</td></tr><tr><td>5ff726860a720f05230005ec</td><td>2021-01-07T15:19:34.000Z</td><td>2021-01-07T15:19:34.000Z</td><td>null</td><td>2021-01-07T15:19:34.000Z</td><td>null</td><td>null</td><td>null</td><td>null</td><td>null</td><td>SUBMITTED</td><td>null</td><td>null</td><td>5ff7264e8f142f11dd189504</td></tr><tr><td>600b89630a720f0535000011</td><td>2021-01-23T02:26:43.000Z</td><td>2021-01-23T02:26:43.000Z</td><td>null</td><td>2021-01-23T02:26:43.000Z</td><td>null</td><td>null</td><td>null</td><td>null</td><td>null</td><td>SUBMITTED</td><td>null</td><td>null</td><td>600b477e7d983a124e9ae061</td></tr><tr><td>601830cd0a720f05f800034f</td><td>2021-02-01T16:48:13.000Z</td><td>2021-02-01T16:48:13.000Z</td><td>null</td><td>2021-02-01T16:48:13.000Z</td><td>null</td><td>null</td><td>null</td><td>null</td><td>null</td><td>FLAGGED</td><td>0</td><td>0.00</td><td>601830cdc8b50e11d8454a6f</td></tr><tr><td>603973f80a720fde100000e3</td><td>2021-02-26T22:19:36.000Z</td><td>2021-02-26T22:19:36.000Z</td><td>null</td><td>2021-02-26T22:34:51.000Z</td><td>2020-08-17T00:00:00.000Z</td><td>null</td><td>25.00</td><td>25.00</td><td>Complete Nonpartner Receipt</td><td>REJECTED</td><td>2</td><td>34.96</td><td>5fc961c3b8cfca11a077dd33</td></tr><tr><td>602552c10a7214d8e9000255</td><td>2021-02-11T15:52:33.000Z</td><td>2021-02-11T15:52:33.000Z</td><td>null</td><td>2021-02-11T15:52:33.000Z</td><td>null</td><td>null</td><td>null</td><td>null</td><td>null</td><td>SUBMITTED</td><td>null</td><td>null</td><td>5fc961c3b8cfca11a077dd33</td></tr><tr><td>60107e3b0a720f0535000051</td><td>2021-01-26T20:40:27.000Z</td><td>2021-01-26T20:40:27.000Z</td><td>null</td><td>2021-01-26T20:40:29.000Z</td><td>2020-12-30T00:00:00.000Z</td><td>null</td><td>500.00</td><td>500.00</td><td>Receipt Number 2 Completed, Bonus Point Schedule </td><td>REJECTED</td><td>2</td><td>34.96</td><td>5fbc35711d967d1222cbfefc</td></tr><tr><td>602181720a7214d8e9000034</td><td>2021-02-08T18:22:42.000Z</td><td>2021-02-08T18:22:42.000Z</td><td>null</td><td>2021-02-08T18:22:42.000Z</td><td>null</td><td>null</td><td>null</td><td>null</td><td>null</td><td>SUBMITTED</td><td>null</td><td>null</td><td>5fc961c3b8cfca11a077dd33</td></tr><tr><td>601b14240a720f05f400021e</td><td>2021-02-03T21:22:44.000Z</td><td>2021-02-03T21:22:44.000Z</td><td>null</td><td>2021-02-03T21:22:44.000Z</td><td>null</td><td>null</td><td>null</td><td>null</td><td>null</td><td>SUBMITTED</td><td>null</td><td>null</td><td>5fc961c3b8cfca11a077dd33</td></tr><tr><td>601ab6630a720f05f40001eb</td><td>2021-02-03T14:42:43.000Z</td><td>2021-02-03T14:42:43.000Z</td><td>null</td><td>2021-02-03T14:42:43.000Z</td><td>null</td><td>null</td><td>null</td><td>null</td><td>null</td><td>SUBMITTED</td><td>null</td><td>null</td><td>5fc961c3b8cfca11a077dd33</td></tr><tr><td>602344970a7214d8e900012f</td><td>2021-02-10T02:27:34.000Z</td><td>2021-02-10T02:27:34.000Z</td><td>null</td><td>2021-02-10T02:27:34.000Z</td><td>null</td><td>null</td><td>null</td><td>null</td><td>null</td><td>SUBMITTED</td><td>null</td><td>null</td><td>5fc961c3b8cfca11a077dd33</td></tr><tr><td>5ffe23cf0a720f05ac006cc2</td><td>2021-01-12T22:33:51.000Z</td><td>2021-01-12T22:33:51.000Z</td><td>2021-01-12T22:33:51.000Z</td><td>2021-01-12T22:33:51.000Z</td><td>2021-01-12T00:00:00.000Z</td><td>null</td><td>null</td><td>null</td><td>null</td><td>PENDING</td><td>null</td><td>28.57</td><td>59c124bae4b0299e55b0f330</td></tr><tr><td>5ff794bf0a7214ada1000650</td><td>2021-01-06T23:09:51.000Z</td><td>2021-01-06T23:09:51.000Z</td><td>null</td><td>2021-01-07T17:09:53.000Z</td><td>2021-01-05T23:09:51.000Z</td><td>null</td><td>25.00</td><td>25.00</td><td>Complete Nonpartner Receipt</td><td>FLAGGED</td><td>1</td><td>1.00</td><td>5ff7930fb3348b11c93372a6</td></tr><tr><td>6015938d0a720f05f80001f6</td><td>2021-01-30T17:12:45.000Z</td><td>2021-01-30T17:12:45.000Z</td><td>null</td><td>2021-01-30T17:12:45.000Z</td><td>null</td><td>null</td><td>null</td><td>null</td><td>null</td><td>SUBMITTED</td><td>null</td><td>null</td><td>5fc961c3b8cfca11a077dd33</td></tr><tr><td>60088d920a720f05fa000109</td><td>2021-01-20T20:07:46.000Z</td><td>2021-01-20T20:07:46.000Z</td><td>null</td><td>2021-01-20T20:07:47.000Z</td><td>2017-10-30T00:00:00.000Z</td><td>null</td><td>null</td><td>null</td><td>null</td><td>REJECTED</td><td>3</td><td>3.00</td><td>60088d55633aab121bb8e41a</td></tr><tr><td>5ffe1aa90a7214ad280015e8</td><td>2021-01-12T21:54:49.000Z</td><td>2021-01-12T21:54:49.000Z</td><td>2021-01-12T21:54:49.000Z</td><td>2021-01-12T21:54:49.000Z</td><td>2021-01-12T00:00:00.000Z</td><td>null</td><td>null</td><td>null</td><td>null</td><td>PENDING</td><td>null</td><td>28.57</td><td>59c124bae4b0299e55b0f330</td></tr><tr><td>60397f340a7217c72c000133</td><td>2021-02-26T23:07:32.000Z</td><td>2021-02-26T23:07:32.000Z</td><td>null</td><td>2021-02-26T23:07:32.000Z</td><td>null</td><td>null</td><td>null</td><td>null</td><td>null</td><td>SUBMITTED</td><td>null</td><td>null</td><td>5fc961c3b8cfca11a077dd33</td></tr><tr><td>60393fef0a7217c72c0000ec</td><td>2021-02-26T18:37:35.000Z</td><td>2021-02-26T18:37:35.000Z</td><td>null</td><td>2021-02-26T18:37:35.000Z</td><td>null</td><td>null</td><td>null</td><td>null</td><td>null</td><td>SUBMITTED</td><td>null</td><td>null</td><td>5fc961c3b8cfca11a077dd33</td></tr><tr><td>6016d94f0a720f05f8000284</td><td>2021-01-31T16:22:39.000Z</td><td>2021-01-31T16:22:39.000Z</td><td>null</td><td>2021-01-31T16:22:39.000Z</td><td>null</td><td>null</td><td>null</td><td>null</td><td>null</td><td>SUBMITTED</td><td>null</td><td>null</td><td>5fc961c3b8cfca11a077dd33</td></tr><tr><td>60182d8c0a720f05f8000318</td><td>2021-02-01T16:34:20.000Z</td><td>2021-02-01T16:34:20.000Z</td><td>null</td><td>2021-02-01T16:34:20.000Z</td><td>2021-01-31T16:34:20.000Z</td><td>null</td><td>250.00</td><td>250.00</td><td>Receipt Number 3 Completed, Bonus Point Schedule </td><td>FLAGGED</td><td>1</td><td>1.00</td><td>60182d6dc8b50e11d84547b2</td></tr><tr><td>6020faae0a7214ad25000152</td><td>2021-02-08T08:47:42.000Z</td><td>2021-02-08T08:47:42.000Z</td><td>null</td><td>2021-02-08T08:47:42.000Z</td><td>null</td><td>null</td><td>null</td><td>null</td><td>null</td><td>SUBMITTED</td><td>null</td><td>null</td><td>5fc961c3b8cfca11a077dd33</td></tr><tr><td>601c540f0a720f05f40002be</td><td>2021-02-04T20:07:43.000Z</td><td>2021-02-04T20:07:43.000Z</td><td>null</td><td>2021-02-04T20:07:43.000Z</td><td>null</td><td>null</td><td>null</td><td>null</td><td>null</td><td>SUBMITTED</td><td>null</td><td>null</td><td>5fc961c3b8cfca11a077dd33</td></tr><tr><td>600254550a720f05f300008c</td><td>2021-01-16T02:49:57.000Z</td><td>2021-01-16T02:49:57.000Z</td><td>null</td><td>2021-01-16T02:49:57.000Z</td><td>null</td><td>null</td><td>null</td><td>null</td><td>null</td><td>SUBMITTED</td><td>null</td><td>null</td><td>6002541ae257124ec6b99a3a</td></tr><tr><td>5ffe1fa40a7214ad2800427f</td><td>2021-01-12T22:16:04.000Z</td><td>2021-01-12T22:16:04.000Z</td><td>2021-01-12T22:16:04.000Z</td><td>2021-01-12T22:16:04.000Z</td><td>2021-01-12T00:00:00.000Z</td><td>null</td><td>null</td><td>null</td><td>null</td><td>PENDING</td><td>null</td><td>28.57</td><td>59c124bae4b0299e55b0f330</td></tr><tr><td>60227c330a720f05a800009c</td><td>2021-02-09T12:12:35.000Z</td><td>2021-02-09T12:12:35.000Z</td><td>null</td><td>2021-02-09T12:12:35.000Z</td><td>null</td><td>null</td><td>null</td><td>null</td><td>null</td><td>SUBMITTED</td><td>null</td><td>null</td><td>5fc961c3b8cfca11a077dd33</td></tr><tr><td>600498e60a720f05f3000093</td><td>2021-01-17T20:07:02.000Z</td><td>2021-01-17T20:07:02.000Z</td><td>null</td><td>2021-01-17T20:07:02.000Z</td><td>null</td><td>null</td><td>null</td><td>null</td><td>null</td><td>SUBMITTED</td><td>null</td><td>null</td><td>600498c4e257124ec6b9a331</td></tr><tr><td>603908dd0a7217c72c0000d4</td><td>2021-02-26T14:42:37.000Z</td><td>2021-02-26T14:42:37.000Z</td><td>null</td><td>2021-02-26T14:42:37.000Z</td><td>null</td><td>null</td><td>null</td><td>null</td><td>null</td><td>SUBMITTED</td><td>null</td><td>null</td><td>5fc961c3b8cfca11a077dd33</td></tr><tr><td>601b5cc90a7214ad2800023a</td><td>2021-02-04T02:32:41.000Z</td><td>2021-02-04T02:32:41.000Z</td><td>null</td><td>2021-02-04T02:32:41.000Z</td><td>null</td><td>null</td><td>null</td><td>null</td><td>null</td><td>SUBMITTED</td><td>null</td><td>null</td><td>5fc961c3b8cfca11a077dd33</td></tr><tr><td>6001e3a80a7214ad4c000078</td><td>2021-01-15T18:49:10.000Z</td><td>2021-01-15T18:49:10.000Z</td><td>null</td><td>2021-01-15T18:49:10.000Z</td><td>null</td><td>null</td><td>null</td><td>null</td><td>null</td><td>SUBMITTED</td><td>null</td><td>null</td><td>5a43c08fe4b014fd6b6a0612</td></tr><tr><td>603946f60a720fde100000ce</td><td>2021-02-26T19:07:34.000Z</td><td>2021-02-26T19:07:34.000Z</td><td>null</td><td>2021-02-26T19:07:34.000Z</td><td>null</td><td>null</td><td>null</td><td>null</td><td>null</td><td>SUBMITTED</td><td>null</td><td>null</td><td>5fc961c3b8cfca11a077dd33</td></tr><tr><td>602569060a720f05a8000258</td><td>2021-02-11T17:27:34.000Z</td><td>2021-02-11T17:27:34.000Z</td><td>null</td><td>2021-02-11T17:27:34.000Z</td><td>null</td><td>null</td><td>null</td><td>null</td><td>null</td><td>SUBMITTED</td><td>null</td><td>null</td><td>5fc961c3b8cfca11a077dd33</td></tr><tr><td>603b0b4a0a720fde1000024e</td><td>2021-02-28T03:17:30.000Z</td><td>2021-02-28T03:17:30.000Z</td><td>null</td><td>2021-02-28T03:17:31.000Z</td><td>2020-08-17T00:00:00.000Z</td><td>null</td><td>25.00</td><td>25.00</td><td>Complete Nonpartner Receipt</td><td>REJECTED</td><td>2</td><td>34.96</td><td>5fc961c3b8cfca11a077dd33</td></tr><tr><td>601604070a7214ad500001b4</td><td>2021-01-31T01:12:39.000Z</td><td>2021-01-31T01:12:39.000Z</td><td>null</td><td>2021-01-31T01:12:39.000Z</td><td>null</td><td>null</td><td>null</td><td>null</td><td>null</td><td>SUBMITTED</td><td>null</td><td>null</td><td>5fc961c3b8cfca11a077dd33</td></tr><tr><td>602462850a720f05a80001b3</td><td>2021-02-10T22:47:33.000Z</td><td>2021-02-10T22:47:33.000Z</td><td>null</td><td>2021-02-10T22:47:33.000Z</td><td>null</td><td>null</td><td>null</td><td>null</td><td>null</td><td>SUBMITTED</td><td>null</td><td>null</td><td>5fc961c3b8cfca11a077dd33</td></tr><tr><td>5ff73be10a7214ada1000619</td><td>2021-01-07T16:50:41.000Z</td><td>2021-01-07T16:50:41.000Z</td><td>null</td><td>2021-01-07T16:50:41.000Z</td><td>2021-02-07T16:50:41.000Z</td><td>null</td><td>8700.00</td><td>null</td><td>null</td><td>FLAGGED</td><td>10</td><td>290.00</td><td>5ff73b90eb7c7d31ca8a452b</td></tr><tr><td>6021c0bb0a7214d8e900004e</td><td>2021-02-08T22:52:43.000Z</td><td>2021-02-08T22:52:43.000Z</td><td>null</td><td>2021-02-08T22:52:43.000Z</td><td>null</td><td>null</td><td>null</td><td>null</td><td>null</td><td>SUBMITTED</td><td>null</td><td>null</td><td>5fc961c3b8cfca11a077dd33</td></tr><tr><td>601d7d580a7214ad59000928</td><td>2021-02-05T17:16:08.000Z</td><td>2021-02-05T17:16:08.000Z</td><td>2021-02-05T17:16:08.000Z</td><td>2021-02-05T17:16:08.000Z</td><td>2021-02-05T00:00:00.000Z</td><td>null</td><td>null</td><td>null</td><td>null</td><td>PENDING</td><td>null</td><td>28.57</td><td>59c124bae4b0299e55b0f330</td></tr><tr><td>603c5ba30a720fde1000038d</td><td>2021-03-01T03:12:35.000Z</td><td>2021-03-01T03:12:35.000Z</td><td>null</td><td>2021-03-01T03:12:35.000Z</td><td>null</td><td>null</td><td>null</td><td>null</td><td>null</td><td>SUBMITTED</td><td>null</td><td>null</td><td>5fc961c3b8cfca11a077dd33</td></tr><tr><td>60108a5b0a7214ada2000057</td><td>2021-01-26T21:32:11.000Z</td><td>2021-01-26T21:32:11.000Z</td><td>null</td><td>2021-01-26T21:32:12.000Z</td><td>2020-12-30T00:00:00.000Z</td><td>null</td><td>500.00</td><td>500.00</td><td>Receipt Number 2 Completed, Bonus Point Schedule </td><td>REJECTED</td><td>2</td><td>34.96</td><td>5fbc35711d967d1222cbfefc</td></tr><tr><td>603cf5290a720fde10000413</td><td>2021-03-01T14:07:37.000Z</td><td>2021-03-01T14:07:37.000Z</td><td>null</td><td>2021-03-01T14:07:37.000Z</td><td>null</td><td>null</td><td>null</td><td>null</td><td>null</td><td>SUBMITTED</td><td>null</td><td>null</td><td>5fc961c3b8cfca11a077dd33</td></tr><tr><td>603b26430a720fde1000026c</td><td>2021-02-28T05:12:35.000Z</td><td>2021-02-28T05:12:35.000Z</td><td>null</td><td>2021-02-28T05:12:35.000Z</td><td>null</td><td>null</td><td>null</td><td>null</td><td>null</td><td>SUBMITTED</td><td>null</td><td>null</td><td>5fc961c3b8cfca11a077dd33</td></tr><tr><td>601a5afc0a7214ad2800019c</td><td>2021-02-03T08:12:44.000Z</td><td>2021-02-03T08:12:44.000Z</td><td>null</td><td>2021-02-03T08:12:44.000Z</td><td>null</td><td>null</td><td>null</td><td>null</td><td>null</td><td>SUBMITTED</td><td>null</td><td>null</td><td>5fc961c3b8cfca11a077dd33</td></tr><tr><td>6022bb780a7214d8e90000fb</td><td>2021-02-09T16:42:32.000Z</td><td>2021-02-09T16:42:32.000Z</td><td>null</td><td>2021-02-09T16:42:32.000Z</td><td>null</td><td>null</td><td>null</td><td>null</td><td>null</td><td>SUBMITTED</td><td>null</td><td>null</td><td>5fc961c3b8cfca11a077dd33</td></tr><tr><td>602686ff0a7214d8e9000301</td><td>2021-02-12T13:47:43.000Z</td><td>2021-02-12T13:47:43.000Z</td><td>null</td><td>2021-02-12T13:47:43.000Z</td><td>null</td><td>null</td><td>null</td><td>null</td><td>null</td><td>SUBMITTED</td><td>null</td><td>null</td><td>5fc961c3b8cfca11a077dd33</td></tr><tr><td>5ff5ecb90a7214ada10005f9</td><td>2021-01-06T17:00:40.000Z</td><td>2021-01-06T17:00:40.000Z</td><td>null</td><td>2021-01-06T17:00:40.000Z</td><td>null</td><td>null</td><td>null</td><td>null</td><td>null</td><td>SUBMITTED</td><td>null</td><td>null</td><td>5a43c08fe4b014fd6b6a0612</td></tr><tr><td>6015556b0a720f05f80001db</td><td>2021-01-30T12:47:39.000Z</td><td>2021-01-30T12:47:39.000Z</td><td>null</td><td>2021-01-30T12:47:39.000Z</td><td>null</td><td>null</td><td>null</td><td>null</td><td>null</td><td>SUBMITTED</td><td>null</td><td>null</td><td>5fc961c3b8cfca11a077dd33</td></tr><tr><td>6024aa030a720f05a80001d0</td><td>2021-02-11T03:52:35.000Z</td><td>2021-02-11T03:52:35.000Z</td><td>null</td><td>2021-02-11T03:52:35.000Z</td><td>null</td><td>null</td><td>null</td><td>null</td><td>null</td><td>SUBMITTED</td><td>null</td><td>null</td><td>5fc961c3b8cfca11a077dd33</td></tr><tr><td>60118c3b0a7214ada2000089</td><td>2021-01-27T15:52:27.000Z</td><td>2021-01-27T15:52:27.000Z</td><td>null</td><td>2021-01-27T15:52:28.000Z</td><td>2017-10-30T00:00:00.000Z</td><td>null</td><td>null</td><td>null</td><td>null</td><td>REJECTED</td><td>3</td><td>3.00</td><td>60118bcfa4b74c18d3a8c0d7</td></tr><tr><td>6039b8a20a7217c72c000164</td><td>2021-02-27T03:12:34.000Z</td><td>2021-02-27T03:12:34.000Z</td><td>null</td><td>2021-02-27T03:12:34.000Z</td><td>null</td><td>null</td><td>null</td><td>null</td><td>null</td><td>SUBMITTED</td><td>null</td><td>null</td><td>5fc961c3b8cfca11a077dd33</td></tr><tr><td>6026ada90a720f05a80002ed</td><td>2021-02-12T16:32:41.000Z</td><td>2021-02-12T16:32:41.000Z</td><td>null</td><td>2021-02-12T16:32:41.000Z</td><td>null</td><td>null</td><td>null</td><td>null</td><td>null</td><td>SUBMITTED</td><td>null</td><td>null</td><td>5fc961c3b8cfca11a077dd33</td></tr><tr><td>603c51160a7217c72c00038b</td><td>2021-03-01T02:27:34.000Z</td><td>2021-03-01T02:27:34.000Z</td><td>null</td><td>2021-03-01T02:27:34.000Z</td><td>null</td><td>null</td><td>null</td><td>null</td><td>null</td><td>SUBMITTED</td><td>null</td><td>null</td><td>5fc961c3b8cfca11a077dd33</td></tr><tr><td>5ffcef630a720f05150050ae</td><td>2021-01-12T00:37:55.000Z</td><td>2021-01-12T00:37:55.000Z</td><td>2021-01-12T00:37:55.000Z</td><td>2021-01-12T00:37:55.000Z</td><td>2021-01-12T00:00:00.000Z</td><td>null</td><td>null</td><td>null</td><td>null</td><td>PENDING</td><td>null</td><td>28.57</td><td>59c124bae4b0299e55b0f330</td></tr><tr><td>60212be60a7214ad25000166</td><td>2021-02-08T12:17:42.000Z</td><td>2021-02-08T12:17:42.000Z</td><td>null</td><td>2021-02-08T12:17:42.000Z</td><td>null</td><td>null</td><td>null</td><td>null</td><td>null</td><td>SUBMITTED</td><td>null</td><td>null</td><td>5fc961c3b8cfca11a077dd33</td></tr><tr><td>603af7660a7217c72c000280</td><td>2021-02-28T01:52:38.000Z</td><td>2021-02-28T01:52:38.000Z</td><td>null</td><td>2021-02-28T01:52:38.000Z</td><td>null</td><td>null</td><td>null</td><td>null</td><td>null</td><td>SUBMITTED</td><td>null</td><td>null</td><td>5fc961c3b8cfca11a077dd33</td></tr><tr><td>603bdbe10a7217c72c00033e</td><td>2021-02-28T18:07:29.000Z</td><td>2021-02-28T18:07:29.000Z</td><td>null</td><td>2021-02-28T18:07:30.000Z</td><td>2020-08-17T00:00:00.000Z</td><td>null</td><td>25.00</td><td>25.00</td><td>Complete Nonpartner Receipt</td><td>REJECTED</td><td>2</td><td>34.96</td><td>5fc961c3b8cfca11a077dd33</td></tr><tr><td>603ce7100a7217c72c000405</td><td>2021-03-01T13:07:28.000Z</td><td>2021-03-01T13:07:28.000Z</td><td>null</td><td>2021-03-01T13:07:29.000Z</td><td>2020-08-17T00:00:00.000Z</td><td>null</td><td>25.00</td><td>25.00</td><td>Complete Nonpartner Receipt</td><td>REJECTED</td><td>2</td><td>34.96</td><td>5fc961c3b8cfca11a077dd33</td></tr><tr><td>601487e20a7214ad5000010d</td><td>2021-01-29T22:10:42.000Z</td><td>2021-01-29T22:10:42.000Z</td><td>null</td><td>2021-01-29T22:10:42.000Z</td><td>null</td><td>null</td><td>null</td><td>null</td><td>null</td><td>SUBMITTED</td><td>null</td><td>null</td><td>5fc961c3b8cfca11a077dd33</td></tr><tr><td>60166d7e0a7214ad500001e9</td><td>2021-01-31T08:42:38.000Z</td><td>2021-01-31T08:42:38.000Z</td><td>null</td><td>2021-01-31T08:42:38.000Z</td><td>null</td><td>null</td><td>null</td><td>null</td><td>null</td><td>SUBMITTED</td><td>null</td><td>null</td><td>5fc961c3b8cfca11a077dd33</td></tr><tr><td>6025a8580a720f05a8000270</td><td>2021-02-11T21:57:44.000Z</td><td>2021-02-11T21:57:44.000Z</td><td>null</td><td>2021-02-11T21:57:44.000Z</td><td>null</td><td>null</td><td>null</td><td>null</td><td>null</td><td>SUBMITTED</td><td>null</td><td>null</td><td>5fc961c3b8cfca11a077dd33</td></tr><tr><td>602067080a7214ad2500011c</td><td>2021-02-07T22:17:44.000Z</td><td>2021-02-07T22:17:44.000Z</td><td>null</td><td>2021-02-07T22:17:44.000Z</td><td>null</td><td>null</td><td>null</td><td>null</td><td>null</td><td>SUBMITTED</td><td>null</td><td>null</td><td>5fc961c3b8cfca11a077dd33</td></tr><tr><td>6018a12c0a720f05f4000067</td><td>2021-02-02T00:47:39.000Z</td><td>2021-02-02T00:47:39.000Z</td><td>null</td><td>2021-02-02T00:47:39.000Z</td><td>null</td><td>null</td><td>null</td><td>null</td><td>null</td><td>SUBMITTED</td><td>null</td><td>null</td><td>5fc961c3b8cfca11a077dd33</td></tr><tr><td>60170e0c0a7214ad50000223</td><td>2021-01-31T20:07:40.000Z</td><td>2021-01-31T20:07:40.000Z</td><td>null</td><td>2021-01-31T20:07:40.000Z</td><td>null</td><td>null</td><td>null</td><td>null</td><td>null</td><td>SUBMITTED</td><td>null</td><td>null</td><td>5fc961c3b8cfca11a077dd33</td></tr><tr><td>601c87a00a7214ad280002f0</td><td>2021-02-04T23:47:44.000Z</td><td>2021-02-04T23:47:44.000Z</td><td>null</td><td>2021-02-04T23:47:44.000Z</td><td>null</td><td>null</td><td>null</td><td>null</td><td>null</td><td>SUBMITTED</td><td>null</td><td>null</td><td>5fc961c3b8cfca11a077dd33</td></tr><tr><td>601f29740a720f053c0000cc</td><td>2021-02-06T23:42:44.000Z</td><td>2021-02-06T23:42:44.000Z</td><td>null</td><td>2021-02-06T23:42:44.000Z</td><td>null</td><td>null</td><td>null</td><td>null</td><td>null</td><td>SUBMITTED</td><td>null</td><td>null</td><td>5fc961c3b8cfca11a077dd33</td></tr><tr><td>601bdc850a720f05f4000276</td><td>2021-02-04T11:37:41.000Z</td><td>2021-02-04T11:37:41.000Z</td><td>null</td><td>2021-02-04T11:37:41.000Z</td><td>null</td><td>null</td><td>null</td><td>null</td><td>null</td><td>SUBMITTED</td><td>null</td><td>null</td><td>5fc961c3b8cfca11a077dd33</td></tr><tr><td>6015c13b0a720f05f800020e</td><td>2021-01-30T20:27:39.000Z</td><td>2021-01-30T20:27:39.000Z</td><td>null</td><td>2021-01-30T20:27:39.000Z</td><td>null</td><td>null</td><td>null</td><td>null</td><td>null</td><td>SUBMITTED</td><td>null</td><td>null</td><td>5fc961c3b8cfca11a077dd33</td></tr><tr><td>5ffce76e0a720f0515000b48</td><td>2021-01-12T00:03:58.000Z</td><td>2021-01-12T00:03:58.000Z</td><td>2021-01-12T00:04:00.000Z</td><td>2021-01-12T00:03:58.000Z</td><td>2021-01-12T00:00:00.000Z</td><td>null</td><td>null</td><td>null</td><td>null</td><td>PENDING</td><td>null</td><td>28.57</td><td>59c124bae4b0299e55b0f330</td></tr><tr><td>5ffe20290a720f05ac004a84</td><td>2021-01-12T22:18:17.000Z</td><td>2021-01-12T22:18:17.000Z</td><td>2021-01-12T22:18:17.000Z</td><td>2021-01-12T22:18:17.000Z</td><td>2021-01-12T00:00:00.000Z</td><td>null</td><td>null</td><td>null</td><td>null</td><td>PENDING</td><td>null</td><td>28.57</td><td>59c124bae4b0299e55b0f330</td></tr><tr><td>601aaf5b0a720f05f40001dd</td><td>2021-02-03T14:12:43.000Z</td><td>2021-02-03T14:12:43.000Z</td><td>null</td><td>2021-02-03T14:12:43.000Z</td><td>null</td><td>null</td><td>null</td><td>null</td><td>null</td><td>SUBMITTED</td><td>null</td><td>null</td><td>5fc961c3b8cfca11a077dd33</td></tr><tr><td>601f7b7a0a720f053c0000ee</td><td>2021-02-07T05:32:42.000Z</td><td>2021-02-07T05:32:42.000Z</td><td>null</td><td>2021-02-07T05:32:42.000Z</td><td>null</td><td>null</td><td>null</td><td>null</td><td>null</td><td>SUBMITTED</td><td>null</td><td>null</td><td>5fc961c3b8cfca11a077dd33</td></tr><tr><td>601d02aa0a720f05f4000312</td><td>2021-02-05T08:32:42.000Z</td><td>2021-02-05T08:32:42.000Z</td><td>null</td><td>2021-02-05T08:32:42.000Z</td><td>null</td><td>null</td><td>null</td><td>null</td><td>null</td><td>SUBMITTED</td><td>null</td><td>null</td><td>5fc961c3b8cfca11a077dd33</td></tr><tr><td>603aeba50a7217c72c000272</td><td>2021-02-28T01:02:29.000Z</td><td>2021-02-28T01:02:29.000Z</td><td>null</td><td>2021-02-28T01:02:30.000Z</td><td>2020-08-17T00:00:00.000Z</td><td>null</td><td>25.00</td><td>25.00</td><td>Complete Nonpartner Receipt</td><td>REJECTED</td><td>2</td><td>34.96</td><td>5fc961c3b8cfca11a077dd33</td></tr><tr><td>6020b4610a7214ad25000139</td><td>2021-02-08T03:47:45.000Z</td><td>2021-02-08T03:47:45.000Z</td><td>null</td><td>2021-02-08T03:47:45.000Z</td><td>null</td><td>null</td><td>null</td><td>null</td><td>null</td><td>SUBMITTED</td><td>null</td><td>null</td><td>5fc961c3b8cfca11a077dd33</td></tr><tr><td>603af05c0a7217c72c00027a</td><td>2021-02-28T01:22:36.000Z</td><td>2021-02-28T01:22:36.000Z</td><td>null</td><td>2021-02-28T01:22:36.000Z</td><td>null</td><td>null</td><td>null</td><td>null</td><td>null</td><td>SUBMITTED</td><td>null</td><td>null</td><td>5fc961c3b8cfca11a077dd33</td></tr><tr><td>602467370a720f05a80001b7</td><td>2021-02-10T23:07:34.000Z</td><td>2021-02-10T23:07:34.000Z</td><td>null</td><td>2021-02-10T23:07:34.000Z</td><td>null</td><td>null</td><td>null</td><td>null</td><td>null</td><td>SUBMITTED</td><td>null</td><td>null</td><td>5fc961c3b8cfca11a077dd33</td></tr><tr><td>5ffce8310a7214ad4e003797</td><td>2021-01-12T00:07:13.000Z</td><td>2021-01-12T00:07:13.000Z</td><td>2021-01-12T00:07:14.000Z</td><td>2021-01-12T00:07:13.000Z</td><td>2021-01-12T00:00:00.000Z</td><td>null</td><td>null</td><td>null</td><td>null</td><td>PENDING</td><td>null</td><td>28.57</td><td>59c124bae4b0299e55b0f330</td></tr><tr><td>6039575d0a7217c72c0000f7</td><td>2021-02-26T20:17:33.000Z</td><td>2021-02-26T20:17:33.000Z</td><td>null</td><td>2021-02-26T20:17:33.000Z</td><td>null</td><td>null</td><td>null</td><td>null</td><td>null</td><td>SUBMITTED</td><td>null</td><td>null</td><td>5fc961c3b8cfca11a077dd33</td></tr><tr><td>60172b590a720f05f80002a9</td><td>2021-01-31T22:12:41.000Z</td><td>2021-01-31T22:12:41.000Z</td><td>null</td><td>2021-01-31T22:12:41.000Z</td><td>null</td><td>null</td><td>null</td><td>null</td><td>null</td><td>SUBMITTED</td><td>null</td><td>null</td><td>5fc961c3b8cfca11a077dd33</td></tr><tr><td>5ffe18b10a7214ad280003d1</td><td>2021-01-12T21:46:25.000Z</td><td>2021-01-12T21:46:25.000Z</td><td>2021-01-12T21:46:25.000Z</td><td>2021-01-12T21:46:25.000Z</td><td>2021-01-12T00:00:00.000Z</td><td>null</td><td>null</td><td>null</td><td>null</td><td>PENDING</td><td>null</td><td>28.57</td><td>59c124bae4b0299e55b0f330</td></tr><tr><td>60207fa20a7214ad25000123</td><td>2021-02-08T00:02:42.000Z</td><td>2021-02-08T00:02:42.000Z</td><td>null</td><td>2021-02-08T00:02:42.000Z</td><td>null</td><td>null</td><td>null</td><td>null</td><td>null</td><td>SUBMITTED</td><td>null</td><td>null</td><td>5fc961c3b8cfca11a077dd33</td></tr><tr><td>601bd57e0a7214ad2800026d</td><td>2021-02-04T11:07:42.000Z</td><td>2021-02-04T11:07:42.000Z</td><td>null</td><td>2021-02-04T11:07:42.000Z</td><td>null</td><td>null</td><td>null</td><td>null</td><td>null</td><td>SUBMITTED</td><td>null</td><td>null</td><td>5fc961c3b8cfca11a077dd33</td></tr><tr><td>5ffce7ae0a7214ad4e001851</td><td>2021-01-12T00:05:01.000Z</td><td>2021-01-12T00:05:01.000Z</td><td>null</td><td>2021-01-12T00:05:01.000Z</td><td>null</td><td>null</td><td>null</td><td>null</td><td>null</td><td>SUBMITTED</td><td>null</td><td>null</td><td>59c124bae4b0299e55b0f330</td></tr><tr><td>600f0cc70a720f053500002c</td><td>2021-01-25T18:24:07.000Z</td><td>2021-01-25T18:24:07.000Z</td><td>null</td><td>2021-01-25T18:38:07.000Z</td><td>2021-01-25T00:00:00.000Z</td><td>null</td><td>null</td><td>null</td><td>null</td><td>FLAGGED</td><td>303</td><td>2084.82</td><td>600f00d05edb787dce05fb84</td></tr><tr><td>603b991b0a720fde100002d2</td><td>2021-02-28T13:22:35.000Z</td><td>2021-02-28T13:22:35.000Z</td><td>null</td><td>2021-02-28T13:22:35.000Z</td><td>null</td><td>null</td><td>null</td><td>null</td><td>null</td><td>SUBMITTED</td><td>null</td><td>null</td><td>5fc961c3b8cfca11a077dd33</td></tr><tr><td>5ffc9dd00a720f05c5000051</td><td>2021-01-11T18:49:52.000Z</td><td>2021-01-11T18:49:52.000Z</td><td>null</td><td>2021-01-11T18:49:52.000Z</td><td>2021-01-10T18:49:52.000Z</td><td>null</td><td>25.00</td><td>25.00</td><td>Complete Nonpartner Receipt</td><td>FLAGGED</td><td>1</td><td>1.00</td><td>5ffc9d87b3348b11c9338920</td></tr><tr><td>6026f2cd0a7214d8e900034b</td><td>2021-02-12T21:27:41.000Z</td><td>2021-02-12T21:27:41.000Z</td><td>null</td><td>2021-02-12T21:27:41.000Z</td><td>null</td><td>null</td><td>null</td><td>null</td><td>null</td><td>SUBMITTED</td><td>null</td><td>null</td><td>5fc961c3b8cfca11a077dd33</td></tr><tr><td>602231350a7214d8e900009f</td><td>2021-02-09T06:52:37.000Z</td><td>2021-02-09T06:52:37.000Z</td><td>null</td><td>2021-02-09T06:52:37.000Z</td><td>null</td><td>null</td><td>null</td><td>null</td><td>null</td><td>SUBMITTED</td><td>null</td><td>null</td><td>5fc961c3b8cfca11a077dd33</td></tr><tr><td>60189c900a7214ad28000038</td><td>2021-02-02T00:28:00.000Z</td><td>2021-02-02T00:28:00.000Z</td><td>null</td><td>2021-02-02T00:28:05.000Z</td><td>2021-02-02T00:00:00.000Z</td><td>null</td><td>5.00</td><td>5.00</td><td>All-receipts Receipt Bonus</td><td>REJECTED</td><td>1</td><td>10.00</td><td>60189c90c8b50e11d8454f49</td></tr><tr><td>601d7c960a7214ad59000564</td><td>2021-02-05T17:12:54.000Z</td><td>2021-02-05T17:12:54.000Z</td><td>2021-02-05T17:12:54.000Z</td><td>2021-02-05T17:12:54.000Z</td><td>2021-02-05T00:00:00.000Z</td><td>null</td><td>null</td><td>null</td><td>null</td><td>PENDING</td><td>null</td><td>28.57</td><td>59c124bae4b0299e55b0f330</td></tr><tr><td>60267c710a720f05a80002c9</td><td>2021-02-12T13:02:41.000Z</td><td>2021-02-12T13:02:41.000Z</td><td>null</td><td>2021-02-12T13:02:41.000Z</td><td>null</td><td>null</td><td>null</td><td>null</td><td>null</td><td>SUBMITTED</td><td>null</td><td>null</td><td>5fc961c3b8cfca11a077dd33</td></tr><tr><td>601a2d450a7214ad2800018b</td><td>2021-02-03T04:57:41.000Z</td><td>2021-02-03T04:57:41.000Z</td><td>null</td><td>2021-02-03T04:57:41.000Z</td><td>null</td><td>null</td><td>null</td><td>null</td><td>null</td><td>SUBMITTED</td><td>null</td><td>null</td><td>5fc961c3b8cfca11a077dd33</td></tr><tr><td>601e128a0a7214ad2500002c</td><td>2021-02-06T03:52:42.000Z</td><td>2021-02-06T03:52:42.000Z</td><td>null</td><td>2021-02-06T03:52:42.000Z</td><td>null</td><td>null</td><td>null</td><td>null</td><td>null</td><td>SUBMITTED</td><td>null</td><td>null</td><td>5fc961c3b8cfca11a077dd33</td></tr><tr><td>5ffce78c0a7214ad4e001045</td><td>2021-01-12T00:04:27.000Z</td><td>2021-01-12T00:04:27.000Z</td><td>null</td><td>2021-01-12T00:04:27.000Z</td><td>null</td><td>null</td><td>null</td><td>null</td><td>null</td><td>SUBMITTED</td><td>null</td><td>null</td><td>59c124bae4b0299e55b0f330</td></tr><tr><td>601f2bca0a7214ad2500009a</td><td>2021-02-06T23:52:42.000Z</td><td>2021-02-06T23:52:42.000Z</td><td>null</td><td>2021-02-06T23:52:42.000Z</td><td>null</td><td>null</td><td>null</td><td>null</td><td>null</td><td>SUBMITTED</td><td>null</td><td>null</td><td>5fc961c3b8cfca11a077dd33</td></tr><tr><td>601868260a720f05f400000e</td><td>2021-02-01T20:44:22.000Z</td><td>2021-02-01T20:44:22.000Z</td><td>null</td><td>2021-02-01T20:44:22.000Z</td><td>null</td><td>null</td><td>null</td><td>null</td><td>null</td><td>SUBMITTED</td><td>null</td><td>null</td><td>60186237c8b50e11d8454d5f</td></tr><tr><td>603aab2f0a7217c72c00023a</td><td>2021-02-27T20:27:27.000Z</td><td>2021-02-27T20:27:27.000Z</td><td>null</td><td>2021-02-27T20:27:28.000Z</td><td>2020-08-17T00:00:00.000Z</td><td>null</td><td>25.00</td><td>25.00</td><td>Complete Nonpartner Receipt</td><td>REJECTED</td><td>2</td><td>34.96</td><td>5fc961c3b8cfca11a077dd33</td></tr><tr><td>6020a0720a720f053c000173</td><td>2021-02-08T02:22:42.000Z</td><td>2021-02-08T02:22:42.000Z</td><td>null</td><td>2021-02-08T02:22:42.000Z</td><td>null</td><td>null</td><td>null</td><td>null</td><td>null</td><td>SUBMITTED</td><td>null</td><td>null</td><td>5fc961c3b8cfca11a077dd33</td></tr></tbody></table></div>"
      ]
     },
     "metadata": {
      "application/vnd.databricks.v1+output": {
       "addedWidgets": {},
       "aggData": [],
       "aggError": "",
       "aggOverflow": false,
       "aggSchema": [],
       "aggSeriesLimitReached": false,
       "aggType": "",
       "arguments": {},
       "columnCustomDisplayInfos": {},
       "data": [
        [
         "6025c21e0a7214d8e90002ad",
         "2021-02-11T23:47:42.000Z",
         "2021-02-11T23:47:42.000Z",
         null,
         "2021-02-11T23:47:42.000Z",
         null,
         null,
         null,
         null,
         null,
         "SUBMITTED",
         null,
         null,
         "5fc961c3b8cfca11a077dd33"
        ],
        [
         "601e911a0a720f053c000070",
         "2021-02-06T12:52:42.000Z",
         "2021-02-06T12:52:42.000Z",
         null,
         "2021-02-06T12:52:42.000Z",
         null,
         null,
         null,
         null,
         null,
         "SUBMITTED",
         null,
         null,
         "5fc961c3b8cfca11a077dd33"
        ],
        [
         "603afc0e0a720fde10000243",
         "2021-02-28T02:12:30.000Z",
         "2021-02-28T02:12:30.000Z",
         null,
         "2021-02-28T02:12:31.000Z",
         "2020-08-17T00:00:00.000Z",
         null,
         "25.00",
         "25.00",
         "Complete Nonpartner Receipt",
         "REJECTED",
         2,
         "34.96",
         "5fc961c3b8cfca11a077dd33"
        ],
        [
         "60263d290a7214d8e90002e3",
         "2021-02-12T08:32:41.000Z",
         "2021-02-12T08:32:41.000Z",
         null,
         "2021-02-12T08:32:41.000Z",
         null,
         null,
         null,
         null,
         null,
         "SUBMITTED",
         null,
         null,
         "5fc961c3b8cfca11a077dd33"
        ],
        [
         "603c6adf0a720fde1000039a",
         "2021-03-01T04:17:35.000Z",
         "2021-03-01T04:17:35.000Z",
         null,
         "2021-03-01T04:17:35.000Z",
         null,
         null,
         null,
         null,
         null,
         "SUBMITTED",
         null,
         null,
         "5fc961c3b8cfca11a077dd33"
        ],
        [
         "601d7b8e0a720f0554000079",
         "2021-02-05T17:08:30.000Z",
         "2021-02-05T17:08:30.000Z",
         "2021-02-05T17:08:30.000Z",
         "2021-02-05T17:08:30.000Z",
         "2021-02-05T00:00:00.000Z",
         null,
         null,
         null,
         null,
         "PENDING",
         null,
         "28.57",
         "59c124bae4b0299e55b0f330"
        ],
        [
         "603c7c6c0a7217c72c0003b3",
         "2021-03-01T05:32:28.000Z",
         "2021-03-01T05:32:28.000Z",
         null,
         "2021-03-01T05:32:29.000Z",
         "2020-08-17T00:00:00.000Z",
         null,
         "25.00",
         "25.00",
         "Complete Nonpartner Receipt",
         "REJECTED",
         2,
         "34.96",
         "5fc961c3b8cfca11a077dd33"
        ],
        [
         "5ff1e1b60a7214ada100055c",
         "2021-01-03T15:24:38.000Z",
         "2021-01-03T15:24:38.000Z",
         null,
         "2021-01-03T15:24:38.000Z",
         "2021-02-03T15:24:38.000Z",
         null,
         "8850.00",
         "150.00",
         "Receipt Number 5 Completed, Bonus Point Schedule ",
         "FLAGGED",
         10,
         "290.00",
         "5ff1e194b6a9d73a3a9f1052"
        ],
        [
         "5ff873f10a720f052300064f",
         "2021-01-08T15:02:09.000Z",
         "2021-01-08T15:02:09.000Z",
         null,
         "2021-01-08T15:02:10.000Z",
         "2021-02-08T15:02:10.000Z",
         null,
         "9200.00",
         "500.00",
         "Receipt Number 2 Completed, Bonus Point Schedule ",
         "FLAGGED",
         10,
         "290.00",
         "5ff873d1b3348b11c9337716"
        ],
        [
         "603943720a7217c72c0000ed",
         "2021-02-26T18:52:34.000Z",
         "2021-02-26T18:52:34.000Z",
         null,
         "2021-02-26T18:52:34.000Z",
         null,
         null,
         null,
         null,
         null,
         "SUBMITTED",
         null,
         null,
         "5fc961c3b8cfca11a077dd33"
        ],
        [
         "60265f250a720f05a80002ba",
         "2021-02-12T10:57:41.000Z",
         "2021-02-12T10:57:41.000Z",
         null,
         "2021-02-12T10:57:41.000Z",
         null,
         null,
         null,
         null,
         null,
         "SUBMITTED",
         null,
         null,
         "5fc961c3b8cfca11a077dd33"
        ],
        [
         "603a86df0a720fde100001e3",
         "2021-02-27T17:52:31.000Z",
         "2021-02-27T17:52:31.000Z",
         null,
         "2021-02-27T17:52:32.000Z",
         "2020-08-17T00:00:00.000Z",
         null,
         "25.00",
         "25.00",
         "Complete Nonpartner Receipt",
         "REJECTED",
         2,
         "34.96",
         "5fc961c3b8cfca11a077dd33"
        ],
        [
         "601c702e0a7214ad280002e8",
         "2021-02-04T22:07:42.000Z",
         "2021-02-04T22:07:42.000Z",
         null,
         "2021-02-04T22:07:42.000Z",
         null,
         null,
         null,
         null,
         null,
         "SUBMITTED",
         null,
         null,
         "5fc961c3b8cfca11a077dd33"
        ],
        [
         "603a221b0a7217c72c0001c1",
         "2021-02-27T10:42:35.000Z",
         "2021-02-27T10:42:35.000Z",
         null,
         "2021-02-27T10:42:35.000Z",
         null,
         null,
         null,
         null,
         null,
         "SUBMITTED",
         null,
         null,
         "5fc961c3b8cfca11a077dd33"
        ],
        [
         "6018b1920a720f05f400006e",
         "2021-02-02T01:57:38.000Z",
         "2021-02-02T01:57:38.000Z",
         null,
         "2021-02-02T01:57:38.000Z",
         null,
         null,
         null,
         null,
         null,
         "SUBMITTED",
         null,
         null,
         "5fc961c3b8cfca11a077dd33"
        ],
        [
         "6039f3340a720fde1000016f",
         "2021-02-27T07:22:28.000Z",
         "2021-02-27T07:22:28.000Z",
         null,
         "2021-02-27T07:22:28.000Z",
         "2020-08-17T00:00:00.000Z",
         null,
         "25.00",
         "25.00",
         "Complete Nonpartner Receipt",
         "REJECTED",
         2,
         "34.96",
         "5fc961c3b8cfca11a077dd33"
        ],
        [
         "601e3b8f0a720f053c000043",
         "2021-02-06T06:47:43.000Z",
         "2021-02-06T06:47:43.000Z",
         null,
         "2021-02-06T06:47:43.000Z",
         null,
         null,
         null,
         null,
         null,
         "SUBMITTED",
         null,
         null,
         "5fc961c3b8cfca11a077dd33"
        ],
        [
         "6005ee0e0a7214ad4c000089",
         "2021-01-18T20:22:36.000Z",
         "2021-01-18T20:22:36.000Z",
         null,
         "2021-01-18T20:23:09.000Z",
         "2021-01-17T00:00:00.000Z",
         null,
         "800.00",
         "750.00",
         "Receipt Number 1 Completed, Bonus Point Schedule ",
         "FLAGGED",
         2,
         "10.00",
         "5fb0a078be5fc9775c1f3945"
        ],
        [
         "603d59e70a7217c72c00045f",
         "2021-03-01T21:17:27.000Z",
         "2021-03-01T21:17:27.000Z",
         null,
         "2021-03-01T21:17:28.000Z",
         "2020-08-17T00:00:00.000Z",
         null,
         "25.00",
         "25.00",
         "Complete Nonpartner Receipt",
         "REJECTED",
         2,
         "34.96",
         "5fc961c3b8cfca11a077dd33"
        ],
        [
         "603b7bcf0a7217c72c0002ec",
         "2021-02-28T11:17:35.000Z",
         "2021-02-28T11:17:35.000Z",
         null,
         "2021-02-28T11:17:35.000Z",
         null,
         null,
         null,
         null,
         null,
         "SUBMITTED",
         null,
         null,
         "5fc961c3b8cfca11a077dd33"
        ],
        [
         "601f1b660a720f053c0000c6",
         "2021-02-06T22:42:46.000Z",
         "2021-02-06T22:42:46.000Z",
         null,
         "2021-02-06T22:42:46.000Z",
         null,
         null,
         null,
         null,
         null,
         "SUBMITTED",
         null,
         null,
         "5fc961c3b8cfca11a077dd33"
        ],
        [
         "602017570a720f053c000132",
         "2021-02-07T16:37:43.000Z",
         "2021-02-07T16:37:43.000Z",
         null,
         "2021-02-07T16:37:43.000Z",
         null,
         null,
         null,
         null,
         null,
         "SUBMITTED",
         null,
         null,
         "5fc961c3b8cfca11a077dd33"
        ],
        [
         "603b37d80a7217c72c0002b3",
         "2021-02-28T06:27:36.000Z",
         "2021-02-28T06:27:36.000Z",
         null,
         "2021-02-28T06:27:36.000Z",
         null,
         null,
         null,
         null,
         null,
         "SUBMITTED",
         null,
         null,
         "5fc961c3b8cfca11a077dd33"
        ],
        [
         "603989c30a720fde10000111",
         "2021-02-26T23:52:35.000Z",
         "2021-02-26T23:52:35.000Z",
         null,
         "2021-02-26T23:52:35.000Z",
         null,
         null,
         null,
         null,
         null,
         "SUBMITTED",
         null,
         null,
         "5fc961c3b8cfca11a077dd33"
        ],
        [
         "6025f0fe0a720f05a800028f",
         "2021-02-12T03:07:42.000Z",
         "2021-02-12T03:07:42.000Z",
         null,
         "2021-02-12T03:07:42.000Z",
         null,
         null,
         null,
         null,
         null,
         "SUBMITTED",
         null,
         null,
         "5fc961c3b8cfca11a077dd33"
        ],
        [
         "60025eb70a720f05f300008e",
         "2021-01-16T03:34:15.000Z",
         "2021-01-16T03:34:15.000Z",
         null,
         "2021-01-16T03:34:15.000Z",
         null,
         null,
         null,
         null,
         null,
         "SUBMITTED",
         null,
         null,
         "60025c65fb296c4ef805d9e6"
        ],
        [
         "601487f80a720f05f800018d",
         "2021-01-29T22:11:04.000Z",
         "2021-01-29T22:11:04.000Z",
         null,
         "2021-01-29T22:11:04.000Z",
         null,
         null,
         null,
         null,
         null,
         "SUBMITTED",
         null,
         null,
         "5fc961c3b8cfca11a077dd33"
        ],
        [
         "601ed9c40a7214ad25000078",
         "2021-02-06T18:02:44.000Z",
         "2021-02-06T18:02:44.000Z",
         null,
         "2021-02-06T18:02:44.000Z",
         null,
         null,
         null,
         null,
         null,
         "SUBMITTED",
         null,
         null,
         "5fc961c3b8cfca11a077dd33"
        ],
        [
         "6038a5400a720fde10000088",
         "2021-02-26T07:37:35.000Z",
         "2021-02-26T07:37:35.000Z",
         null,
         "2021-02-26T07:37:35.000Z",
         null,
         null,
         null,
         null,
         null,
         "SUBMITTED",
         null,
         null,
         "5fc961c3b8cfca11a077dd33"
        ],
        [
         "601747780a7214ad5000023b",
         "2021-02-01T00:12:40.000Z",
         "2021-02-01T00:12:40.000Z",
         null,
         "2021-02-01T00:12:40.000Z",
         null,
         null,
         null,
         null,
         null,
         "SUBMITTED",
         null,
         null,
         "5fc961c3b8cfca11a077dd33"
        ],
        [
         "6015637b0a7214ad50000175",
         "2021-01-30T13:47:39.000Z",
         "2021-01-30T13:47:39.000Z",
         null,
         "2021-01-30T13:47:39.000Z",
         null,
         null,
         null,
         null,
         null,
         "SUBMITTED",
         null,
         null,
         "5fc961c3b8cfca11a077dd33"
        ],
        [
         "6020cbce0a7214ad25000140",
         "2021-02-08T05:27:42.000Z",
         "2021-02-08T05:27:42.000Z",
         null,
         "2021-02-08T05:27:42.000Z",
         null,
         null,
         null,
         null,
         null,
         "SUBMITTED",
         null,
         null,
         "5fc961c3b8cfca11a077dd33"
        ],
        [
         "60132b890a7214ad50000013",
         "2021-01-28T21:24:25.000Z",
         "2021-01-28T21:24:25.000Z",
         null,
         "2021-01-28T21:24:25.000Z",
         null,
         null,
         null,
         null,
         null,
         "FLAGGED",
         0,
         "0.00",
         "60132b8873c60b3ca7f3bae8"
        ],
        [
         "601b730f0a7214ad28000243",
         "2021-02-04T04:07:43.000Z",
         "2021-02-04T04:07:43.000Z",
         null,
         "2021-02-04T04:07:43.000Z",
         null,
         null,
         null,
         null,
         null,
         "SUBMITTED",
         null,
         null,
         "5fc961c3b8cfca11a077dd33"
        ],
        [
         "60145a540a720f05f8000116",
         "2021-01-29T18:56:20.000Z",
         "2021-01-29T18:56:20.000Z",
         null,
         "2021-01-29T18:56:20.000Z",
         null,
         null,
         null,
         null,
         null,
         "FLAGGED",
         0,
         "0.00",
         "60145a5467804a1228b20ded"
        ],
        [
         "601ffa0a0a7214ad250000f2",
         "2021-02-07T14:32:42.000Z",
         "2021-02-07T14:32:42.000Z",
         null,
         "2021-02-07T14:32:42.000Z",
         null,
         null,
         null,
         null,
         null,
         "SUBMITTED",
         null,
         null,
         "5fc961c3b8cfca11a077dd33"
        ],
        [
         "601d7d2c0a720f05540007fa",
         "2021-02-05T17:15:24.000Z",
         "2021-02-05T17:15:24.000Z",
         "2021-02-05T17:15:24.000Z",
         "2021-02-05T17:15:24.000Z",
         "2021-02-05T00:00:00.000Z",
         null,
         null,
         null,
         null,
         "PENDING",
         null,
         "28.57",
         "59c124bae4b0299e55b0f330"
        ],
        [
         "5ffe1cbe0a7214ad28002843",
         "2021-01-12T22:03:42.000Z",
         "2021-01-12T22:03:42.000Z",
         "2021-01-12T22:03:42.000Z",
         "2021-01-12T22:03:42.000Z",
         "2021-01-12T00:00:00.000Z",
         null,
         null,
         null,
         null,
         "PENDING",
         null,
         "28.57",
         "59c124bae4b0299e55b0f330"
        ],
        [
         "601eb8f30a720f053c000099",
         "2021-02-06T15:42:42.000Z",
         "2021-02-06T15:42:42.000Z",
         null,
         "2021-02-06T15:42:42.000Z",
         null,
         null,
         null,
         null,
         null,
         "SUBMITTED",
         null,
         null,
         "5fc961c3b8cfca11a077dd33"
        ],
        [
         "601697af0a720f05f8000263",
         "2021-01-31T11:42:39.000Z",
         "2021-01-31T11:42:39.000Z",
         null,
         "2021-01-31T11:42:39.000Z",
         null,
         null,
         null,
         null,
         null,
         "SUBMITTED",
         null,
         null,
         "5fc961c3b8cfca11a077dd33"
        ],
        [
         "601890c70a7214ad28000028",
         "2021-02-01T23:37:43.000Z",
         "2021-02-01T23:37:43.000Z",
         null,
         "2021-02-01T23:37:43.000Z",
         "2021-01-31T23:37:43.000Z",
         null,
         "25.00",
         "25.00",
         "Complete Nonpartner Receipt",
         "FLAGGED",
         1,
         "1.00",
         "601890689a1b091205b61c87"
        ],
        [
         "6015d8ab0a720f05f8000218",
         "2021-01-30T22:07:39.000Z",
         "2021-01-30T22:07:39.000Z",
         null,
         "2021-01-30T22:07:39.000Z",
         null,
         null,
         null,
         null,
         null,
         "SUBMITTED",
         null,
         null,
         "5fc961c3b8cfca11a077dd33"
        ],
        [
         "6022e8000a720f05a80000ef",
         "2021-02-09T19:52:32.000Z",
         "2021-02-09T19:52:32.000Z",
         null,
         "2021-02-09T19:52:32.000Z",
         null,
         null,
         null,
         null,
         null,
         "SUBMITTED",
         null,
         null,
         "5fc961c3b8cfca11a077dd33"
        ],
        [
         "601af5aa0a720f05f4000214",
         "2021-02-03T19:12:42.000Z",
         "2021-02-03T19:12:42.000Z",
         null,
         "2021-02-03T19:12:42.000Z",
         null,
         null,
         null,
         null,
         null,
         "SUBMITTED",
         null,
         null,
         "5fc961c3b8cfca11a077dd33"
        ],
        [
         "5ff1e1d40a7214ada1000562",
         "2021-01-03T15:25:08.000Z",
         "2021-01-03T15:25:08.000Z",
         null,
         "2021-01-03T15:25:08.000Z",
         "2017-10-30T00:00:00.000Z",
         null,
         null,
         null,
         null,
         "REJECTED",
         3,
         "3.00",
         "5ff1e194b6a9d73a3a9f1052"
        ],
        [
         "603900a60a720fde100000b1",
         "2021-02-26T14:07:34.000Z",
         "2021-02-26T14:07:34.000Z",
         null,
         "2021-02-26T14:07:34.000Z",
         null,
         null,
         null,
         null,
         null,
         "SUBMITTED",
         null,
         null,
         "5fc961c3b8cfca11a077dd33"
        ],
        [
         "6018369f0a7214ad500002f1",
         "2021-02-01T17:13:03.000Z",
         "2021-02-01T17:13:03.000Z",
         null,
         "2021-02-01T17:13:04.000Z",
         "2021-01-31T17:13:03.000Z",
         null,
         "150.00",
         "150.00",
         "Receipt Number 5 Completed, Bonus Point Schedule ",
         "FLAGGED",
         1,
         "1.00",
         "601836829a1b091205b6194d"
        ],
        [
         "601c11410a720f05f400028e",
         "2021-02-04T15:22:41.000Z",
         "2021-02-04T15:22:41.000Z",
         null,
         "2021-02-04T15:22:41.000Z",
         null,
         null,
         null,
         null,
         null,
         "SUBMITTED",
         null,
         null,
         "5fc961c3b8cfca11a077dd33"
        ],
        [
         "6025fde20a720f05a8000294",
         "2021-02-12T04:02:42.000Z",
         "2021-02-12T04:02:42.000Z",
         null,
         "2021-02-12T04:02:42.000Z",
         null,
         null,
         null,
         null,
         null,
         "SUBMITTED",
         null,
         null,
         "5fc961c3b8cfca11a077dd33"
        ],
        [
         "60395d3c0a7217c72c0000f9",
         "2021-02-26T20:42:36.000Z",
         "2021-02-26T20:42:36.000Z",
         null,
         "2021-02-26T20:42:36.000Z",
         null,
         null,
         null,
         null,
         null,
         "SUBMITTED",
         null,
         null,
         "5fc961c3b8cfca11a077dd33"
        ],
        [
         "60392d2d0a720fde100000c1",
         "2021-02-26T17:17:33.000Z",
         "2021-02-26T17:17:33.000Z",
         null,
         "2021-02-26T17:17:33.000Z",
         null,
         null,
         null,
         null,
         null,
         "SUBMITTED",
         null,
         null,
         "5fc961c3b8cfca11a077dd33"
        ],
        [
         "601d7cd30a720f0554000663",
         "2021-02-05T17:13:55.000Z",
         "2021-02-05T17:13:55.000Z",
         "2021-02-05T17:13:55.000Z",
         "2021-02-05T17:13:55.000Z",
         "2021-02-05T00:00:00.000Z",
         null,
         null,
         null,
         null,
         "PENDING",
         null,
         "28.57",
         "59c124bae4b0299e55b0f330"
        ],
        [
         "601561230a7214ad50000173",
         "2021-01-30T13:37:39.000Z",
         "2021-01-30T13:37:39.000Z",
         null,
         "2021-01-30T13:37:39.000Z",
         null,
         null,
         null,
         null,
         null,
         "SUBMITTED",
         null,
         null,
         "5fc961c3b8cfca11a077dd33"
        ],
        [
         "60150cc40a720f05f80001c3",
         "2021-01-30T07:37:40.000Z",
         "2021-01-30T07:37:40.000Z",
         null,
         "2021-01-30T07:37:40.000Z",
         null,
         null,
         null,
         null,
         null,
         "SUBMITTED",
         null,
         null,
         "5fc961c3b8cfca11a077dd33"
        ],
        [
         "603b1a8c0a720fde1000025d",
         "2021-02-28T04:22:36.000Z",
         "2021-02-28T04:22:36.000Z",
         null,
         "2021-02-28T04:22:36.000Z",
         null,
         null,
         null,
         null,
         null,
         "SUBMITTED",
         null,
         null,
         "5fc961c3b8cfca11a077dd33"
        ],
        [
         "601b32150a7214ad28000220",
         "2021-02-03T23:30:29.000Z",
         "2021-02-03T23:30:29.000Z",
         null,
         "2021-02-03T23:30:29.000Z",
         null,
         null,
         null,
         null,
         null,
         "SUBMITTED",
         null,
         null,
         "5a43c08fe4b014fd6b6a0612"
        ],
        [
         "6020eb730a720f053c000197",
         "2021-02-08T07:42:43.000Z",
         "2021-02-08T07:42:43.000Z",
         null,
         "2021-02-08T07:42:43.000Z",
         null,
         null,
         null,
         null,
         null,
         "SUBMITTED",
         null,
         null,
         "5fc961c3b8cfca11a077dd33"
        ],
        [
         "601d7ca40a720f055400058b",
         "2021-02-05T17:13:08.000Z",
         "2021-02-05T17:13:08.000Z",
         "2021-02-05T17:13:08.000Z",
         "2021-02-05T17:13:08.000Z",
         "2021-02-05T00:00:00.000Z",
         null,
         null,
         null,
         null,
         "PENDING",
         null,
         "28.57",
         "59c124bae4b0299e55b0f330"
        ],
        [
         "6016df2c0a720f05f8000288",
         "2021-01-31T16:47:40.000Z",
         "2021-01-31T16:47:40.000Z",
         null,
         "2021-01-31T16:47:40.000Z",
         null,
         null,
         null,
         null,
         null,
         "SUBMITTED",
         null,
         null,
         "5fc961c3b8cfca11a077dd33"
        ],
        [
         "601b0bf00a720f05f400021b",
         "2021-02-03T20:47:44.000Z",
         "2021-02-03T20:47:44.000Z",
         null,
         "2021-02-03T20:47:44.000Z",
         null,
         null,
         null,
         null,
         null,
         "SUBMITTED",
         null,
         null,
         "5fc961c3b8cfca11a077dd33"
        ],
        [
         "602561fd0a7214d8e9000273",
         "2021-02-11T16:57:33.000Z",
         "2021-02-11T16:57:33.000Z",
         null,
         "2021-02-11T16:57:33.000Z",
         null,
         null,
         null,
         null,
         null,
         "SUBMITTED",
         null,
         null,
         "5fc961c3b8cfca11a077dd33"
        ],
        [
         "601fda670a720f053c00011a",
         "2021-02-07T12:17:43.000Z",
         "2021-02-07T12:17:43.000Z",
         null,
         "2021-02-07T12:17:43.000Z",
         null,
         null,
         null,
         null,
         null,
         "SUBMITTED",
         null,
         null,
         "5fc961c3b8cfca11a077dd33"
        ],
        [
         "601c2d630a7214ad280002a7",
         "2021-02-04T17:22:43.000Z",
         "2021-02-04T17:22:43.000Z",
         null,
         "2021-02-04T17:22:43.000Z",
         null,
         null,
         null,
         null,
         null,
         "SUBMITTED",
         null,
         null,
         "5fc961c3b8cfca11a077dd33"
        ],
        [
         "602380580a7214d8e900014a",
         "2021-02-10T06:42:32.000Z",
         "2021-02-10T06:42:32.000Z",
         null,
         "2021-02-10T06:42:32.000Z",
         null,
         null,
         null,
         null,
         null,
         "SUBMITTED",
         null,
         null,
         "5fc961c3b8cfca11a077dd33"
        ],
        [
         "6020e46b0a720f053c000194",
         "2021-02-08T07:12:43.000Z",
         "2021-02-08T07:12:43.000Z",
         null,
         "2021-02-08T07:12:43.000Z",
         null,
         null,
         null,
         null,
         null,
         "SUBMITTED",
         null,
         null,
         "5fc961c3b8cfca11a077dd33"
        ],
        [
         "6021d63a0a7214d8e9000058",
         "2021-02-09T00:24:26.000Z",
         "2021-02-09T00:24:26.000Z",
         null,
         "2021-02-09T00:24:26.000Z",
         null,
         null,
         null,
         null,
         null,
         "SUBMITTED",
         null,
         null,
         "5fc961c3b8cfca11a077dd33"
        ],
        [
         "603a16620a7217c72c0001b8",
         "2021-02-27T09:52:34.000Z",
         "2021-02-27T09:52:34.000Z",
         null,
         "2021-02-27T09:52:34.000Z",
         null,
         null,
         null,
         null,
         null,
         "SUBMITTED",
         null,
         null,
         "5fc961c3b8cfca11a077dd33"
        ],
        [
         "603bf0fe0a7217c72c00034f",
         "2021-02-28T19:37:34.000Z",
         "2021-02-28T19:37:34.000Z",
         null,
         "2021-02-28T19:37:34.000Z",
         null,
         null,
         null,
         null,
         null,
         "SUBMITTED",
         null,
         null,
         "5fc961c3b8cfca11a077dd33"
        ],
        [
         "6016560f0a7214ad500001dd",
         "2021-01-31T07:02:39.000Z",
         "2021-01-31T07:02:39.000Z",
         null,
         "2021-01-31T07:02:39.000Z",
         null,
         null,
         null,
         null,
         null,
         "SUBMITTED",
         null,
         null,
         "5fc961c3b8cfca11a077dd33"
        ],
        [
         "6015268a0a7214ad50000155",
         "2021-01-30T09:27:38.000Z",
         "2021-01-30T09:27:38.000Z",
         null,
         "2021-01-30T09:27:38.000Z",
         null,
         null,
         null,
         null,
         null,
         "SUBMITTED",
         null,
         null,
         "5fc961c3b8cfca11a077dd33"
        ],
        [
         "601a74c20a720f05f40001c8",
         "2021-02-03T10:02:42.000Z",
         "2021-02-03T10:02:42.000Z",
         null,
         "2021-02-03T10:02:42.000Z",
         null,
         null,
         null,
         null,
         null,
         "SUBMITTED",
         null,
         null,
         "5fc961c3b8cfca11a077dd33"
        ],
        [
         "603c4fea0a7217c72c000389",
         "2021-03-01T02:22:34.000Z",
         "2021-03-01T02:22:34.000Z",
         null,
         "2021-03-01T02:22:34.000Z",
         null,
         null,
         null,
         null,
         null,
         "SUBMITTED",
         null,
         null,
         "5fc961c3b8cfca11a077dd33"
        ],
        [
         "603c3d240a720fde10000373",
         "2021-03-01T01:02:28.000Z",
         "2021-03-01T01:02:28.000Z",
         null,
         "2021-03-01T01:02:29.000Z",
         "2020-08-17T00:00:00.000Z",
         null,
         "25.00",
         "25.00",
         "Complete Nonpartner Receipt",
         "REJECTED",
         2,
         "34.96",
         "5fc961c3b8cfca11a077dd33"
        ],
        [
         "6020e0e50a720f053c000193",
         "2021-02-08T06:57:41.000Z",
         "2021-02-08T06:57:41.000Z",
         null,
         "2021-02-08T06:57:41.000Z",
         null,
         null,
         null,
         null,
         null,
         "SUBMITTED",
         null,
         null,
         "5fc961c3b8cfca11a077dd33"
        ],
        [
         "601adab60a720f05f4000207",
         "2021-02-03T17:17:42.000Z",
         "2021-02-03T17:17:42.000Z",
         null,
         "2021-02-03T17:17:42.000Z",
         null,
         null,
         null,
         null,
         null,
         "SUBMITTED",
         null,
         null,
         "5fc961c3b8cfca11a077dd33"
        ],
        [
         "60386aa50a7217c72c000091",
         "2021-02-26T03:27:33.000Z",
         "2021-02-26T03:27:33.000Z",
         null,
         "2021-02-26T03:27:33.000Z",
         null,
         null,
         null,
         null,
         null,
         "SUBMITTED",
         null,
         null,
         "5fc961c3b8cfca11a077dd33"
        ],
        [
         "602667590a7214d8e90002f3",
         "2021-02-12T11:32:41.000Z",
         "2021-02-12T11:32:41.000Z",
         null,
         "2021-02-12T11:32:41.000Z",
         null,
         null,
         null,
         null,
         null,
         "SUBMITTED",
         null,
         null,
         "5fc961c3b8cfca11a077dd33"
        ],
        [
         "6016e0570a720f05f8000289",
         "2021-01-31T16:52:39.000Z",
         "2021-01-31T16:52:39.000Z",
         null,
         "2021-01-31T16:52:39.000Z",
         null,
         null,
         null,
         null,
         null,
         "SUBMITTED",
         null,
         null,
         "5fc961c3b8cfca11a077dd33"
        ],
        [
         "601d7cf90a720f055400070e",
         "2021-02-05T17:14:33.000Z",
         "2021-02-05T17:14:33.000Z",
         "2021-02-05T17:14:33.000Z",
         "2021-02-05T17:14:33.000Z",
         "2021-02-05T00:00:00.000Z",
         null,
         null,
         null,
         null,
         "PENDING",
         null,
         "28.57",
         "59c124bae4b0299e55b0f330"
        ],
        [
         "603c88240a7217c72c0003b8",
         "2021-03-01T06:22:28.000Z",
         "2021-03-01T06:22:28.000Z",
         null,
         "2021-03-01T06:22:29.000Z",
         "2020-08-17T00:00:00.000Z",
         null,
         "25.00",
         "25.00",
         "Complete Nonpartner Receipt",
         "REJECTED",
         2,
         "34.96",
         "5fc961c3b8cfca11a077dd33"
        ],
        [
         "602252050a7214d8e90000ae",
         "2021-02-09T09:12:37.000Z",
         "2021-02-09T09:12:37.000Z",
         null,
         "2021-02-09T09:12:37.000Z",
         null,
         null,
         null,
         null,
         null,
         "SUBMITTED",
         null,
         null,
         "5fc961c3b8cfca11a077dd33"
        ],
        [
         "602581a10a720f05a8000262",
         "2021-02-11T19:12:33.000Z",
         "2021-02-11T19:12:33.000Z",
         null,
         "2021-02-11T19:12:33.000Z",
         null,
         null,
         null,
         null,
         null,
         "SUBMITTED",
         null,
         null,
         "5fc961c3b8cfca11a077dd33"
        ],
        [
         "6022c1580a7214d8e90000ff",
         "2021-02-09T17:07:36.000Z",
         "2021-02-09T17:07:36.000Z",
         null,
         "2021-02-09T17:07:36.000Z",
         null,
         null,
         null,
         null,
         null,
         "SUBMITTED",
         null,
         null,
         "5fc961c3b8cfca11a077dd33"
        ],
        [
         "6017ab130a720f05f80002e0",
         "2021-02-01T07:17:39.000Z",
         "2021-02-01T07:17:39.000Z",
         null,
         "2021-02-01T07:17:39.000Z",
         null,
         null,
         null,
         null,
         null,
         "SUBMITTED",
         null,
         null,
         "5fc961c3b8cfca11a077dd33"
        ],
        [
         "601c40230a720f05f40002b5",
         "2021-02-04T18:42:43.000Z",
         "2021-02-04T18:42:43.000Z",
         null,
         "2021-02-04T18:42:43.000Z",
         null,
         null,
         null,
         null,
         null,
         "SUBMITTED",
         null,
         null,
         "5fc961c3b8cfca11a077dd33"
        ],
        [
         "5ffce8250a7214ad4e0034de",
         "2021-01-12T00:07:00.000Z",
         "2021-01-12T00:07:00.000Z",
         null,
         "2021-01-12T00:07:00.000Z",
         null,
         null,
         null,
         null,
         null,
         "SUBMITTED",
         null,
         null,
         "59c124bae4b0299e55b0f330"
        ],
        [
         "6017ff730a720f05f8000301",
         "2021-02-01T13:17:39.000Z",
         "2021-02-01T13:17:39.000Z",
         null,
         "2021-02-01T13:17:39.000Z",
         null,
         null,
         null,
         null,
         null,
         "SUBMITTED",
         null,
         null,
         "5fc961c3b8cfca11a077dd33"
        ],
        [
         "60233c5f0a720f05a8000119",
         "2021-02-10T01:52:31.000Z",
         "2021-02-10T01:52:31.000Z",
         null,
         "2021-02-10T01:52:31.000Z",
         null,
         null,
         null,
         null,
         null,
         "SUBMITTED",
         null,
         null,
         "5fc961c3b8cfca11a077dd33"
        ],
        [
         "601830a70a7214ad500002d3",
         "2021-02-01T16:47:35.000Z",
         "2021-02-01T16:47:35.000Z",
         null,
         "2021-02-01T16:47:35.000Z",
         "2017-10-30T00:00:00.000Z",
         null,
         null,
         null,
         null,
         "REJECTED",
         3,
         "3.00",
         "60183090c8b50e11d84549c0"
        ],
        [
         "5ffcef5a0a720f0515004f1a",
         "2021-01-12T00:37:46.000Z",
         "2021-01-12T00:37:46.000Z",
         "2021-01-12T00:37:46.000Z",
         "2021-01-12T00:37:46.000Z",
         "2021-01-12T00:00:00.000Z",
         null,
         null,
         null,
         null,
         "PENDING",
         null,
         "28.57",
         "59c124bae4b0299e55b0f330"
        ],
        [
         "6023d0080a720f05a8000155",
         "2021-02-10T12:22:32.000Z",
         "2021-02-10T12:22:32.000Z",
         null,
         "2021-02-10T12:22:32.000Z",
         null,
         null,
         null,
         null,
         null,
         "SUBMITTED",
         null,
         null,
         "5fc961c3b8cfca11a077dd33"
        ],
        [
         "5ff8da7d0a720f05c500001c",
         "2021-01-08T22:19:41.000Z",
         "2021-01-08T22:19:41.000Z",
         null,
         "2021-01-08T22:19:41.000Z",
         null,
         null,
         null,
         null,
         null,
         "FLAGGED",
         0,
         "0.00",
         "5ff8da7db3348b11c9337b6a"
        ],
        [
         "5ffc9d9c0a7214adca00004b",
         "2021-01-11T18:49:00.000Z",
         "2021-01-11T18:49:00.000Z",
         null,
         "2021-01-11T18:49:05.000Z",
         "2021-01-11T00:00:00.000Z",
         null,
         "5.00",
         "5.00",
         "All-receipts Receipt Bonus",
         "REJECTED",
         1,
         "10.00",
         "5ffc9d9cb3348b11c933893f"
        ],
        [
         "6038dd7c0a7217c72c0000c0",
         "2021-02-26T11:37:32.000Z",
         "2021-02-26T11:37:32.000Z",
         null,
         "2021-02-26T11:37:32.000Z",
         null,
         null,
         null,
         null,
         null,
         "SUBMITTED",
         null,
         null,
         "5fc961c3b8cfca11a077dd33"
        ],
        [
         "601efe190a720f053c0000b8",
         "2021-02-06T20:37:45.000Z",
         "2021-02-06T20:37:45.000Z",
         null,
         "2021-02-06T20:37:45.000Z",
         null,
         null,
         null,
         null,
         null,
         "SUBMITTED",
         null,
         null,
         "5fc961c3b8cfca11a077dd33"
        ],
        [
         "603b9a3f0a720fde100002d3",
         "2021-02-28T13:27:27.000Z",
         "2021-02-28T13:27:27.000Z",
         null,
         "2021-02-28T13:27:28.000Z",
         "2020-08-17T00:00:00.000Z",
         null,
         "25.00",
         "25.00",
         "Complete Nonpartner Receipt",
         "REJECTED",
         2,
         "34.96",
         "5fc961c3b8cfca11a077dd33"
        ],
        [
         "603c8cdf0a7217c72c0003bb",
         "2021-03-01T06:42:39.000Z",
         "2021-03-01T06:42:39.000Z",
         null,
         "2021-03-01T06:42:39.000Z",
         null,
         null,
         null,
         null,
         null,
         "SUBMITTED",
         null,
         null,
         "5fc961c3b8cfca11a077dd33"
        ],
        [
         "601e63660a720f053c000055",
         "2021-02-06T09:37:42.000Z",
         "2021-02-06T09:37:42.000Z",
         null,
         "2021-02-06T09:37:42.000Z",
         null,
         null,
         null,
         null,
         null,
         "SUBMITTED",
         null,
         null,
         "5fc961c3b8cfca11a077dd33"
        ],
        [
         "601fe3c80a7214ad250000e6",
         "2021-02-07T12:57:44.000Z",
         "2021-02-07T12:57:44.000Z",
         null,
         "2021-02-07T12:57:44.000Z",
         null,
         null,
         null,
         null,
         null,
         "SUBMITTED",
         null,
         null,
         "5fc961c3b8cfca11a077dd33"
        ],
        [
         "603cf2ce0a7217c72c000413",
         "2021-03-01T13:57:34.000Z",
         "2021-03-01T13:57:34.000Z",
         null,
         "2021-03-01T13:57:34.000Z",
         null,
         null,
         null,
         null,
         null,
         "SUBMITTED",
         null,
         null,
         "5fc961c3b8cfca11a077dd33"
        ],
        [
         "60217b960a720f05a8000012",
         "2021-02-08T17:57:42.000Z",
         "2021-02-08T17:57:42.000Z",
         null,
         "2021-02-08T17:57:42.000Z",
         null,
         null,
         null,
         null,
         null,
         "SUBMITTED",
         null,
         null,
         "5fc961c3b8cfca11a077dd33"
        ],
        [
         "603a398a0a7217c72c0001da",
         "2021-02-27T12:22:34.000Z",
         "2021-02-27T12:22:34.000Z",
         null,
         "2021-02-27T12:22:34.000Z",
         null,
         null,
         null,
         null,
         null,
         "SUBMITTED",
         null,
         null,
         "5fc961c3b8cfca11a077dd33"
        ],
        [
         "5ffcb4900a720f0515000002",
         "2021-01-11T20:26:56.000Z",
         "2021-01-11T20:26:56.000Z",
         null,
         "2021-01-11T20:26:57.000Z",
         "2021-02-11T20:26:56.000Z",
         null,
         "8950.00",
         "250.00",
         "Receipt Number 3 Completed, Bonus Point Schedule ",
         "FLAGGED",
         10,
         "290.00",
         "5ffcb47d04929111f6e9256c"
        ],
        [
         "601a25110a7214ad28000188",
         "2021-02-03T04:22:41.000Z",
         "2021-02-03T04:22:41.000Z",
         null,
         "2021-02-03T04:22:41.000Z",
         null,
         null,
         null,
         null,
         null,
         "SUBMITTED",
         null,
         null,
         "5fc961c3b8cfca11a077dd33"
        ],
        [
         "601c5d700a7214ad280002bc",
         "2021-02-04T20:47:44.000Z",
         "2021-02-04T20:47:44.000Z",
         null,
         "2021-02-04T20:47:44.000Z",
         null,
         null,
         null,
         null,
         null,
         "SUBMITTED",
         null,
         null,
         "5fc961c3b8cfca11a077dd33"
        ],
        [
         "601e96f60a7214ad2500005c",
         "2021-02-06T13:17:42.000Z",
         "2021-02-06T13:17:42.000Z",
         null,
         "2021-02-06T13:17:42.000Z",
         null,
         null,
         null,
         null,
         null,
         "SUBMITTED",
         null,
         null,
         "5fc961c3b8cfca11a077dd33"
        ],
        [
         "6022d8c90a720f05a80000e7",
         "2021-02-09T18:47:37.000Z",
         "2021-02-09T18:47:37.000Z",
         null,
         "2021-02-09T18:47:37.000Z",
         null,
         null,
         null,
         null,
         null,
         "SUBMITTED",
         null,
         null,
         "5fc961c3b8cfca11a077dd33"
        ],
        [
         "6014e99b0a7214ad50000137",
         "2021-01-30T05:07:39.000Z",
         "2021-01-30T05:07:39.000Z",
         null,
         "2021-01-30T05:07:39.000Z",
         null,
         null,
         null,
         null,
         null,
         "SUBMITTED",
         null,
         null,
         "5fc961c3b8cfca11a077dd33"
        ],
        [
         "60245dd50a720f05a80001b2",
         "2021-02-10T22:27:33.000Z",
         "2021-02-10T22:27:33.000Z",
         null,
         "2021-02-10T22:27:33.000Z",
         null,
         null,
         null,
         null,
         null,
         "SUBMITTED",
         null,
         null,
         "5fc961c3b8cfca11a077dd33"
        ],
        [
         "60217f1b0a720f05a8000016",
         "2021-02-08T18:12:43.000Z",
         "2021-02-08T18:12:43.000Z",
         null,
         "2021-02-08T18:12:43.000Z",
         null,
         null,
         null,
         null,
         null,
         "SUBMITTED",
         null,
         null,
         "5fc961c3b8cfca11a077dd33"
        ],
        [
         "601d7b770a720f0554000016",
         "2021-02-05T17:08:07.000Z",
         "2021-02-05T17:08:07.000Z",
         "2021-02-05T17:08:07.000Z",
         "2021-02-05T17:08:07.000Z",
         "2021-02-05T00:00:00.000Z",
         null,
         null,
         null,
         null,
         "PENDING",
         null,
         "28.57",
         "59c124bae4b0299e55b0f330"
        ],
        [
         "602331d70a720f05a8000113",
         "2021-02-10T01:07:34.000Z",
         "2021-02-10T01:07:34.000Z",
         null,
         "2021-02-10T01:07:34.000Z",
         null,
         null,
         null,
         null,
         null,
         "SUBMITTED",
         null,
         null,
         "5fc961c3b8cfca11a077dd33"
        ],
        [
         "60169a070a720f05f8000264",
         "2021-01-31T11:52:39.000Z",
         "2021-01-31T11:52:39.000Z",
         null,
         "2021-01-31T11:52:39.000Z",
         null,
         null,
         null,
         null,
         null,
         "SUBMITTED",
         null,
         null,
         "5fc961c3b8cfca11a077dd33"
        ],
        [
         "600205f60a7214ad4c00007b",
         "2021-01-15T21:15:32.000Z",
         "2021-01-15T21:15:32.000Z",
         null,
         "2021-01-15T21:15:32.000Z",
         null,
         null,
         null,
         null,
         null,
         "SUBMITTED",
         null,
         null,
         "6000b75bbe5fc96dfee1d4d3"
        ],
        [
         "601bbbb50a720f05f400026a",
         "2021-02-04T09:17:41.000Z",
         "2021-02-04T09:17:41.000Z",
         null,
         "2021-02-04T09:17:41.000Z",
         null,
         null,
         null,
         null,
         null,
         "SUBMITTED",
         null,
         null,
         "5fc961c3b8cfca11a077dd33"
        ],
        [
         "601f7f010a7214ad250000be",
         "2021-02-07T05:47:45.000Z",
         "2021-02-07T05:47:45.000Z",
         null,
         "2021-02-07T05:47:45.000Z",
         null,
         null,
         null,
         null,
         null,
         "SUBMITTED",
         null,
         null,
         "5fc961c3b8cfca11a077dd33"
        ],
        [
         "5fff26f10a7214ad4c000018",
         "2021-01-13T16:59:29.000Z",
         "2021-01-13T16:59:29.000Z",
         null,
         "2021-01-13T16:59:29.000Z",
         "2021-02-13T16:59:29.000Z",
         null,
         "8700.00",
         null,
         null,
         "FLAGGED",
         10,
         "290.00",
         "5fff2698b3348b03eb45bb10"
        ],
        [
         "60243bdb0a720f05a80001a2",
         "2021-02-10T20:02:35.000Z",
         "2021-02-10T20:02:35.000Z",
         null,
         "2021-02-10T20:02:35.000Z",
         null,
         null,
         null,
         null,
         null,
         "SUBMITTED",
         null,
         null,
         "5fc961c3b8cfca11a077dd33"
        ],
        [
         "601ae6710a720f05f400020c",
         "2021-02-03T18:07:44.000Z",
         "2021-02-03T18:07:44.000Z",
         null,
         "2021-02-03T18:07:44.000Z",
         null,
         null,
         null,
         null,
         null,
         "SUBMITTED",
         null,
         null,
         "5fc961c3b8cfca11a077dd33"
        ],
        [
         "601f31a60a720f053c0000d0",
         "2021-02-07T00:17:42.000Z",
         "2021-02-07T00:17:42.000Z",
         null,
         "2021-02-07T00:17:42.000Z",
         null,
         null,
         null,
         null,
         null,
         "SUBMITTED",
         null,
         null,
         "5fc961c3b8cfca11a077dd33"
        ],
        [
         "6000accd0a7214ad4c00004b",
         "2021-01-14T20:42:51.000Z",
         "2021-01-14T20:42:51.000Z",
         null,
         "2021-01-14T20:42:51.000Z",
         null,
         null,
         null,
         null,
         null,
         "SUBMITTED",
         null,
         null,
         "5a43c08fe4b014fd6b6a0612"
        ],
        [
         "6015d9d80a720f05f8000219",
         "2021-01-30T22:12:40.000Z",
         "2021-01-30T22:12:40.000Z",
         null,
         "2021-01-30T22:12:40.000Z",
         null,
         null,
         null,
         null,
         null,
         "SUBMITTED",
         null,
         null,
         "5fc961c3b8cfca11a077dd33"
        ],
        [
         "602483540a7214d8e90001ea",
         "2021-02-11T01:07:32.000Z",
         "2021-02-11T01:07:32.000Z",
         null,
         "2021-02-11T01:07:32.000Z",
         null,
         null,
         null,
         null,
         null,
         "SUBMITTED",
         null,
         null,
         "5fc961c3b8cfca11a077dd33"
        ],
        [
         "6018b92a0a7214ad2800005e",
         "2021-02-02T02:30:02.000Z",
         "2021-02-02T02:30:02.000Z",
         null,
         "2021-02-02T02:30:02.000Z",
         null,
         null,
         null,
         null,
         null,
         "SUBMITTED",
         null,
         null,
         "60186237c8b50e11d8454d5f"
        ],
        [
         "603c4a0e0a720fde10000380",
         "2021-03-01T01:57:34.000Z",
         "2021-03-01T01:57:34.000Z",
         null,
         "2021-03-01T01:57:34.000Z",
         null,
         null,
         null,
         null,
         null,
         "SUBMITTED",
         null,
         null,
         "5fc961c3b8cfca11a077dd33"
        ],
        [
         "602198e50a720f05a8000027",
         "2021-02-08T20:02:45.000Z",
         "2021-02-08T20:02:45.000Z",
         null,
         "2021-02-08T20:02:45.000Z",
         null,
         null,
         null,
         null,
         null,
         "SUBMITTED",
         null,
         null,
         "5fc961c3b8cfca11a077dd33"
        ],
        [
         "6020a2cd0a720f053c000175",
         "2021-02-08T02:32:45.000Z",
         "2021-02-08T02:32:45.000Z",
         null,
         "2021-02-08T02:32:45.000Z",
         null,
         null,
         null,
         null,
         null,
         "SUBMITTED",
         null,
         null,
         "5fc961c3b8cfca11a077dd33"
        ],
        [
         "6023bfa00a7214d8e9000168",
         "2021-02-10T11:12:32.000Z",
         "2021-02-10T11:12:32.000Z",
         null,
         "2021-02-10T11:12:32.000Z",
         null,
         null,
         null,
         null,
         null,
         "SUBMITTED",
         null,
         null,
         "5fc961c3b8cfca11a077dd33"
        ],
        [
         "603b77170a7217c72c0002e6",
         "2021-02-28T10:57:27.000Z",
         "2021-02-28T10:57:27.000Z",
         null,
         "2021-02-28T10:57:28.000Z",
         "2020-08-17T00:00:00.000Z",
         null,
         "25.00",
         "25.00",
         "Complete Nonpartner Receipt",
         "REJECTED",
         2,
         "34.96",
         "5fc961c3b8cfca11a077dd33"
        ],
        [
         "602460300a7214d8e90001d6",
         "2021-02-10T22:37:36.000Z",
         "2021-02-10T22:37:36.000Z",
         null,
         "2021-02-10T22:37:36.000Z",
         null,
         null,
         null,
         null,
         null,
         "SUBMITTED",
         null,
         null,
         "5fc961c3b8cfca11a077dd33"
        ],
        [
         "60201adc0a7214ad250000ff",
         "2021-02-07T16:52:44.000Z",
         "2021-02-07T16:52:44.000Z",
         null,
         "2021-02-07T16:52:44.000Z",
         null,
         null,
         null,
         null,
         null,
         "SUBMITTED",
         null,
         null,
         "5fc961c3b8cfca11a077dd33"
        ],
        [
         "602515cf0a7214d8e9000231",
         "2021-02-11T11:32:31.000Z",
         "2021-02-11T11:32:31.000Z",
         null,
         "2021-02-11T11:32:31.000Z",
         null,
         null,
         null,
         null,
         null,
         "SUBMITTED",
         null,
         null,
         "5fc961c3b8cfca11a077dd33"
        ],
        [
         "601542ab0a720f05f80001d5",
         "2021-01-30T11:27:39.000Z",
         "2021-01-30T11:27:39.000Z",
         null,
         "2021-01-30T11:27:39.000Z",
         null,
         null,
         null,
         null,
         null,
         "SUBMITTED",
         null,
         null,
         "5fc961c3b8cfca11a077dd33"
        ],
        [
         "6021efe50a7214d8e9000081",
         "2021-02-09T02:13:57.000Z",
         "2021-02-09T02:13:57.000Z",
         null,
         "2021-02-09T02:13:57.000Z",
         null,
         null,
         null,
         null,
         null,
         "SUBMITTED",
         null,
         null,
         "5fc961c3b8cfca11a077dd33"
        ],
        [
         "603a70a10a720fde100001d9",
         "2021-02-27T16:17:37.000Z",
         "2021-02-27T16:17:37.000Z",
         null,
         "2021-02-27T16:17:37.000Z",
         null,
         null,
         null,
         null,
         null,
         "SUBMITTED",
         null,
         null,
         "5fc961c3b8cfca11a077dd33"
        ],
        [
         "60223a950a7214d8e90000a2",
         "2021-02-09T07:32:37.000Z",
         "2021-02-09T07:32:37.000Z",
         null,
         "2021-02-09T07:32:37.000Z",
         null,
         null,
         null,
         null,
         null,
         "SUBMITTED",
         null,
         null,
         "5fc961c3b8cfca11a077dd33"
        ],
        [
         "6010be460a7214ada2000066",
         "2021-01-27T01:13:42.000Z",
         "2021-01-27T01:13:42.000Z",
         null,
         "2021-01-27T01:13:53.000Z",
         "2017-10-30T00:00:00.000Z",
         null,
         null,
         null,
         null,
         "REJECTED",
         3,
         "3.00",
         "6010bddaa4b74c120bd19dfb"
        ],
        [
         "5ff73be90a720f052300060a",
         "2021-01-07T16:50:49.000Z",
         "2021-01-07T16:50:49.000Z",
         null,
         "2021-01-07T16:50:49.000Z",
         null,
         null,
         null,
         null,
         null,
         "FLAGGED",
         0,
         "0.00",
         "5ff73be9eb7c7d31ca8a45bc"
        ],
        [
         "6017419a0a7214ad50000239",
         "2021-01-31T23:47:38.000Z",
         "2021-01-31T23:47:38.000Z",
         null,
         "2021-01-31T23:47:38.000Z",
         null,
         null,
         null,
         null,
         null,
         "SUBMITTED",
         null,
         null,
         "5fc961c3b8cfca11a077dd33"
        ],
        [
         "6021d8cf0a7214d8e900005c",
         "2021-02-09T00:35:27.000Z",
         "2021-02-09T00:35:27.000Z",
         null,
         "2021-02-09T00:35:27.000Z",
         null,
         null,
         null,
         null,
         null,
         "SUBMITTED",
         null,
         null,
         "5fc961c3b8cfca11a077dd33"
        ],
        [
         "6023e2c90a7214d8e9000175",
         "2021-02-10T13:42:33.000Z",
         "2021-02-10T13:42:33.000Z",
         null,
         "2021-02-10T13:42:33.000Z",
         null,
         null,
         null,
         null,
         null,
         "SUBMITTED",
         null,
         null,
         "5fc961c3b8cfca11a077dd33"
        ],
        [
         "60161ca50a7214ad500001be",
         "2021-01-31T02:57:41.000Z",
         "2021-01-31T02:57:41.000Z",
         null,
         "2021-01-31T02:57:41.000Z",
         null,
         null,
         null,
         null,
         null,
         "SUBMITTED",
         null,
         null,
         "5fc961c3b8cfca11a077dd33"
        ],
        [
         "6024f17d0a720f05a80001ee",
         "2021-02-11T08:57:32.000Z",
         "2021-02-11T08:57:32.000Z",
         null,
         "2021-02-11T08:57:32.000Z",
         null,
         null,
         null,
         null,
         null,
         "SUBMITTED",
         null,
         null,
         "5fc961c3b8cfca11a077dd33"
        ],
        [
         "5ff4a4ca0a7214ada10005d0",
         "2021-01-05T17:41:30.000Z",
         "2021-01-05T17:41:30.000Z",
         null,
         "2021-01-05T17:41:32.000Z",
         "2020-09-13T00:00:00.000Z",
         null,
         "750.00",
         "750.00",
         "Receipt Number 1 Completed, Bonus Point Schedule ",
         "REJECTED",
         2,
         "34.96",
         "5fbc35711d967d1222cbfefc"
        ],
        [
         "6023216c0a720f05a800010a",
         "2021-02-09T23:57:32.000Z",
         "2021-02-09T23:57:32.000Z",
         null,
         "2021-02-09T23:57:32.000Z",
         null,
         null,
         null,
         null,
         null,
         "SUBMITTED",
         null,
         null,
         "5fc961c3b8cfca11a077dd33"
        ],
        [
         "6018b93c0a7214ad28000061",
         "2021-02-02T02:30:20.000Z",
         "2021-02-02T02:30:20.000Z",
         null,
         "2021-02-02T02:30:20.000Z",
         null,
         null,
         null,
         null,
         null,
         "SUBMITTED",
         null,
         null,
         "60186237c8b50e11d8454d5f"
        ],
        [
         "60024fa00a7214ad4c00007f",
         "2021-01-16T02:29:52.000Z",
         "2021-01-16T02:29:52.000Z",
         null,
         "2021-01-16T02:29:52.000Z",
         null,
         null,
         null,
         null,
         null,
         "SUBMITTED",
         null,
         null,
         "60024f24e257124ec6b99a13"
        ],
        [
         "602531f00a7214d8e900023e",
         "2021-02-11T13:32:32.000Z",
         "2021-02-11T13:32:32.000Z",
         null,
         "2021-02-11T13:32:32.000Z",
         null,
         null,
         null,
         null,
         null,
         "SUBMITTED",
         null,
         null,
         "5fc961c3b8cfca11a077dd33"
        ],
        [
         "6014cfd30a7214ad5000012b",
         "2021-01-30T03:17:39.000Z",
         "2021-01-30T03:17:39.000Z",
         null,
         "2021-01-30T03:17:39.000Z",
         null,
         null,
         null,
         null,
         null,
         "SUBMITTED",
         null,
         null,
         "5fc961c3b8cfca11a077dd33"
        ],
        [
         "6008ea160a720f05fa000126",
         "2021-01-21T02:42:30.000Z",
         "2021-01-21T02:42:30.000Z",
         null,
         "2021-01-21T02:42:30.000Z",
         null,
         null,
         null,
         null,
         null,
         "SUBMITTED",
         null,
         null,
         "6008e9cdb6310511daa4f2e4"
        ],
        [
         "6039be770a720fde10000143",
         "2021-02-27T03:37:27.000Z",
         "2021-02-27T03:37:27.000Z",
         null,
         "2021-02-27T03:37:28.000Z",
         "2020-08-17T00:00:00.000Z",
         null,
         "25.00",
         "25.00",
         "Complete Nonpartner Receipt",
         "REJECTED",
         2,
         "34.96",
         "5fc961c3b8cfca11a077dd33"
        ],
        [
         "60182f390a7214ad500002b8",
         "2021-02-01T16:41:29.000Z",
         "2021-02-01T16:41:29.000Z",
         null,
         "2021-02-01T16:41:30.000Z",
         null,
         null,
         null,
         null,
         null,
         "REJECTED",
         0,
         "0.00",
         "60182f1dc8b50e11d84548c4"
        ],
        [
         "6015d0780a720f05f8000214",
         "2021-01-30T21:32:40.000Z",
         "2021-01-30T21:32:40.000Z",
         null,
         "2021-01-30T21:32:40.000Z",
         null,
         null,
         null,
         null,
         null,
         "SUBMITTED",
         null,
         null,
         "5fc961c3b8cfca11a077dd33"
        ],
        [
         "6017e6d70a7214ad5000027f",
         "2021-02-01T11:32:39.000Z",
         "2021-02-01T11:32:39.000Z",
         null,
         "2021-02-01T11:32:39.000Z",
         null,
         null,
         null,
         null,
         null,
         "SUBMITTED",
         null,
         null,
         "5fc961c3b8cfca11a077dd33"
        ],
        [
         "6009f9000a7214ada2000005",
         "2021-01-21T21:58:24.000Z",
         "2021-01-21T21:58:24.000Z",
         null,
         "2021-01-21T21:58:24.000Z",
         null,
         null,
         null,
         null,
         null,
         "SUBMITTED",
         null,
         null,
         "6009f6927d983a124e9adaad"
        ],
        [
         "601f81560a720f053c0000f1",
         "2021-02-07T05:57:42.000Z",
         "2021-02-07T05:57:42.000Z",
         null,
         "2021-02-07T05:57:42.000Z",
         null,
         null,
         null,
         null,
         null,
         "SUBMITTED",
         null,
         null,
         "5fc961c3b8cfca11a077dd33"
        ],
        [
         "6020776d0a7214ad25000120",
         "2021-02-07T23:27:41.000Z",
         "2021-02-07T23:27:41.000Z",
         null,
         "2021-02-07T23:27:41.000Z",
         null,
         null,
         null,
         null,
         null,
         "SUBMITTED",
         null,
         null,
         "5fc961c3b8cfca11a077dd33"
        ],
        [
         "601e173d0a720f053c000032",
         "2021-02-06T04:12:45.000Z",
         "2021-02-06T04:12:45.000Z",
         null,
         "2021-02-06T04:12:45.000Z",
         null,
         null,
         null,
         null,
         null,
         "SUBMITTED",
         null,
         null,
         "5fc961c3b8cfca11a077dd33"
        ],
        [
         "603a85b70a720fde100001e2",
         "2021-02-27T17:47:35.000Z",
         "2021-02-27T17:47:35.000Z",
         null,
         "2021-02-27T17:47:35.000Z",
         null,
         null,
         null,
         null,
         null,
         "SUBMITTED",
         null,
         null,
         "5fc961c3b8cfca11a077dd33"
        ],
        [
         "601d77180a720f053c00000f",
         "2021-02-05T16:49:28.000Z",
         "2021-02-05T16:49:28.000Z",
         "2021-02-05T16:49:29.000Z",
         "2021-02-05T16:49:28.000Z",
         "2021-02-05T00:00:00.000Z",
         null,
         null,
         null,
         null,
         "PENDING",
         null,
         "28.57",
         "59c124bae4b0299e55b0f330"
        ],
        [
         "601711900a720f05f800029f",
         "2021-01-31T20:22:40.000Z",
         "2021-01-31T20:22:40.000Z",
         null,
         "2021-01-31T20:22:40.000Z",
         null,
         null,
         null,
         null,
         null,
         "SUBMITTED",
         null,
         null,
         "5fc961c3b8cfca11a077dd33"
        ],
        [
         "601af3530a720f05f4000212",
         "2021-02-03T19:02:43.000Z",
         "2021-02-03T19:02:43.000Z",
         null,
         "2021-02-03T19:02:43.000Z",
         null,
         null,
         null,
         null,
         null,
         "SUBMITTED",
         null,
         null,
         "5fc961c3b8cfca11a077dd33"
        ],
        [
         "603a466f0a720fde100001ae",
         "2021-02-27T13:17:35.000Z",
         "2021-02-27T13:17:35.000Z",
         null,
         "2021-02-27T13:17:35.000Z",
         null,
         null,
         null,
         null,
         null,
         "SUBMITTED",
         null,
         null,
         "5fc961c3b8cfca11a077dd33"
        ],
        [
         "601d7c7f0a7214ad590004f2",
         "2021-02-05T17:12:31.000Z",
         "2021-02-05T17:12:31.000Z",
         "2021-02-05T17:12:31.000Z",
         "2021-02-05T17:12:31.000Z",
         "2021-02-05T00:00:00.000Z",
         null,
         null,
         null,
         null,
         "PENDING",
         null,
         "28.57",
         "59c124bae4b0299e55b0f330"
        ],
        [
         "601e58da0a720f053c000050",
         "2021-02-06T08:52:42.000Z",
         "2021-02-06T08:52:42.000Z",
         null,
         "2021-02-06T08:52:42.000Z",
         null,
         null,
         null,
         null,
         null,
         "SUBMITTED",
         null,
         null,
         "5fc961c3b8cfca11a077dd33"
        ],
        [
         "601c5fc90a7214ad280002be",
         "2021-02-04T20:57:45.000Z",
         "2021-02-04T20:57:45.000Z",
         null,
         "2021-02-04T20:57:45.000Z",
         null,
         null,
         null,
         null,
         null,
         "SUBMITTED",
         null,
         null,
         "5fc961c3b8cfca11a077dd33"
        ],
        [
         "60392f870a7217c72c0000e7",
         "2021-02-26T17:27:35.000Z",
         "2021-02-26T17:27:35.000Z",
         null,
         "2021-02-26T17:27:35.000Z",
         null,
         null,
         null,
         null,
         null,
         "SUBMITTED",
         null,
         null,
         "5fc961c3b8cfca11a077dd33"
        ],
        [
         "6000d4aa0a720f05f3000072",
         "2021-01-14T23:32:58.000Z",
         "2021-01-14T23:32:58.000Z",
         null,
         "2021-01-14T23:32:58.000Z",
         null,
         null,
         null,
         null,
         null,
         "FLAGGED",
         0,
         "0.00",
         "6000d4aafb296c121a81b27e"
        ],
        [
         "6005b60f0a720f05f3000096",
         "2021-01-18T16:23:41.000Z",
         "2021-01-18T16:23:41.000Z",
         null,
         "2021-01-18T16:23:41.000Z",
         null,
         null,
         null,
         null,
         null,
         "SUBMITTED",
         null,
         null,
         "5a43c08fe4b014fd6b6a0612"
        ],
        [
         "5ffcb4b80a7214ad4e00000d",
         "2021-01-11T20:27:36.000Z",
         "2021-01-11T20:27:36.000Z",
         null,
         "2021-01-11T20:27:41.000Z",
         "2021-01-11T00:00:00.000Z",
         null,
         "5.00",
         "5.00",
         "All-receipts Receipt Bonus",
         "REJECTED",
         1,
         "10.00",
         "5ffcb4b8b3348b11c9338ae1"
        ],
        [
         "6038e4840a720fde100000a6",
         "2021-02-26T12:07:32.000Z",
         "2021-02-26T12:07:32.000Z",
         null,
         "2021-02-26T12:07:32.000Z",
         null,
         null,
         null,
         null,
         null,
         "SUBMITTED",
         null,
         null,
         "5fc961c3b8cfca11a077dd33"
        ],
        [
         "601f4dc50a7214ad250000a9",
         "2021-02-07T02:17:41.000Z",
         "2021-02-07T02:17:41.000Z",
         null,
         "2021-02-07T02:17:41.000Z",
         null,
         null,
         null,
         null,
         null,
         "SUBMITTED",
         null,
         null,
         "5fc961c3b8cfca11a077dd33"
        ],
        [
         "5ffce8150a7214ad4e0030a3",
         "2021-01-12T00:06:44.000Z",
         "2021-01-12T00:06:44.000Z",
         null,
         "2021-01-12T00:06:44.000Z",
         null,
         null,
         null,
         null,
         null,
         "SUBMITTED",
         null,
         null,
         "59c124bae4b0299e55b0f330"
        ],
        [
         "5ff4ce3c0a720f05230005c4",
         "2021-01-05T20:38:20.000Z",
         "2021-01-05T20:38:20.000Z",
         null,
         "2021-01-05T20:38:20.000Z",
         null,
         null,
         null,
         null,
         null,
         "FLAGGED",
         0,
         "0.00",
         "5ff4ce3cc1e2d0121a9b2fba"
        ],
        [
         "601be7120a720f05f400027a",
         "2021-02-04T12:22:42.000Z",
         "2021-02-04T12:22:42.000Z",
         null,
         "2021-02-04T12:22:42.000Z",
         null,
         null,
         null,
         null,
         null,
         "SUBMITTED",
         null,
         null,
         "5fc961c3b8cfca11a077dd33"
        ],
        [
         "6026dc8a0a7214d8e9000343",
         "2021-02-12T19:52:42.000Z",
         "2021-02-12T19:52:42.000Z",
         null,
         "2021-02-12T19:52:42.000Z",
         null,
         null,
         null,
         null,
         null,
         "SUBMITTED",
         null,
         null,
         "5fc961c3b8cfca11a077dd33"
        ],
        [
         "601b85cc0a7214ad2800024b",
         "2021-02-04T05:27:40.000Z",
         "2021-02-04T05:27:40.000Z",
         null,
         "2021-02-04T05:27:40.000Z",
         null,
         null,
         null,
         null,
         null,
         "SUBMITTED",
         null,
         null,
         "5fc961c3b8cfca11a077dd33"
        ],
        [
         "600247cd0a7214ad4c00007e",
         "2021-01-16T01:56:29.000Z",
         "2021-01-16T01:56:29.000Z",
         null,
         "2021-01-16T01:56:29.000Z",
         null,
         null,
         null,
         null,
         null,
         "SUBMITTED",
         null,
         null,
         "6002475cfb296c121a81b98d"
        ],
        [
         "601e84360a720f053c000069",
         "2021-02-06T11:57:42.000Z",
         "2021-02-06T11:57:42.000Z",
         null,
         "2021-02-06T11:57:42.000Z",
         null,
         null,
         null,
         null,
         null,
         "SUBMITTED",
         null,
         null,
         "5fc961c3b8cfca11a077dd33"
        ],
        [
         "603d28b60a720fde10000445",
         "2021-03-01T17:47:34.000Z",
         "2021-03-01T17:47:34.000Z",
         null,
         "2021-03-01T17:47:34.000Z",
         null,
         null,
         null,
         null,
         null,
         "SUBMITTED",
         null,
         null,
         "5fc961c3b8cfca11a077dd33"
        ],
        [
         "6025cf030a7214d8e90002b2",
         "2021-02-12T00:42:43.000Z",
         "2021-02-12T00:42:43.000Z",
         null,
         "2021-02-12T00:42:43.000Z",
         null,
         null,
         null,
         null,
         null,
         "SUBMITTED",
         null,
         null,
         "5fc961c3b8cfca11a077dd33"
        ],
        [
         "6021f05f0a720f05a8000062",
         "2021-02-09T02:15:59.000Z",
         "2021-02-09T02:15:59.000Z",
         null,
         "2021-02-09T02:15:59.000Z",
         null,
         null,
         null,
         null,
         null,
         "SUBMITTED",
         null,
         null,
         "5fc961c3b8cfca11a077dd33"
        ],
        [
         "5ffc8cc20a720f05c5000026",
         "2021-01-11T07:37:06.000Z",
         "2021-01-11T07:37:06.000Z",
         "2021-01-11T12:38:01.000Z",
         "2021-01-11T12:38:01.000Z",
         "2021-01-10T14:00:00.000Z",
         null,
         "0.00",
         null,
         null,
         "FINISHED",
         1,
         "3.09",
         "5ffc8cc104929111f6e922a3"
        ],
        [
         "60179e2e0a7214ad50000260",
         "2021-02-01T06:22:38.000Z",
         "2021-02-01T06:22:38.000Z",
         null,
         "2021-02-01T06:22:38.000Z",
         null,
         null,
         null,
         null,
         null,
         "SUBMITTED",
         null,
         null,
         "5fc961c3b8cfca11a077dd33"
        ],
        [
         "6023ee820a720f05a8000163",
         "2021-02-10T14:32:34.000Z",
         "2021-02-10T14:32:34.000Z",
         null,
         "2021-02-10T14:32:34.000Z",
         null,
         null,
         null,
         null,
         null,
         "SUBMITTED",
         null,
         null,
         "5fc961c3b8cfca11a077dd33"
        ],
        [
         "601f36570a7214ad2500009d",
         "2021-02-07T00:37:43.000Z",
         "2021-02-07T00:37:43.000Z",
         null,
         "2021-02-07T00:37:43.000Z",
         null,
         null,
         null,
         null,
         null,
         "SUBMITTED",
         null,
         null,
         "5fc961c3b8cfca11a077dd33"
        ],
        [
         "601d7d540a720f05540008a6",
         "2021-02-05T17:16:04.000Z",
         "2021-02-05T17:16:04.000Z",
         "2021-02-05T17:16:04.000Z",
         "2021-02-05T17:16:04.000Z",
         "2021-02-05T00:00:00.000Z",
         null,
         null,
         null,
         null,
         "PENDING",
         null,
         "28.57",
         "59c124bae4b0299e55b0f330"
        ],
        [
         "603c9e6e0a720fde100003c7",
         "2021-03-01T07:57:34.000Z",
         "2021-03-01T07:57:34.000Z",
         null,
         "2021-03-01T07:57:34.000Z",
         null,
         null,
         null,
         null,
         null,
         "SUBMITTED",
         null,
         null,
         "5fc961c3b8cfca11a077dd33"
        ],
        [
         "6000d4b50a720f05f3000078",
         "2021-01-14T23:33:09.000Z",
         "2021-01-14T23:33:09.000Z",
         null,
         "2021-01-14T23:33:14.000Z",
         "2021-01-14T00:00:00.000Z",
         null,
         "5.00",
         "5.00",
         "All-receipts Receipt Bonus",
         "REJECTED",
         1,
         "10.00",
         "6000d4b5fb296c121a81b2bd"
        ],
        [
         "6038f2950a7217c72c0000ca",
         "2021-02-26T13:07:33.000Z",
         "2021-02-26T13:07:33.000Z",
         null,
         "2021-02-26T13:07:33.000Z",
         null,
         null,
         null,
         null,
         null,
         "SUBMITTED",
         null,
         null,
         "5fc961c3b8cfca11a077dd33"
        ],
        [
         "6025dabc0a720f05a8000283",
         "2021-02-12T01:32:44.000Z",
         "2021-02-12T01:32:44.000Z",
         null,
         "2021-02-12T01:32:44.000Z",
         null,
         null,
         null,
         null,
         null,
         "SUBMITTED",
         null,
         null,
         "5fc961c3b8cfca11a077dd33"
        ],
        [
         "601b43010a7214ad2800022c",
         "2021-02-04T00:42:41.000Z",
         "2021-02-04T00:42:41.000Z",
         null,
         "2021-02-04T00:42:41.000Z",
         null,
         null,
         null,
         null,
         null,
         "SUBMITTED",
         null,
         null,
         "5fc961c3b8cfca11a077dd33"
        ],
        [
         "6026963b0a7214d8e900031a",
         "2021-02-12T14:52:43.000Z",
         "2021-02-12T14:52:43.000Z",
         null,
         "2021-02-12T14:52:43.000Z",
         null,
         null,
         null,
         null,
         null,
         "SUBMITTED",
         null,
         null,
         "5fc961c3b8cfca11a077dd33"
        ],
        [
         "6038e1020a720fde100000a4",
         "2021-02-26T11:52:34.000Z",
         "2021-02-26T11:52:34.000Z",
         null,
         "2021-02-26T11:52:34.000Z",
         null,
         null,
         null,
         null,
         null,
         "SUBMITTED",
         null,
         null,
         "5fc961c3b8cfca11a077dd33"
        ],
        [
         "602573920a720f05a800025d",
         "2021-02-11T18:12:34.000Z",
         "2021-02-11T18:12:34.000Z",
         null,
         "2021-02-11T18:12:34.000Z",
         null,
         null,
         null,
         null,
         null,
         "SUBMITTED",
         null,
         null,
         "5fc961c3b8cfca11a077dd33"
        ],
        [
         "6021c56a0a720f05a8000036",
         "2021-02-08T23:12:42.000Z",
         "2021-02-08T23:12:42.000Z",
         null,
         "2021-02-08T23:12:42.000Z",
         null,
         null,
         null,
         null,
         null,
         "SUBMITTED",
         null,
         null,
         "5fc961c3b8cfca11a077dd33"
        ],
        [
         "601ea1830a720f053c000079",
         "2021-02-06T14:02:43.000Z",
         "2021-02-06T14:02:43.000Z",
         null,
         "2021-02-06T14:02:43.000Z",
         null,
         null,
         null,
         null,
         null,
         "SUBMITTED",
         null,
         null,
         "5fc961c3b8cfca11a077dd33"
        ],
        [
         "601bc2bd0a7214ad28000262",
         "2021-02-04T09:47:41.000Z",
         "2021-02-04T09:47:41.000Z",
         null,
         "2021-02-04T09:47:41.000Z",
         null,
         null,
         null,
         null,
         null,
         "SUBMITTED",
         null,
         null,
         "5fc961c3b8cfca11a077dd33"
        ],
        [
         "603b2c1a0a7217c72c0002a9",
         "2021-02-28T05:37:30.000Z",
         "2021-02-28T05:37:30.000Z",
         null,
         "2021-02-28T05:37:30.000Z",
         "2020-08-17T00:00:00.000Z",
         null,
         "25.00",
         "25.00",
         "Complete Nonpartner Receipt",
         "REJECTED",
         2,
         "34.96",
         "5fc961c3b8cfca11a077dd33"
        ],
        [
         "6021ed890a720f05a8000060",
         "2021-02-09T02:03:53.000Z",
         "2021-02-09T02:03:53.000Z",
         null,
         "2021-02-09T02:03:53.000Z",
         null,
         null,
         null,
         null,
         null,
         "SUBMITTED",
         null,
         null,
         "5fc961c3b8cfca11a077dd33"
        ],
        [
         "601431e40a7214ad50000041",
         "2021-01-29T16:03:48.000Z",
         "2021-01-29T16:03:48.000Z",
         "2021-01-29T16:03:48.000Z",
         "2021-01-29T16:03:48.000Z",
         "2021-01-29T00:00:00.000Z",
         null,
         null,
         null,
         null,
         "PENDING",
         null,
         "2.23",
         "6014319173c60b3ca7f3bf01"
        ],
        [
         "6014f5520a720f05f80001ba",
         "2021-01-30T05:57:38.000Z",
         "2021-01-30T05:57:38.000Z",
         null,
         "2021-01-30T05:57:38.000Z",
         null,
         null,
         null,
         null,
         null,
         "SUBMITTED",
         null,
         null,
         "5fc961c3b8cfca11a077dd33"
        ],
        [
         "6000d4d30a720f05f3000081",
         "2021-01-14T23:33:39.000Z",
         "2021-01-14T23:33:39.000Z",
         null,
         "2021-01-14T23:33:39.000Z",
         "2017-10-30T00:00:00.000Z",
         null,
         null,
         null,
         null,
         "REJECTED",
         3,
         "3.00",
         "6000d46cfb296c121a81b20c"
        ],
        [
         "603b45e90a7217c72c0002c2",
         "2021-02-28T07:27:37.000Z",
         "2021-02-28T07:27:37.000Z",
         null,
         "2021-02-28T07:27:37.000Z",
         null,
         null,
         null,
         null,
         null,
         "SUBMITTED",
         null,
         null,
         "5fc961c3b8cfca11a077dd33"
        ],
        [
         "601bd1fa0a7214ad2800026c",
         "2021-02-04T10:52:42.000Z",
         "2021-02-04T10:52:42.000Z",
         null,
         "2021-02-04T10:52:42.000Z",
         null,
         null,
         null,
         null,
         null,
         "SUBMITTED",
         null,
         null,
         "5fc961c3b8cfca11a077dd33"
        ],
        [
         "603bd1570a7217c72c000337",
         "2021-02-28T17:22:31.000Z",
         "2021-02-28T17:22:31.000Z",
         null,
         "2021-02-28T17:22:31.000Z",
         "2020-08-17T00:00:00.000Z",
         null,
         "25.00",
         "25.00",
         "Complete Nonpartner Receipt",
         "REJECTED",
         2,
         "34.96",
         "5fc961c3b8cfca11a077dd33"
        ],
        [
         "601510460a7214ad5000014a",
         "2021-01-30T07:52:38.000Z",
         "2021-01-30T07:52:38.000Z",
         null,
         "2021-01-30T07:52:38.000Z",
         null,
         null,
         null,
         null,
         null,
         "SUBMITTED",
         null,
         null,
         "5fc961c3b8cfca11a077dd33"
        ],
        [
         "5ffcef570a720f0515004e91",
         "2021-01-12T00:37:43.000Z",
         "2021-01-12T00:37:43.000Z",
         "2021-01-12T00:37:43.000Z",
         "2021-01-12T00:37:43.000Z",
         "2021-01-12T00:00:00.000Z",
         null,
         null,
         null,
         null,
         "PENDING",
         null,
         "28.57",
         "59c124bae4b0299e55b0f330"
        ],
        [
         "5ffe1d030a720f05ac002c9e",
         "2021-01-12T22:04:51.000Z",
         "2021-01-12T22:04:51.000Z",
         "2021-01-12T22:04:51.000Z",
         "2021-01-12T22:04:51.000Z",
         "2021-01-12T00:00:00.000Z",
         null,
         null,
         null,
         null,
         "PENDING",
         null,
         "28.57",
         "59c124bae4b0299e55b0f330"
        ],
        [
         "6005f5450a720f05f3000097",
         "2021-01-18T20:53:23.000Z",
         "2021-01-18T20:53:23.000Z",
         null,
         "2021-01-18T20:53:23.000Z",
         null,
         null,
         null,
         null,
         null,
         "SUBMITTED",
         null,
         null,
         "5a43c08fe4b014fd6b6a0612"
        ],
        [
         "601a2e730a720f05f40001a9",
         "2021-02-03T05:02:43.000Z",
         "2021-02-03T05:02:43.000Z",
         null,
         "2021-02-03T05:02:43.000Z",
         null,
         null,
         null,
         null,
         null,
         "SUBMITTED",
         null,
         null,
         "5fc961c3b8cfca11a077dd33"
        ],
        [
         "603bf4830a720fde10000320",
         "2021-02-28T19:52:35.000Z",
         "2021-02-28T19:52:35.000Z",
         null,
         "2021-02-28T19:52:35.000Z",
         null,
         null,
         null,
         null,
         null,
         "SUBMITTED",
         null,
         null,
         "5fc961c3b8cfca11a077dd33"
        ],
        [
         "6017707d0a720f05f80002c7",
         "2021-02-01T03:07:41.000Z",
         "2021-02-01T03:07:41.000Z",
         null,
         "2021-02-01T03:07:41.000Z",
         null,
         null,
         null,
         null,
         null,
         "SUBMITTED",
         null,
         null,
         "5fc961c3b8cfca11a077dd33"
        ],
        [
         "603905540a720fde100000b3",
         "2021-02-26T14:27:32.000Z",
         "2021-02-26T14:27:32.000Z",
         null,
         "2021-02-26T14:27:32.000Z",
         null,
         null,
         null,
         null,
         null,
         "SUBMITTED",
         null,
         null,
         "5fc961c3b8cfca11a077dd33"
        ],
        [
         "60189c7b0a7214ad2800002e",
         "2021-02-02T00:27:39.000Z",
         "2021-02-02T00:27:39.000Z",
         null,
         "2021-02-02T00:27:39.000Z",
         null,
         null,
         null,
         null,
         null,
         "SUBMITTED",
         null,
         null,
         "5fc961c3b8cfca11a077dd33"
        ],
        [
         "601ed3e80a720f053c0000a5",
         "2021-02-06T17:37:44.000Z",
         "2021-02-06T17:37:44.000Z",
         null,
         "2021-02-06T17:37:44.000Z",
         null,
         null,
         null,
         null,
         null,
         "SUBMITTED",
         null,
         null,
         "5fc961c3b8cfca11a077dd33"
        ],
        [
         "60394dff0a720fde100000d1",
         "2021-02-26T19:37:35.000Z",
         "2021-02-26T19:37:35.000Z",
         null,
         "2021-02-26T19:37:35.000Z",
         null,
         null,
         null,
         null,
         null,
         "SUBMITTED",
         null,
         null,
         "5fc961c3b8cfca11a077dd33"
        ],
        [
         "601e22f20a720f053c000039",
         "2021-02-06T05:02:42.000Z",
         "2021-02-06T05:02:42.000Z",
         null,
         "2021-02-06T05:02:42.000Z",
         null,
         null,
         null,
         null,
         null,
         "SUBMITTED",
         null,
         null,
         "5fc961c3b8cfca11a077dd33"
        ],
        [
         "603abdf60a7217c72c00024d",
         "2021-02-27T21:47:34.000Z",
         "2021-02-27T21:47:34.000Z",
         null,
         "2021-02-27T21:47:34.000Z",
         null,
         null,
         null,
         null,
         null,
         "SUBMITTED",
         null,
         null,
         "5fc961c3b8cfca11a077dd33"
        ],
        [
         "60155a1b0a7214ad50000170",
         "2021-01-30T13:07:39.000Z",
         "2021-01-30T13:07:39.000Z",
         null,
         "2021-01-30T13:07:39.000Z",
         null,
         null,
         null,
         null,
         null,
         "SUBMITTED",
         null,
         null,
         "5fc961c3b8cfca11a077dd33"
        ],
        [
         "602057ce0a720f053c000151",
         "2021-02-07T21:12:46.000Z",
         "2021-02-07T21:12:46.000Z",
         null,
         "2021-02-07T21:12:46.000Z",
         null,
         null,
         null,
         null,
         null,
         "SUBMITTED",
         null,
         null,
         "5fc961c3b8cfca11a077dd33"
        ],
        [
         "601d7c280a7214ad5900035c",
         "2021-02-05T17:11:04.000Z",
         "2021-02-05T17:11:04.000Z",
         "2021-02-05T17:11:04.000Z",
         "2021-02-05T17:11:04.000Z",
         "2021-02-05T00:00:00.000Z",
         null,
         null,
         null,
         null,
         "PENDING",
         null,
         "28.57",
         "59c124bae4b0299e55b0f330"
        ],
        [
         "6016780d0a720f05f8000255",
         "2021-01-31T09:27:41.000Z",
         "2021-01-31T09:27:41.000Z",
         null,
         "2021-01-31T09:27:41.000Z",
         null,
         null,
         null,
         null,
         null,
         "SUBMITTED",
         null,
         null,
         "5fc961c3b8cfca11a077dd33"
        ],
        [
         "60171af00a7214ad50000229",
         "2021-01-31T21:02:40.000Z",
         "2021-01-31T21:02:40.000Z",
         null,
         "2021-01-31T21:02:40.000Z",
         null,
         null,
         null,
         null,
         null,
         "SUBMITTED",
         null,
         null,
         "5fc961c3b8cfca11a077dd33"
        ],
        [
         "6026b71f0a720f05a80002f0",
         "2021-02-12T17:13:03.000Z",
         "2021-02-12T17:13:03.000Z",
         null,
         "2021-02-12T17:13:03.000Z",
         null,
         null,
         null,
         null,
         null,
         "SUBMITTED",
         null,
         null,
         "5fc961c3b8cfca11a077dd33"
        ],
        [
         "6026fc2f0a720f05a8000311",
         "2021-02-12T22:07:43.000Z",
         "2021-02-12T22:07:43.000Z",
         null,
         "2021-02-12T22:07:43.000Z",
         null,
         null,
         null,
         null,
         null,
         "SUBMITTED",
         null,
         null,
         "5fc961c3b8cfca11a077dd33"
        ],
        [
         "6024b5b70a720f05a80001d6",
         "2021-02-11T04:42:31.000Z",
         "2021-02-11T04:42:31.000Z",
         null,
         "2021-02-11T04:42:31.000Z",
         null,
         null,
         null,
         null,
         null,
         "SUBMITTED",
         null,
         null,
         "5fc961c3b8cfca11a077dd33"
        ],
        [
         "60202b430a7214ad25000103",
         "2021-02-07T18:02:43.000Z",
         "2021-02-07T18:02:43.000Z",
         null,
         "2021-02-07T18:02:43.000Z",
         null,
         null,
         null,
         null,
         null,
         "SUBMITTED",
         null,
         null,
         "5fc961c3b8cfca11a077dd33"
        ],
        [
         "6022752b0a7214d8e90000be",
         "2021-02-09T11:42:35.000Z",
         "2021-02-09T11:42:35.000Z",
         null,
         "2021-02-09T11:42:35.000Z",
         null,
         null,
         null,
         null,
         null,
         "SUBMITTED",
         null,
         null,
         "5fc961c3b8cfca11a077dd33"
        ],
        [
         "602279db0a720f05a800009b",
         "2021-02-09T12:02:35.000Z",
         "2021-02-09T12:02:35.000Z",
         null,
         "2021-02-09T12:02:35.000Z",
         null,
         null,
         null,
         null,
         null,
         "SUBMITTED",
         null,
         null,
         "5fc961c3b8cfca11a077dd33"
        ],
        [
         "6018a7070a7214ad28000055",
         "2021-02-02T01:12:38.000Z",
         "2021-02-02T01:12:38.000Z",
         null,
         "2021-02-02T01:12:38.000Z",
         null,
         null,
         null,
         null,
         null,
         "SUBMITTED",
         null,
         null,
         "5fc961c3b8cfca11a077dd33"
        ],
        [
         "602438550a720f05a8000192",
         "2021-02-10T19:47:32.000Z",
         "2021-02-10T19:47:32.000Z",
         null,
         "2021-02-10T19:47:32.000Z",
         null,
         null,
         null,
         null,
         null,
         "SUBMITTED",
         null,
         null,
         "5fc961c3b8cfca11a077dd33"
        ],
        [
         "5ff8da570a720f05c5000015",
         "2021-01-08T22:19:03.000Z",
         "2021-01-08T22:19:03.000Z",
         null,
         "2021-01-08T22:19:04.000Z",
         null,
         null,
         null,
         null,
         null,
         "REJECTED",
         0,
         "0.00",
         "5ff8da28b3348b11c9337ac6"
        ],
        [
         "603a698f0a720fde100001d1",
         "2021-02-27T15:47:27.000Z",
         "2021-02-27T15:47:27.000Z",
         null,
         "2021-02-27T15:47:28.000Z",
         "2020-08-17T00:00:00.000Z",
         null,
         "25.00",
         "25.00",
         "Complete Nonpartner Receipt",
         "REJECTED",
         2,
         "34.96",
         "5fc961c3b8cfca11a077dd33"
        ],
        [
         "601f9c4a0a7214ad250000c8",
         "2021-02-07T07:52:42.000Z",
         "2021-02-07T07:52:42.000Z",
         null,
         "2021-02-07T07:52:42.000Z",
         null,
         null,
         null,
         null,
         null,
         "SUBMITTED",
         null,
         null,
         "5fc961c3b8cfca11a077dd33"
        ],
        [
         "603997d20a720fde10000124",
         "2021-02-27T00:52:34.000Z",
         "2021-02-27T00:52:34.000Z",
         null,
         "2021-02-27T00:52:34.000Z",
         null,
         null,
         null,
         null,
         null,
         "SUBMITTED",
         null,
         null,
         "5fc961c3b8cfca11a077dd33"
        ],
        [
         "60189ffe0a720f05f4000066",
         "2021-02-02T00:42:38.000Z",
         "2021-02-02T00:42:38.000Z",
         null,
         "2021-02-02T00:42:38.000Z",
         null,
         null,
         null,
         null,
         null,
         "SUBMITTED",
         null,
         null,
         "5fc961c3b8cfca11a077dd33"
        ],
        [
         "5ffe17e20a720f05ac0000e7",
         "2021-01-12T21:42:58.000Z",
         "2021-01-12T21:42:58.000Z",
         null,
         "2021-01-13T16:00:54.000Z",
         "2021-01-12T00:00:00.000Z",
         null,
         "750.00",
         "750.00",
         "Receipt Number 1 Completed, Bonus Point Schedule ",
         "REJECTED",
         1,
         "2.29",
         "5ffe115404929101d0aaebb2"
        ],
        [
         "6020f0220a7214ad25000150",
         "2021-02-08T08:02:42.000Z",
         "2021-02-08T08:02:42.000Z",
         null,
         "2021-02-08T08:02:42.000Z",
         null,
         null,
         null,
         null,
         null,
         "SUBMITTED",
         null,
         null,
         "5fc961c3b8cfca11a077dd33"
        ],
        [
         "601d7c1e0a720f055400031a",
         "2021-02-05T17:10:54.000Z",
         "2021-02-05T17:10:54.000Z",
         "2021-02-05T17:10:54.000Z",
         "2021-02-05T17:10:54.000Z",
         "2021-02-05T00:00:00.000Z",
         null,
         null,
         null,
         null,
         "PENDING",
         null,
         "28.57",
         "59c124bae4b0299e55b0f330"
        ],
        [
         "6022b6cb0a7214d8e90000f8",
         "2021-02-09T16:22:35.000Z",
         "2021-02-09T16:22:35.000Z",
         null,
         "2021-02-09T16:22:35.000Z",
         null,
         null,
         null,
         null,
         null,
         "SUBMITTED",
         null,
         null,
         "5fc961c3b8cfca11a077dd33"
        ],
        [
         "602585240a720f05a8000263",
         "2021-02-11T19:27:32.000Z",
         "2021-02-11T19:27:32.000Z",
         null,
         "2021-02-11T19:27:32.000Z",
         null,
         null,
         null,
         null,
         null,
         "SUBMITTED",
         null,
         null,
         "5fc961c3b8cfca11a077dd33"
        ],
        [
         "6018b89c0a7214ad2800005d",
         "2021-02-02T02:27:40.000Z",
         "2021-02-02T02:27:40.000Z",
         null,
         "2021-02-02T02:27:40.000Z",
         null,
         null,
         null,
         null,
         null,
         "SUBMITTED",
         null,
         null,
         "5fc961c3b8cfca11a077dd33"
        ],
        [
         "6009fd790a720f0535000006",
         "2021-01-21T22:17:29.000Z",
         "2021-01-21T22:17:29.000Z",
         null,
         "2021-01-21T22:17:29.000Z",
         null,
         null,
         null,
         null,
         null,
         "SUBMITTED",
         null,
         null,
         "6009fd1550b33111943850b1"
        ],
        [
         "603a2a470a720fde10000197",
         "2021-02-27T11:17:27.000Z",
         "2021-02-27T11:17:27.000Z",
         null,
         "2021-02-27T11:17:28.000Z",
         "2020-08-17T00:00:00.000Z",
         null,
         "25.00",
         "25.00",
         "Complete Nonpartner Receipt",
         "REJECTED",
         2,
         "34.96",
         "5fc961c3b8cfca11a077dd33"
        ],
        [
         "5ffe1dc20a7214ad28003180",
         "2021-01-12T22:08:02.000Z",
         "2021-01-12T22:08:02.000Z",
         "2021-01-12T22:08:03.000Z",
         "2021-01-12T22:08:02.000Z",
         "2021-01-12T00:00:00.000Z",
         null,
         null,
         null,
         null,
         "PENDING",
         null,
         "28.57",
         "59c124bae4b0299e55b0f330"
        ],
        [
         "5ffe19d90a7214ad28000e62",
         "2021-01-12T21:51:21.000Z",
         "2021-01-12T21:51:21.000Z",
         "2021-01-12T21:51:21.000Z",
         "2021-01-12T21:51:21.000Z",
         "2021-01-12T00:00:00.000Z",
         null,
         null,
         null,
         null,
         "PENDING",
         null,
         "28.57",
         "59c124bae4b0299e55b0f330"
        ],
        [
         "6014aa550a720f05f800019b",
         "2021-01-30T00:37:41.000Z",
         "2021-01-30T00:37:41.000Z",
         null,
         "2021-01-30T00:37:41.000Z",
         null,
         null,
         null,
         null,
         null,
         "SUBMITTED",
         null,
         null,
         "5fc961c3b8cfca11a077dd33"
        ],
        [
         "602644300a720f05a80002af",
         "2021-02-12T09:02:40.000Z",
         "2021-02-12T09:02:40.000Z",
         null,
         "2021-02-12T09:02:40.000Z",
         null,
         null,
         null,
         null,
         null,
         "SUBMITTED",
         null,
         null,
         "5fc961c3b8cfca11a077dd33"
        ],
        [
         "603cbbb50a720fde100003e3",
         "2021-03-01T10:02:29.000Z",
         "2021-03-01T10:02:29.000Z",
         null,
         "2021-03-01T10:02:30.000Z",
         "2020-08-17T00:00:00.000Z",
         null,
         "25.00",
         "25.00",
         "Complete Nonpartner Receipt",
         "REJECTED",
         2,
         "34.96",
         "5fc961c3b8cfca11a077dd33"
        ],
        [
         "601f190c0a720f053c0000c4",
         "2021-02-06T22:32:44.000Z",
         "2021-02-06T22:32:44.000Z",
         null,
         "2021-02-06T22:32:44.000Z",
         null,
         null,
         null,
         null,
         null,
         "SUBMITTED",
         null,
         null,
         "5fc961c3b8cfca11a077dd33"
        ],
        [
         "60214de60a720f057300000b",
         "2021-02-08T14:42:46.000Z",
         "2021-02-08T14:42:46.000Z",
         null,
         "2021-02-08T14:42:46.000Z",
         null,
         null,
         null,
         null,
         null,
         "SUBMITTED",
         null,
         null,
         "5fc961c3b8cfca11a077dd33"
        ],
        [
         "600f24970a720f053500002f",
         "2021-01-25T20:05:43.000Z",
         "2021-01-25T20:05:43.000Z",
         null,
         "2021-01-25T20:25:25.000Z",
         "2021-01-25T00:00:00.000Z",
         null,
         null,
         null,
         null,
         "FLAGGED",
         599,
         "4368.80",
         "600f20c15edb787dce060911"
        ],
        [
         "6017082f0a720f05f800029b",
         "2021-01-31T19:42:39.000Z",
         "2021-01-31T19:42:39.000Z",
         null,
         "2021-01-31T19:42:39.000Z",
         null,
         null,
         null,
         null,
         null,
         "SUBMITTED",
         null,
         null,
         "5fc961c3b8cfca11a077dd33"
        ],
        [
         "6025fcb40a7214d8e90002c3",
         "2021-02-12T03:57:40.000Z",
         "2021-02-12T03:57:40.000Z",
         null,
         "2021-02-12T03:57:40.000Z",
         null,
         null,
         null,
         null,
         null,
         "SUBMITTED",
         null,
         null,
         "5fc961c3b8cfca11a077dd33"
        ],
        [
         "601f39db0a720f053c0000d5",
         "2021-02-07T00:52:43.000Z",
         "2021-02-07T00:52:43.000Z",
         null,
         "2021-02-07T00:52:43.000Z",
         null,
         null,
         null,
         null,
         null,
         "SUBMITTED",
         null,
         null,
         "5fc961c3b8cfca11a077dd33"
        ],
        [
         "6021ec5f0a720f05a800005d",
         "2021-02-09T01:58:55.000Z",
         "2021-02-09T01:58:55.000Z",
         null,
         "2021-02-09T01:58:55.000Z",
         null,
         null,
         null,
         null,
         null,
         "SUBMITTED",
         null,
         null,
         "5fc961c3b8cfca11a077dd33"
        ],
        [
         "603cc2bc0a720fde100003e9",
         "2021-03-01T10:32:28.000Z",
         "2021-03-01T10:32:28.000Z",
         null,
         "2021-03-01T10:32:29.000Z",
         "2020-08-17T00:00:00.000Z",
         null,
         "25.00",
         "25.00",
         "Complete Nonpartner Receipt",
         "REJECTED",
         2,
         "34.96",
         "5fc961c3b8cfca11a077dd33"
        ],
        [
         "5ffe23d70a7214ad280068f6",
         "2021-01-12T22:33:59.000Z",
         "2021-01-12T22:33:59.000Z",
         "2021-01-12T22:33:59.000Z",
         "2021-01-12T22:33:59.000Z",
         "2021-01-12T00:00:00.000Z",
         null,
         null,
         null,
         null,
         "PENDING",
         null,
         "28.57",
         "59c124bae4b0299e55b0f330"
        ],
        [
         "602566ae0a7214d8e900027b",
         "2021-02-11T17:17:33.000Z",
         "2021-02-11T17:17:33.000Z",
         null,
         "2021-02-11T17:17:33.000Z",
         null,
         null,
         null,
         null,
         null,
         "SUBMITTED",
         null,
         null,
         "5fc961c3b8cfca11a077dd33"
        ],
        [
         "601e787e0a7214ad25000051",
         "2021-02-06T11:07:42.000Z",
         "2021-02-06T11:07:42.000Z",
         null,
         "2021-02-06T11:07:42.000Z",
         null,
         null,
         null,
         null,
         null,
         "SUBMITTED",
         null,
         null,
         "5fc961c3b8cfca11a077dd33"
        ],
        [
         "60395c0e0a720fde100000d7",
         "2021-02-26T20:37:34.000Z",
         "2021-02-26T20:37:34.000Z",
         null,
         "2021-02-26T20:37:34.000Z",
         null,
         null,
         null,
         null,
         null,
         "SUBMITTED",
         null,
         null,
         "5fc961c3b8cfca11a077dd33"
        ],
        [
         "601a48390a720f05f40001b6",
         "2021-02-03T06:52:41.000Z",
         "2021-02-03T06:52:41.000Z",
         null,
         "2021-02-03T06:52:41.000Z",
         null,
         null,
         null,
         null,
         null,
         "SUBMITTED",
         null,
         null,
         "5fc961c3b8cfca11a077dd33"
        ],
        [
         "601d7bb60a7214ad59000141",
         "2021-02-05T17:09:10.000Z",
         "2021-02-05T17:09:10.000Z",
         "2021-02-05T17:09:10.000Z",
         "2021-02-05T17:09:10.000Z",
         "2021-02-05T00:00:00.000Z",
         null,
         null,
         null,
         null,
         "PENDING",
         null,
         "28.57",
         "59c124bae4b0299e55b0f330"
        ],
        [
         "6025495f0a720f05a8000231",
         "2021-02-11T15:12:31.000Z",
         "2021-02-11T15:12:31.000Z",
         null,
         "2021-02-11T15:12:31.000Z",
         null,
         null,
         null,
         null,
         null,
         "SUBMITTED",
         null,
         null,
         "5fc961c3b8cfca11a077dd33"
        ],
        [
         "601d7c480a720f05540003e0",
         "2021-02-05T17:11:36.000Z",
         "2021-02-05T17:11:36.000Z",
         "2021-02-05T17:11:36.000Z",
         "2021-02-05T17:11:36.000Z",
         "2021-02-05T00:00:00.000Z",
         null,
         null,
         null,
         null,
         "PENDING",
         null,
         "28.57",
         "59c124bae4b0299e55b0f330"
        ],
        [
         "60264b390a720f05a80002b0",
         "2021-02-12T09:32:41.000Z",
         "2021-02-12T09:32:41.000Z",
         null,
         "2021-02-12T09:32:41.000Z",
         null,
         null,
         null,
         null,
         null,
         "SUBMITTED",
         null,
         null,
         "5fc961c3b8cfca11a077dd33"
        ],
        [
         "5ffce88b0a7214ad4e004b22",
         "2021-01-12T00:08:42.000Z",
         "2021-01-12T00:08:42.000Z",
         null,
         "2021-01-12T00:08:42.000Z",
         null,
         null,
         null,
         null,
         null,
         "SUBMITTED",
         null,
         null,
         "59c124bae4b0299e55b0f330"
        ],
        [
         "6021ed3c0a720f05a800005f",
         "2021-02-09T02:02:36.000Z",
         "2021-02-09T02:02:36.000Z",
         null,
         "2021-02-09T02:02:36.000Z",
         null,
         null,
         null,
         null,
         null,
         "SUBMITTED",
         null,
         null,
         "5fc961c3b8cfca11a077dd33"
        ],
        [
         "601d7cd50a7214ad5900069f",
         "2021-02-05T17:13:57.000Z",
         "2021-02-05T17:13:57.000Z",
         "2021-02-05T17:13:57.000Z",
         "2021-02-05T17:13:57.000Z",
         "2021-02-05T00:00:00.000Z",
         null,
         null,
         null,
         null,
         "PENDING",
         null,
         "28.57",
         "59c124bae4b0299e55b0f330"
        ],
        [
         "6017037e0a7214ad5000021f",
         "2021-01-31T19:22:38.000Z",
         "2021-01-31T19:22:38.000Z",
         null,
         "2021-01-31T19:22:38.000Z",
         null,
         null,
         null,
         null,
         null,
         "SUBMITTED",
         null,
         null,
         "5fc961c3b8cfca11a077dd33"
        ],
        [
         "60216d880a7214d8e9000004",
         "2021-02-08T16:57:44.000Z",
         "2021-02-08T16:57:44.000Z",
         null,
         "2021-02-08T16:57:44.000Z",
         null,
         null,
         null,
         null,
         null,
         "SUBMITTED",
         null,
         null,
         "5fc961c3b8cfca11a077dd33"
        ],
        [
         "601d7bb60a720f055400013a",
         "2021-02-05T17:09:10.000Z",
         "2021-02-05T17:09:10.000Z",
         "2021-02-05T17:09:10.000Z",
         "2021-02-05T17:09:10.000Z",
         "2021-02-05T00:00:00.000Z",
         null,
         null,
         null,
         null,
         "PENDING",
         null,
         "28.57",
         "59c124bae4b0299e55b0f330"
        ],
        [
         "60118be80a7214ada2000075",
         "2021-01-27T15:51:04.000Z",
         "2021-01-27T15:51:04.000Z",
         null,
         "2021-01-27T15:51:05.000Z",
         "2021-01-26T15:51:04.000Z",
         null,
         "250.00",
         "250.00",
         "Receipt Number 3 Completed, Bonus Point Schedule ",
         "FLAGGED",
         1,
         "1.00",
         "60118bcfa4b74c18d3a8c0d7"
        ],
        [
         "60250b440a720f05a80001f5",
         "2021-02-11T10:47:32.000Z",
         "2021-02-11T10:47:32.000Z",
         null,
         "2021-02-11T10:47:32.000Z",
         null,
         null,
         null,
         null,
         null,
         "SUBMITTED",
         null,
         null,
         "5fc961c3b8cfca11a077dd33"
        ],
        [
         "60245f020a7214d8e90001d5",
         "2021-02-10T22:32:34.000Z",
         "2021-02-10T22:32:34.000Z",
         null,
         "2021-02-10T22:32:34.000Z",
         null,
         null,
         null,
         null,
         null,
         "SUBMITTED",
         null,
         null,
         "5fc961c3b8cfca11a077dd33"
        ],
        [
         "601af6d90a720f05f4000215",
         "2021-02-03T19:17:45.000Z",
         "2021-02-03T19:17:45.000Z",
         null,
         "2021-02-03T19:17:45.000Z",
         null,
         null,
         null,
         null,
         null,
         "SUBMITTED",
         null,
         null,
         "5fc961c3b8cfca11a077dd33"
        ],
        [
         "601620270a7214ad500001c1",
         "2021-01-31T03:12:39.000Z",
         "2021-01-31T03:12:39.000Z",
         null,
         "2021-01-31T03:12:39.000Z",
         null,
         null,
         null,
         null,
         null,
         "SUBMITTED",
         null,
         null,
         "5fc961c3b8cfca11a077dd33"
        ],
        [
         "5ffc8cb40a720f05c5000025",
         "2021-01-11T07:36:52.000Z",
         "2021-01-11T07:36:52.000Z",
         "2021-01-11T12:36:56.000Z",
         "2021-01-11T12:36:56.000Z",
         "2021-01-10T14:00:00.000Z",
         null,
         "0.00",
         null,
         null,
         "FINISHED",
         1,
         "3.09",
         "5ffc8cb304929111f6e9229d"
        ],
        [
         "5ffcefb00a720f0515005e8d",
         "2021-01-12T00:39:12.000Z",
         "2021-01-12T00:39:12.000Z",
         null,
         "2021-01-12T00:39:12.000Z",
         null,
         null,
         null,
         null,
         null,
         "SUBMITTED",
         null,
         null,
         "59c124bae4b0299e55b0f330"
        ],
        [
         "601fdb920a7214ad250000e2",
         "2021-02-07T12:22:42.000Z",
         "2021-02-07T12:22:42.000Z",
         null,
         "2021-02-07T12:22:42.000Z",
         null,
         null,
         null,
         null,
         null,
         "SUBMITTED",
         null,
         null,
         "5fc961c3b8cfca11a077dd33"
        ],
        [
         "603978600a7217c72c00010b",
         "2021-02-26T22:38:24.000Z",
         "2021-02-26T22:38:24.000Z",
         null,
         "2021-02-26T22:38:37.000Z",
         "2021-02-09T00:00:00.000Z",
         null,
         "25.00",
         "25.00",
         "Complete Nonpartner Receipt",
         "REJECTED",
         2,
         "25.58",
         "5fc961c3b8cfca11a077dd33"
        ],
        [
         "6022f4e60a7214d8e9000112",
         "2021-02-09T20:47:34.000Z",
         "2021-02-09T20:47:34.000Z",
         null,
         "2021-02-09T20:47:34.000Z",
         null,
         null,
         null,
         null,
         null,
         "SUBMITTED",
         null,
         null,
         "5fc961c3b8cfca11a077dd33"
        ],
        [
         "601d7c500a720f0554000409",
         "2021-02-05T17:11:44.000Z",
         "2021-02-05T17:11:44.000Z",
         "2021-02-05T17:11:44.000Z",
         "2021-02-05T17:11:44.000Z",
         "2021-02-05T00:00:00.000Z",
         null,
         null,
         null,
         null,
         "PENDING",
         null,
         "28.57",
         "59c124bae4b0299e55b0f330"
        ],
        [
         "6016366a0a720f05f800023a",
         "2021-01-31T04:47:38.000Z",
         "2021-01-31T04:47:38.000Z",
         null,
         "2021-01-31T04:47:38.000Z",
         null,
         null,
         null,
         null,
         null,
         "SUBMITTED",
         null,
         null,
         "5fc961c3b8cfca11a077dd33"
        ],
        [
         "601617f20a720f05f8000232",
         "2021-01-31T02:37:38.000Z",
         "2021-01-31T02:37:38.000Z",
         null,
         "2021-01-31T02:37:38.000Z",
         null,
         null,
         null,
         null,
         null,
         "SUBMITTED",
         null,
         null,
         "5fc961c3b8cfca11a077dd33"
        ],
        [
         "603b4f3f0a7217c72c0002c9",
         "2021-02-28T08:07:27.000Z",
         "2021-02-28T08:07:27.000Z",
         null,
         "2021-02-28T08:07:28.000Z",
         "2020-08-17T00:00:00.000Z",
         null,
         "25.00",
         "25.00",
         "Complete Nonpartner Receipt",
         "REJECTED",
         2,
         "34.96",
         "5fc961c3b8cfca11a077dd33"
        ],
        [
         "5ffe22a20a720f05ac0061d7",
         "2021-01-12T22:28:50.000Z",
         "2021-01-12T22:28:50.000Z",
         "2021-01-12T22:28:50.000Z",
         "2021-01-12T22:28:50.000Z",
         "2021-01-12T00:00:00.000Z",
         null,
         null,
         null,
         null,
         "PENDING",
         null,
         "28.57",
         "59c124bae4b0299e55b0f330"
        ],
        [
         "601b48df0a720f05f4000238",
         "2021-02-04T01:07:43.000Z",
         "2021-02-04T01:07:43.000Z",
         null,
         "2021-02-04T01:07:43.000Z",
         null,
         null,
         null,
         null,
         null,
         "SUBMITTED",
         null,
         null,
         "5fc961c3b8cfca11a077dd33"
        ],
        [
         "5ff774200a7214ada1000638",
         "2021-01-07T20:50:40.000Z",
         "2021-01-07T20:50:40.000Z",
         "2021-01-07T20:50:40.000Z",
         "2021-01-07T20:50:40.000Z",
         "2021-01-07T00:00:00.000Z",
         null,
         "0.00",
         null,
         null,
         "FINISHED",
         2,
         "6.18",
         "5ff7741e04929111f6e90902"
        ],
        [
         "603af1800a7217c72c00027b",
         "2021-02-28T01:27:28.000Z",
         "2021-02-28T01:27:28.000Z",
         null,
         "2021-02-28T01:27:29.000Z",
         "2020-08-17T00:00:00.000Z",
         null,
         "25.00",
         "25.00",
         "Complete Nonpartner Receipt",
         "REJECTED",
         2,
         "34.96",
         "5fc961c3b8cfca11a077dd33"
        ],
        [
         "601c27870a720f05f400029e",
         "2021-02-04T16:57:43.000Z",
         "2021-02-04T16:57:43.000Z",
         null,
         "2021-02-04T16:57:43.000Z",
         null,
         null,
         null,
         null,
         null,
         "SUBMITTED",
         null,
         null,
         "5fc961c3b8cfca11a077dd33"
        ],
        [
         "601795fa0a7214ad5000025b",
         "2021-02-01T05:47:38.000Z",
         "2021-02-01T05:47:38.000Z",
         null,
         "2021-02-01T05:47:38.000Z",
         null,
         null,
         null,
         null,
         null,
         "SUBMITTED",
         null,
         null,
         "5fc961c3b8cfca11a077dd33"
        ],
        [
         "602116ce0a7214ad2500015e",
         "2021-02-08T10:47:42.000Z",
         "2021-02-08T10:47:42.000Z",
         null,
         "2021-02-08T10:47:42.000Z",
         null,
         null,
         null,
         null,
         null,
         "SUBMITTED",
         null,
         null,
         "5fc961c3b8cfca11a077dd33"
        ],
        [
         "602623610a720f05a80002a2",
         "2021-02-12T06:42:41.000Z",
         "2021-02-12T06:42:41.000Z",
         null,
         "2021-02-12T06:42:41.000Z",
         null,
         null,
         null,
         null,
         null,
         "SUBMITTED",
         null,
         null,
         "5fc961c3b8cfca11a077dd33"
        ],
        [
         "601f38af0a720f053c0000d4",
         "2021-02-07T00:47:43.000Z",
         "2021-02-07T00:47:43.000Z",
         null,
         "2021-02-07T00:47:43.000Z",
         null,
         null,
         null,
         null,
         null,
         "SUBMITTED",
         null,
         null,
         "5fc961c3b8cfca11a077dd33"
        ],
        [
         "60204ae80a7214ad25000111",
         "2021-02-07T20:17:44.000Z",
         "2021-02-07T20:17:44.000Z",
         null,
         "2021-02-07T20:17:44.000Z",
         null,
         null,
         null,
         null,
         null,
         "SUBMITTED",
         null,
         null,
         "5fc961c3b8cfca11a077dd33"
        ],
        [
         "603adfeb0a7217c72c000265",
         "2021-02-28T00:12:27.000Z",
         "2021-02-28T00:12:27.000Z",
         null,
         "2021-02-28T00:12:28.000Z",
         "2020-08-17T00:00:00.000Z",
         null,
         "25.00",
         "25.00",
         "Complete Nonpartner Receipt",
         "REJECTED",
         2,
         "34.96",
         "5fc961c3b8cfca11a077dd33"
        ],
        [
         "6024397f0a720f05a8000199",
         "2021-02-10T19:52:31.000Z",
         "2021-02-10T19:52:31.000Z",
         null,
         "2021-02-10T19:52:31.000Z",
         null,
         null,
         null,
         null,
         null,
         "SUBMITTED",
         null,
         null,
         "5fc961c3b8cfca11a077dd33"
        ],
        [
         "601f09d10a720f053c0000bd",
         "2021-02-06T21:27:45.000Z",
         "2021-02-06T21:27:45.000Z",
         null,
         "2021-02-06T21:27:45.000Z",
         null,
         null,
         null,
         null,
         null,
         "SUBMITTED",
         null,
         null,
         "5fc961c3b8cfca11a077dd33"
        ],
        [
         "601602db0a7214ad500001b3",
         "2021-01-31T01:07:39.000Z",
         "2021-01-31T01:07:39.000Z",
         null,
         "2021-01-31T01:07:39.000Z",
         null,
         null,
         null,
         null,
         null,
         "SUBMITTED",
         null,
         null,
         "5fc961c3b8cfca11a077dd33"
        ],
        [
         "6020ac2a0a720f053c000177",
         "2021-02-08T03:12:42.000Z",
         "2021-02-08T03:12:42.000Z",
         null,
         "2021-02-08T03:12:42.000Z",
         null,
         null,
         null,
         null,
         null,
         "SUBMITTED",
         null,
         null,
         "5fc961c3b8cfca11a077dd33"
        ],
        [
         "6021d37b0a720f05a800003c",
         "2021-02-09T00:12:43.000Z",
         "2021-02-09T00:12:43.000Z",
         null,
         "2021-02-09T00:12:43.000Z",
         null,
         null,
         null,
         null,
         null,
         "SUBMITTED",
         null,
         null,
         "5fc961c3b8cfca11a077dd33"
        ],
        [
         "60258c2b0a7214d8e900028f",
         "2021-02-11T19:57:31.000Z",
         "2021-02-11T19:57:31.000Z",
         null,
         "2021-02-11T19:57:31.000Z",
         null,
         null,
         null,
         null,
         null,
         "SUBMITTED",
         null,
         null,
         "5fc961c3b8cfca11a077dd33"
        ],
        [
         "603a72f60a7217c72c000206",
         "2021-02-27T16:27:34.000Z",
         "2021-02-27T16:27:34.000Z",
         null,
         "2021-02-27T16:27:34.000Z",
         null,
         null,
         null,
         null,
         null,
         "SUBMITTED",
         null,
         null,
         "5fc961c3b8cfca11a077dd33"
        ],
        [
         "601f98c60a720f053c0000fe",
         "2021-02-07T07:37:42.000Z",
         "2021-02-07T07:37:42.000Z",
         null,
         "2021-02-07T07:37:42.000Z",
         null,
         null,
         null,
         null,
         null,
         "SUBMITTED",
         null,
         null,
         "5fc961c3b8cfca11a077dd33"
        ],
        [
         "601d7c300a7214ad59000384",
         "2021-02-05T17:11:12.000Z",
         "2021-02-05T17:11:12.000Z",
         "2021-02-05T17:11:12.000Z",
         "2021-02-05T17:11:12.000Z",
         "2021-02-05T00:00:00.000Z",
         null,
         null,
         null,
         null,
         "PENDING",
         null,
         "28.57",
         "59c124bae4b0299e55b0f330"
        ],
        [
         "6018af3b0a7214ad28000059",
         "2021-02-02T01:47:39.000Z",
         "2021-02-02T01:47:39.000Z",
         null,
         "2021-02-02T01:47:39.000Z",
         null,
         null,
         null,
         null,
         null,
         "SUBMITTED",
         null,
         null,
         "5fc961c3b8cfca11a077dd33"
        ],
        [
         "6018bd4b0a720f05f4000074",
         "2021-02-02T02:47:39.000Z",
         "2021-02-02T02:47:39.000Z",
         null,
         "2021-02-02T02:47:39.000Z",
         null,
         null,
         null,
         null,
         null,
         "SUBMITTED",
         null,
         null,
         "5fc961c3b8cfca11a077dd33"
        ],
        [
         "60391f210a7217c72c0000de",
         "2021-02-26T16:17:37.000Z",
         "2021-02-26T16:17:37.000Z",
         null,
         "2021-02-26T16:17:37.000Z",
         null,
         null,
         null,
         null,
         null,
         "SUBMITTED",
         null,
         null,
         "5fc961c3b8cfca11a077dd33"
        ],
        [
         "602213e70a720f05a8000071",
         "2021-02-09T04:47:35.000Z",
         "2021-02-09T04:47:35.000Z",
         null,
         "2021-02-09T04:47:35.000Z",
         null,
         null,
         null,
         null,
         null,
         "SUBMITTED",
         null,
         null,
         "5fc961c3b8cfca11a077dd33"
        ],
        [
         "601729000a720f05f80002a8",
         "2021-01-31T22:02:40.000Z",
         "2021-01-31T22:02:40.000Z",
         null,
         "2021-01-31T22:02:40.000Z",
         null,
         null,
         null,
         null,
         null,
         "SUBMITTED",
         null,
         null,
         "5fc961c3b8cfca11a077dd33"
        ],
        [
         "60048e120a720f05f3000092",
         "2021-01-17T19:20:50.000Z",
         "2021-01-17T19:20:50.000Z",
         null,
         "2021-01-17T19:20:50.000Z",
         null,
         null,
         null,
         null,
         null,
         "SUBMITTED",
         null,
         null,
         "5fa32b4d898c7a11a6bcebce"
        ],
        [
         "5ffce7a70a720f05150016b0",
         "2021-01-12T00:04:55.000Z",
         "2021-01-12T00:04:55.000Z",
         null,
         "2021-01-12T00:04:55.000Z",
         null,
         null,
         null,
         null,
         null,
         "SUBMITTED",
         null,
         null,
         "59c124bae4b0299e55b0f330"
        ],
        [
         "601aba020a7214ad280001d1",
         "2021-02-03T14:58:10.000Z",
         "2021-02-03T14:58:10.000Z",
         null,
         "2021-02-03T14:58:10.000Z",
         null,
         null,
         null,
         null,
         null,
         "SUBMITTED",
         null,
         null,
         "5fc961c3b8cfca11a077dd33"
        ],
        [
         "6025263b0a720f05a80001ff",
         "2021-02-11T12:42:35.000Z",
         "2021-02-11T12:42:35.000Z",
         null,
         "2021-02-11T12:42:35.000Z",
         null,
         null,
         null,
         null,
         null,
         "SUBMITTED",
         null,
         null,
         "5fc961c3b8cfca11a077dd33"
        ],
        [
         "60267a190a7214d8e90002fa",
         "2021-02-12T12:52:41.000Z",
         "2021-02-12T12:52:41.000Z",
         null,
         "2021-02-12T12:52:41.000Z",
         null,
         null,
         null,
         null,
         null,
         "SUBMITTED",
         null,
         null,
         "5fc961c3b8cfca11a077dd33"
        ],
        [
         "601ddca40a7214ad25000019",
         "2021-02-06T00:02:44.000Z",
         "2021-02-06T00:02:44.000Z",
         null,
         "2021-02-06T00:02:44.000Z",
         null,
         null,
         null,
         null,
         null,
         "SUBMITTED",
         null,
         null,
         "5fc961c3b8cfca11a077dd33"
        ],
        [
         "601eae650a720f053c000093",
         "2021-02-06T14:57:41.000Z",
         "2021-02-06T14:57:41.000Z",
         null,
         "2021-02-06T14:57:41.000Z",
         null,
         null,
         null,
         null,
         null,
         "SUBMITTED",
         null,
         null,
         "5fc961c3b8cfca11a077dd33"
        ],
        [
         "601d7ba00a720f05540000d2",
         "2021-02-05T17:08:48.000Z",
         "2021-02-05T17:08:48.000Z",
         "2021-02-05T17:08:48.000Z",
         "2021-02-05T17:08:48.000Z",
         "2021-02-05T00:00:00.000Z",
         null,
         null,
         null,
         null,
         "PENDING",
         null,
         "28.57",
         "59c124bae4b0299e55b0f330"
        ],
        [
         "6015970b0a7214ad50000189",
         "2021-01-30T17:27:39.000Z",
         "2021-01-30T17:27:39.000Z",
         null,
         "2021-01-30T17:27:39.000Z",
         null,
         null,
         null,
         null,
         null,
         "SUBMITTED",
         null,
         null,
         "5fc961c3b8cfca11a077dd33"
        ],
        [
         "602160a30a720f05c0000001",
         "2021-02-08T16:02:43.000Z",
         "2021-02-08T16:02:43.000Z",
         "2021-02-08T16:02:51.000Z",
         "2021-02-08T16:02:43.000Z",
         null,
         null,
         null,
         null,
         null,
         "PENDING",
         null,
         null,
         "54ca99a9e4b0b11b4f7d6dc5"
        ],
        [
         "6023a2530a720f05a8000144",
         "2021-02-10T09:07:31.000Z",
         "2021-02-10T09:07:31.000Z",
         null,
         "2021-02-10T09:07:31.000Z",
         null,
         null,
         null,
         null,
         null,
         "SUBMITTED",
         null,
         null,
         "5fc961c3b8cfca11a077dd33"
        ],
        [
         "603af1870a720fde1000023c",
         "2021-02-28T01:27:35.000Z",
         "2021-02-28T01:27:35.000Z",
         null,
         "2021-02-28T01:27:35.000Z",
         null,
         null,
         null,
         null,
         null,
         "SUBMITTED",
         null,
         null,
         "5fc961c3b8cfca11a077dd33"
        ],
        [
         "5ffe1c520a7214ad2800245c",
         "2021-01-12T22:01:54.000Z",
         "2021-01-12T22:01:54.000Z",
         "2021-01-12T22:01:54.000Z",
         "2021-01-12T22:01:54.000Z",
         "2021-01-12T00:00:00.000Z",
         null,
         null,
         null,
         null,
         "PENDING",
         null,
         "28.57",
         "59c124bae4b0299e55b0f330"
        ],
        [
         "60088aff0a7214ad890000da",
         "2021-01-20T19:56:47.000Z",
         "2021-01-20T19:56:47.000Z",
         null,
         "2021-01-20T19:56:52.000Z",
         "2021-01-20T00:00:00.000Z",
         null,
         "5.00",
         "5.00",
         "All-receipts Receipt Bonus",
         "REJECTED",
         1,
         "10.00",
         "60088aff633aab121bb8e33d"
        ],
        [
         "601af2280a7214ad28000209",
         "2021-02-03T18:57:44.000Z",
         "2021-02-03T18:57:44.000Z",
         null,
         "2021-02-03T18:57:44.000Z",
         null,
         null,
         null,
         null,
         null,
         "SUBMITTED",
         null,
         null,
         "5fc961c3b8cfca11a077dd33"
        ],
        [
         "5ffce8250a720f0515003510",
         "2021-01-12T00:07:01.000Z",
         "2021-01-12T00:07:01.000Z",
         null,
         "2021-01-12T00:07:01.000Z",
         null,
         null,
         null,
         null,
         null,
         "SUBMITTED",
         null,
         null,
         "59c124bae4b0299e55b0f330"
        ],
        [
         "601a59ce0a7214ad2800019b",
         "2021-02-03T08:07:42.000Z",
         "2021-02-03T08:07:42.000Z",
         null,
         "2021-02-03T08:07:42.000Z",
         null,
         null,
         null,
         null,
         null,
         "SUBMITTED",
         null,
         null,
         "5fc961c3b8cfca11a077dd33"
        ],
        [
         "5ff1e1f10a720f052300057a",
         "2021-01-03T15:25:37.000Z",
         "2021-01-03T15:25:37.000Z",
         null,
         "2021-01-03T15:25:42.000Z",
         "2021-01-03T00:00:00.000Z",
         null,
         "5.00",
         "5.00",
         "All-receipts Receipt Bonus",
         "REJECTED",
         1,
         "10.00",
         "5ff1e1f1cfcf6c399c274b0b"
        ],
        [
         "5ffc9dc60a7214adca00005a",
         "2021-01-11T18:49:42.000Z",
         "2021-01-11T18:49:42.000Z",
         null,
         "2021-01-11T18:49:43.000Z",
         "2017-10-30T00:00:00.000Z",
         null,
         null,
         null,
         null,
         "REJECTED",
         3,
         "3.00",
         "5ffc9d87b3348b11c9338920"
        ],
        [
         "5ff1e1e90a7214ada1000569",
         "2021-01-03T15:25:29.000Z",
         "2021-01-03T15:25:29.000Z",
         null,
         "2021-01-03T15:25:29.000Z",
         null,
         null,
         null,
         null,
         null,
         "FLAGGED",
         0,
         "0.00",
         "5ff1e1e9b6a9d73a3a9f10f6"
        ],
        [
         "603d40250a720fde10000459",
         "2021-03-01T19:27:33.000Z",
         "2021-03-01T19:27:33.000Z",
         null,
         "2021-03-01T19:27:34.000Z",
         "2020-08-17T00:00:00.000Z",
         null,
         "25.00",
         "25.00",
         "Complete Nonpartner Receipt",
         "REJECTED",
         2,
         "34.96",
         "5fc961c3b8cfca11a077dd33"
        ],
        [
         "601fee520a720f053c000120",
         "2021-02-07T13:42:42.000Z",
         "2021-02-07T13:42:42.000Z",
         null,
         "2021-02-07T13:42:42.000Z",
         null,
         null,
         null,
         null,
         null,
         "SUBMITTED",
         null,
         null,
         "5fc961c3b8cfca11a077dd33"
        ],
        [
         "6024f7570a7214d8e900021f",
         "2021-02-11T09:22:31.000Z",
         "2021-02-11T09:22:31.000Z",
         null,
         "2021-02-11T09:22:31.000Z",
         null,
         null,
         null,
         null,
         null,
         "SUBMITTED",
         null,
         null,
         "5fc961c3b8cfca11a077dd33"
        ],
        [
         "601a23e60a7214ad28000187",
         "2021-02-03T04:17:42.000Z",
         "2021-02-03T04:17:42.000Z",
         null,
         "2021-02-03T04:17:42.000Z",
         null,
         null,
         null,
         null,
         null,
         "SUBMITTED",
         null,
         null,
         "5fc961c3b8cfca11a077dd33"
        ],
        [
         "60025f550a7214ad4c000084",
         "2021-01-16T03:36:53.000Z",
         "2021-01-16T03:36:53.000Z",
         null,
         "2021-01-16T03:36:53.000Z",
         null,
         null,
         null,
         null,
         null,
         "SUBMITTED",
         null,
         null,
         "60025c65fb296c4ef805d9e6"
        ],
        [
         "60189cb60a720f05f4000061",
         "2021-02-02T00:28:38.000Z",
         "2021-02-02T00:28:38.000Z",
         null,
         "2021-02-02T00:28:38.000Z",
         null,
         null,
         null,
         null,
         null,
         "SUBMITTED",
         null,
         null,
         "60189c74c8b50e11d8454eff"
        ],
        [
         "601ab7900a720f05f40001ec",
         "2021-02-03T14:47:44.000Z",
         "2021-02-03T14:47:44.000Z",
         null,
         "2021-02-03T14:47:44.000Z",
         null,
         null,
         null,
         null,
         null,
         "SUBMITTED",
         null,
         null,
         "5fc961c3b8cfca11a077dd33"
        ],
        [
         "601f46bf0a7214ad250000a4",
         "2021-02-07T01:47:43.000Z",
         "2021-02-07T01:47:43.000Z",
         null,
         "2021-02-07T01:47:43.000Z",
         null,
         null,
         null,
         null,
         null,
         "SUBMITTED",
         null,
         null,
         "5fc961c3b8cfca11a077dd33"
        ],
        [
         "6015048f0a720f05f80001bf",
         "2021-01-30T07:02:39.000Z",
         "2021-01-30T07:02:39.000Z",
         null,
         "2021-01-30T07:02:39.000Z",
         null,
         null,
         null,
         null,
         null,
         "SUBMITTED",
         null,
         null,
         "5fc961c3b8cfca11a077dd33"
        ],
        [
         "603996a70a7217c72c000145",
         "2021-02-27T00:47:35.000Z",
         "2021-02-27T00:47:35.000Z",
         null,
         "2021-02-27T00:47:35.000Z",
         null,
         null,
         null,
         null,
         null,
         "SUBMITTED",
         null,
         null,
         "5fc961c3b8cfca11a077dd33"
        ],
        [
         "602315b50a720f05a8000104",
         "2021-02-09T23:07:33.000Z",
         "2021-02-09T23:07:33.000Z",
         null,
         "2021-02-09T23:07:33.000Z",
         null,
         null,
         null,
         null,
         null,
         "SUBMITTED",
         null,
         null,
         "5fc961c3b8cfca11a077dd33"
        ],
        [
         "603c0ac20a7217c72c00035c",
         "2021-02-28T21:27:30.000Z",
         "2021-02-28T21:27:30.000Z",
         null,
         "2021-02-28T21:27:31.000Z",
         "2020-08-17T00:00:00.000Z",
         null,
         "25.00",
         "25.00",
         "Complete Nonpartner Receipt",
         "REJECTED",
         2,
         "34.96",
         "5fc961c3b8cfca11a077dd33"
        ],
        [
         "601c265a0a720f05f400029d",
         "2021-02-04T16:52:42.000Z",
         "2021-02-04T16:52:42.000Z",
         null,
         "2021-02-04T16:52:42.000Z",
         null,
         null,
         null,
         null,
         null,
         "SUBMITTED",
         null,
         null,
         "5fc961c3b8cfca11a077dd33"
        ],
        [
         "602367ba0a720f05a800012e",
         "2021-02-10T04:57:30.000Z",
         "2021-02-10T04:57:30.000Z",
         null,
         "2021-02-10T04:57:30.000Z",
         null,
         null,
         null,
         null,
         null,
         "SUBMITTED",
         null,
         null,
         "5fc961c3b8cfca11a077dd33"
        ],
        [
         "601d77170a720f053c00000a",
         "2021-02-05T16:49:27.000Z",
         "2021-02-05T16:49:27.000Z",
         "2021-02-05T16:49:27.000Z",
         "2021-02-05T16:49:27.000Z",
         "2021-02-05T00:00:00.000Z",
         null,
         null,
         null,
         null,
         "PENDING",
         null,
         "28.57",
         "59c124bae4b0299e55b0f330"
        ],
        [
         "601d83930a7214ad59000932",
         "2021-02-05T17:42:42.000Z",
         "2021-02-05T17:42:42.000Z",
         null,
         "2021-02-05T17:42:42.000Z",
         null,
         null,
         null,
         null,
         null,
         "SUBMITTED",
         null,
         null,
         "5fc961c3b8cfca11a077dd33"
        ],
        [
         "60145a510a7214ad50000086",
         "2021-01-29T18:56:17.000Z",
         "2021-01-29T18:56:17.000Z",
         null,
         "2021-01-29T18:56:22.000Z",
         "2021-01-29T00:00:00.000Z",
         null,
         "5.00",
         "5.00",
         "All-receipts Receipt Bonus",
         "REJECTED",
         1,
         "10.00",
         "60145a5167804a1228b20ddd"
        ],
        [
         "601c090e0a7214ad28000282",
         "2021-02-04T14:47:41.000Z",
         "2021-02-04T14:47:41.000Z",
         null,
         "2021-02-04T14:47:41.000Z",
         null,
         null,
         null,
         null,
         null,
         "SUBMITTED",
         null,
         null,
         "5fc961c3b8cfca11a077dd33"
        ],
        [
         "6014d3560a720f05f80001ad",
         "2021-01-30T03:32:38.000Z",
         "2021-01-30T03:32:38.000Z",
         null,
         "2021-01-30T03:32:38.000Z",
         null,
         null,
         null,
         null,
         null,
         "SUBMITTED",
         null,
         null,
         "5fc961c3b8cfca11a077dd33"
        ],
        [
         "603cc0630a720fde100003e6",
         "2021-03-01T10:22:27.000Z",
         "2021-03-01T10:22:27.000Z",
         null,
         "2021-03-01T10:22:28.000Z",
         "2020-08-17T00:00:00.000Z",
         null,
         "25.00",
         "25.00",
         "Complete Nonpartner Receipt",
         "REJECTED",
         2,
         "34.96",
         "5fc961c3b8cfca11a077dd33"
        ],
        [
         "60157c190a720f05f80001eb",
         "2021-01-30T15:32:41.000Z",
         "2021-01-30T15:32:41.000Z",
         null,
         "2021-01-30T15:32:41.000Z",
         null,
         null,
         null,
         null,
         null,
         "SUBMITTED",
         null,
         null,
         "5fc961c3b8cfca11a077dd33"
        ],
        [
         "6021804a0a720f05a8000019",
         "2021-02-08T18:17:46.000Z",
         "2021-02-08T18:17:46.000Z",
         null,
         "2021-02-08T18:17:46.000Z",
         null,
         null,
         null,
         null,
         null,
         "SUBMITTED",
         null,
         null,
         "5fc961c3b8cfca11a077dd33"
        ],
        [
         "6000c74b0a7214ad4c000060",
         "2021-01-14T22:35:53.000Z",
         "2021-01-14T22:35:53.000Z",
         null,
         "2021-01-14T22:35:53.000Z",
         null,
         null,
         null,
         null,
         null,
         "SUBMITTED",
         null,
         null,
         "5a43c08fe4b014fd6b6a0612"
        ],
        [
         "603babdb0a720fde100002e1",
         "2021-02-28T14:42:35.000Z",
         "2021-02-28T14:42:35.000Z",
         null,
         "2021-02-28T14:42:35.000Z",
         null,
         null,
         null,
         null,
         null,
         "SUBMITTED",
         null,
         null,
         "5fc961c3b8cfca11a077dd33"
        ],
        [
         "6015a06b0a7214ad5000018d",
         "2021-01-30T18:07:39.000Z",
         "2021-01-30T18:07:39.000Z",
         null,
         "2021-01-30T18:07:39.000Z",
         null,
         null,
         null,
         null,
         null,
         "SUBMITTED",
         null,
         null,
         "5fc961c3b8cfca11a077dd33"
        ],
        [
         "6038cabd0a720fde1000009c",
         "2021-02-26T10:17:33.000Z",
         "2021-02-26T10:17:33.000Z",
         null,
         "2021-02-26T10:17:33.000Z",
         null,
         null,
         null,
         null,
         null,
         "SUBMITTED",
         null,
         null,
         "5fc961c3b8cfca11a077dd33"
        ],
        [
         "601d7b840a720f055400004e",
         "2021-02-05T17:08:20.000Z",
         "2021-02-05T17:08:20.000Z",
         "2021-02-05T17:08:20.000Z",
         "2021-02-05T17:08:20.000Z",
         "2021-02-05T00:00:00.000Z",
         null,
         null,
         null,
         null,
         "PENDING",
         null,
         "28.57",
         "59c124bae4b0299e55b0f330"
        ],
        [
         "601687480a720f05f800025b",
         "2021-01-31T10:32:40.000Z",
         "2021-01-31T10:32:40.000Z",
         null,
         "2021-01-31T10:32:40.000Z",
         null,
         null,
         null,
         null,
         null,
         "SUBMITTED",
         null,
         null,
         "5fc961c3b8cfca11a077dd33"
        ],
        [
         "603d760e0a720fde1000048e",
         "2021-03-01T23:17:34.000Z",
         "2021-03-01T23:17:34.000Z",
         null,
         "2021-03-01T23:17:34.000Z",
         null,
         null,
         null,
         null,
         null,
         "SUBMITTED",
         null,
         null,
         "5fc961c3b8cfca11a077dd33"
        ],
        [
         "5ff475820a7214ada10005cf",
         "2021-01-05T14:19:46.000Z",
         "2021-01-05T14:19:46.000Z",
         null,
         "2021-01-05T14:19:46.000Z",
         null,
         null,
         null,
         null,
         null,
         "SUBMITTED",
         null,
         null,
         "5a43c08fe4b014fd6b6a0612"
        ],
        [
         "60173a940a7214ad50000235",
         "2021-01-31T23:17:40.000Z",
         "2021-01-31T23:17:40.000Z",
         null,
         "2021-01-31T23:17:40.000Z",
         null,
         null,
         null,
         null,
         null,
         "SUBMITTED",
         null,
         null,
         "5fc961c3b8cfca11a077dd33"
        ],
        [
         "603bcdd00a7217c72c000335",
         "2021-02-28T17:07:28.000Z",
         "2021-02-28T17:07:28.000Z",
         null,
         "2021-02-28T17:07:29.000Z",
         "2020-08-17T00:00:00.000Z",
         null,
         "25.00",
         "25.00",
         "Complete Nonpartner Receipt",
         "REJECTED",
         2,
         "34.96",
         "5fc961c3b8cfca11a077dd33"
        ],
        [
         "5ffce8570a7214ad4e003e6f",
         "2021-01-12T00:07:51.000Z",
         "2021-01-12T00:07:51.000Z",
         null,
         "2021-01-12T00:07:51.000Z",
         null,
         null,
         null,
         null,
         null,
         "SUBMITTED",
         null,
         null,
         "59c124bae4b0299e55b0f330"
        ],
        [
         "603b18350a7217c72c00029e",
         "2021-02-28T04:12:37.000Z",
         "2021-02-28T04:12:37.000Z",
         null,
         "2021-02-28T04:12:37.000Z",
         null,
         null,
         null,
         null,
         null,
         "SUBMITTED",
         null,
         null,
         "5fc961c3b8cfca11a077dd33"
        ],
        [
         "6020c84a0a720f053c000187",
         "2021-02-08T05:12:42.000Z",
         "2021-02-08T05:12:42.000Z",
         null,
         "2021-02-08T05:12:42.000Z",
         null,
         null,
         null,
         null,
         null,
         "SUBMITTED",
         null,
         null,
         "5fc961c3b8cfca11a077dd33"
        ],
        [
         "6018682c0a720f05f4000011",
         "2021-02-01T20:44:28.000Z",
         "2021-02-01T20:44:28.000Z",
         null,
         "2021-02-01T20:44:28.000Z",
         null,
         null,
         null,
         null,
         null,
         "SUBMITTED",
         null,
         null,
         "60186237c8b50e11d8454d5f"
        ],
        [
         "6039d4bc0a7217c72c000184",
         "2021-02-27T05:12:28.000Z",
         "2021-02-27T05:12:28.000Z",
         null,
         "2021-02-27T05:12:29.000Z",
         "2020-08-17T00:00:00.000Z",
         null,
         "25.00",
         "25.00",
         "Complete Nonpartner Receipt",
         "REJECTED",
         2,
         "34.96",
         "5fc961c3b8cfca11a077dd33"
        ],
        [
         "6016acc60a720f05f800026e",
         "2021-01-31T13:12:38.000Z",
         "2021-01-31T13:12:38.000Z",
         null,
         "2021-01-31T13:12:38.000Z",
         null,
         null,
         null,
         null,
         null,
         "SUBMITTED",
         null,
         null,
         "5fc961c3b8cfca11a077dd33"
        ],
        [
         "601443600a7214ad50000060",
         "2021-01-29T17:18:24.000Z",
         "2021-01-29T17:18:24.000Z",
         null,
         "2021-01-29T17:18:29.000Z",
         "2021-01-29T00:00:00.000Z",
         null,
         "5.00",
         "5.00",
         "All-receipts Receipt Bonus",
         "REJECTED",
         1,
         "10.00",
         "6014436084231211ce793ced"
        ],
        [
         "603cba880a7217c72c0003e0",
         "2021-03-01T09:57:28.000Z",
         "2021-03-01T09:57:28.000Z",
         null,
         "2021-03-01T09:57:29.000Z",
         "2020-08-17T00:00:00.000Z",
         null,
         "25.00",
         "25.00",
         "Complete Nonpartner Receipt",
         "REJECTED",
         2,
         "34.96",
         "5fc961c3b8cfca11a077dd33"
        ],
        [
         "601c28b30a720f05f400029f",
         "2021-02-04T17:02:43.000Z",
         "2021-02-04T17:02:43.000Z",
         null,
         "2021-02-04T17:02:43.000Z",
         null,
         null,
         null,
         null,
         null,
         "SUBMITTED",
         null,
         null,
         "5fc961c3b8cfca11a077dd33"
        ],
        [
         "601d7c000a7214ad590002a1",
         "2021-02-05T17:10:24.000Z",
         "2021-02-05T17:10:24.000Z",
         "2021-02-05T17:10:24.000Z",
         "2021-02-05T17:10:24.000Z",
         "2021-02-05T00:00:00.000Z",
         null,
         null,
         null,
         null,
         "PENDING",
         null,
         "28.57",
         "59c124bae4b0299e55b0f330"
        ],
        [
         "60251e050a720f05a80001fc",
         "2021-02-11T12:07:33.000Z",
         "2021-02-11T12:07:33.000Z",
         null,
         "2021-02-11T12:07:33.000Z",
         null,
         null,
         null,
         null,
         null,
         "SUBMITTED",
         null,
         null,
         "5fc961c3b8cfca11a077dd33"
        ],
        [
         "600887970a7214ad8900007c",
         "2021-01-20T19:42:15.000Z",
         "2021-01-20T19:42:15.000Z",
         null,
         "2021-01-20T19:42:15.000Z",
         null,
         null,
         null,
         null,
         null,
         "SUBMITTED",
         null,
         null,
         "6008873eb6310511daa4e8eb"
        ],
        [
         "6020e91a0a720f053c000196",
         "2021-02-08T07:32:42.000Z",
         "2021-02-08T07:32:42.000Z",
         null,
         "2021-02-08T07:32:42.000Z",
         null,
         null,
         null,
         null,
         null,
         "SUBMITTED",
         null,
         null,
         "5fc961c3b8cfca11a077dd33"
        ],
        [
         "601c80940a720f05f40002d9",
         "2021-02-04T23:17:40.000Z",
         "2021-02-04T23:17:40.000Z",
         null,
         "2021-02-04T23:17:40.000Z",
         null,
         null,
         null,
         null,
         null,
         "SUBMITTED",
         null,
         null,
         "5fc961c3b8cfca11a077dd33"
        ],
        [
         "603add9a0a7217c72c000263",
         "2021-02-28T00:02:34.000Z",
         "2021-02-28T00:02:34.000Z",
         null,
         "2021-02-28T00:02:34.000Z",
         null,
         null,
         null,
         null,
         null,
         "SUBMITTED",
         null,
         null,
         "5fc961c3b8cfca11a077dd33"
        ],
        [
         "601b2c090a7214ad2800021a",
         "2021-02-03T17:04:40.000Z",
         "2021-02-03T17:04:40.000Z",
         null,
         "2021-02-03T17:04:40.000Z",
         null,
         null,
         null,
         null,
         null,
         "SUBMITTED",
         null,
         null,
         "542ace60e4b0b3d724922499"
        ],
        [
         "602145ae0a720f0573000007",
         "2021-02-08T14:07:42.000Z",
         "2021-02-08T14:07:42.000Z",
         null,
         "2021-02-08T14:07:42.000Z",
         null,
         null,
         null,
         null,
         null,
         "SUBMITTED",
         null,
         null,
         "5fc961c3b8cfca11a077dd33"
        ],
        [
         "603862720a720fde1000006b",
         "2021-02-26T02:52:34.000Z",
         "2021-02-26T02:52:34.000Z",
         null,
         "2021-02-26T02:52:34.000Z",
         null,
         null,
         null,
         null,
         null,
         "SUBMITTED",
         null,
         null,
         "5fc961c3b8cfca11a077dd33"
        ],
        [
         "60205b510a7214ad25000117",
         "2021-02-07T21:27:45.000Z",
         "2021-02-07T21:27:45.000Z",
         null,
         "2021-02-07T21:27:45.000Z",
         null,
         null,
         null,
         null,
         null,
         "SUBMITTED",
         null,
         null,
         "5fc961c3b8cfca11a077dd33"
        ],
        [
         "603ca44a0a720fde100003d0",
         "2021-03-01T08:22:34.000Z",
         "2021-03-01T08:22:34.000Z",
         null,
         "2021-03-01T08:22:34.000Z",
         null,
         null,
         null,
         null,
         null,
         "SUBMITTED",
         null,
         null,
         "5fc961c3b8cfca11a077dd33"
        ],
        [
         "6025b2e10a7214d8e90002a3",
         "2021-02-11T22:42:41.000Z",
         "2021-02-11T22:42:41.000Z",
         null,
         "2021-02-11T22:42:41.000Z",
         null,
         null,
         null,
         null,
         null,
         "SUBMITTED",
         null,
         null,
         "5fc961c3b8cfca11a077dd33"
        ],
        [
         "6021ca1c0a720f05a8000039",
         "2021-02-08T23:32:44.000Z",
         "2021-02-08T23:32:44.000Z",
         null,
         "2021-02-08T23:32:44.000Z",
         null,
         null,
         null,
         null,
         null,
         "SUBMITTED",
         null,
         null,
         "5fc961c3b8cfca11a077dd33"
        ],
        [
         "602671e50a720f05a80002c4",
         "2021-02-12T12:17:41.000Z",
         "2021-02-12T12:17:41.000Z",
         null,
         "2021-02-12T12:17:41.000Z",
         null,
         null,
         null,
         null,
         null,
         "SUBMITTED",
         null,
         null,
         "5fc961c3b8cfca11a077dd33"
        ],
        [
         "601581f40a7214ad50000181",
         "2021-01-30T15:57:40.000Z",
         "2021-01-30T15:57:40.000Z",
         null,
         "2021-01-30T15:57:40.000Z",
         null,
         null,
         null,
         null,
         null,
         "SUBMITTED",
         null,
         null,
         "5fc961c3b8cfca11a077dd33"
        ],
        [
         "603a001e0a7217c72c0001a0",
         "2021-02-27T08:17:34.000Z",
         "2021-02-27T08:17:34.000Z",
         null,
         "2021-02-27T08:17:34.000Z",
         null,
         null,
         null,
         null,
         null,
         "SUBMITTED",
         null,
         null,
         "5fc961c3b8cfca11a077dd33"
        ],
        [
         "5ffe1b630a7214ad28001c79",
         "2021-01-12T21:57:55.000Z",
         "2021-01-12T21:57:55.000Z",
         "2021-01-12T21:57:55.000Z",
         "2021-01-12T21:57:55.000Z",
         "2021-01-12T00:00:00.000Z",
         null,
         null,
         null,
         null,
         "PENDING",
         null,
         "28.57",
         "59c124bae4b0299e55b0f330"
        ],
        [
         "601721f90a720f05f80002a6",
         "2021-01-31T21:32:41.000Z",
         "2021-01-31T21:32:41.000Z",
         null,
         "2021-01-31T21:32:41.000Z",
         null,
         null,
         null,
         null,
         null,
         "SUBMITTED",
         null,
         null,
         "5fc961c3b8cfca11a077dd33"
        ],
        [
         "601d7d230a720f05540007ce",
         "2021-02-05T17:15:15.000Z",
         "2021-02-05T17:15:15.000Z",
         "2021-02-05T17:15:15.000Z",
         "2021-02-05T17:15:15.000Z",
         "2021-02-05T00:00:00.000Z",
         null,
         null,
         null,
         null,
         "PENDING",
         null,
         "28.57",
         "59c124bae4b0299e55b0f330"
        ],
        [
         "60244d6e0a7214d8e90001c9",
         "2021-02-10T21:17:34.000Z",
         "2021-02-10T21:17:34.000Z",
         null,
         "2021-02-10T21:17:34.000Z",
         null,
         null,
         null,
         null,
         null,
         "SUBMITTED",
         null,
         null,
         "5fc961c3b8cfca11a077dd33"
        ],
        [
         "603a54770a720fde100001bd",
         "2021-02-27T14:17:27.000Z",
         "2021-02-27T14:17:27.000Z",
         null,
         "2021-02-27T14:17:28.000Z",
         "2020-08-17T00:00:00.000Z",
         null,
         "25.00",
         "25.00",
         "Complete Nonpartner Receipt",
         "REJECTED",
         2,
         "34.96",
         "5fc961c3b8cfca11a077dd33"
        ],
        [
         "6018a95f0a7214ad28000056",
         "2021-02-02T01:22:39.000Z",
         "2021-02-02T01:22:39.000Z",
         null,
         "2021-02-02T01:22:39.000Z",
         null,
         null,
         null,
         null,
         null,
         "SUBMITTED",
         null,
         null,
         "5fc961c3b8cfca11a077dd33"
        ],
        [
         "6001bb110a720f05f3000085",
         "2021-01-15T15:56:01.000Z",
         "2021-01-15T15:56:01.000Z",
         null,
         "2021-01-15T15:56:01.000Z",
         null,
         null,
         null,
         null,
         null,
         "SUBMITTED",
         null,
         null,
         "6000b75bbe5fc96dfee1d4d3"
        ],
        [
         "603b7e260a720fde100002b8",
         "2021-02-28T11:27:34.000Z",
         "2021-02-28T11:27:34.000Z",
         null,
         "2021-02-28T11:27:34.000Z",
         null,
         null,
         null,
         null,
         null,
         "SUBMITTED",
         null,
         null,
         "5fc961c3b8cfca11a077dd33"
        ],
        [
         "603877bb0a720fde10000074",
         "2021-02-26T04:23:23.000Z",
         "2021-02-26T04:23:23.000Z",
         null,
         "2021-02-26T04:23:23.000Z",
         null,
         null,
         null,
         null,
         null,
         "SUBMITTED",
         null,
         null,
         "5fc961c3b8cfca11a077dd33"
        ],
        [
         "601e35b40a7214ad2500003c",
         "2021-02-06T06:22:44.000Z",
         "2021-02-06T06:22:44.000Z",
         null,
         "2021-02-06T06:22:44.000Z",
         null,
         null,
         null,
         null,
         null,
         "SUBMITTED",
         null,
         null,
         "5fc961c3b8cfca11a077dd33"
        ],
        [
         "6022b0ef0a7214d8e90000f3",
         "2021-02-09T15:57:35.000Z",
         "2021-02-09T15:57:35.000Z",
         null,
         "2021-02-09T15:57:35.000Z",
         null,
         null,
         null,
         null,
         null,
         "SUBMITTED",
         null,
         null,
         "5fc961c3b8cfca11a077dd33"
        ],
        [
         "60267d9d0a7214d8e90002fb",
         "2021-02-12T13:07:41.000Z",
         "2021-02-12T13:07:41.000Z",
         null,
         "2021-02-12T13:07:41.000Z",
         null,
         null,
         null,
         null,
         null,
         "SUBMITTED",
         null,
         null,
         "5fc961c3b8cfca11a077dd33"
        ],
        [
         "5ff794600a7214ada1000647",
         "2021-01-07T05:08:16.000Z",
         "2021-01-07T05:08:16.000Z",
         null,
         "2021-01-07T17:08:17.000Z",
         null,
         null,
         null,
         null,
         null,
         "FLAGGED",
         0,
         "0.00",
         "5ff7946004929111f6e90ceb"
        ],
        [
         "6014a4760a7214ad50000116",
         "2021-01-30T00:12:38.000Z",
         "2021-01-30T00:12:38.000Z",
         null,
         "2021-01-30T00:12:38.000Z",
         null,
         null,
         null,
         null,
         null,
         "SUBMITTED",
         null,
         null,
         "5fc961c3b8cfca11a077dd33"
        ],
        [
         "6008878f0a7214ad8900007b",
         "2021-01-20T19:42:07.000Z",
         "2021-01-20T19:42:07.000Z",
         null,
         "2021-01-20T19:42:13.000Z",
         "2017-10-30T00:00:00.000Z",
         null,
         null,
         null,
         null,
         "REJECTED",
         3,
         "3.00",
         "6008873eb6310511daa4e8eb"
        ],
        [
         "601e14e30a7214ad2500002e",
         "2021-02-06T04:02:43.000Z",
         "2021-02-06T04:02:43.000Z",
         null,
         "2021-02-06T04:02:43.000Z",
         null,
         null,
         null,
         null,
         null,
         "SUBMITTED",
         null,
         null,
         "5fc961c3b8cfca11a077dd33"
        ],
        [
         "6016dba70a720f05f8000285",
         "2021-01-31T16:32:39.000Z",
         "2021-01-31T16:32:39.000Z",
         null,
         "2021-01-31T16:32:39.000Z",
         null,
         null,
         null,
         null,
         null,
         "SUBMITTED",
         null,
         null,
         "5fc961c3b8cfca11a077dd33"
        ],
        [
         "6018abb90a720f05f400006d",
         "2021-02-02T01:32:41.000Z",
         "2021-02-02T01:32:41.000Z",
         null,
         "2021-02-02T01:32:41.000Z",
         null,
         null,
         null,
         null,
         null,
         "SUBMITTED",
         null,
         null,
         "5fc961c3b8cfca11a077dd33"
        ],
        [
         "5ffce7db0a720f051500236e",
         "2021-01-12T00:05:47.000Z",
         "2021-01-12T00:05:47.000Z",
         "2021-01-12T00:05:49.000Z",
         "2021-01-12T00:05:47.000Z",
         "2021-01-12T00:00:00.000Z",
         null,
         null,
         null,
         null,
         "PENDING",
         null,
         "28.57",
         "59c124bae4b0299e55b0f330"
        ],
        [
         "601f90920a720f053c0000f9",
         "2021-02-07T07:02:42.000Z",
         "2021-02-07T07:02:42.000Z",
         null,
         "2021-02-07T07:02:42.000Z",
         null,
         null,
         null,
         null,
         null,
         "SUBMITTED",
         null,
         null,
         "5fc961c3b8cfca11a077dd33"
        ],
        [
         "603a479d0a7217c72c0001e7",
         "2021-02-27T13:22:37.000Z",
         "2021-02-27T13:22:37.000Z",
         null,
         "2021-02-27T13:22:37.000Z",
         null,
         null,
         null,
         null,
         null,
         "SUBMITTED",
         null,
         null,
         "5fc961c3b8cfca11a077dd33"
        ],
        [
         "603a90430a7217c72c000226",
         "2021-02-27T18:32:35.000Z",
         "2021-02-27T18:32:35.000Z",
         null,
         "2021-02-27T18:32:35.000Z",
         null,
         null,
         null,
         null,
         null,
         "SUBMITTED",
         null,
         null,
         "5fc961c3b8cfca11a077dd33"
        ],
        [
         "603aa55a0a7217c72c000233",
         "2021-02-27T20:02:34.000Z",
         "2021-02-27T20:02:34.000Z",
         null,
         "2021-02-27T20:02:34.000Z",
         null,
         null,
         null,
         null,
         null,
         "SUBMITTED",
         null,
         null,
         "5fc961c3b8cfca11a077dd33"
        ],
        [
         "600082b40a720f05f3000058",
         "2021-01-14T17:43:16.000Z",
         "2021-01-14T17:43:16.000Z",
         null,
         "2021-01-14T17:46:31.000Z",
         "2021-01-14T00:00:00.000Z",
         null,
         null,
         null,
         null,
         "REJECTED",
         4,
         "4.00",
         "5e56d38507a0df22a15dfc85"
        ],
        [
         "601a6c8d0a720f05f40001c4",
         "2021-02-03T09:27:41.000Z",
         "2021-02-03T09:27:41.000Z",
         null,
         "2021-02-03T09:27:41.000Z",
         null,
         null,
         null,
         null,
         null,
         "SUBMITTED",
         null,
         null,
         "5fc961c3b8cfca11a077dd33"
        ],
        [
         "603c65060a720fde10000395",
         "2021-03-01T03:52:38.000Z",
         "2021-03-01T03:52:38.000Z",
         null,
         "2021-03-01T03:52:38.000Z",
         null,
         null,
         null,
         null,
         null,
         "SUBMITTED",
         null,
         null,
         "5fc961c3b8cfca11a077dd33"
        ],
        [
         "601d75dd0a720f05a9000004",
         "2021-02-05T16:44:13.000Z",
         "2021-02-05T16:44:13.000Z",
         "2021-02-05T16:44:13.000Z",
         "2021-02-05T16:44:13.000Z",
         "2021-02-05T00:00:00.000Z",
         null,
         null,
         null,
         null,
         "PENDING",
         null,
         "28.57",
         "59c124bae4b0299e55b0f330"
        ],
        [
         "60175dba0a720f05f80002bf",
         "2021-02-01T01:47:38.000Z",
         "2021-02-01T01:47:38.000Z",
         null,
         "2021-02-01T01:47:38.000Z",
         null,
         null,
         null,
         null,
         null,
         "SUBMITTED",
         null,
         null,
         "5fc961c3b8cfca11a077dd33"
        ],
        [
         "601b32160a7214ad28000221",
         "2021-02-03T23:30:30.000Z",
         "2021-02-03T23:30:30.000Z",
         null,
         "2021-02-03T23:30:31.000Z",
         "2019-01-03T00:00:00.000Z",
         null,
         null,
         null,
         null,
         "REJECTED",
         0,
         "0.00",
         "5a43c08fe4b014fd6b6a0612"
        ],
        [
         "5ffce8000a7214ad4e002b57",
         "2021-01-12T00:06:22.000Z",
         "2021-01-12T00:06:22.000Z",
         null,
         "2021-01-12T00:06:22.000Z",
         null,
         null,
         null,
         null,
         null,
         "SUBMITTED",
         null,
         null,
         "59c124bae4b0299e55b0f330"
        ],
        [
         "601455820a720f05f80000fb",
         "2021-01-29T18:35:46.000Z",
         "2021-01-29T18:35:46.000Z",
         null,
         "2021-01-29T18:35:52.000Z",
         "2021-01-29T00:00:00.000Z",
         null,
         "5.00",
         "5.00",
         "All-receipts Receipt Bonus",
         "REJECTED",
         1,
         "10.00",
         "6014558284231211ce796b88"
        ],
        [
         "60219c670a720f05a8000028",
         "2021-02-08T20:17:43.000Z",
         "2021-02-08T20:17:43.000Z",
         null,
         "2021-02-08T20:17:43.000Z",
         null,
         null,
         null,
         null,
         null,
         "SUBMITTED",
         null,
         null,
         "5fc961c3b8cfca11a077dd33"
        ],
        [
         "6039fa430a720fde10000174",
         "2021-02-27T07:52:35.000Z",
         "2021-02-27T07:52:35.000Z",
         null,
         "2021-02-27T07:52:35.000Z",
         null,
         null,
         null,
         null,
         null,
         "SUBMITTED",
         null,
         null,
         "5fc961c3b8cfca11a077dd33"
        ],
        [
         "5ff8c8880a7214adca000008",
         "2021-01-08T21:03:04.000Z",
         "2021-01-08T21:03:04.000Z",
         "2021-01-08T21:03:05.000Z",
         "2021-01-08T21:03:05.000Z",
         "2021-01-08T00:00:00.000Z",
         null,
         "0.00",
         null,
         null,
         "FINISHED",
         2,
         "6.18",
         "5ff8c88604929111f6e913b7"
        ],
        [
         "603a81090a720fde100001e0",
         "2021-02-27T17:27:37.000Z",
         "2021-02-27T17:27:37.000Z",
         null,
         "2021-02-27T17:27:37.000Z",
         null,
         null,
         null,
         null,
         null,
         "SUBMITTED",
         null,
         null,
         "5fc961c3b8cfca11a077dd33"
        ],
        [
         "603cd4570a7217c72c0003f5",
         "2021-03-01T11:47:35.000Z",
         "2021-03-01T11:47:35.000Z",
         null,
         "2021-03-01T11:47:35.000Z",
         null,
         null,
         null,
         null,
         null,
         "SUBMITTED",
         null,
         null,
         "5fc961c3b8cfca11a077dd33"
        ],
        [
         "6015f2730a720f05f8000224",
         "2021-01-30T23:57:39.000Z",
         "2021-01-30T23:57:39.000Z",
         null,
         "2021-01-30T23:57:39.000Z",
         null,
         null,
         null,
         null,
         null,
         "SUBMITTED",
         null,
         null,
         "5fc961c3b8cfca11a077dd33"
        ],
        [
         "60189c920a7214ad2800003a",
         "2021-02-02T00:28:02.000Z",
         "2021-02-02T00:28:02.000Z",
         null,
         "2021-02-02T00:28:03.000Z",
         null,
         null,
         null,
         null,
         null,
         "FLAGGED",
         0,
         "0.00",
         "60189c92c8b50e11d8454f5d"
        ],
        [
         "6015a2c30a7214ad5000018e",
         "2021-01-30T18:17:39.000Z",
         "2021-01-30T18:17:39.000Z",
         null,
         "2021-01-30T18:17:39.000Z",
         null,
         null,
         null,
         null,
         null,
         "SUBMITTED",
         null,
         null,
         "5fc961c3b8cfca11a077dd33"
        ],
        [
         "601e0b830a720f053c00002e",
         "2021-02-06T03:22:43.000Z",
         "2021-02-06T03:22:43.000Z",
         null,
         "2021-02-06T03:22:43.000Z",
         null,
         null,
         null,
         null,
         null,
         "SUBMITTED",
         null,
         null,
         "5fc961c3b8cfca11a077dd33"
        ],
        [
         "602345c20a7214d8e9000130",
         "2021-02-10T02:32:34.000Z",
         "2021-02-10T02:32:34.000Z",
         null,
         "2021-02-10T02:32:34.000Z",
         null,
         null,
         null,
         null,
         null,
         "SUBMITTED",
         null,
         null,
         "5fc961c3b8cfca11a077dd33"
        ],
        [
         "601fcd820a7214ad250000db",
         "2021-02-07T11:22:42.000Z",
         "2021-02-07T11:22:42.000Z",
         null,
         "2021-02-07T11:22:42.000Z",
         null,
         null,
         null,
         null,
         null,
         "SUBMITTED",
         null,
         null,
         "5fc961c3b8cfca11a077dd33"
        ],
        [
         "603cadab0a720fde100003d6",
         "2021-03-01T09:02:35.000Z",
         "2021-03-01T09:02:35.000Z",
         null,
         "2021-03-01T09:02:35.000Z",
         null,
         null,
         null,
         null,
         null,
         "SUBMITTED",
         null,
         null,
         "5fc961c3b8cfca11a077dd33"
        ],
        [
         "6018ace50a7214ad28000057",
         "2021-02-02T01:37:41.000Z",
         "2021-02-02T01:37:41.000Z",
         null,
         "2021-02-02T01:37:41.000Z",
         null,
         null,
         null,
         null,
         null,
         "SUBMITTED",
         null,
         null,
         "5fc961c3b8cfca11a077dd33"
        ],
        [
         "603d0b710a720fde1000042a",
         "2021-03-01T15:42:41.000Z",
         "2021-03-01T15:42:41.000Z",
         null,
         "2021-03-01T15:42:41.000Z",
         null,
         null,
         null,
         null,
         null,
         "SUBMITTED",
         null,
         null,
         "5fc961c3b8cfca11a077dd33"
        ],
        [
         "601a93390a720f05f40001d5",
         "2021-02-03T12:12:41.000Z",
         "2021-02-03T12:12:41.000Z",
         null,
         "2021-02-03T12:12:41.000Z",
         null,
         null,
         null,
         null,
         null,
         "SUBMITTED",
         null,
         null,
         "5fc961c3b8cfca11a077dd33"
        ],
        [
         "601f58540a7214ad250000ad",
         "2021-02-07T03:02:44.000Z",
         "2021-02-07T03:02:44.000Z",
         null,
         "2021-02-07T03:02:44.000Z",
         null,
         null,
         null,
         null,
         null,
         "SUBMITTED",
         null,
         null,
         "5fc961c3b8cfca11a077dd33"
        ],
        [
         "601675b30a720f05f8000254",
         "2021-01-31T09:17:39.000Z",
         "2021-01-31T09:17:39.000Z",
         null,
         "2021-01-31T09:17:39.000Z",
         null,
         null,
         null,
         null,
         null,
         "SUBMITTED",
         null,
         null,
         "5fc961c3b8cfca11a077dd33"
        ],
        [
         "601d7d340a7214ad5900086c",
         "2021-02-05T17:15:32.000Z",
         "2021-02-05T17:15:32.000Z",
         "2021-02-05T17:15:32.000Z",
         "2021-02-05T17:15:32.000Z",
         "2021-02-05T00:00:00.000Z",
         null,
         null,
         null,
         null,
         "PENDING",
         null,
         "28.57",
         "59c124bae4b0299e55b0f330"
        ],
        [
         "601e9a7b0a720f053c000074",
         "2021-02-06T13:32:43.000Z",
         "2021-02-06T13:32:43.000Z",
         null,
         "2021-02-06T13:32:43.000Z",
         null,
         null,
         null,
         null,
         null,
         "SUBMITTED",
         null,
         null,
         "5fc961c3b8cfca11a077dd33"
        ],
        [
         "60231cbd0a720f05a8000108",
         "2021-02-09T23:37:33.000Z",
         "2021-02-09T23:37:33.000Z",
         null,
         "2021-02-09T23:37:33.000Z",
         null,
         null,
         null,
         null,
         null,
         "SUBMITTED",
         null,
         null,
         "5fc961c3b8cfca11a077dd33"
        ],
        [
         "602393180a720f05a800013d",
         "2021-02-10T08:02:32.000Z",
         "2021-02-10T08:02:32.000Z",
         null,
         "2021-02-10T08:02:32.000Z",
         null,
         null,
         null,
         null,
         null,
         "SUBMITTED",
         null,
         null,
         "5fc961c3b8cfca11a077dd33"
        ],
        [
         "603a327b0a7217c72c0001d1",
         "2021-02-27T11:52:27.000Z",
         "2021-02-27T11:52:27.000Z",
         null,
         "2021-02-27T11:52:28.000Z",
         "2020-08-17T00:00:00.000Z",
         null,
         "25.00",
         "25.00",
         "Complete Nonpartner Receipt",
         "REJECTED",
         2,
         "34.96",
         "5fc961c3b8cfca11a077dd33"
        ],
        [
         "6014dde60a7214ad50000132",
         "2021-01-30T04:17:42.000Z",
         "2021-01-30T04:17:42.000Z",
         null,
         "2021-01-30T04:17:42.000Z",
         null,
         null,
         null,
         null,
         null,
         "SUBMITTED",
         null,
         null,
         "5fc961c3b8cfca11a077dd33"
        ],
        [
         "601bbf390a7214ad28000260",
         "2021-02-04T09:32:41.000Z",
         "2021-02-04T09:32:41.000Z",
         null,
         "2021-02-04T09:32:41.000Z",
         null,
         null,
         null,
         null,
         null,
         "SUBMITTED",
         null,
         null,
         "5fc961c3b8cfca11a077dd33"
        ],
        [
         "601f8be40a7214ad250000c2",
         "2021-02-07T06:42:44.000Z",
         "2021-02-07T06:42:44.000Z",
         null,
         "2021-02-07T06:42:44.000Z",
         null,
         null,
         null,
         null,
         null,
         "SUBMITTED",
         null,
         null,
         "5fc961c3b8cfca11a077dd33"
        ],
        [
         "6022d9f60a720f05a80000e8",
         "2021-02-09T18:52:38.000Z",
         "2021-02-09T18:52:38.000Z",
         null,
         "2021-02-09T18:52:38.000Z",
         null,
         null,
         null,
         null,
         null,
         "SUBMITTED",
         null,
         null,
         "5fc961c3b8cfca11a077dd33"
        ],
        [
         "601e7d2e0a720f053c000067",
         "2021-02-06T11:27:42.000Z",
         "2021-02-06T11:27:42.000Z",
         null,
         "2021-02-06T11:27:42.000Z",
         null,
         null,
         null,
         null,
         null,
         "SUBMITTED",
         null,
         null,
         "5fc961c3b8cfca11a077dd33"
        ],
        [
         "6015ca9c0a7214ad5000019c",
         "2021-01-30T21:07:40.000Z",
         "2021-01-30T21:07:40.000Z",
         null,
         "2021-01-30T21:07:40.000Z",
         null,
         null,
         null,
         null,
         null,
         "SUBMITTED",
         null,
         null,
         "5fc961c3b8cfca11a077dd33"
        ],
        [
         "6022c2820a720f05a80000dd",
         "2021-02-09T17:12:34.000Z",
         "2021-02-09T17:12:34.000Z",
         null,
         "2021-02-09T17:12:34.000Z",
         null,
         null,
         null,
         null,
         null,
         "SUBMITTED",
         null,
         null,
         "5fc961c3b8cfca11a077dd33"
        ],
        [
         "601e71780a7214ad2500004f",
         "2021-02-06T10:37:44.000Z",
         "2021-02-06T10:37:44.000Z",
         null,
         "2021-02-06T10:37:44.000Z",
         null,
         null,
         null,
         null,
         null,
         "SUBMITTED",
         null,
         null,
         "5fc961c3b8cfca11a077dd33"
        ],
        [
         "602427ec0a720f05a8000180",
         "2021-02-10T18:37:32.000Z",
         "2021-02-10T18:37:32.000Z",
         null,
         "2021-02-10T18:37:32.000Z",
         null,
         null,
         null,
         null,
         null,
         "SUBMITTED",
         null,
         null,
         "5fc961c3b8cfca11a077dd33"
        ],
        [
         "603882140a7217c72c00009c",
         "2021-02-26T05:07:32.000Z",
         "2021-02-26T05:07:32.000Z",
         null,
         "2021-02-26T05:07:32.000Z",
         null,
         null,
         null,
         null,
         null,
         "SUBMITTED",
         null,
         null,
         "5fc961c3b8cfca11a077dd33"
        ],
        [
         "601551e70a7214ad5000016c",
         "2021-01-30T12:32:39.000Z",
         "2021-01-30T12:32:39.000Z",
         null,
         "2021-01-30T12:32:39.000Z",
         null,
         null,
         null,
         null,
         null,
         "SUBMITTED",
         null,
         null,
         "5fc961c3b8cfca11a077dd33"
        ],
        [
         "60170bb30a720f05f800029d",
         "2021-01-31T19:57:39.000Z",
         "2021-01-31T19:57:39.000Z",
         null,
         "2021-01-31T19:57:39.000Z",
         null,
         null,
         null,
         null,
         null,
         "SUBMITTED",
         null,
         null,
         "5fc961c3b8cfca11a077dd33"
        ],
        [
         "603d5d6c0a7217c72c000463",
         "2021-03-01T21:32:28.000Z",
         "2021-03-01T21:32:28.000Z",
         null,
         "2021-03-01T21:32:29.000Z",
         "2020-08-17T00:00:00.000Z",
         null,
         "25.00",
         "25.00",
         "Complete Nonpartner Receipt",
         "REJECTED",
         2,
         "34.96",
         "5fc961c3b8cfca11a077dd33"
        ],
        [
         "603a097e0a720fde10000180",
         "2021-02-27T08:57:34.000Z",
         "2021-02-27T08:57:34.000Z",
         null,
         "2021-02-27T08:57:34.000Z",
         null,
         null,
         null,
         null,
         null,
         "SUBMITTED",
         null,
         null,
         "5fc961c3b8cfca11a077dd33"
        ],
        [
         "603c25b30a720fde1000035b",
         "2021-02-28T23:22:27.000Z",
         "2021-02-28T23:22:27.000Z",
         null,
         "2021-02-28T23:22:28.000Z",
         "2020-08-17T00:00:00.000Z",
         null,
         "25.00",
         "25.00",
         "Complete Nonpartner Receipt",
         "REJECTED",
         2,
         "34.96",
         "5fc961c3b8cfca11a077dd33"
        ],
        [
         "6016bad70a7214ad50000205",
         "2021-01-31T14:12:39.000Z",
         "2021-01-31T14:12:39.000Z",
         null,
         "2021-01-31T14:12:39.000Z",
         null,
         null,
         null,
         null,
         null,
         "SUBMITTED",
         null,
         null,
         "5fc961c3b8cfca11a077dd33"
        ],
        [
         "603cac7d0a7217c72c0003d7",
         "2021-03-01T08:57:33.000Z",
         "2021-03-01T08:57:33.000Z",
         null,
         "2021-03-01T08:57:33.000Z",
         null,
         null,
         null,
         null,
         null,
         "SUBMITTED",
         null,
         null,
         "5fc961c3b8cfca11a077dd33"
        ],
        [
         "603995740a720fde10000120",
         "2021-02-27T00:42:28.000Z",
         "2021-02-27T00:42:28.000Z",
         null,
         "2021-02-27T00:42:29.000Z",
         "2020-08-17T00:00:00.000Z",
         null,
         "25.00",
         "25.00",
         "Complete Nonpartner Receipt",
         "REJECTED",
         2,
         "34.96",
         "5fc961c3b8cfca11a077dd33"
        ],
        [
         "600496350a7214ad4c000087",
         "2021-01-17T19:55:33.000Z",
         "2021-01-17T19:55:33.000Z",
         null,
         "2021-01-17T19:55:33.000Z",
         null,
         null,
         null,
         null,
         null,
         "SUBMITTED",
         null,
         null,
         "600495c3fb296c4ef805e1fc"
        ],
        [
         "6039f7e30a7217c72c00019a",
         "2021-02-27T07:42:27.000Z",
         "2021-02-27T07:42:27.000Z",
         null,
         "2021-02-27T07:42:28.000Z",
         "2020-08-17T00:00:00.000Z",
         null,
         "25.00",
         "25.00",
         "Complete Nonpartner Receipt",
         "REJECTED",
         2,
         "34.96",
         "5fc961c3b8cfca11a077dd33"
        ],
        [
         "602202540a720f05a800006a",
         "2021-02-09T03:32:36.000Z",
         "2021-02-09T03:32:36.000Z",
         null,
         "2021-02-09T03:32:36.000Z",
         null,
         null,
         null,
         null,
         null,
         "SUBMITTED",
         null,
         null,
         "5fc961c3b8cfca11a077dd33"
        ],
        [
         "603cd57d0a7217c72c0003f6",
         "2021-03-01T11:52:29.000Z",
         "2021-03-01T11:52:29.000Z",
         null,
         "2021-03-01T11:52:30.000Z",
         "2020-08-17T00:00:00.000Z",
         null,
         "25.00",
         "25.00",
         "Complete Nonpartner Receipt",
         "REJECTED",
         2,
         "34.96",
         "5fc961c3b8cfca11a077dd33"
        ],
        [
         "5ffe23560a720f05ac006874",
         "2021-01-12T22:31:50.000Z",
         "2021-01-12T22:31:50.000Z",
         "2021-01-12T22:31:50.000Z",
         "2021-01-12T22:31:50.000Z",
         "2021-01-12T00:00:00.000Z",
         null,
         null,
         null,
         null,
         "PENDING",
         null,
         "28.57",
         "59c124bae4b0299e55b0f330"
        ],
        [
         "601d7b730a720f0554000006",
         "2021-02-05T17:08:03.000Z",
         "2021-02-05T17:08:03.000Z",
         "2021-02-05T17:08:03.000Z",
         "2021-02-05T17:08:03.000Z",
         "2021-02-05T00:00:00.000Z",
         null,
         null,
         null,
         null,
         "PENDING",
         null,
         "28.57",
         "59c124bae4b0299e55b0f330"
        ],
        [
         "601ad7310a720f05f4000206",
         "2021-02-03T17:02:41.000Z",
         "2021-02-03T17:02:41.000Z",
         null,
         "2021-02-03T17:02:41.000Z",
         null,
         null,
         null,
         null,
         null,
         "SUBMITTED",
         null,
         null,
         "5fc961c3b8cfca11a077dd33"
        ],
        [
         "6026ef4b0a7214d8e9000349",
         "2021-02-12T21:12:43.000Z",
         "2021-02-12T21:12:43.000Z",
         null,
         "2021-02-12T21:12:43.000Z",
         null,
         null,
         null,
         null,
         null,
         "SUBMITTED",
         null,
         null,
         "5fc961c3b8cfca11a077dd33"
        ],
        [
         "601fb3ba0a720f053c000109",
         "2021-02-07T09:32:42.000Z",
         "2021-02-07T09:32:42.000Z",
         null,
         "2021-02-07T09:32:42.000Z",
         null,
         null,
         null,
         null,
         null,
         "SUBMITTED",
         null,
         null,
         "5fc961c3b8cfca11a077dd33"
        ],
        [
         "603bf8070a7217c72c000354",
         "2021-02-28T20:07:35.000Z",
         "2021-02-28T20:07:35.000Z",
         null,
         "2021-02-28T20:07:35.000Z",
         null,
         null,
         null,
         null,
         null,
         "SUBMITTED",
         null,
         null,
         "5fc961c3b8cfca11a077dd33"
        ],
        [
         "601d7c180a720f05540002fd",
         "2021-02-05T17:10:48.000Z",
         "2021-02-05T17:10:48.000Z",
         "2021-02-05T17:10:48.000Z",
         "2021-02-05T17:10:48.000Z",
         "2021-02-05T00:00:00.000Z",
         null,
         null,
         null,
         null,
         "PENDING",
         null,
         "28.57",
         "59c124bae4b0299e55b0f330"
        ],
        [
         "603ac2a60a720fde10000217",
         "2021-02-27T22:07:34.000Z",
         "2021-02-27T22:07:34.000Z",
         null,
         "2021-02-27T22:07:34.000Z",
         null,
         null,
         null,
         null,
         null,
         "SUBMITTED",
         null,
         null,
         "5fc961c3b8cfca11a077dd33"
        ],
        [
         "603d30e60a7217c72c00043f",
         "2021-03-01T18:22:30.000Z",
         "2021-03-01T18:22:30.000Z",
         null,
         "2021-03-01T18:22:31.000Z",
         "2020-08-17T00:00:00.000Z",
         null,
         "25.00",
         "25.00",
         "Complete Nonpartner Receipt",
         "REJECTED",
         2,
         "34.96",
         "5fc961c3b8cfca11a077dd33"
        ],
        [
         "6026f0780a720f05a800030c",
         "2021-02-12T21:17:44.000Z",
         "2021-02-12T21:17:44.000Z",
         null,
         "2021-02-12T21:17:44.000Z",
         null,
         null,
         null,
         null,
         null,
         "SUBMITTED",
         null,
         null,
         "5fc961c3b8cfca11a077dd33"
        ],
        [
         "60390eb50a720fde100000b7",
         "2021-02-26T15:07:33.000Z",
         "2021-02-26T15:07:33.000Z",
         null,
         "2021-02-26T15:07:33.000Z",
         null,
         null,
         null,
         null,
         null,
         "SUBMITTED",
         null,
         null,
         "5fc961c3b8cfca11a077dd33"
        ],
        [
         "600056ea0a720f05f300004b",
         "2021-01-14T14:36:26.000Z",
         "2021-01-14T14:36:26.000Z",
         null,
         "2021-01-14T14:36:26.000Z",
         "2021-01-13T14:36:26.000Z",
         null,
         "25.00",
         "25.00",
         "Complete Nonpartner Receipt",
         "FLAGGED",
         1,
         "1.00",
         "600056a3f7e5b011fce897b0"
        ],
        [
         "6015010b0a7214ad50000143",
         "2021-01-30T06:47:39.000Z",
         "2021-01-30T06:47:39.000Z",
         null,
         "2021-01-30T06:47:39.000Z",
         null,
         null,
         null,
         null,
         null,
         "SUBMITTED",
         null,
         null,
         "5fc961c3b8cfca11a077dd33"
        ],
        [
         "6026c3f00a7214d8e9000337",
         "2021-02-12T18:07:44.000Z",
         "2021-02-12T18:07:44.000Z",
         null,
         "2021-02-12T18:07:44.000Z",
         null,
         null,
         null,
         null,
         null,
         "SUBMITTED",
         null,
         null,
         "5fc961c3b8cfca11a077dd33"
        ],
        [
         "602175ba0a7214d8e9000007",
         "2021-02-08T17:32:42.000Z",
         "2021-02-08T17:32:42.000Z",
         null,
         "2021-02-08T17:32:42.000Z",
         null,
         null,
         null,
         null,
         null,
         "SUBMITTED",
         null,
         null,
         "5fc961c3b8cfca11a077dd33"
        ],
        [
         "6026329d0a720f05a80002a7",
         "2021-02-12T07:47:41.000Z",
         "2021-02-12T07:47:41.000Z",
         null,
         "2021-02-12T07:47:41.000Z",
         null,
         null,
         null,
         null,
         null,
         "SUBMITTED",
         null,
         null,
         "5fc961c3b8cfca11a077dd33"
        ],
        [
         "60189cb40a720f05f4000060",
         "2021-02-02T00:28:36.000Z",
         "2021-02-02T00:28:36.000Z",
         null,
         "2021-02-02T00:28:37.000Z",
         "2017-10-30T00:00:00.000Z",
         null,
         null,
         null,
         null,
         "REJECTED",
         3,
         "3.00",
         "60189c74c8b50e11d8454eff"
        ],
        [
         "603983e20a7217c72c000138",
         "2021-02-26T23:27:30.000Z",
         "2021-02-26T23:27:30.000Z",
         null,
         "2021-02-26T23:27:30.000Z",
         "2020-08-17T00:00:00.000Z",
         null,
         "25.00",
         "25.00",
         "Complete Nonpartner Receipt",
         "REJECTED",
         2,
         "34.96",
         "5fc961c3b8cfca11a077dd33"
        ],
        [
         "6008f3270a720f05fa00012a",
         "2021-01-21T03:21:11.000Z",
         "2021-01-21T03:21:11.000Z",
         null,
         "2021-01-21T03:21:54.000Z",
         null,
         null,
         null,
         null,
         null,
         "FLAGGED",
         1,
         "0.16",
         "6008f02fb6310511daa4f314"
        ],
        [
         "6000d4bc0a7214ad4c000070",
         "2021-01-14T23:33:16.000Z",
         "2021-01-14T23:33:16.000Z",
         null,
         "2021-01-14T23:33:17.000Z",
         "2021-02-14T23:33:17.000Z",
         null,
         "8700.00",
         null,
         null,
         "FLAGGED",
         10,
         "290.00",
         "6000d46cfb296c121a81b20c"
        ],
        [
         "6018643e0a7214ad28000002",
         "2021-02-01T20:27:42.000Z",
         "2021-02-01T20:27:42.000Z",
         null,
         "2021-02-01T20:27:42.000Z",
         null,
         null,
         null,
         null,
         null,
         "SUBMITTED",
         null,
         null,
         "5fc961c3b8cfca11a077dd33"
        ],
        [
         "601f35290a7214ad2500009c",
         "2021-02-07T00:32:41.000Z",
         "2021-02-07T00:32:41.000Z",
         null,
         "2021-02-07T00:32:41.000Z",
         null,
         null,
         null,
         null,
         null,
         "SUBMITTED",
         null,
         null,
         "5fc961c3b8cfca11a077dd33"
        ],
        [
         "5ff726860a720f05230005ec",
         "2021-01-07T15:19:34.000Z",
         "2021-01-07T15:19:34.000Z",
         null,
         "2021-01-07T15:19:34.000Z",
         null,
         null,
         null,
         null,
         null,
         "SUBMITTED",
         null,
         null,
         "5ff7264e8f142f11dd189504"
        ],
        [
         "600b89630a720f0535000011",
         "2021-01-23T02:26:43.000Z",
         "2021-01-23T02:26:43.000Z",
         null,
         "2021-01-23T02:26:43.000Z",
         null,
         null,
         null,
         null,
         null,
         "SUBMITTED",
         null,
         null,
         "600b477e7d983a124e9ae061"
        ],
        [
         "601830cd0a720f05f800034f",
         "2021-02-01T16:48:13.000Z",
         "2021-02-01T16:48:13.000Z",
         null,
         "2021-02-01T16:48:13.000Z",
         null,
         null,
         null,
         null,
         null,
         "FLAGGED",
         0,
         "0.00",
         "601830cdc8b50e11d8454a6f"
        ],
        [
         "603973f80a720fde100000e3",
         "2021-02-26T22:19:36.000Z",
         "2021-02-26T22:19:36.000Z",
         null,
         "2021-02-26T22:34:51.000Z",
         "2020-08-17T00:00:00.000Z",
         null,
         "25.00",
         "25.00",
         "Complete Nonpartner Receipt",
         "REJECTED",
         2,
         "34.96",
         "5fc961c3b8cfca11a077dd33"
        ],
        [
         "602552c10a7214d8e9000255",
         "2021-02-11T15:52:33.000Z",
         "2021-02-11T15:52:33.000Z",
         null,
         "2021-02-11T15:52:33.000Z",
         null,
         null,
         null,
         null,
         null,
         "SUBMITTED",
         null,
         null,
         "5fc961c3b8cfca11a077dd33"
        ],
        [
         "60107e3b0a720f0535000051",
         "2021-01-26T20:40:27.000Z",
         "2021-01-26T20:40:27.000Z",
         null,
         "2021-01-26T20:40:29.000Z",
         "2020-12-30T00:00:00.000Z",
         null,
         "500.00",
         "500.00",
         "Receipt Number 2 Completed, Bonus Point Schedule ",
         "REJECTED",
         2,
         "34.96",
         "5fbc35711d967d1222cbfefc"
        ],
        [
         "602181720a7214d8e9000034",
         "2021-02-08T18:22:42.000Z",
         "2021-02-08T18:22:42.000Z",
         null,
         "2021-02-08T18:22:42.000Z",
         null,
         null,
         null,
         null,
         null,
         "SUBMITTED",
         null,
         null,
         "5fc961c3b8cfca11a077dd33"
        ],
        [
         "601b14240a720f05f400021e",
         "2021-02-03T21:22:44.000Z",
         "2021-02-03T21:22:44.000Z",
         null,
         "2021-02-03T21:22:44.000Z",
         null,
         null,
         null,
         null,
         null,
         "SUBMITTED",
         null,
         null,
         "5fc961c3b8cfca11a077dd33"
        ],
        [
         "601ab6630a720f05f40001eb",
         "2021-02-03T14:42:43.000Z",
         "2021-02-03T14:42:43.000Z",
         null,
         "2021-02-03T14:42:43.000Z",
         null,
         null,
         null,
         null,
         null,
         "SUBMITTED",
         null,
         null,
         "5fc961c3b8cfca11a077dd33"
        ],
        [
         "602344970a7214d8e900012f",
         "2021-02-10T02:27:34.000Z",
         "2021-02-10T02:27:34.000Z",
         null,
         "2021-02-10T02:27:34.000Z",
         null,
         null,
         null,
         null,
         null,
         "SUBMITTED",
         null,
         null,
         "5fc961c3b8cfca11a077dd33"
        ],
        [
         "5ffe23cf0a720f05ac006cc2",
         "2021-01-12T22:33:51.000Z",
         "2021-01-12T22:33:51.000Z",
         "2021-01-12T22:33:51.000Z",
         "2021-01-12T22:33:51.000Z",
         "2021-01-12T00:00:00.000Z",
         null,
         null,
         null,
         null,
         "PENDING",
         null,
         "28.57",
         "59c124bae4b0299e55b0f330"
        ],
        [
         "5ff794bf0a7214ada1000650",
         "2021-01-06T23:09:51.000Z",
         "2021-01-06T23:09:51.000Z",
         null,
         "2021-01-07T17:09:53.000Z",
         "2021-01-05T23:09:51.000Z",
         null,
         "25.00",
         "25.00",
         "Complete Nonpartner Receipt",
         "FLAGGED",
         1,
         "1.00",
         "5ff7930fb3348b11c93372a6"
        ],
        [
         "6015938d0a720f05f80001f6",
         "2021-01-30T17:12:45.000Z",
         "2021-01-30T17:12:45.000Z",
         null,
         "2021-01-30T17:12:45.000Z",
         null,
         null,
         null,
         null,
         null,
         "SUBMITTED",
         null,
         null,
         "5fc961c3b8cfca11a077dd33"
        ],
        [
         "60088d920a720f05fa000109",
         "2021-01-20T20:07:46.000Z",
         "2021-01-20T20:07:46.000Z",
         null,
         "2021-01-20T20:07:47.000Z",
         "2017-10-30T00:00:00.000Z",
         null,
         null,
         null,
         null,
         "REJECTED",
         3,
         "3.00",
         "60088d55633aab121bb8e41a"
        ],
        [
         "5ffe1aa90a7214ad280015e8",
         "2021-01-12T21:54:49.000Z",
         "2021-01-12T21:54:49.000Z",
         "2021-01-12T21:54:49.000Z",
         "2021-01-12T21:54:49.000Z",
         "2021-01-12T00:00:00.000Z",
         null,
         null,
         null,
         null,
         "PENDING",
         null,
         "28.57",
         "59c124bae4b0299e55b0f330"
        ],
        [
         "60397f340a7217c72c000133",
         "2021-02-26T23:07:32.000Z",
         "2021-02-26T23:07:32.000Z",
         null,
         "2021-02-26T23:07:32.000Z",
         null,
         null,
         null,
         null,
         null,
         "SUBMITTED",
         null,
         null,
         "5fc961c3b8cfca11a077dd33"
        ],
        [
         "60393fef0a7217c72c0000ec",
         "2021-02-26T18:37:35.000Z",
         "2021-02-26T18:37:35.000Z",
         null,
         "2021-02-26T18:37:35.000Z",
         null,
         null,
         null,
         null,
         null,
         "SUBMITTED",
         null,
         null,
         "5fc961c3b8cfca11a077dd33"
        ],
        [
         "6016d94f0a720f05f8000284",
         "2021-01-31T16:22:39.000Z",
         "2021-01-31T16:22:39.000Z",
         null,
         "2021-01-31T16:22:39.000Z",
         null,
         null,
         null,
         null,
         null,
         "SUBMITTED",
         null,
         null,
         "5fc961c3b8cfca11a077dd33"
        ],
        [
         "60182d8c0a720f05f8000318",
         "2021-02-01T16:34:20.000Z",
         "2021-02-01T16:34:20.000Z",
         null,
         "2021-02-01T16:34:20.000Z",
         "2021-01-31T16:34:20.000Z",
         null,
         "250.00",
         "250.00",
         "Receipt Number 3 Completed, Bonus Point Schedule ",
         "FLAGGED",
         1,
         "1.00",
         "60182d6dc8b50e11d84547b2"
        ],
        [
         "6020faae0a7214ad25000152",
         "2021-02-08T08:47:42.000Z",
         "2021-02-08T08:47:42.000Z",
         null,
         "2021-02-08T08:47:42.000Z",
         null,
         null,
         null,
         null,
         null,
         "SUBMITTED",
         null,
         null,
         "5fc961c3b8cfca11a077dd33"
        ],
        [
         "601c540f0a720f05f40002be",
         "2021-02-04T20:07:43.000Z",
         "2021-02-04T20:07:43.000Z",
         null,
         "2021-02-04T20:07:43.000Z",
         null,
         null,
         null,
         null,
         null,
         "SUBMITTED",
         null,
         null,
         "5fc961c3b8cfca11a077dd33"
        ],
        [
         "600254550a720f05f300008c",
         "2021-01-16T02:49:57.000Z",
         "2021-01-16T02:49:57.000Z",
         null,
         "2021-01-16T02:49:57.000Z",
         null,
         null,
         null,
         null,
         null,
         "SUBMITTED",
         null,
         null,
         "6002541ae257124ec6b99a3a"
        ],
        [
         "5ffe1fa40a7214ad2800427f",
         "2021-01-12T22:16:04.000Z",
         "2021-01-12T22:16:04.000Z",
         "2021-01-12T22:16:04.000Z",
         "2021-01-12T22:16:04.000Z",
         "2021-01-12T00:00:00.000Z",
         null,
         null,
         null,
         null,
         "PENDING",
         null,
         "28.57",
         "59c124bae4b0299e55b0f330"
        ],
        [
         "60227c330a720f05a800009c",
         "2021-02-09T12:12:35.000Z",
         "2021-02-09T12:12:35.000Z",
         null,
         "2021-02-09T12:12:35.000Z",
         null,
         null,
         null,
         null,
         null,
         "SUBMITTED",
         null,
         null,
         "5fc961c3b8cfca11a077dd33"
        ],
        [
         "600498e60a720f05f3000093",
         "2021-01-17T20:07:02.000Z",
         "2021-01-17T20:07:02.000Z",
         null,
         "2021-01-17T20:07:02.000Z",
         null,
         null,
         null,
         null,
         null,
         "SUBMITTED",
         null,
         null,
         "600498c4e257124ec6b9a331"
        ],
        [
         "603908dd0a7217c72c0000d4",
         "2021-02-26T14:42:37.000Z",
         "2021-02-26T14:42:37.000Z",
         null,
         "2021-02-26T14:42:37.000Z",
         null,
         null,
         null,
         null,
         null,
         "SUBMITTED",
         null,
         null,
         "5fc961c3b8cfca11a077dd33"
        ],
        [
         "601b5cc90a7214ad2800023a",
         "2021-02-04T02:32:41.000Z",
         "2021-02-04T02:32:41.000Z",
         null,
         "2021-02-04T02:32:41.000Z",
         null,
         null,
         null,
         null,
         null,
         "SUBMITTED",
         null,
         null,
         "5fc961c3b8cfca11a077dd33"
        ],
        [
         "6001e3a80a7214ad4c000078",
         "2021-01-15T18:49:10.000Z",
         "2021-01-15T18:49:10.000Z",
         null,
         "2021-01-15T18:49:10.000Z",
         null,
         null,
         null,
         null,
         null,
         "SUBMITTED",
         null,
         null,
         "5a43c08fe4b014fd6b6a0612"
        ],
        [
         "603946f60a720fde100000ce",
         "2021-02-26T19:07:34.000Z",
         "2021-02-26T19:07:34.000Z",
         null,
         "2021-02-26T19:07:34.000Z",
         null,
         null,
         null,
         null,
         null,
         "SUBMITTED",
         null,
         null,
         "5fc961c3b8cfca11a077dd33"
        ],
        [
         "602569060a720f05a8000258",
         "2021-02-11T17:27:34.000Z",
         "2021-02-11T17:27:34.000Z",
         null,
         "2021-02-11T17:27:34.000Z",
         null,
         null,
         null,
         null,
         null,
         "SUBMITTED",
         null,
         null,
         "5fc961c3b8cfca11a077dd33"
        ],
        [
         "603b0b4a0a720fde1000024e",
         "2021-02-28T03:17:30.000Z",
         "2021-02-28T03:17:30.000Z",
         null,
         "2021-02-28T03:17:31.000Z",
         "2020-08-17T00:00:00.000Z",
         null,
         "25.00",
         "25.00",
         "Complete Nonpartner Receipt",
         "REJECTED",
         2,
         "34.96",
         "5fc961c3b8cfca11a077dd33"
        ],
        [
         "601604070a7214ad500001b4",
         "2021-01-31T01:12:39.000Z",
         "2021-01-31T01:12:39.000Z",
         null,
         "2021-01-31T01:12:39.000Z",
         null,
         null,
         null,
         null,
         null,
         "SUBMITTED",
         null,
         null,
         "5fc961c3b8cfca11a077dd33"
        ],
        [
         "602462850a720f05a80001b3",
         "2021-02-10T22:47:33.000Z",
         "2021-02-10T22:47:33.000Z",
         null,
         "2021-02-10T22:47:33.000Z",
         null,
         null,
         null,
         null,
         null,
         "SUBMITTED",
         null,
         null,
         "5fc961c3b8cfca11a077dd33"
        ],
        [
         "5ff73be10a7214ada1000619",
         "2021-01-07T16:50:41.000Z",
         "2021-01-07T16:50:41.000Z",
         null,
         "2021-01-07T16:50:41.000Z",
         "2021-02-07T16:50:41.000Z",
         null,
         "8700.00",
         null,
         null,
         "FLAGGED",
         10,
         "290.00",
         "5ff73b90eb7c7d31ca8a452b"
        ],
        [
         "6021c0bb0a7214d8e900004e",
         "2021-02-08T22:52:43.000Z",
         "2021-02-08T22:52:43.000Z",
         null,
         "2021-02-08T22:52:43.000Z",
         null,
         null,
         null,
         null,
         null,
         "SUBMITTED",
         null,
         null,
         "5fc961c3b8cfca11a077dd33"
        ],
        [
         "601d7d580a7214ad59000928",
         "2021-02-05T17:16:08.000Z",
         "2021-02-05T17:16:08.000Z",
         "2021-02-05T17:16:08.000Z",
         "2021-02-05T17:16:08.000Z",
         "2021-02-05T00:00:00.000Z",
         null,
         null,
         null,
         null,
         "PENDING",
         null,
         "28.57",
         "59c124bae4b0299e55b0f330"
        ],
        [
         "603c5ba30a720fde1000038d",
         "2021-03-01T03:12:35.000Z",
         "2021-03-01T03:12:35.000Z",
         null,
         "2021-03-01T03:12:35.000Z",
         null,
         null,
         null,
         null,
         null,
         "SUBMITTED",
         null,
         null,
         "5fc961c3b8cfca11a077dd33"
        ],
        [
         "60108a5b0a7214ada2000057",
         "2021-01-26T21:32:11.000Z",
         "2021-01-26T21:32:11.000Z",
         null,
         "2021-01-26T21:32:12.000Z",
         "2020-12-30T00:00:00.000Z",
         null,
         "500.00",
         "500.00",
         "Receipt Number 2 Completed, Bonus Point Schedule ",
         "REJECTED",
         2,
         "34.96",
         "5fbc35711d967d1222cbfefc"
        ],
        [
         "603cf5290a720fde10000413",
         "2021-03-01T14:07:37.000Z",
         "2021-03-01T14:07:37.000Z",
         null,
         "2021-03-01T14:07:37.000Z",
         null,
         null,
         null,
         null,
         null,
         "SUBMITTED",
         null,
         null,
         "5fc961c3b8cfca11a077dd33"
        ],
        [
         "603b26430a720fde1000026c",
         "2021-02-28T05:12:35.000Z",
         "2021-02-28T05:12:35.000Z",
         null,
         "2021-02-28T05:12:35.000Z",
         null,
         null,
         null,
         null,
         null,
         "SUBMITTED",
         null,
         null,
         "5fc961c3b8cfca11a077dd33"
        ],
        [
         "601a5afc0a7214ad2800019c",
         "2021-02-03T08:12:44.000Z",
         "2021-02-03T08:12:44.000Z",
         null,
         "2021-02-03T08:12:44.000Z",
         null,
         null,
         null,
         null,
         null,
         "SUBMITTED",
         null,
         null,
         "5fc961c3b8cfca11a077dd33"
        ],
        [
         "6022bb780a7214d8e90000fb",
         "2021-02-09T16:42:32.000Z",
         "2021-02-09T16:42:32.000Z",
         null,
         "2021-02-09T16:42:32.000Z",
         null,
         null,
         null,
         null,
         null,
         "SUBMITTED",
         null,
         null,
         "5fc961c3b8cfca11a077dd33"
        ],
        [
         "602686ff0a7214d8e9000301",
         "2021-02-12T13:47:43.000Z",
         "2021-02-12T13:47:43.000Z",
         null,
         "2021-02-12T13:47:43.000Z",
         null,
         null,
         null,
         null,
         null,
         "SUBMITTED",
         null,
         null,
         "5fc961c3b8cfca11a077dd33"
        ],
        [
         "5ff5ecb90a7214ada10005f9",
         "2021-01-06T17:00:40.000Z",
         "2021-01-06T17:00:40.000Z",
         null,
         "2021-01-06T17:00:40.000Z",
         null,
         null,
         null,
         null,
         null,
         "SUBMITTED",
         null,
         null,
         "5a43c08fe4b014fd6b6a0612"
        ],
        [
         "6015556b0a720f05f80001db",
         "2021-01-30T12:47:39.000Z",
         "2021-01-30T12:47:39.000Z",
         null,
         "2021-01-30T12:47:39.000Z",
         null,
         null,
         null,
         null,
         null,
         "SUBMITTED",
         null,
         null,
         "5fc961c3b8cfca11a077dd33"
        ],
        [
         "6024aa030a720f05a80001d0",
         "2021-02-11T03:52:35.000Z",
         "2021-02-11T03:52:35.000Z",
         null,
         "2021-02-11T03:52:35.000Z",
         null,
         null,
         null,
         null,
         null,
         "SUBMITTED",
         null,
         null,
         "5fc961c3b8cfca11a077dd33"
        ],
        [
         "60118c3b0a7214ada2000089",
         "2021-01-27T15:52:27.000Z",
         "2021-01-27T15:52:27.000Z",
         null,
         "2021-01-27T15:52:28.000Z",
         "2017-10-30T00:00:00.000Z",
         null,
         null,
         null,
         null,
         "REJECTED",
         3,
         "3.00",
         "60118bcfa4b74c18d3a8c0d7"
        ],
        [
         "6039b8a20a7217c72c000164",
         "2021-02-27T03:12:34.000Z",
         "2021-02-27T03:12:34.000Z",
         null,
         "2021-02-27T03:12:34.000Z",
         null,
         null,
         null,
         null,
         null,
         "SUBMITTED",
         null,
         null,
         "5fc961c3b8cfca11a077dd33"
        ],
        [
         "6026ada90a720f05a80002ed",
         "2021-02-12T16:32:41.000Z",
         "2021-02-12T16:32:41.000Z",
         null,
         "2021-02-12T16:32:41.000Z",
         null,
         null,
         null,
         null,
         null,
         "SUBMITTED",
         null,
         null,
         "5fc961c3b8cfca11a077dd33"
        ],
        [
         "603c51160a7217c72c00038b",
         "2021-03-01T02:27:34.000Z",
         "2021-03-01T02:27:34.000Z",
         null,
         "2021-03-01T02:27:34.000Z",
         null,
         null,
         null,
         null,
         null,
         "SUBMITTED",
         null,
         null,
         "5fc961c3b8cfca11a077dd33"
        ],
        [
         "5ffcef630a720f05150050ae",
         "2021-01-12T00:37:55.000Z",
         "2021-01-12T00:37:55.000Z",
         "2021-01-12T00:37:55.000Z",
         "2021-01-12T00:37:55.000Z",
         "2021-01-12T00:00:00.000Z",
         null,
         null,
         null,
         null,
         "PENDING",
         null,
         "28.57",
         "59c124bae4b0299e55b0f330"
        ],
        [
         "60212be60a7214ad25000166",
         "2021-02-08T12:17:42.000Z",
         "2021-02-08T12:17:42.000Z",
         null,
         "2021-02-08T12:17:42.000Z",
         null,
         null,
         null,
         null,
         null,
         "SUBMITTED",
         null,
         null,
         "5fc961c3b8cfca11a077dd33"
        ],
        [
         "603af7660a7217c72c000280",
         "2021-02-28T01:52:38.000Z",
         "2021-02-28T01:52:38.000Z",
         null,
         "2021-02-28T01:52:38.000Z",
         null,
         null,
         null,
         null,
         null,
         "SUBMITTED",
         null,
         null,
         "5fc961c3b8cfca11a077dd33"
        ],
        [
         "603bdbe10a7217c72c00033e",
         "2021-02-28T18:07:29.000Z",
         "2021-02-28T18:07:29.000Z",
         null,
         "2021-02-28T18:07:30.000Z",
         "2020-08-17T00:00:00.000Z",
         null,
         "25.00",
         "25.00",
         "Complete Nonpartner Receipt",
         "REJECTED",
         2,
         "34.96",
         "5fc961c3b8cfca11a077dd33"
        ],
        [
         "603ce7100a7217c72c000405",
         "2021-03-01T13:07:28.000Z",
         "2021-03-01T13:07:28.000Z",
         null,
         "2021-03-01T13:07:29.000Z",
         "2020-08-17T00:00:00.000Z",
         null,
         "25.00",
         "25.00",
         "Complete Nonpartner Receipt",
         "REJECTED",
         2,
         "34.96",
         "5fc961c3b8cfca11a077dd33"
        ],
        [
         "601487e20a7214ad5000010d",
         "2021-01-29T22:10:42.000Z",
         "2021-01-29T22:10:42.000Z",
         null,
         "2021-01-29T22:10:42.000Z",
         null,
         null,
         null,
         null,
         null,
         "SUBMITTED",
         null,
         null,
         "5fc961c3b8cfca11a077dd33"
        ],
        [
         "60166d7e0a7214ad500001e9",
         "2021-01-31T08:42:38.000Z",
         "2021-01-31T08:42:38.000Z",
         null,
         "2021-01-31T08:42:38.000Z",
         null,
         null,
         null,
         null,
         null,
         "SUBMITTED",
         null,
         null,
         "5fc961c3b8cfca11a077dd33"
        ],
        [
         "6025a8580a720f05a8000270",
         "2021-02-11T21:57:44.000Z",
         "2021-02-11T21:57:44.000Z",
         null,
         "2021-02-11T21:57:44.000Z",
         null,
         null,
         null,
         null,
         null,
         "SUBMITTED",
         null,
         null,
         "5fc961c3b8cfca11a077dd33"
        ],
        [
         "602067080a7214ad2500011c",
         "2021-02-07T22:17:44.000Z",
         "2021-02-07T22:17:44.000Z",
         null,
         "2021-02-07T22:17:44.000Z",
         null,
         null,
         null,
         null,
         null,
         "SUBMITTED",
         null,
         null,
         "5fc961c3b8cfca11a077dd33"
        ],
        [
         "6018a12c0a720f05f4000067",
         "2021-02-02T00:47:39.000Z",
         "2021-02-02T00:47:39.000Z",
         null,
         "2021-02-02T00:47:39.000Z",
         null,
         null,
         null,
         null,
         null,
         "SUBMITTED",
         null,
         null,
         "5fc961c3b8cfca11a077dd33"
        ],
        [
         "60170e0c0a7214ad50000223",
         "2021-01-31T20:07:40.000Z",
         "2021-01-31T20:07:40.000Z",
         null,
         "2021-01-31T20:07:40.000Z",
         null,
         null,
         null,
         null,
         null,
         "SUBMITTED",
         null,
         null,
         "5fc961c3b8cfca11a077dd33"
        ],
        [
         "601c87a00a7214ad280002f0",
         "2021-02-04T23:47:44.000Z",
         "2021-02-04T23:47:44.000Z",
         null,
         "2021-02-04T23:47:44.000Z",
         null,
         null,
         null,
         null,
         null,
         "SUBMITTED",
         null,
         null,
         "5fc961c3b8cfca11a077dd33"
        ],
        [
         "601f29740a720f053c0000cc",
         "2021-02-06T23:42:44.000Z",
         "2021-02-06T23:42:44.000Z",
         null,
         "2021-02-06T23:42:44.000Z",
         null,
         null,
         null,
         null,
         null,
         "SUBMITTED",
         null,
         null,
         "5fc961c3b8cfca11a077dd33"
        ],
        [
         "601bdc850a720f05f4000276",
         "2021-02-04T11:37:41.000Z",
         "2021-02-04T11:37:41.000Z",
         null,
         "2021-02-04T11:37:41.000Z",
         null,
         null,
         null,
         null,
         null,
         "SUBMITTED",
         null,
         null,
         "5fc961c3b8cfca11a077dd33"
        ],
        [
         "6015c13b0a720f05f800020e",
         "2021-01-30T20:27:39.000Z",
         "2021-01-30T20:27:39.000Z",
         null,
         "2021-01-30T20:27:39.000Z",
         null,
         null,
         null,
         null,
         null,
         "SUBMITTED",
         null,
         null,
         "5fc961c3b8cfca11a077dd33"
        ],
        [
         "5ffce76e0a720f0515000b48",
         "2021-01-12T00:03:58.000Z",
         "2021-01-12T00:03:58.000Z",
         "2021-01-12T00:04:00.000Z",
         "2021-01-12T00:03:58.000Z",
         "2021-01-12T00:00:00.000Z",
         null,
         null,
         null,
         null,
         "PENDING",
         null,
         "28.57",
         "59c124bae4b0299e55b0f330"
        ],
        [
         "5ffe20290a720f05ac004a84",
         "2021-01-12T22:18:17.000Z",
         "2021-01-12T22:18:17.000Z",
         "2021-01-12T22:18:17.000Z",
         "2021-01-12T22:18:17.000Z",
         "2021-01-12T00:00:00.000Z",
         null,
         null,
         null,
         null,
         "PENDING",
         null,
         "28.57",
         "59c124bae4b0299e55b0f330"
        ],
        [
         "601aaf5b0a720f05f40001dd",
         "2021-02-03T14:12:43.000Z",
         "2021-02-03T14:12:43.000Z",
         null,
         "2021-02-03T14:12:43.000Z",
         null,
         null,
         null,
         null,
         null,
         "SUBMITTED",
         null,
         null,
         "5fc961c3b8cfca11a077dd33"
        ],
        [
         "601f7b7a0a720f053c0000ee",
         "2021-02-07T05:32:42.000Z",
         "2021-02-07T05:32:42.000Z",
         null,
         "2021-02-07T05:32:42.000Z",
         null,
         null,
         null,
         null,
         null,
         "SUBMITTED",
         null,
         null,
         "5fc961c3b8cfca11a077dd33"
        ],
        [
         "601d02aa0a720f05f4000312",
         "2021-02-05T08:32:42.000Z",
         "2021-02-05T08:32:42.000Z",
         null,
         "2021-02-05T08:32:42.000Z",
         null,
         null,
         null,
         null,
         null,
         "SUBMITTED",
         null,
         null,
         "5fc961c3b8cfca11a077dd33"
        ],
        [
         "603aeba50a7217c72c000272",
         "2021-02-28T01:02:29.000Z",
         "2021-02-28T01:02:29.000Z",
         null,
         "2021-02-28T01:02:30.000Z",
         "2020-08-17T00:00:00.000Z",
         null,
         "25.00",
         "25.00",
         "Complete Nonpartner Receipt",
         "REJECTED",
         2,
         "34.96",
         "5fc961c3b8cfca11a077dd33"
        ],
        [
         "6020b4610a7214ad25000139",
         "2021-02-08T03:47:45.000Z",
         "2021-02-08T03:47:45.000Z",
         null,
         "2021-02-08T03:47:45.000Z",
         null,
         null,
         null,
         null,
         null,
         "SUBMITTED",
         null,
         null,
         "5fc961c3b8cfca11a077dd33"
        ],
        [
         "603af05c0a7217c72c00027a",
         "2021-02-28T01:22:36.000Z",
         "2021-02-28T01:22:36.000Z",
         null,
         "2021-02-28T01:22:36.000Z",
         null,
         null,
         null,
         null,
         null,
         "SUBMITTED",
         null,
         null,
         "5fc961c3b8cfca11a077dd33"
        ],
        [
         "602467370a720f05a80001b7",
         "2021-02-10T23:07:34.000Z",
         "2021-02-10T23:07:34.000Z",
         null,
         "2021-02-10T23:07:34.000Z",
         null,
         null,
         null,
         null,
         null,
         "SUBMITTED",
         null,
         null,
         "5fc961c3b8cfca11a077dd33"
        ],
        [
         "5ffce8310a7214ad4e003797",
         "2021-01-12T00:07:13.000Z",
         "2021-01-12T00:07:13.000Z",
         "2021-01-12T00:07:14.000Z",
         "2021-01-12T00:07:13.000Z",
         "2021-01-12T00:00:00.000Z",
         null,
         null,
         null,
         null,
         "PENDING",
         null,
         "28.57",
         "59c124bae4b0299e55b0f330"
        ],
        [
         "6039575d0a7217c72c0000f7",
         "2021-02-26T20:17:33.000Z",
         "2021-02-26T20:17:33.000Z",
         null,
         "2021-02-26T20:17:33.000Z",
         null,
         null,
         null,
         null,
         null,
         "SUBMITTED",
         null,
         null,
         "5fc961c3b8cfca11a077dd33"
        ],
        [
         "60172b590a720f05f80002a9",
         "2021-01-31T22:12:41.000Z",
         "2021-01-31T22:12:41.000Z",
         null,
         "2021-01-31T22:12:41.000Z",
         null,
         null,
         null,
         null,
         null,
         "SUBMITTED",
         null,
         null,
         "5fc961c3b8cfca11a077dd33"
        ],
        [
         "5ffe18b10a7214ad280003d1",
         "2021-01-12T21:46:25.000Z",
         "2021-01-12T21:46:25.000Z",
         "2021-01-12T21:46:25.000Z",
         "2021-01-12T21:46:25.000Z",
         "2021-01-12T00:00:00.000Z",
         null,
         null,
         null,
         null,
         "PENDING",
         null,
         "28.57",
         "59c124bae4b0299e55b0f330"
        ],
        [
         "60207fa20a7214ad25000123",
         "2021-02-08T00:02:42.000Z",
         "2021-02-08T00:02:42.000Z",
         null,
         "2021-02-08T00:02:42.000Z",
         null,
         null,
         null,
         null,
         null,
         "SUBMITTED",
         null,
         null,
         "5fc961c3b8cfca11a077dd33"
        ],
        [
         "601bd57e0a7214ad2800026d",
         "2021-02-04T11:07:42.000Z",
         "2021-02-04T11:07:42.000Z",
         null,
         "2021-02-04T11:07:42.000Z",
         null,
         null,
         null,
         null,
         null,
         "SUBMITTED",
         null,
         null,
         "5fc961c3b8cfca11a077dd33"
        ],
        [
         "5ffce7ae0a7214ad4e001851",
         "2021-01-12T00:05:01.000Z",
         "2021-01-12T00:05:01.000Z",
         null,
         "2021-01-12T00:05:01.000Z",
         null,
         null,
         null,
         null,
         null,
         "SUBMITTED",
         null,
         null,
         "59c124bae4b0299e55b0f330"
        ],
        [
         "600f0cc70a720f053500002c",
         "2021-01-25T18:24:07.000Z",
         "2021-01-25T18:24:07.000Z",
         null,
         "2021-01-25T18:38:07.000Z",
         "2021-01-25T00:00:00.000Z",
         null,
         null,
         null,
         null,
         "FLAGGED",
         303,
         "2084.82",
         "600f00d05edb787dce05fb84"
        ],
        [
         "603b991b0a720fde100002d2",
         "2021-02-28T13:22:35.000Z",
         "2021-02-28T13:22:35.000Z",
         null,
         "2021-02-28T13:22:35.000Z",
         null,
         null,
         null,
         null,
         null,
         "SUBMITTED",
         null,
         null,
         "5fc961c3b8cfca11a077dd33"
        ],
        [
         "5ffc9dd00a720f05c5000051",
         "2021-01-11T18:49:52.000Z",
         "2021-01-11T18:49:52.000Z",
         null,
         "2021-01-11T18:49:52.000Z",
         "2021-01-10T18:49:52.000Z",
         null,
         "25.00",
         "25.00",
         "Complete Nonpartner Receipt",
         "FLAGGED",
         1,
         "1.00",
         "5ffc9d87b3348b11c9338920"
        ],
        [
         "6026f2cd0a7214d8e900034b",
         "2021-02-12T21:27:41.000Z",
         "2021-02-12T21:27:41.000Z",
         null,
         "2021-02-12T21:27:41.000Z",
         null,
         null,
         null,
         null,
         null,
         "SUBMITTED",
         null,
         null,
         "5fc961c3b8cfca11a077dd33"
        ],
        [
         "602231350a7214d8e900009f",
         "2021-02-09T06:52:37.000Z",
         "2021-02-09T06:52:37.000Z",
         null,
         "2021-02-09T06:52:37.000Z",
         null,
         null,
         null,
         null,
         null,
         "SUBMITTED",
         null,
         null,
         "5fc961c3b8cfca11a077dd33"
        ],
        [
         "60189c900a7214ad28000038",
         "2021-02-02T00:28:00.000Z",
         "2021-02-02T00:28:00.000Z",
         null,
         "2021-02-02T00:28:05.000Z",
         "2021-02-02T00:00:00.000Z",
         null,
         "5.00",
         "5.00",
         "All-receipts Receipt Bonus",
         "REJECTED",
         1,
         "10.00",
         "60189c90c8b50e11d8454f49"
        ],
        [
         "601d7c960a7214ad59000564",
         "2021-02-05T17:12:54.000Z",
         "2021-02-05T17:12:54.000Z",
         "2021-02-05T17:12:54.000Z",
         "2021-02-05T17:12:54.000Z",
         "2021-02-05T00:00:00.000Z",
         null,
         null,
         null,
         null,
         "PENDING",
         null,
         "28.57",
         "59c124bae4b0299e55b0f330"
        ],
        [
         "60267c710a720f05a80002c9",
         "2021-02-12T13:02:41.000Z",
         "2021-02-12T13:02:41.000Z",
         null,
         "2021-02-12T13:02:41.000Z",
         null,
         null,
         null,
         null,
         null,
         "SUBMITTED",
         null,
         null,
         "5fc961c3b8cfca11a077dd33"
        ],
        [
         "601a2d450a7214ad2800018b",
         "2021-02-03T04:57:41.000Z",
         "2021-02-03T04:57:41.000Z",
         null,
         "2021-02-03T04:57:41.000Z",
         null,
         null,
         null,
         null,
         null,
         "SUBMITTED",
         null,
         null,
         "5fc961c3b8cfca11a077dd33"
        ],
        [
         "601e128a0a7214ad2500002c",
         "2021-02-06T03:52:42.000Z",
         "2021-02-06T03:52:42.000Z",
         null,
         "2021-02-06T03:52:42.000Z",
         null,
         null,
         null,
         null,
         null,
         "SUBMITTED",
         null,
         null,
         "5fc961c3b8cfca11a077dd33"
        ],
        [
         "5ffce78c0a7214ad4e001045",
         "2021-01-12T00:04:27.000Z",
         "2021-01-12T00:04:27.000Z",
         null,
         "2021-01-12T00:04:27.000Z",
         null,
         null,
         null,
         null,
         null,
         "SUBMITTED",
         null,
         null,
         "59c124bae4b0299e55b0f330"
        ],
        [
         "601f2bca0a7214ad2500009a",
         "2021-02-06T23:52:42.000Z",
         "2021-02-06T23:52:42.000Z",
         null,
         "2021-02-06T23:52:42.000Z",
         null,
         null,
         null,
         null,
         null,
         "SUBMITTED",
         null,
         null,
         "5fc961c3b8cfca11a077dd33"
        ],
        [
         "601868260a720f05f400000e",
         "2021-02-01T20:44:22.000Z",
         "2021-02-01T20:44:22.000Z",
         null,
         "2021-02-01T20:44:22.000Z",
         null,
         null,
         null,
         null,
         null,
         "SUBMITTED",
         null,
         null,
         "60186237c8b50e11d8454d5f"
        ],
        [
         "603aab2f0a7217c72c00023a",
         "2021-02-27T20:27:27.000Z",
         "2021-02-27T20:27:27.000Z",
         null,
         "2021-02-27T20:27:28.000Z",
         "2020-08-17T00:00:00.000Z",
         null,
         "25.00",
         "25.00",
         "Complete Nonpartner Receipt",
         "REJECTED",
         2,
         "34.96",
         "5fc961c3b8cfca11a077dd33"
        ],
        [
         "6020a0720a720f053c000173",
         "2021-02-08T02:22:42.000Z",
         "2021-02-08T02:22:42.000Z",
         null,
         "2021-02-08T02:22:42.000Z",
         null,
         null,
         null,
         null,
         null,
         "SUBMITTED",
         null,
         null,
         "5fc961c3b8cfca11a077dd33"
        ]
       ],
       "datasetInfos": [
        {
         "name": "_sqldf",
         "schema": {
          "fields": [
           {
            "metadata": {},
            "name": "_id",
            "nullable": true,
            "type": "string"
           },
           {
            "metadata": {},
            "name": "createDate",
            "nullable": true,
            "type": "timestamp"
           },
           {
            "metadata": {},
            "name": "scannedDate",
            "nullable": true,
            "type": "timestamp"
           },
           {
            "metadata": {},
            "name": "finishedDate",
            "nullable": true,
            "type": "timestamp"
           },
           {
            "metadata": {},
            "name": "modifyDate",
            "nullable": true,
            "type": "timestamp"
           },
           {
            "metadata": {},
            "name": "purchaseDate",
            "nullable": true,
            "type": "timestamp"
           },
           {
            "metadata": {},
            "name": "pointsAwardedDate",
            "nullable": true,
            "type": "timestamp"
           },
           {
            "metadata": {},
            "name": "pointsEarned",
            "nullable": true,
            "type": "decimal(32,2)"
           },
           {
            "metadata": {},
            "name": "bonusPointsEarned",
            "nullable": true,
            "type": "decimal(32,2)"
           },
           {
            "metadata": {},
            "name": "bonusPointsEarnedReason",
            "nullable": true,
            "type": "string"
           },
           {
            "metadata": {},
            "name": "rewardsReceiptStatus",
            "nullable": true,
            "type": "string"
           },
           {
            "metadata": {},
            "name": "purchasedItemCount",
            "nullable": true,
            "type": "integer"
           },
           {
            "metadata": {},
            "name": "totalSpent",
            "nullable": true,
            "type": "decimal(32,2)"
           },
           {
            "metadata": {},
            "name": "userId",
            "nullable": true,
            "type": "string"
           }
          ],
          "type": "struct"
         },
         "tableIdentifier": null,
         "typeStr": "pyspark.sql.connect.dataframe.DataFrame"
        }
       ],
       "dbfsResultPath": null,
       "isJsonSchema": true,
       "metadata": {
        "createTempViewForImplicitDf": true,
        "dataframeName": "_sqldf",
        "executionCount": 251
       },
       "overflow": false,
       "plotOptions": {
        "customPlotOptions": {},
        "displayType": "table",
        "pivotAggregation": null,
        "pivotColumns": null,
        "xColumns": null,
        "yColumns": null
       },
       "removedWidgets": [],
       "schema": [
        {
         "metadata": "{}",
         "name": "_id",
         "type": "\"string\""
        },
        {
         "metadata": "{}",
         "name": "createDate",
         "type": "\"timestamp\""
        },
        {
         "metadata": "{}",
         "name": "scannedDate",
         "type": "\"timestamp\""
        },
        {
         "metadata": "{}",
         "name": "finishedDate",
         "type": "\"timestamp\""
        },
        {
         "metadata": "{}",
         "name": "modifyDate",
         "type": "\"timestamp\""
        },
        {
         "metadata": "{}",
         "name": "purchaseDate",
         "type": "\"timestamp\""
        },
        {
         "metadata": "{}",
         "name": "pointsAwardedDate",
         "type": "\"timestamp\""
        },
        {
         "metadata": "{}",
         "name": "pointsEarned",
         "type": "\"decimal(32,2)\""
        },
        {
         "metadata": "{}",
         "name": "bonusPointsEarned",
         "type": "\"decimal(32,2)\""
        },
        {
         "metadata": "{}",
         "name": "bonusPointsEarnedReason",
         "type": "\"string\""
        },
        {
         "metadata": "{}",
         "name": "rewardsReceiptStatus",
         "type": "\"string\""
        },
        {
         "metadata": "{}",
         "name": "purchasedItemCount",
         "type": "\"integer\""
        },
        {
         "metadata": "{}",
         "name": "totalSpent",
         "type": "\"decimal(32,2)\""
        },
        {
         "metadata": "{}",
         "name": "userId",
         "type": "\"string\""
        }
       ],
       "type": "table"
      }
     },
     "output_type": "display_data"
    }
   ],
   "source": [
    "%sql\n",
    "-- Investigating the pointsAwarded situation\n",
    "-- There appears to be statusCodes that might revoke the issue of points to the user\n",
    "select distinct\n",
    "  *\n",
    "from fetch.receipts_processed  \n",
    "where pointsAwardedDate is null"
   ]
  },
  {
   "cell_type": "markdown",
   "metadata": {
    "application/vnd.databricks.v1+cell": {
     "cellMetadata": {},
     "inputWidgets": {},
     "nuid": "1e0fde09-fa88-4c84-82ef-3b8824c92ad5",
     "showTitle": false,
     "tableResultSettingsMap": {},
     "title": ""
    }
   },
   "source": [
    "#### Items Dimension"
   ]
  },
  {
   "cell_type": "code",
   "execution_count": 0,
   "metadata": {
    "application/vnd.databricks.v1+cell": {
     "cellMetadata": {
      "byteLimit": 2048000,
      "rowLimit": 10000
     },
     "inputWidgets": {},
     "nuid": "97f29e97-1c07-4472-b45d-a6a355fff4c4",
     "showTitle": false,
     "tableResultSettingsMap": {},
     "title": ""
    }
   },
   "outputs": [],
   "source": [
    "# Exploding the items from the receipts rewardsReceiptItemList and writing to a table\n",
    "df = (spark.table(\"fetch.receipts_raw\")\n",
    "             .withColumn('receiptId', col(\"_id.$oid\"))\n",
    "             .selectExpr(\n",
    "                \"receiptId\",\n",
    "                \"explode(rewardsReceiptItemList) as item\"\n",
    "             )\n",
    "             .select(\"receiptId\", \"item.*\")\n",
    "             )\n",
    "\n",
    "df.write.format(\"delta\").mode('overwrite').saveAsTable(f\"fetch.items_raw\")\n"
   ]
  },
  {
   "cell_type": "code",
   "execution_count": 0,
   "metadata": {
    "application/vnd.databricks.v1+cell": {
     "cellMetadata": {
      "byteLimit": 2048000,
      "implicitDf": true,
      "rowLimit": 10000
     },
     "inputWidgets": {},
     "nuid": "4cdb619b-1632-4674-9a62-2fa2f7f722be",
     "showTitle": false,
     "tableResultSettingsMap": {},
     "title": ""
    }
   },
   "outputs": [
    {
     "output_type": "display_data",
     "data": {
      "text/html": [
       "<style scoped>\n",
       "  .table-result-container {\n",
       "    max-height: 300px;\n",
       "    overflow: auto;\n",
       "  }\n",
       "  table, th, td {\n",
       "    border: 1px solid black;\n",
       "    border-collapse: collapse;\n",
       "  }\n",
       "  th, td {\n",
       "    padding: 5px;\n",
       "  }\n",
       "  th {\n",
       "    text-align: left;\n",
       "  }\n",
       "</style><div class='table-result-container'><table class='table-result'><thead style='background-color: white'><tr><th>receiptId</th><th>barcode</th><th>brandCode</th><th>competitiveProduct</th><th>competitorRewardsGroup</th><th>deleted</th><th>description</th><th>discountedItemPrice</th><th>finalPrice</th><th>itemNumber</th><th>itemPrice</th><th>metabriteCampaignId</th><th>needsFetchReview</th><th>needsFetchReviewReason</th><th>originalFinalPrice</th><th>originalMetaBriteBarcode</th><th>originalMetaBriteDescription</th><th>originalMetaBriteItemPrice</th><th>originalMetaBriteQuantityPurchased</th><th>originalReceiptItemText</th><th>partnerItemId</th><th>pointsEarned</th><th>pointsNotAwardedReason</th><th>pointsPayerId</th><th>preventTargetGapPoints</th><th>priceAfterCoupon</th><th>quantityPurchased</th><th>rewardsGroup</th><th>rewardsProductPartnerId</th><th>targetPrice</th><th>userFlaggedBarcode</th><th>userFlaggedDescription</th><th>userFlaggedNewItem</th><th>userFlaggedPrice</th><th>userFlaggedQuantity</th></tr></thead><tbody><tr><td>600206000a720f05f3000087</td><td>511111204206</td><td>SWANSON</td><td>false</td><td>null</td><td>null</td><td>SWANSON</td><td>5.58</td><td>5.58</td><td>null</td><td>5.58</td><td>null</td><td>null</td><td>null</td><td>null</td><td>null</td><td>null</td><td>null</td><td>null</td><td>SWANSON UNSLTD CKN</td><td>1083</td><td>55.8</td><td>null</td><td>5a734034e4b0d58f376be874</td><td>null</td><td>null</td><td>2</td><td>null</td><td>5a734034e4b0d58f376be874</td><td>null</td><td>null</td><td>null</td><td>null</td><td>null</td><td>null</td></tr><tr><td>600208270a720f05f3000088</td><td>511111204206</td><td>SWANSON</td><td>false</td><td>null</td><td>null</td><td>SWANSON</td><td>5.58</td><td>5.58</td><td>null</td><td>5.58</td><td>null</td><td>null</td><td>null</td><td>null</td><td>null</td><td>null</td><td>null</td><td>null</td><td>SWANSON UNSLTD CKN</td><td>1083</td><td>55.8</td><td>null</td><td>5a734034e4b0d58f376be874</td><td>null</td><td>null</td><td>2</td><td>null</td><td>5a734034e4b0d58f376be874</td><td>null</td><td>null</td><td>null</td><td>null</td><td>null</td><td>null</td></tr><tr><td>600208270a720f05f3000088</td><td>511111001485</td><td>TOSTITOS</td><td>false</td><td>null</td><td>null</td><td>TOSTITOS</td><td>2.98</td><td>2.98</td><td>null</td><td>2.98</td><td>null</td><td>null</td><td>null</td><td>null</td><td>null</td><td>null</td><td>null</td><td>null</td><td>TOSTITOS MED SALSA</td><td>1178</td><td>null</td><td>Action not allowed for user and CPG</td><td>5332f5fbe4b03c9a25efd0ba</td><td>null</td><td>null</td><td>1</td><td>null</td><td>5332f5fbe4b03c9a25efd0ba</td><td>null</td><td>null</td><td>null</td><td>null</td><td>null</td><td>null</td></tr><tr><td>600208270a720f05f3000088</td><td>511111001485</td><td>TOSTITOS</td><td>false</td><td>null</td><td>null</td><td>TOSTITOS</td><td>3.99</td><td>3.99</td><td>null</td><td>3.99</td><td>null</td><td>null</td><td>null</td><td>null</td><td>null</td><td>null</td><td>null</td><td>null</td><td>TOSTITOS MED SALSA</td><td>1191</td><td>null</td><td>Action not allowed for user and CPG</td><td>5332f5fbe4b03c9a25efd0ba</td><td>null</td><td>null</td><td>1</td><td>null</td><td>5332f5fbe4b03c9a25efd0ba</td><td>null</td><td>null</td><td>null</td><td>null</td><td>null</td><td>null</td></tr><tr><td>600373700a720f05f3000091</td><td>511111204206</td><td>SWANSON</td><td>false</td><td>null</td><td>null</td><td>SWANSON</td><td>5.58</td><td>5.58</td><td>null</td><td>5.58</td><td>null</td><td>null</td><td>null</td><td>null</td><td>null</td><td>null</td><td>null</td><td>null</td><td>SWANSON UNSLTD CKN</td><td>1090</td><td>55.8</td><td>null</td><td>5a734034e4b0d58f376be874</td><td>null</td><td>null</td><td>2</td><td>null</td><td>5a734034e4b0d58f376be874</td><td>null</td><td>null</td><td>null</td><td>null</td><td>null</td><td>null</td></tr><tr><td>600373700a720f05f3000091</td><td>511111104537</td><td>KETTLE BRAND</td><td>false</td><td>null</td><td>null</td><td>KETTLE BRAND</td><td>3.69</td><td>3.69</td><td>null</td><td>3.69</td><td>null</td><td>null</td><td>null</td><td>null</td><td>null</td><td>null</td><td>null</td><td>null</td><td>HYV KETTLE CHIP ORIG</td><td>1143</td><td>36.9</td><td>null</td><td>5a734034e4b0d58f376be874</td><td>null</td><td>null</td><td>1</td><td>null</td><td>5a734034e4b0d58f376be874</td><td>null</td><td>null</td><td>null</td><td>null</td><td>null</td><td>null</td></tr><tr><td>600373700a720f05f3000091</td><td>511111001485</td><td>TOSTITOS</td><td>false</td><td>null</td><td>null</td><td>TOSTITOS</td><td>2.98</td><td>2.98</td><td>null</td><td>2.98</td><td>null</td><td>null</td><td>null</td><td>null</td><td>null</td><td>null</td><td>null</td><td>null</td><td>TOSTITOS MED SALSA</td><td>1185</td><td>null</td><td>Action not allowed for user and CPG</td><td>5332f5fbe4b03c9a25efd0ba</td><td>null</td><td>null</td><td>1</td><td>null</td><td>5332f5fbe4b03c9a25efd0ba</td><td>null</td><td>null</td><td>null</td><td>null</td><td>null</td><td>null</td></tr><tr><td>600373700a720f05f3000091</td><td>511111001485</td><td>TOSTITOS</td><td>false</td><td>null</td><td>null</td><td>TOSTITOS</td><td>3.99</td><td>3.99</td><td>null</td><td>3.99</td><td>null</td><td>null</td><td>null</td><td>null</td><td>null</td><td>null</td><td>null</td><td>null</td><td>TOSTITOS MED SALSA</td><td>1198</td><td>null</td><td>Action not allowed for user and CPG</td><td>5332f5fbe4b03c9a25efd0ba</td><td>null</td><td>null</td><td>1</td><td>null</td><td>5332f5fbe4b03c9a25efd0ba</td><td>null</td><td>null</td><td>null</td><td>null</td><td>null</td><td>null</td></tr><tr><td>60023e8f0a720f05f300008b</td><td>511111204206</td><td>SWANSON</td><td>false</td><td>null</td><td>null</td><td>SWANSON</td><td>5.58</td><td>5.58</td><td>null</td><td>5.58</td><td>null</td><td>null</td><td>null</td><td>null</td><td>null</td><td>null</td><td>null</td><td>null</td><td>SWANSON UNSLTD CKN</td><td>1082</td><td>55.8</td><td>null</td><td>5a734034e4b0d58f376be874</td><td>null</td><td>null</td><td>2</td><td>null</td><td>5a734034e4b0d58f376be874</td><td>null</td><td>null</td><td>null</td><td>null</td><td>null</td><td>null</td></tr><tr><td>60023e8f0a720f05f300008b</td><td>511111001485</td><td>TOSTITOS</td><td>false</td><td>null</td><td>null</td><td>TOSTITOS</td><td>2.98</td><td>2.98</td><td>null</td><td>2.98</td><td>null</td><td>null</td><td>null</td><td>null</td><td>null</td><td>null</td><td>null</td><td>null</td><td>TOSTITOS MED SALSA</td><td>1177</td><td>null</td><td>Action not allowed for user and CPG</td><td>5332f5fbe4b03c9a25efd0ba</td><td>null</td><td>null</td><td>1</td><td>null</td><td>5332f5fbe4b03c9a25efd0ba</td><td>null</td><td>null</td><td>null</td><td>null</td><td>null</td><td>null</td></tr><tr><td>60023e8f0a720f05f300008b</td><td>511111001485</td><td>TOSTITOS</td><td>false</td><td>null</td><td>null</td><td>TOSTITOS</td><td>3.99</td><td>3.99</td><td>null</td><td>3.99</td><td>null</td><td>null</td><td>null</td><td>null</td><td>null</td><td>null</td><td>null</td><td>null</td><td>TOSTITOS MED SALSA</td><td>1189</td><td>null</td><td>Action not allowed for user and CPG</td><td>5332f5fbe4b03c9a25efd0ba</td><td>null</td><td>null</td><td>1</td><td>null</td><td>5332f5fbe4b03c9a25efd0ba</td><td>null</td><td>null</td><td>null</td><td>null</td><td>null</td><td>null</td></tr><tr><td>60020d2a0a720f05f300008a</td><td>511111204206</td><td>SWANSON</td><td>false</td><td>null</td><td>null</td><td>SWANSON</td><td>5.58</td><td>5.58</td><td>null</td><td>5.58</td><td>null</td><td>null</td><td>null</td><td>null</td><td>null</td><td>null</td><td>null</td><td>null</td><td>SWANSON UNSLTD CKN</td><td>1083</td><td>55.8</td><td>null</td><td>5a734034e4b0d58f376be874</td><td>null</td><td>null</td><td>2</td><td>null</td><td>5a734034e4b0d58f376be874</td><td>null</td><td>null</td><td>null</td><td>null</td><td>null</td><td>null</td></tr><tr><td>60020d2a0a720f05f300008a</td><td>511111001485</td><td>TOSTITOS</td><td>false</td><td>null</td><td>null</td><td>TOSTITOS</td><td>2.98</td><td>2.98</td><td>null</td><td>2.98</td><td>null</td><td>null</td><td>null</td><td>null</td><td>null</td><td>null</td><td>null</td><td>null</td><td>TOSTITOS MED SALSA</td><td>1178</td><td>null</td><td>Action not allowed for user and CPG</td><td>5332f5fbe4b03c9a25efd0ba</td><td>null</td><td>null</td><td>1</td><td>null</td><td>5332f5fbe4b03c9a25efd0ba</td><td>null</td><td>null</td><td>null</td><td>null</td><td>null</td><td>null</td></tr><tr><td>60020d2a0a720f05f300008a</td><td>511111001485</td><td>TOSTITOS</td><td>false</td><td>null</td><td>null</td><td>TOSTITOS</td><td>3.99</td><td>3.99</td><td>null</td><td>3.99</td><td>null</td><td>null</td><td>null</td><td>null</td><td>null</td><td>null</td><td>null</td><td>null</td><td>TOSTITOS MED SALSA</td><td>1191</td><td>null</td><td>Action not allowed for user and CPG</td><td>5332f5fbe4b03c9a25efd0ba</td><td>null</td><td>null</td><td>1</td><td>null</td><td>5332f5fbe4b03c9a25efd0ba</td><td>null</td><td>null</td><td>null</td><td>null</td><td>null</td><td>null</td></tr><tr><td>6002590c0a7214ad4c000082</td><td>511111104537</td><td>KETTLE BRAND</td><td>false</td><td>null</td><td>null</td><td>KETTLE BRAND</td><td>3.69</td><td>3.69</td><td>null</td><td>3.69</td><td>null</td><td>null</td><td>null</td><td>null</td><td>null</td><td>null</td><td>null</td><td>null</td><td>HYV KETTLE CHIP ORIG</td><td>1144</td><td>36.9</td><td>null</td><td>5a734034e4b0d58f376be874</td><td>null</td><td>null</td><td>1</td><td>null</td><td>5a734034e4b0d58f376be874</td><td>null</td><td>null</td><td>null</td><td>null</td><td>null</td><td>null</td></tr><tr><td>6002590c0a7214ad4c000082</td><td>511111001485</td><td>TOSTITOS</td><td>false</td><td>null</td><td>null</td><td>TOSTITOS</td><td>2.98</td><td>2.98</td><td>null</td><td>2.98</td><td>null</td><td>null</td><td>null</td><td>null</td><td>null</td><td>null</td><td>null</td><td>null</td><td>TOSTITOS MED SALSA</td><td>1186</td><td>null</td><td>Action not allowed for user and CPG</td><td>5332f5fbe4b03c9a25efd0ba</td><td>null</td><td>null</td><td>1</td><td>null</td><td>5332f5fbe4b03c9a25efd0ba</td><td>null</td><td>null</td><td>null</td><td>null</td><td>null</td><td>null</td></tr><tr><td>6002590c0a7214ad4c000082</td><td>511111001485</td><td>TOSTITOS</td><td>false</td><td>null</td><td>null</td><td>TOSTITOS</td><td>3.99</td><td>3.99</td><td>null</td><td>3.99</td><td>null</td><td>null</td><td>null</td><td>null</td><td>null</td><td>null</td><td>null</td><td>null</td><td>TOSTITOS MED SALSA</td><td>1199</td><td>null</td><td>Action not allowed for user and CPG</td><td>5332f5fbe4b03c9a25efd0ba</td><td>null</td><td>null</td><td>1</td><td>null</td><td>5332f5fbe4b03c9a25efd0ba</td><td>null</td><td>null</td><td>null</td><td>null</td><td>null</td><td>null</td></tr><tr><td>60025cb80a720f05f300008d</td><td>511111204206</td><td>SWANSON</td><td>false</td><td>null</td><td>null</td><td>SWANSON</td><td>5.58</td><td>5.58</td><td>null</td><td>5.58</td><td>null</td><td>null</td><td>null</td><td>null</td><td>null</td><td>null</td><td>null</td><td>null</td><td>SWANSON UNSLTD CKN</td><td>1124</td><td>55.8</td><td>null</td><td>5a734034e4b0d58f376be874</td><td>null</td><td>5.58</td><td>2</td><td>null</td><td>5a734034e4b0d58f376be874</td><td>null</td><td>null</td><td>null</td><td>null</td><td>null</td><td>null</td></tr><tr><td>600370250a720f05f3000090</td><td>511111204206</td><td>SWANSON</td><td>false</td><td>null</td><td>null</td><td>SWANSON</td><td>5.58</td><td>5.58</td><td>null</td><td>5.58</td><td>null</td><td>null</td><td>null</td><td>null</td><td>null</td><td>null</td><td>null</td><td>null</td><td>SWANSON UNSLTD CKN</td><td>1089</td><td>55.8</td><td>null</td><td>5a734034e4b0d58f376be874</td><td>null</td><td>null</td><td>2</td><td>null</td><td>5a734034e4b0d58f376be874</td><td>null</td><td>null</td><td>null</td><td>null</td><td>null</td><td>null</td></tr><tr><td>600370250a720f05f3000090</td><td>511111104537</td><td>KETTLE BRAND</td><td>false</td><td>null</td><td>null</td><td>KETTLE BRAND</td><td>3.69</td><td>3.69</td><td>null</td><td>3.69</td><td>null</td><td>null</td><td>null</td><td>null</td><td>null</td><td>null</td><td>null</td><td>null</td><td>HYV KETTLE CHIP ORIG</td><td>1142</td><td>36.9</td><td>null</td><td>5a734034e4b0d58f376be874</td><td>null</td><td>null</td><td>1</td><td>null</td><td>5a734034e4b0d58f376be874</td><td>null</td><td>null</td><td>null</td><td>null</td><td>null</td><td>null</td></tr><tr><td>600370250a720f05f3000090</td><td>511111001485</td><td>TOSTITOS</td><td>false</td><td>null</td><td>null</td><td>TOSTITOS</td><td>2.98</td><td>2.98</td><td>null</td><td>2.98</td><td>null</td><td>null</td><td>null</td><td>null</td><td>null</td><td>null</td><td>null</td><td>null</td><td>TOSTITOS MED SALSA</td><td>1184</td><td>null</td><td>Action not allowed for user and CPG</td><td>5332f5fbe4b03c9a25efd0ba</td><td>null</td><td>null</td><td>1</td><td>null</td><td>5332f5fbe4b03c9a25efd0ba</td><td>null</td><td>null</td><td>null</td><td>null</td><td>null</td><td>null</td></tr><tr><td>600370250a720f05f3000090</td><td>511111001485</td><td>TOSTITOS</td><td>false</td><td>null</td><td>null</td><td>TOSTITOS</td><td>3.99</td><td>3.99</td><td>null</td><td>3.99</td><td>null</td><td>null</td><td>null</td><td>null</td><td>null</td><td>null</td><td>null</td><td>null</td><td>TOSTITOS MED SALSA</td><td>1197</td><td>null</td><td>Action not allowed for user and CPG</td><td>5332f5fbe4b03c9a25efd0ba</td><td>null</td><td>null</td><td>1</td><td>null</td><td>5332f5fbe4b03c9a25efd0ba</td><td>null</td><td>null</td><td>null</td><td>null</td><td>null</td><td>null</td></tr><tr><td>600260210a720f05f300008f</td><td>511111001485</td><td>TOSTITOS</td><td>false</td><td>null</td><td>null</td><td>TOSTITOS</td><td>2.98</td><td>2.98</td><td>null</td><td>2.98</td><td>null</td><td>null</td><td>null</td><td>null</td><td>null</td><td>null</td><td>null</td><td>null</td><td>TOSTITOS MED SALSA</td><td>1187</td><td>null</td><td>Action not allowed for user and CPG</td><td>5332f5fbe4b03c9a25efd0ba</td><td>null</td><td>2.98</td><td>1</td><td>null</td><td>5332f5fbe4b03c9a25efd0ba</td><td>null</td><td>null</td><td>null</td><td>null</td><td>null</td><td>null</td></tr><tr><td>600260210a720f05f300008f</td><td>511111001485</td><td>TOSTITOS</td><td>false</td><td>null</td><td>null</td><td>TOSTITOS</td><td>3.99</td><td>3.99</td><td>null</td><td>3.99</td><td>null</td><td>null</td><td>null</td><td>null</td><td>null</td><td>null</td><td>null</td><td>null</td><td>TOSTITOS MED SALSA</td><td>1200</td><td>null</td><td>Action not allowed for user and CPG</td><td>5332f5fbe4b03c9a25efd0ba</td><td>null</td><td>3.99</td><td>1</td><td>null</td><td>5332f5fbe4b03c9a25efd0ba</td><td>null</td><td>null</td><td>null</td><td>null</td><td>null</td><td>null</td></tr><tr><td>6004a5f20a7214ad4c000088</td><td>511111204206</td><td>SWANSON</td><td>false</td><td>null</td><td>null</td><td>SWANSON</td><td>5.58</td><td>5.58</td><td>null</td><td>5.58</td><td>null</td><td>null</td><td>null</td><td>null</td><td>null</td><td>null</td><td>null</td><td>null</td><td>SWANSON UNSLTD CKN</td><td>1100</td><td>55.8</td><td>null</td><td>5a734034e4b0d58f376be874</td><td>null</td><td>null</td><td>2</td><td>null</td><td>5a734034e4b0d58f376be874</td><td>null</td><td>null</td><td>null</td><td>null</td><td>null</td><td>null</td></tr><tr><td>6004a5f20a7214ad4c000088</td><td>511111001485</td><td>TOSTITOS</td><td>false</td><td>null</td><td>null</td><td>TOSTITOS</td><td>2.98</td><td>2.98</td><td>null</td><td>2.98</td><td>null</td><td>null</td><td>null</td><td>null</td><td>null</td><td>null</td><td>null</td><td>null</td><td>TOSTITOS MED SALSA</td><td>1195</td><td>null</td><td>Action not allowed for user and CPG</td><td>5332f5fbe4b03c9a25efd0ba</td><td>null</td><td>null</td><td>1</td><td>null</td><td>5332f5fbe4b03c9a25efd0ba</td><td>null</td><td>null</td><td>null</td><td>null</td><td>null</td><td>null</td></tr><tr><td>6004a5f20a7214ad4c000088</td><td>511111001485</td><td>TOSTITOS</td><td>false</td><td>null</td><td>null</td><td>TOSTITOS</td><td>3.99</td><td>3.99</td><td>null</td><td>3.99</td><td>null</td><td>null</td><td>null</td><td>null</td><td>null</td><td>null</td><td>null</td><td>null</td><td>TOSTITOS MED SALSA</td><td>1208</td><td>null</td><td>Action not allowed for user and CPG</td><td>5332f5fbe4b03c9a25efd0ba</td><td>null</td><td>null</td><td>1</td><td>null</td><td>5332f5fbe4b03c9a25efd0ba</td><td>null</td><td>null</td><td>null</td><td>null</td><td>null</td><td>null</td></tr><tr><td>60049d9d0a720f05f3000094</td><td>511111204206</td><td>SWANSON</td><td>false</td><td>null</td><td>null</td><td>SWANSON</td><td>5.58</td><td>5.58</td><td>null</td><td>5.58</td><td>null</td><td>null</td><td>null</td><td>null</td><td>null</td><td>null</td><td>null</td><td>null</td><td>SWANSON UNSLTD CKN</td><td>1100</td><td>55.8</td><td>null</td><td>5a734034e4b0d58f376be874</td><td>null</td><td>null</td><td>2</td><td>null</td><td>5a734034e4b0d58f376be874</td><td>null</td><td>null</td><td>null</td><td>null</td><td>null</td><td>null</td></tr><tr><td>60049d9d0a720f05f3000094</td><td>511111001485</td><td>TOSTITOS</td><td>false</td><td>null</td><td>null</td><td>TOSTITOS</td><td>2.98</td><td>2.98</td><td>null</td><td>2.98</td><td>null</td><td>null</td><td>null</td><td>null</td><td>null</td><td>null</td><td>null</td><td>null</td><td>TOSTITOS MED SALSA</td><td>1195</td><td>null</td><td>Action not allowed for user and CPG</td><td>5332f5fbe4b03c9a25efd0ba</td><td>null</td><td>null</td><td>1</td><td>null</td><td>5332f5fbe4b03c9a25efd0ba</td><td>null</td><td>null</td><td>null</td><td>null</td><td>null</td><td>null</td></tr><tr><td>60049d9d0a720f05f3000094</td><td>511111001485</td><td>TOSTITOS</td><td>false</td><td>null</td><td>null</td><td>TOSTITOS</td><td>3.99</td><td>3.99</td><td>null</td><td>3.99</td><td>null</td><td>null</td><td>null</td><td>null</td><td>null</td><td>null</td><td>null</td><td>null</td><td>TOSTITOS MED SALSA</td><td>1208</td><td>null</td><td>Action not allowed for user and CPG</td><td>5332f5fbe4b03c9a25efd0ba</td><td>null</td><td>null</td><td>1</td><td>null</td><td>5332f5fbe4b03c9a25efd0ba</td><td>null</td><td>null</td><td>null</td><td>null</td><td>null</td><td>null</td></tr><tr><td>60049d9d0a720f05f3000094</td><td>511111001485</td><td>TOSTITOS</td><td>false</td><td>null</td><td>null</td><td>TOSTITOS</td><td>3.99</td><td>3.99</td><td>null</td><td>3.99</td><td>null</td><td>null</td><td>null</td><td>null</td><td>null</td><td>null</td><td>null</td><td>null</td><td>TOSTITOS MED SALSA</td><td>1336</td><td>null</td><td>Action not allowed for user and CPG</td><td>5332f5fbe4b03c9a25efd0ba</td><td>null</td><td>null</td><td>1</td><td>null</td><td>5332f5fbe4b03c9a25efd0ba</td><td>null</td><td>null</td><td>null</td><td>null</td><td>null</td><td>null</td></tr><tr><td>60049d9d0a720f05f3000094</td><td>511111502142</td><td>GREY POUPON</td><td>false</td><td>null</td><td>null</td><td>GREY POUPON</td><td>3.29</td><td>3.29</td><td>null</td><td>3.29</td><td>GREY POUPON MUSTARD</td><td>null</td><td>null</td><td>null</td><td>null</td><td>null</td><td>null</td><td>null</td><td>GREYPOUPON MUSTARD</td><td>1388</td><td>16.5</td><td>null</td><td>559c2234e4b06aca36af13c6</td><td>null</td><td>null</td><td>1</td><td>null</td><td>559c2234e4b06aca36af13c6</td><td>null</td><td>null</td><td>null</td><td>null</td><td>null</td><td>null</td></tr><tr><td>6004a99e0a720f05f3000095</td><td>511111204206</td><td>SWANSON</td><td>false</td><td>null</td><td>null</td><td>SWANSON</td><td>5.58</td><td>5.58</td><td>null</td><td>5.58</td><td>null</td><td>null</td><td>null</td><td>null</td><td>null</td><td>null</td><td>null</td><td>null</td><td>SWANSON UNSLTD CKN</td><td>1109</td><td>55.8</td><td>null</td><td>5a734034e4b0d58f376be874</td><td>null</td><td>null</td><td>2</td><td>null</td><td>5a734034e4b0d58f376be874</td><td>null</td><td>null</td><td>null</td><td>null</td><td>null</td><td>null</td></tr><tr><td>6004a99e0a720f05f3000095</td><td>511111001485</td><td>TOSTITOS</td><td>false</td><td>null</td><td>null</td><td>TOSTITOS</td><td>2.98</td><td>2.98</td><td>null</td><td>2.98</td><td>null</td><td>null</td><td>null</td><td>null</td><td>null</td><td>null</td><td>null</td><td>null</td><td>TOSTITOS MED SALSA</td><td>1251</td><td>null</td><td>Action not allowed for user and CPG</td><td>5332f5fbe4b03c9a25efd0ba</td><td>null</td><td>null</td><td>1</td><td>null</td><td>5332f5fbe4b03c9a25efd0ba</td><td>null</td><td>null</td><td>null</td><td>null</td><td>null</td><td>null</td></tr><tr><td>6004a99e0a720f05f3000095</td><td>511111001485</td><td>TOSTITOS</td><td>false</td><td>null</td><td>null</td><td>TOSTITOS</td><td>3.99</td><td>3.99</td><td>null</td><td>3.99</td><td>null</td><td>null</td><td>null</td><td>null</td><td>null</td><td>null</td><td>null</td><td>null</td><td>TOSTITOS MED SALSA</td><td>1264</td><td>null</td><td>Action not allowed for user and CPG</td><td>5332f5fbe4b03c9a25efd0ba</td><td>null</td><td>null</td><td>1</td><td>null</td><td>5332f5fbe4b03c9a25efd0ba</td><td>null</td><td>null</td><td>null</td><td>null</td><td>null</td><td>null</td></tr><tr><td>60088a100a7214ad890000bd</td><td>511111204206</td><td>SWANSON</td><td>false</td><td>null</td><td>null</td><td>SWANSON</td><td>5.58</td><td>5.58</td><td>null</td><td>5.58</td><td>null</td><td>null</td><td>null</td><td>null</td><td>null</td><td>null</td><td>null</td><td>null</td><td>SWANSON UNSLTD CKN</td><td>1101</td><td>55.8</td><td>null</td><td>5a734034e4b0d58f376be874</td><td>null</td><td>null</td><td>2</td><td>null</td><td>5a734034e4b0d58f376be874</td><td>null</td><td>null</td><td>null</td><td>null</td><td>null</td><td>null</td></tr><tr><td>60088a100a7214ad890000bd</td><td>511111001485</td><td>TOSTITOS</td><td>false</td><td>null</td><td>null</td><td>TOSTITOS</td><td>2.98</td><td>2.98</td><td>null</td><td>2.98</td><td>null</td><td>null</td><td>null</td><td>null</td><td>null</td><td>null</td><td>null</td><td>null</td><td>TOSTITOS MED SALSA</td><td>1196</td><td>null</td><td>Action not allowed for user and CPG</td><td>5332f5fbe4b03c9a25efd0ba</td><td>null</td><td>null</td><td>1</td><td>null</td><td>5332f5fbe4b03c9a25efd0ba</td><td>null</td><td>null</td><td>null</td><td>null</td><td>null</td><td>null</td></tr><tr><td>60088a100a7214ad890000bd</td><td>511111001485</td><td>TOSTITOS</td><td>false</td><td>null</td><td>null</td><td>TOSTITOS</td><td>3.99</td><td>3.99</td><td>null</td><td>3.99</td><td>null</td><td>null</td><td>null</td><td>null</td><td>null</td><td>null</td><td>null</td><td>null</td><td>TOSTITOS MED SALSA</td><td>1209</td><td>null</td><td>Action not allowed for user and CPG</td><td>5332f5fbe4b03c9a25efd0ba</td><td>null</td><td>null</td><td>1</td><td>null</td><td>5332f5fbe4b03c9a25efd0ba</td><td>null</td><td>null</td><td>null</td><td>null</td><td>null</td><td>null</td></tr><tr><td>6009f5ea0a7214ada2000004</td><td>511111802358</td><td>CRACKER BARREL</td><td>false</td><td>null</td><td>null</td><td>CRACKER BARREL</td><td>28.14</td><td>28.14</td><td>null</td><td>28.14</td><td>CRACKER BARREL CHEESE - CHUNK</td><td>null</td><td>null</td><td>null</td><td>null</td><td>null</td><td>null</td><td>null</td><td>CRCKRBRL</td><td>1034</td><td>140.7</td><td>null</td><td>559c2234e4b06aca36af13c6</td><td>null</td><td>null</td><td>1</td><td>null</td><td>559c2234e4b06aca36af13c6</td><td>null</td><td>null</td><td>null</td><td>null</td><td>null</td><td>null</td></tr><tr><td>6008ee0e0a7214ad89000125</td><td>511111101451</td><td>null</td><td>null</td><td>null</td><td>null</td><td>QUAKER</td><td>3.99</td><td>3.99</td><td>511111101451</td><td>3.99</td><td>null</td><td>null</td><td>null</td><td>null</td><td></td><td>null</td><td>null</td><td>null</td><td>2.99 10 OUAKER OATS Q</td><td>1042</td><td>null</td><td>Action not allowed for user and CPG</td><td>53e10d6368abd3c7065097cc</td><td>null</td><td>null</td><td>1</td><td>null</td><td>53e10d6368abd3c7065097cc</td><td>null</td><td>null</td><td>null</td><td>null</td><td>null</td><td>null</td></tr><tr><td>6008ee0e0a7214ad89000125</td><td>511111602118</td><td>null</td><td>null</td><td>null</td><td>null</td><td>JELL-O</td><td>1.99</td><td>1.99</td><td>511111602118</td><td>1.99</td><td>null</td><td>null</td><td>null</td><td>null</td><td></td><td>null</td><td>null</td><td>null</td><td>LO JELL-O</td><td>1051</td><td>10.0</td><td>null</td><td>559c2234e4b06aca36af13c6</td><td>null</td><td>null</td><td>1</td><td>null</td><td>559c2234e4b06aca36af13c6</td><td>null</td><td>null</td><td>null</td><td>null</td><td>null</td><td>null</td></tr><tr><td>600a1a8d0a7214ada2000008</td><td>511111802358</td><td>CRACKER BARREL</td><td>false</td><td>null</td><td>null</td><td>CRACKER BARREL</td><td>28.14</td><td>28.14</td><td>null</td><td>28.14</td><td>CRACKER BARREL CHEESE - CHUNK</td><td>null</td><td>null</td><td>null</td><td>null</td><td>null</td><td>null</td><td>null</td><td>CRCKRBRL</td><td>1037</td><td>140.7</td><td>null</td><td>559c2234e4b06aca36af13c6</td><td>null</td><td>null</td><td>1</td><td>null</td><td>559c2234e4b06aca36af13c6</td><td>null</td><td>null</td><td>null</td><td>null</td><td>null</td><td>null</td></tr><tr><td>600a1a8d0a7214ada2000008</td><td>511111101451</td><td>QUAKER</td><td>false</td><td>null</td><td>null</td><td>QUAKER</td><td>3.99</td><td>3.99</td><td>null</td><td>3.99</td><td>QUAKER CEREAL & OATS</td><td>null</td><td>null</td><td>null</td><td>null</td><td>null</td><td>null</td><td>null</td><td>251 QUAKEROATS</td><td>1135</td><td>null</td><td>Action not allowed for user and CPG</td><td>53e10d6368abd3c7065097cc</td><td>null</td><td>null</td><td>1</td><td>null</td><td>53e10d6368abd3c7065097cc</td><td>null</td><td>null</td><td>null</td><td>null</td><td>null</td><td>null</td></tr><tr><td>600a1a8d0a7214ada2000008</td><td>511111901587</td><td>RICE-A-RONI</td><td>false</td><td>null</td><td>null</td><td>RICE-A-RONI</td><td>1.29</td><td>1.29</td><td>null</td><td>1.29</td><td>null</td><td>null</td><td>null</td><td>null</td><td>null</td><td>null</td><td>null</td><td>null</td><td>496 RICEA RONI</td><td>1325</td><td>null</td><td>Action not allowed for user and CPG</td><td>5332f5fbe4b03c9a25efd0ba</td><td>null</td><td>null</td><td>1</td><td>null</td><td>5332f5fbe4b03c9a25efd0ba</td><td>null</td><td>null</td><td>null</td><td>null</td><td>null</td><td>null</td></tr><tr><td>600afbd90a720f053500000b</td><td>511111802358</td><td>CRACKER BARREL</td><td>false</td><td>null</td><td>null</td><td>CRACKER BARREL</td><td>28.14</td><td>28.14</td><td>null</td><td>28.14</td><td>null</td><td>null</td><td>null</td><td>null</td><td>null</td><td>null</td><td>null</td><td>null</td><td>CRCKR BRL</td><td>1057</td><td>140.7</td><td>null</td><td>559c2234e4b06aca36af13c6</td><td>null</td><td>null</td><td>1</td><td>null</td><td>559c2234e4b06aca36af13c6</td><td>null</td><td>null</td><td>null</td><td>null</td><td>null</td><td>null</td></tr><tr><td>600b420b0a7214ada200000d</td><td>511111802358</td><td>CRACKER BARREL</td><td>false</td><td>null</td><td>null</td><td>CRACKER BARREL</td><td>28.14</td><td>28.14</td><td>null</td><td>28.14</td><td>null</td><td>null</td><td>null</td><td>null</td><td>null</td><td>null</td><td>null</td><td>null</td><td>CRCKR BRL</td><td>1042</td><td>140.7</td><td>null</td><td>559c2234e4b06aca36af13c6</td><td>null</td><td>null</td><td>1</td><td>null</td><td>559c2234e4b06aca36af13c6</td><td>null</td><td>null</td><td>null</td><td>null</td><td>null</td><td>null</td></tr><tr><td>600b420b0a7214ada200000d</td><td>511111902690</td><td>KRAFT</td><td>false</td><td>null</td><td>null</td><td>KRAFT</td><td>6.49</td><td>6.49</td><td>null</td><td>6.49</td><td>null</td><td>null</td><td>null</td><td>null</td><td>null</td><td>null</td><td>null</td><td>null</td><td>CHEEZETCR KR</td><td>1078</td><td>32.5</td><td>null</td><td>559c2234e4b06aca36af13c6</td><td>null</td><td>null</td><td>1</td><td>null</td><td>559c2234e4b06aca36af13c6</td><td>null</td><td>null</td><td>null</td><td>null</td><td>null</td><td>null</td></tr><tr><td>600b420b0a7214ada200000d</td><td>511111704140</td><td>PREGO</td><td>false</td><td>null</td><td>null</td><td>PREGO</td><td>2.19</td><td>2.19</td><td>null</td><td>2.19</td><td>null</td><td>null</td><td>null</td><td>null</td><td>null</td><td>null</td><td>null</td><td>null</td><td>PREGO PASTASAUCE</td><td>1307</td><td>21.9</td><td>null</td><td>5a734034e4b0d58f376be874</td><td>null</td><td>null</td><td>1</td><td>null</td><td>5a734034e4b0d58f376be874</td><td>null</td><td>null</td><td>null</td><td>null</td><td>null</td><td>null</td></tr><tr><td>600b420b0a7214ada200000d</td><td>511111104186</td><td>PACIFIC FOODS</td><td>false</td><td>null</td><td>null</td><td>PACIFIC FOODS</td><td>4.99</td><td>4.99</td><td>null</td><td>4.99</td><td>null</td><td>null</td><td>null</td><td>null</td><td>null</td><td>null</td><td>null</td><td>null</td><td>PACF BONE BROTH</td><td>1359</td><td>49.9</td><td>null</td><td>5a734034e4b0d58f376be874</td><td>null</td><td>null</td><td>1</td><td>null</td><td>5a734034e4b0d58f376be874</td><td>null</td><td>null</td><td>null</td><td>null</td><td>null</td><td>null</td></tr><tr><td>600b420b0a7214ada200000d</td><td>511111704140</td><td>PREGO</td><td>false</td><td>null</td><td>null</td><td>PREGO</td><td>2.19</td><td>2.19</td><td>null</td><td>2.19</td><td>null</td><td>null</td><td>null</td><td>null</td><td>null</td><td>null</td><td>null</td><td>null</td><td>PREGO PASTA SAUCE</td><td>1369</td><td>21.9</td><td>null</td><td>5a734034e4b0d58f376be874</td><td>null</td><td>null</td><td>1</td><td>null</td><td>5a734034e4b0d58f376be874</td><td>null</td><td>null</td><td>null</td><td>null</td><td>null</td><td>null</td></tr><tr><td>600af82f0a720f053500000a</td><td>511111704140</td><td>PREGO</td><td>false</td><td>null</td><td>null</td><td>PREGO</td><td>2.19</td><td>2.19</td><td>null</td><td>2.19</td><td>null</td><td>null</td><td>null</td><td>null</td><td>null</td><td>null</td><td>null</td><td>null</td><td>PREGO PASTA SAUCE</td><td>1361</td><td>21.9</td><td>null</td><td>5a734034e4b0d58f376be874</td><td>null</td><td>null</td><td>1</td><td>null</td><td>5a734034e4b0d58f376be874</td><td>null</td><td>null</td><td>null</td><td>null</td><td>null</td><td>null</td></tr><tr><td>600b39f60a720f053500000e</td><td>511111802358</td><td>CRACKER BARREL</td><td>false</td><td>null</td><td>null</td><td>CRACKER BARREL</td><td>28.14</td><td>28.14</td><td>null</td><td>28.14</td><td>null</td><td>null</td><td>null</td><td>null</td><td>null</td><td>null</td><td>null</td><td>null</td><td>CRCKR BRL</td><td>1042</td><td>140.7</td><td>null</td><td>559c2234e4b06aca36af13c6</td><td>null</td><td>null</td><td>1</td><td>null</td><td>559c2234e4b06aca36af13c6</td><td>null</td><td>null</td><td>null</td><td>null</td><td>null</td><td>null</td></tr><tr><td>600b139e0a7214ada200000a</td><td>511111802358</td><td>CRACKER BARREL</td><td>false</td><td>null</td><td>null</td><td>CRACKER BARREL</td><td>28.14</td><td>28.14</td><td>null</td><td>28.14</td><td>null</td><td>null</td><td>null</td><td>null</td><td>null</td><td>null</td><td>null</td><td>null</td><td>CRCKR BRL</td><td>1034</td><td>140.7</td><td>null</td><td>559c2234e4b06aca36af13c6</td><td>null</td><td>null</td><td>1</td><td>null</td><td>559c2234e4b06aca36af13c6</td><td>null</td><td>null</td><td>null</td><td>null</td><td>null</td><td>null</td></tr><tr><td>600a1e270a720f0535000009</td><td>511111802358</td><td>CRACKER BARREL</td><td>false</td><td>null</td><td>null</td><td>CRACKER BARREL</td><td>28.14</td><td>28.14</td><td>null</td><td>28.14</td><td>CRACKER BARREL CHEESE - CHUNK</td><td>null</td><td>null</td><td>null</td><td>null</td><td>null</td><td>null</td><td>null</td><td>CRCKRBRL</td><td>1039</td><td>140.7</td><td>null</td><td>559c2234e4b06aca36af13c6</td><td>null</td><td>null</td><td>1</td><td>null</td><td>559c2234e4b06aca36af13c6</td><td>null</td><td>null</td><td>null</td><td>null</td><td>null</td><td>null</td></tr><tr><td>600a1e270a720f0535000009</td><td>511111901587</td><td>RICE-A-RONI</td><td>false</td><td>null</td><td>null</td><td>RICE-A-RONI</td><td>1.29</td><td>1.29</td><td>null</td><td>1.29</td><td>null</td><td>null</td><td>null</td><td>null</td><td>null</td><td>null</td><td>null</td><td>null</td><td>492 RICE A RONI</td><td>1234</td><td>null</td><td>Action not allowed for user and CPG</td><td>5332f5fbe4b03c9a25efd0ba</td><td>null</td><td>null</td><td>1</td><td>null</td><td>5332f5fbe4b03c9a25efd0ba</td><td>null</td><td>null</td><td>null</td><td>null</td><td>null</td><td>null</td></tr><tr><td>600a1e270a720f0535000009</td><td>511111901587</td><td>RICE-A-RONI</td><td>false</td><td>null</td><td>null</td><td>RICE-A-RONI</td><td>1.29</td><td>1.29</td><td>null</td><td>1.29</td><td>null</td><td>null</td><td>null</td><td>null</td><td>null</td><td>null</td><td>null</td><td>null</td><td>496 RICEA RONI</td><td>1238</td><td>null</td><td>Action not allowed for user and CPG</td><td>5332f5fbe4b03c9a25efd0ba</td><td>null</td><td>null</td><td>1</td><td>null</td><td>5332f5fbe4b03c9a25efd0ba</td><td>null</td><td>null</td><td>null</td><td>null</td><td>null</td><td>null</td></tr><tr><td>600a1e270a720f0535000009</td><td>511111518044</td><td>SARGENTO</td><td>false</td><td>null</td><td>null</td><td>SARGENTO</td><td>3.49</td><td>3.49</td><td>null</td><td>3.49</td><td>null</td><td>null</td><td>null</td><td>null</td><td>null</td><td>null</td><td>null</td><td>null</td><td>524 SARGENTO CHE</td><td>1267</td><td>34.9</td><td>null</td><td>5e7cf838f221c312e698a628</td><td>null</td><td>null</td><td>1</td><td>null</td><td>5e7cf838f221c312e698a628</td><td>null</td><td>null</td><td>null</td><td>null</td><td>null</td><td>null</td></tr><tr><td>600ba6ae0a7214ada2000010</td><td>511111902690</td><td>KRAFT</td><td>false</td><td>null</td><td>null</td><td>KRAFT</td><td>1.99</td><td>1.99</td><td>null</td><td>1.99</td><td>KRAFT DRESSING</td><td>null</td><td>null</td><td>null</td><td>null</td><td>null</td><td>null</td><td>null</td><td>KRAFT ITALIAN RSTD</td><td>1285</td><td>10.0</td><td>null</td><td>559c2234e4b06aca36af13c6</td><td>null</td><td>null</td><td>1</td><td>null</td><td>559c2234e4b06aca36af13c6</td><td>null</td><td>null</td><td>null</td><td>null</td><td>null</td><td>null</td></tr><tr><td>600eda0c0a7214ada200001e</td><td>511111802358</td><td>CRACKER BARREL</td><td>false</td><td>null</td><td>null</td><td>CRACKER BARREL</td><td>28.14</td><td>28.14</td><td>null</td><td>28.14</td><td>null</td><td>null</td><td>null</td><td>null</td><td>null</td><td>null</td><td>null</td><td>null</td><td>CRCKR BRL</td><td>1051</td><td>140.7</td><td>null</td><td>559c2234e4b06aca36af13c6</td><td>null</td><td>null</td><td>1</td><td>null</td><td>559c2234e4b06aca36af13c6</td><td>null</td><td>null</td><td>null</td><td>null</td><td>null</td><td>null</td></tr><tr><td>600edb570a720f053500001d</td><td>511111902690</td><td>KRAFT</td><td>false</td><td>null</td><td>null</td><td>KRAFT</td><td>1.99</td><td>1.99</td><td>null</td><td>1.99</td><td>KRAFT DRESSING</td><td>null</td><td>null</td><td>null</td><td>null</td><td>null</td><td>null</td><td>null</td><td>KRAFT TAL AN RSTD</td><td>958</td><td>10.0</td><td>null</td><td>559c2234e4b06aca36af13c6</td><td>null</td><td>null</td><td>1</td><td>null</td><td>559c2234e4b06aca36af13c6</td><td>null</td><td>null</td><td>null</td><td>null</td><td>null</td><td>null</td></tr><tr><td>600f39c30a7214ada2000030</td><td>511111802358</td><td>CRACKER BARREL</td><td>false</td><td>null</td><td>null</td><td>CRACKER BARREL</td><td>168.84</td><td>168.84</td><td>null</td><td>168.84</td><td>null</td><td>true</td><td>POINTS_GREATER_THAN_THRESHOLD</td><td>null</td><td>null</td><td>null</td><td>null</td><td>null</td><td>CRCKR BRL</td><td>1057</td><td>844.2</td><td>null</td><td>559c2234e4b06aca36af13c6</td><td>null</td><td>168.84</td><td>6</td><td>null</td><td>559c2234e4b06aca36af13c6</td><td>null</td><td>null</td><td>null</td><td>null</td><td>null</td><td>null</td></tr><tr><td>600f39c30a7214ada2000030</td><td>511111001768</td><td>CHEETOS</td><td>false</td><td>null</td><td>null</td><td>CHEETOS</td><td>22.00</td><td>22.00</td><td>null</td><td>22.00</td><td>null</td><td>null</td><td>null</td><td>null</td><td>null</td><td>null</td><td>null</td><td>null</td><td>CHEETOS CR</td><td>1083</td><td>null</td><td>Action not allowed for user and CPG</td><td>5332f5fbe4b03c9a25efd0ba</td><td>null</td><td>22.00</td><td>2</td><td>null</td><td>5332f5fbe4b03c9a25efd0ba</td><td>null</td><td>null</td><td>null</td><td>null</td><td>null</td><td>null</td></tr><tr><td>600f39c30a7214ada2000030</td><td>511111602118</td><td>JELL-O</td><td>false</td><td>null</td><td>null</td><td>JELL-O</td><td>3.00</td><td>3.00</td><td>null</td><td>3.00</td><td>null</td><td>null</td><td>null</td><td>null</td><td>null</td><td>null</td><td>null</td><td>null</td><td>2 OTY JELLO</td><td>1125</td><td>15.0</td><td>null</td><td>559c2234e4b06aca36af13c6</td><td>null</td><td>3.00</td><td>1</td><td>null</td><td>559c2234e4b06aca36af13c6</td><td>null</td><td>null</td><td>null</td><td>null</td><td>null</td><td>null</td></tr><tr><td>600f39c30a7214ada2000030</td><td>511111004127</td><td>V8</td><td>false</td><td>null</td><td>null</td><td>V8</td><td>10.00</td><td>10.00</td><td>null</td><td>10.00</td><td>null</td><td>null</td><td>null</td><td>null</td><td>null</td><td>null</td><td>null</td><td>null</td><td>V8 10 O % VEG JCE</td><td>1411</td><td>100.0</td><td>null</td><td>5a734034e4b0d58f376be874</td><td>null</td><td>10.00</td><td>2</td><td>null</td><td>5a734034e4b0d58f376be874</td><td>null</td><td>null</td><td>null</td><td>null</td><td>null</td><td>null</td></tr><tr><td>600f39c30a7214ada2000030</td><td>511111004127</td><td>V8</td><td>false</td><td>null</td><td>null</td><td>V8</td><td>3.49</td><td>3.49</td><td>null</td><td>3.49</td><td>null</td><td>null</td><td>null</td><td>null</td><td>null</td><td>null</td><td>null</td><td>null</td><td>V8 10 O % VEG JCE</td><td>1414</td><td>34.9</td><td>null</td><td>5a734034e4b0d58f376be874</td><td>null</td><td>3.49</td><td>1</td><td>null</td><td>5a734034e4b0d58f376be874</td><td>null</td><td>null</td><td>null</td><td>null</td><td>null</td><td>null</td></tr><tr><td>600f39c30a7214ada2000030</td><td>511111904175</td><td>PEPPERIDGE FARM</td><td>false</td><td>null</td><td>null</td><td>PEPPERIDGE FARM</td><td>3.00</td><td>3.00</td><td>null</td><td>3.00</td><td>null</td><td>null</td><td>null</td><td>null</td><td>null</td><td>null</td><td>null</td><td>null</td><td>PF COOKIES</td><td>1470</td><td>30.0</td><td>null</td><td>5a734034e4b0d58f376be874</td><td>null</td><td>3.00</td><td>1</td><td>null</td><td>5a734034e4b0d58f376be874</td><td>null</td><td>null</td><td>null</td><td>null</td><td>null</td><td>null</td></tr><tr><td>600f39c30a7214ada2000030</td><td>511111904175</td><td>PEPPERIDGE FARM</td><td>false</td><td>null</td><td>null</td><td>PEPPERIDGE FARM</td><td>3.00</td><td>3.00</td><td>null</td><td>3.00</td><td>null</td><td>null</td><td>null</td><td>null</td><td>null</td><td>null</td><td>null</td><td>null</td><td>PEP FARM CCNT CKY</td><td>1471</td><td>30.0</td><td>null</td><td>5a734034e4b0d58f376be874</td><td>null</td><td>3.00</td><td>1</td><td>null</td><td>5a734034e4b0d58f376be874</td><td>null</td><td>null</td><td>null</td><td>null</td><td>null</td><td>null</td></tr><tr><td>600f39c30a7214ada2000030</td><td>511111904175</td><td>PEPPERIDGE FARM</td><td>false</td><td>null</td><td>null</td><td>PEPPERIDGE FARM</td><td>3.00</td><td>3.00</td><td>null</td><td>3.00</td><td>null</td><td>null</td><td>null</td><td>null</td><td>null</td><td>null</td><td>null</td><td>null</td><td>PEP FARM CCNT CKY</td><td>1480</td><td>30.0</td><td>null</td><td>5a734034e4b0d58f376be874</td><td>null</td><td>3.00</td><td>1</td><td>null</td><td>5a734034e4b0d58f376be874</td><td>null</td><td>null</td><td>null</td><td>null</td><td>null</td><td>null</td></tr><tr><td>600f39c30a7214ada2000030</td><td>511111704140</td><td>PREGO</td><td>false</td><td>null</td><td>null</td><td>PREGO</td><td>2.69</td><td>2.69</td><td>null</td><td>2.69</td><td>null</td><td>null</td><td>null</td><td>null</td><td>null</td><td>null</td><td>null</td><td>null</td><td>PREGO PASTA</td><td>1774</td><td>26.9</td><td>null</td><td>5a734034e4b0d58f376be874</td><td>null</td><td>2.69</td><td>1</td><td>null</td><td>5a734034e4b0d58f376be874</td><td>null</td><td>null</td><td>null</td><td>null</td><td>null</td><td>null</td></tr><tr><td>600f39c30a7214ada2000030</td><td>511111704140</td><td>PREGO</td><td>false</td><td>null</td><td>null</td><td>PREGO</td><td>2.69</td><td>2.69</td><td>null</td><td>2.69</td><td>null</td><td>null</td><td>null</td><td>null</td><td>null</td><td>null</td><td>null</td><td>null</td><td>PREGO PASTA</td><td>1776</td><td>26.9</td><td>null</td><td>5a734034e4b0d58f376be874</td><td>null</td><td>2.69</td><td>1</td><td>null</td><td>5a734034e4b0d58f376be874</td><td>null</td><td>null</td><td>null</td><td>null</td><td>null</td><td>null</td></tr><tr><td>600f2fc80a720f0535000030</td><td>511111802358</td><td>CRACKER BARREL</td><td>false</td><td>null</td><td>null</td><td>CRACKER BARREL</td><td>168.84</td><td>168.84</td><td>null</td><td>168.84</td><td>null</td><td>true</td><td>POINTS_GREATER_THAN_THRESHOLD</td><td>null</td><td>null</td><td>null</td><td>null</td><td>null</td><td>CRCKR BRL</td><td>1050</td><td>844.2</td><td>null</td><td>559c2234e4b06aca36af13c6</td><td>null</td><td>null</td><td>6</td><td>null</td><td>559c2234e4b06aca36af13c6</td><td>null</td><td>null</td><td>null</td><td>null</td><td>null</td><td>null</td></tr><tr><td>600f2fc80a720f0535000030</td><td>511111001768</td><td>CHEETOS</td><td>false</td><td>null</td><td>null</td><td>CHEETOS</td><td>22.00</td><td>22.00</td><td>null</td><td>22.00</td><td>null</td><td>false</td><td>null</td><td>null</td><td>null</td><td>null</td><td>null</td><td>null</td><td>CHEETOS CR</td><td>1068</td><td>null</td><td>Action not allowed for user and CPG</td><td>5332f5fbe4b03c9a25efd0ba</td><td>null</td><td>null</td><td>2</td><td>null</td><td>5332f5fbe4b03c9a25efd0ba</td><td>null</td><td>null</td><td>null</td><td>null</td><td>null</td><td>null</td></tr><tr><td>600f2fc80a720f0535000030</td><td>511111001768</td><td>CHEETOS</td><td>false</td><td>null</td><td>null</td><td>CHEETOS</td><td>22.00</td><td>22.00</td><td>null</td><td>22.00</td><td>null</td><td>false</td><td>null</td><td>null</td><td>null</td><td>null</td><td>null</td><td>null</td><td>CHEETOS CR</td><td>1085</td><td>null</td><td>Action not allowed for user and CPG</td><td>5332f5fbe4b03c9a25efd0ba</td><td>null</td><td>null</td><td>2</td><td>null</td><td>5332f5fbe4b03c9a25efd0ba</td><td>null</td><td>null</td><td>null</td><td>null</td><td>null</td><td>null</td></tr><tr><td>600f2fc80a720f0535000030</td><td>511111602118</td><td>JELL-O</td><td>false</td><td>null</td><td>null</td><td>JELL-O</td><td>3.00</td><td>3.00</td><td>null</td><td>3.00</td><td>null</td><td>false</td><td>null</td><td>null</td><td>null</td><td>null</td><td>null</td><td>null</td><td>2 OTY JELLO</td><td>1131</td><td>15.0</td><td>null</td><td>559c2234e4b06aca36af13c6</td><td>null</td><td>null</td><td>1</td><td>null</td><td>559c2234e4b06aca36af13c6</td><td>null</td><td>null</td><td>null</td><td>null</td><td>null</td><td>null</td></tr><tr><td>600f2fc80a720f0535000030</td><td>511111003960</td><td>MOUNTAIN DEW</td><td>false</td><td>null</td><td>null</td><td>MOUNTAIN DEW</td><td>35.96</td><td>35.96</td><td>null</td><td>35.96</td><td>null</td><td>false</td><td>null</td><td>null</td><td>null</td><td>null</td><td>null</td><td>null</td><td>MOUNTAIN D</td><td>1390</td><td>null</td><td>Action not allowed for user and CPG</td><td>5332f5fbe4b03c9a25efd0ba</td><td>null</td><td>null</td><td>2</td><td>null</td><td>5332f5fbe4b03c9a25efd0ba</td><td>null</td><td>null</td><td>null</td><td>null</td><td>null</td><td>null</td></tr><tr><td>600f2fc80a720f0535000030</td><td>511111101451</td><td>QUAKER</td><td>false</td><td>null</td><td>null</td><td>QUAKER</td><td>3.99</td><td>3.99</td><td>null</td><td>3.99</td><td>QUAKER CEREAL & OATS</td><td>false</td><td>null</td><td>null</td><td>null</td><td>null</td><td>null</td><td>null</td><td>QUAKER OATS</td><td>1408</td><td>null</td><td>Action not allowed for user and CPG</td><td>53e10d6368abd3c7065097cc</td><td>null</td><td>null</td><td>1</td><td>null</td><td>53e10d6368abd3c7065097cc</td><td>null</td><td>null</td><td>null</td><td>null</td><td>null</td><td>null</td></tr><tr><td>600f2fc80a720f0535000030</td><td>511111004127</td><td>V8</td><td>false</td><td>null</td><td>null</td><td>V8</td><td>10.00</td><td>10.00</td><td>null</td><td>10.00</td><td>null</td><td>false</td><td>null</td><td>null</td><td>null</td><td>null</td><td>null</td><td>null</td><td>V8 100% VEG JCE</td><td>1435</td><td>100.0</td><td>null</td><td>5a734034e4b0d58f376be874</td><td>null</td><td>null</td><td>2</td><td>null</td><td>5a734034e4b0d58f376be874</td><td>null</td><td>null</td><td>null</td><td>null</td><td>null</td><td>null</td></tr><tr><td>600f2fc80a720f0535000030</td><td>511111004127</td><td>V8</td><td>false</td><td>null</td><td>null</td><td>V8</td><td>3.49</td><td>3.49</td><td>null</td><td>3.49</td><td>null</td><td>false</td><td>null</td><td>null</td><td>null</td><td>null</td><td>null</td><td>null</td><td>V8 100% VEG JCE</td><td>1438</td><td>34.9</td><td>null</td><td>5a734034e4b0d58f376be874</td><td>null</td><td>null</td><td>1</td><td>null</td><td>5a734034e4b0d58f376be874</td><td>null</td><td>null</td><td>null</td><td>null</td><td>null</td><td>null</td></tr><tr><td>600f2fc80a720f0535000030</td><td>511111904175</td><td>PEPPERIDGE FARM</td><td>false</td><td>null</td><td>null</td><td>PEPPERIDGE FARM</td><td>3.00</td><td>3.00</td><td>null</td><td>3.00</td><td>null</td><td>false</td><td>null</td><td>null</td><td>null</td><td>null</td><td>null</td><td>null</td><td>PF COOKIES</td><td>1499</td><td>30.0</td><td>null</td><td>5a734034e4b0d58f376be874</td><td>null</td><td>null</td><td>1</td><td>null</td><td>5a734034e4b0d58f376be874</td><td>null</td><td>null</td><td>null</td><td>null</td><td>null</td><td>null</td></tr><tr><td>600f2fc80a720f0535000030</td><td>511111904175</td><td>PEPPERIDGE FARM</td><td>false</td><td>null</td><td>null</td><td>PEPPERIDGE FARM</td><td>3.00</td><td>3.00</td><td>null</td><td>3.00</td><td>null</td><td>false</td><td>null</td><td>null</td><td>null</td><td>null</td><td>null</td><td>null</td><td>PEP FARM CCNT CKY</td><td>1501</td><td>30.0</td><td>null</td><td>5a734034e4b0d58f376be874</td><td>null</td><td>null</td><td>1</td><td>null</td><td>5a734034e4b0d58f376be874</td><td>null</td><td>null</td><td>null</td><td>null</td><td>null</td><td>null</td></tr><tr><td>600f2fc80a720f0535000030</td><td>511111704140</td><td>PREGO</td><td>false</td><td>null</td><td>null</td><td>PREGO</td><td>2.69</td><td>2.69</td><td>null</td><td>2.69</td><td>null</td><td>false</td><td>null</td><td>null</td><td>null</td><td>null</td><td>null</td><td>null</td><td>PREGO PASTA</td><td>1956</td><td>26.9</td><td>null</td><td>5a734034e4b0d58f376be874</td><td>null</td><td>null</td><td>1</td><td>null</td><td>5a734034e4b0d58f376be874</td><td>null</td><td>null</td><td>null</td><td>null</td><td>null</td><td>null</td></tr><tr><td>600f2fc80a720f0535000030</td><td>511111704140</td><td>PREGO</td><td>false</td><td>null</td><td>null</td><td>PREGO</td><td>2.69</td><td>2.69</td><td>null</td><td>2.69</td><td>null</td><td>false</td><td>null</td><td>null</td><td>null</td><td>null</td><td>null</td><td>null</td><td>PREGO PASTA</td><td>1958</td><td>26.9</td><td>null</td><td>5a734034e4b0d58f376be874</td><td>null</td><td>null</td><td>1</td><td>null</td><td>5a734034e4b0d58f376be874</td><td>null</td><td>null</td><td>null</td><td>null</td><td>null</td><td>null</td></tr></tbody></table></div>"
      ]
     },
     "metadata": {
      "application/vnd.databricks.v1+output": {
       "addedWidgets": {},
       "aggData": [],
       "aggError": "",
       "aggOverflow": false,
       "aggSchema": [],
       "aggSeriesLimitReached": false,
       "aggType": "",
       "arguments": {},
       "columnCustomDisplayInfos": {},
       "data": [
        [
         "600206000a720f05f3000087",
         "511111204206",
         "SWANSON",
         false,
         null,
         null,
         "SWANSON",
         "5.58",
         "5.58",
         null,
         "5.58",
         null,
         null,
         null,
         null,
         null,
         null,
         null,
         null,
         "SWANSON UNSLTD CKN",
         "1083",
         "55.8",
         null,
         "5a734034e4b0d58f376be874",
         null,
         null,
         2,
         null,
         "5a734034e4b0d58f376be874",
         null,
         null,
         null,
         null,
         null,
         null
        ],
        [
         "600208270a720f05f3000088",
         "511111204206",
         "SWANSON",
         false,
         null,
         null,
         "SWANSON",
         "5.58",
         "5.58",
         null,
         "5.58",
         null,
         null,
         null,
         null,
         null,
         null,
         null,
         null,
         "SWANSON UNSLTD CKN",
         "1083",
         "55.8",
         null,
         "5a734034e4b0d58f376be874",
         null,
         null,
         2,
         null,
         "5a734034e4b0d58f376be874",
         null,
         null,
         null,
         null,
         null,
         null
        ],
        [
         "600208270a720f05f3000088",
         "511111001485",
         "TOSTITOS",
         false,
         null,
         null,
         "TOSTITOS",
         "2.98",
         "2.98",
         null,
         "2.98",
         null,
         null,
         null,
         null,
         null,
         null,
         null,
         null,
         "TOSTITOS MED SALSA",
         "1178",
         null,
         "Action not allowed for user and CPG",
         "5332f5fbe4b03c9a25efd0ba",
         null,
         null,
         1,
         null,
         "5332f5fbe4b03c9a25efd0ba",
         null,
         null,
         null,
         null,
         null,
         null
        ],
        [
         "600208270a720f05f3000088",
         "511111001485",
         "TOSTITOS",
         false,
         null,
         null,
         "TOSTITOS",
         "3.99",
         "3.99",
         null,
         "3.99",
         null,
         null,
         null,
         null,
         null,
         null,
         null,
         null,
         "TOSTITOS MED SALSA",
         "1191",
         null,
         "Action not allowed for user and CPG",
         "5332f5fbe4b03c9a25efd0ba",
         null,
         null,
         1,
         null,
         "5332f5fbe4b03c9a25efd0ba",
         null,
         null,
         null,
         null,
         null,
         null
        ],
        [
         "600373700a720f05f3000091",
         "511111204206",
         "SWANSON",
         false,
         null,
         null,
         "SWANSON",
         "5.58",
         "5.58",
         null,
         "5.58",
         null,
         null,
         null,
         null,
         null,
         null,
         null,
         null,
         "SWANSON UNSLTD CKN",
         "1090",
         "55.8",
         null,
         "5a734034e4b0d58f376be874",
         null,
         null,
         2,
         null,
         "5a734034e4b0d58f376be874",
         null,
         null,
         null,
         null,
         null,
         null
        ],
        [
         "600373700a720f05f3000091",
         "511111104537",
         "KETTLE BRAND",
         false,
         null,
         null,
         "KETTLE BRAND",
         "3.69",
         "3.69",
         null,
         "3.69",
         null,
         null,
         null,
         null,
         null,
         null,
         null,
         null,
         "HYV KETTLE CHIP ORIG",
         "1143",
         "36.9",
         null,
         "5a734034e4b0d58f376be874",
         null,
         null,
         1,
         null,
         "5a734034e4b0d58f376be874",
         null,
         null,
         null,
         null,
         null,
         null
        ],
        [
         "600373700a720f05f3000091",
         "511111001485",
         "TOSTITOS",
         false,
         null,
         null,
         "TOSTITOS",
         "2.98",
         "2.98",
         null,
         "2.98",
         null,
         null,
         null,
         null,
         null,
         null,
         null,
         null,
         "TOSTITOS MED SALSA",
         "1185",
         null,
         "Action not allowed for user and CPG",
         "5332f5fbe4b03c9a25efd0ba",
         null,
         null,
         1,
         null,
         "5332f5fbe4b03c9a25efd0ba",
         null,
         null,
         null,
         null,
         null,
         null
        ],
        [
         "600373700a720f05f3000091",
         "511111001485",
         "TOSTITOS",
         false,
         null,
         null,
         "TOSTITOS",
         "3.99",
         "3.99",
         null,
         "3.99",
         null,
         null,
         null,
         null,
         null,
         null,
         null,
         null,
         "TOSTITOS MED SALSA",
         "1198",
         null,
         "Action not allowed for user and CPG",
         "5332f5fbe4b03c9a25efd0ba",
         null,
         null,
         1,
         null,
         "5332f5fbe4b03c9a25efd0ba",
         null,
         null,
         null,
         null,
         null,
         null
        ],
        [
         "60023e8f0a720f05f300008b",
         "511111204206",
         "SWANSON",
         false,
         null,
         null,
         "SWANSON",
         "5.58",
         "5.58",
         null,
         "5.58",
         null,
         null,
         null,
         null,
         null,
         null,
         null,
         null,
         "SWANSON UNSLTD CKN",
         "1082",
         "55.8",
         null,
         "5a734034e4b0d58f376be874",
         null,
         null,
         2,
         null,
         "5a734034e4b0d58f376be874",
         null,
         null,
         null,
         null,
         null,
         null
        ],
        [
         "60023e8f0a720f05f300008b",
         "511111001485",
         "TOSTITOS",
         false,
         null,
         null,
         "TOSTITOS",
         "2.98",
         "2.98",
         null,
         "2.98",
         null,
         null,
         null,
         null,
         null,
         null,
         null,
         null,
         "TOSTITOS MED SALSA",
         "1177",
         null,
         "Action not allowed for user and CPG",
         "5332f5fbe4b03c9a25efd0ba",
         null,
         null,
         1,
         null,
         "5332f5fbe4b03c9a25efd0ba",
         null,
         null,
         null,
         null,
         null,
         null
        ],
        [
         "60023e8f0a720f05f300008b",
         "511111001485",
         "TOSTITOS",
         false,
         null,
         null,
         "TOSTITOS",
         "3.99",
         "3.99",
         null,
         "3.99",
         null,
         null,
         null,
         null,
         null,
         null,
         null,
         null,
         "TOSTITOS MED SALSA",
         "1189",
         null,
         "Action not allowed for user and CPG",
         "5332f5fbe4b03c9a25efd0ba",
         null,
         null,
         1,
         null,
         "5332f5fbe4b03c9a25efd0ba",
         null,
         null,
         null,
         null,
         null,
         null
        ],
        [
         "60020d2a0a720f05f300008a",
         "511111204206",
         "SWANSON",
         false,
         null,
         null,
         "SWANSON",
         "5.58",
         "5.58",
         null,
         "5.58",
         null,
         null,
         null,
         null,
         null,
         null,
         null,
         null,
         "SWANSON UNSLTD CKN",
         "1083",
         "55.8",
         null,
         "5a734034e4b0d58f376be874",
         null,
         null,
         2,
         null,
         "5a734034e4b0d58f376be874",
         null,
         null,
         null,
         null,
         null,
         null
        ],
        [
         "60020d2a0a720f05f300008a",
         "511111001485",
         "TOSTITOS",
         false,
         null,
         null,
         "TOSTITOS",
         "2.98",
         "2.98",
         null,
         "2.98",
         null,
         null,
         null,
         null,
         null,
         null,
         null,
         null,
         "TOSTITOS MED SALSA",
         "1178",
         null,
         "Action not allowed for user and CPG",
         "5332f5fbe4b03c9a25efd0ba",
         null,
         null,
         1,
         null,
         "5332f5fbe4b03c9a25efd0ba",
         null,
         null,
         null,
         null,
         null,
         null
        ],
        [
         "60020d2a0a720f05f300008a",
         "511111001485",
         "TOSTITOS",
         false,
         null,
         null,
         "TOSTITOS",
         "3.99",
         "3.99",
         null,
         "3.99",
         null,
         null,
         null,
         null,
         null,
         null,
         null,
         null,
         "TOSTITOS MED SALSA",
         "1191",
         null,
         "Action not allowed for user and CPG",
         "5332f5fbe4b03c9a25efd0ba",
         null,
         null,
         1,
         null,
         "5332f5fbe4b03c9a25efd0ba",
         null,
         null,
         null,
         null,
         null,
         null
        ],
        [
         "6002590c0a7214ad4c000082",
         "511111104537",
         "KETTLE BRAND",
         false,
         null,
         null,
         "KETTLE BRAND",
         "3.69",
         "3.69",
         null,
         "3.69",
         null,
         null,
         null,
         null,
         null,
         null,
         null,
         null,
         "HYV KETTLE CHIP ORIG",
         "1144",
         "36.9",
         null,
         "5a734034e4b0d58f376be874",
         null,
         null,
         1,
         null,
         "5a734034e4b0d58f376be874",
         null,
         null,
         null,
         null,
         null,
         null
        ],
        [
         "6002590c0a7214ad4c000082",
         "511111001485",
         "TOSTITOS",
         false,
         null,
         null,
         "TOSTITOS",
         "2.98",
         "2.98",
         null,
         "2.98",
         null,
         null,
         null,
         null,
         null,
         null,
         null,
         null,
         "TOSTITOS MED SALSA",
         "1186",
         null,
         "Action not allowed for user and CPG",
         "5332f5fbe4b03c9a25efd0ba",
         null,
         null,
         1,
         null,
         "5332f5fbe4b03c9a25efd0ba",
         null,
         null,
         null,
         null,
         null,
         null
        ],
        [
         "6002590c0a7214ad4c000082",
         "511111001485",
         "TOSTITOS",
         false,
         null,
         null,
         "TOSTITOS",
         "3.99",
         "3.99",
         null,
         "3.99",
         null,
         null,
         null,
         null,
         null,
         null,
         null,
         null,
         "TOSTITOS MED SALSA",
         "1199",
         null,
         "Action not allowed for user and CPG",
         "5332f5fbe4b03c9a25efd0ba",
         null,
         null,
         1,
         null,
         "5332f5fbe4b03c9a25efd0ba",
         null,
         null,
         null,
         null,
         null,
         null
        ],
        [
         "60025cb80a720f05f300008d",
         "511111204206",
         "SWANSON",
         false,
         null,
         null,
         "SWANSON",
         "5.58",
         "5.58",
         null,
         "5.58",
         null,
         null,
         null,
         null,
         null,
         null,
         null,
         null,
         "SWANSON UNSLTD CKN",
         "1124",
         "55.8",
         null,
         "5a734034e4b0d58f376be874",
         null,
         "5.58",
         2,
         null,
         "5a734034e4b0d58f376be874",
         null,
         null,
         null,
         null,
         null,
         null
        ],
        [
         "600370250a720f05f3000090",
         "511111204206",
         "SWANSON",
         false,
         null,
         null,
         "SWANSON",
         "5.58",
         "5.58",
         null,
         "5.58",
         null,
         null,
         null,
         null,
         null,
         null,
         null,
         null,
         "SWANSON UNSLTD CKN",
         "1089",
         "55.8",
         null,
         "5a734034e4b0d58f376be874",
         null,
         null,
         2,
         null,
         "5a734034e4b0d58f376be874",
         null,
         null,
         null,
         null,
         null,
         null
        ],
        [
         "600370250a720f05f3000090",
         "511111104537",
         "KETTLE BRAND",
         false,
         null,
         null,
         "KETTLE BRAND",
         "3.69",
         "3.69",
         null,
         "3.69",
         null,
         null,
         null,
         null,
         null,
         null,
         null,
         null,
         "HYV KETTLE CHIP ORIG",
         "1142",
         "36.9",
         null,
         "5a734034e4b0d58f376be874",
         null,
         null,
         1,
         null,
         "5a734034e4b0d58f376be874",
         null,
         null,
         null,
         null,
         null,
         null
        ],
        [
         "600370250a720f05f3000090",
         "511111001485",
         "TOSTITOS",
         false,
         null,
         null,
         "TOSTITOS",
         "2.98",
         "2.98",
         null,
         "2.98",
         null,
         null,
         null,
         null,
         null,
         null,
         null,
         null,
         "TOSTITOS MED SALSA",
         "1184",
         null,
         "Action not allowed for user and CPG",
         "5332f5fbe4b03c9a25efd0ba",
         null,
         null,
         1,
         null,
         "5332f5fbe4b03c9a25efd0ba",
         null,
         null,
         null,
         null,
         null,
         null
        ],
        [
         "600370250a720f05f3000090",
         "511111001485",
         "TOSTITOS",
         false,
         null,
         null,
         "TOSTITOS",
         "3.99",
         "3.99",
         null,
         "3.99",
         null,
         null,
         null,
         null,
         null,
         null,
         null,
         null,
         "TOSTITOS MED SALSA",
         "1197",
         null,
         "Action not allowed for user and CPG",
         "5332f5fbe4b03c9a25efd0ba",
         null,
         null,
         1,
         null,
         "5332f5fbe4b03c9a25efd0ba",
         null,
         null,
         null,
         null,
         null,
         null
        ],
        [
         "600260210a720f05f300008f",
         "511111001485",
         "TOSTITOS",
         false,
         null,
         null,
         "TOSTITOS",
         "2.98",
         "2.98",
         null,
         "2.98",
         null,
         null,
         null,
         null,
         null,
         null,
         null,
         null,
         "TOSTITOS MED SALSA",
         "1187",
         null,
         "Action not allowed for user and CPG",
         "5332f5fbe4b03c9a25efd0ba",
         null,
         "2.98",
         1,
         null,
         "5332f5fbe4b03c9a25efd0ba",
         null,
         null,
         null,
         null,
         null,
         null
        ],
        [
         "600260210a720f05f300008f",
         "511111001485",
         "TOSTITOS",
         false,
         null,
         null,
         "TOSTITOS",
         "3.99",
         "3.99",
         null,
         "3.99",
         null,
         null,
         null,
         null,
         null,
         null,
         null,
         null,
         "TOSTITOS MED SALSA",
         "1200",
         null,
         "Action not allowed for user and CPG",
         "5332f5fbe4b03c9a25efd0ba",
         null,
         "3.99",
         1,
         null,
         "5332f5fbe4b03c9a25efd0ba",
         null,
         null,
         null,
         null,
         null,
         null
        ],
        [
         "6004a5f20a7214ad4c000088",
         "511111204206",
         "SWANSON",
         false,
         null,
         null,
         "SWANSON",
         "5.58",
         "5.58",
         null,
         "5.58",
         null,
         null,
         null,
         null,
         null,
         null,
         null,
         null,
         "SWANSON UNSLTD CKN",
         "1100",
         "55.8",
         null,
         "5a734034e4b0d58f376be874",
         null,
         null,
         2,
         null,
         "5a734034e4b0d58f376be874",
         null,
         null,
         null,
         null,
         null,
         null
        ],
        [
         "6004a5f20a7214ad4c000088",
         "511111001485",
         "TOSTITOS",
         false,
         null,
         null,
         "TOSTITOS",
         "2.98",
         "2.98",
         null,
         "2.98",
         null,
         null,
         null,
         null,
         null,
         null,
         null,
         null,
         "TOSTITOS MED SALSA",
         "1195",
         null,
         "Action not allowed for user and CPG",
         "5332f5fbe4b03c9a25efd0ba",
         null,
         null,
         1,
         null,
         "5332f5fbe4b03c9a25efd0ba",
         null,
         null,
         null,
         null,
         null,
         null
        ],
        [
         "6004a5f20a7214ad4c000088",
         "511111001485",
         "TOSTITOS",
         false,
         null,
         null,
         "TOSTITOS",
         "3.99",
         "3.99",
         null,
         "3.99",
         null,
         null,
         null,
         null,
         null,
         null,
         null,
         null,
         "TOSTITOS MED SALSA",
         "1208",
         null,
         "Action not allowed for user and CPG",
         "5332f5fbe4b03c9a25efd0ba",
         null,
         null,
         1,
         null,
         "5332f5fbe4b03c9a25efd0ba",
         null,
         null,
         null,
         null,
         null,
         null
        ],
        [
         "60049d9d0a720f05f3000094",
         "511111204206",
         "SWANSON",
         false,
         null,
         null,
         "SWANSON",
         "5.58",
         "5.58",
         null,
         "5.58",
         null,
         null,
         null,
         null,
         null,
         null,
         null,
         null,
         "SWANSON UNSLTD CKN",
         "1100",
         "55.8",
         null,
         "5a734034e4b0d58f376be874",
         null,
         null,
         2,
         null,
         "5a734034e4b0d58f376be874",
         null,
         null,
         null,
         null,
         null,
         null
        ],
        [
         "60049d9d0a720f05f3000094",
         "511111001485",
         "TOSTITOS",
         false,
         null,
         null,
         "TOSTITOS",
         "2.98",
         "2.98",
         null,
         "2.98",
         null,
         null,
         null,
         null,
         null,
         null,
         null,
         null,
         "TOSTITOS MED SALSA",
         "1195",
         null,
         "Action not allowed for user and CPG",
         "5332f5fbe4b03c9a25efd0ba",
         null,
         null,
         1,
         null,
         "5332f5fbe4b03c9a25efd0ba",
         null,
         null,
         null,
         null,
         null,
         null
        ],
        [
         "60049d9d0a720f05f3000094",
         "511111001485",
         "TOSTITOS",
         false,
         null,
         null,
         "TOSTITOS",
         "3.99",
         "3.99",
         null,
         "3.99",
         null,
         null,
         null,
         null,
         null,
         null,
         null,
         null,
         "TOSTITOS MED SALSA",
         "1208",
         null,
         "Action not allowed for user and CPG",
         "5332f5fbe4b03c9a25efd0ba",
         null,
         null,
         1,
         null,
         "5332f5fbe4b03c9a25efd0ba",
         null,
         null,
         null,
         null,
         null,
         null
        ],
        [
         "60049d9d0a720f05f3000094",
         "511111001485",
         "TOSTITOS",
         false,
         null,
         null,
         "TOSTITOS",
         "3.99",
         "3.99",
         null,
         "3.99",
         null,
         null,
         null,
         null,
         null,
         null,
         null,
         null,
         "TOSTITOS MED SALSA",
         "1336",
         null,
         "Action not allowed for user and CPG",
         "5332f5fbe4b03c9a25efd0ba",
         null,
         null,
         1,
         null,
         "5332f5fbe4b03c9a25efd0ba",
         null,
         null,
         null,
         null,
         null,
         null
        ],
        [
         "60049d9d0a720f05f3000094",
         "511111502142",
         "GREY POUPON",
         false,
         null,
         null,
         "GREY POUPON",
         "3.29",
         "3.29",
         null,
         "3.29",
         "GREY POUPON MUSTARD",
         null,
         null,
         null,
         null,
         null,
         null,
         null,
         "GREYPOUPON MUSTARD",
         "1388",
         "16.5",
         null,
         "559c2234e4b06aca36af13c6",
         null,
         null,
         1,
         null,
         "559c2234e4b06aca36af13c6",
         null,
         null,
         null,
         null,
         null,
         null
        ],
        [
         "6004a99e0a720f05f3000095",
         "511111204206",
         "SWANSON",
         false,
         null,
         null,
         "SWANSON",
         "5.58",
         "5.58",
         null,
         "5.58",
         null,
         null,
         null,
         null,
         null,
         null,
         null,
         null,
         "SWANSON UNSLTD CKN",
         "1109",
         "55.8",
         null,
         "5a734034e4b0d58f376be874",
         null,
         null,
         2,
         null,
         "5a734034e4b0d58f376be874",
         null,
         null,
         null,
         null,
         null,
         null
        ],
        [
         "6004a99e0a720f05f3000095",
         "511111001485",
         "TOSTITOS",
         false,
         null,
         null,
         "TOSTITOS",
         "2.98",
         "2.98",
         null,
         "2.98",
         null,
         null,
         null,
         null,
         null,
         null,
         null,
         null,
         "TOSTITOS MED SALSA",
         "1251",
         null,
         "Action not allowed for user and CPG",
         "5332f5fbe4b03c9a25efd0ba",
         null,
         null,
         1,
         null,
         "5332f5fbe4b03c9a25efd0ba",
         null,
         null,
         null,
         null,
         null,
         null
        ],
        [
         "6004a99e0a720f05f3000095",
         "511111001485",
         "TOSTITOS",
         false,
         null,
         null,
         "TOSTITOS",
         "3.99",
         "3.99",
         null,
         "3.99",
         null,
         null,
         null,
         null,
         null,
         null,
         null,
         null,
         "TOSTITOS MED SALSA",
         "1264",
         null,
         "Action not allowed for user and CPG",
         "5332f5fbe4b03c9a25efd0ba",
         null,
         null,
         1,
         null,
         "5332f5fbe4b03c9a25efd0ba",
         null,
         null,
         null,
         null,
         null,
         null
        ],
        [
         "60088a100a7214ad890000bd",
         "511111204206",
         "SWANSON",
         false,
         null,
         null,
         "SWANSON",
         "5.58",
         "5.58",
         null,
         "5.58",
         null,
         null,
         null,
         null,
         null,
         null,
         null,
         null,
         "SWANSON UNSLTD CKN",
         "1101",
         "55.8",
         null,
         "5a734034e4b0d58f376be874",
         null,
         null,
         2,
         null,
         "5a734034e4b0d58f376be874",
         null,
         null,
         null,
         null,
         null,
         null
        ],
        [
         "60088a100a7214ad890000bd",
         "511111001485",
         "TOSTITOS",
         false,
         null,
         null,
         "TOSTITOS",
         "2.98",
         "2.98",
         null,
         "2.98",
         null,
         null,
         null,
         null,
         null,
         null,
         null,
         null,
         "TOSTITOS MED SALSA",
         "1196",
         null,
         "Action not allowed for user and CPG",
         "5332f5fbe4b03c9a25efd0ba",
         null,
         null,
         1,
         null,
         "5332f5fbe4b03c9a25efd0ba",
         null,
         null,
         null,
         null,
         null,
         null
        ],
        [
         "60088a100a7214ad890000bd",
         "511111001485",
         "TOSTITOS",
         false,
         null,
         null,
         "TOSTITOS",
         "3.99",
         "3.99",
         null,
         "3.99",
         null,
         null,
         null,
         null,
         null,
         null,
         null,
         null,
         "TOSTITOS MED SALSA",
         "1209",
         null,
         "Action not allowed for user and CPG",
         "5332f5fbe4b03c9a25efd0ba",
         null,
         null,
         1,
         null,
         "5332f5fbe4b03c9a25efd0ba",
         null,
         null,
         null,
         null,
         null,
         null
        ],
        [
         "6009f5ea0a7214ada2000004",
         "511111802358",
         "CRACKER BARREL",
         false,
         null,
         null,
         "CRACKER BARREL",
         "28.14",
         "28.14",
         null,
         "28.14",
         "CRACKER BARREL CHEESE - CHUNK",
         null,
         null,
         null,
         null,
         null,
         null,
         null,
         "CRCKRBRL",
         "1034",
         "140.7",
         null,
         "559c2234e4b06aca36af13c6",
         null,
         null,
         1,
         null,
         "559c2234e4b06aca36af13c6",
         null,
         null,
         null,
         null,
         null,
         null
        ],
        [
         "6008ee0e0a7214ad89000125",
         "511111101451",
         null,
         null,
         null,
         null,
         "QUAKER",
         "3.99",
         "3.99",
         "511111101451",
         "3.99",
         null,
         null,
         null,
         null,
         "",
         null,
         null,
         null,
         "2.99 10 OUAKER OATS Q",
         "1042",
         null,
         "Action not allowed for user and CPG",
         "53e10d6368abd3c7065097cc",
         null,
         null,
         1,
         null,
         "53e10d6368abd3c7065097cc",
         null,
         null,
         null,
         null,
         null,
         null
        ],
        [
         "6008ee0e0a7214ad89000125",
         "511111602118",
         null,
         null,
         null,
         null,
         "JELL-O",
         "1.99",
         "1.99",
         "511111602118",
         "1.99",
         null,
         null,
         null,
         null,
         "",
         null,
         null,
         null,
         "LO JELL-O",
         "1051",
         "10.0",
         null,
         "559c2234e4b06aca36af13c6",
         null,
         null,
         1,
         null,
         "559c2234e4b06aca36af13c6",
         null,
         null,
         null,
         null,
         null,
         null
        ],
        [
         "600a1a8d0a7214ada2000008",
         "511111802358",
         "CRACKER BARREL",
         false,
         null,
         null,
         "CRACKER BARREL",
         "28.14",
         "28.14",
         null,
         "28.14",
         "CRACKER BARREL CHEESE - CHUNK",
         null,
         null,
         null,
         null,
         null,
         null,
         null,
         "CRCKRBRL",
         "1037",
         "140.7",
         null,
         "559c2234e4b06aca36af13c6",
         null,
         null,
         1,
         null,
         "559c2234e4b06aca36af13c6",
         null,
         null,
         null,
         null,
         null,
         null
        ],
        [
         "600a1a8d0a7214ada2000008",
         "511111101451",
         "QUAKER",
         false,
         null,
         null,
         "QUAKER",
         "3.99",
         "3.99",
         null,
         "3.99",
         "QUAKER CEREAL & OATS",
         null,
         null,
         null,
         null,
         null,
         null,
         null,
         "251 QUAKEROATS",
         "1135",
         null,
         "Action not allowed for user and CPG",
         "53e10d6368abd3c7065097cc",
         null,
         null,
         1,
         null,
         "53e10d6368abd3c7065097cc",
         null,
         null,
         null,
         null,
         null,
         null
        ],
        [
         "600a1a8d0a7214ada2000008",
         "511111901587",
         "RICE-A-RONI",
         false,
         null,
         null,
         "RICE-A-RONI",
         "1.29",
         "1.29",
         null,
         "1.29",
         null,
         null,
         null,
         null,
         null,
         null,
         null,
         null,
         "496 RICEA RONI",
         "1325",
         null,
         "Action not allowed for user and CPG",
         "5332f5fbe4b03c9a25efd0ba",
         null,
         null,
         1,
         null,
         "5332f5fbe4b03c9a25efd0ba",
         null,
         null,
         null,
         null,
         null,
         null
        ],
        [
         "600afbd90a720f053500000b",
         "511111802358",
         "CRACKER BARREL",
         false,
         null,
         null,
         "CRACKER BARREL",
         "28.14",
         "28.14",
         null,
         "28.14",
         null,
         null,
         null,
         null,
         null,
         null,
         null,
         null,
         "CRCKR BRL",
         "1057",
         "140.7",
         null,
         "559c2234e4b06aca36af13c6",
         null,
         null,
         1,
         null,
         "559c2234e4b06aca36af13c6",
         null,
         null,
         null,
         null,
         null,
         null
        ],
        [
         "600b420b0a7214ada200000d",
         "511111802358",
         "CRACKER BARREL",
         false,
         null,
         null,
         "CRACKER BARREL",
         "28.14",
         "28.14",
         null,
         "28.14",
         null,
         null,
         null,
         null,
         null,
         null,
         null,
         null,
         "CRCKR BRL",
         "1042",
         "140.7",
         null,
         "559c2234e4b06aca36af13c6",
         null,
         null,
         1,
         null,
         "559c2234e4b06aca36af13c6",
         null,
         null,
         null,
         null,
         null,
         null
        ],
        [
         "600b420b0a7214ada200000d",
         "511111902690",
         "KRAFT",
         false,
         null,
         null,
         "KRAFT",
         "6.49",
         "6.49",
         null,
         "6.49",
         null,
         null,
         null,
         null,
         null,
         null,
         null,
         null,
         "CHEEZETCR KR",
         "1078",
         "32.5",
         null,
         "559c2234e4b06aca36af13c6",
         null,
         null,
         1,
         null,
         "559c2234e4b06aca36af13c6",
         null,
         null,
         null,
         null,
         null,
         null
        ],
        [
         "600b420b0a7214ada200000d",
         "511111704140",
         "PREGO",
         false,
         null,
         null,
         "PREGO",
         "2.19",
         "2.19",
         null,
         "2.19",
         null,
         null,
         null,
         null,
         null,
         null,
         null,
         null,
         "PREGO PASTASAUCE",
         "1307",
         "21.9",
         null,
         "5a734034e4b0d58f376be874",
         null,
         null,
         1,
         null,
         "5a734034e4b0d58f376be874",
         null,
         null,
         null,
         null,
         null,
         null
        ],
        [
         "600b420b0a7214ada200000d",
         "511111104186",
         "PACIFIC FOODS",
         false,
         null,
         null,
         "PACIFIC FOODS",
         "4.99",
         "4.99",
         null,
         "4.99",
         null,
         null,
         null,
         null,
         null,
         null,
         null,
         null,
         "PACF BONE BROTH",
         "1359",
         "49.9",
         null,
         "5a734034e4b0d58f376be874",
         null,
         null,
         1,
         null,
         "5a734034e4b0d58f376be874",
         null,
         null,
         null,
         null,
         null,
         null
        ],
        [
         "600b420b0a7214ada200000d",
         "511111704140",
         "PREGO",
         false,
         null,
         null,
         "PREGO",
         "2.19",
         "2.19",
         null,
         "2.19",
         null,
         null,
         null,
         null,
         null,
         null,
         null,
         null,
         "PREGO PASTA SAUCE",
         "1369",
         "21.9",
         null,
         "5a734034e4b0d58f376be874",
         null,
         null,
         1,
         null,
         "5a734034e4b0d58f376be874",
         null,
         null,
         null,
         null,
         null,
         null
        ],
        [
         "600af82f0a720f053500000a",
         "511111704140",
         "PREGO",
         false,
         null,
         null,
         "PREGO",
         "2.19",
         "2.19",
         null,
         "2.19",
         null,
         null,
         null,
         null,
         null,
         null,
         null,
         null,
         "PREGO PASTA SAUCE",
         "1361",
         "21.9",
         null,
         "5a734034e4b0d58f376be874",
         null,
         null,
         1,
         null,
         "5a734034e4b0d58f376be874",
         null,
         null,
         null,
         null,
         null,
         null
        ],
        [
         "600b39f60a720f053500000e",
         "511111802358",
         "CRACKER BARREL",
         false,
         null,
         null,
         "CRACKER BARREL",
         "28.14",
         "28.14",
         null,
         "28.14",
         null,
         null,
         null,
         null,
         null,
         null,
         null,
         null,
         "CRCKR BRL",
         "1042",
         "140.7",
         null,
         "559c2234e4b06aca36af13c6",
         null,
         null,
         1,
         null,
         "559c2234e4b06aca36af13c6",
         null,
         null,
         null,
         null,
         null,
         null
        ],
        [
         "600b139e0a7214ada200000a",
         "511111802358",
         "CRACKER BARREL",
         false,
         null,
         null,
         "CRACKER BARREL",
         "28.14",
         "28.14",
         null,
         "28.14",
         null,
         null,
         null,
         null,
         null,
         null,
         null,
         null,
         "CRCKR BRL",
         "1034",
         "140.7",
         null,
         "559c2234e4b06aca36af13c6",
         null,
         null,
         1,
         null,
         "559c2234e4b06aca36af13c6",
         null,
         null,
         null,
         null,
         null,
         null
        ],
        [
         "600a1e270a720f0535000009",
         "511111802358",
         "CRACKER BARREL",
         false,
         null,
         null,
         "CRACKER BARREL",
         "28.14",
         "28.14",
         null,
         "28.14",
         "CRACKER BARREL CHEESE - CHUNK",
         null,
         null,
         null,
         null,
         null,
         null,
         null,
         "CRCKRBRL",
         "1039",
         "140.7",
         null,
         "559c2234e4b06aca36af13c6",
         null,
         null,
         1,
         null,
         "559c2234e4b06aca36af13c6",
         null,
         null,
         null,
         null,
         null,
         null
        ],
        [
         "600a1e270a720f0535000009",
         "511111901587",
         "RICE-A-RONI",
         false,
         null,
         null,
         "RICE-A-RONI",
         "1.29",
         "1.29",
         null,
         "1.29",
         null,
         null,
         null,
         null,
         null,
         null,
         null,
         null,
         "492 RICE A RONI",
         "1234",
         null,
         "Action not allowed for user and CPG",
         "5332f5fbe4b03c9a25efd0ba",
         null,
         null,
         1,
         null,
         "5332f5fbe4b03c9a25efd0ba",
         null,
         null,
         null,
         null,
         null,
         null
        ],
        [
         "600a1e270a720f0535000009",
         "511111901587",
         "RICE-A-RONI",
         false,
         null,
         null,
         "RICE-A-RONI",
         "1.29",
         "1.29",
         null,
         "1.29",
         null,
         null,
         null,
         null,
         null,
         null,
         null,
         null,
         "496 RICEA RONI",
         "1238",
         null,
         "Action not allowed for user and CPG",
         "5332f5fbe4b03c9a25efd0ba",
         null,
         null,
         1,
         null,
         "5332f5fbe4b03c9a25efd0ba",
         null,
         null,
         null,
         null,
         null,
         null
        ],
        [
         "600a1e270a720f0535000009",
         "511111518044",
         "SARGENTO",
         false,
         null,
         null,
         "SARGENTO",
         "3.49",
         "3.49",
         null,
         "3.49",
         null,
         null,
         null,
         null,
         null,
         null,
         null,
         null,
         "524 SARGENTO CHE",
         "1267",
         "34.9",
         null,
         "5e7cf838f221c312e698a628",
         null,
         null,
         1,
         null,
         "5e7cf838f221c312e698a628",
         null,
         null,
         null,
         null,
         null,
         null
        ],
        [
         "600ba6ae0a7214ada2000010",
         "511111902690",
         "KRAFT",
         false,
         null,
         null,
         "KRAFT",
         "1.99",
         "1.99",
         null,
         "1.99",
         "KRAFT DRESSING",
         null,
         null,
         null,
         null,
         null,
         null,
         null,
         "KRAFT ITALIAN RSTD",
         "1285",
         "10.0",
         null,
         "559c2234e4b06aca36af13c6",
         null,
         null,
         1,
         null,
         "559c2234e4b06aca36af13c6",
         null,
         null,
         null,
         null,
         null,
         null
        ],
        [
         "600eda0c0a7214ada200001e",
         "511111802358",
         "CRACKER BARREL",
         false,
         null,
         null,
         "CRACKER BARREL",
         "28.14",
         "28.14",
         null,
         "28.14",
         null,
         null,
         null,
         null,
         null,
         null,
         null,
         null,
         "CRCKR BRL",
         "1051",
         "140.7",
         null,
         "559c2234e4b06aca36af13c6",
         null,
         null,
         1,
         null,
         "559c2234e4b06aca36af13c6",
         null,
         null,
         null,
         null,
         null,
         null
        ],
        [
         "600edb570a720f053500001d",
         "511111902690",
         "KRAFT",
         false,
         null,
         null,
         "KRAFT",
         "1.99",
         "1.99",
         null,
         "1.99",
         "KRAFT DRESSING",
         null,
         null,
         null,
         null,
         null,
         null,
         null,
         "KRAFT TAL AN RSTD",
         "958",
         "10.0",
         null,
         "559c2234e4b06aca36af13c6",
         null,
         null,
         1,
         null,
         "559c2234e4b06aca36af13c6",
         null,
         null,
         null,
         null,
         null,
         null
        ],
        [
         "600f39c30a7214ada2000030",
         "511111802358",
         "CRACKER BARREL",
         false,
         null,
         null,
         "CRACKER BARREL",
         "168.84",
         "168.84",
         null,
         "168.84",
         null,
         true,
         "POINTS_GREATER_THAN_THRESHOLD",
         null,
         null,
         null,
         null,
         null,
         "CRCKR BRL",
         "1057",
         "844.2",
         null,
         "559c2234e4b06aca36af13c6",
         null,
         "168.84",
         6,
         null,
         "559c2234e4b06aca36af13c6",
         null,
         null,
         null,
         null,
         null,
         null
        ],
        [
         "600f39c30a7214ada2000030",
         "511111001768",
         "CHEETOS",
         false,
         null,
         null,
         "CHEETOS",
         "22.00",
         "22.00",
         null,
         "22.00",
         null,
         null,
         null,
         null,
         null,
         null,
         null,
         null,
         "CHEETOS CR",
         "1083",
         null,
         "Action not allowed for user and CPG",
         "5332f5fbe4b03c9a25efd0ba",
         null,
         "22.00",
         2,
         null,
         "5332f5fbe4b03c9a25efd0ba",
         null,
         null,
         null,
         null,
         null,
         null
        ],
        [
         "600f39c30a7214ada2000030",
         "511111602118",
         "JELL-O",
         false,
         null,
         null,
         "JELL-O",
         "3.00",
         "3.00",
         null,
         "3.00",
         null,
         null,
         null,
         null,
         null,
         null,
         null,
         null,
         "2 OTY JELLO",
         "1125",
         "15.0",
         null,
         "559c2234e4b06aca36af13c6",
         null,
         "3.00",
         1,
         null,
         "559c2234e4b06aca36af13c6",
         null,
         null,
         null,
         null,
         null,
         null
        ],
        [
         "600f39c30a7214ada2000030",
         "511111004127",
         "V8",
         false,
         null,
         null,
         "V8",
         "10.00",
         "10.00",
         null,
         "10.00",
         null,
         null,
         null,
         null,
         null,
         null,
         null,
         null,
         "V8 10 O % VEG JCE",
         "1411",
         "100.0",
         null,
         "5a734034e4b0d58f376be874",
         null,
         "10.00",
         2,
         null,
         "5a734034e4b0d58f376be874",
         null,
         null,
         null,
         null,
         null,
         null
        ],
        [
         "600f39c30a7214ada2000030",
         "511111004127",
         "V8",
         false,
         null,
         null,
         "V8",
         "3.49",
         "3.49",
         null,
         "3.49",
         null,
         null,
         null,
         null,
         null,
         null,
         null,
         null,
         "V8 10 O % VEG JCE",
         "1414",
         "34.9",
         null,
         "5a734034e4b0d58f376be874",
         null,
         "3.49",
         1,
         null,
         "5a734034e4b0d58f376be874",
         null,
         null,
         null,
         null,
         null,
         null
        ],
        [
         "600f39c30a7214ada2000030",
         "511111904175",
         "PEPPERIDGE FARM",
         false,
         null,
         null,
         "PEPPERIDGE FARM",
         "3.00",
         "3.00",
         null,
         "3.00",
         null,
         null,
         null,
         null,
         null,
         null,
         null,
         null,
         "PF COOKIES",
         "1470",
         "30.0",
         null,
         "5a734034e4b0d58f376be874",
         null,
         "3.00",
         1,
         null,
         "5a734034e4b0d58f376be874",
         null,
         null,
         null,
         null,
         null,
         null
        ],
        [
         "600f39c30a7214ada2000030",
         "511111904175",
         "PEPPERIDGE FARM",
         false,
         null,
         null,
         "PEPPERIDGE FARM",
         "3.00",
         "3.00",
         null,
         "3.00",
         null,
         null,
         null,
         null,
         null,
         null,
         null,
         null,
         "PEP FARM CCNT CKY",
         "1471",
         "30.0",
         null,
         "5a734034e4b0d58f376be874",
         null,
         "3.00",
         1,
         null,
         "5a734034e4b0d58f376be874",
         null,
         null,
         null,
         null,
         null,
         null
        ],
        [
         "600f39c30a7214ada2000030",
         "511111904175",
         "PEPPERIDGE FARM",
         false,
         null,
         null,
         "PEPPERIDGE FARM",
         "3.00",
         "3.00",
         null,
         "3.00",
         null,
         null,
         null,
         null,
         null,
         null,
         null,
         null,
         "PEP FARM CCNT CKY",
         "1480",
         "30.0",
         null,
         "5a734034e4b0d58f376be874",
         null,
         "3.00",
         1,
         null,
         "5a734034e4b0d58f376be874",
         null,
         null,
         null,
         null,
         null,
         null
        ],
        [
         "600f39c30a7214ada2000030",
         "511111704140",
         "PREGO",
         false,
         null,
         null,
         "PREGO",
         "2.69",
         "2.69",
         null,
         "2.69",
         null,
         null,
         null,
         null,
         null,
         null,
         null,
         null,
         "PREGO PASTA",
         "1774",
         "26.9",
         null,
         "5a734034e4b0d58f376be874",
         null,
         "2.69",
         1,
         null,
         "5a734034e4b0d58f376be874",
         null,
         null,
         null,
         null,
         null,
         null
        ],
        [
         "600f39c30a7214ada2000030",
         "511111704140",
         "PREGO",
         false,
         null,
         null,
         "PREGO",
         "2.69",
         "2.69",
         null,
         "2.69",
         null,
         null,
         null,
         null,
         null,
         null,
         null,
         null,
         "PREGO PASTA",
         "1776",
         "26.9",
         null,
         "5a734034e4b0d58f376be874",
         null,
         "2.69",
         1,
         null,
         "5a734034e4b0d58f376be874",
         null,
         null,
         null,
         null,
         null,
         null
        ],
        [
         "600f2fc80a720f0535000030",
         "511111802358",
         "CRACKER BARREL",
         false,
         null,
         null,
         "CRACKER BARREL",
         "168.84",
         "168.84",
         null,
         "168.84",
         null,
         true,
         "POINTS_GREATER_THAN_THRESHOLD",
         null,
         null,
         null,
         null,
         null,
         "CRCKR BRL",
         "1050",
         "844.2",
         null,
         "559c2234e4b06aca36af13c6",
         null,
         null,
         6,
         null,
         "559c2234e4b06aca36af13c6",
         null,
         null,
         null,
         null,
         null,
         null
        ],
        [
         "600f2fc80a720f0535000030",
         "511111001768",
         "CHEETOS",
         false,
         null,
         null,
         "CHEETOS",
         "22.00",
         "22.00",
         null,
         "22.00",
         null,
         false,
         null,
         null,
         null,
         null,
         null,
         null,
         "CHEETOS CR",
         "1068",
         null,
         "Action not allowed for user and CPG",
         "5332f5fbe4b03c9a25efd0ba",
         null,
         null,
         2,
         null,
         "5332f5fbe4b03c9a25efd0ba",
         null,
         null,
         null,
         null,
         null,
         null
        ],
        [
         "600f2fc80a720f0535000030",
         "511111001768",
         "CHEETOS",
         false,
         null,
         null,
         "CHEETOS",
         "22.00",
         "22.00",
         null,
         "22.00",
         null,
         false,
         null,
         null,
         null,
         null,
         null,
         null,
         "CHEETOS CR",
         "1085",
         null,
         "Action not allowed for user and CPG",
         "5332f5fbe4b03c9a25efd0ba",
         null,
         null,
         2,
         null,
         "5332f5fbe4b03c9a25efd0ba",
         null,
         null,
         null,
         null,
         null,
         null
        ],
        [
         "600f2fc80a720f0535000030",
         "511111602118",
         "JELL-O",
         false,
         null,
         null,
         "JELL-O",
         "3.00",
         "3.00",
         null,
         "3.00",
         null,
         false,
         null,
         null,
         null,
         null,
         null,
         null,
         "2 OTY JELLO",
         "1131",
         "15.0",
         null,
         "559c2234e4b06aca36af13c6",
         null,
         null,
         1,
         null,
         "559c2234e4b06aca36af13c6",
         null,
         null,
         null,
         null,
         null,
         null
        ],
        [
         "600f2fc80a720f0535000030",
         "511111003960",
         "MOUNTAIN DEW",
         false,
         null,
         null,
         "MOUNTAIN DEW",
         "35.96",
         "35.96",
         null,
         "35.96",
         null,
         false,
         null,
         null,
         null,
         null,
         null,
         null,
         "MOUNTAIN D",
         "1390",
         null,
         "Action not allowed for user and CPG",
         "5332f5fbe4b03c9a25efd0ba",
         null,
         null,
         2,
         null,
         "5332f5fbe4b03c9a25efd0ba",
         null,
         null,
         null,
         null,
         null,
         null
        ],
        [
         "600f2fc80a720f0535000030",
         "511111101451",
         "QUAKER",
         false,
         null,
         null,
         "QUAKER",
         "3.99",
         "3.99",
         null,
         "3.99",
         "QUAKER CEREAL & OATS",
         false,
         null,
         null,
         null,
         null,
         null,
         null,
         "QUAKER OATS",
         "1408",
         null,
         "Action not allowed for user and CPG",
         "53e10d6368abd3c7065097cc",
         null,
         null,
         1,
         null,
         "53e10d6368abd3c7065097cc",
         null,
         null,
         null,
         null,
         null,
         null
        ],
        [
         "600f2fc80a720f0535000030",
         "511111004127",
         "V8",
         false,
         null,
         null,
         "V8",
         "10.00",
         "10.00",
         null,
         "10.00",
         null,
         false,
         null,
         null,
         null,
         null,
         null,
         null,
         "V8 100% VEG JCE",
         "1435",
         "100.0",
         null,
         "5a734034e4b0d58f376be874",
         null,
         null,
         2,
         null,
         "5a734034e4b0d58f376be874",
         null,
         null,
         null,
         null,
         null,
         null
        ],
        [
         "600f2fc80a720f0535000030",
         "511111004127",
         "V8",
         false,
         null,
         null,
         "V8",
         "3.49",
         "3.49",
         null,
         "3.49",
         null,
         false,
         null,
         null,
         null,
         null,
         null,
         null,
         "V8 100% VEG JCE",
         "1438",
         "34.9",
         null,
         "5a734034e4b0d58f376be874",
         null,
         null,
         1,
         null,
         "5a734034e4b0d58f376be874",
         null,
         null,
         null,
         null,
         null,
         null
        ],
        [
         "600f2fc80a720f0535000030",
         "511111904175",
         "PEPPERIDGE FARM",
         false,
         null,
         null,
         "PEPPERIDGE FARM",
         "3.00",
         "3.00",
         null,
         "3.00",
         null,
         false,
         null,
         null,
         null,
         null,
         null,
         null,
         "PF COOKIES",
         "1499",
         "30.0",
         null,
         "5a734034e4b0d58f376be874",
         null,
         null,
         1,
         null,
         "5a734034e4b0d58f376be874",
         null,
         null,
         null,
         null,
         null,
         null
        ],
        [
         "600f2fc80a720f0535000030",
         "511111904175",
         "PEPPERIDGE FARM",
         false,
         null,
         null,
         "PEPPERIDGE FARM",
         "3.00",
         "3.00",
         null,
         "3.00",
         null,
         false,
         null,
         null,
         null,
         null,
         null,
         null,
         "PEP FARM CCNT CKY",
         "1501",
         "30.0",
         null,
         "5a734034e4b0d58f376be874",
         null,
         null,
         1,
         null,
         "5a734034e4b0d58f376be874",
         null,
         null,
         null,
         null,
         null,
         null
        ],
        [
         "600f2fc80a720f0535000030",
         "511111704140",
         "PREGO",
         false,
         null,
         null,
         "PREGO",
         "2.69",
         "2.69",
         null,
         "2.69",
         null,
         false,
         null,
         null,
         null,
         null,
         null,
         null,
         "PREGO PASTA",
         "1956",
         "26.9",
         null,
         "5a734034e4b0d58f376be874",
         null,
         null,
         1,
         null,
         "5a734034e4b0d58f376be874",
         null,
         null,
         null,
         null,
         null,
         null
        ],
        [
         "600f2fc80a720f0535000030",
         "511111704140",
         "PREGO",
         false,
         null,
         null,
         "PREGO",
         "2.69",
         "2.69",
         null,
         "2.69",
         null,
         false,
         null,
         null,
         null,
         null,
         null,
         null,
         "PREGO PASTA",
         "1958",
         "26.9",
         null,
         "5a734034e4b0d58f376be874",
         null,
         null,
         1,
         null,
         "5a734034e4b0d58f376be874",
         null,
         null,
         null,
         null,
         null,
         null
        ]
       ],
       "datasetInfos": [
        {
         "name": "_sqldf",
         "schema": {
          "fields": [
           {
            "metadata": {},
            "name": "receiptId",
            "nullable": true,
            "type": "string"
           },
           {
            "metadata": {},
            "name": "barcode",
            "nullable": true,
            "type": "string"
           },
           {
            "metadata": {},
            "name": "brandCode",
            "nullable": true,
            "type": "string"
           },
           {
            "metadata": {},
            "name": "competitiveProduct",
            "nullable": true,
            "type": "boolean"
           },
           {
            "metadata": {},
            "name": "competitorRewardsGroup",
            "nullable": true,
            "type": "string"
           },
           {
            "metadata": {},
            "name": "deleted",
            "nullable": true,
            "type": "boolean"
           },
           {
            "metadata": {},
            "name": "description",
            "nullable": true,
            "type": "string"
           },
           {
            "metadata": {},
            "name": "discountedItemPrice",
            "nullable": true,
            "type": "string"
           },
           {
            "metadata": {},
            "name": "finalPrice",
            "nullable": true,
            "type": "string"
           },
           {
            "metadata": {},
            "name": "itemNumber",
            "nullable": true,
            "type": "string"
           },
           {
            "metadata": {},
            "name": "itemPrice",
            "nullable": true,
            "type": "string"
           },
           {
            "metadata": {},
            "name": "metabriteCampaignId",
            "nullable": true,
            "type": "string"
           },
           {
            "metadata": {},
            "name": "needsFetchReview",
            "nullable": true,
            "type": "boolean"
           },
           {
            "metadata": {},
            "name": "needsFetchReviewReason",
            "nullable": true,
            "type": "string"
           },
           {
            "metadata": {},
            "name": "originalFinalPrice",
            "nullable": true,
            "type": "string"
           },
           {
            "metadata": {},
            "name": "originalMetaBriteBarcode",
            "nullable": true,
            "type": "string"
           },
           {
            "metadata": {},
            "name": "originalMetaBriteDescription",
            "nullable": true,
            "type": "string"
           },
           {
            "metadata": {},
            "name": "originalMetaBriteItemPrice",
            "nullable": true,
            "type": "string"
           },
           {
            "metadata": {},
            "name": "originalMetaBriteQuantityPurchased",
            "nullable": true,
            "type": "long"
           },
           {
            "metadata": {},
            "name": "originalReceiptItemText",
            "nullable": true,
            "type": "string"
           },
           {
            "metadata": {},
            "name": "partnerItemId",
            "nullable": true,
            "type": "string"
           },
           {
            "metadata": {},
            "name": "pointsEarned",
            "nullable": true,
            "type": "string"
           },
           {
            "metadata": {},
            "name": "pointsNotAwardedReason",
            "nullable": true,
            "type": "string"
           },
           {
            "metadata": {},
            "name": "pointsPayerId",
            "nullable": true,
            "type": "string"
           },
           {
            "metadata": {},
            "name": "preventTargetGapPoints",
            "nullable": true,
            "type": "boolean"
           },
           {
            "metadata": {},
            "name": "priceAfterCoupon",
            "nullable": true,
            "type": "string"
           },
           {
            "metadata": {},
            "name": "quantityPurchased",
            "nullable": true,
            "type": "long"
           },
           {
            "metadata": {},
            "name": "rewardsGroup",
            "nullable": true,
            "type": "string"
           },
           {
            "metadata": {},
            "name": "rewardsProductPartnerId",
            "nullable": true,
            "type": "string"
           },
           {
            "metadata": {},
            "name": "targetPrice",
            "nullable": true,
            "type": "string"
           },
           {
            "metadata": {},
            "name": "userFlaggedBarcode",
            "nullable": true,
            "type": "string"
           },
           {
            "metadata": {},
            "name": "userFlaggedDescription",
            "nullable": true,
            "type": "string"
           },
           {
            "metadata": {},
            "name": "userFlaggedNewItem",
            "nullable": true,
            "type": "boolean"
           },
           {
            "metadata": {},
            "name": "userFlaggedPrice",
            "nullable": true,
            "type": "string"
           },
           {
            "metadata": {},
            "name": "userFlaggedQuantity",
            "nullable": true,
            "type": "long"
           }
          ],
          "type": "struct"
         },
         "tableIdentifier": null,
         "typeStr": "pyspark.sql.connect.dataframe.DataFrame"
        }
       ],
       "dbfsResultPath": null,
       "isJsonSchema": true,
       "metadata": {
        "createTempViewForImplicitDf": true,
        "dataframeName": "_sqldf",
        "executionCount": 286
       },
       "overflow": false,
       "plotOptions": {
        "customPlotOptions": {},
        "displayType": "table",
        "pivotAggregation": null,
        "pivotColumns": null,
        "xColumns": null,
        "yColumns": null
       },
       "removedWidgets": [],
       "schema": [
        {
         "metadata": "{}",
         "name": "receiptId",
         "type": "\"string\""
        },
        {
         "metadata": "{}",
         "name": "barcode",
         "type": "\"string\""
        },
        {
         "metadata": "{}",
         "name": "brandCode",
         "type": "\"string\""
        },
        {
         "metadata": "{}",
         "name": "competitiveProduct",
         "type": "\"boolean\""
        },
        {
         "metadata": "{}",
         "name": "competitorRewardsGroup",
         "type": "\"string\""
        },
        {
         "metadata": "{}",
         "name": "deleted",
         "type": "\"boolean\""
        },
        {
         "metadata": "{}",
         "name": "description",
         "type": "\"string\""
        },
        {
         "metadata": "{}",
         "name": "discountedItemPrice",
         "type": "\"string\""
        },
        {
         "metadata": "{}",
         "name": "finalPrice",
         "type": "\"string\""
        },
        {
         "metadata": "{}",
         "name": "itemNumber",
         "type": "\"string\""
        },
        {
         "metadata": "{}",
         "name": "itemPrice",
         "type": "\"string\""
        },
        {
         "metadata": "{}",
         "name": "metabriteCampaignId",
         "type": "\"string\""
        },
        {
         "metadata": "{}",
         "name": "needsFetchReview",
         "type": "\"boolean\""
        },
        {
         "metadata": "{}",
         "name": "needsFetchReviewReason",
         "type": "\"string\""
        },
        {
         "metadata": "{}",
         "name": "originalFinalPrice",
         "type": "\"string\""
        },
        {
         "metadata": "{}",
         "name": "originalMetaBriteBarcode",
         "type": "\"string\""
        },
        {
         "metadata": "{}",
         "name": "originalMetaBriteDescription",
         "type": "\"string\""
        },
        {
         "metadata": "{}",
         "name": "originalMetaBriteItemPrice",
         "type": "\"string\""
        },
        {
         "metadata": "{}",
         "name": "originalMetaBriteQuantityPurchased",
         "type": "\"long\""
        },
        {
         "metadata": "{}",
         "name": "originalReceiptItemText",
         "type": "\"string\""
        },
        {
         "metadata": "{}",
         "name": "partnerItemId",
         "type": "\"string\""
        },
        {
         "metadata": "{}",
         "name": "pointsEarned",
         "type": "\"string\""
        },
        {
         "metadata": "{}",
         "name": "pointsNotAwardedReason",
         "type": "\"string\""
        },
        {
         "metadata": "{}",
         "name": "pointsPayerId",
         "type": "\"string\""
        },
        {
         "metadata": "{}",
         "name": "preventTargetGapPoints",
         "type": "\"boolean\""
        },
        {
         "metadata": "{}",
         "name": "priceAfterCoupon",
         "type": "\"string\""
        },
        {
         "metadata": "{}",
         "name": "quantityPurchased",
         "type": "\"long\""
        },
        {
         "metadata": "{}",
         "name": "rewardsGroup",
         "type": "\"string\""
        },
        {
         "metadata": "{}",
         "name": "rewardsProductPartnerId",
         "type": "\"string\""
        },
        {
         "metadata": "{}",
         "name": "targetPrice",
         "type": "\"string\""
        },
        {
         "metadata": "{}",
         "name": "userFlaggedBarcode",
         "type": "\"string\""
        },
        {
         "metadata": "{}",
         "name": "userFlaggedDescription",
         "type": "\"string\""
        },
        {
         "metadata": "{}",
         "name": "userFlaggedNewItem",
         "type": "\"boolean\""
        },
        {
         "metadata": "{}",
         "name": "userFlaggedPrice",
         "type": "\"string\""
        },
        {
         "metadata": "{}",
         "name": "userFlaggedQuantity",
         "type": "\"long\""
        }
       ],
       "type": "table"
      }
     },
     "output_type": "display_data"
    }
   ],
   "source": [
    "%sql\n",
    "-- Checking the count of records items that had a barcode that existed in the brands table\n",
    "-- only 82 total records had a valid barcode (~1.2%)\n",
    "select \n",
    "  count(*)\n",
    "from `fetch`.items_raw\n",
    "where barcode in (select distinct barcode from fetch.brands_processed)"
   ]
  },
  {
   "cell_type": "code",
   "execution_count": 0,
   "metadata": {
    "application/vnd.databricks.v1+cell": {
     "cellMetadata": {
      "byteLimit": 2048000,
      "implicitDf": true,
      "rowLimit": 10000
     },
     "inputWidgets": {},
     "nuid": "93104da5-b49d-414e-952e-ab4abe5a9fb5",
     "showTitle": false,
     "tableResultSettingsMap": {},
     "title": ""
    }
   },
   "outputs": [
    {
     "output_type": "display_data",
     "data": {
      "text/html": [
       "<style scoped>\n",
       "  .table-result-container {\n",
       "    max-height: 300px;\n",
       "    overflow: auto;\n",
       "  }\n",
       "  table, th, td {\n",
       "    border: 1px solid black;\n",
       "    border-collapse: collapse;\n",
       "  }\n",
       "  th, td {\n",
       "    padding: 5px;\n",
       "  }\n",
       "  th {\n",
       "    text-align: left;\n",
       "  }\n",
       "</style><div class='table-result-container'><table class='table-result'><thead style='background-color: white'><tr><th>description</th><th>null_record_count</th><th>total_records</th><th>percentage</th></tr></thead><tbody><tr><td>null</td><td>231</td><td>3008</td><td>7.68</td></tr><tr><td>ITEM NOT FOUND</td><td>173</td><td>3008</td><td>5.75</td></tr><tr><td>HUGGIES SIMPLY CLEAN PREMOISTENED WIPE FRAGRANCE FREE BAG 216 COUNT</td><td>92</td><td>3008</td><td>3.06</td></tr><tr><td>MILLER LITE 24 PACK 12OZ CAN</td><td>90</td><td>3008</td><td>2.99</td></tr><tr><td>KLEENEX POP UP RECTANGLE BOX FACIAL TISSUE 2 PLY 8PK 160 CT</td><td>87</td><td>3008</td><td>2.89</td></tr><tr><td>REGULAR PEPSI SODA COLA CAN 12 CT 144 OZ</td><td>76</td><td>3008</td><td>2.53</td></tr><tr><td>Ben & Jerry's Chunky Monkey Non-Dairy Frozen Dessert 16 oz</td><td>60</td><td>3008</td><td>1.99</td></tr><tr><td>KNORR RICE SIDES CREAMY CHICKEN REGULAR RICE AND PASTA MIX LONG GRAIN 5.7 OZ - 0041000022624</td><td>54</td><td>3008</td><td>1.8</td></tr><tr><td>BEN & JERRYS FROZEN CHUNKY MONKEY ICE CREAM REGULAR 16 OZ - 0076840100351</td><td>53</td><td>3008</td><td>1.76</td></tr><tr><td>DORITOS TORTILLA CHIP NACHO CHEESE BAG 7.625 OZ</td><td>45</td><td>3008</td><td>1.5</td></tr><tr><td>BEN AND JERRYS ICE CREAM</td><td>41</td><td>3008</td><td>1.36</td></tr><tr><td>mueller austria hypergrind precision electric spice/coffee grinder millwith large grinding capacity and hd motor also for spices, herbs, nuts,grains, white</td><td>40</td><td>3008</td><td>1.33</td></tr><tr><td>thindust summer face mask - sun protection neck gaiter for outdooractivities</td><td>40</td><td>3008</td><td>1.33</td></tr><tr><td>Kraft Macaroni & Cheese Dinner - The Cheesiest Original</td><td>32</td><td>3008</td><td>1.06</td></tr><tr><td>DORITOS TORTILLA CHIP NACHO CHEESE BAG 14.5 OZ</td><td>30</td><td>3008</td><td>1.0</td></tr><tr><td>NTRS PTH FLX N OATS INST OAT ORGN BOX HOT CRL 14 OZ</td><td>28</td><td>3008</td><td>0.93</td></tr><tr><td>Laura's Lean Beef Ground Beef 93% Lean & Natural</td><td>25</td><td>3008</td><td>0.83</td></tr><tr><td>JST BR BNLS HND TRMD MNML PRCS SKNL CHCK WHL BRST FLT RFRG MLDD TRY 14 OZ</td><td>25</td><td>3008</td><td>0.83</td></tr><tr><td>Hillshire Farm - Turkey Polska Kielbasa 13.00-oz</td><td>24</td><td>3008</td><td>0.8</td></tr><tr><td>Borden 2% Reduced Fat Milk</td><td>24</td><td>3008</td><td>0.8</td></tr><tr><td>Light & Fit Greek Crunch Key Lime Pie Yogurt</td><td>22</td><td>3008</td><td>0.73</td></tr><tr><td>Hy-Vee Unsalted Sweet Butter Quarters</td><td>18</td><td>3008</td><td>0.6</td></tr><tr><td>Hy-Vee Kettle Cooked Pub Mustard Flavored Potato Chips</td><td>18</td><td>3008</td><td>0.6</td></tr><tr><td>KNORR SIDES</td><td>17</td><td>3008</td><td>0.57</td></tr><tr><td>MARIE CALLENDER'S POT PIE MULTI SERVE</td><td>17</td><td>3008</td><td>0.57</td></tr><tr><td>CJN INJ & LSN GLD GRLN KIT BOX 1 CT</td><td>15</td><td>3008</td><td>0.5</td></tr><tr><td>Other Sweet Onions</td><td>15</td><td>3008</td><td>0.5</td></tr><tr><td>Krazy Glue Sticks</td><td>15</td><td>3008</td><td>0.5</td></tr><tr><td>DL PNPL ORNG BNN FRZN CNCN CAN 48 OZ JC BLND 12 FL OZ</td><td>14</td><td>3008</td><td>0.47</td></tr><tr><td>DOLE ORANGE PEACH MANGO JUICE VITAMIN C ENRICHED FROM CONCNTRT PSTRZD CARTON 1 CT 59 OZ</td><td>14</td><td>3008</td><td>0.47</td></tr><tr><td>Golden Sweet Potato</td><td>14</td><td>3008</td><td>0.47</td></tr><tr><td>KRAFT Cheese - Pasteurized Prepared American Singles</td><td>13</td><td>3008</td><td>0.43</td></tr><tr><td>Lipton Recipe Secrets Beefy Onion Recipe Soup & Dip Mix, 2 count, 2.2 oz</td><td>13</td><td>3008</td><td>0.43</td></tr><tr><td>CLB SNP CRSP BLCK PPR BKD 40 PCT LS FAT HRVS SNPS BAG 3.3 OZ</td><td>13</td><td>3008</td><td>0.43</td></tr><tr><td>Broccoli</td><td>12</td><td>3008</td><td>0.4</td></tr><tr><td>Green Cabbage</td><td>12</td><td>3008</td><td>0.4</td></tr><tr><td>Rice-A-Roni Rice Pilaf</td><td>12</td><td>3008</td><td>0.4</td></tr><tr><td>DORITOS TORTILLA CHIP SPICY SWEET CHILI REDUCED FAT BAG 1 OZ</td><td>12</td><td>3008</td><td>0.4</td></tr><tr><td>DL CRT ICBR PEA PD RDSH RD CBG RMN LTC VRY VG THRG WSHD LTC SLD BAG 11.9 OZ</td><td>12</td><td>3008</td><td>0.4</td></tr><tr><td>EL MNT MLD BF BN GRN CHL BRT KP FRZN BAG 32 OZ</td><td>12</td><td>3008</td><td>0.4</td></tr><tr><td>YUBAN Traditional Medium Roast Ground Coffee 12 oz. Canister</td><td>11</td><td>3008</td><td>0.37</td></tr><tr><td>Folgers Classic Roast Medium Caffeinated Coffee</td><td>11</td><td>3008</td><td>0.37</td></tr><tr><td>Bigelow Green Tea Bags with Lemon</td><td>11</td><td>3008</td><td>0.37</td></tr><tr><td>CNS CLSC THN SPR BLCK OLV GRN PPR ONN WHL MLK MZRL PRMS RMN 25.49 OZ</td><td>11</td><td>3008</td><td>0.37</td></tr><tr><td>WSTMP SS CTSNK RPGBG CHKN 6.3OZ</td><td>11</td><td>3008</td><td>0.37</td></tr><tr><td>Van de Kamp's - Crispy Fish Fillets 19.45-oz</td><td>11</td><td>3008</td><td>0.37</td></tr><tr><td>Hy-Vee Medium Cheddar Cheese Brick</td><td>11</td><td>3008</td><td>0.37</td></tr><tr><td>Kashi Granola Bars - Chewy Honey Almond Flax</td><td>11</td><td>3008</td><td>0.37</td></tr><tr><td>CHCK SEA SRDN WHL WTR CAN IN BOX 3.75 OZ</td><td>11</td><td>3008</td><td>0.37</td></tr><tr><td>HMPL CRD PPR SLCD PRK BCN WRP 20 OZ</td><td>11</td><td>3008</td><td>0.37</td></tr><tr><td>Tic Tac Cool Watermelon Gum</td><td>11</td><td>3008</td><td>0.37</td></tr><tr><td>Large Yellow Onions</td><td>11</td><td>3008</td><td>0.37</td></tr><tr><td>HTCH JLPN PPR SLCD JAR SLCT 12 OZ</td><td>11</td><td>3008</td><td>0.37</td></tr><tr><td>Hy-Vee Orange Cream Lowfat Yogurt</td><td>11</td><td>3008</td><td>0.37</td></tr><tr><td>ORE-IDA Hash Browns 27.00-oz</td><td>10</td><td>3008</td><td>0.33</td></tr><tr><td>BST FDS SPRD MYNS JAR 30 FL OZ</td><td>10</td><td>3008</td><td>0.33</td></tr><tr><td>Hy-Vee Seasoned Croutons</td><td>10</td><td>3008</td><td>0.33</td></tr><tr><td>Hy-Vee 4% Large Curd Cottage Cheese</td><td>10</td><td>3008</td><td>0.33</td></tr><tr><td>SUAVE PROFESSIONALS MOISTURIZING SHAMPOO LIQUID PLASTIC BOTTLE RP 12.6 OZ - 0079400066612</td><td>10</td><td>3008</td><td>0.33</td></tr><tr><td>CAPRI SUN Roarin' Waters Tropical Fruit Juice Drinks 10 ct</td><td>10</td><td>3008</td><td>0.33</td></tr><tr><td>Flame Red Seedless Grapes</td><td>10</td><td>3008</td><td>0.33</td></tr><tr><td>HEINZ Homestyle Gravy Roasted Turkey Pack of 3</td><td>10</td><td>3008</td><td>0.33</td></tr><tr><td>AMRC BTY FLT ANGL HR 24 OZ</td><td>10</td><td>3008</td><td>0.33</td></tr><tr><td>Hy-Vee Cage Free Omega-3 Grade A Large Brown Eggs</td><td>10</td><td>3008</td><td>0.33</td></tr><tr><td>KKMN SWT CHL RFRG AFTR OPNN SC BTL 13 OZ</td><td>10</td><td>3008</td><td>0.33</td></tr><tr><td>DEVOUR Bacon Topped Meatloaf with Spicy Ketchup 10.00-oz</td><td>10</td><td>3008</td><td>0.33</td></tr><tr><td>Saint Louis Hamburger Pickle Dills, 10 Can - 6 Case</td><td>10</td><td>3008</td><td>0.33</td></tr><tr><td>HEINZ SWEET SWEET RELISH 12.7 OZ - 0013000006184</td><td>10</td><td>3008</td><td>0.33</td></tr><tr><td>Bigelow Tea Bags - Earl Grey</td><td>9</td><td>3008</td><td>0.3</td></tr><tr><td>Hy-Vee Clover Honey Bear</td><td>9</td><td>3008</td><td>0.3</td></tr><tr><td>JIF CRMY PNT BTR JAR 40 OZ</td><td>9</td><td>3008</td><td>0.3</td></tr><tr><td>Jell-O Make Your Own Mixchief Gelatin Juice 0.25-oz</td><td>9</td><td>3008</td><td>0.3</td></tr><tr><td>Bush's Best Chili Beans - Kidney Beans in Mild Chili Sauce</td><td>9</td><td>3008</td><td>0.3</td></tr><tr><td>OSCAR MAYER Carving Board Oven Roasted Turkey Breast, 7.5 oz</td><td>9</td><td>3008</td><td>0.3</td></tr><tr><td>KRAFT Barbecue Roasted Garlic 18 OZ 002100067835</td><td>9</td><td>3008</td><td>0.3</td></tr><tr><td>BREAKSTONE'S Cucumber Onion DRY Tub 8 OZ</td><td>9</td><td>3008</td><td>0.3</td></tr><tr><td>MAXWELL HOUSE Ground Decaf Original 58.6oz</td><td>9</td><td>3008</td><td>0.3</td></tr><tr><td>Folgers Classic Roast Medium Roast Ground Coffee</td><td>9</td><td>3008</td><td>0.3</td></tr><tr><td>PLANTERSe Cashew Halves & Pieces - 46 oz.</td><td>9</td><td>3008</td><td>0.3</td></tr><tr><td>Hy-Vee Diced Cooked Ham</td><td>9</td><td>3008</td><td>0.3</td></tr><tr><td>KRAFT HEINZ TACO BELL HOME ORIGINALS JALAPENO TACO SAUCE 8 OZ - 0021000032771</td><td>9</td><td>3008</td><td>0.3</td></tr><tr><td>Hy-Vee Lemon Flavored Lowfat Yogurt</td><td>8</td><td>3008</td><td>0.27</td></tr><tr><td>Velveeta Shells and Cheese</td><td>8</td><td>3008</td><td>0.27</td></tr><tr><td>General Mills Breakfast Packs Rte Cereal - 9.14Oz</td><td>8</td><td>3008</td><td>0.27</td></tr><tr><td>Hy-Vee Kettle Cooked Buffalo & Blue Cheese Potato Chips</td><td>8</td><td>3008</td><td>0.27</td></tr><tr><td>Hempler's Sliced Bacon - Smoked</td><td>8</td><td>3008</td><td>0.27</td></tr><tr><td>Hy-Vee Lowfat Blackberry Yogurt</td><td>8</td><td>3008</td><td>0.27</td></tr><tr><td>Hy-Vee Sweet Smoked Thick Sliced Bacon</td><td>7</td><td>3008</td><td>0.23</td></tr><tr><td>Hidden Valley Original Ranch Salad Dressing 36 Oz</td><td>7</td><td>3008</td><td>0.23</td></tr><tr><td>Advil Ibuprofen Pain & Fever Liqui-gels Minis</td><td>7</td><td>3008</td><td>0.23</td></tr><tr><td>Jell-O Sugar Free Gelatin Strawberry 25 oz 8 pk</td><td>7</td><td>3008</td><td>0.23</td></tr><tr><td>Hy-Vee Premium Distilled Water Gallon</td><td>7</td><td>3008</td><td>0.23</td></tr><tr><td>CDBR MLK CHCL SLD EGG MN BAG EAST 31 OZ</td><td>7</td><td>3008</td><td>0.23</td></tr><tr><td>Cheese Cheddar & Colby - Signature Mild Cheese</td><td>7</td><td>3008</td><td>0.23</td></tr><tr><td>WLCH BLCK CHRY CNCR GRP JC BLND BTL 64 FL OZ</td><td>6</td><td>3008</td><td>0.2</td></tr><tr><td>CHEX CEREAL MEDIUM SIZE</td><td>6</td><td>3008</td><td>0.2</td></tr><tr><td>Cinnamon Toast Crunch Rte Cereal - Giant Size</td><td>6</td><td>3008</td><td>0.2</td></tr><tr><td>BEN & JERRYS FROZEN STRAWBERRY CHS CAKE ICE CREAM REGULAR 16 OZ - 0076840400212</td><td>6</td><td>3008</td><td>0.2</td></tr><tr><td>Yellow Bananas</td><td>6</td><td>3008</td><td>0.2</td></tr><tr><td>Honey Nut Cheerios Rte Cereal - Medium Size</td><td>6</td><td>3008</td><td>0.2</td></tr><tr><td>TRL SR BRT CRW CRWL GM CNDY BAG 30.4 OZ</td><td>6</td><td>3008</td><td>0.2</td></tr><tr><td>Signature Roast Beef</td><td>6</td><td>3008</td><td>0.2</td></tr><tr><td>Annie's Homegrown Organic White Cheddar Macaroni & Cheese Shells, 6 Oz</td><td>6</td><td>3008</td><td>0.2</td></tr><tr><td>KRAFT Classic Ranch Dressing, 24 fl oz</td><td>6</td><td>3008</td><td>0.2</td></tr><tr><td>Dressing KRAFT Free Catalina 90 Ounce</td><td>5</td><td>3008</td><td>0.17</td></tr><tr><td>OSCAR MAYER Smoked Turkey Breast Club Pack</td><td>5</td><td>3008</td><td>0.17</td></tr><tr><td>PLANTERS Limited Edition Tailgate Chipotle Nut Mix 15.25 OZ Canister</td><td>5</td><td>3008</td><td>0.17</td></tr><tr><td>LNDT MLK BNY TRY EAST 1.7 OZ</td><td>5</td><td>3008</td><td>0.17</td></tr><tr><td>YUBAN Pmild Pacific Coast Blend Roast Premium Ground Coffee, 29 Oz</td><td>5</td><td>3008</td><td>0.17</td></tr><tr><td>Pinova Apples</td><td>5</td><td>3008</td><td>0.17</td></tr><tr><td>LNDS CA SLCD NO STFN BLCK OLV TUB 5.5 OZ</td><td>5</td><td>3008</td><td>0.17</td></tr><tr><td>SHAKE 'N BAKE Coating Mix - Barbecue Glaze Seasoned 7.00-oz</td><td>5</td><td>3008</td><td>0.17</td></tr><tr><td>OSCAR MAYER Deli Fresh Deli Fresh Brown Sugar Ham 8.00-oz</td><td>5</td><td>3008</td><td>0.17</td></tr><tr><td>Franz Family Bakeries Hamburger Buns</td><td>5</td><td>3008</td><td>0.17</td></tr><tr><td>Food Network Kitchen Inspirations French Style Dijon Balsamic Vinaigrette, 12 oz</td><td>5</td><td>3008</td><td>0.17</td></tr><tr><td>Black and White Easter Bunny 16 1/2\" tall by no3 no4</td><td>5</td><td>3008</td><td>0.17</td></tr><tr><td>PLANTERS Peanuts Honey Roasted, 6-Ounce (Pack of 12)</td><td>5</td><td>3008</td><td>0.17</td></tr><tr><td>PLANTERS Salted Cashews - 3oz</td><td>5</td><td>3008</td><td>0.17</td></tr><tr><td>TANG Orange Drink Mix 20 oz</td><td>5</td><td>3008</td><td>0.17</td></tr><tr><td>SMART ONES Stuffed Breakfast Sandwich 8.00-oz</td><td>5</td><td>3008</td><td>0.17</td></tr><tr><td>OSCAR MAYER Naturals Slow Roasted Roast Beef 7 oz</td><td>5</td><td>3008</td><td>0.17</td></tr><tr><td>P3 Peanuts Ham Jerky Sunflower Kernels Portable Protein Pack - 5.4oz - 3ct</td><td>5</td><td>3008</td><td>0.17</td></tr><tr><td>HEINZ Grill Pack 20z Ketchup 17.5z Mustard 19z KC Barbecue / 4</td><td>5</td><td>3008</td><td>0.17</td></tr><tr><td>LUNCHABLES Breakfast Cinnamon Roll Dippers Lunch Combination 3.15 OZ Tray</td><td>5</td><td>3008</td><td>0.17</td></tr><tr><td>Hidden Valley Original Ranch Salad Dressing 48 Oz</td><td>5</td><td>3008</td><td>0.17</td></tr><tr><td>Braswell's Vidalia Onion & Summer Tomato</td><td>5</td><td>3008</td><td>0.17</td></tr><tr><td>SMART MADE Rosemary Grilled Beef & Vegetables 9 OZ Box</td><td>5</td><td>3008</td><td>0.17</td></tr><tr><td>Crystal Light Liquid Mango Passionfruit Drink Mix - 1.62 fl oz</td><td>5</td><td>3008</td><td>0.17</td></tr><tr><td>HUGGIES NATURAL CARE PREMOISTENED BABY WIPE FRAGRANCE FREE BAG 232 COUNT</td><td>5</td><td>3008</td><td>0.17</td></tr><tr><td>GEVALIA 100% Arabica Signature Blend K Mild Roast Coffee - K -Cups Pods - 36ct</td><td>5</td><td>3008</td><td>0.17</td></tr><tr><td>Iceberg Lettuce</td><td>5</td><td>3008</td><td>0.17</td></tr><tr><td>HEINZ Home Style Gravy Roasted Turkey, 12.0 OZ</td><td>5</td><td>3008</td><td>0.17</td></tr><tr><td>NATURE TREE Walnuts 8oz</td><td>5</td><td>3008</td><td>0.17</td></tr><tr><td>CLASSICO All Natural Peeled Ground Tomatoes 28 OZ Can</td><td>5</td><td>3008</td><td>0.17</td></tr><tr><td>OSCAR MAYER XXL Premium Fully-Cooked Beef Franks 16 OZ 004470000281</td><td>5</td><td>3008</td><td>0.17</td></tr><tr><td>HIDDEN VALLEY SALAD DRESSING 21OZ AND LARGER</td><td>5</td><td>3008</td><td>0.17</td></tr><tr><td>Thai Kitchen Unsweetened Coconut Milk</td><td>5</td><td>3008</td><td>0.17</td></tr><tr><td>MAXWELL HOUSE International Cinnamon Dulce Cappuccino Cafe-Style Beverage Mix 9.1 oz. Tub</td><td>5</td><td>3008</td><td>0.17</td></tr><tr><td>OSCAR MAYER 10 OZ ROAST BEEF</td><td>5</td><td>3008</td><td>0.17</td></tr><tr><td>OSCAR MAYER Cotto Salami, 12 oz</td><td>5</td><td>3008</td><td>0.17</td></tr><tr><td>JELL-O GELATIN RASPBERRY 6 OZ BOX</td><td>5</td><td>3008</td><td>0.17</td></tr><tr><td>JELL-O PUDDING-Instant DEVIL'S FOOD 3.8 OZ BOX</td><td>5</td><td>3008</td><td>0.17</td></tr><tr><td>comfort bay.4 piece set 200 thread count full sheet set</td><td>5</td><td>3008</td><td>0.17</td></tr><tr><td>Kool-Aid Unsweetened Drink Mix Cherry, 0.13 OZ</td><td>5</td><td>3008</td><td>0.17</td></tr><tr><td>KOOL-AID Ghoul-Aid JMR Scary Black Fruit Drink FL Bag % Juice 20Pack 6 FL OZ 004300005814</td><td>5</td><td>3008</td><td>0.17</td></tr><tr><td>WISHBONE RUSSIAN SALAD DRESSING PLASTIC BOTTLE 15 OZ - 0041321006351</td><td>5</td><td>3008</td><td>0.17</td></tr><tr><td>KRAFT Barbecue Original 76 OZ 002100067920</td><td>5</td><td>3008</td><td>0.17</td></tr><tr><td>Betty Crocker Hershey's - Milk Chocolate Frosting</td><td>5</td><td>3008</td><td>0.17</td></tr><tr><td>PLANTERS Tropical Fruit & Nut Trail Mix 19 OZ</td><td>5</td><td>3008</td><td>0.17</td></tr><tr><td>OSCAR MAYER 98% Fat-Free Turkey Breast Shaved 9 OZ 068692482085</td><td>5</td><td>3008</td><td>0.17</td></tr><tr><td>CLASSICO Riserva Marinara Pasta Sauce Jar 3Pack 24 OZ 004112963460</td><td>5</td><td>3008</td><td>0.17</td></tr><tr><td>CLASSICO Tomato & Basil Pasta Sauce 44 oz. Jar</td><td>5</td><td>3008</td><td>0.17</td></tr><tr><td>Large Hass Avocados</td><td>5</td><td>3008</td><td>0.17</td></tr><tr><td>JELL-O Dessert Mold Kit, University of Georgia, 12 Ounce</td><td>5</td><td>3008</td><td>0.17</td></tr><tr><td>Cheese Cheddar & Colby - Signature Jack Cheese</td><td>5</td><td>3008</td><td>0.17</td></tr><tr><td>GEVALIA KAFFE Cold Brew Iced Latte Mocha 11fl OZ</td><td>5</td><td>3008</td><td>0.17</td></tr><tr><td>JUST CRACK AN EGG Scramble Kit, Family Size Ultimate Scramble - 2 12oz trays</td><td>5</td><td>3008</td><td>0.17</td></tr><tr><td>Regular Spinach</td><td>4</td><td>3008</td><td>0.13</td></tr><tr><td>Philadelphia Cream Cheese Spread - Original</td><td>4</td><td>3008</td><td>0.13</td></tr><tr><td>Kellogg's Fun Pak - 8 Cereals</td><td>4</td><td>3008</td><td>0.13</td></tr><tr><td>COOL WHIP Original Whipped Topping 16 oz</td><td>4</td><td>3008</td><td>0.13</td></tr><tr><td>Private Selection Angus Beef Choice Tri Tip Steak (1 Steak)</td><td>4</td><td>3008</td><td>0.13</td></tr><tr><td>FRNC ONN FRD RNG CAN 6 OZ</td><td>4</td><td>3008</td><td>0.13</td></tr><tr><td>Hidden Valley Original Ranch Dressing</td><td>4</td><td>3008</td><td>0.13</td></tr><tr><td>REGULAR PEPSI SODA COLA CAN 24 CT 288 OZ</td><td>4</td><td>3008</td><td>0.13</td></tr><tr><td>NBSC OR DBL STF SNDW CRM FLD CHCL CK BOX 5.6 OZ</td><td>4</td><td>3008</td><td>0.13</td></tr><tr><td>Hewlett Packard Multipurpose Paper - Brightness</td><td>4</td><td>3008</td><td>0.13</td></tr><tr><td>Jell-O Mixchief Vanilla Pudding Instant 3.40-oz</td><td>4</td><td>3008</td><td>0.13</td></tr><tr><td>NBSC RTZ CHP SNCK SR CRM ONN TSTD OVN BKD SQR 40 PCT LS FAT BAG 8.1 OZ</td><td>4</td><td>3008</td><td>0.13</td></tr><tr><td>T.G.I. FRIDAY'S(r) Frozen Loaded Baked Potato Cheese Spread DIP BOX 8 OZ 004670408590</td><td>4</td><td>3008</td><td>0.13</td></tr><tr><td>CLASSICO SAUCE</td><td>4</td><td>3008</td><td>0.13</td></tr><tr><td>Lindsay Recloseables - California Ripe Olives - Sliced</td><td>4</td><td>3008</td><td>0.13</td></tr><tr><td>CLASSICO Pasta Sauce Alfredo Asiago Romano Light, 15 Oz</td><td>4</td><td>3008</td><td>0.13</td></tr><tr><td>GEVALIA Cold Brew Iced Coffee Concentrate, House Blend - 32 fl oz</td><td>4</td><td>3008</td><td>0.13</td></tr><tr><td>Knorr Homestyle Stock Beef Beef Concentrated Broth</td><td>4</td><td>3008</td><td>0.13</td></tr><tr><td>Litehouse Sweet Onion With Dijon Dressing & Marinade</td><td>4</td><td>3008</td><td>0.13</td></tr><tr><td>ORBIT BUBBLE MINT DENTAL GUM SUGAR FREE PELLET RP 180 CT - 0022000014252</td><td>4</td><td>3008</td><td>0.13</td></tr><tr><td>Krusteaz Chocolate Chunk Supreme Muffin Mix</td><td>4</td><td>3008</td><td>0.13</td></tr><tr><td>Trolli Sour Crawlers</td><td>4</td><td>3008</td><td>0.13</td></tr><tr><td>Marie's Coleslaw Dressing</td><td>4</td><td>3008</td><td>0.13</td></tr><tr><td>Wonderful Roasted & Salted Pistachios, 16 oz</td><td>4</td><td>3008</td><td>0.13</td></tr><tr><td>Light & Fit Greek Blackberry Yogurt</td><td>4</td><td>3008</td><td>0.13</td></tr><tr><td>FOOD NETWORK KITCHEN INSPIRATIONS Shrimp Scampi Kit 4 OZ</td><td>4</td><td>3008</td><td>0.13</td></tr><tr><td>KRAFT Indulgence Salad Dressing Blue Cheese, 15 Fl Oz</td><td>4</td><td>3008</td><td>0.13</td></tr><tr><td>Light & Fit Vanilla Yogurt</td><td>4</td><td>3008</td><td>0.13</td></tr><tr><td>TASSIMO GEVALIA Bold Majestic Roast Coffee, 12 Count T-Discs</td><td>4</td><td>3008</td><td>0.13</td></tr><tr><td>Borden 1% Chocolate Milk</td><td>4</td><td>3008</td><td>0.13</td></tr><tr><td>DL CTRS DRSN CBG CRT GRN ONN KL RMN SWT ONN SNFL CRNC FRSH SLD KIT BAG 26.4 OZ</td><td>4</td><td>3008</td><td>0.13</td></tr><tr><td>CLMN HCKR SMKD SLCD PRK BCN WRP 12 OZ</td><td>3</td><td>3008</td><td>0.1</td></tr><tr><td>MTN DEW CITRUS CHERRY SODA CITRUS CHERRY CAN 1 CT 12 OZ</td><td>3</td><td>3008</td><td>0.1</td></tr><tr><td>Green Beans</td><td>3</td><td>3008</td><td>0.1</td></tr><tr><td>Kettle Brand Potato Chips - Buffalo Bleu</td><td>3</td><td>3008</td><td>0.1</td></tr><tr><td>Ben & Jerry's Chunky Monkey Non Dairy</td><td>3</td><td>3008</td><td>0.1</td></tr><tr><td>WYLER'S Instant Bouillon Powder - Chicken Flavor 2.00-oz</td><td>3</td><td>3008</td><td>0.1</td></tr><tr><td>KRST PLN PWDR SFD CHCK PRK RDY TO USE CTNG MIX BOX 20 OZ</td><td>3</td><td>3008</td><td>0.1</td></tr><tr><td>JHN SLS FDS CHCK BRST STRP FJT RIB MT FLY CKD KP FRZN ENTR BAG 16 OZ</td><td>3</td><td>3008</td><td>0.1</td></tr><tr><td>Fresh Selections House Salad With Bacon Kit</td><td>3</td><td>3008</td><td>0.1</td></tr><tr><td>Coca-Cola Coke - Classic</td><td>3</td><td>3008</td><td>0.1</td></tr><tr><td>Crest 3D White Professional Effects Whitestrips</td><td>3</td><td>3008</td><td>0.1</td></tr><tr><td>General Mills Cinnamon Toast Crunch Cereal Giant Size </td><td>3</td><td>3008</td><td>0.1</td></tr><tr><td>PLANTERS Deluxe Salted Whole Cashews - 18.25oz</td><td>3</td><td>3008</td><td>0.1</td></tr><tr><td>NBSC RTZ BTR CRCK BOX 13.7 OZ</td><td>3</td><td>3008</td><td>0.1</td></tr><tr><td>Best Foods Real Mayonnaise</td><td>3</td><td>3008</td><td>0.1</td></tr><tr><td>CAFFEINE FREE REGULAR PEPSI SODA COLA CAN IN BOX 12 CT 144 OZ</td><td>3</td><td>3008</td><td>0.1</td></tr><tr><td>Cadbury Easter Mini Eggs Candy</td><td>3</td><td>3008</td><td>0.1</td></tr><tr><td>HWN ONN RNG SWT M GLDN CRSP BAG 4 OZ</td><td>3</td><td>3008</td><td>0.1</td></tr><tr><td>Quaker Life Cinnamon Cereal Giant Size</td><td>3</td><td>3008</td><td>0.1</td></tr><tr><td>BORDEN REFRIGERATED REGULAR MONTEREY JACK CHEESE SLICED REGULAR FAT 6 OZ - 0053000069861</td><td>3</td><td>3008</td><td>0.1</td></tr><tr><td>Green Giant Idaho Russet Potatoes</td><td>3</td><td>3008</td><td>0.1</td></tr><tr><td>Kroger Sour Neon Worms</td><td>3</td><td>3008</td><td>0.1</td></tr><tr><td>General Mills Cereal - Breakfast Pack</td><td>3</td><td>3008</td><td>0.1</td></tr><tr><td>R W KND FML BT VGTB JC BTL RFRG AFTR OPNN 32 FL OZ</td><td>3</td><td>3008</td><td>0.1</td></tr><tr><td>KLRB CRBN WTR CLR FR LMN SPRK CAN 12PK 12 FL OZ</td><td>3</td><td>3008</td><td>0.1</td></tr><tr><td>LUNCHABLES Lunch Combinations Around The World Mexican Style Chicken Tacos 4.2 OZ</td><td>3</td><td>3008</td><td>0.1</td></tr><tr><td>7UP Lemon Lime Soda - 12 Pack Cans</td><td>3</td><td>3008</td><td>0.1</td></tr><tr><td>Diet Coke Diet Coke</td><td>3</td><td>3008</td><td>0.1</td></tr><tr><td>Baby Spinach</td><td>3</td><td>3008</td><td>0.1</td></tr><tr><td>Planters Deluxe Whole Cashews</td><td>3</td><td>3008</td><td>0.1</td></tr><tr><td>PRNG PTT CRSP CHDR CHS FLT CNST 5.5 OZ</td><td>3</td><td>3008</td><td>0.1</td></tr><tr><td>LTHS ITLN HRB FLK FRZ DRD SSNN JAR 0.49 OZ</td><td>3</td><td>3008</td><td>0.1</td></tr><tr><td>Regular Garlic</td><td>3</td><td>3008</td><td>0.1</td></tr><tr><td>CREAM CHEESE</td><td>3</td><td>3008</td><td>0.1</td></tr><tr><td>Jell-O Strawberry Gelatin- Sugar Free</td><td>3</td><td>3008</td><td>0.1</td></tr><tr><td>BANANAS</td><td>2</td><td>3008</td><td>0.07</td></tr><tr><td>OSCAR MAYER Selects Rotisserie Seasoned Chicken Breast, 9 oz</td><td>2</td><td>3008</td><td>0.07</td></tr><tr><td>Jennie-O Oven Ready Skinless Boneless Turkey Breast</td><td>2</td><td>3008</td><td>0.07</td></tr><tr><td>Kerrygold Mild Shredded Cheddar Cheese</td><td>2</td><td>3008</td><td>0.07</td></tr><tr><td>DIET PEPSI SODA COLA CAN IN FRIDGE PCK BX 12 CT 144 OZ</td><td>2</td><td>3008</td><td>0.07</td></tr><tr><td>Mountain Dew Game Fuel Citrus Cherry Soda</td><td>2</td><td>3008</td><td>0.07</td></tr><tr><td>Pepsi Cola</td><td>2</td><td>3008</td><td>0.07</td></tr><tr><td>General Mills Honey Nut Cheerios Gluten Free Cereal </td><td>2</td><td>3008</td><td>0.07</td></tr><tr><td>Fiber One Oats & Chocolate Chewy Bar - 2 Count</td><td>2</td><td>3008</td><td>0.07</td></tr><tr><td>FRSH EXP BBY SPNC SWT RED BBY BTR LTC TNDR RBY RDS PRCT SLD MIX MLDD TRY 10 OZ</td><td>2</td><td>3008</td><td>0.07</td></tr><tr><td>AZTC STNG CRN TRTL 10 CT</td><td>2</td><td>3008</td><td>0.07</td></tr><tr><td>ARWH ASRTD MNTN SPRN WTR BTL 32PK 16.9 FL OZ</td><td>2</td><td>3008</td><td>0.07</td></tr><tr><td>Smithfield Hometown Original Pork Breakfast Sausage</td><td>2</td><td>3008</td><td>0.07</td></tr><tr><td>FINISH JET DRY AUTOMATIC DSHW RNS AGNT 16 FL OZ 005170078826</td><td>2</td><td>3008</td><td>0.07</td></tr><tr><td>Kroger Frozen Ground Beef Burgers 80% Lean 20% Fat</td><td>2</td><td>3008</td><td>0.07</td></tr><tr><td>ORG VEG BRTH</td><td>2</td><td>3008</td><td>0.07</td></tr><tr><td>Coleman All Natural Bacon - Hickory Smoked</td><td>2</td><td>3008</td><td>0.07</td></tr><tr><td>Yoplait Whips! Non-Fat Greek Yogurt - Tropical Mousse, 4 Oz</td><td>2</td><td>3008</td><td>0.07</td></tr><tr><td>Folgers Gourmet Selections Coffee - Classic Roast</td><td>2</td><td>3008</td><td>0.07</td></tr><tr><td>Large Lemons</td><td>2</td><td>3008</td><td>0.07</td></tr><tr><td>OSCAR MAYER LUNCH MEAT</td><td>2</td><td>3008</td><td>0.07</td></tr><tr><td>ShopRite Top Round Roast Beef</td><td>2</td><td>3008</td><td>0.07</td></tr><tr><td>BANZA SPAGH</td><td>2</td><td>3008</td><td>0.07</td></tr><tr><td>NSTL TL HS CHCL CHP BAG KP RFRG CK DGH 30 OZ</td><td>2</td><td>3008</td><td>0.07</td></tr><tr><td>Crispix Cereal</td><td>2</td><td>3008</td><td>0.07</td></tr><tr><td>Litehouse Freeze Dried Italian Blend</td><td>2</td><td>3008</td><td>0.07</td></tr><tr><td>Welch's Juice - Black Cherry Concord Grape</td><td>2</td><td>3008</td><td>0.07</td></tr><tr><td>Advil Liqui-Gels Minis</td><td>2</td><td>3008</td><td>0.07</td></tr><tr><td>Laura's Lean Beef Beef - Ground</td><td>2</td><td>3008</td><td>0.07</td></tr><tr><td>DELIMEX White Meat Chicken Taquitos 66 ct Box</td><td>2</td><td>3008</td><td>0.07</td></tr><tr><td>Cocoa Puffs Ice Cream Scoops Rte Cereal - Medium Size</td><td>2</td><td>3008</td><td>0.07</td></tr><tr><td>Sweet Corn Corn</td><td>2</td><td>3008</td><td>0.07</td></tr><tr><td>Wonderful Roasted & Salted Pistachios, 24 oz</td><td>2</td><td>3008</td><td>0.07</td></tr><tr><td>LNDT EXC DRK 70 PCT CC BAR BOX 3.5 OZ</td><td>2</td><td>3008</td><td>0.07</td></tr><tr><td>Kraft Cheese Grated - Parmesan</td><td>2</td><td>3008</td><td>0.07</td></tr><tr><td>Hawaiian Onion Rings - Sweet Maui Flavored</td><td>2</td><td>3008</td><td>0.07</td></tr><tr><td>PLANTERS Mixed Nuts 56 oz. Canister</td><td>2</td><td>3008</td><td>0.07</td></tr><tr><td>Kraft Singles 2% Milk American Cheese Slices</td><td>2</td><td>3008</td><td>0.07</td></tr><tr><td>WISHBONE SALAD DRESSING</td><td>2</td><td>3008</td><td>0.07</td></tr><tr><td>John Soules Foods Chicken Breast Fajitas with Rib Meat</td><td>2</td><td>3008</td><td>0.07</td></tr><tr><td>Hy-Vee Jellied Cranberry Sauce</td><td>2</td><td>3008</td><td>0.07</td></tr><tr><td>Borden Half & Half</td><td>2</td><td>3008</td><td>0.07</td></tr><tr><td>V8 ORGN 100 PCT VGTB JC FR CNCN VGTB JC BLND BTL RFRG AFTR OPNN 6PK 12 FL OZ</td><td>2</td><td>3008</td><td>0.07</td></tr><tr><td>Heritage Farms Smoked Sausage With Chicken Pork & Beef</td><td>2</td><td>3008</td><td>0.07</td></tr><tr><td>KBLR ZST SLTD SLTN CRCK BAG IN BOX 16 OZ</td><td>2</td><td>3008</td><td>0.07</td></tr><tr><td>BEN & JERRYS FROZEN CHOC FUDGE BROWNIE ICE CREAM REGULAR 16 OZ - 0076840100471</td><td>2</td><td>3008</td><td>0.07</td></tr><tr><td>JN O BNLS TRKY BRST GRVY KP FRZN ENTR WRP IN BAG 44 OZ</td><td>2</td><td>3008</td><td>0.07</td></tr><tr><td>Diet Pepsi Classic Taste Soda - 12 Pack Cans</td><td>2</td><td>3008</td><td>0.07</td></tr><tr><td>JUST CRACK AN EGG SCRAMBLE KIT</td><td>2</td><td>3008</td><td>0.07</td></tr><tr><td>1893 SODA ORIGINAL COLA CAN IN BOX 12 CT 144 OZ</td><td>2</td><td>3008</td><td>0.07</td></tr><tr><td>Hanover Mixed Vegetables</td><td>2</td><td>3008</td><td>0.07</td></tr><tr><td>Hidden Valley Original Ranch Salad Dressing & Seasoning Mix 1 Oz</td><td>2</td><td>3008</td><td>0.07</td></tr><tr><td>Playtex Liners - Pre Sterilized Disposable</td><td>2</td><td>3008</td><td>0.07</td></tr><tr><td>Knorr Homestyle Stock Chicken Concentrated Broth Chicken</td><td>2</td><td>3008</td><td>0.07</td></tr><tr><td>Hy-Vee Black Cherry Lowfat Yogurt</td><td>2</td><td>3008</td><td>0.07</td></tr><tr><td>Collard Greens</td><td>2</td><td>3008</td><td>0.07</td></tr><tr><td>DOVE MEN PLUS CARE DEODORANT AQUA IMPACT 48 HOUR PROTECTION PLASTIC WRAPPED PLASTIC CONTAINER SP 3 OZ</td><td>2</td><td>3008</td><td>0.07</td></tr><tr><td>Hidden Valley Original Ranch Fat Free Salad Dressing 24 Oz</td><td>2</td><td>3008</td><td>0.07</td></tr><tr><td>RSRT BLCK BN CAN 15 OZ</td><td>2</td><td>3008</td><td>0.07</td></tr><tr><td>Loose Beets</td><td>2</td><td>3008</td><td>0.07</td></tr><tr><td>Hy-Vee Unbleached All Purpose Flour</td><td>2</td><td>3008</td><td>0.07</td></tr><tr><td>KNORR PASTA SIDES BUTTER PASTA SIDE DISH POUCH 4.5 OZ</td><td>2</td><td>3008</td><td>0.07</td></tr><tr><td>MRS RNF NCH CHS BLND SHLF STBL SC JAR 16 OZ</td><td>2</td><td>3008</td><td>0.07</td></tr><tr><td>Hy-Vee Steam Quick Super Sweet White Corn</td><td>2</td><td>3008</td><td>0.07</td></tr><tr><td>Pringles Cheddar Cheese Potato Crisps</td><td>2</td><td>3008</td><td>0.07</td></tr><tr><td>Green Onions</td><td>2</td><td>3008</td><td>0.07</td></tr><tr><td>Zucchini Squash</td><td>2</td><td>3008</td><td>0.07</td></tr><tr><td>Fresh Express Sweet Red Butter & Baby Spinach</td><td>2</td><td>3008</td><td>0.07</td></tr><tr><td>DIET PEPSI SODA COLA CAN IN FRIDGE PCK BX 18 CT 216 OZ</td><td>2</td><td>3008</td><td>0.07</td></tr><tr><td>Ben & Jerry's Chocolate Fudge Brownie Ice Cream</td><td>1</td><td>3008</td><td>0.03</td></tr><tr><td>Large Honeycrisp Apples</td><td>1</td><td>3008</td><td>0.03</td></tr><tr><td>Organicville Salad Dressing - French</td><td>1</td><td>3008</td><td>0.03</td></tr><tr><td>ORE-IDA Diced Hash Brown Potatoes 5 lb. Bag</td><td>1</td><td>3008</td><td>0.03</td></tr><tr><td>Food Network Kitchen Inspirations Greek Feta Herb Vinaigrette, 12 oz</td><td>1</td><td>3008</td><td>0.03</td></tr><tr><td>PLANTERS Peanuts Cocoa 4 OZ</td><td>1</td><td>3008</td><td>0.03</td></tr><tr><td>LEA & PERRINS Garlic & Herb Marinade Bottle, 16 oz</td><td>1</td><td>3008</td><td>0.03</td></tr><tr><td>TASSIMO GEVALIA Cappuccino (BONUS 2-pack with 16 total servings)</td><td>1</td><td>3008</td><td>0.03</td></tr><tr><td>Nabisco Soccer Ritz Crackers</td><td>1</td><td>3008</td><td>0.03</td></tr><tr><td>KRAFT Sandwich Spread, 15.0 FL OZ</td><td>1</td><td>3008</td><td>0.03</td></tr><tr><td>Post Honey Bunches Honey Roasted Of Oats Cereal</td><td>1</td><td>3008</td><td>0.03</td></tr><tr><td>Oral-B Glide Pro-Health Deep Clean Floss 40 M</td><td>1</td><td>3008</td><td>0.03</td></tr><tr><td>Nabisco Oreo Double Stuf Sandwich Cookies - Chocolate</td><td>1</td><td>3008</td><td>0.03</td></tr><tr><td>Kool-Aid Watermelon Gelatin Dessert Mix, 3 Oz Box</td><td>1</td><td>3008</td><td>0.03</td></tr><tr><td>HUGGIES SIMPLY CLEAN PREMOISTENED FC HND AND BTM WP FRAGRANCE FREE NONFLUSHABLE BAG 72 COUNT</td><td>1</td><td>3008</td><td>0.03</td></tr><tr><td>ORE-IDA Extra Crispy Fast Food Fries - 26oz</td><td>1</td><td>3008</td><td>0.03</td></tr><tr><td>Jell-O Pudding & Pie Filling Cook & Serve Chocolate, 3.4 Oz</td><td>1</td><td>3008</td><td>0.03</td></tr><tr><td>Stouffer's Classics Green Pepper Steak</td><td>1</td><td>3008</td><td>0.03</td></tr><tr><td>CRYS FRM SMP PTT DCD KP RFRG SPCL BAG 20 OZ</td><td>1</td><td>3008</td><td>0.03</td></tr><tr><td>OSCAR MAYER Natural Applewood Smoked Ham, 14 oz</td><td>1</td><td>3008</td><td>0.03</td></tr><tr><td>PLANTERS Nut-rition Blueberry Nut Protein Mix 9 OZ</td><td>1</td><td>3008</td><td>0.03</td></tr><tr><td>Private Selection Angus Beef Chuck Patties</td><td>1</td><td>3008</td><td>0.03</td></tr><tr><td>Jell-O Instant Pudding & Pie Filling Lemon, 3.4 Oz</td><td>1</td><td>3008</td><td>0.03</td></tr><tr><td>BRSW FIG SHLF STBL PRSR JAR 12 OZ</td><td>1</td><td>3008</td><td>0.03</td></tr><tr><td>BRS HD SHRD RFRG SRKR BAG 16 OZ</td><td>1</td><td>3008</td><td>0.03</td></tr><tr><td>BENIHANA Yakisoba Chicken 26 oz</td><td>1</td><td>3008</td><td>0.03</td></tr><tr><td>TTER BLUE KRAZY KRITTER BLUE 1</td><td>1</td><td>3008</td><td>0.03</td></tr><tr><td>Jell-O Jigglers Star Wars Strawberry/Berry Blue Mold Kit, 6 pc</td><td>1</td><td>3008</td><td>0.03</td></tr><tr><td>AVOCADO</td><td>1</td><td>3008</td><td>0.03</td></tr><tr><td>JELL-O Simply Good Raspberry Lemonade Gelatin Dessert Mix - 3oz</td><td>1</td><td>3008</td><td>0.03</td></tr><tr><td>CLASSICO Traditional Basil Pesto 14OZ 12pack</td><td>1</td><td>3008</td><td>0.03</td></tr><tr><td>Wish-Bone Russian Dressing</td><td>1</td><td>3008</td><td>0.03</td></tr><tr><td>GEVALIA KAFFE Caramel Iced Coffee with Almond Milk, 33.8 fl oz</td><td>1</td><td>3008</td><td>0.03</td></tr><tr><td>HEINZ Cleaning Vinegar, 1 GAL</td><td>1</td><td>3008</td><td>0.03</td></tr><tr><td>KNORR LIPTON ITALIAN SIDES CREAMY GARLIC PASTA SIDE DISH PLASTIC BAG 4.9 OZ - 0041000022903</td><td>1</td><td>3008</td><td>0.03</td></tr><tr><td>OSCAR MAYER Deli Fresh Maple Honey 97% Fat Free Ham, 8 oz</td><td>1</td><td>3008</td><td>0.03</td></tr><tr><td>ORG SALAD</td><td>1</td><td>3008</td><td>0.03</td></tr><tr><td>GEVALIA Brazilian Estates Regular Ground Coffee 8 OZ Bag</td><td>1</td><td>3008</td><td>0.03</td></tr><tr><td>OSCAR MAYER Lower Sodium Bacon 16 oz. Pack</td><td>1</td><td>3008</td><td>0.03</td></tr><tr><td>DORITOS TORTILLA CHIP COOL RANCH BAG 7.625 OZ</td><td>1</td><td>3008</td><td>0.03</td></tr><tr><td>MOMOFUKU SsEm Sauce Squeezable Bottle, Smoky, 12 Ounce</td><td>1</td><td>3008</td><td>0.03</td></tr><tr><td>MS12L CFBRN</td><td>1</td><td>3008</td><td>0.03</td></tr><tr><td>OSCAR MAYER Lunchable Extra Cheesy Pizza 4.2 oz</td><td>1</td><td>3008</td><td>0.03</td></tr><tr><td>KRAFT Velveeta Cheesy Skillets Creamy Beef Stroganoff</td><td>1</td><td>3008</td><td>0.03</td></tr><tr><td>KRAFT Jet-Puffed - Fun Mallows Miniature Marshmallows 10.00-oz</td><td>1</td><td>3008</td><td>0.03</td></tr><tr><td>DOVE MEN PLUS CARE ANTIPERSPIRANT EXTRA FRESH 48 HOUR PROTECTION PLASTIC WRAPPED PLASTIC CONTAINER SP 2.7 OZ</td><td>1</td><td>3008</td><td>0.03</td></tr><tr><td>BREYERS DELIGHTS FROZEN COOKIES N CREAM ICE CREAM REDUCED FAT 16 OZ - 0077567000631</td><td>1</td><td>3008</td><td>0.03</td></tr><tr><td>Old El Paso Mild Chopped Green Chiles, 4.5 Oz</td><td>1</td><td>3008</td><td>0.03</td></tr><tr><td>Large Fuji Apples</td><td>1</td><td>3008</td><td>0.03</td></tr><tr><td>KRAFT Dressing Zesty Lime Vinaigrette, 16.0 FL OZ</td><td>1</td><td>3008</td><td>0.03</td></tr><tr><td>KRAFT Roasted Red Pepper Italian Salad Dressing - 16oz</td><td>1</td><td>3008</td><td>0.03</td></tr><tr><td>MAXWELL HOUSE Indulge Max Coffee Drink Mix, Mocha + Salted Caramel - 12 oz</td><td>1</td><td>3008</td><td>0.03</td></tr><tr><td>KLONDIKE FROZEN ICE CREAM NOVELTY REESES PEANUT BUTTER 12 CT 24 OZ - 0075856000261</td><td>1</td><td>3008</td><td>0.03</td></tr><tr><td>Mayonnaise Extra Heavy 4 Case 1 Gallon</td><td>1</td><td>3008</td><td>0.03</td></tr><tr><td>NEXXUS REPLENISHING HAIR TREATMENT LIQUID RP 33.8 OZ</td><td>1</td><td>3008</td><td>0.03</td></tr><tr><td>GALLO FAMILY VINEYARDS TWIN VALLEY WINE 1PK 1.5L GL BTL</td><td>1</td><td>3008</td><td>0.03</td></tr><tr><td>K9 Crystal Chandelier with 4 Lights in Globe Shape</td><td>1</td><td>3008</td><td>0.03</td></tr><tr><td>Vital Farms Alfresco Pasture Raised Grade A Large Eggs</td><td>1</td><td>3008</td><td>0.03</td></tr><tr><td>MTN DEW REVOLUTION SODA WILDBERRY FRUIT FLVR CANS IN BOX 12 CT 144 OZ</td><td>1</td><td>3008</td><td>0.03</td></tr><tr><td>Yoplait Go-Gurt Yogurt - Strawberry Banana & Raspberry, 16 Pack</td><td>1</td><td>3008</td><td>0.03</td></tr><tr><td>Butternut Squash</td><td>1</td><td>3008</td><td>0.03</td></tr><tr><td>Jell-O Instant Pudding & Pie Filling French Vanilla, 3.4 Oz</td><td>1</td><td>3008</td><td>0.03</td></tr><tr><td>PAL RC CHE</td><td>1</td><td>3008</td><td>0.03</td></tr><tr><td>KLEENEX POCKET RCH IN WRP FACIAL TISSUE 2 PLY 8PK 15 CT</td><td>1</td><td>3008</td><td>0.03</td></tr><tr><td>Nature Valley Almond Butter Chocolate Layered Granola Bar- 5 Count</td><td>1</td><td>3008</td><td>0.03</td></tr><tr><td>O THAT'S GOOD Baked Potato Soup 16 OZ</td><td>1</td><td>3008</td><td>0.03</td></tr><tr><td>OSCAR MAYER Jumbo Angus Beef Uncured Franks, 15.0 OZ</td><td>1</td><td>3008</td><td>0.03</td></tr><tr><td>Classico Pasta Sauce - Light Asiago Romano Alfredo</td><td>1</td><td>3008</td><td>0.03</td></tr><tr><td>V8 100% Vegetable Juice, 12 oz. , 6 pack</td><td>1</td><td>3008</td><td>0.03</td></tr><tr><td>Honey Nut Cheerios Rte Cereal - Family Size, 2 Pack</td><td>1</td><td>3008</td><td>0.03</td></tr><tr><td>COOL WHIP Whipped Topping 4-Pack Original 4-8 OZ Cups</td><td>1</td><td>3008</td><td>0.03</td></tr><tr><td>MARIE CALLENDERS FROZEN CREAMY MUSHROOM CHICKEN POT PIE MICROWAVEABLE 15 OZ - 0021131506941</td><td>1</td><td>3008</td><td>0.03</td></tr><tr><td>DR PEPPER</td><td>1</td><td>3008</td><td>0.03</td></tr><tr><td>LUCKY CHARMS UNICORN CEREAL FAMILY SIZE</td><td>1</td><td>3008</td><td>0.03</td></tr><tr><td>Germ-X Hand Sanitizer - Original</td><td>1</td><td>3008</td><td>0.03</td></tr><tr><td>Crest 3D White Brilliance Vibrant Peppermint Toothpaste</td><td>1</td><td>3008</td><td>0.03</td></tr><tr><td>Kool-Aid Aguas Frescas Mandarina-TANGerine Unsweetened Drink Mix 0.16 oz. Packet</td><td>1</td><td>3008</td><td>0.03</td></tr><tr><td>Organic Bunch Carrots</td><td>1</td><td>3008</td><td>0.03</td></tr><tr><td>spigen tempered glass screen protector [glas.tr ez fit] designed foriphone 12 mini - sensor protection / 2 pack</td><td>1</td><td>3008</td><td>0.03</td></tr><tr><td>ZAMA OEM RB-158 Carb C1Q-S140,A Repair Kit</td><td>1</td><td>3008</td><td>0.03</td></tr><tr><td>Simple Truth Organic Celery Hearts</td><td>1</td><td>3008</td><td>0.03</td></tr><tr><td>PPRD FRM HRB ALL PRPS CB BLND MW STV TOP IN BRD STFN BAG 12 OZ</td><td>1</td><td>3008</td><td>0.03</td></tr><tr><td>KRAFT Trios Snackfulls Monterey Jack Cheeses, Dried Apples, Granola Clusters,2.25 oz</td><td>1</td><td>3008</td><td>0.03</td></tr><tr><td>MIO Liquid Water Enhancer 3-1.62 FL OZ Bottles (Lemonade, Berry Pomegranate, Strawberry Watermelon)</td><td>1</td><td>3008</td><td>0.03</td></tr><tr><td>Organic Flame Red Seedless Grapes</td><td>1</td><td>3008</td><td>0.03</td></tr><tr><td>Stouffer's Side Dish Cheddar Bacon Potatoes</td><td>1</td><td>3008</td><td>0.03</td></tr><tr><td>KRAFT STOVE TOP Stuffing Mix For Chicken 6oz</td><td>1</td><td>3008</td><td>0.03</td></tr><tr><td>Cool Whip Whipped Topping- Original</td><td>1</td><td>3008</td><td>0.03</td></tr><tr><td>KRAFT HEINZ TACO BELL REGULAR EXTRA HOT TACO SAUCE 7.5 OZ - 0021000046901</td><td>1</td><td>3008</td><td>0.03</td></tr><tr><td>GV LINER GRE</td><td>1</td><td>3008</td><td>0.03</td></tr><tr><td>Berry Strawberry Conventional, 16 Ounce</td><td>1</td><td>3008</td><td>0.03</td></tr><tr><td>PLANTERS Deluxe Whole Cashews - Lightly Salted 18.25oz</td><td>1</td><td>3008</td><td>0.03</td></tr><tr><td>Essential Everyday Candle</td><td>1</td><td>3008</td><td>0.03</td></tr><tr><td>MRS RNF MDM PCNT SHLF STBL SC JAR 16 FL OZ</td><td>1</td><td>3008</td><td>0.03</td></tr><tr><td>Hidden Valley Original Ranch Seasoning & Salad Dressing Mix 8 Oz</td><td>1</td><td>3008</td><td>0.03</td></tr><tr><td>OSCAR MAYER Selects Hardwood Smoked Uncured Turkey Sausage, 13 oz</td><td>1</td><td>3008</td><td>0.03</td></tr><tr><td>SMART MADE Thai-Style Chicken & Vegetables 10 oz. Box</td><td>1</td><td>3008</td><td>0.03</td></tr><tr><td>HEINZ Home Style Mushroom Gravy, 12 oz</td><td>1</td><td>3008</td><td>0.03</td></tr><tr><td>BOTA BOX WINE 1PK 3L PL BAG</td><td>1</td><td>3008</td><td>0.03</td></tr><tr><td>Russet Potato</td><td>1</td><td>3008</td><td>0.03</td></tr><tr><td>Braswell's Raspberry Vinaigrette</td><td>1</td><td>3008</td><td>0.03</td></tr><tr><td>NANCY'S Jalapeno Petite Stuffed Bagels 16.00-oz</td><td>1</td><td>3008</td><td>0.03</td></tr><tr><td>Orbit Bubblemint Gum</td><td>1</td><td>3008</td><td>0.03</td></tr><tr><td>SMART ONES Flavorful Asian Inspirations Orange Sesame Chicken 9 oz. Box</td><td>1</td><td>3008</td><td>0.03</td></tr><tr><td>GV PWD 2LB</td><td>1</td><td>3008</td><td>0.03</td></tr><tr><td>COTTONELLE CLEAN CARE MEGA ROLL 1 PLY 340 COTTON TOILET TISSUE 12 CT</td><td>1</td><td>3008</td><td>0.03</td></tr><tr><td>Hidden Valley Original Ranch Fat Free Salad Dressing 16 Oz</td><td>1</td><td>3008</td><td>0.03</td></tr><tr><td>FLRD NTR APL PRMM 100 PCT PR CTD CRDB RFRG NT FR CNCN 59 FL OZ</td><td>1</td><td>3008</td><td>0.03</td></tr><tr><td>Stouffer's Family Size Stuffed Peppers</td><td>1</td><td>3008</td><td>0.03</td></tr><tr><td>Knorr Beef Flavor Bouillon, 35.3 oz</td><td>1</td><td>3008</td><td>0.03</td></tr><tr><td>Dole Chopped Sunflower Crunch Salad Kit</td><td>1</td><td>3008</td><td>0.03</td></tr><tr><td>GEVALIA KAFFE Caramel Macchiato Espresso Coffee K-Cup pods 9ct</td><td>1</td><td>3008</td><td>0.03</td></tr><tr><td>OSCAR MAYER LUNCHABLES LUNCHABLES Chicken Sliders 3.00-oz</td><td>1</td><td>3008</td><td>0.03</td></tr><tr><td>GENERAL FOODS INTERNATIONAL Vanilla Creme, No Caffeine, 9-Ounce Units (Pack of 6)</td><td>1</td><td>3008</td><td>0.03</td></tr><tr><td>Thomas' Breakfast Bread - Swirl Cinnamon Raisin</td><td>1</td><td>3008</td><td>0.03</td></tr><tr><td>OSCAR MAYER - Spicy Monterey Jack Beef Franks 12.00-oz</td><td>1</td><td>3008</td><td>0.03</td></tr><tr><td>Honey Nut Cheerios Rte Cereal - Family Size</td><td>1</td><td>3008</td><td>0.03</td></tr><tr><td>spigen thin fit designed for iphone 12 mini case (2020) - black</td><td>1</td><td>3008</td><td>0.03</td></tr><tr><td>GV ALM UNORG</td><td>1</td><td>3008</td><td>0.03</td></tr><tr><td>MCRM GRL MTS ALL PRPS TMT GRLC BSL PWDR MRND ENVL 0.87 OZ</td><td>1</td><td>3008</td><td>0.03</td></tr><tr><td>Fresh Step Scented Non</td><td>1</td><td>3008</td><td>0.03</td></tr><tr><td>Crystal Light On-the-Go Raspberry Green Tea Drink Mix 10 ct Box</td><td>1</td><td>3008</td><td>0.03</td></tr><tr><td>OSCAR MAYER Black Forest Chopped Ham Lunchmeat, 16 oz</td><td>1</td><td>3008</td><td>0.03</td></tr><tr><td>Banza Spaghetti, Chickpea Pasta, High Fiber & High Protein Pasta, 8 Oz</td><td>1</td><td>3008</td><td>0.03</td></tr><tr><td>KNORR ASSORTED PASTA SIDE DISH POUCH IN CARDBORD BX 34.4 OZ</td><td>1</td><td>3008</td><td>0.03</td></tr><tr><td>Simple Truth Organic Green Beans</td><td>1</td><td>3008</td><td>0.03</td></tr><tr><td>ORG BELL 2CT</td><td>1</td><td>3008</td><td>0.03</td></tr><tr><td>Crystal Light Pure Lemonade 2.17-oz</td><td>1</td><td>3008</td><td>0.03</td></tr><tr><td>OSCAR MAYER 98% Fat-Free Turkey Breast Shaved 9 OZ 068692456024</td><td>1</td><td>3008</td><td>0.03</td></tr><tr><td>JELL-O Jigglers Ohio State University Mold Kit with Strawberry Flavor JELL-O</td><td>1</td><td>3008</td><td>0.03</td></tr><tr><td>MRTN GLD MDL APL GLS FRSH SQZD 10 FL OZ</td><td>1</td><td>3008</td><td>0.03</td></tr><tr><td>Kool-Aid: Soft Drink Mix Singles Grape Unsweetened, 6.6 Oz (Innerpack of 12)</td><td>1</td><td>3008</td><td>0.03</td></tr><tr><td>CARESS FINE FRAGRANCE LOVE FOREVER WASH SOAP PLASTIC BOTTLE RP 3 OZ</td><td>1</td><td>3008</td><td>0.03</td></tr><tr><td>MCRM GNGR GRND SSNN JAR 0.7 OZ</td><td>1</td><td>3008</td><td>0.03</td></tr><tr><td>PLANTERS Nut Select Cashews Almonds Pecans, 8.25 Ounce</td><td>1</td><td>3008</td><td>0.03</td></tr><tr><td>PPR GRNDR</td><td>1</td><td>3008</td><td>0.03</td></tr><tr><td>CLEAR BLUE</td><td>1</td><td>3008</td><td>0.03</td></tr><tr><td>Old El Paso Mild Enchilada Sauce, 28 Oz</td><td>1</td><td>3008</td><td>0.03</td></tr><tr><td>Shallots Onions</td><td>1</td><td>3008</td><td>0.03</td></tr><tr><td>Goodbelly Probiotic Bar Honey Almond Butter Bar - 1 Count</td><td>1</td><td>3008</td><td>0.03</td></tr><tr><td>Banana Nut Cheerios Rte Cereal - Family Size</td><td>1</td><td>3008</td><td>0.03</td></tr><tr><td>Carrot Sticks Carrots</td><td>1</td><td>3008</td><td>0.03</td></tr><tr><td>CAPRI SUN Juice Drink, Variety Pack - 40 pack, 6 fl oz pouches</td><td>1</td><td>3008</td><td>0.03</td></tr><tr><td>DORITOS TORTILLA CHIP RANCHERITOS BAG 2.75 OZ</td><td>1</td><td>3008</td><td>0.03</td></tr><tr><td>Deli Chicken Breast</td><td>1</td><td>3008</td><td>0.03</td></tr><tr><td>Lindt Gold Bunnies - Chocolate</td><td>1</td><td>3008</td><td>0.03</td></tr><tr><td>VIVA PAPER TOWEL 1 PACK 2 COUNT 83 SHEET</td><td>1</td><td>3008</td><td>0.03</td></tr><tr><td>Betty Crocker Fruit Gushers - Strawberry Splash & Tropical, 16 Oz</td><td>1</td><td>3008</td><td>0.03</td></tr><tr><td>PLANTERS Unsalted Premium Cashews, 33 Ounce</td><td>1</td><td>3008</td><td>0.03</td></tr><tr><td>OSCAR MAYER Selects Slow Roast Turkey 16OZ Tray</td><td>1</td><td>3008</td><td>0.03</td></tr><tr><td>TIC TAC WNTR DXTR SGR PC BRTH SWTN CNST BP 6PK 0.5 OZ</td><td>1</td><td>3008</td><td>0.03</td></tr><tr><td>Philadelphia Original Cream Cheese Spread 2-16 OZ</td><td>1</td><td>3008</td><td>0.03</td></tr><tr><td>FAGE YOG</td><td>1</td><td>3008</td><td>0.03</td></tr><tr><td>FRZ ORGBLUE</td><td>1</td><td>3008</td><td>0.03</td></tr><tr><td>Simple Truth Organic Fat Free Vegetable Broth</td><td>1</td><td>3008</td><td>0.03</td></tr><tr><td>OSCAR MAYER Natural Applewood Smoked Uncured Ham 8 oz</td><td>1</td><td>3008</td><td>0.03</td></tr><tr><td>KMPS SLC FRM CWS NOT TRTD WTH RBST PSTR HMGN DRY RFRG MLK JUG 64 FL OZ</td><td>1</td><td>3008</td><td>0.03</td></tr><tr><td>Old El Paso Restaurant Grande Shells, 6 Count</td><td>1</td><td>3008</td><td>0.03</td></tr><tr><td>CHQT BNN SNGL FRT 1 CT</td><td>1</td><td>3008</td><td>0.03</td></tr><tr><td>Famous Dave's Award Winning Rib Rub</td><td>1</td><td>3008</td><td>0.03</td></tr><tr><td>Nestle Chocolate Chip Cookie Dough</td><td>1</td><td>3008</td><td>0.03</td></tr><tr><td>OSCAR MAYER 97% Fat Free Ham & Turkey Sub Kit, 28 oz</td><td>1</td><td>3008</td><td>0.03</td></tr><tr><td>Old El Paso Taco Original Seasoning Mix, 1 Oz</td><td>1</td><td>3008</td><td>0.03</td></tr><tr><td>Good Seasons Balsamic Dressing - 0.7oz</td><td>1</td><td>3008</td><td>0.03</td></tr><tr><td>Arnold Organic 22 Grains and Seeds Bread, Non-GMO Organic Bread, 27 oz</td><td>1</td><td>3008</td><td>0.03</td></tr><tr><td>SUAVE KIDS PURELY AWESOME TEARLESS SHAMPOO AND CONDITIONER IN ONE LIQUID PLASTIC BOTTLE RP 12 OZ</td><td>1</td><td>3008</td><td>0.03</td></tr><tr><td>Drumstick Vanilla Rte Cereal - 17.5Oz</td><td>1</td><td>3008</td><td>0.03</td></tr><tr><td>PHILADELPHIA Cream Cheese Dips Southwest Style Black Bean & Corn 10 OZ</td><td>1</td><td>3008</td><td>0.03</td></tr><tr><td>KRAFT BACK TO NATURE CHEDDAR CHEESE SHELL MACARONI AND CHEESE MIX 6 OZ - 0759283400081</td><td>1</td><td>3008</td><td>0.03</td></tr><tr><td>Kraft Indulgence Creamy Blue Cheese Dressing</td><td>1</td><td>3008</td><td>0.03</td></tr><tr><td>TASSIMO French Vanilla T-Discs, 80ct</td><td>1</td><td>3008</td><td>0.03</td></tr><tr><td>GV WORCESTE</td><td>1</td><td>3008</td><td>0.03</td></tr><tr><td>JELL-O Play Ocean Cutters Kit Strawberry 2 - 3 OZ Boxes</td><td>1</td><td>3008</td><td>0.03</td></tr><tr><td>HUGGIES SPECIAL DELIVERY NEWBORN DISPOSABLE DIAPER BOX 66 CT</td><td>1</td><td>3008</td><td>0.03</td></tr><tr><td>DOVE MEN PLUS CARE SOAP 4 CT AQUA IMPACT SP 16 OZ</td><td>1</td><td>3008</td><td>0.03</td></tr><tr><td>VASELINE COCOA BUTTER SKIN MOISTURIZER LOTION CONDITIONING RP 34.5 OZ</td><td>1</td><td>3008</td><td>0.03</td></tr><tr><td>CHEESE PIMTO</td><td>1</td><td>3008</td><td>0.03</td></tr><tr><td>PLANTERS Peanut, Cashew & Almond Blend, 5.75 oz</td><td>1</td><td>3008</td><td>0.03</td></tr><tr><td>That's Smart! Chili Powder</td><td>1</td><td>3008</td><td>0.03</td></tr><tr><td>P3 Peanuts Beef Jerky Sunflower Kernels Portable Protein Pack - 5.4oz - 3ct</td><td>1</td><td>3008</td><td>0.03</td></tr><tr><td>Kemps Chocolate Chip Ice Cream Sandwiches</td><td>1</td><td>3008</td><td>0.03</td></tr><tr><td>Yoplait Fiber One Non-Fat Yogurt - Peach & Vanilla, 6 Pack</td><td>1</td><td>3008</td><td>0.03</td></tr><tr><td>KRAFT Original Barbecue Sauce 40 OZ Bottle</td><td>1</td><td>3008</td><td>0.03</td></tr><tr><td>DOVE MEN PLUS CARE AQUA IMPACT WASH SOAP TOTTLE SP 19.8 OZ</td><td>1</td><td>3008</td><td>0.03</td></tr><tr><td>PHILADELPHIA Snack BAR Strawberry CheeseC 1 CT 002100000136</td><td>1</td><td>3008</td><td>0.03</td></tr><tr><td>Totino's Triple Meat Party Pizza, 10.5 Oz</td><td>1</td><td>3008</td><td>0.03</td></tr><tr><td>ORE-IDA Golden Fries - 32oz</td><td>1</td><td>3008</td><td>0.03</td></tr><tr><td>OSCAR MAYER P3 Slow Roasted Chicken Breast Mild Cheddar Lunch Tray 5Pack 2 OZ 004470007530</td><td>1</td><td>3008</td><td>0.03</td></tr><tr><td>TIGI BED HEAD B FOR MEN CLEAN UP CLEANSING SHAMPOO LIQUID PLASTIC TUBE RP 8.45 OZ - 0822142991521</td><td>1</td><td>3008</td><td>0.03</td></tr><tr><td>MAXWELL HOUSE Orange International Cafe Beverage Mix, 9.3 OZ</td><td>1</td><td>3008</td><td>0.03</td></tr><tr><td>PLANTERS Mixed Nuts, 15oz Can</td><td>1</td><td>3008</td><td>0.03</td></tr><tr><td>DEGREE CLINICAL PROTECTION MOTION SENSE ANTIPERSPIRANT DEODORANT REGULAR PLASTIC CONTAINER IN BOX 1.7 OZ</td><td>1</td><td>3008</td><td>0.03</td></tr><tr><td>Oscar Mayer Lunchables Mexican Style Chicken Tacos with Tortillas Cheese Shreds & Churro Cookies</td><td>1</td><td>3008</td><td>0.03</td></tr><tr><td>CORN NUTS Chile Picante con Limon Crunchy Corn Kernels 1.7 OZ Bag</td><td>1</td><td>3008</td><td>0.03</td></tr><tr><td>Private Selection Biscuits, Petit Beurre, Dark Chocolate</td><td>1</td><td>3008</td><td>0.03</td></tr><tr><td>TANG Drink Mix 6 QT GV Pineapple Concentrate Powder Sugar Cold Water 18 OZ 007022100669</td><td>1</td><td>3008</td><td>0.03</td></tr><tr><td>WET ONE FRE</td><td>1</td><td>3008</td><td>0.03</td></tr><tr><td>CAPRI SUN Organic Strawberry Lemonade - 10pk/6 fl oz</td><td>1</td><td>3008</td><td>0.03</td></tr><tr><td>MRS CBS CHS CRSP PRMS 100 PCT BKD RND GRT ON SP GRT ON PST GRT ON SLD 1.98 OZ</td><td>1</td><td>3008</td><td>0.03</td></tr><tr><td>Cookie Crisp Rte Cereal - Family Size</td><td>1</td><td>3008</td><td>0.03</td></tr><tr><td>RITZ Nabisco Sour Cream & Onion Toasted Chips</td><td>1</td><td>3008</td><td>0.03</td></tr><tr><td>KRAFT Brand Dressing Pourable Blue Cheese Dressing, 128 Ounce</td><td>1</td><td>3008</td><td>0.03</td></tr><tr><td>MRS CBS SW TRTL STRP DRY SLD TPNG BAG 4 OZ</td><td>1</td><td>3008</td><td>0.03</td></tr><tr><td>FRTN RFRG FLT YKSB BAG 7 OZ</td><td>1</td><td>3008</td><td>0.03</td></tr><tr><td>OLD EL PASO SAUCE</td><td>1</td><td>3008</td><td>0.03</td></tr><tr><td>RITZ Salsa Verde Corn Toasted Chips</td><td>1</td><td>3008</td><td>0.03</td></tr><tr><td>PURE LEAF CHAMOMILE HERBAL TEA .74 OZ</td><td>1</td><td>3008</td><td>0.03</td></tr><tr><td>Trix & Cocoa Puffs & Lucky Charms Rte Cereal - 38.5Oz</td><td>1</td><td>3008</td><td>0.03</td></tr><tr><td>PLANTERS Deluxe Mixed Nuts With Sea Salt - 34oz</td><td>1</td><td>3008</td><td>0.03</td></tr><tr><td>PRGR PNK LMN PPR ALL PRPS BRD CRMB BOX 8 OZ</td><td>1</td><td>3008</td><td>0.03</td></tr><tr><td>JN O TRKY GRND 7 PCT FAT 93 PCT LN LN KP RFRG TRY IN SLV 16 OZ</td><td>1</td><td>3008</td><td>0.03</td></tr><tr><td>ORG CARROTS</td><td>1</td><td>3008</td><td>0.03</td></tr><tr><td>Fage 0% Peach Greek Yogurt</td><td>1</td><td>3008</td><td>0.03</td></tr><tr><td>Renuzit Air Freshener - Pearl Scents - Sparkling Rain</td><td>1</td><td>3008</td><td>0.03</td></tr><tr><td>CAPRI SUN Fruit Refreshers Orange Pineapple TANGo - 10pk/6 fl oz Pouch</td><td>1</td><td>3008</td><td>0.03</td></tr><tr><td>YUMMALLO RAINBOW MARSHMALLOW 6.5 OZ - 0857484001151</td><td>1</td><td>3008</td><td>0.03</td></tr><tr><td>CRYSTAL LIGHT Peach Ice Tea Mix 98% Caffeine-Free 20 Serving TB Envelope In Box Powder 0.7 OZ 004300097163</td><td>1</td><td>3008</td><td>0.03</td></tr><tr><td>COTTONELLE ULTRA COMFORT CARE MEGA ROLL 2 PLY 284 COTTON TOILET TISSUE 12 CT</td><td>1</td><td>3008</td><td>0.03</td></tr><tr><td>FRZ.ORGBLUE</td><td>1</td><td>3008</td><td>0.03</td></tr><tr><td>Loose Carrots</td><td>1</td><td>3008</td><td>0.03</td></tr><tr><td>Taco Bell Home Originals Components</td><td>1</td><td>3008</td><td>0.03</td></tr><tr><td>Hy-Vee Santa Fe Style Tortilla Strips</td><td>1</td><td>3008</td><td>0.03</td></tr><tr><td>CAPRI SUN Roarin' Waters Fruit Punch Beverage, 10 count, 60 Fl Oz</td><td>1</td><td>3008</td><td>0.03</td></tr><tr><td>OSCAR MAYER Fun Pack Pepperoni Kabobble 8 oz</td><td>1</td><td>3008</td><td>0.03</td></tr><tr><td>Kitchen Basics Organic Free-Range Chicken Stock for Cooking</td><td>1</td><td>3008</td><td>0.03</td></tr><tr><td>Boca Essentials Breakfast Scramble Burgers</td><td>1</td><td>3008</td><td>0.03</td></tr><tr><td>Cadbury Dairy Milk Caramello Bar</td><td>1</td><td>3008</td><td>0.03</td></tr><tr><td>KRAFT Salad Dressing Thousand Island, 8 fl oz</td><td>1</td><td>3008</td><td>0.03</td></tr><tr><td>Large Gala Apples</td><td>1</td><td>3008</td><td>0.03</td></tr><tr><td>OSCAR MAYER Cold Cuts Beef Bologna 2-16OZ Packs</td><td>1</td><td>3008</td><td>0.03</td></tr><tr><td>Bull's Eye Brewer's Best Barbecue Sauce with Guinness 18.00-oz</td><td>1</td><td>3008</td><td>0.03</td></tr><tr><td>ONIONS</td><td>1</td><td>3008</td><td>0.03</td></tr><tr><td>Arrowhead Mountain Spring Water, 16.9 Fl Oz, 32 Count</td><td>1</td><td>3008</td><td>0.03</td></tr><tr><td>CORN NUTS Ranch - 1.7 oz. bag, 216 per case</td><td>1</td><td>3008</td><td>0.03</td></tr><tr><td>SMART MADE Black Beans & Cheese over Cilantro-Lime Rice</td><td>1</td><td>3008</td><td>0.03</td></tr><tr><td>GERBER GRADUATES LIL ENTREES MEALS MEALS NON - ORGANIC SRSTINTRKMTSCWGYLWBN TRAY 1 PK - 00011500005608</td><td>1</td><td>3008</td><td>0.03</td></tr><tr><td>-Cheddar</td><td>1</td><td>3008</td><td>0.03</td></tr><tr><td>T.G.I. FRIDAY'S(r) Loaded Cheddar & Bacon Potato Skins 32 OZ Box</td><td>1</td><td>3008</td><td>0.03</td></tr><tr><td>GEVALIA Espresso Roast Regular Whole Bean Coffee 7 OZ Bag</td><td>1</td><td>3008</td><td>0.03</td></tr><tr><td>CLASSICO Signature Recipes Traditional Basil Pesto Sauce & Spread, 8.1 Oz</td><td>1</td><td>3008</td><td>0.03</td></tr><tr><td>KRAFT Catalina Dressing 24.00-fl oz</td><td>1</td><td>3008</td><td>0.03</td></tr><tr><td>BAKER'S Pure Cocoa Powder 8 OZ Tin</td><td>1</td><td>3008</td><td>0.03</td></tr><tr><td>OSCAR MAYER LUNCHABLES with Smoothie Deep Dish Pizza with Pepperoni Lunch Combinations, 4.0 oz</td><td>1</td><td>3008</td><td>0.03</td></tr><tr><td>MAXWELL HOUSE International Cafe Flavor Instant Coffee Caffeine Dutch Chocolate Mint Bag 8.5 OZ 004300000017</td><td>1</td><td>3008</td><td>0.03</td></tr><tr><td>Simple Truth Top Round Roast Beef</td><td>1</td><td>3008</td><td>0.03</td></tr><tr><td>MAGNUM FROZEN ICE CREAM NOVELTY VNL BN S SLT CRM SWR 9 CT 30.42 OZ</td><td>1</td><td>3008</td><td>0.03</td></tr><tr><td>C & H 454 SRVG WHT CN GRNL SGR BAG 4 LB</td><td>1</td><td>3008</td><td>0.03</td></tr><tr><td>R.W. Knudsen Organic Beet Juice</td><td>1</td><td>3008</td><td>0.03</td></tr></tbody></table></div>"
      ]
     },
     "metadata": {
      "application/vnd.databricks.v1+output": {
       "addedWidgets": {},
       "aggData": [],
       "aggError": "",
       "aggOverflow": false,
       "aggSchema": [],
       "aggSeriesLimitReached": false,
       "aggType": "",
       "arguments": {},
       "columnCustomDisplayInfos": {},
       "data": [
        [
         null,
         231,
         3008,
         7.68
        ],
        [
         "ITEM NOT FOUND",
         173,
         3008,
         5.75
        ],
        [
         "HUGGIES SIMPLY CLEAN PREMOISTENED WIPE FRAGRANCE FREE BAG 216 COUNT",
         92,
         3008,
         3.06
        ],
        [
         "MILLER LITE 24 PACK 12OZ CAN",
         90,
         3008,
         2.99
        ],
        [
         "KLEENEX POP UP RECTANGLE BOX FACIAL TISSUE 2 PLY 8PK 160 CT",
         87,
         3008,
         2.89
        ],
        [
         "REGULAR PEPSI SODA COLA CAN 12 CT 144 OZ",
         76,
         3008,
         2.53
        ],
        [
         "Ben & Jerry's Chunky Monkey Non-Dairy Frozen Dessert 16 oz",
         60,
         3008,
         1.99
        ],
        [
         "KNORR RICE SIDES CREAMY CHICKEN REGULAR RICE AND PASTA MIX LONG GRAIN 5.7 OZ - 0041000022624",
         54,
         3008,
         1.8
        ],
        [
         "BEN & JERRYS FROZEN CHUNKY MONKEY ICE CREAM REGULAR 16 OZ - 0076840100351",
         53,
         3008,
         1.76
        ],
        [
         "DORITOS TORTILLA CHIP NACHO CHEESE BAG 7.625 OZ",
         45,
         3008,
         1.5
        ],
        [
         "BEN AND JERRYS ICE CREAM",
         41,
         3008,
         1.36
        ],
        [
         "mueller austria hypergrind precision electric spice/coffee grinder millwith large grinding capacity and hd motor also for spices, herbs, nuts,grains, white",
         40,
         3008,
         1.33
        ],
        [
         "thindust summer face mask - sun protection neck gaiter for outdooractivities",
         40,
         3008,
         1.33
        ],
        [
         "Kraft Macaroni & Cheese Dinner - The Cheesiest Original",
         32,
         3008,
         1.06
        ],
        [
         "DORITOS TORTILLA CHIP NACHO CHEESE BAG 14.5 OZ",
         30,
         3008,
         1.0
        ],
        [
         "NTRS PTH FLX N OATS INST OAT ORGN BOX HOT CRL 14 OZ",
         28,
         3008,
         0.93
        ],
        [
         "Laura's Lean Beef Ground Beef 93% Lean & Natural",
         25,
         3008,
         0.83
        ],
        [
         "JST BR BNLS HND TRMD MNML PRCS SKNL CHCK WHL BRST FLT RFRG MLDD TRY 14 OZ",
         25,
         3008,
         0.83
        ],
        [
         "Hillshire Farm - Turkey Polska Kielbasa 13.00-oz",
         24,
         3008,
         0.8
        ],
        [
         "Borden 2% Reduced Fat Milk",
         24,
         3008,
         0.8
        ],
        [
         "Light & Fit Greek Crunch Key Lime Pie Yogurt",
         22,
         3008,
         0.73
        ],
        [
         "Hy-Vee Unsalted Sweet Butter Quarters",
         18,
         3008,
         0.6
        ],
        [
         "Hy-Vee Kettle Cooked Pub Mustard Flavored Potato Chips",
         18,
         3008,
         0.6
        ],
        [
         "KNORR SIDES",
         17,
         3008,
         0.57
        ],
        [
         "MARIE CALLENDER'S POT PIE MULTI SERVE",
         17,
         3008,
         0.57
        ],
        [
         "CJN INJ & LSN GLD GRLN KIT BOX 1 CT",
         15,
         3008,
         0.5
        ],
        [
         "Other Sweet Onions",
         15,
         3008,
         0.5
        ],
        [
         "Krazy Glue Sticks",
         15,
         3008,
         0.5
        ],
        [
         "DL PNPL ORNG BNN FRZN CNCN CAN 48 OZ JC BLND 12 FL OZ",
         14,
         3008,
         0.47
        ],
        [
         "DOLE ORANGE PEACH MANGO JUICE VITAMIN C ENRICHED FROM CONCNTRT PSTRZD CARTON 1 CT 59 OZ",
         14,
         3008,
         0.47
        ],
        [
         "Golden Sweet Potato",
         14,
         3008,
         0.47
        ],
        [
         "KRAFT Cheese - Pasteurized Prepared American Singles",
         13,
         3008,
         0.43
        ],
        [
         "Lipton Recipe Secrets Beefy Onion Recipe Soup & Dip Mix, 2 count, 2.2 oz",
         13,
         3008,
         0.43
        ],
        [
         "CLB SNP CRSP BLCK PPR BKD 40 PCT LS FAT HRVS SNPS BAG 3.3 OZ",
         13,
         3008,
         0.43
        ],
        [
         "Broccoli",
         12,
         3008,
         0.4
        ],
        [
         "Green Cabbage",
         12,
         3008,
         0.4
        ],
        [
         "Rice-A-Roni Rice Pilaf",
         12,
         3008,
         0.4
        ],
        [
         "DORITOS TORTILLA CHIP SPICY SWEET CHILI REDUCED FAT BAG 1 OZ",
         12,
         3008,
         0.4
        ],
        [
         "DL CRT ICBR PEA PD RDSH RD CBG RMN LTC VRY VG THRG WSHD LTC SLD BAG 11.9 OZ",
         12,
         3008,
         0.4
        ],
        [
         "EL MNT MLD BF BN GRN CHL BRT KP FRZN BAG 32 OZ",
         12,
         3008,
         0.4
        ],
        [
         "YUBAN Traditional Medium Roast Ground Coffee 12 oz. Canister",
         11,
         3008,
         0.37
        ],
        [
         "Folgers Classic Roast Medium Caffeinated Coffee",
         11,
         3008,
         0.37
        ],
        [
         "Bigelow Green Tea Bags with Lemon",
         11,
         3008,
         0.37
        ],
        [
         "CNS CLSC THN SPR BLCK OLV GRN PPR ONN WHL MLK MZRL PRMS RMN 25.49 OZ",
         11,
         3008,
         0.37
        ],
        [
         "WSTMP SS CTSNK RPGBG CHKN 6.3OZ",
         11,
         3008,
         0.37
        ],
        [
         "Van de Kamp's - Crispy Fish Fillets 19.45-oz",
         11,
         3008,
         0.37
        ],
        [
         "Hy-Vee Medium Cheddar Cheese Brick",
         11,
         3008,
         0.37
        ],
        [
         "Kashi Granola Bars - Chewy Honey Almond Flax",
         11,
         3008,
         0.37
        ],
        [
         "CHCK SEA SRDN WHL WTR CAN IN BOX 3.75 OZ",
         11,
         3008,
         0.37
        ],
        [
         "HMPL CRD PPR SLCD PRK BCN WRP 20 OZ",
         11,
         3008,
         0.37
        ],
        [
         "Tic Tac Cool Watermelon Gum",
         11,
         3008,
         0.37
        ],
        [
         "Large Yellow Onions",
         11,
         3008,
         0.37
        ],
        [
         "HTCH JLPN PPR SLCD JAR SLCT 12 OZ",
         11,
         3008,
         0.37
        ],
        [
         "Hy-Vee Orange Cream Lowfat Yogurt",
         11,
         3008,
         0.37
        ],
        [
         "ORE-IDA Hash Browns 27.00-oz",
         10,
         3008,
         0.33
        ],
        [
         "BST FDS SPRD MYNS JAR 30 FL OZ",
         10,
         3008,
         0.33
        ],
        [
         "Hy-Vee Seasoned Croutons",
         10,
         3008,
         0.33
        ],
        [
         "Hy-Vee 4% Large Curd Cottage Cheese",
         10,
         3008,
         0.33
        ],
        [
         "SUAVE PROFESSIONALS MOISTURIZING SHAMPOO LIQUID PLASTIC BOTTLE RP 12.6 OZ - 0079400066612",
         10,
         3008,
         0.33
        ],
        [
         "CAPRI SUN Roarin' Waters Tropical Fruit Juice Drinks 10 ct",
         10,
         3008,
         0.33
        ],
        [
         "Flame Red Seedless Grapes",
         10,
         3008,
         0.33
        ],
        [
         "HEINZ Homestyle Gravy Roasted Turkey Pack of 3",
         10,
         3008,
         0.33
        ],
        [
         "AMRC BTY FLT ANGL HR 24 OZ",
         10,
         3008,
         0.33
        ],
        [
         "Hy-Vee Cage Free Omega-3 Grade A Large Brown Eggs",
         10,
         3008,
         0.33
        ],
        [
         "KKMN SWT CHL RFRG AFTR OPNN SC BTL 13 OZ",
         10,
         3008,
         0.33
        ],
        [
         "DEVOUR Bacon Topped Meatloaf with Spicy Ketchup 10.00-oz",
         10,
         3008,
         0.33
        ],
        [
         "Saint Louis Hamburger Pickle Dills, 10 Can - 6 Case",
         10,
         3008,
         0.33
        ],
        [
         "HEINZ SWEET SWEET RELISH 12.7 OZ - 0013000006184",
         10,
         3008,
         0.33
        ],
        [
         "Bigelow Tea Bags - Earl Grey",
         9,
         3008,
         0.3
        ],
        [
         "Hy-Vee Clover Honey Bear",
         9,
         3008,
         0.3
        ],
        [
         "JIF CRMY PNT BTR JAR 40 OZ",
         9,
         3008,
         0.3
        ],
        [
         "Jell-O Make Your Own Mixchief Gelatin Juice 0.25-oz",
         9,
         3008,
         0.3
        ],
        [
         "Bush's Best Chili Beans - Kidney Beans in Mild Chili Sauce",
         9,
         3008,
         0.3
        ],
        [
         "OSCAR MAYER Carving Board Oven Roasted Turkey Breast, 7.5 oz",
         9,
         3008,
         0.3
        ],
        [
         "KRAFT Barbecue Roasted Garlic 18 OZ 002100067835",
         9,
         3008,
         0.3
        ],
        [
         "BREAKSTONE'S Cucumber Onion DRY Tub 8 OZ",
         9,
         3008,
         0.3
        ],
        [
         "MAXWELL HOUSE Ground Decaf Original 58.6oz",
         9,
         3008,
         0.3
        ],
        [
         "Folgers Classic Roast Medium Roast Ground Coffee",
         9,
         3008,
         0.3
        ],
        [
         "PLANTERSe Cashew Halves & Pieces - 46 oz.",
         9,
         3008,
         0.3
        ],
        [
         "Hy-Vee Diced Cooked Ham",
         9,
         3008,
         0.3
        ],
        [
         "KRAFT HEINZ TACO BELL HOME ORIGINALS JALAPENO TACO SAUCE 8 OZ - 0021000032771",
         9,
         3008,
         0.3
        ],
        [
         "Hy-Vee Lemon Flavored Lowfat Yogurt",
         8,
         3008,
         0.27
        ],
        [
         "Velveeta Shells and Cheese",
         8,
         3008,
         0.27
        ],
        [
         "General Mills Breakfast Packs Rte Cereal - 9.14Oz",
         8,
         3008,
         0.27
        ],
        [
         "Hy-Vee Kettle Cooked Buffalo & Blue Cheese Potato Chips",
         8,
         3008,
         0.27
        ],
        [
         "Hempler's Sliced Bacon - Smoked",
         8,
         3008,
         0.27
        ],
        [
         "Hy-Vee Lowfat Blackberry Yogurt",
         8,
         3008,
         0.27
        ],
        [
         "Hy-Vee Sweet Smoked Thick Sliced Bacon",
         7,
         3008,
         0.23
        ],
        [
         "Hidden Valley Original Ranch Salad Dressing 36 Oz",
         7,
         3008,
         0.23
        ],
        [
         "Advil Ibuprofen Pain & Fever Liqui-gels Minis",
         7,
         3008,
         0.23
        ],
        [
         "Jell-O Sugar Free Gelatin Strawberry 25 oz 8 pk",
         7,
         3008,
         0.23
        ],
        [
         "Hy-Vee Premium Distilled Water Gallon",
         7,
         3008,
         0.23
        ],
        [
         "CDBR MLK CHCL SLD EGG MN BAG EAST 31 OZ",
         7,
         3008,
         0.23
        ],
        [
         "Cheese Cheddar & Colby - Signature Mild Cheese",
         7,
         3008,
         0.23
        ],
        [
         "WLCH BLCK CHRY CNCR GRP JC BLND BTL 64 FL OZ",
         6,
         3008,
         0.2
        ],
        [
         "CHEX CEREAL MEDIUM SIZE",
         6,
         3008,
         0.2
        ],
        [
         "Cinnamon Toast Crunch Rte Cereal - Giant Size",
         6,
         3008,
         0.2
        ],
        [
         "BEN & JERRYS FROZEN STRAWBERRY CHS CAKE ICE CREAM REGULAR 16 OZ - 0076840400212",
         6,
         3008,
         0.2
        ],
        [
         "Yellow Bananas",
         6,
         3008,
         0.2
        ],
        [
         "Honey Nut Cheerios Rte Cereal - Medium Size",
         6,
         3008,
         0.2
        ],
        [
         "TRL SR BRT CRW CRWL GM CNDY BAG 30.4 OZ",
         6,
         3008,
         0.2
        ],
        [
         "Signature Roast Beef",
         6,
         3008,
         0.2
        ],
        [
         "Annie's Homegrown Organic White Cheddar Macaroni & Cheese Shells, 6 Oz",
         6,
         3008,
         0.2
        ],
        [
         "KRAFT Classic Ranch Dressing, 24 fl oz",
         6,
         3008,
         0.2
        ],
        [
         "Dressing KRAFT Free Catalina 90 Ounce",
         5,
         3008,
         0.17
        ],
        [
         "OSCAR MAYER Smoked Turkey Breast Club Pack",
         5,
         3008,
         0.17
        ],
        [
         "PLANTERS Limited Edition Tailgate Chipotle Nut Mix 15.25 OZ Canister",
         5,
         3008,
         0.17
        ],
        [
         "LNDT MLK BNY TRY EAST 1.7 OZ",
         5,
         3008,
         0.17
        ],
        [
         "YUBAN Pmild Pacific Coast Blend Roast Premium Ground Coffee, 29 Oz",
         5,
         3008,
         0.17
        ],
        [
         "Pinova Apples",
         5,
         3008,
         0.17
        ],
        [
         "LNDS CA SLCD NO STFN BLCK OLV TUB 5.5 OZ",
         5,
         3008,
         0.17
        ],
        [
         "SHAKE 'N BAKE Coating Mix - Barbecue Glaze Seasoned 7.00-oz",
         5,
         3008,
         0.17
        ],
        [
         "OSCAR MAYER Deli Fresh Deli Fresh Brown Sugar Ham 8.00-oz",
         5,
         3008,
         0.17
        ],
        [
         "Franz Family Bakeries Hamburger Buns",
         5,
         3008,
         0.17
        ],
        [
         "Food Network Kitchen Inspirations French Style Dijon Balsamic Vinaigrette, 12 oz",
         5,
         3008,
         0.17
        ],
        [
         "Black and White Easter Bunny 16 1/2\" tall by no3 no4",
         5,
         3008,
         0.17
        ],
        [
         "PLANTERS Peanuts Honey Roasted, 6-Ounce (Pack of 12)",
         5,
         3008,
         0.17
        ],
        [
         "PLANTERS Salted Cashews - 3oz",
         5,
         3008,
         0.17
        ],
        [
         "TANG Orange Drink Mix 20 oz",
         5,
         3008,
         0.17
        ],
        [
         "SMART ONES Stuffed Breakfast Sandwich 8.00-oz",
         5,
         3008,
         0.17
        ],
        [
         "OSCAR MAYER Naturals Slow Roasted Roast Beef 7 oz",
         5,
         3008,
         0.17
        ],
        [
         "P3 Peanuts Ham Jerky Sunflower Kernels Portable Protein Pack - 5.4oz - 3ct",
         5,
         3008,
         0.17
        ],
        [
         "HEINZ Grill Pack 20z Ketchup 17.5z Mustard 19z KC Barbecue / 4",
         5,
         3008,
         0.17
        ],
        [
         "LUNCHABLES Breakfast Cinnamon Roll Dippers Lunch Combination 3.15 OZ Tray",
         5,
         3008,
         0.17
        ],
        [
         "Hidden Valley Original Ranch Salad Dressing 48 Oz",
         5,
         3008,
         0.17
        ],
        [
         "Braswell's Vidalia Onion & Summer Tomato",
         5,
         3008,
         0.17
        ],
        [
         "SMART MADE Rosemary Grilled Beef & Vegetables 9 OZ Box",
         5,
         3008,
         0.17
        ],
        [
         "Crystal Light Liquid Mango Passionfruit Drink Mix - 1.62 fl oz",
         5,
         3008,
         0.17
        ],
        [
         "HUGGIES NATURAL CARE PREMOISTENED BABY WIPE FRAGRANCE FREE BAG 232 COUNT",
         5,
         3008,
         0.17
        ],
        [
         "GEVALIA 100% Arabica Signature Blend K Mild Roast Coffee - K -Cups Pods - 36ct",
         5,
         3008,
         0.17
        ],
        [
         "Iceberg Lettuce",
         5,
         3008,
         0.17
        ],
        [
         "HEINZ Home Style Gravy Roasted Turkey, 12.0 OZ",
         5,
         3008,
         0.17
        ],
        [
         "NATURE TREE Walnuts 8oz",
         5,
         3008,
         0.17
        ],
        [
         "CLASSICO All Natural Peeled Ground Tomatoes 28 OZ Can",
         5,
         3008,
         0.17
        ],
        [
         "OSCAR MAYER XXL Premium Fully-Cooked Beef Franks 16 OZ 004470000281",
         5,
         3008,
         0.17
        ],
        [
         "HIDDEN VALLEY SALAD DRESSING 21OZ AND LARGER",
         5,
         3008,
         0.17
        ],
        [
         "Thai Kitchen Unsweetened Coconut Milk",
         5,
         3008,
         0.17
        ],
        [
         "MAXWELL HOUSE International Cinnamon Dulce Cappuccino Cafe-Style Beverage Mix 9.1 oz. Tub",
         5,
         3008,
         0.17
        ],
        [
         "OSCAR MAYER 10 OZ ROAST BEEF",
         5,
         3008,
         0.17
        ],
        [
         "OSCAR MAYER Cotto Salami, 12 oz",
         5,
         3008,
         0.17
        ],
        [
         "JELL-O GELATIN RASPBERRY 6 OZ BOX",
         5,
         3008,
         0.17
        ],
        [
         "JELL-O PUDDING-Instant DEVIL'S FOOD 3.8 OZ BOX",
         5,
         3008,
         0.17
        ],
        [
         "comfort bay.4 piece set 200 thread count full sheet set",
         5,
         3008,
         0.17
        ],
        [
         "Kool-Aid Unsweetened Drink Mix Cherry, 0.13 OZ",
         5,
         3008,
         0.17
        ],
        [
         "KOOL-AID Ghoul-Aid JMR Scary Black Fruit Drink FL Bag % Juice 20Pack 6 FL OZ 004300005814",
         5,
         3008,
         0.17
        ],
        [
         "WISHBONE RUSSIAN SALAD DRESSING PLASTIC BOTTLE 15 OZ - 0041321006351",
         5,
         3008,
         0.17
        ],
        [
         "KRAFT Barbecue Original 76 OZ 002100067920",
         5,
         3008,
         0.17
        ],
        [
         "Betty Crocker Hershey's - Milk Chocolate Frosting",
         5,
         3008,
         0.17
        ],
        [
         "PLANTERS Tropical Fruit & Nut Trail Mix 19 OZ",
         5,
         3008,
         0.17
        ],
        [
         "OSCAR MAYER 98% Fat-Free Turkey Breast Shaved 9 OZ 068692482085",
         5,
         3008,
         0.17
        ],
        [
         "CLASSICO Riserva Marinara Pasta Sauce Jar 3Pack 24 OZ 004112963460",
         5,
         3008,
         0.17
        ],
        [
         "CLASSICO Tomato & Basil Pasta Sauce 44 oz. Jar",
         5,
         3008,
         0.17
        ],
        [
         "Large Hass Avocados",
         5,
         3008,
         0.17
        ],
        [
         "JELL-O Dessert Mold Kit, University of Georgia, 12 Ounce",
         5,
         3008,
         0.17
        ],
        [
         "Cheese Cheddar & Colby - Signature Jack Cheese",
         5,
         3008,
         0.17
        ],
        [
         "GEVALIA KAFFE Cold Brew Iced Latte Mocha 11fl OZ",
         5,
         3008,
         0.17
        ],
        [
         "JUST CRACK AN EGG Scramble Kit, Family Size Ultimate Scramble - 2 12oz trays",
         5,
         3008,
         0.17
        ],
        [
         "Regular Spinach",
         4,
         3008,
         0.13
        ],
        [
         "Philadelphia Cream Cheese Spread - Original",
         4,
         3008,
         0.13
        ],
        [
         "Kellogg's Fun Pak - 8 Cereals",
         4,
         3008,
         0.13
        ],
        [
         "COOL WHIP Original Whipped Topping 16 oz",
         4,
         3008,
         0.13
        ],
        [
         "Private Selection Angus Beef Choice Tri Tip Steak (1 Steak)",
         4,
         3008,
         0.13
        ],
        [
         "FRNC ONN FRD RNG CAN 6 OZ",
         4,
         3008,
         0.13
        ],
        [
         "Hidden Valley Original Ranch Dressing",
         4,
         3008,
         0.13
        ],
        [
         "REGULAR PEPSI SODA COLA CAN 24 CT 288 OZ",
         4,
         3008,
         0.13
        ],
        [
         "NBSC OR DBL STF SNDW CRM FLD CHCL CK BOX 5.6 OZ",
         4,
         3008,
         0.13
        ],
        [
         "Hewlett Packard Multipurpose Paper - Brightness",
         4,
         3008,
         0.13
        ],
        [
         "Jell-O Mixchief Vanilla Pudding Instant 3.40-oz",
         4,
         3008,
         0.13
        ],
        [
         "NBSC RTZ CHP SNCK SR CRM ONN TSTD OVN BKD SQR 40 PCT LS FAT BAG 8.1 OZ",
         4,
         3008,
         0.13
        ],
        [
         "T.G.I. FRIDAY'S(r) Frozen Loaded Baked Potato Cheese Spread DIP BOX 8 OZ 004670408590",
         4,
         3008,
         0.13
        ],
        [
         "CLASSICO SAUCE",
         4,
         3008,
         0.13
        ],
        [
         "Lindsay Recloseables - California Ripe Olives - Sliced",
         4,
         3008,
         0.13
        ],
        [
         "CLASSICO Pasta Sauce Alfredo Asiago Romano Light, 15 Oz",
         4,
         3008,
         0.13
        ],
        [
         "GEVALIA Cold Brew Iced Coffee Concentrate, House Blend - 32 fl oz",
         4,
         3008,
         0.13
        ],
        [
         "Knorr Homestyle Stock Beef Beef Concentrated Broth",
         4,
         3008,
         0.13
        ],
        [
         "Litehouse Sweet Onion With Dijon Dressing & Marinade",
         4,
         3008,
         0.13
        ],
        [
         "ORBIT BUBBLE MINT DENTAL GUM SUGAR FREE PELLET RP 180 CT - 0022000014252",
         4,
         3008,
         0.13
        ],
        [
         "Krusteaz Chocolate Chunk Supreme Muffin Mix",
         4,
         3008,
         0.13
        ],
        [
         "Trolli Sour Crawlers",
         4,
         3008,
         0.13
        ],
        [
         "Marie's Coleslaw Dressing",
         4,
         3008,
         0.13
        ],
        [
         "Wonderful Roasted & Salted Pistachios, 16 oz",
         4,
         3008,
         0.13
        ],
        [
         "Light & Fit Greek Blackberry Yogurt",
         4,
         3008,
         0.13
        ],
        [
         "FOOD NETWORK KITCHEN INSPIRATIONS Shrimp Scampi Kit 4 OZ",
         4,
         3008,
         0.13
        ],
        [
         "KRAFT Indulgence Salad Dressing Blue Cheese, 15 Fl Oz",
         4,
         3008,
         0.13
        ],
        [
         "Light & Fit Vanilla Yogurt",
         4,
         3008,
         0.13
        ],
        [
         "TASSIMO GEVALIA Bold Majestic Roast Coffee, 12 Count T-Discs",
         4,
         3008,
         0.13
        ],
        [
         "Borden 1% Chocolate Milk",
         4,
         3008,
         0.13
        ],
        [
         "DL CTRS DRSN CBG CRT GRN ONN KL RMN SWT ONN SNFL CRNC FRSH SLD KIT BAG 26.4 OZ",
         4,
         3008,
         0.13
        ],
        [
         "CLMN HCKR SMKD SLCD PRK BCN WRP 12 OZ",
         3,
         3008,
         0.1
        ],
        [
         "MTN DEW CITRUS CHERRY SODA CITRUS CHERRY CAN 1 CT 12 OZ",
         3,
         3008,
         0.1
        ],
        [
         "Green Beans",
         3,
         3008,
         0.1
        ],
        [
         "Kettle Brand Potato Chips - Buffalo Bleu",
         3,
         3008,
         0.1
        ],
        [
         "Ben & Jerry's Chunky Monkey Non Dairy",
         3,
         3008,
         0.1
        ],
        [
         "WYLER'S Instant Bouillon Powder - Chicken Flavor 2.00-oz",
         3,
         3008,
         0.1
        ],
        [
         "KRST PLN PWDR SFD CHCK PRK RDY TO USE CTNG MIX BOX 20 OZ",
         3,
         3008,
         0.1
        ],
        [
         "JHN SLS FDS CHCK BRST STRP FJT RIB MT FLY CKD KP FRZN ENTR BAG 16 OZ",
         3,
         3008,
         0.1
        ],
        [
         "Fresh Selections House Salad With Bacon Kit",
         3,
         3008,
         0.1
        ],
        [
         "Coca-Cola Coke - Classic",
         3,
         3008,
         0.1
        ],
        [
         "Crest 3D White Professional Effects Whitestrips",
         3,
         3008,
         0.1
        ],
        [
         "General Mills Cinnamon Toast Crunch Cereal Giant Size ",
         3,
         3008,
         0.1
        ],
        [
         "PLANTERS Deluxe Salted Whole Cashews - 18.25oz",
         3,
         3008,
         0.1
        ],
        [
         "NBSC RTZ BTR CRCK BOX 13.7 OZ",
         3,
         3008,
         0.1
        ],
        [
         "Best Foods Real Mayonnaise",
         3,
         3008,
         0.1
        ],
        [
         "CAFFEINE FREE REGULAR PEPSI SODA COLA CAN IN BOX 12 CT 144 OZ",
         3,
         3008,
         0.1
        ],
        [
         "Cadbury Easter Mini Eggs Candy",
         3,
         3008,
         0.1
        ],
        [
         "HWN ONN RNG SWT M GLDN CRSP BAG 4 OZ",
         3,
         3008,
         0.1
        ],
        [
         "Quaker Life Cinnamon Cereal Giant Size",
         3,
         3008,
         0.1
        ],
        [
         "BORDEN REFRIGERATED REGULAR MONTEREY JACK CHEESE SLICED REGULAR FAT 6 OZ - 0053000069861",
         3,
         3008,
         0.1
        ],
        [
         "Green Giant Idaho Russet Potatoes",
         3,
         3008,
         0.1
        ],
        [
         "Kroger Sour Neon Worms",
         3,
         3008,
         0.1
        ],
        [
         "General Mills Cereal - Breakfast Pack",
         3,
         3008,
         0.1
        ],
        [
         "R W KND FML BT VGTB JC BTL RFRG AFTR OPNN 32 FL OZ",
         3,
         3008,
         0.1
        ],
        [
         "KLRB CRBN WTR CLR FR LMN SPRK CAN 12PK 12 FL OZ",
         3,
         3008,
         0.1
        ],
        [
         "LUNCHABLES Lunch Combinations Around The World Mexican Style Chicken Tacos 4.2 OZ",
         3,
         3008,
         0.1
        ],
        [
         "7UP Lemon Lime Soda - 12 Pack Cans",
         3,
         3008,
         0.1
        ],
        [
         "Diet Coke Diet Coke",
         3,
         3008,
         0.1
        ],
        [
         "Baby Spinach",
         3,
         3008,
         0.1
        ],
        [
         "Planters Deluxe Whole Cashews",
         3,
         3008,
         0.1
        ],
        [
         "PRNG PTT CRSP CHDR CHS FLT CNST 5.5 OZ",
         3,
         3008,
         0.1
        ],
        [
         "LTHS ITLN HRB FLK FRZ DRD SSNN JAR 0.49 OZ",
         3,
         3008,
         0.1
        ],
        [
         "Regular Garlic",
         3,
         3008,
         0.1
        ],
        [
         "CREAM CHEESE",
         3,
         3008,
         0.1
        ],
        [
         "Jell-O Strawberry Gelatin- Sugar Free",
         3,
         3008,
         0.1
        ],
        [
         "BANANAS",
         2,
         3008,
         0.07
        ],
        [
         "OSCAR MAYER Selects Rotisserie Seasoned Chicken Breast, 9 oz",
         2,
         3008,
         0.07
        ],
        [
         "Jennie-O Oven Ready Skinless Boneless Turkey Breast",
         2,
         3008,
         0.07
        ],
        [
         "Kerrygold Mild Shredded Cheddar Cheese",
         2,
         3008,
         0.07
        ],
        [
         "DIET PEPSI SODA COLA CAN IN FRIDGE PCK BX 12 CT 144 OZ",
         2,
         3008,
         0.07
        ],
        [
         "Mountain Dew Game Fuel Citrus Cherry Soda",
         2,
         3008,
         0.07
        ],
        [
         "Pepsi Cola",
         2,
         3008,
         0.07
        ],
        [
         "General Mills Honey Nut Cheerios Gluten Free Cereal ",
         2,
         3008,
         0.07
        ],
        [
         "Fiber One Oats & Chocolate Chewy Bar - 2 Count",
         2,
         3008,
         0.07
        ],
        [
         "FRSH EXP BBY SPNC SWT RED BBY BTR LTC TNDR RBY RDS PRCT SLD MIX MLDD TRY 10 OZ",
         2,
         3008,
         0.07
        ],
        [
         "AZTC STNG CRN TRTL 10 CT",
         2,
         3008,
         0.07
        ],
        [
         "ARWH ASRTD MNTN SPRN WTR BTL 32PK 16.9 FL OZ",
         2,
         3008,
         0.07
        ],
        [
         "Smithfield Hometown Original Pork Breakfast Sausage",
         2,
         3008,
         0.07
        ],
        [
         "FINISH JET DRY AUTOMATIC DSHW RNS AGNT 16 FL OZ 005170078826",
         2,
         3008,
         0.07
        ],
        [
         "Kroger Frozen Ground Beef Burgers 80% Lean 20% Fat",
         2,
         3008,
         0.07
        ],
        [
         "ORG VEG BRTH",
         2,
         3008,
         0.07
        ],
        [
         "Coleman All Natural Bacon - Hickory Smoked",
         2,
         3008,
         0.07
        ],
        [
         "Yoplait Whips! Non-Fat Greek Yogurt - Tropical Mousse, 4 Oz",
         2,
         3008,
         0.07
        ],
        [
         "Folgers Gourmet Selections Coffee - Classic Roast",
         2,
         3008,
         0.07
        ],
        [
         "Large Lemons",
         2,
         3008,
         0.07
        ],
        [
         "OSCAR MAYER LUNCH MEAT",
         2,
         3008,
         0.07
        ],
        [
         "ShopRite Top Round Roast Beef",
         2,
         3008,
         0.07
        ],
        [
         "BANZA SPAGH",
         2,
         3008,
         0.07
        ],
        [
         "NSTL TL HS CHCL CHP BAG KP RFRG CK DGH 30 OZ",
         2,
         3008,
         0.07
        ],
        [
         "Crispix Cereal",
         2,
         3008,
         0.07
        ],
        [
         "Litehouse Freeze Dried Italian Blend",
         2,
         3008,
         0.07
        ],
        [
         "Welch's Juice - Black Cherry Concord Grape",
         2,
         3008,
         0.07
        ],
        [
         "Advil Liqui-Gels Minis",
         2,
         3008,
         0.07
        ],
        [
         "Laura's Lean Beef Beef - Ground",
         2,
         3008,
         0.07
        ],
        [
         "DELIMEX White Meat Chicken Taquitos 66 ct Box",
         2,
         3008,
         0.07
        ],
        [
         "Cocoa Puffs Ice Cream Scoops Rte Cereal - Medium Size",
         2,
         3008,
         0.07
        ],
        [
         "Sweet Corn Corn",
         2,
         3008,
         0.07
        ],
        [
         "Wonderful Roasted & Salted Pistachios, 24 oz",
         2,
         3008,
         0.07
        ],
        [
         "LNDT EXC DRK 70 PCT CC BAR BOX 3.5 OZ",
         2,
         3008,
         0.07
        ],
        [
         "Kraft Cheese Grated - Parmesan",
         2,
         3008,
         0.07
        ],
        [
         "Hawaiian Onion Rings - Sweet Maui Flavored",
         2,
         3008,
         0.07
        ],
        [
         "PLANTERS Mixed Nuts 56 oz. Canister",
         2,
         3008,
         0.07
        ],
        [
         "Kraft Singles 2% Milk American Cheese Slices",
         2,
         3008,
         0.07
        ],
        [
         "WISHBONE SALAD DRESSING",
         2,
         3008,
         0.07
        ],
        [
         "John Soules Foods Chicken Breast Fajitas with Rib Meat",
         2,
         3008,
         0.07
        ],
        [
         "Hy-Vee Jellied Cranberry Sauce",
         2,
         3008,
         0.07
        ],
        [
         "Borden Half & Half",
         2,
         3008,
         0.07
        ],
        [
         "V8 ORGN 100 PCT VGTB JC FR CNCN VGTB JC BLND BTL RFRG AFTR OPNN 6PK 12 FL OZ",
         2,
         3008,
         0.07
        ],
        [
         "Heritage Farms Smoked Sausage With Chicken Pork & Beef",
         2,
         3008,
         0.07
        ],
        [
         "KBLR ZST SLTD SLTN CRCK BAG IN BOX 16 OZ",
         2,
         3008,
         0.07
        ],
        [
         "BEN & JERRYS FROZEN CHOC FUDGE BROWNIE ICE CREAM REGULAR 16 OZ - 0076840100471",
         2,
         3008,
         0.07
        ],
        [
         "JN O BNLS TRKY BRST GRVY KP FRZN ENTR WRP IN BAG 44 OZ",
         2,
         3008,
         0.07
        ],
        [
         "Diet Pepsi Classic Taste Soda - 12 Pack Cans",
         2,
         3008,
         0.07
        ],
        [
         "JUST CRACK AN EGG SCRAMBLE KIT",
         2,
         3008,
         0.07
        ],
        [
         "1893 SODA ORIGINAL COLA CAN IN BOX 12 CT 144 OZ",
         2,
         3008,
         0.07
        ],
        [
         "Hanover Mixed Vegetables",
         2,
         3008,
         0.07
        ],
        [
         "Hidden Valley Original Ranch Salad Dressing & Seasoning Mix 1 Oz",
         2,
         3008,
         0.07
        ],
        [
         "Playtex Liners - Pre Sterilized Disposable",
         2,
         3008,
         0.07
        ],
        [
         "Knorr Homestyle Stock Chicken Concentrated Broth Chicken",
         2,
         3008,
         0.07
        ],
        [
         "Hy-Vee Black Cherry Lowfat Yogurt",
         2,
         3008,
         0.07
        ],
        [
         "Collard Greens",
         2,
         3008,
         0.07
        ],
        [
         "DOVE MEN PLUS CARE DEODORANT AQUA IMPACT 48 HOUR PROTECTION PLASTIC WRAPPED PLASTIC CONTAINER SP 3 OZ",
         2,
         3008,
         0.07
        ],
        [
         "Hidden Valley Original Ranch Fat Free Salad Dressing 24 Oz",
         2,
         3008,
         0.07
        ],
        [
         "RSRT BLCK BN CAN 15 OZ",
         2,
         3008,
         0.07
        ],
        [
         "Loose Beets",
         2,
         3008,
         0.07
        ],
        [
         "Hy-Vee Unbleached All Purpose Flour",
         2,
         3008,
         0.07
        ],
        [
         "KNORR PASTA SIDES BUTTER PASTA SIDE DISH POUCH 4.5 OZ",
         2,
         3008,
         0.07
        ],
        [
         "MRS RNF NCH CHS BLND SHLF STBL SC JAR 16 OZ",
         2,
         3008,
         0.07
        ],
        [
         "Hy-Vee Steam Quick Super Sweet White Corn",
         2,
         3008,
         0.07
        ],
        [
         "Pringles Cheddar Cheese Potato Crisps",
         2,
         3008,
         0.07
        ],
        [
         "Green Onions",
         2,
         3008,
         0.07
        ],
        [
         "Zucchini Squash",
         2,
         3008,
         0.07
        ],
        [
         "Fresh Express Sweet Red Butter & Baby Spinach",
         2,
         3008,
         0.07
        ],
        [
         "DIET PEPSI SODA COLA CAN IN FRIDGE PCK BX 18 CT 216 OZ",
         2,
         3008,
         0.07
        ],
        [
         "Ben & Jerry's Chocolate Fudge Brownie Ice Cream",
         1,
         3008,
         0.03
        ],
        [
         "Large Honeycrisp Apples",
         1,
         3008,
         0.03
        ],
        [
         "Organicville Salad Dressing - French",
         1,
         3008,
         0.03
        ],
        [
         "ORE-IDA Diced Hash Brown Potatoes 5 lb. Bag",
         1,
         3008,
         0.03
        ],
        [
         "Food Network Kitchen Inspirations Greek Feta Herb Vinaigrette, 12 oz",
         1,
         3008,
         0.03
        ],
        [
         "PLANTERS Peanuts Cocoa 4 OZ",
         1,
         3008,
         0.03
        ],
        [
         "LEA & PERRINS Garlic & Herb Marinade Bottle, 16 oz",
         1,
         3008,
         0.03
        ],
        [
         "TASSIMO GEVALIA Cappuccino (BONUS 2-pack with 16 total servings)",
         1,
         3008,
         0.03
        ],
        [
         "Nabisco Soccer Ritz Crackers",
         1,
         3008,
         0.03
        ],
        [
         "KRAFT Sandwich Spread, 15.0 FL OZ",
         1,
         3008,
         0.03
        ],
        [
         "Post Honey Bunches Honey Roasted Of Oats Cereal",
         1,
         3008,
         0.03
        ],
        [
         "Oral-B Glide Pro-Health Deep Clean Floss 40 M",
         1,
         3008,
         0.03
        ],
        [
         "Nabisco Oreo Double Stuf Sandwich Cookies - Chocolate",
         1,
         3008,
         0.03
        ],
        [
         "Kool-Aid Watermelon Gelatin Dessert Mix, 3 Oz Box",
         1,
         3008,
         0.03
        ],
        [
         "HUGGIES SIMPLY CLEAN PREMOISTENED FC HND AND BTM WP FRAGRANCE FREE NONFLUSHABLE BAG 72 COUNT",
         1,
         3008,
         0.03
        ],
        [
         "ORE-IDA Extra Crispy Fast Food Fries - 26oz",
         1,
         3008,
         0.03
        ],
        [
         "Jell-O Pudding & Pie Filling Cook & Serve Chocolate, 3.4 Oz",
         1,
         3008,
         0.03
        ],
        [
         "Stouffer's Classics Green Pepper Steak",
         1,
         3008,
         0.03
        ],
        [
         "CRYS FRM SMP PTT DCD KP RFRG SPCL BAG 20 OZ",
         1,
         3008,
         0.03
        ],
        [
         "OSCAR MAYER Natural Applewood Smoked Ham, 14 oz",
         1,
         3008,
         0.03
        ],
        [
         "PLANTERS Nut-rition Blueberry Nut Protein Mix 9 OZ",
         1,
         3008,
         0.03
        ],
        [
         "Private Selection Angus Beef Chuck Patties",
         1,
         3008,
         0.03
        ],
        [
         "Jell-O Instant Pudding & Pie Filling Lemon, 3.4 Oz",
         1,
         3008,
         0.03
        ],
        [
         "BRSW FIG SHLF STBL PRSR JAR 12 OZ",
         1,
         3008,
         0.03
        ],
        [
         "BRS HD SHRD RFRG SRKR BAG 16 OZ",
         1,
         3008,
         0.03
        ],
        [
         "BENIHANA Yakisoba Chicken 26 oz",
         1,
         3008,
         0.03
        ],
        [
         "TTER BLUE KRAZY KRITTER BLUE 1",
         1,
         3008,
         0.03
        ],
        [
         "Jell-O Jigglers Star Wars Strawberry/Berry Blue Mold Kit, 6 pc",
         1,
         3008,
         0.03
        ],
        [
         "AVOCADO",
         1,
         3008,
         0.03
        ],
        [
         "JELL-O Simply Good Raspberry Lemonade Gelatin Dessert Mix - 3oz",
         1,
         3008,
         0.03
        ],
        [
         "CLASSICO Traditional Basil Pesto 14OZ 12pack",
         1,
         3008,
         0.03
        ],
        [
         "Wish-Bone Russian Dressing",
         1,
         3008,
         0.03
        ],
        [
         "GEVALIA KAFFE Caramel Iced Coffee with Almond Milk, 33.8 fl oz",
         1,
         3008,
         0.03
        ],
        [
         "HEINZ Cleaning Vinegar, 1 GAL",
         1,
         3008,
         0.03
        ],
        [
         "KNORR LIPTON ITALIAN SIDES CREAMY GARLIC PASTA SIDE DISH PLASTIC BAG 4.9 OZ - 0041000022903",
         1,
         3008,
         0.03
        ],
        [
         "OSCAR MAYER Deli Fresh Maple Honey 97% Fat Free Ham, 8 oz",
         1,
         3008,
         0.03
        ],
        [
         "ORG SALAD",
         1,
         3008,
         0.03
        ],
        [
         "GEVALIA Brazilian Estates Regular Ground Coffee 8 OZ Bag",
         1,
         3008,
         0.03
        ],
        [
         "OSCAR MAYER Lower Sodium Bacon 16 oz. Pack",
         1,
         3008,
         0.03
        ],
        [
         "DORITOS TORTILLA CHIP COOL RANCH BAG 7.625 OZ",
         1,
         3008,
         0.03
        ],
        [
         "MOMOFUKU SsEm Sauce Squeezable Bottle, Smoky, 12 Ounce",
         1,
         3008,
         0.03
        ],
        [
         "MS12L CFBRN",
         1,
         3008,
         0.03
        ],
        [
         "OSCAR MAYER Lunchable Extra Cheesy Pizza 4.2 oz",
         1,
         3008,
         0.03
        ],
        [
         "KRAFT Velveeta Cheesy Skillets Creamy Beef Stroganoff",
         1,
         3008,
         0.03
        ],
        [
         "KRAFT Jet-Puffed - Fun Mallows Miniature Marshmallows 10.00-oz",
         1,
         3008,
         0.03
        ],
        [
         "DOVE MEN PLUS CARE ANTIPERSPIRANT EXTRA FRESH 48 HOUR PROTECTION PLASTIC WRAPPED PLASTIC CONTAINER SP 2.7 OZ",
         1,
         3008,
         0.03
        ],
        [
         "BREYERS DELIGHTS FROZEN COOKIES N CREAM ICE CREAM REDUCED FAT 16 OZ - 0077567000631",
         1,
         3008,
         0.03
        ],
        [
         "Old El Paso Mild Chopped Green Chiles, 4.5 Oz",
         1,
         3008,
         0.03
        ],
        [
         "Large Fuji Apples",
         1,
         3008,
         0.03
        ],
        [
         "KRAFT Dressing Zesty Lime Vinaigrette, 16.0 FL OZ",
         1,
         3008,
         0.03
        ],
        [
         "KRAFT Roasted Red Pepper Italian Salad Dressing - 16oz",
         1,
         3008,
         0.03
        ],
        [
         "MAXWELL HOUSE Indulge Max Coffee Drink Mix, Mocha + Salted Caramel - 12 oz",
         1,
         3008,
         0.03
        ],
        [
         "KLONDIKE FROZEN ICE CREAM NOVELTY REESES PEANUT BUTTER 12 CT 24 OZ - 0075856000261",
         1,
         3008,
         0.03
        ],
        [
         "Mayonnaise Extra Heavy 4 Case 1 Gallon",
         1,
         3008,
         0.03
        ],
        [
         "NEXXUS REPLENISHING HAIR TREATMENT LIQUID RP 33.8 OZ",
         1,
         3008,
         0.03
        ],
        [
         "GALLO FAMILY VINEYARDS TWIN VALLEY WINE 1PK 1.5L GL BTL",
         1,
         3008,
         0.03
        ],
        [
         "K9 Crystal Chandelier with 4 Lights in Globe Shape",
         1,
         3008,
         0.03
        ],
        [
         "Vital Farms Alfresco Pasture Raised Grade A Large Eggs",
         1,
         3008,
         0.03
        ],
        [
         "MTN DEW REVOLUTION SODA WILDBERRY FRUIT FLVR CANS IN BOX 12 CT 144 OZ",
         1,
         3008,
         0.03
        ],
        [
         "Yoplait Go-Gurt Yogurt - Strawberry Banana & Raspberry, 16 Pack",
         1,
         3008,
         0.03
        ],
        [
         "Butternut Squash",
         1,
         3008,
         0.03
        ],
        [
         "Jell-O Instant Pudding & Pie Filling French Vanilla, 3.4 Oz",
         1,
         3008,
         0.03
        ],
        [
         "PAL RC CHE",
         1,
         3008,
         0.03
        ],
        [
         "KLEENEX POCKET RCH IN WRP FACIAL TISSUE 2 PLY 8PK 15 CT",
         1,
         3008,
         0.03
        ],
        [
         "Nature Valley Almond Butter Chocolate Layered Granola Bar- 5 Count",
         1,
         3008,
         0.03
        ],
        [
         "O THAT'S GOOD Baked Potato Soup 16 OZ",
         1,
         3008,
         0.03
        ],
        [
         "OSCAR MAYER Jumbo Angus Beef Uncured Franks, 15.0 OZ",
         1,
         3008,
         0.03
        ],
        [
         "Classico Pasta Sauce - Light Asiago Romano Alfredo",
         1,
         3008,
         0.03
        ],
        [
         "V8 100% Vegetable Juice, 12 oz. , 6 pack",
         1,
         3008,
         0.03
        ],
        [
         "Honey Nut Cheerios Rte Cereal - Family Size, 2 Pack",
         1,
         3008,
         0.03
        ],
        [
         "COOL WHIP Whipped Topping 4-Pack Original 4-8 OZ Cups",
         1,
         3008,
         0.03
        ],
        [
         "MARIE CALLENDERS FROZEN CREAMY MUSHROOM CHICKEN POT PIE MICROWAVEABLE 15 OZ - 0021131506941",
         1,
         3008,
         0.03
        ],
        [
         "DR PEPPER",
         1,
         3008,
         0.03
        ],
        [
         "LUCKY CHARMS UNICORN CEREAL FAMILY SIZE",
         1,
         3008,
         0.03
        ],
        [
         "Germ-X Hand Sanitizer - Original",
         1,
         3008,
         0.03
        ],
        [
         "Crest 3D White Brilliance Vibrant Peppermint Toothpaste",
         1,
         3008,
         0.03
        ],
        [
         "Kool-Aid Aguas Frescas Mandarina-TANGerine Unsweetened Drink Mix 0.16 oz. Packet",
         1,
         3008,
         0.03
        ],
        [
         "Organic Bunch Carrots",
         1,
         3008,
         0.03
        ],
        [
         "spigen tempered glass screen protector [glas.tr ez fit] designed foriphone 12 mini - sensor protection / 2 pack",
         1,
         3008,
         0.03
        ],
        [
         "ZAMA OEM RB-158 Carb C1Q-S140,A Repair Kit",
         1,
         3008,
         0.03
        ],
        [
         "Simple Truth Organic Celery Hearts",
         1,
         3008,
         0.03
        ],
        [
         "PPRD FRM HRB ALL PRPS CB BLND MW STV TOP IN BRD STFN BAG 12 OZ",
         1,
         3008,
         0.03
        ],
        [
         "KRAFT Trios Snackfulls Monterey Jack Cheeses, Dried Apples, Granola Clusters,2.25 oz",
         1,
         3008,
         0.03
        ],
        [
         "MIO Liquid Water Enhancer 3-1.62 FL OZ Bottles (Lemonade, Berry Pomegranate, Strawberry Watermelon)",
         1,
         3008,
         0.03
        ],
        [
         "Organic Flame Red Seedless Grapes",
         1,
         3008,
         0.03
        ],
        [
         "Stouffer's Side Dish Cheddar Bacon Potatoes",
         1,
         3008,
         0.03
        ],
        [
         "KRAFT STOVE TOP Stuffing Mix For Chicken 6oz",
         1,
         3008,
         0.03
        ],
        [
         "Cool Whip Whipped Topping- Original",
         1,
         3008,
         0.03
        ],
        [
         "KRAFT HEINZ TACO BELL REGULAR EXTRA HOT TACO SAUCE 7.5 OZ - 0021000046901",
         1,
         3008,
         0.03
        ],
        [
         "GV LINER GRE",
         1,
         3008,
         0.03
        ],
        [
         "Berry Strawberry Conventional, 16 Ounce",
         1,
         3008,
         0.03
        ],
        [
         "PLANTERS Deluxe Whole Cashews - Lightly Salted 18.25oz",
         1,
         3008,
         0.03
        ],
        [
         "Essential Everyday Candle",
         1,
         3008,
         0.03
        ],
        [
         "MRS RNF MDM PCNT SHLF STBL SC JAR 16 FL OZ",
         1,
         3008,
         0.03
        ],
        [
         "Hidden Valley Original Ranch Seasoning & Salad Dressing Mix 8 Oz",
         1,
         3008,
         0.03
        ],
        [
         "OSCAR MAYER Selects Hardwood Smoked Uncured Turkey Sausage, 13 oz",
         1,
         3008,
         0.03
        ],
        [
         "SMART MADE Thai-Style Chicken & Vegetables 10 oz. Box",
         1,
         3008,
         0.03
        ],
        [
         "HEINZ Home Style Mushroom Gravy, 12 oz",
         1,
         3008,
         0.03
        ],
        [
         "BOTA BOX WINE 1PK 3L PL BAG",
         1,
         3008,
         0.03
        ],
        [
         "Russet Potato",
         1,
         3008,
         0.03
        ],
        [
         "Braswell's Raspberry Vinaigrette",
         1,
         3008,
         0.03
        ],
        [
         "NANCY'S Jalapeno Petite Stuffed Bagels 16.00-oz",
         1,
         3008,
         0.03
        ],
        [
         "Orbit Bubblemint Gum",
         1,
         3008,
         0.03
        ],
        [
         "SMART ONES Flavorful Asian Inspirations Orange Sesame Chicken 9 oz. Box",
         1,
         3008,
         0.03
        ],
        [
         "GV PWD 2LB",
         1,
         3008,
         0.03
        ],
        [
         "COTTONELLE CLEAN CARE MEGA ROLL 1 PLY 340 COTTON TOILET TISSUE 12 CT",
         1,
         3008,
         0.03
        ],
        [
         "Hidden Valley Original Ranch Fat Free Salad Dressing 16 Oz",
         1,
         3008,
         0.03
        ],
        [
         "FLRD NTR APL PRMM 100 PCT PR CTD CRDB RFRG NT FR CNCN 59 FL OZ",
         1,
         3008,
         0.03
        ],
        [
         "Stouffer's Family Size Stuffed Peppers",
         1,
         3008,
         0.03
        ],
        [
         "Knorr Beef Flavor Bouillon, 35.3 oz",
         1,
         3008,
         0.03
        ],
        [
         "Dole Chopped Sunflower Crunch Salad Kit",
         1,
         3008,
         0.03
        ],
        [
         "GEVALIA KAFFE Caramel Macchiato Espresso Coffee K-Cup pods 9ct",
         1,
         3008,
         0.03
        ],
        [
         "OSCAR MAYER LUNCHABLES LUNCHABLES Chicken Sliders 3.00-oz",
         1,
         3008,
         0.03
        ],
        [
         "GENERAL FOODS INTERNATIONAL Vanilla Creme, No Caffeine, 9-Ounce Units (Pack of 6)",
         1,
         3008,
         0.03
        ],
        [
         "Thomas' Breakfast Bread - Swirl Cinnamon Raisin",
         1,
         3008,
         0.03
        ],
        [
         "OSCAR MAYER - Spicy Monterey Jack Beef Franks 12.00-oz",
         1,
         3008,
         0.03
        ],
        [
         "Honey Nut Cheerios Rte Cereal - Family Size",
         1,
         3008,
         0.03
        ],
        [
         "spigen thin fit designed for iphone 12 mini case (2020) - black",
         1,
         3008,
         0.03
        ],
        [
         "GV ALM UNORG",
         1,
         3008,
         0.03
        ],
        [
         "MCRM GRL MTS ALL PRPS TMT GRLC BSL PWDR MRND ENVL 0.87 OZ",
         1,
         3008,
         0.03
        ],
        [
         "Fresh Step Scented Non",
         1,
         3008,
         0.03
        ],
        [
         "Crystal Light On-the-Go Raspberry Green Tea Drink Mix 10 ct Box",
         1,
         3008,
         0.03
        ],
        [
         "OSCAR MAYER Black Forest Chopped Ham Lunchmeat, 16 oz",
         1,
         3008,
         0.03
        ],
        [
         "Banza Spaghetti, Chickpea Pasta, High Fiber & High Protein Pasta, 8 Oz",
         1,
         3008,
         0.03
        ],
        [
         "KNORR ASSORTED PASTA SIDE DISH POUCH IN CARDBORD BX 34.4 OZ",
         1,
         3008,
         0.03
        ],
        [
         "Simple Truth Organic Green Beans",
         1,
         3008,
         0.03
        ],
        [
         "ORG BELL 2CT",
         1,
         3008,
         0.03
        ],
        [
         "Crystal Light Pure Lemonade 2.17-oz",
         1,
         3008,
         0.03
        ],
        [
         "OSCAR MAYER 98% Fat-Free Turkey Breast Shaved 9 OZ 068692456024",
         1,
         3008,
         0.03
        ],
        [
         "JELL-O Jigglers Ohio State University Mold Kit with Strawberry Flavor JELL-O",
         1,
         3008,
         0.03
        ],
        [
         "MRTN GLD MDL APL GLS FRSH SQZD 10 FL OZ",
         1,
         3008,
         0.03
        ],
        [
         "Kool-Aid: Soft Drink Mix Singles Grape Unsweetened, 6.6 Oz (Innerpack of 12)",
         1,
         3008,
         0.03
        ],
        [
         "CARESS FINE FRAGRANCE LOVE FOREVER WASH SOAP PLASTIC BOTTLE RP 3 OZ",
         1,
         3008,
         0.03
        ],
        [
         "MCRM GNGR GRND SSNN JAR 0.7 OZ",
         1,
         3008,
         0.03
        ],
        [
         "PLANTERS Nut Select Cashews Almonds Pecans, 8.25 Ounce",
         1,
         3008,
         0.03
        ],
        [
         "PPR GRNDR",
         1,
         3008,
         0.03
        ],
        [
         "CLEAR BLUE",
         1,
         3008,
         0.03
        ],
        [
         "Old El Paso Mild Enchilada Sauce, 28 Oz",
         1,
         3008,
         0.03
        ],
        [
         "Shallots Onions",
         1,
         3008,
         0.03
        ],
        [
         "Goodbelly Probiotic Bar Honey Almond Butter Bar - 1 Count",
         1,
         3008,
         0.03
        ],
        [
         "Banana Nut Cheerios Rte Cereal - Family Size",
         1,
         3008,
         0.03
        ],
        [
         "Carrot Sticks Carrots",
         1,
         3008,
         0.03
        ],
        [
         "CAPRI SUN Juice Drink, Variety Pack - 40 pack, 6 fl oz pouches",
         1,
         3008,
         0.03
        ],
        [
         "DORITOS TORTILLA CHIP RANCHERITOS BAG 2.75 OZ",
         1,
         3008,
         0.03
        ],
        [
         "Deli Chicken Breast",
         1,
         3008,
         0.03
        ],
        [
         "Lindt Gold Bunnies - Chocolate",
         1,
         3008,
         0.03
        ],
        [
         "VIVA PAPER TOWEL 1 PACK 2 COUNT 83 SHEET",
         1,
         3008,
         0.03
        ],
        [
         "Betty Crocker Fruit Gushers - Strawberry Splash & Tropical, 16 Oz",
         1,
         3008,
         0.03
        ],
        [
         "PLANTERS Unsalted Premium Cashews, 33 Ounce",
         1,
         3008,
         0.03
        ],
        [
         "OSCAR MAYER Selects Slow Roast Turkey 16OZ Tray",
         1,
         3008,
         0.03
        ],
        [
         "TIC TAC WNTR DXTR SGR PC BRTH SWTN CNST BP 6PK 0.5 OZ",
         1,
         3008,
         0.03
        ],
        [
         "Philadelphia Original Cream Cheese Spread 2-16 OZ",
         1,
         3008,
         0.03
        ],
        [
         "FAGE YOG",
         1,
         3008,
         0.03
        ],
        [
         "FRZ ORGBLUE",
         1,
         3008,
         0.03
        ],
        [
         "Simple Truth Organic Fat Free Vegetable Broth",
         1,
         3008,
         0.03
        ],
        [
         "OSCAR MAYER Natural Applewood Smoked Uncured Ham 8 oz",
         1,
         3008,
         0.03
        ],
        [
         "KMPS SLC FRM CWS NOT TRTD WTH RBST PSTR HMGN DRY RFRG MLK JUG 64 FL OZ",
         1,
         3008,
         0.03
        ],
        [
         "Old El Paso Restaurant Grande Shells, 6 Count",
         1,
         3008,
         0.03
        ],
        [
         "CHQT BNN SNGL FRT 1 CT",
         1,
         3008,
         0.03
        ],
        [
         "Famous Dave's Award Winning Rib Rub",
         1,
         3008,
         0.03
        ],
        [
         "Nestle Chocolate Chip Cookie Dough",
         1,
         3008,
         0.03
        ],
        [
         "OSCAR MAYER 97% Fat Free Ham & Turkey Sub Kit, 28 oz",
         1,
         3008,
         0.03
        ],
        [
         "Old El Paso Taco Original Seasoning Mix, 1 Oz",
         1,
         3008,
         0.03
        ],
        [
         "Good Seasons Balsamic Dressing - 0.7oz",
         1,
         3008,
         0.03
        ],
        [
         "Arnold Organic 22 Grains and Seeds Bread, Non-GMO Organic Bread, 27 oz",
         1,
         3008,
         0.03
        ],
        [
         "SUAVE KIDS PURELY AWESOME TEARLESS SHAMPOO AND CONDITIONER IN ONE LIQUID PLASTIC BOTTLE RP 12 OZ",
         1,
         3008,
         0.03
        ],
        [
         "Drumstick Vanilla Rte Cereal - 17.5Oz",
         1,
         3008,
         0.03
        ],
        [
         "PHILADELPHIA Cream Cheese Dips Southwest Style Black Bean & Corn 10 OZ",
         1,
         3008,
         0.03
        ],
        [
         "KRAFT BACK TO NATURE CHEDDAR CHEESE SHELL MACARONI AND CHEESE MIX 6 OZ - 0759283400081",
         1,
         3008,
         0.03
        ],
        [
         "Kraft Indulgence Creamy Blue Cheese Dressing",
         1,
         3008,
         0.03
        ],
        [
         "TASSIMO French Vanilla T-Discs, 80ct",
         1,
         3008,
         0.03
        ],
        [
         "GV WORCESTE",
         1,
         3008,
         0.03
        ],
        [
         "JELL-O Play Ocean Cutters Kit Strawberry 2 - 3 OZ Boxes",
         1,
         3008,
         0.03
        ],
        [
         "HUGGIES SPECIAL DELIVERY NEWBORN DISPOSABLE DIAPER BOX 66 CT",
         1,
         3008,
         0.03
        ],
        [
         "DOVE MEN PLUS CARE SOAP 4 CT AQUA IMPACT SP 16 OZ",
         1,
         3008,
         0.03
        ],
        [
         "VASELINE COCOA BUTTER SKIN MOISTURIZER LOTION CONDITIONING RP 34.5 OZ",
         1,
         3008,
         0.03
        ],
        [
         "CHEESE PIMTO",
         1,
         3008,
         0.03
        ],
        [
         "PLANTERS Peanut, Cashew & Almond Blend, 5.75 oz",
         1,
         3008,
         0.03
        ],
        [
         "That's Smart! Chili Powder",
         1,
         3008,
         0.03
        ],
        [
         "P3 Peanuts Beef Jerky Sunflower Kernels Portable Protein Pack - 5.4oz - 3ct",
         1,
         3008,
         0.03
        ],
        [
         "Kemps Chocolate Chip Ice Cream Sandwiches",
         1,
         3008,
         0.03
        ],
        [
         "Yoplait Fiber One Non-Fat Yogurt - Peach & Vanilla, 6 Pack",
         1,
         3008,
         0.03
        ],
        [
         "KRAFT Original Barbecue Sauce 40 OZ Bottle",
         1,
         3008,
         0.03
        ],
        [
         "DOVE MEN PLUS CARE AQUA IMPACT WASH SOAP TOTTLE SP 19.8 OZ",
         1,
         3008,
         0.03
        ],
        [
         "PHILADELPHIA Snack BAR Strawberry CheeseC 1 CT 002100000136",
         1,
         3008,
         0.03
        ],
        [
         "Totino's Triple Meat Party Pizza, 10.5 Oz",
         1,
         3008,
         0.03
        ],
        [
         "ORE-IDA Golden Fries - 32oz",
         1,
         3008,
         0.03
        ],
        [
         "OSCAR MAYER P3 Slow Roasted Chicken Breast Mild Cheddar Lunch Tray 5Pack 2 OZ 004470007530",
         1,
         3008,
         0.03
        ],
        [
         "TIGI BED HEAD B FOR MEN CLEAN UP CLEANSING SHAMPOO LIQUID PLASTIC TUBE RP 8.45 OZ - 0822142991521",
         1,
         3008,
         0.03
        ],
        [
         "MAXWELL HOUSE Orange International Cafe Beverage Mix, 9.3 OZ",
         1,
         3008,
         0.03
        ],
        [
         "PLANTERS Mixed Nuts, 15oz Can",
         1,
         3008,
         0.03
        ],
        [
         "DEGREE CLINICAL PROTECTION MOTION SENSE ANTIPERSPIRANT DEODORANT REGULAR PLASTIC CONTAINER IN BOX 1.7 OZ",
         1,
         3008,
         0.03
        ],
        [
         "Oscar Mayer Lunchables Mexican Style Chicken Tacos with Tortillas Cheese Shreds & Churro Cookies",
         1,
         3008,
         0.03
        ],
        [
         "CORN NUTS Chile Picante con Limon Crunchy Corn Kernels 1.7 OZ Bag",
         1,
         3008,
         0.03
        ],
        [
         "Private Selection Biscuits, Petit Beurre, Dark Chocolate",
         1,
         3008,
         0.03
        ],
        [
         "TANG Drink Mix 6 QT GV Pineapple Concentrate Powder Sugar Cold Water 18 OZ 007022100669",
         1,
         3008,
         0.03
        ],
        [
         "WET ONE FRE",
         1,
         3008,
         0.03
        ],
        [
         "CAPRI SUN Organic Strawberry Lemonade - 10pk/6 fl oz",
         1,
         3008,
         0.03
        ],
        [
         "MRS CBS CHS CRSP PRMS 100 PCT BKD RND GRT ON SP GRT ON PST GRT ON SLD 1.98 OZ",
         1,
         3008,
         0.03
        ],
        [
         "Cookie Crisp Rte Cereal - Family Size",
         1,
         3008,
         0.03
        ],
        [
         "RITZ Nabisco Sour Cream & Onion Toasted Chips",
         1,
         3008,
         0.03
        ],
        [
         "KRAFT Brand Dressing Pourable Blue Cheese Dressing, 128 Ounce",
         1,
         3008,
         0.03
        ],
        [
         "MRS CBS SW TRTL STRP DRY SLD TPNG BAG 4 OZ",
         1,
         3008,
         0.03
        ],
        [
         "FRTN RFRG FLT YKSB BAG 7 OZ",
         1,
         3008,
         0.03
        ],
        [
         "OLD EL PASO SAUCE",
         1,
         3008,
         0.03
        ],
        [
         "RITZ Salsa Verde Corn Toasted Chips",
         1,
         3008,
         0.03
        ],
        [
         "PURE LEAF CHAMOMILE HERBAL TEA .74 OZ",
         1,
         3008,
         0.03
        ],
        [
         "Trix & Cocoa Puffs & Lucky Charms Rte Cereal - 38.5Oz",
         1,
         3008,
         0.03
        ],
        [
         "PLANTERS Deluxe Mixed Nuts With Sea Salt - 34oz",
         1,
         3008,
         0.03
        ],
        [
         "PRGR PNK LMN PPR ALL PRPS BRD CRMB BOX 8 OZ",
         1,
         3008,
         0.03
        ],
        [
         "JN O TRKY GRND 7 PCT FAT 93 PCT LN LN KP RFRG TRY IN SLV 16 OZ",
         1,
         3008,
         0.03
        ],
        [
         "ORG CARROTS",
         1,
         3008,
         0.03
        ],
        [
         "Fage 0% Peach Greek Yogurt",
         1,
         3008,
         0.03
        ],
        [
         "Renuzit Air Freshener - Pearl Scents - Sparkling Rain",
         1,
         3008,
         0.03
        ],
        [
         "CAPRI SUN Fruit Refreshers Orange Pineapple TANGo - 10pk/6 fl oz Pouch",
         1,
         3008,
         0.03
        ],
        [
         "YUMMALLO RAINBOW MARSHMALLOW 6.5 OZ - 0857484001151",
         1,
         3008,
         0.03
        ],
        [
         "CRYSTAL LIGHT Peach Ice Tea Mix 98% Caffeine-Free 20 Serving TB Envelope In Box Powder 0.7 OZ 004300097163",
         1,
         3008,
         0.03
        ],
        [
         "COTTONELLE ULTRA COMFORT CARE MEGA ROLL 2 PLY 284 COTTON TOILET TISSUE 12 CT",
         1,
         3008,
         0.03
        ],
        [
         "FRZ.ORGBLUE",
         1,
         3008,
         0.03
        ],
        [
         "Loose Carrots",
         1,
         3008,
         0.03
        ],
        [
         "Taco Bell Home Originals Components",
         1,
         3008,
         0.03
        ],
        [
         "Hy-Vee Santa Fe Style Tortilla Strips",
         1,
         3008,
         0.03
        ],
        [
         "CAPRI SUN Roarin' Waters Fruit Punch Beverage, 10 count, 60 Fl Oz",
         1,
         3008,
         0.03
        ],
        [
         "OSCAR MAYER Fun Pack Pepperoni Kabobble 8 oz",
         1,
         3008,
         0.03
        ],
        [
         "Kitchen Basics Organic Free-Range Chicken Stock for Cooking",
         1,
         3008,
         0.03
        ],
        [
         "Boca Essentials Breakfast Scramble Burgers",
         1,
         3008,
         0.03
        ],
        [
         "Cadbury Dairy Milk Caramello Bar",
         1,
         3008,
         0.03
        ],
        [
         "KRAFT Salad Dressing Thousand Island, 8 fl oz",
         1,
         3008,
         0.03
        ],
        [
         "Large Gala Apples",
         1,
         3008,
         0.03
        ],
        [
         "OSCAR MAYER Cold Cuts Beef Bologna 2-16OZ Packs",
         1,
         3008,
         0.03
        ],
        [
         "Bull's Eye Brewer's Best Barbecue Sauce with Guinness 18.00-oz",
         1,
         3008,
         0.03
        ],
        [
         "ONIONS",
         1,
         3008,
         0.03
        ],
        [
         "Arrowhead Mountain Spring Water, 16.9 Fl Oz, 32 Count",
         1,
         3008,
         0.03
        ],
        [
         "CORN NUTS Ranch - 1.7 oz. bag, 216 per case",
         1,
         3008,
         0.03
        ],
        [
         "SMART MADE Black Beans & Cheese over Cilantro-Lime Rice",
         1,
         3008,
         0.03
        ],
        [
         "GERBER GRADUATES LIL ENTREES MEALS MEALS NON - ORGANIC SRSTINTRKMTSCWGYLWBN TRAY 1 PK - 00011500005608",
         1,
         3008,
         0.03
        ],
        [
         "-Cheddar",
         1,
         3008,
         0.03
        ],
        [
         "T.G.I. FRIDAY'S(r) Loaded Cheddar & Bacon Potato Skins 32 OZ Box",
         1,
         3008,
         0.03
        ],
        [
         "GEVALIA Espresso Roast Regular Whole Bean Coffee 7 OZ Bag",
         1,
         3008,
         0.03
        ],
        [
         "CLASSICO Signature Recipes Traditional Basil Pesto Sauce & Spread, 8.1 Oz",
         1,
         3008,
         0.03
        ],
        [
         "KRAFT Catalina Dressing 24.00-fl oz",
         1,
         3008,
         0.03
        ],
        [
         "BAKER'S Pure Cocoa Powder 8 OZ Tin",
         1,
         3008,
         0.03
        ],
        [
         "OSCAR MAYER LUNCHABLES with Smoothie Deep Dish Pizza with Pepperoni Lunch Combinations, 4.0 oz",
         1,
         3008,
         0.03
        ],
        [
         "MAXWELL HOUSE International Cafe Flavor Instant Coffee Caffeine Dutch Chocolate Mint Bag 8.5 OZ 004300000017",
         1,
         3008,
         0.03
        ],
        [
         "Simple Truth Top Round Roast Beef",
         1,
         3008,
         0.03
        ],
        [
         "MAGNUM FROZEN ICE CREAM NOVELTY VNL BN S SLT CRM SWR 9 CT 30.42 OZ",
         1,
         3008,
         0.03
        ],
        [
         "C & H 454 SRVG WHT CN GRNL SGR BAG 4 LB",
         1,
         3008,
         0.03
        ],
        [
         "R.W. Knudsen Organic Beet Juice",
         1,
         3008,
         0.03
        ]
       ],
       "datasetInfos": [
        {
         "name": "_sqldf",
         "schema": {
          "fields": [
           {
            "metadata": {},
            "name": "description",
            "nullable": true,
            "type": "string"
           },
           {
            "metadata": {},
            "name": "null_record_count",
            "nullable": false,
            "type": "long"
           },
           {
            "metadata": {},
            "name": "total_records",
            "nullable": true,
            "type": "long"
           },
           {
            "metadata": {},
            "name": "percentage",
            "nullable": true,
            "type": "double"
           }
          ],
          "type": "struct"
         },
         "tableIdentifier": null,
         "typeStr": "pyspark.sql.connect.dataframe.DataFrame"
        }
       ],
       "dbfsResultPath": null,
       "isJsonSchema": true,
       "metadata": {
        "createTempViewForImplicitDf": true,
        "dataframeName": "_sqldf",
        "executionCount": 319
       },
       "overflow": false,
       "plotOptions": {
        "customPlotOptions": {},
        "displayType": "table",
        "pivotAggregation": null,
        "pivotColumns": null,
        "xColumns": null,
        "yColumns": null
       },
       "removedWidgets": [],
       "schema": [
        {
         "metadata": "{}",
         "name": "description",
         "type": "\"string\""
        },
        {
         "metadata": "{}",
         "name": "null_record_count",
         "type": "\"long\""
        },
        {
         "metadata": "{}",
         "name": "total_records",
         "type": "\"long\""
        },
        {
         "metadata": "{}",
         "name": "percentage",
         "type": "\"double\""
        }
       ],
       "type": "table"
      }
     },
     "output_type": "display_data"
    }
   ],
   "source": [
    "%sql\n",
    "-- Checking the records with invalid barcodes and their counts\n",
    "-- Recommendation to investigate why so many barcodes are not covered in the brands table\n",
    "with aggregated as (\n",
    "select \n",
    "  description, \n",
    "  count(*) as null_record_count\n",
    "from fetch.items_raw\n",
    "where barcode not in (select distinct barcode from fetch.brands_processed)\n",
    "group by \n",
    "  1)\n",
    "\n",
    "select \n",
    "  description,\n",
    "  null_record_count,\n",
    "  sum(null_record_count) over () as total_records,\n",
    "  round(null_record_count/sum(null_record_count) over () *100 , 2) as percentage\n",
    "from aggregated\n",
    "order by 2 desc"
   ]
  },
  {
   "cell_type": "code",
   "execution_count": 0,
   "metadata": {
    "application/vnd.databricks.v1+cell": {
     "cellMetadata": {
      "byteLimit": 2048000,
      "implicitDf": true,
      "rowLimit": 10000
     },
     "inputWidgets": {},
     "nuid": "554d4616-7c81-44a2-b05d-8bc262aae619",
     "showTitle": false,
     "tableResultSettingsMap": {},
     "title": ""
    }
   },
   "outputs": [
    {
     "output_type": "display_data",
     "data": {
      "text/html": [
       "<style scoped>\n",
       "  .table-result-container {\n",
       "    max-height: 300px;\n",
       "    overflow: auto;\n",
       "  }\n",
       "  table, th, td {\n",
       "    border: 1px solid black;\n",
       "    border-collapse: collapse;\n",
       "  }\n",
       "  th, td {\n",
       "    padding: 5px;\n",
       "  }\n",
       "  th {\n",
       "    text-align: left;\n",
       "  }\n",
       "</style><div class='table-result-container'><table class='table-result'><thead style='background-color: white'><tr><th>receiptID_nulls_percentage</th><th>barcode_nulls_percentage</th><th>brandCode_nulls_percentage</th><th>competitiveProduct_nulls_percentage</th><th>competitorRewardsGroup_nulls_percentage</th><th>deleted_nulls_percentage</th><th>description_nulls_percentage</th><th>discountedItemPrice_nulls_percentage</th><th>finalPrice_nulls_percentage</th><th>itemNumber_nulls_percentage</th><th>metabriteCampaignId_nulls_percentage</th><th>needsFetchReviewReason_nulls_percentage</th><th>originalFinalPrice_nulls_percentage</th><th>originalMetaBriteBarcode_nulls_percentage</th><th>originalMetaBriteDescription_nulls_percentage</th><th>originalMetaBriteItemPrice_nulls_percentage</th><th>originalMetaBriteQuantityPurchased_nulls_percentage</th><th>originalReceiptItemText_nulls_percentage</th><th>partnerItemId_nulls_percentage</th><th>pointsEarned_nulls_percentage</th><th>pointsNotAwardedReason_nulls_percentage</th><th>pointsPayerId_nulls_percentage</th><th>preventTargetGapPoints_nulls_percentage</th><th>priceAfterCoupon_nulls_percentage</th><th>quantityPurchased_nulls_percentage</th><th>rewardsGroup_nulls_percentage</th><th>rewardsProductPartnerId_nulls_percentage</th><th>targetPrice_nulls_percentage</th><th>userFlaggedBarcode_nulls_percentage</th><th>userFlaggedDescription_nulls_percentage</th><th>userFlaggedNewItem_nulls_percentage</th><th>userFlaggedPrice_nulls_percentage</th><th>userFlaggedQuantity_nulls_percentage</th></tr></thead><tbody><tr><td>0.0</td><td>0.55</td><td>0.63</td><td>0.91</td><td>0.96</td><td>1.0</td><td>0.05</td><td>0.17</td><td>0.03</td><td>0.98</td><td>0.88</td><td>0.97</td><td>1.0</td><td>0.99</td><td>1.0</td><td>1.0</td><td>1.0</td><td>0.17</td><td>0.0</td><td>0.87</td><td>0.95</td><td>0.82</td><td>0.95</td><td>0.86</td><td>0.03</td><td>0.75</td><td>0.67</td><td>0.95</td><td>0.95</td><td>0.97</td><td>0.95</td><td>0.96</td><td>0.96</td></tr></tbody></table></div>"
      ]
     },
     "metadata": {
      "application/vnd.databricks.v1+output": {
       "addedWidgets": {},
       "aggData": [],
       "aggError": "",
       "aggOverflow": false,
       "aggSchema": [],
       "aggSeriesLimitReached": false,
       "aggType": "",
       "arguments": {},
       "columnCustomDisplayInfos": {},
       "data": [
        [
         0.0,
         0.55,
         0.63,
         0.91,
         0.96,
         1.0,
         0.05,
         0.17,
         0.03,
         0.98,
         0.88,
         0.97,
         1.0,
         0.99,
         1.0,
         1.0,
         1.0,
         0.17,
         0.0,
         0.87,
         0.95,
         0.82,
         0.95,
         0.86,
         0.03,
         0.75,
         0.67,
         0.95,
         0.95,
         0.97,
         0.95,
         0.96,
         0.96
        ]
       ],
       "datasetInfos": [
        {
         "name": "_sqldf",
         "schema": {
          "fields": [
           {
            "metadata": {},
            "name": "receiptID_nulls_percentage",
            "nullable": true,
            "type": "double"
           },
           {
            "metadata": {},
            "name": "barcode_nulls_percentage",
            "nullable": true,
            "type": "double"
           },
           {
            "metadata": {},
            "name": "brandCode_nulls_percentage",
            "nullable": true,
            "type": "double"
           },
           {
            "metadata": {},
            "name": "competitiveProduct_nulls_percentage",
            "nullable": true,
            "type": "double"
           },
           {
            "metadata": {},
            "name": "competitorRewardsGroup_nulls_percentage",
            "nullable": true,
            "type": "double"
           },
           {
            "metadata": {},
            "name": "deleted_nulls_percentage",
            "nullable": true,
            "type": "double"
           },
           {
            "metadata": {},
            "name": "description_nulls_percentage",
            "nullable": true,
            "type": "double"
           },
           {
            "metadata": {},
            "name": "discountedItemPrice_nulls_percentage",
            "nullable": true,
            "type": "double"
           },
           {
            "metadata": {},
            "name": "finalPrice_nulls_percentage",
            "nullable": true,
            "type": "double"
           },
           {
            "metadata": {},
            "name": "itemNumber_nulls_percentage",
            "nullable": true,
            "type": "double"
           },
           {
            "metadata": {},
            "name": "metabriteCampaignId_nulls_percentage",
            "nullable": true,
            "type": "double"
           },
           {
            "metadata": {},
            "name": "needsFetchReviewReason_nulls_percentage",
            "nullable": true,
            "type": "double"
           },
           {
            "metadata": {},
            "name": "originalFinalPrice_nulls_percentage",
            "nullable": true,
            "type": "double"
           },
           {
            "metadata": {},
            "name": "originalMetaBriteBarcode_nulls_percentage",
            "nullable": true,
            "type": "double"
           },
           {
            "metadata": {},
            "name": "originalMetaBriteDescription_nulls_percentage",
            "nullable": true,
            "type": "double"
           },
           {
            "metadata": {},
            "name": "originalMetaBriteItemPrice_nulls_percentage",
            "nullable": true,
            "type": "double"
           },
           {
            "metadata": {},
            "name": "originalMetaBriteQuantityPurchased_nulls_percentage",
            "nullable": true,
            "type": "double"
           },
           {
            "metadata": {},
            "name": "originalReceiptItemText_nulls_percentage",
            "nullable": true,
            "type": "double"
           },
           {
            "metadata": {},
            "name": "partnerItemId_nulls_percentage",
            "nullable": true,
            "type": "double"
           },
           {
            "metadata": {},
            "name": "pointsEarned_nulls_percentage",
            "nullable": true,
            "type": "double"
           },
           {
            "metadata": {},
            "name": "pointsNotAwardedReason_nulls_percentage",
            "nullable": true,
            "type": "double"
           },
           {
            "metadata": {},
            "name": "pointsPayerId_nulls_percentage",
            "nullable": true,
            "type": "double"
           },
           {
            "metadata": {},
            "name": "preventTargetGapPoints_nulls_percentage",
            "nullable": true,
            "type": "double"
           },
           {
            "metadata": {},
            "name": "priceAfterCoupon_nulls_percentage",
            "nullable": true,
            "type": "double"
           },
           {
            "metadata": {},
            "name": "quantityPurchased_nulls_percentage",
            "nullable": true,
            "type": "double"
           },
           {
            "metadata": {},
            "name": "rewardsGroup_nulls_percentage",
            "nullable": true,
            "type": "double"
           },
           {
            "metadata": {},
            "name": "rewardsProductPartnerId_nulls_percentage",
            "nullable": true,
            "type": "double"
           },
           {
            "metadata": {},
            "name": "targetPrice_nulls_percentage",
            "nullable": true,
            "type": "double"
           },
           {
            "metadata": {},
            "name": "userFlaggedBarcode_nulls_percentage",
            "nullable": true,
            "type": "double"
           },
           {
            "metadata": {},
            "name": "userFlaggedDescription_nulls_percentage",
            "nullable": true,
            "type": "double"
           },
           {
            "metadata": {},
            "name": "userFlaggedNewItem_nulls_percentage",
            "nullable": true,
            "type": "double"
           },
           {
            "metadata": {},
            "name": "userFlaggedPrice_nulls_percentage",
            "nullable": true,
            "type": "double"
           },
           {
            "metadata": {},
            "name": "userFlaggedQuantity_nulls_percentage",
            "nullable": true,
            "type": "double"
           }
          ],
          "type": "struct"
         },
         "tableIdentifier": null,
         "typeStr": "pyspark.sql.connect.dataframe.DataFrame"
        }
       ],
       "dbfsResultPath": null,
       "isJsonSchema": true,
       "metadata": {
        "createTempViewForImplicitDf": true,
        "dataframeName": "_sqldf",
        "executionCount": 351
       },
       "overflow": false,
       "plotOptions": {
        "customPlotOptions": {},
        "displayType": "table",
        "pivotAggregation": null,
        "pivotColumns": null,
        "xColumns": null,
        "yColumns": null
       },
       "removedWidgets": [],
       "schema": [
        {
         "metadata": "{}",
         "name": "receiptID_nulls_percentage",
         "type": "\"double\""
        },
        {
         "metadata": "{}",
         "name": "barcode_nulls_percentage",
         "type": "\"double\""
        },
        {
         "metadata": "{}",
         "name": "brandCode_nulls_percentage",
         "type": "\"double\""
        },
        {
         "metadata": "{}",
         "name": "competitiveProduct_nulls_percentage",
         "type": "\"double\""
        },
        {
         "metadata": "{}",
         "name": "competitorRewardsGroup_nulls_percentage",
         "type": "\"double\""
        },
        {
         "metadata": "{}",
         "name": "deleted_nulls_percentage",
         "type": "\"double\""
        },
        {
         "metadata": "{}",
         "name": "description_nulls_percentage",
         "type": "\"double\""
        },
        {
         "metadata": "{}",
         "name": "discountedItemPrice_nulls_percentage",
         "type": "\"double\""
        },
        {
         "metadata": "{}",
         "name": "finalPrice_nulls_percentage",
         "type": "\"double\""
        },
        {
         "metadata": "{}",
         "name": "itemNumber_nulls_percentage",
         "type": "\"double\""
        },
        {
         "metadata": "{}",
         "name": "metabriteCampaignId_nulls_percentage",
         "type": "\"double\""
        },
        {
         "metadata": "{}",
         "name": "needsFetchReviewReason_nulls_percentage",
         "type": "\"double\""
        },
        {
         "metadata": "{}",
         "name": "originalFinalPrice_nulls_percentage",
         "type": "\"double\""
        },
        {
         "metadata": "{}",
         "name": "originalMetaBriteBarcode_nulls_percentage",
         "type": "\"double\""
        },
        {
         "metadata": "{}",
         "name": "originalMetaBriteDescription_nulls_percentage",
         "type": "\"double\""
        },
        {
         "metadata": "{}",
         "name": "originalMetaBriteItemPrice_nulls_percentage",
         "type": "\"double\""
        },
        {
         "metadata": "{}",
         "name": "originalMetaBriteQuantityPurchased_nulls_percentage",
         "type": "\"double\""
        },
        {
         "metadata": "{}",
         "name": "originalReceiptItemText_nulls_percentage",
         "type": "\"double\""
        },
        {
         "metadata": "{}",
         "name": "partnerItemId_nulls_percentage",
         "type": "\"double\""
        },
        {
         "metadata": "{}",
         "name": "pointsEarned_nulls_percentage",
         "type": "\"double\""
        },
        {
         "metadata": "{}",
         "name": "pointsNotAwardedReason_nulls_percentage",
         "type": "\"double\""
        },
        {
         "metadata": "{}",
         "name": "pointsPayerId_nulls_percentage",
         "type": "\"double\""
        },
        {
         "metadata": "{}",
         "name": "preventTargetGapPoints_nulls_percentage",
         "type": "\"double\""
        },
        {
         "metadata": "{}",
         "name": "priceAfterCoupon_nulls_percentage",
         "type": "\"double\""
        },
        {
         "metadata": "{}",
         "name": "quantityPurchased_nulls_percentage",
         "type": "\"double\""
        },
        {
         "metadata": "{}",
         "name": "rewardsGroup_nulls_percentage",
         "type": "\"double\""
        },
        {
         "metadata": "{}",
         "name": "rewardsProductPartnerId_nulls_percentage",
         "type": "\"double\""
        },
        {
         "metadata": "{}",
         "name": "targetPrice_nulls_percentage",
         "type": "\"double\""
        },
        {
         "metadata": "{}",
         "name": "userFlaggedBarcode_nulls_percentage",
         "type": "\"double\""
        },
        {
         "metadata": "{}",
         "name": "userFlaggedDescription_nulls_percentage",
         "type": "\"double\""
        },
        {
         "metadata": "{}",
         "name": "userFlaggedNewItem_nulls_percentage",
         "type": "\"double\""
        },
        {
         "metadata": "{}",
         "name": "userFlaggedPrice_nulls_percentage",
         "type": "\"double\""
        },
        {
         "metadata": "{}",
         "name": "userFlaggedQuantity_nulls_percentage",
         "type": "\"double\""
        }
       ],
       "type": "table"
      }
     },
     "output_type": "display_data"
    }
   ],
   "source": [
    "%sql\n",
    "-- looking at the null percentages of the fields\n",
    "-- A ton of fields have nulls and would need to dig further to see why there are so many and potential imputation methods\n",
    "-- Investigate whether all these fields are needed in the items table. Potentially expand the brands table to include certain fields\n",
    "select \n",
    "  round(sum(case when receiptID is null then 1 else 0 end)/ count(*), 2) as receiptID_nulls_percentage,\n",
    "  round(sum(case when barcode is null then 1 else 0 end)/ count(*), 2) as barcode_nulls_percentage,\n",
    "  round(sum(case when brandCode is null then 1 else 0 end)/ count(*), 2) as brandCode_nulls_percentage,\n",
    "  round(sum(case when competitiveProduct is null then 1 else 0 end)/ count(*), 2) as competitiveProduct_nulls_percentage,\n",
    "  round(sum(case when competitorRewardsGroup is null then 1 else 0 end)/ count(*), 2) as competitorRewardsGroup_nulls_percentage,\n",
    "  round(sum(case when deleted is null then 1 else 0 end)/ count(*), 2) as deleted_nulls_percentage,\n",
    "  round(sum(case when description is null then 1 else 0 end)/ count(*), 2) as description_nulls_percentage,\n",
    "  round(sum(case when discountedItemPrice is null then 1 else 0 end)/ count(*), 2) as discountedItemPrice_nulls_percentage,\n",
    "  round(sum(case when finalPrice is null then 1 else 0 end)/ count(*), 2) as finalPrice_nulls_percentage,\n",
    "  round(sum(case when itemNumber is null then 1 else 0 end)/ count(*), 2) as itemNumber_nulls_percentage,\n",
    "  round(sum(case when metabriteCampaignId is null then 1 else 0 end)/ count(*), 2) as metabriteCampaignId_nulls_percentage,\n",
    "  round(sum(case when needsFetchReviewReason is null then 1 else 0 end)/ count(*), 2) as needsFetchReviewReason_nulls_percentage,\n",
    "  round(sum(case when originalFinalPrice is null then 1 else 0 end)/ count(*), 2) as originalFinalPrice_nulls_percentage,\n",
    "  round(sum(case when originalMetaBriteBarcode is null then 1 else 0 end)/ count(*), 2) as originalMetaBriteBarcode_nulls_percentage,\n",
    "  round(sum(case when originalMetaBriteDescription is null then 1 else 0 end)/ count(*), 2) as originalMetaBriteDescription_nulls_percentage,\n",
    "  round(sum(case when originalMetaBriteItemPrice is null then 1 else 0 end)/ count(*), 2) as originalMetaBriteItemPrice_nulls_percentage,\n",
    "  round(sum(case when originalMetaBriteQuantityPurchased is null then 1 else 0 end)/ count(*), 2) as originalMetaBriteQuantityPurchased_nulls_percentage,\n",
    "  round(sum(case when originalReceiptItemText is null then 1 else 0 end)/ count(*), 2) as originalReceiptItemText_nulls_percentage,\n",
    "  round(sum(case when partnerItemId is null then 1 else 0 end)/ count(*), 2) as partnerItemId_nulls_percentage,\n",
    "  round(sum(case when pointsEarned is null then 1 else 0 end)/ count(*), 2) as pointsEarned_nulls_percentage,\n",
    "  round(sum(case when pointsNotAwardedReason is null then 1 else 0 end)/ count(*), 2) as pointsNotAwardedReason_nulls_percentage,\n",
    "  round(sum(case when pointsPayerId is null then 1 else 0 end)/ count(*), 2) as pointsPayerId_nulls_percentage,\n",
    "  round(sum(case when preventTargetGapPoints is null then 1 else 0 end)/ count(*), 2) as preventTargetGapPoints_nulls_percentage,\n",
    "  round(sum(case when priceAfterCoupon is null then 1 else 0 end)/ count(*), 2) as priceAfterCoupon_nulls_percentage,\n",
    "  round(sum(case when quantityPurchased is null then 1 else 0 end)/ count(*), 2) as quantityPurchased_nulls_percentage,\n",
    "  round(sum(case when rewardsGroup is null then 1 else 0 end)/ count(*), 2) as rewardsGroup_nulls_percentage,\n",
    "  round(sum(case when rewardsProductPartnerId is null then 1 else 0 end)/ count(*), 2) as rewardsProductPartnerId_nulls_percentage,\n",
    "  round(sum(case when targetPrice is null then 1 else 0 end)/ count(*), 2) as targetPrice_nulls_percentage,\n",
    "  round(sum(case when userFlaggedBarcode is null then 1 else 0 end)/ count(*), 2) as userFlaggedBarcode_nulls_percentage,\n",
    "  round(sum(case when userFlaggedDescription is null then 1 else 0 end)/ count(*), 2) as userFlaggedDescription_nulls_percentage,\n",
    "  round(sum(case when userFlaggedNewItem is null then 1 else 0 end)/ count(*), 2) as userFlaggedNewItem_nulls_percentage,\n",
    "  round(sum(case when userFlaggedPrice is null then 1 else 0 end)/ count(*), 2) as userFlaggedPrice_nulls_percentage,\n",
    "  round(sum(case when userFlaggedQuantity is null then 1 else 0 end)/ count(*), 2) as userFlaggedQuantity_nulls_percentage\n",
    "from fetch.items_raw  "
   ]
  },
  {
   "cell_type": "code",
   "execution_count": 0,
   "metadata": {
    "application/vnd.databricks.v1+cell": {
     "cellMetadata": {
      "byteLimit": 2048000,
      "implicitDf": true,
      "rowLimit": 10000
     },
     "inputWidgets": {},
     "nuid": "afe3315b-f690-46c0-a8c9-8428c0504242",
     "showTitle": false,
     "tableResultSettingsMap": {},
     "title": ""
    }
   },
   "outputs": [
    {
     "output_type": "display_data",
     "data": {
      "text/html": [
       "<style scoped>\n",
       "  .table-result-container {\n",
       "    max-height: 300px;\n",
       "    overflow: auto;\n",
       "  }\n",
       "  table, th, td {\n",
       "    border: 1px solid black;\n",
       "    border-collapse: collapse;\n",
       "  }\n",
       "  th, td {\n",
       "    padding: 5px;\n",
       "  }\n",
       "  th {\n",
       "    text-align: left;\n",
       "  }\n",
       "</style><div class='table-result-container'><table class='table-result'><thead style='background-color: white'><tr><th>num_affected_rows</th><th>num_inserted_rows</th></tr></thead><tbody></tbody></table></div>"
      ]
     },
     "metadata": {
      "application/vnd.databricks.v1+output": {
       "addedWidgets": {},
       "aggData": [],
       "aggError": "",
       "aggOverflow": false,
       "aggSchema": [],
       "aggSeriesLimitReached": false,
       "aggType": "",
       "arguments": {},
       "columnCustomDisplayInfos": {},
       "data": [],
       "datasetInfos": [
        {
         "name": "_sqldf",
         "schema": {
          "fields": [
           {
            "metadata": {},
            "name": "num_affected_rows",
            "nullable": true,
            "type": "long"
           },
           {
            "metadata": {},
            "name": "num_inserted_rows",
            "nullable": true,
            "type": "long"
           }
          ],
          "type": "struct"
         },
         "tableIdentifier": null,
         "typeStr": "pyspark.sql.connect.dataframe.DataFrame"
        }
       ],
       "dbfsResultPath": null,
       "isJsonSchema": true,
       "metadata": {
        "createTempViewForImplicitDf": true,
        "dataframeName": "_sqldf",
        "executionCount": 450
       },
       "overflow": false,
       "plotOptions": {
        "customPlotOptions": {},
        "displayType": "table",
        "pivotAggregation": null,
        "pivotColumns": null,
        "xColumns": null,
        "yColumns": null
       },
       "removedWidgets": [],
       "schema": [
        {
         "metadata": "{}",
         "name": "num_affected_rows",
         "type": "\"long\""
        },
        {
         "metadata": "{}",
         "name": "num_inserted_rows",
         "type": "\"long\""
        }
       ],
       "type": "table"
      }
     },
     "output_type": "display_data"
    }
   ],
   "source": [
    "%sql\n",
    "-- Writing results and creating a new PK\n",
    "create or replace table fetch.items_processed \n",
    "select \n",
    "  monotonically_increasing_id() as _id,\n",
    "  receiptID,\n",
    "  barcode,\n",
    "  competitiveProduct,\n",
    "  competitorRewardsGroup,\n",
    "  deleted,\n",
    "  description,\n",
    "  discountedItemPrice,\n",
    "  finalPrice,\n",
    "  itemPrice,\n",
    "  itemNumber, \n",
    "  metabriteCampaignId,\n",
    "  needsFetchReviewReason,\n",
    "  originalFinalPrice,\n",
    "  originalMetaBriteBarcode,\n",
    "  originalMetaBriteDescription,\n",
    "  originalMetaBriteItemPrice,\n",
    "  originalMetaBriteQuantityPurchased,\n",
    "  originalReceiptItemText,\n",
    "  partnerItemId,\n",
    "  pointsEarned,\n",
    "  pointsNotAwardedReason,\n",
    "  pointsPayerId,\n",
    "  preventTargetGapPoints,\n",
    "  priceAfterCoupon,\n",
    "  quantityPurchased,\n",
    "  rewardsGroup,\n",
    "  rewardsProductPartnerId,\n",
    "  targetPrice,\n",
    "  userFlaggedBarcode,\n",
    "  userFlaggedDescription,\n",
    "  userFlaggedNewItem,\n",
    "  userFlaggedPrice,\n",
    "  userFlaggedQuantity\n",
    "from fetch.items_raw"
   ]
  },
  {
   "cell_type": "markdown",
   "metadata": {
    "application/vnd.databricks.v1+cell": {
     "cellMetadata": {},
     "inputWidgets": {},
     "nuid": "7bd66acd-6c36-41f5-8d7b-fe2217f8c9db",
     "showTitle": false,
     "tableResultSettingsMap": {},
     "title": ""
    }
   },
   "source": [
    "#### Write queries that directly answer predetermined questions from business stakeholder\n",
    "1. What are the top 5 brands by receipts scanned for most recent month?\n",
    "2. How does the ranking of the top 5 brands by receipts scanned for the recent month compare to the ranking for the previous month?\n",
    "3. When considering average spend from receipts with 'rewardsReceiptStatus’ of ‘Accepted’ or ‘Rejected’, which is greater?\n",
    "4. When considering total number of items purchased from receipts with 'rewardsReceiptStatus’ of ‘Accepted’ or ‘Rejected’, which is greater?\n",
    "5. Which brand has the most spend among users who were created within the past 6 months?\n",
    "6. Which brand has the most transactions among users who were created within the past 6 months?\n"
   ]
  },
  {
   "cell_type": "code",
   "execution_count": 0,
   "metadata": {
    "application/vnd.databricks.v1+cell": {
     "cellMetadata": {
      "byteLimit": 2048000,
      "implicitDf": true,
      "rowLimit": 10000
     },
     "inputWidgets": {},
     "nuid": "f978d6c4-4600-408c-a6de-bbcb9adb0c42",
     "showTitle": false,
     "tableResultSettingsMap": {},
     "title": ""
    }
   },
   "outputs": [
    {
     "output_type": "display_data",
     "data": {
      "text/html": [
       "<style scoped>\n",
       "  .table-result-container {\n",
       "    max-height: 300px;\n",
       "    overflow: auto;\n",
       "  }\n",
       "  table, th, td {\n",
       "    border: 1px solid black;\n",
       "    border-collapse: collapse;\n",
       "  }\n",
       "  th, td {\n",
       "    padding: 5px;\n",
       "  }\n",
       "  th {\n",
       "    text-align: left;\n",
       "  }\n",
       "</style><div class='table-result-container'><table class='table-result'><thead style='background-color: white'><tr><th>brand</th><th>receipt_count</th></tr></thead><tbody><tr><td>Mueller Austria Hypergrind Precision Electric Spice/coffee Grinder Millwith Large Grinding Capacity And Hd Motor Also For Spices, Herbs, Nuts,grains, White</td><td>13</td></tr><tr><td>Thindust Summer Face Mask - Sun Protection Neck Gaiter For Outdooractivities</td><td>13</td></tr></tbody></table></div>"
      ]
     },
     "metadata": {
      "application/vnd.databricks.v1+output": {
       "addedWidgets": {},
       "aggData": [],
       "aggError": "",
       "aggOverflow": false,
       "aggSchema": [],
       "aggSeriesLimitReached": false,
       "aggType": "",
       "arguments": {},
       "columnCustomDisplayInfos": {},
       "data": [
        [
         "Mueller Austria Hypergrind Precision Electric Spice/coffee Grinder Millwith Large Grinding Capacity And Hd Motor Also For Spices, Herbs, Nuts,grains, White",
         13
        ],
        [
         "Thindust Summer Face Mask - Sun Protection Neck Gaiter For Outdooractivities",
         13
        ]
       ],
       "datasetInfos": [
        {
         "name": "_sqldf",
         "schema": {
          "fields": [
           {
            "metadata": {},
            "name": "brand",
            "nullable": true,
            "type": "string"
           },
           {
            "metadata": {},
            "name": "receipt_count",
            "nullable": false,
            "type": "long"
           }
          ],
          "type": "struct"
         },
         "tableIdentifier": null,
         "typeStr": "pyspark.sql.connect.dataframe.DataFrame"
        }
       ],
       "dbfsResultPath": null,
       "isJsonSchema": true,
       "metadata": {
        "createTempViewForImplicitDf": true,
        "dataframeName": "_sqldf",
        "executionCount": 43
       },
       "overflow": false,
       "plotOptions": {
        "customPlotOptions": {},
        "displayType": "table",
        "pivotAggregation": null,
        "pivotColumns": null,
        "xColumns": null,
        "yColumns": null
       },
       "removedWidgets": [],
       "schema": [
        {
         "metadata": "{}",
         "name": "brand",
         "type": "\"string\""
        },
        {
         "metadata": "{}",
         "name": "receipt_count",
         "type": "\"long\""
        }
       ],
       "type": "table"
      }
     },
     "output_type": "display_data"
    }
   ],
   "source": [
    "%sql\n",
    "-- Question 1\n",
    "-- Because of lack of relationships between brands and items.barcode I used some other fields to extract some more brand information\n",
    "with most_recent_month as (\n",
    "select \n",
    "  max(date_format(scannedDate, 'yyyy-MM')) AS year_month\n",
    "from fetch.receipts_processed), \n",
    "\n",
    "joined as (\n",
    "select\n",
    "  coalesce(coalesce(c.name, b.description), b.userFlaggedDescription) as brand,\n",
    "  count(distinct a._id) as receipt_count\n",
    "from fetch.receipts_processed a\n",
    "left join fetch.items_processed b on a._id = b.receiptID\n",
    "left join fetch.brands_processed c on b.barcode = c.barcode\n",
    "where date_format(scannedDate, 'yyyy-MM') = (select year_month from most_recent_month)\n",
    "group by \n",
    "  c.name,\n",
    "  b.description,\n",
    "  b.userFlaggedDescription\n",
    "order by \n",
    "  2 desc)\n",
    "\n",
    "select \n",
    "  initcap(brand) as brand,\n",
    "  receipt_count\n",
    "from joined \n",
    "where brand is not null \n",
    "and brand not in ('ITEM NOT FOUND', '' )\n",
    "order by  \n",
    "  receipt_count desc\n",
    "limit 5"
   ]
  },
  {
   "cell_type": "code",
   "execution_count": 0,
   "metadata": {
    "application/vnd.databricks.v1+cell": {
     "cellMetadata": {
      "byteLimit": 2048000,
      "implicitDf": true,
      "rowLimit": 10000
     },
     "inputWidgets": {},
     "nuid": "53848277-4251-47ae-a1bb-bfe807d0b9e2",
     "showTitle": false,
     "tableResultSettingsMap": {},
     "title": ""
    }
   },
   "outputs": [
    {
     "output_type": "display_data",
     "data": {
      "text/html": [
       "<style scoped>\n",
       "  .table-result-container {\n",
       "    max-height: 300px;\n",
       "    overflow: auto;\n",
       "  }\n",
       "  table, th, td {\n",
       "    border: 1px solid black;\n",
       "    border-collapse: collapse;\n",
       "  }\n",
       "  th, td {\n",
       "    padding: 5px;\n",
       "  }\n",
       "  th {\n",
       "    text-align: left;\n",
       "  }\n",
       "</style><div class='table-result-container'><table class='table-result'><thead style='background-color: white'><tr><th>brand</th><th>most_recent_month_receipts</th><th>second_most_recent_month_receipts</th></tr></thead><tbody><tr><td>Thindust Summer Face Mask - Sun Protection Neck Gaiter For Outdooractivities</td><td>13</td><td>27</td></tr><tr><td>Mueller Austria Hypergrind Precision Electric Spice/coffee Grinder Millwith Large Grinding Capacity And Hd Motor Also For Spices, Herbs, Nuts,grains, White</td><td>13</td><td>27</td></tr><tr><td>Brownie Britle</td><td>0</td><td>1</td></tr><tr><td>Jif Crmy Pnt Btr Jar 40 Oz</td><td>0</td><td>2</td></tr><tr><td>Mssn Tortlla</td><td>0</td><td>2</td></tr></tbody></table></div>"
      ]
     },
     "metadata": {
      "application/vnd.databricks.v1+output": {
       "addedWidgets": {},
       "aggData": [],
       "aggError": "",
       "aggOverflow": false,
       "aggSchema": [],
       "aggSeriesLimitReached": false,
       "aggType": "",
       "arguments": {},
       "columnCustomDisplayInfos": {},
       "data": [
        [
         "Thindust Summer Face Mask - Sun Protection Neck Gaiter For Outdooractivities",
         13,
         27
        ],
        [
         "Mueller Austria Hypergrind Precision Electric Spice/coffee Grinder Millwith Large Grinding Capacity And Hd Motor Also For Spices, Herbs, Nuts,grains, White",
         13,
         27
        ],
        [
         "Brownie Britle",
         0,
         1
        ],
        [
         "Jif Crmy Pnt Btr Jar 40 Oz",
         0,
         2
        ],
        [
         "Mssn Tortlla",
         0,
         2
        ]
       ],
       "datasetInfos": [
        {
         "name": "_sqldf",
         "schema": {
          "fields": [
           {
            "metadata": {},
            "name": "brand",
            "nullable": true,
            "type": "string"
           },
           {
            "metadata": {},
            "name": "most_recent_month_receipts",
            "nullable": true,
            "type": "long"
           },
           {
            "metadata": {},
            "name": "second_most_recent_month_receipts",
            "nullable": true,
            "type": "long"
           }
          ],
          "type": "struct"
         },
         "tableIdentifier": null,
         "typeStr": "pyspark.sql.connect.dataframe.DataFrame"
        }
       ],
       "dbfsResultPath": null,
       "isJsonSchema": true,
       "metadata": {
        "createTempViewForImplicitDf": true,
        "dataframeName": "_sqldf",
        "executionCount": 18
       },
       "overflow": false,
       "plotOptions": {
        "customPlotOptions": {},
        "displayType": "table",
        "pivotAggregation": null,
        "pivotColumns": null,
        "xColumns": null,
        "yColumns": null
       },
       "removedWidgets": [],
       "schema": [
        {
         "metadata": "{}",
         "name": "brand",
         "type": "\"string\""
        },
        {
         "metadata": "{}",
         "name": "most_recent_month_receipts",
         "type": "\"long\""
        },
        {
         "metadata": "{}",
         "name": "second_most_recent_month_receipts",
         "type": "\"long\""
        }
       ],
       "type": "table"
      }
     },
     "output_type": "display_data"
    }
   ],
   "source": [
    "%sql\n",
    "-- Question 2\n",
    "-- Similar issues to question 1. Collected the results for the most recent months and displayed them side-by-side\n",
    "with year_months as (\n",
    "select distinct\n",
    "  date_format(scannedDate, 'yyyy-MM') AS year_month\n",
    "from fetch.receipts_processed),\n",
    "\n",
    "ranked_months as (\n",
    "  select \n",
    "    *,\n",
    "    row_number() over (order by year_month desc) as year_month_rank\n",
    "  from year_months\n",
    "  limit 2\n",
    "),\n",
    "\n",
    "joined as (\n",
    "select\n",
    "  d.year_month,\n",
    "  d.year_month_rank,\n",
    "  coalesce(coalesce(c.name, b.description), b.userFlaggedDescription) as brand,\n",
    "  count(distinct a._id) as receipt_count\n",
    "from fetch.receipts_processed a\n",
    "left join fetch.items_processed b on a._id = b.receiptID\n",
    "left join fetch.brands_processed c on b.barcode = c.barcode\n",
    "inner join ranked_months d on date_format(scannedDate, 'yyyy-MM') = d.year_month\n",
    "group by \n",
    "  d.year_month,\n",
    "  d.year_month_rank,\n",
    "  c.name,\n",
    "  b.description,\n",
    "  b.userFlaggedDescription\n",
    "order by \n",
    "  2 desc)\n",
    "\n",
    "select \n",
    "  initcap(brand) as brand,\n",
    "  sum(case\n",
    "    when year_month_rank = 1 then receipt_count\n",
    "    else 0 \n",
    "    end) as most_recent_month_receipts,\n",
    "    sum(case\n",
    "    when year_month_rank = 2 then receipt_count\n",
    "    else 0 \n",
    "    end) as second_most_recent_month_receipts\n",
    "from joined \n",
    "where brand is not null \n",
    "and brand not in ('ITEM NOT FOUND', '' )\n",
    "group by \n",
    "  brand\n",
    "order by  \n",
    "  most_recent_month_receipts desc\n",
    "limit 5\n"
   ]
  },
  {
   "cell_type": "code",
   "execution_count": 0,
   "metadata": {
    "application/vnd.databricks.v1+cell": {
     "cellMetadata": {
      "byteLimit": 2048000,
      "implicitDf": true,
      "rowLimit": 10000
     },
     "inputWidgets": {},
     "nuid": "ab855158-d223-4a2b-bcd3-8e2beaf60cf6",
     "showTitle": false,
     "tableResultSettingsMap": {},
     "title": ""
    }
   },
   "outputs": [
    {
     "output_type": "display_data",
     "data": {
      "text/html": [
       "<style scoped>\n",
       "  .table-result-container {\n",
       "    max-height: 300px;\n",
       "    overflow: auto;\n",
       "  }\n",
       "  table, th, td {\n",
       "    border: 1px solid black;\n",
       "    border-collapse: collapse;\n",
       "  }\n",
       "  th, td {\n",
       "    padding: 5px;\n",
       "  }\n",
       "  th {\n",
       "    text-align: left;\n",
       "  }\n",
       "</style><div class='table-result-container'><table class='table-result'><thead style='background-color: white'><tr><th>rewardsReceiptStatus</th><th>avg_spend</th></tr></thead><tbody><tr><td>FINISHED</td><td>80.854305</td></tr><tr><td>REJECTED</td><td>23.326056</td></tr></tbody></table></div>"
      ]
     },
     "metadata": {
      "application/vnd.databricks.v1+output": {
       "addedWidgets": {},
       "aggData": [],
       "aggError": "",
       "aggOverflow": false,
       "aggSchema": [],
       "aggSeriesLimitReached": false,
       "aggType": "",
       "arguments": {},
       "columnCustomDisplayInfos": {},
       "data": [
        [
         "FINISHED",
         "80.854305"
        ],
        [
         "REJECTED",
         "23.326056"
        ]
       ],
       "datasetInfos": [
        {
         "name": "_sqldf",
         "schema": {
          "fields": [
           {
            "metadata": {},
            "name": "rewardsReceiptStatus",
            "nullable": true,
            "type": "string"
           },
           {
            "metadata": {},
            "name": "avg_spend",
            "nullable": true,
            "type": "decimal(36,6)"
           }
          ],
          "type": "struct"
         },
         "tableIdentifier": null,
         "typeStr": "pyspark.sql.connect.dataframe.DataFrame"
        }
       ],
       "dbfsResultPath": null,
       "isJsonSchema": true,
       "metadata": {
        "createTempViewForImplicitDf": true,
        "dataframeName": "_sqldf",
        "executionCount": 489
       },
       "overflow": false,
       "plotOptions": {
        "customPlotOptions": {},
        "displayType": "table",
        "pivotAggregation": null,
        "pivotColumns": null,
        "xColumns": null,
        "yColumns": null
       },
       "removedWidgets": [],
       "schema": [
        {
         "metadata": "{}",
         "name": "rewardsReceiptStatus",
         "type": "\"string\""
        },
        {
         "metadata": "{}",
         "name": "avg_spend",
         "type": "\"decimal(36,6)\""
        }
       ],
       "type": "table"
      }
     },
     "output_type": "display_data"
    }
   ],
   "source": [
    "%sql\n",
    "-- Question 3\n",
    "-- Im assuming the instructions are a lil outdated since Accepted is not a value for rewardsReceiptStatus\n",
    "-- Finished is higher\n",
    "select \n",
    "  rewardsReceiptStatus,\n",
    "  avg(totalSpent) as avg_spend\n",
    "from fetch.receipts_processed\n",
    "where rewardsReceiptStatus in ('FINISHED', 'REJECTED')\n",
    "group by \n",
    "  1\n",
    "order by 2 desc"
   ]
  },
  {
   "cell_type": "code",
   "execution_count": 0,
   "metadata": {
    "application/vnd.databricks.v1+cell": {
     "cellMetadata": {
      "byteLimit": 2048000,
      "implicitDf": true,
      "rowLimit": 10000
     },
     "inputWidgets": {},
     "nuid": "6ffa43e7-a126-4190-83ee-6ee33918ab83",
     "showTitle": false,
     "tableResultSettingsMap": {},
     "title": ""
    }
   },
   "outputs": [
    {
     "output_type": "display_data",
     "data": {
      "text/html": [
       "<style scoped>\n",
       "  .table-result-container {\n",
       "    max-height: 300px;\n",
       "    overflow: auto;\n",
       "  }\n",
       "  table, th, td {\n",
       "    border: 1px solid black;\n",
       "    border-collapse: collapse;\n",
       "  }\n",
       "  th, td {\n",
       "    padding: 5px;\n",
       "  }\n",
       "  th {\n",
       "    text-align: left;\n",
       "  }\n",
       "</style><div class='table-result-container'><table class='table-result'><thead style='background-color: white'><tr><th>rewardsReceiptStatus</th><th>total_number_of_items_purchased</th></tr></thead><tbody><tr><td>FINISHED</td><td>8184</td></tr><tr><td>REJECTED</td><td>173</td></tr></tbody></table></div>"
      ]
     },
     "metadata": {
      "application/vnd.databricks.v1+output": {
       "addedWidgets": {},
       "aggData": [],
       "aggError": "",
       "aggOverflow": false,
       "aggSchema": [],
       "aggSeriesLimitReached": false,
       "aggType": "",
       "arguments": {},
       "columnCustomDisplayInfos": {},
       "data": [
        [
         "FINISHED",
         8184
        ],
        [
         "REJECTED",
         173
        ]
       ],
       "datasetInfos": [
        {
         "name": "_sqldf",
         "schema": {
          "fields": [
           {
            "metadata": {},
            "name": "rewardsReceiptStatus",
            "nullable": true,
            "type": "string"
           },
           {
            "metadata": {},
            "name": "total_number_of_items_purchased",
            "nullable": true,
            "type": "long"
           }
          ],
          "type": "struct"
         },
         "tableIdentifier": null,
         "typeStr": "pyspark.sql.connect.dataframe.DataFrame"
        }
       ],
       "dbfsResultPath": null,
       "isJsonSchema": true,
       "metadata": {
        "createTempViewForImplicitDf": true,
        "dataframeName": "_sqldf",
        "executionCount": 492
       },
       "overflow": false,
       "plotOptions": {
        "customPlotOptions": {},
        "displayType": "table",
        "pivotAggregation": null,
        "pivotColumns": null,
        "xColumns": null,
        "yColumns": null
       },
       "removedWidgets": [],
       "schema": [
        {
         "metadata": "{}",
         "name": "rewardsReceiptStatus",
         "type": "\"string\""
        },
        {
         "metadata": "{}",
         "name": "total_number_of_items_purchased",
         "type": "\"long\""
        }
       ],
       "type": "table"
      }
     },
     "output_type": "display_data"
    }
   ],
   "source": [
    "%sql\n",
    "-- Question 4\n",
    "-- Im assuming the instructions are a lil outdated since Accepted is not a value for rewardsReceiptStatus\n",
    "-- Finished is higher\n",
    "select \n",
    "  rewardsReceiptStatus,\n",
    "  sum(purchasedItemCount) as total_number_of_items_purchased\n",
    "from fetch.receipts_processed\n",
    "where rewardsReceiptStatus in ('FINISHED', 'REJECTED')\n",
    "group by \n",
    "  1\n",
    "order by 2 desc"
   ]
  },
  {
   "cell_type": "code",
   "execution_count": 0,
   "metadata": {
    "application/vnd.databricks.v1+cell": {
     "cellMetadata": {
      "byteLimit": 2048000,
      "implicitDf": true,
      "rowLimit": 10000
     },
     "inputWidgets": {},
     "nuid": "2b0afdcf-1014-4525-815c-2fd55e4a91c1",
     "showTitle": false,
     "tableResultSettingsMap": {},
     "title": ""
    }
   },
   "outputs": [
    {
     "output_type": "display_data",
     "data": {
      "text/html": [
       "<style scoped>\n",
       "  .table-result-container {\n",
       "    max-height: 300px;\n",
       "    overflow: auto;\n",
       "  }\n",
       "  table, th, td {\n",
       "    border: 1px solid black;\n",
       "    border-collapse: collapse;\n",
       "  }\n",
       "  th, td {\n",
       "    padding: 5px;\n",
       "  }\n",
       "  th {\n",
       "    text-align: left;\n",
       "  }\n",
       "</style><div class='table-result-container'><table class='table-result'><thead style='background-color: white'><tr><th>brand</th><th>totalSpent</th></tr></thead><tbody><tr><td>1% Milk</td><td>19405.89</td></tr></tbody></table></div>"
      ]
     },
     "metadata": {
      "application/vnd.databricks.v1+output": {
       "addedWidgets": {},
       "aggData": [],
       "aggError": "",
       "aggOverflow": false,
       "aggSchema": [],
       "aggSeriesLimitReached": false,
       "aggType": "",
       "arguments": {},
       "columnCustomDisplayInfos": {},
       "data": [
        [
         "1% Milk",
         "19405.89"
        ]
       ],
       "datasetInfos": [
        {
         "name": "_sqldf",
         "schema": {
          "fields": [
           {
            "metadata": {},
            "name": "brand",
            "nullable": true,
            "type": "string"
           },
           {
            "metadata": {},
            "name": "totalSpent",
            "nullable": true,
            "type": "decimal(38,2)"
           }
          ],
          "type": "struct"
         },
         "tableIdentifier": null,
         "typeStr": "pyspark.sql.connect.dataframe.DataFrame"
        }
       ],
       "dbfsResultPath": null,
       "isJsonSchema": true,
       "metadata": {
        "createTempViewForImplicitDf": true,
        "dataframeName": "_sqldf",
        "executionCount": 62
       },
       "overflow": false,
       "plotOptions": {
        "customPlotOptions": {},
        "displayType": "table",
        "pivotAggregation": null,
        "pivotColumns": null,
        "xColumns": null,
        "yColumns": null
       },
       "removedWidgets": [],
       "schema": [
        {
         "metadata": "{}",
         "name": "brand",
         "type": "\"string\""
        },
        {
         "metadata": "{}",
         "name": "totalSpent",
         "type": "\"decimal(38,2)\""
        }
       ],
       "type": "table"
      }
     },
     "output_type": "display_data"
    }
   ],
   "source": [
    "%sql\n",
    "-- Question 5\n",
    "with receipts as (\n",
    "select _id, userId, totalSpent from fetch.receipts_processed),\n",
    "\n",
    "recently_created_users as (\n",
    "select  \n",
    "  _id\n",
    "from fetch.users_processed\n",
    "where date_format(createdDate, 'yyyy-MM') >= (select date_format(add_months(max(to_date(createdDate, 'yyyy-MM')), -6), 'yyyy-MM') from fetch.users_processed))\n",
    "\n",
    "select \n",
    "  coalesce(coalesce(d.name, c.description), c.userFlaggedDescription) as brand,\n",
    "  sum(distinct totalSpent) as totalSpent\n",
    "from receipts a\n",
    "inner join recently_created_users b on a.userId = b._id\n",
    "left join fetch.items_processed c on a._id = c.receiptID\n",
    "left join fetch.brands_processed d on c.barcode = d.barcode\n",
    "group by \n",
    "  d.name, \n",
    "  c.description,\n",
    "  c.userFlaggedDescription\n",
    "order by 2 desc\n",
    "limit 1\n",
    "\n"
   ]
  },
  {
   "cell_type": "code",
   "execution_count": 0,
   "metadata": {
    "application/vnd.databricks.v1+cell": {
     "cellMetadata": {
      "byteLimit": 2048000,
      "implicitDf": true,
      "rowLimit": 10000
     },
     "inputWidgets": {},
     "nuid": "3c4e0148-42c4-42e4-bb80-3d521fd8585c",
     "showTitle": false,
     "tableResultSettingsMap": {},
     "title": ""
    }
   },
   "outputs": [
    {
     "output_type": "display_data",
     "data": {
      "text/html": [
       "<style scoped>\n",
       "  .table-result-container {\n",
       "    max-height: 300px;\n",
       "    overflow: auto;\n",
       "  }\n",
       "  table, th, td {\n",
       "    border: 1px solid black;\n",
       "    border-collapse: collapse;\n",
       "  }\n",
       "  th, td {\n",
       "    padding: 5px;\n",
       "  }\n",
       "  th {\n",
       "    text-align: left;\n",
       "  }\n",
       "</style><div class='table-result-container'><table class='table-result'><thead style='background-color: white'><tr><th>brand</th><th>purchasedItemCount</th></tr></thead><tbody><tr><td>1% Milk</td><td>3843</td></tr></tbody></table></div>"
      ]
     },
     "metadata": {
      "application/vnd.databricks.v1+output": {
       "addedWidgets": {},
       "aggData": [],
       "aggError": "",
       "aggOverflow": false,
       "aggSchema": [],
       "aggSeriesLimitReached": false,
       "aggType": "",
       "arguments": {},
       "columnCustomDisplayInfos": {},
       "data": [
        [
         "1% Milk",
         3843
        ]
       ],
       "datasetInfos": [
        {
         "name": "_sqldf",
         "schema": {
          "fields": [
           {
            "metadata": {},
            "name": "brand",
            "nullable": true,
            "type": "string"
           },
           {
            "metadata": {},
            "name": "purchasedItemCount",
            "nullable": true,
            "type": "long"
           }
          ],
          "type": "struct"
         },
         "tableIdentifier": null,
         "typeStr": "pyspark.sql.connect.dataframe.DataFrame"
        }
       ],
       "dbfsResultPath": null,
       "isJsonSchema": true,
       "metadata": {
        "createTempViewForImplicitDf": true,
        "dataframeName": "_sqldf",
        "executionCount": 67
       },
       "overflow": false,
       "plotOptions": {
        "customPlotOptions": {},
        "displayType": "table",
        "pivotAggregation": null,
        "pivotColumns": null,
        "xColumns": null,
        "yColumns": null
       },
       "removedWidgets": [],
       "schema": [
        {
         "metadata": "{}",
         "name": "brand",
         "type": "\"string\""
        },
        {
         "metadata": "{}",
         "name": "purchasedItemCount",
         "type": "\"long\""
        }
       ],
       "type": "table"
      }
     },
     "output_type": "display_data"
    }
   ],
   "source": [
    "%sql\n",
    "-- Question 6\n",
    "with receipts as (\n",
    "select _id, userId, purchasedItemCount\n",
    " from fetch.receipts_processed),\n",
    "\n",
    "recently_created_users as (\n",
    "select  \n",
    "  _id\n",
    "from fetch.users_processed\n",
    "where date_format(createdDate, 'yyyy-MM') >= (select date_format(add_months(max(to_date(createdDate, 'yyyy-MM')), -6), 'yyyy-MM') from fetch.users_processed))\n",
    "\n",
    "select \n",
    "  coalesce(coalesce(d.name, c.description), c.userFlaggedDescription) as brand,\n",
    "  sum(distinct purchasedItemCount) as purchasedItemCount\n",
    "from receipts a\n",
    "inner join recently_created_users b on a.userId = b._id\n",
    "left join fetch.items_processed c on a._id = c.receiptID\n",
    "left join fetch.brands_processed d on c.barcode = d.barcode\n",
    "group by \n",
    "  d.name, \n",
    "  c.description,\n",
    "  c.userFlaggedDescription\n",
    "order by 2 desc\n",
    "limit 1\n",
    "\n"
   ]
  },
  {
   "cell_type": "markdown",
   "metadata": {
    "application/vnd.databricks.v1+cell": {
     "cellMetadata": {},
     "inputWidgets": {},
     "nuid": "59584724-d1e5-4b5f-a0ba-5f3d7e5f9341",
     "showTitle": false,
     "tableResultSettingsMap": {},
     "title": ""
    }
   },
   "source": [
    "#### Communication with stakeholders"
   ]
  },
  {
   "cell_type": "markdown",
   "metadata": {
    "application/vnd.databricks.v1+cell": {
     "cellMetadata": {},
     "inputWidgets": {},
     "nuid": "1642e919-e454-474b-bd06-1efe8f90b87f",
     "showTitle": false,
     "tableResultSettingsMap": {},
     "title": ""
    }
   },
   "source": [
    "\n",
    "**To**: leadership@fetch.com\n",
    "\n",
    "**Subject**: Data Analysis Update + Request for Feedback\n",
    "\n",
    "Hi Everyone,\n",
    "\n",
    "I hope you're doing well! My name is Jose, and I’ve recently started diving into the company data provided to me a few days ago. I wanted to reach out with a few updates based on my initial analysis, as well as a few questions where your input would be really helpful.\n",
    "\n",
    "Below are five things I'd appreciate your feedback on:\n",
    "\n",
    "\n",
    "1. Which user-related metrics are most important to you (e.g., MAU, acquisition source, user location)? Given current data quality issues, would it be helpful to flag potentially impacted metrics or temporarily pause reporting while we work on resolving them?\n",
    "\n",
    "2. Did you anticipate data quality challenges in these datasets? I've found significant gaps—like missing values in key reporting fields—and would appreciate your input before moving forward with any data-cleaning approach.\n",
    "\n",
    "3. Could you connect me with the data engineering team(s) so that I can better understand how the brand dataset is maintained? From my analysis, product details and barcodes are essential for tracking user behavior. However, due to current data quality issues, it might be challenging to accurately identify opportunities that could drive more value for the company.\n",
    "\n",
    "4. Could you help point me to the right POC who can walk me through our current data architecture? Understanding whether we’re working with a Data Warehouse, Data Lake, or Data Lakehouse will help me design data assets that are aligned with both our existing setup and future business needs.\n",
    "\n",
    "5. Based on my analysis and the current structure of the datasets, I anticipate that real-time processing and scaling could become challenges as we move into production. To ensure we’re balancing performance, cost, and efficiency, I’d like to better understand how quickly the you need access to data for decision-making? With your input, I can recommend a more tailored solution. That said, given the unstructured nature of our data and expected growth in user activity, a Data Lake or Data Lakehouse paired with a scalable streaming tool like Amazon Kinesis could be a strong fit. \n",
    "\n",
    "\n",
    "Your insights will help me ensure that the data solutions I propose are aligned with your goals and priorities. If it would be easier to discuss any of this over a call, I’d be more than happy to schedule a follow-up meeting at your convenience.\n",
    "\n",
    "Looking forward to hearing your thoughts!\n",
    "\n",
    "\n",
    "Best,\n",
    "\n",
    "Jose Hercules\n"
   ]
  },
  {
   "cell_type": "markdown",
   "metadata": {
    "application/vnd.databricks.v1+cell": {
     "cellMetadata": {},
     "inputWidgets": {},
     "nuid": "a77e27f3-8e2c-4469-a560-57f4a6aca017",
     "showTitle": false,
     "tableResultSettingsMap": {},
     "title": ""
    }
   },
   "source": []
  }
 ],
 "metadata": {
  "application/vnd.databricks.v1+notebook": {
   "computePreferences": null,
   "dashboards": [],
   "environmentMetadata": {
    "base_environment": "",
    "environment_version": "2"
   },
   "inputWidgetPreferences": null,
   "language": "python",
   "notebookMetadata": {
    "mostRecentlyExecutedCommandWithImplicitDF": {
     "commandId": 5365535720010394,
     "dataframes": [
      "_sqldf"
     ]
    },
    "pythonIndentUnit": 4
   },
   "notebookName": "Fetch Coding Exercise",
   "widgets": {}
  },
  "language_info": {
   "name": "python"
  }
 },
 "nbformat": 4,
 "nbformat_minor": 0
}